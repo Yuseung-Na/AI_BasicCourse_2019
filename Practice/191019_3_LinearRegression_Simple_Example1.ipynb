{
 "cells": [
  {
   "cell_type": "code",
   "execution_count": 1,
   "metadata": {},
   "outputs": [],
   "source": [
    "import numpy as np"
   ]
  },
  {
   "cell_type": "markdown",
   "metadata": {},
   "source": [
    "##### 미분 값 계산"
   ]
  },
  {
   "cell_type": "code",
   "execution_count": 2,
   "metadata": {},
   "outputs": [],
   "source": [
    "def numerical_derivative(f, x):\n",
    "    delta_x = 1e-4 # 0.0001\n",
    "    grad = np.zeros_like(x)\n",
    "    \n",
    "    it = np.nditer(x, flags=['multi_index'], op_flags=['readwrite'])\n",
    "    \n",
    "    while not it.finished:\n",
    "        idx = it.multi_index        \n",
    "        tmp_val = x[idx]\n",
    "        x[idx] = float(tmp_val) + delta_x\n",
    "        fx1 = f(x) # f(x+delta_x)\n",
    "        \n",
    "        x[idx] = tmp_val - delta_x \n",
    "        fx2 = f(x) # f(x-delta_x)\n",
    "        grad[idx] = (fx1 - fx2) / (2*delta_x)\n",
    "        \n",
    "        x[idx] = tmp_val \n",
    "        it.iternext()   \n",
    "        \n",
    "    return grad"
   ]
  },
  {
   "cell_type": "markdown",
   "metadata": {},
   "source": [
    "##### x값, y값 대입"
   ]
  },
  {
   "cell_type": "code",
   "execution_count": 3,
   "metadata": {},
   "outputs": [
    {
     "name": "stdout",
     "output_type": "stream",
     "text": [
      "x_data.shape =  (5, 1) , t_data.shape =  (5, 1)\n"
     ]
    }
   ],
   "source": [
    "x_data = np.array([1, 2, 3, 4, 5]).reshape(5, 1)\n",
    "t_data = np.array([2, 3, 4, 5, 6]).reshape(5, 1)\n",
    "\n",
    "print(\"x_data.shape = \", x_data.shape, \", t_data.shape = \", t_data.shape)"
   ]
  },
  {
   "cell_type": "markdown",
   "metadata": {},
   "source": [
    "##### W, b에 랜덤 값 대입"
   ]
  },
  {
   "cell_type": "code",
   "execution_count": 4,
   "metadata": {},
   "outputs": [
    {
     "name": "stdout",
     "output_type": "stream",
     "text": [
      "W =  [[0.26017995]] , W.shape =  (1, 1) , b =  [0.98033821] , b.shape =  (1,)\n"
     ]
    }
   ],
   "source": [
    "W = np.random.rand(1, 1)\n",
    "b = np.random.rand(1)\n",
    "\n",
    "print(\"W = \", W, \", W.shape = \", W.shape, \", b = \", b, \", b.shape = \", b.shape)"
   ]
  },
  {
   "cell_type": "markdown",
   "metadata": {},
   "source": [
    "##### 손실 함수 정의"
   ]
  },
  {
   "cell_type": "code",
   "execution_count": 5,
   "metadata": {},
   "outputs": [],
   "source": [
    "def loss_func(x, t):\n",
    "    y = np.dot(x, W) + b\n",
    "    \n",
    "    return (np.sum((t - y)**2)) / (len(x))"
   ]
  },
  {
   "cell_type": "markdown",
   "metadata": {},
   "source": [
    "##### 손실 함수 값 계산\n",
    "입력 변수: x, t -> numpy type"
   ]
  },
  {
   "cell_type": "code",
   "execution_count": 6,
   "metadata": {},
   "outputs": [],
   "source": [
    "def loss_val(x, t):\n",
    "    y = np.dot(x, W) + b\n",
    "    \n",
    "    return (np.sum((t - y)**2)) / (len(x))"
   ]
  },
  {
   "cell_type": "markdown",
   "metadata": {},
   "source": [
    "##### 학습 마친 후, 임의의 데이터에 대해 미래 값 예측\n",
    "입력 변수: x -> numpy type"
   ]
  },
  {
   "cell_type": "code",
   "execution_count": 7,
   "metadata": {},
   "outputs": [],
   "source": [
    "def predict(x):\n",
    "    y = np.dot(x, W) + b\n",
    "    \n",
    "    return y"
   ]
  },
  {
   "cell_type": "markdown",
   "metadata": {},
   "source": [
    "##### learning 과정\n",
    "\n",
    "learning_rate를 변경해 보고, 반복 횟수를 변경 했을 때에도 변화가 없다면 learning_rate를 다시 다른 값으로 바꿔서 해봐야 함\n",
    "\n",
    "일반적으로 소수점 자리 수를 우선 바꿔보고, 미세한 조절을 진행함"
   ]
  },
  {
   "cell_type": "code",
   "execution_count": 8,
   "metadata": {
    "scrolled": false
   },
   "outputs": [
    {
     "name": "stdout",
     "output_type": "stream",
     "text": [
      "Initial loss value =  6.108334544010178 Initial W =  [[0.26017995]] \n",
      " , b =  [0.98033821]\n",
      "step =  0 loss value =  3.595436972145413 W =  [[0.42412006]] , b =  [1.01528424]\n",
      "step =  400 loss value =  0.0002018718588192883 W =  [[0.99077355]] , b =  [1.03330226]\n",
      "step =  800 loss value =  1.2880618053615777e-05 W =  [[0.99766941]] , b =  [1.00841209]\n",
      "step =  1200 loss value =  8.218595816843564e-07 W =  [[0.9994113]] , b =  [1.00212488]\n",
      "step =  1600 loss value =  5.243950012306926e-08 W =  [[0.99985129]] , b =  [1.00053674]\n",
      "step =  2000 loss value =  3.3459501288206005e-09 W =  [[0.99996244]] , b =  [1.00013558]\n",
      "step =  2400 loss value =  2.1349139937340317e-10 W =  [[0.99999051]] , b =  [1.00003425]\n",
      "step =  2800 loss value =  1.3622013434431829e-11 W =  [[0.9999976]] , b =  [1.00000865]\n",
      "step =  3200 loss value =  8.691649921513939e-13 W =  [[0.99999939]] , b =  [1.00000219]\n",
      "step =  3600 loss value =  5.545786480533967e-14 W =  [[0.99999985]] , b =  [1.00000055]\n",
      "step =  4000 loss value =  3.5385397341128594e-15 W =  [[0.99999996]] , b =  [1.00000014]\n",
      "step =  4400 loss value =  2.2577975292097255e-16 W =  [[0.99999999]] , b =  [1.00000004]\n",
      "step =  4800 loss value =  1.4406082792083053e-17 W =  [[1.]] , b =  [1.00000001]\n",
      "step =  5200 loss value =  9.19194905224407e-19 W =  [[1.]] , b =  [1.]\n",
      "step =  5600 loss value =  5.865004510475074e-20 W =  [[1.]] , b =  [1.]\n",
      "step =  6000 loss value =  3.742161474104875e-21 W =  [[1.]] , b =  [1.]\n",
      "step =  6400 loss value =  2.3877037110660113e-22 W =  [[1.]] , b =  [1.]\n",
      "step =  6800 loss value =  1.5237498169071473e-23 W =  [[1.]] , b =  [1.]\n",
      "step =  7200 loss value =  9.731544321265636e-25 W =  [[1.]] , b =  [1.]\n",
      "step =  7600 loss value =  6.248819665745305e-26 W =  [[1.]] , b =  [1.]\n",
      "step =  8000 loss value =  4.160294641954572e-27 W =  [[1.]] , b =  [1.]\n"
     ]
    }
   ],
   "source": [
    "learning_rate = 1e-2  # hyper-parameter, 변경 해 보기\n",
    "\n",
    "f = lambda x : loss_func(x_data, t_data)\n",
    "\n",
    "print(\"Initial loss value = \", loss_val(x_data, t_data), \"Initial W = \", W, \"\\n\", \", b = \", b )\n",
    "\n",
    "for step in range(8001):  # hyper-parameter, 변경 해 보기\n",
    "    W -= learning_rate * numerical_derivative(f, W)\n",
    "    b -= learning_rate * numerical_derivative(f, b)\n",
    "    \n",
    "    if (step % 400 == 0):\n",
    "        print(\"step = \", step, \"loss value = \", loss_val(x_data, t_data), \"W = \", W, \", b = \",b )"
   ]
  },
  {
   "cell_type": "markdown",
   "metadata": {},
   "source": [
    "##### 임의의 값 대입하여 예측"
   ]
  },
  {
   "cell_type": "code",
   "execution_count": 9,
   "metadata": {},
   "outputs": [
    {
     "data": {
      "text/plain": [
       "array([44.])"
      ]
     },
     "execution_count": 9,
     "metadata": {},
     "output_type": "execute_result"
    }
   ],
   "source": [
    "predict(np.array([43]))"
   ]
  },
  {
   "cell_type": "markdown",
   "metadata": {},
   "source": [
    "머신러닝 -> 리눅스를 사용하는게 맞음!  \n",
    "윈도우의 경우 백그라운드 프로세스를 제어할 수 없으나(소스코드를 변경하거나 접근 불가능 하기 때문)  \n",
    "리눅스의 경우 /etc/inittab 에서 원하는 프로세스만 실행할 수 있도록 제어할 수 있음  \n",
    "대부분의 머신러닝 서버는 리눅스로 구성되어 있음 (Google의 경우 모든 것이 리눅스)  \n",
    "그 이유는 프로세스가 돌아가는 것에 따라 컴퓨터 환경이 달라지기 때문에 그 때마다 parameter 값이 변할 수 있기 때문에..\n",
    "\n",
    "리눅스의 부팅 서비스나 메모리 관련된 부분을 꼭 공부해두기  \n",
    "윈도우 에서 virtual box를 사용하는 것도 윈도우 위에서 올리는 것이기 때문에  \n",
    "'docker'를 사용하면 됨!"
   ]
  },
  {
   "cell_type": "code",
   "execution_count": null,
   "metadata": {},
   "outputs": [],
   "source": []
  }
 ],
 "metadata": {
  "kernelspec": {
   "display_name": "Python 3",
   "language": "python",
   "name": "python3"
  },
  "language_info": {
   "codemirror_mode": {
    "name": "ipython",
    "version": 3
   },
   "file_extension": ".py",
   "mimetype": "text/x-python",
   "name": "python",
   "nbconvert_exporter": "python",
   "pygments_lexer": "ipython3",
   "version": "3.7.4"
  }
 },
 "nbformat": 4,
 "nbformat_minor": 2
}

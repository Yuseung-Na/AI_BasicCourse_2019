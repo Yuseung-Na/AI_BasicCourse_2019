{
 "cells": [
  {
   "cell_type": "code",
   "execution_count": 11,
   "metadata": {},
   "outputs": [],
   "source": [
    "import tensorflow as tf\n",
    "from tensorflow.examples.tutorials.mnist import input_data\n",
    "import numpy as np\n",
    "from datetime import datetime"
   ]
  },
  {
   "cell_type": "markdown",
   "metadata": {},
   "source": [
    "### data load"
   ]
  },
  {
   "cell_type": "code",
   "execution_count": 12,
   "metadata": {},
   "outputs": [
    {
     "name": "stdout",
     "output_type": "stream",
     "text": [
      "Extracting MNIST_data/train-images-idx3-ubyte.gz\n",
      "Extracting MNIST_data/train-labels-idx1-ubyte.gz\n",
      "Extracting MNIST_data/t10k-images-idx3-ubyte.gz\n",
      "Extracting MNIST_data/t10k-labels-idx1-ubyte.gz\n",
      "\n",
      "train.num = 55000 , test.num = 10000 , validation.num = 5000\n"
     ]
    }
   ],
   "source": [
    "mnist = input_data.read_data_sets(\"MNIST_data/\", one_hot=True)\n",
    "\n",
    "print(\"\")\n",
    "print(\"train.num =\", mnist.train.num_examples,\n",
    "     \", test.num =\", mnist.test.num_examples,\n",
    "     \", validation.num =\", mnist.validation.num_examples)"
   ]
  },
  {
   "cell_type": "markdown",
   "metadata": {},
   "source": [
    "### hyper parameter "
   ]
  },
  {
   "cell_type": "code",
   "execution_count": 13,
   "metadata": {},
   "outputs": [],
   "source": [
    "# Hyper-Parameter\n",
    "learning_rate = 1e-3\n",
    "epochs = 30\n",
    "batch_size = 100"
   ]
  },
  {
   "cell_type": "code",
   "execution_count": 14,
   "metadata": {},
   "outputs": [],
   "source": [
    "# 입력과 정답을 위한 플레이스홀더 정의\n",
    "X = tf.placeholder(tf.float32, [None, 784])  \n",
    "T = tf.placeholder(tf.float32, [None, 10])  \n",
    "\n",
    "# 입력층의 출력 값. 컨볼루션 연산을 위해 reshape 시킴\n",
    "A1 = X_img = tf.reshape(X, [-1, 28, 28, 1])  # image 28 x 28 x 1 (black / white)"
   ]
  },
  {
   "cell_type": "markdown",
   "metadata": {},
   "source": [
    "### 컨볼루션층 1"
   ]
  },
  {
   "cell_type": "code",
   "execution_count": 15,
   "metadata": {},
   "outputs": [],
   "source": [
    "# 1번째 컨볼루션 층, 3x3x32 필터\n",
    "W2 = tf.Variable(tf.random_normal([3, 3, 1, 32], stddev=0.01))\n",
    "b2 = tf.Variable(tf.random_normal([32]))\n",
    "\n",
    "# 1번째 컨볼루션 연산을 통해 28 x 28 x 1 => 28 x 28 x 32\n",
    "C2 = tf.nn.conv2d(A1, W2, strides=[1, 1, 1, 1], padding='SAME')\n",
    "\n",
    "# relu\n",
    "Z2 = tf.nn.relu(C2+b2)\n",
    "\n",
    "# 1번째 max pooling을 통해 28 x 28 x 32 => 14 x 14 x 32\n",
    "A2 = P2 = tf.nn.max_pool(Z2, ksize=[1, 2, 2, 1], strides=[1, 2, 2, 1], padding='SAME')"
   ]
  },
  {
   "cell_type": "markdown",
   "metadata": {},
   "source": [
    "### 완전연결층 "
   ]
  },
  {
   "cell_type": "code",
   "execution_count": 16,
   "metadata": {},
   "outputs": [],
   "source": [
    "# 14 x 14 크기를 가진 32개의 activation map을 flatten 시킴\n",
    "A2_flat = P2_flat = tf.reshape(A2, [-1, 14*14*32])"
   ]
  },
  {
   "cell_type": "markdown",
   "metadata": {},
   "source": [
    "### 출력층"
   ]
  },
  {
   "cell_type": "code",
   "execution_count": 17,
   "metadata": {},
   "outputs": [],
   "source": [
    "# 출력층\n",
    "W3 = tf.Variable(tf.random_normal([14*14*32, 10], stddev=0.01))\n",
    "b3 = tf.Variable(tf.random_normal([10]))\n",
    "\n",
    "# 출력층 선형회귀 값 Z3, 즉 softmax 에 들어가는 입력 값\n",
    "Z3 = logits = tf.matmul(A2_flat, W3) + b3\n",
    "\n",
    "y = A3 = tf.nn.softmax(Z3)"
   ]
  },
  {
   "cell_type": "code",
   "execution_count": 18,
   "metadata": {},
   "outputs": [],
   "source": [
    "loss = tf.reduce_mean(tf.nn.softmax_cross_entropy_with_logits_v2(logits = Z3, labels = T))\n",
    "\n",
    "optimizer = tf.train.AdamOptimizer(learning_rate)\n",
    "\n",
    "train = optimizer.minimize(loss)"
   ]
  },
  {
   "cell_type": "code",
   "execution_count": 19,
   "metadata": {},
   "outputs": [],
   "source": [
    "# batch_size x 10 데이터에 대해 argmax를 통해 행단위로 비교함\n",
    "predicted_val = tf.equal(tf.argmax(A3, 1), tf.argmax(T, 1))\n",
    "\n",
    "# batch_size x 10 의 True, False 를 1 또는 0 으로 변환\n",
    "accuracy = tf.reduce_mean(tf.cast(predicted_val, dtype=tf.float32))"
   ]
  },
  {
   "cell_type": "code",
   "execution_count": 20,
   "metadata": {
    "scrolled": true
   },
   "outputs": [
    {
     "name": "stdout",
     "output_type": "stream",
     "text": [
      "epochs =  0 , step =  0 , loss_val =  2.9792135\n",
      "epochs =  0 , step =  100 , loss_val =  1.4580147\n",
      "epochs =  0 , step =  200 , loss_val =  0.5439368\n",
      "epochs =  0 , step =  300 , loss_val =  0.33295545\n",
      "epochs =  0 , step =  400 , loss_val =  0.41510475\n",
      "epochs =  0 , step =  500 , loss_val =  0.44298196\n",
      "epochs =  1 , step =  0 , loss_val =  0.3718492\n",
      "epochs =  1 , step =  100 , loss_val =  0.39696172\n",
      "epochs =  1 , step =  200 , loss_val =  0.4033933\n",
      "epochs =  1 , step =  300 , loss_val =  0.27315497\n",
      "epochs =  1 , step =  400 , loss_val =  0.32061127\n",
      "epochs =  1 , step =  500 , loss_val =  0.11482627\n",
      "epochs =  2 , step =  0 , loss_val =  0.22714698\n",
      "epochs =  2 , step =  100 , loss_val =  0.30556133\n",
      "epochs =  2 , step =  200 , loss_val =  0.14649706\n",
      "epochs =  2 , step =  300 , loss_val =  0.2502213\n",
      "epochs =  2 , step =  400 , loss_val =  0.33676213\n",
      "epochs =  2 , step =  500 , loss_val =  0.23091894\n",
      "epochs =  3 , step =  0 , loss_val =  0.2694272\n",
      "epochs =  3 , step =  100 , loss_val =  0.23370053\n",
      "epochs =  3 , step =  200 , loss_val =  0.17675386\n",
      "epochs =  3 , step =  300 , loss_val =  0.19129299\n",
      "epochs =  3 , step =  400 , loss_val =  0.13790861\n",
      "epochs =  3 , step =  500 , loss_val =  0.36378115\n",
      "epochs =  4 , step =  0 , loss_val =  0.22738308\n",
      "epochs =  4 , step =  100 , loss_val =  0.27466503\n",
      "epochs =  4 , step =  200 , loss_val =  0.08209123\n",
      "epochs =  4 , step =  300 , loss_val =  0.22119027\n",
      "epochs =  4 , step =  400 , loss_val =  0.13388433\n",
      "epochs =  4 , step =  500 , loss_val =  0.14207594\n",
      "epochs =  5 , step =  0 , loss_val =  0.13151917\n",
      "epochs =  5 , step =  100 , loss_val =  0.18948615\n",
      "epochs =  5 , step =  200 , loss_val =  0.33647868\n",
      "epochs =  5 , step =  300 , loss_val =  0.2158329\n",
      "epochs =  5 , step =  400 , loss_val =  0.09983687\n",
      "epochs =  5 , step =  500 , loss_val =  0.1382403\n",
      "epochs =  6 , step =  0 , loss_val =  0.12223428\n",
      "epochs =  6 , step =  100 , loss_val =  0.09997817\n",
      "epochs =  6 , step =  200 , loss_val =  0.21167964\n",
      "epochs =  6 , step =  300 , loss_val =  0.25692067\n",
      "epochs =  6 , step =  400 , loss_val =  0.08541672\n",
      "epochs =  6 , step =  500 , loss_val =  0.06468894\n",
      "epochs =  7 , step =  0 , loss_val =  0.086574994\n",
      "epochs =  7 , step =  100 , loss_val =  0.20204006\n",
      "epochs =  7 , step =  200 , loss_val =  0.21401076\n",
      "epochs =  7 , step =  300 , loss_val =  0.101935446\n",
      "epochs =  7 , step =  400 , loss_val =  0.23813201\n",
      "epochs =  7 , step =  500 , loss_val =  0.20229122\n",
      "epochs =  8 , step =  0 , loss_val =  0.14032069\n",
      "epochs =  8 , step =  100 , loss_val =  0.12134328\n",
      "epochs =  8 , step =  200 , loss_val =  0.13444524\n",
      "epochs =  8 , step =  300 , loss_val =  0.0848984\n",
      "epochs =  8 , step =  400 , loss_val =  0.17081684\n",
      "epochs =  8 , step =  500 , loss_val =  0.17270641\n",
      "epochs =  9 , step =  0 , loss_val =  0.09095751\n",
      "epochs =  9 , step =  100 , loss_val =  0.09766436\n",
      "epochs =  9 , step =  200 , loss_val =  0.06546416\n",
      "epochs =  9 , step =  300 , loss_val =  0.12216281\n",
      "epochs =  9 , step =  400 , loss_val =  0.18047899\n",
      "epochs =  9 , step =  500 , loss_val =  0.07451254\n",
      "epochs =  10 , step =  0 , loss_val =  0.15575294\n",
      "epochs =  10 , step =  100 , loss_val =  0.10214397\n",
      "epochs =  10 , step =  200 , loss_val =  0.06289548\n",
      "epochs =  10 , step =  300 , loss_val =  0.09699479\n",
      "epochs =  10 , step =  400 , loss_val =  0.07397678\n",
      "epochs =  10 , step =  500 , loss_val =  0.08144291\n",
      "epochs =  11 , step =  0 , loss_val =  0.14643773\n",
      "epochs =  11 , step =  100 , loss_val =  0.070848405\n",
      "epochs =  11 , step =  200 , loss_val =  0.1545828\n",
      "epochs =  11 , step =  300 , loss_val =  0.08271215\n",
      "epochs =  11 , step =  400 , loss_val =  0.071911834\n",
      "epochs =  11 , step =  500 , loss_val =  0.12441234\n",
      "epochs =  12 , step =  0 , loss_val =  0.104699224\n",
      "epochs =  12 , step =  100 , loss_val =  0.1572772\n",
      "epochs =  12 , step =  200 , loss_val =  0.17490299\n",
      "epochs =  12 , step =  300 , loss_val =  0.11086039\n",
      "epochs =  12 , step =  400 , loss_val =  0.16081892\n",
      "epochs =  12 , step =  500 , loss_val =  0.08452001\n",
      "epochs =  13 , step =  0 , loss_val =  0.11171722\n",
      "epochs =  13 , step =  100 , loss_val =  0.13183618\n",
      "epochs =  13 , step =  200 , loss_val =  0.09383913\n",
      "epochs =  13 , step =  300 , loss_val =  0.044062927\n",
      "epochs =  13 , step =  400 , loss_val =  0.026746113\n",
      "epochs =  13 , step =  500 , loss_val =  0.045350537\n",
      "epochs =  14 , step =  0 , loss_val =  0.11674218\n",
      "epochs =  14 , step =  100 , loss_val =  0.042149883\n",
      "epochs =  14 , step =  200 , loss_val =  0.060632035\n",
      "epochs =  14 , step =  300 , loss_val =  0.26562855\n",
      "epochs =  14 , step =  400 , loss_val =  0.08112342\n",
      "epochs =  14 , step =  500 , loss_val =  0.04053162\n",
      "epochs =  15 , step =  0 , loss_val =  0.0744024\n",
      "epochs =  15 , step =  100 , loss_val =  0.06142979\n",
      "epochs =  15 , step =  200 , loss_val =  0.03406688\n",
      "epochs =  15 , step =  300 , loss_val =  0.12505515\n",
      "epochs =  15 , step =  400 , loss_val =  0.021889264\n",
      "epochs =  15 , step =  500 , loss_val =  0.015305197\n",
      "epochs =  16 , step =  0 , loss_val =  0.042839017\n",
      "epochs =  16 , step =  100 , loss_val =  0.042222783\n",
      "epochs =  16 , step =  200 , loss_val =  0.034263447\n",
      "epochs =  16 , step =  300 , loss_val =  0.059995007\n",
      "epochs =  16 , step =  400 , loss_val =  0.095550835\n",
      "epochs =  16 , step =  500 , loss_val =  0.11916488\n",
      "epochs =  17 , step =  0 , loss_val =  0.05657772\n",
      "epochs =  17 , step =  100 , loss_val =  0.041407898\n",
      "epochs =  17 , step =  200 , loss_val =  0.080680035\n",
      "epochs =  17 , step =  300 , loss_val =  0.033110637\n",
      "epochs =  17 , step =  400 , loss_val =  0.016316276\n",
      "epochs =  17 , step =  500 , loss_val =  0.080093145\n",
      "epochs =  18 , step =  0 , loss_val =  0.03737206\n",
      "epochs =  18 , step =  100 , loss_val =  0.08163617\n",
      "epochs =  18 , step =  200 , loss_val =  0.060764983\n",
      "epochs =  18 , step =  300 , loss_val =  0.06368961\n",
      "epochs =  18 , step =  400 , loss_val =  0.03642214\n",
      "epochs =  18 , step =  500 , loss_val =  0.07364934\n",
      "epochs =  19 , step =  0 , loss_val =  0.05384997\n",
      "epochs =  19 , step =  100 , loss_val =  0.022701334\n",
      "epochs =  19 , step =  200 , loss_val =  0.040033028\n",
      "epochs =  19 , step =  300 , loss_val =  0.051613294\n",
      "epochs =  19 , step =  400 , loss_val =  0.031590443\n",
      "epochs =  19 , step =  500 , loss_val =  0.12932728\n",
      "epochs =  20 , step =  0 , loss_val =  0.029862983\n",
      "epochs =  20 , step =  100 , loss_val =  0.018718231\n",
      "epochs =  20 , step =  200 , loss_val =  0.074353136\n",
      "epochs =  20 , step =  300 , loss_val =  0.06683471\n",
      "epochs =  20 , step =  400 , loss_val =  0.02929769\n",
      "epochs =  20 , step =  500 , loss_val =  0.027113043\n",
      "epochs =  21 , step =  0 , loss_val =  0.018712476\n",
      "epochs =  21 , step =  100 , loss_val =  0.021843988\n",
      "epochs =  21 , step =  200 , loss_val =  0.024089055\n",
      "epochs =  21 , step =  300 , loss_val =  0.020335756\n",
      "epochs =  21 , step =  400 , loss_val =  0.020429779\n",
      "epochs =  21 , step =  500 , loss_val =  0.031186953\n",
      "epochs =  22 , step =  0 , loss_val =  0.07299099\n",
      "epochs =  22 , step =  100 , loss_val =  0.04096275\n",
      "epochs =  22 , step =  200 , loss_val =  0.030616142\n",
      "epochs =  22 , step =  300 , loss_val =  0.018277291\n",
      "epochs =  22 , step =  400 , loss_val =  0.0072137266\n",
      "epochs =  22 , step =  500 , loss_val =  0.008873049\n",
      "epochs =  23 , step =  0 , loss_val =  0.033358604\n",
      "epochs =  23 , step =  100 , loss_val =  0.09866653\n",
      "epochs =  23 , step =  200 , loss_val =  0.031736396\n",
      "epochs =  23 , step =  300 , loss_val =  0.049166117\n",
      "epochs =  23 , step =  400 , loss_val =  0.09072771\n",
      "epochs =  23 , step =  500 , loss_val =  0.026479201\n",
      "epochs =  24 , step =  0 , loss_val =  0.0028268045\n",
      "epochs =  24 , step =  100 , loss_val =  0.025470717\n",
      "epochs =  24 , step =  200 , loss_val =  0.033172127\n",
      "epochs =  24 , step =  300 , loss_val =  0.01051147\n",
      "epochs =  24 , step =  400 , loss_val =  0.029017054\n",
      "epochs =  24 , step =  500 , loss_val =  0.045534953\n",
      "epochs =  25 , step =  0 , loss_val =  0.03640537\n",
      "epochs =  25 , step =  100 , loss_val =  0.09398493\n",
      "epochs =  25 , step =  200 , loss_val =  0.041588254\n",
      "epochs =  25 , step =  300 , loss_val =  0.022121351\n",
      "epochs =  25 , step =  400 , loss_val =  0.083570346\n",
      "epochs =  25 , step =  500 , loss_val =  0.015646923\n",
      "epochs =  26 , step =  0 , loss_val =  0.01314176\n",
      "epochs =  26 , step =  100 , loss_val =  0.036756538\n",
      "epochs =  26 , step =  200 , loss_val =  0.057879664\n"
     ]
    },
    {
     "name": "stdout",
     "output_type": "stream",
     "text": [
      "epochs =  26 , step =  300 , loss_val =  0.08342453\n",
      "epochs =  26 , step =  400 , loss_val =  0.03633991\n",
      "epochs =  26 , step =  500 , loss_val =  0.016219763\n",
      "epochs =  27 , step =  0 , loss_val =  0.024167912\n",
      "epochs =  27 , step =  100 , loss_val =  0.008900572\n",
      "epochs =  27 , step =  200 , loss_val =  0.027936738\n",
      "epochs =  27 , step =  300 , loss_val =  0.05866648\n",
      "epochs =  27 , step =  400 , loss_val =  0.046255182\n",
      "epochs =  27 , step =  500 , loss_val =  0.0578973\n",
      "epochs =  28 , step =  0 , loss_val =  0.021993086\n",
      "epochs =  28 , step =  100 , loss_val =  0.011280827\n",
      "epochs =  28 , step =  200 , loss_val =  0.10884972\n",
      "epochs =  28 , step =  300 , loss_val =  0.05047854\n",
      "epochs =  28 , step =  400 , loss_val =  0.0047609187\n",
      "epochs =  28 , step =  500 , loss_val =  0.020639656\n",
      "epochs =  29 , step =  0 , loss_val =  0.022622809\n",
      "epochs =  29 , step =  100 , loss_val =  0.017067138\n",
      "epochs =  29 , step =  200 , loss_val =  0.0762514\n",
      "epochs =  29 , step =  300 , loss_val =  0.026538825\n",
      "epochs =  29 , step =  400 , loss_val =  0.018569756\n",
      "epochs =  29 , step =  500 , loss_val =  0.06800668\n",
      "\n",
      "Elapsed Time =>  0:06:39.260324\n",
      "\n",
      "Accuracy = 0.9773\n"
     ]
    }
   ],
   "source": [
    "with tf.Session() as sess:  # with를 쓰면 close 하지 않아도 됨\n",
    "    sess.run(tf.global_variables_initializer())  # 변수 노드 (tf.Variable) 초기화\n",
    "    \n",
    "    start_time = datetime.now()\n",
    "    \n",
    "    for i in range(epochs):  # 30번 반복 수행\n",
    "        total_batch = int(mnist.train.num_examples / batch_size)  # 55000 / 100\n",
    "        \n",
    "        for step in range(total_batch):\n",
    "            batch_x_data, batch_t_data = mnist.train.next_batch(batch_size)\n",
    "            \n",
    "            loss_val, _ = sess.run([loss, train], feed_dict={X: batch_x_data, T: batch_t_data})    \n",
    "        \n",
    "            if step % 100 == 0:\n",
    "                print(\"epochs = \", i, \", step = \", step, \", loss_val = \", loss_val)             \n",
    "    \n",
    "    end_time = datetime.now()\n",
    "    \n",
    "    print(\"\")\n",
    "    print(\"Elapsed Time => \", end_time-start_time)\n",
    "    \n",
    "    # Accuracy 확인\n",
    "    test_x_data = mnist.test.images  # 10000 x 784\n",
    "    test_t_data = mnist.test.labels  # 10000 x 10\n",
    "    \n",
    "    accuracy_val = sess.run(accuracy, feed_dict={X: test_x_data, T: test_t_data})\n",
    "    \n",
    "    print(\"\\nAccuracy =\", accuracy_val)"
   ]
  },
  {
   "cell_type": "code",
   "execution_count": null,
   "metadata": {},
   "outputs": [],
   "source": []
  }
 ],
 "metadata": {
  "kernelspec": {
   "display_name": "Python 3",
   "language": "python",
   "name": "python3"
  },
  "language_info": {
   "codemirror_mode": {
    "name": "ipython",
    "version": 3
   },
   "file_extension": ".py",
   "mimetype": "text/x-python",
   "name": "python",
   "nbconvert_exporter": "python",
   "pygments_lexer": "ipython3",
   "version": "3.7.4"
  }
 },
 "nbformat": 4,
 "nbformat_minor": 2
}

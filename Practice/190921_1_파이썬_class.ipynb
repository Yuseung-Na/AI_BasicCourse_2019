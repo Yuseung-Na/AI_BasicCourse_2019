{
 "cells": [
  {
   "cell_type": "markdown",
   "metadata": {},
   "source": [
    "##### 클래스 - class"
   ]
  },
  {
   "cell_type": "code",
   "execution_count": 2,
   "metadata": {},
   "outputs": [
    {
     "name": "stdout",
     "output_type": "stream",
     "text": [
      "PARK is initialized\n",
      "PARK is working in ABCDEF\n",
      "PARK is sleeping\n",
      "current person object is PARK\n",
      "current person object is PARK\n"
     ]
    }
   ],
   "source": [
    "class Person:\n",
    "    def __init__(self, name):\n",
    "        self.name = name\n",
    "        print(self.name + \" is initialized\")\n",
    "        \n",
    "    def work(self, company):\n",
    "        print(self.name + \" is working in \" + company)\n",
    "        \n",
    "    def sleep(self):\n",
    "        print(self.name + \" is sleeping\")\n",
    "        \n",
    "# Person instance 2개 생성\n",
    "obj = Person(\"PARK\")\n",
    "\n",
    "# method call\n",
    "obj.work(\"ABCDEF\")\n",
    "obj.sleep()\n",
    "\n",
    "# 속성에 직접 접근, 기본적으로 파이썬에서는 모두 public\n",
    "print(\"current person object is \" + obj.name)\n",
    "print(\"current person object is\", obj.name)"
   ]
  },
  {
   "cell_type": "code",
   "execution_count": 7,
   "metadata": {},
   "outputs": [
    {
     "name": "stdout",
     "output_type": "stream",
     "text": [
      "initialized with PARK, KIM\n",
      "PARK\n",
      "PARK KIM\n",
      "('PARK', 'KIM')\n"
     ]
    }
   ],
   "source": [
    "class PrivateMemberTest:\n",
    "    def __init__(self, name1, name2):\n",
    "        self.name1 = name1\n",
    "        self.__name2 = name2  # private memver variable\n",
    "        print(\"initialized with \" + name1 + ', ' + name2)\n",
    "        \n",
    "    def getNames(self):\n",
    "        self.__printNames()\n",
    "        return self.name1, self.__name2\n",
    "    \n",
    "    def __printNames(self):  # private member method\n",
    "        print(self.name1, self.__name2)\n",
    "        \n",
    "# 인스턴스 생성\n",
    "obj = PrivateMemberTest(\"PARK\", \"KIM\")\n",
    "\n",
    "print(obj.name1)\n",
    "print(obj.getNames())\n",
    "#print(obj.__printNames())  # error 발생\n",
    "#print(obj.__name2)         # error 발생"
   ]
  },
  {
   "cell_type": "code",
   "execution_count": 8,
   "metadata": {},
   "outputs": [
    {
     "name": "stdout",
     "output_type": "stream",
     "text": [
      "[def]  LEE\n",
      "[SameTest]  LEE\n",
      "[def]  KIM\n",
      "[SameTest]  KIM\n"
     ]
    }
   ],
   "source": [
    "def print_name(name):\n",
    "    print(\"[def] \", name)\n",
    "\n",
    "class SameTest:\n",
    "    def __init__(self):\n",
    "        # 아무것도 안하기 때문에 pass\n",
    "        pass\n",
    "    # 외부 함수와 동일한 이름으로 method 정의\n",
    "    def print_name(self, name):\n",
    "        print(\"[SameTest] \", name)\n",
    "    def call_test(self):\n",
    "        # 외부 함수 호출\n",
    "        print_name(\"KIM\")\n",
    "        \n",
    "        # 클래스 내부 method 호출\n",
    "        self.print_name(\"KIM\")\n",
    "        \n",
    "# create SameTest object\n",
    "obj = SameTest()\n",
    "\n",
    "# call function print_name\n",
    "print_name(\"LEE\")\n",
    "\n",
    "# call method print_name\n",
    "obj.print_name(\"LEE\")\n",
    "\n",
    "# call method call_test\n",
    "obj.call_test()"
   ]
  },
  {
   "cell_type": "markdown",
   "metadata": {},
   "source": [
    "##### 예외처리 - exception"
   ]
  },
  {
   "cell_type": "code",
   "execution_count": 13,
   "metadata": {},
   "outputs": [
    {
     "name": "stdout",
     "output_type": "stream",
     "text": [
      "6\n"
     ]
    }
   ],
   "source": [
    "def calc(list_data):\n",
    "    sum = 0\n",
    "    \n",
    "    try:\n",
    "        sum = list_data[0] + list_data[1] + list_data[2]\n",
    "        \n",
    "        if sum < 0:\n",
    "            raise Exception(\"Sum is minus\")\n",
    "            \n",
    "    except indexError as err:\n",
    "        print(str(err))\n",
    "    except Exception as err:\n",
    "        print(str(err))\n",
    "    finally:  # error가 나든 안나든 무조건 실행 -> 꼭 처리 해야할 일이 있을 때 (ex, file을 오픈하는 프로그램 -> 반드시 닫아줘야 함, 메모리 삭제 등)\n",
    "        print(sum)\n",
    "        \n",
    "#calc([1, 2])  # index error 발생\n",
    "#calc([1, 2, -100])  # 인위적인 exception 발생\n",
    "calc([1, 2, 3])"
   ]
  },
  {
   "cell_type": "markdown",
   "metadata": {},
   "source": [
    "##### with 구문"
   ]
  },
  {
   "cell_type": "code",
   "execution_count": 14,
   "metadata": {},
   "outputs": [],
   "source": [
    "# 일반적인 방법\n",
    "f = open(\"./file_test\", 'w')\n",
    "f.write(\"Hello, Python !!!\")\n",
    "f.close()\n",
    "\n",
    "# with 구문을 사용하는 방법\n",
    "# with 블록을 벗어나는 순간 파일 객체 f가 자동으로 close 됨.\n",
    "with open(\"./file_test\", 'w') as f:\n",
    "    f.write(\"Hello, Python !!!\")"
   ]
  },
  {
   "cell_type": "markdown",
   "metadata": {},
   "source": [
    "##### [예제 1] 다음의 조건을 만족하는 Point 클래스를 작성하시오\n",
    "Point 클래스는 생성자를 통해 (x, y) 좌표를 입력받는다.  \n",
    "setx(x), sety(y) 메서드를 통해 x 좌표와 y 좌표를 따로 입력받을 수도 있다.  \n",
    "get() 메서드를 호출하면 튜플로 구성된 (x, y) 좌표를 반환한다.  \n",
    "move(dx, dy) 메서드는 현재 좌표를 dx, dy만큼 이동시킨다."
   ]
  },
  {
   "cell_type": "code",
   "execution_count": 65,
   "metadata": {},
   "outputs": [
    {
     "data": {
      "text/plain": [
       "(9, 13)"
      ]
     },
     "execution_count": 65,
     "metadata": {},
     "output_type": "execute_result"
    }
   ],
   "source": [
    "class Point:\n",
    "    def __init__(self, x, y):\n",
    "        self.x = x\n",
    "        self.y = y\n",
    "        \n",
    "    def setx(self, x):\n",
    "        self.x = x\n",
    "        \n",
    "    def sety(self, y):\n",
    "        self.y = y\n",
    "        \n",
    "    def get(self):\n",
    "        return self.x, self.y\n",
    "    \n",
    "    def move(self, dx, dy):\n",
    "        self.x = self.x + dx\n",
    "        self.y = self.y + dy\n",
    "        \n",
    "        \n",
    "p = Point(2, 3)\n",
    "p.setx(4)\n",
    "p.sety(6)\n",
    "p.move(5, 7)\n",
    "p.get()"
   ]
  },
  {
   "cell_type": "markdown",
   "metadata": {},
   "source": [
    "##### [예제 2] 다음의 Error 원인과 해결방안을 기술하시오\n",
    "class MyTest:  \n",
    "&nbsp;&nbsp;&nbsp;&nbsp;def hello():  \n",
    "&nbsp;&nbsp;&nbsp;&nbsp;&nbsp;&nbsp;&nbsp;&nbsp;print(\"MyTest hello method\")\n",
    "\n",
    "obj = MyTest()  \n",
    "obj.hello()"
   ]
  },
  {
   "cell_type": "code",
   "execution_count": 35,
   "metadata": {},
   "outputs": [
    {
     "name": "stdout",
     "output_type": "stream",
     "text": [
      "MyTest hello method\n"
     ]
    }
   ],
   "source": [
    "class MyTest:\n",
    "    def hello(self):\n",
    "        print(\"MyTest hello method\")\n",
    "        \n",
    "obj = MyTest()\n",
    "obj.hello()"
   ]
  },
  {
   "cell_type": "markdown",
   "metadata": {},
   "source": [
    "##### [예제 3] 다음의 조건을 만족하는 MyCalc 클래스를 작성한후, MyCalc 객체 obj를 생성한 후에 4개의 메서드를 호출하는 코드를 작성하시오\n",
    "임의의 2개의 숫자를 객체 생성시에 입력으로 받아 사칙연산(+,-,*,/)를 수행하여 결과를 return해주는 4개의 메서드 summation, subtract, multiply, divide 를 가지고 있다."
   ]
  },
  {
   "cell_type": "code",
   "execution_count": 79,
   "metadata": {},
   "outputs": [
    {
     "name": "stdout",
     "output_type": "stream",
     "text": [
      "1\n",
      "1\n",
      "0\n",
      "cannot divide by 0\n"
     ]
    },
    {
     "ename": "ZeroDivisionError",
     "evalue": "division by zero",
     "output_type": "error",
     "traceback": [
      "\u001b[1;31m---------------------------------------------------------------------------\u001b[0m",
      "\u001b[1;31mZeroDivisionError\u001b[0m                         Traceback (most recent call last)",
      "\u001b[1;32m<ipython-input-79-c9e762c8cb6f>\u001b[0m in \u001b[0;36m<module>\u001b[1;34m\u001b[0m\n\u001b[0;32m     33\u001b[0m \u001b[0mobj\u001b[0m\u001b[1;33m.\u001b[0m\u001b[0msubtract\u001b[0m\u001b[1;33m(\u001b[0m\u001b[1;33m)\u001b[0m\u001b[1;33m\u001b[0m\u001b[1;33m\u001b[0m\u001b[0m\n\u001b[0;32m     34\u001b[0m \u001b[0mobj\u001b[0m\u001b[1;33m.\u001b[0m\u001b[0mmultiply\u001b[0m\u001b[1;33m(\u001b[0m\u001b[1;33m)\u001b[0m\u001b[1;33m\u001b[0m\u001b[1;33m\u001b[0m\u001b[0m\n\u001b[1;32m---> 35\u001b[1;33m \u001b[0mobj\u001b[0m\u001b[1;33m.\u001b[0m\u001b[0mdivide\u001b[0m\u001b[1;33m(\u001b[0m\u001b[1;33m)\u001b[0m\u001b[1;33m\u001b[0m\u001b[1;33m\u001b[0m\u001b[0m\n\u001b[0m",
      "\u001b[1;32m<ipython-input-79-c9e762c8cb6f>\u001b[0m in \u001b[0;36mdivide\u001b[1;34m(self)\u001b[0m\n\u001b[0;32m     27\u001b[0m             \u001b[0mprint\u001b[0m\u001b[1;33m(\u001b[0m\u001b[0mstr\u001b[0m\u001b[1;33m(\u001b[0m\u001b[0merr\u001b[0m\u001b[1;33m)\u001b[0m\u001b[1;33m)\u001b[0m\u001b[1;33m\u001b[0m\u001b[1;33m\u001b[0m\u001b[0m\n\u001b[0;32m     28\u001b[0m \u001b[1;33m\u001b[0m\u001b[0m\n\u001b[1;32m---> 29\u001b[1;33m         \u001b[1;32mreturn\u001b[0m \u001b[0mprint\u001b[0m\u001b[1;33m(\u001b[0m\u001b[0mself\u001b[0m\u001b[1;33m.\u001b[0m\u001b[0mnum1\u001b[0m \u001b[1;33m/\u001b[0m \u001b[0mself\u001b[0m\u001b[1;33m.\u001b[0m\u001b[0mnum2\u001b[0m\u001b[1;33m)\u001b[0m\u001b[1;33m\u001b[0m\u001b[1;33m\u001b[0m\u001b[0m\n\u001b[0m\u001b[0;32m     30\u001b[0m \u001b[1;33m\u001b[0m\u001b[0m\n\u001b[0;32m     31\u001b[0m \u001b[0mobj\u001b[0m \u001b[1;33m=\u001b[0m \u001b[0mMyCalc\u001b[0m\u001b[1;33m(\u001b[0m\u001b[1;33m[\u001b[0m\u001b[1;36m1\u001b[0m\u001b[1;33m,\u001b[0m\u001b[1;36m0\u001b[0m\u001b[1;33m]\u001b[0m\u001b[1;33m)\u001b[0m\u001b[1;33m\u001b[0m\u001b[1;33m\u001b[0m\u001b[0m\n",
      "\u001b[1;31mZeroDivisionError\u001b[0m: division by zero"
     ]
    }
   ],
   "source": [
    "class MyCalc:\n",
    "    def __init__(self, num):\n",
    "        try:\n",
    "            if len(num) != 2:\n",
    "                raise Exception(\"Wrong number, try 2 numbers\")\n",
    "            self.num1 = num[0]\n",
    "            self.num2 = num[1]\n",
    "        except Exception as err:\n",
    "            print(str(err))\n",
    "        \n",
    "        \n",
    "    def summation(self):\n",
    "        return print(self.num1 + self.num2)\n",
    "    \n",
    "    def subtract(self):\n",
    "        return print(self.num1 - self.num2)\n",
    "    \n",
    "    def multiply(self):\n",
    "        return print(self.num1 * self.num2)\n",
    "    \n",
    "    def divide(self):\n",
    "        try:  \n",
    "            if self.num2 == 0: \n",
    "                raise Exception(\"cannot divide by 0\") # 안 되는 경우는 이렇게 그냥 날려버리기만 하면 된다\n",
    "                \n",
    "        except Exception as err: # 이렇게 작성하면 코드의 consistency(어떨 때는 문자가 오고, 어떨 때는 숫자가 오고..) 가 깨지게 됨\n",
    "            print(str(err))\n",
    "            \n",
    "        return print(self.num1 / self.num2)\n",
    "    \n",
    "obj = MyCalc([1,0])\n",
    "obj.summation()\n",
    "obj.subtract()\n",
    "obj.multiply()\n",
    "obj.divide()"
   ]
  },
  {
   "cell_type": "markdown",
   "metadata": {},
   "source": [
    "##### [예제  4] 클래스 MyFile의 save_file 메서드는 임의의 문자열을 입력 파라미터로 받아, 문자열을 현재 디렉토리에 text_file.txt 파일로 저장하는 기능을 가지고 있으며, read_file 메서드는 현재 디렉토리에 text_file.txt 파일을 읽어서 화면에 출력해주는 기능을 가지고 있다.\n",
    "MyFile 클래스의 save_file, read_file 메서드를 구현하시오"
   ]
  },
  {
   "cell_type": "code",
   "execution_count": null,
   "metadata": {},
   "outputs": [],
   "source": [
    "class MyFile:\n",
    "    def __init__(self):\n",
    "        pass\n",
    "    \n",
    "    def read_file(self, data):\n",
    "        self.data = data\n",
    "        \n",
    "        \n",
    "    def save_file(self):\n",
    "    \n",
    "        "
   ]
  }
 ],
 "metadata": {
  "kernelspec": {
   "display_name": "Python 3",
   "language": "python",
   "name": "python3"
  },
  "language_info": {
   "codemirror_mode": {
    "name": "ipython",
    "version": 3
   },
   "file_extension": ".py",
   "mimetype": "text/x-python",
   "name": "python",
   "nbconvert_exporter": "python",
   "pygments_lexer": "ipython3",
   "version": "3.7.4"
  }
 },
 "nbformat": 4,
 "nbformat_minor": 2
}

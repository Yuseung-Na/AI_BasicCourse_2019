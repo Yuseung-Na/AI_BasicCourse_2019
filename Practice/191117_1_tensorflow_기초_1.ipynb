{
 "cells": [
  {
   "cell_type": "code",
   "execution_count": 1,
   "metadata": {},
   "outputs": [],
   "source": [
    "import tensorflow as tf"
   ]
  },
  {
   "cell_type": "markdown",
   "metadata": {},
   "source": [
    "###### TensorFlow 상수 노드 - tf.constant(  )"
   ]
  },
  {
   "cell_type": "code",
   "execution_count": 2,
   "metadata": {},
   "outputs": [
    {
     "name": "stdout",
     "output_type": "stream",
     "text": [
      "Tensor(\"a:0\", shape=(), dtype=float32)\n",
      "Tensor(\"add:0\", shape=(), dtype=float32)\n",
      "Tensor(\"Const:0\", shape=(2, 2), dtype=float32)\n",
      "[1.0, 2.0]\n",
      "[[1. 2.]\n",
      " [3. 4.]]\n",
      "[3.0]\n",
      "[[2. 3.]\n",
      " [4. 5.]]\n"
     ]
    }
   ],
   "source": [
    "# 상수 노드 정의\n",
    "a = tf.constant(1.0, name = 'a')\n",
    "b = tf.constant(2.0, name = 'b')\n",
    "c = tf.constant([[1.0, 2.0], [3.0, 4.0]])\n",
    "\n",
    "print(a)\n",
    "print(a + b)\n",
    "print(c)\n",
    "\n",
    "# 세션 (session) 을 만들고 노드간의 텐서 연산 실행\n",
    "sess = tf.Session()\n",
    "\n",
    "print(sess.run([a, b]))\n",
    "print(sess.run(c))\n",
    "print(sess.run([a + b]))\n",
    "print(sess.run(c + 1.0))  # broadcast 수행\n",
    "\n",
    "# 세션 close\n",
    "sess.close()"
   ]
  },
  {
   "cell_type": "markdown",
   "metadata": {},
   "source": [
    "###### TensorFlow 플레이스홀더 노드 - tf.placeholder(  )"
   ]
  },
  {
   "cell_type": "code",
   "execution_count": 5,
   "metadata": {},
   "outputs": [
    {
     "name": "stdout",
     "output_type": "stream",
     "text": [
      "4.0\n",
      "[4. 6.]\n",
      "400.0\n",
      "[400. 600.]\n"
     ]
    }
   ],
   "source": [
    "# 플레이스홀더 노드 정의\n",
    "a = tf.placeholder(tf.float32)\n",
    "b = tf.placeholder(tf.float32)\n",
    "c = a + b\n",
    "\n",
    "# 세션 (session) 을 만들고 플레이스홀더 노드를 통해 값 입력받음\n",
    "sess = tf.Session()\n",
    "\n",
    "print(sess.run(c, feed_dict={a: 1.0, b: 3.0}))\n",
    "print(sess.run(c, feed_dict={a: [1.0, 2.0], b: [3.0, 4.0]}))\n",
    "\n",
    "# 연산 추가\n",
    "d = 100 * c\n",
    "\n",
    "print(sess.run(d, feed_dict={a: 1.0, b: 3.0}))\n",
    "print(sess.run(d, feed_dict={a: [1.0, 2.0], b: [3.0, 4.0]}))\n",
    "\n",
    "# 세션 close\n",
    "sess.close()"
   ]
  },
  {
   "cell_type": "markdown",
   "metadata": {},
   "source": [
    "###### TensorFlow 변수 노드 - tf.Variable(  )"
   ]
  },
  {
   "cell_type": "code",
   "execution_count": 4,
   "metadata": {},
   "outputs": [
    {
     "name": "stdout",
     "output_type": "stream",
     "text": [
      "step = 0 , W1 = [-0.10194659] , b1 = [2.3212123]\n",
      "step = 0 , W2 = [[0.5348392  0.03617045]] , b2 = [[-0.466278   0.7840408]]\n",
      "step = 1 , W1 = [-1.1019466] , b1 = [1.3212123]\n",
      "step = 1 , W2 = [[-0.4651608 -0.9638296]] , b2 = [[-1.466278   -0.21595919]]\n",
      "step = 2 , W1 = [-3.1019466] , b1 = [-0.6787877]\n",
      "step = 2 , W2 = [[-2.4651608 -2.9638295]] , b2 = [[-3.466278 -2.215959]]\n"
     ]
    }
   ],
   "source": [
    "# 값이 계속 업데이트 되는 변수노드 정의\n",
    "W1 = tf.Variable(tf.random_normal([1]))  # W1 = np.random.rand(1) 비슷함\n",
    "b1 = tf.Variable(tf.random_normal([1]))  # b1 = np.random.rand(!) 비슷함\n",
    "\n",
    "W2 = tf.Variable(tf.random_normal([1, 2]))  # W2 = np.random.rand(1, 2) 비슷함\n",
    "b2 = tf.Variable(tf.random_normal([1, 2]))  # b2 = np.random.rand(1, 2) 비슷함\n",
    "\n",
    "# 세션 생성\n",
    "sess = tf.Session()\n",
    "\n",
    "# 변수노드 값 초기화. 변수노드를 정의했다면 반드시 필요함\n",
    "sess.run(tf.global_variables_initializer())\n",
    "\n",
    "for step in range(3):\n",
    "    W1 = W1 - step  # W1 변수노드 업데이트\n",
    "    b1 = b1 - step  # b1 변수노드 업데이트\n",
    "    \n",
    "    W2 = W2 - step  # W2 변수노드 업데이트\n",
    "    b2 = b2 - step  # b2 변수노드 업데이트\n",
    "    \n",
    "    print(\"step =\", step, \", W1 =\", sess.run(W1), \", b1 =\", sess.run(b1))\n",
    "    print(\"step =\", step, \", W2 =\", sess.run(W2), \", b2 =\", sess.run(b2))\n",
    "    \n",
    "# 세션 close\n",
    "sess.close()"
   ]
  },
  {
   "cell_type": "code",
   "execution_count": null,
   "metadata": {},
   "outputs": [],
   "source": []
  }
 ],
 "metadata": {
  "kernelspec": {
   "display_name": "Python 3",
   "language": "python",
   "name": "python3"
  },
  "language_info": {
   "codemirror_mode": {
    "name": "ipython",
    "version": 3
   },
   "file_extension": ".py",
   "mimetype": "text/x-python",
   "name": "python",
   "nbconvert_exporter": "python",
   "pygments_lexer": "ipython3",
   "version": "3.7.4"
  }
 },
 "nbformat": 4,
 "nbformat_minor": 2
}

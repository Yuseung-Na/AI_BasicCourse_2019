{
 "cells": [
  {
   "cell_type": "markdown",
   "metadata": {},
   "source": [
    "##### 함수 - function"
   ]
  },
  {
   "cell_type": "code",
   "execution_count": 1,
   "metadata": {},
   "outputs": [
    {
     "name": "stdout",
     "output_type": "stream",
     "text": [
      "30\n"
     ]
    }
   ],
   "source": [
    "def sum(x, y):\n",
    "    s = x + y\n",
    "    return s\n",
    "\n",
    "result = sum(10, 20)\n",
    "print(result)"
   ]
  },
  {
   "cell_type": "code",
   "execution_count": 2,
   "metadata": {},
   "outputs": [
    {
     "name": "stdout",
     "output_type": "stream",
     "text": [
      "101 102 103\n"
     ]
    }
   ],
   "source": [
    "def multi_ret_func(x):\n",
    "    return x+1, x+2, x+3  # return (x+1, x+2, x+3)\n",
    "\n",
    "x = 100\n",
    "y1, y2, y3 = multi_ret_func(x)  # (y1, y2, y3) = multi_ret_func(x)\n",
    "\n",
    "print(y1, y2, y3)"
   ]
  },
  {
   "cell_type": "code",
   "execution_count": 3,
   "metadata": {},
   "outputs": [
    {
     "name": "stdout",
     "output_type": "stream",
     "text": [
      "name == DAVE\n",
      "name == DAVE\n",
      "\n",
      "name == DAVE\n",
      "name == DAVE\n",
      "name == DAVE\n",
      "name == DAVE\n",
      "name == DAVE\n"
     ]
    }
   ],
   "source": [
    "# 파이썬 default parameter\n",
    "\n",
    "def print_name(name, count=2):\n",
    "    for i in range(count):\n",
    "        print(\"name ==\", name)\n",
    "        \n",
    "print_name(\"DAVE\")\n",
    "print()\n",
    "print_name(\"DAVE\", 5)"
   ]
  },
  {
   "cell_type": "code",
   "execution_count": 4,
   "metadata": {},
   "outputs": [
    {
     "name": "stdout",
     "output_type": "stream",
     "text": [
      "int_x == 2 , input_list == [1, 2, 3, 100]\n",
      "x == 1 , test_list == [1, 2, 3, 100]\n"
     ]
    }
   ],
   "source": [
    "# mutable, immutable parameter\n",
    "\n",
    "def mutable_immutable_func(int_x, input_list):\n",
    "    int_x += 1\n",
    "    input_list.append(100)\n",
    "    print(\"int_x ==\", int_x, \", input_list ==\", input_list)\n",
    "    \n",
    "x = 1\n",
    "test_list = [1, 2, 3]\n",
    "\n",
    "mutable_immutable_func(x, test_list)\n",
    "\n",
    "print(\"x ==\", x, \", test_list ==\", test_list)"
   ]
  },
  {
   "cell_type": "markdown",
   "metadata": {},
   "source": [
    "##### 함수 - lambda"
   ]
  },
  {
   "cell_type": "code",
   "execution_count": 5,
   "metadata": {},
   "outputs": [
    {
     "name": "stdout",
     "output_type": "stream",
     "text": [
      "100\n",
      "101\n",
      "102\n"
     ]
    }
   ],
   "source": [
    "# lambda 함수 선언\n",
    "\n",
    "f = lambda x : x+100\n",
    "\n",
    "for i in range(3):\n",
    "    print(f(i))"
   ]
  },
  {
   "cell_type": "code",
   "execution_count": 6,
   "metadata": {},
   "outputs": [
    {
     "name": "stdout",
     "output_type": "stream",
     "text": [
      "input1 == 100 , input2 == 200\n",
      "hello python\n"
     ]
    }
   ],
   "source": [
    "# lambda 에서 입력값을 반드시 이용할 필요는 없음\n",
    "\n",
    "def print_hello():\n",
    "    print(\"hello python\")\n",
    "    \n",
    "def test_lambda(s, t):\n",
    "    print(\"input1 ==\", s, \", input2 ==\", t)\n",
    "    \n",
    "s = 100  # 생각해보기 => s, t 선언 및 값 할당이 없으면 error\n",
    "t = 200\n",
    "\n",
    "fx = lambda x, y : test_lambda(s, t)  # fx(x, y) = test_lambda(s, t)\n",
    "fy = lambda x, y : print_hello()      # fy(x, y) = print_hello()\n",
    "\n",
    "fx(500, 1000)  # fx(500, 1000) = test_lambda(s, t)\n",
    "fy(300, 600)   # fy(300, 600)  = print_hello()"
   ]
  },
  {
   "cell_type": "markdown",
   "metadata": {},
   "source": [
    "##### [예제 1] 함수의 인자로 시작과 끝을 나타내는 숫자를 받아 시작부터 끝까지의 모든 정수값의 합을 반환하는 함수 add_start_to_end 를 작성하시오(시작값과 끝값을 포함)."
   ]
  },
  {
   "cell_type": "code",
   "execution_count": 7,
   "metadata": {},
   "outputs": [
    {
     "name": "stdout",
     "output_type": "stream",
     "text": [
      "6\n"
     ]
    }
   ],
   "source": [
    "def add_start_to_end(start, end):\n",
    "    s = 0;\n",
    "    for i in range(start, end+1):\n",
    "        s = s + i\n",
    "    return s\n",
    "\n",
    "print(add_start_to_end(1,3))"
   ]
  },
  {
   "cell_type": "markdown",
   "metadata": {},
   "source": [
    "##### [예제 2] 함수의 인자로 문자열을 포함하는 리스트가 입력될 때 각 문자열의 첫 세 글자로만 구성된 리스트를 반환하는 함수 get_abbr 를 슬라이싱 기능을 이용하여 구현하시오.\n",
    "예를 들어, 함수의 입력으로 ['Seoul', 'Daegu', 'Kwangju', 'Jeju']가 입력될 때 함수의 반환값은 ['Seo', 'Dae', 'Kwa', 'Jej'] 임"
   ]
  },
  {
   "cell_type": "code",
   "execution_count": 8,
   "metadata": {},
   "outputs": [
    {
     "name": "stdout",
     "output_type": "stream",
     "text": [
      "['Seo', 'Dae', 'Kwa', 'Jej']\n"
     ]
    }
   ],
   "source": [
    "def get_abbr(input_data):\n",
    "    slice_data_2 = []\n",
    "    for slice_data in input_data:\n",
    "        slice_data_2.append(slice_data[:3])\n",
    "    print(slice_data_2)\n",
    "        \n",
    "data = ['Seoul', 'Daegu', 'Kwangju', 'Jeju']\n",
    "get_abbr(data)"
   ]
  },
  {
   "cell_type": "markdown",
   "metadata": {},
   "source": [
    "##### [예제 3] 입력값의 제곱을 리턴하는 함수를 일반적인 python 함수인 square 와 lambda 함수 f 로 구현하고, square(2) 와 f(2) 형태로 검증하시오"
   ]
  },
  {
   "cell_type": "code",
   "execution_count": 9,
   "metadata": {},
   "outputs": [
    {
     "name": "stdout",
     "output_type": "stream",
     "text": [
      "4\n",
      "4\n"
     ]
    }
   ],
   "source": [
    "def square(x):\n",
    "    return x*x\n",
    "\n",
    "f = lambda x : x*x\n",
    "\n",
    "print(square(2))\n",
    "print(f(2))"
   ]
  },
  {
   "cell_type": "markdown",
   "metadata": {},
   "source": [
    "##### [예제 4] 다음 코드의 Error 원인과 해결방안을 구하시오\n",
    "hello()\n",
    "\n",
    "def hello():<br>\n",
    "&nbsp;&nbsp;&nbsp;&nbsp;print(\"Hi\")"
   ]
  },
  {
   "cell_type": "code",
   "execution_count": 10,
   "metadata": {},
   "outputs": [
    {
     "name": "stdout",
     "output_type": "stream",
     "text": [
      "Hi\n"
     ]
    }
   ],
   "source": [
    "def hello():\n",
    "    print(\"Hi\")\n",
    "    \n",
    "hello()"
   ]
  },
  {
   "cell_type": "markdown",
   "metadata": {},
   "source": [
    "##### [예제 5] 아래 코드의 실행 결과를 예측하시오\n",
    "def message():<br>\n",
    "&nbsp;&nbsp;&nbsp;&nbsp;print(\"A\")<br>\n",
    "&nbsp;&nbsp;&nbsp;&nbsp;print(\"B\")\n",
    "\n",
    "message()<br>\n",
    "print(\"C\")<br>\n",
    "message()"
   ]
  },
  {
   "cell_type": "code",
   "execution_count": 11,
   "metadata": {},
   "outputs": [
    {
     "name": "stdout",
     "output_type": "stream",
     "text": [
      "A\n",
      "B\n",
      "C\n",
      "A\n",
      "B\n"
     ]
    }
   ],
   "source": [
    "def message():\n",
    "    print(\"A\")\n",
    "    print(\"B\")\n",
    "\n",
    "message()\n",
    "print(\"C\")\n",
    "message()"
   ]
  }
 ],
 "metadata": {
  "kernelspec": {
   "display_name": "Python 3",
   "language": "python",
   "name": "python3"
  },
  "language_info": {
   "codemirror_mode": {
    "name": "ipython",
    "version": 3
   },
   "file_extension": ".py",
   "mimetype": "text/x-python",
   "name": "python",
   "nbconvert_exporter": "python",
   "pygments_lexer": "ipython3",
   "version": "3.7.3"
  }
 },
 "nbformat": 4,
 "nbformat_minor": 2
}

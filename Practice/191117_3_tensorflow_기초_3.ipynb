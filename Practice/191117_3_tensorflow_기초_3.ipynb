{
 "cells": [
  {
   "cell_type": "markdown",
   "metadata": {},
   "source": [
    "# Logistic Regression "
   ]
  },
  {
   "cell_type": "code",
   "execution_count": 4,
   "metadata": {},
   "outputs": [],
   "source": [
    "import tensorflow as tf\n",
    "import numpy as np"
   ]
  },
  {
   "cell_type": "markdown",
   "metadata": {},
   "source": [
    "### TensorFlow - 노드 / 연산 정의 1"
   ]
  },
  {
   "cell_type": "code",
   "execution_count": 5,
   "metadata": {},
   "outputs": [
    {
     "name": "stdout",
     "output_type": "stream",
     "text": [
      "loaded_data = (759, 9)\n",
      "x_data.shape = (759, 8) , t_data.shape = (759, 1)\n"
     ]
    }
   ],
   "source": [
    "loaded_data = np.loadtxt('./diabetes.csv', delimiter=',')\n",
    "\n",
    "x_data = loaded_data[:, 0:-1]\n",
    "t_data = loaded_data[:, [-1]]\n",
    "\n",
    "print(\"loaded_data =\", loaded_data.shape)\n",
    "print(\"x_data.shape =\", x_data.shape, \", t_data.shape =\", t_data.shape)"
   ]
  },
  {
   "cell_type": "code",
   "execution_count": 7,
   "metadata": {},
   "outputs": [],
   "source": [
    "W = tf.Variable(tf.random_normal([8, 1]))\n",
    "b = tf.Variable(tf.random_normal([1]))\n",
    "\n",
    "X = tf.placeholder(tf.float32, [None, 8])\n",
    "T = tf.placeholder(tf.float32, [None, 1])"
   ]
  },
  {
   "cell_type": "code",
   "execution_count": 8,
   "metadata": {},
   "outputs": [],
   "source": [
    "z = tf.matmul(X, W) + b  # 선형회귀 값 z\n",
    "\n",
    "y = tf.sigmoid(z)  # 시그모이드로 계산 값\n",
    "\n",
    "# 손실 함수는 Cross-Entropy\n",
    "loss = -tf.reduce_mean(T*tf.log(y) + (1-T)*tf.log(1-y))"
   ]
  },
  {
   "cell_type": "code",
   "execution_count": 9,
   "metadata": {},
   "outputs": [],
   "source": [
    "learning_rate = 1e-2\n",
    "\n",
    "optimizer = tf.train.GradientDescentOptimizer(learning_rate)\n",
    "\n",
    "train = optimizer.minimize(loss)"
   ]
  },
  {
   "cell_type": "code",
   "execution_count": 10,
   "metadata": {},
   "outputs": [],
   "source": [
    "predicted = tf.cast(y > 0.5, dtype=tf.float32)\n",
    "\n",
    "accuracy = tf.reduce_mean(tf.cast(tf.equal(predicted, T), dtype=tf.float32))"
   ]
  },
  {
   "cell_type": "markdown",
   "metadata": {},
   "source": [
    "### TensorFlow - 노드 / 연산 실행"
   ]
  },
  {
   "cell_type": "code",
   "execution_count": 11,
   "metadata": {
    "scrolled": true
   },
   "outputs": [
    {
     "name": "stdout",
     "output_type": "stream",
     "text": [
      "step = 0 , loss_val = 0.7568981\n",
      "step = 1000 , loss_val = 0.65016073\n",
      "step = 2000 , loss_val = 0.586863\n",
      "step = 3000 , loss_val = 0.5489647\n",
      "step = 4000 , loss_val = 0.5256864\n",
      "step = 5000 , loss_val = 0.5108638\n",
      "step = 6000 , loss_val = 0.5010681\n",
      "step = 7000 , loss_val = 0.49436527\n",
      "step = 8000 , loss_val = 0.4896312\n",
      "step = 9000 , loss_val = 0.48619094\n",
      "step = 10000 , loss_val = 0.48362565\n",
      "step = 11000 , loss_val = 0.48166823\n",
      "step = 12000 , loss_val = 0.48014328\n",
      "step = 13000 , loss_val = 0.47893307\n",
      "step = 14000 , loss_val = 0.47795653\n",
      "step = 15000 , loss_val = 0.477157\n",
      "step = 16000 , loss_val = 0.4764935\n",
      "step = 17000 , loss_val = 0.47593674\n",
      "step = 18000 , loss_val = 0.47546458\n",
      "step = 19000 , loss_val = 0.4750605\n",
      "step = 20000 , loss_val = 0.47471198\n",
      "\n",
      "y_val.shape (759, 1) , predicted_val = (759, 1)\n",
      "\n",
      "Accuracy = 0.7720685\n"
     ]
    }
   ],
   "source": [
    "with tf.Session() as sess:  # with를 쓰면 close 하지 않아도 됨\n",
    "    sess.run(tf.global_variables_initializer())  # 변수 노드 (tf.Variable) 초기화\n",
    "    \n",
    "    for step in range(20001):\n",
    "        loss_val, _ = sess.run([loss, train], feed_dict={X: x_data, T: t_data})\n",
    "        \n",
    "        if step % 1000 == 0:\n",
    "            print(\"step =\", step, \", loss_val =\", loss_val)\n",
    "    \n",
    "    y_val, predicted_val, accuracy_val = sess.run([y, predicted, accuracy], feed_dict={X: x_data, T: t_data})\n",
    "    \n",
    "    print(\"\\ny_val.shape\", y_val.shape, \", predicted_val =\", predicted_val.shape)\n",
    "    print(\"\\nAccuracy =\", accuracy_val)"
   ]
  },
  {
   "cell_type": "code",
   "execution_count": null,
   "metadata": {},
   "outputs": [],
   "source": []
  }
 ],
 "metadata": {
  "kernelspec": {
   "display_name": "Python 3",
   "language": "python",
   "name": "python3"
  },
  "language_info": {
   "codemirror_mode": {
    "name": "ipython",
    "version": 3
   },
   "file_extension": ".py",
   "mimetype": "text/x-python",
   "name": "python",
   "nbconvert_exporter": "python",
   "pygments_lexer": "ipython3",
   "version": "3.7.4"
  }
 },
 "nbformat": 4,
 "nbformat_minor": 2
}

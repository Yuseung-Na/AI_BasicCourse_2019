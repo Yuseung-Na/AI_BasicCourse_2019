{
 "cells": [
  {
   "cell_type": "markdown",
   "metadata": {},
   "source": [
    "##### 수치미분 최종 버전 - numerical derivative"
   ]
  },
  {
   "cell_type": "code",
   "execution_count": 1,
   "metadata": {},
   "outputs": [],
   "source": [
    "import numpy as np\n",
    "\n",
    "def numerical_derivative(f, x):\n",
    "    delta_x = 1e-4\n",
    "    grad = np.zeros_like(x)\n",
    "    \n",
    "    it = np.nditer(x, flags=['multi_index'], op_flags=['readwrite'])\n",
    "    \n",
    "    while not it.finished:\n",
    "        idx = it.multi_index\n",
    "        \n",
    "        tmp_val = x[idx]\n",
    "        x[idx] = float(tmp_val) + delta_x\n",
    "        fx1 = f(x)  # f(x+delta_x)\n",
    "        \n",
    "        x[idx] = tmp_val - delta_x\n",
    "        fx2 = f(x)  # f(x-delta_x)\n",
    "        grad[idx] = (fx1 - fx2) / (2*delta_x)\n",
    "        \n",
    "        x[idx] = tmp_val\n",
    "        it.iternext()\n",
    "        \n",
    "    return grad"
   ]
  },
  {
   "cell_type": "markdown",
   "metadata": {},
   "source": [
    "##### [예제 5] 1변수 함수 f(x) = x^2, f'(3.0)"
   ]
  },
  {
   "cell_type": "code",
   "execution_count": 4,
   "metadata": {},
   "outputs": [
    {
     "name": "stdout",
     "output_type": "stream",
     "text": [
      "debug 1. initial input variable = [3.]\n",
      "debug 2. initial grad = [0.]\n",
      "========================================\n",
      "debug 3. idx = (0,) , x[idx] = 3.0\n",
      "debug 4. grad[idx] = 6.000000000012662\n",
      "debug 5. grad = [6.]\n",
      "========================================\n",
      "type(ret) = <class 'numpy.ndarray'> , ret_val = [6.]\n"
     ]
    }
   ],
   "source": [
    "import numpy as np\n",
    "\n",
    "def numerical_derivative(f, x):  # 수치미분 debug version\n",
    "    delta_x = 1e-4\n",
    "    grad = np.zeros_like(x)\n",
    "    print(\"debug 1. initial input variable =\", x)\n",
    "    print(\"debug 2. initial grad =\", grad)\n",
    "    print(\"========================================\")\n",
    "    \n",
    "    it = np.nditer(x, flags=['multi_index'], op_flags=['readwrite'])\n",
    "    \n",
    "    while not it.finished:\n",
    "        idx = it.multi_index\n",
    "        \n",
    "        print(\"debug 3. idx =\", idx, \", x[idx] =\", x[idx])\n",
    "        \n",
    "        tmp_val = x[idx]\n",
    "        x[idx] = float(tmp_val) + delta_x\n",
    "        fx1 = f(x)  # f(x+delta_x)\n",
    "        \n",
    "        x[idx] = tmp_val - delta_x\n",
    "        fx2 = f(x)  # f(x-delta_x)\n",
    "        grad[idx] = (fx1 - fx2) / (2*delta_x)\n",
    "        \n",
    "        print(\"debug 4. grad[idx] =\", grad[idx])\n",
    "        print(\"debug 5. grad =\", grad)\n",
    "        print(\"========================================\")\n",
    "        \n",
    "        x[idx] = tmp_val\n",
    "        it.iternext()\n",
    "        \n",
    "    return grad\n",
    "\n",
    "# 입력변수 1개인 함수 f(x) = x**2\n",
    "def func1(W):\n",
    "    x = W[0]\n",
    "    \n",
    "    return x**2\n",
    "\n",
    "# lambda function 정의\n",
    "f = lambda W : func1(W)\n",
    "\n",
    "W = np.array([3.0])\n",
    "\n",
    "# x = 3.0 에서의 편미분 값\n",
    "ret = numerical_derivative(f, W)\n",
    "\n",
    "print('type(ret) =', type(ret), ', ret_val =', ret)"
   ]
  },
  {
   "cell_type": "markdown",
   "metadata": {},
   "source": [
    "##### [예제 6] 2변수 함수 f(x, y) = 2x + 3xy + y^3, f'(1.0, 2.0)"
   ]
  },
  {
   "cell_type": "code",
   "execution_count": 6,
   "metadata": {},
   "outputs": [
    {
     "name": "stdout",
     "output_type": "stream",
     "text": [
      "debug 1. initial input variable = [1. 2.]\n",
      "debug 2. initial grad = [0. 0.]\n",
      "========================================\n",
      "debug 3. idx = (0,) , x[idx] = 1.0\n",
      "debug 4. grad[idx] = 7.999999999990237\n",
      "debug 5. grad = [8. 0.]\n",
      "========================================\n",
      "debug 3. idx = (1,) , x[idx] = 2.0\n",
      "debug 4. grad[idx] = 15.000000010019221\n",
      "debug 5. grad = [ 8.         15.00000001]\n",
      "========================================\n"
     ]
    },
    {
     "data": {
      "text/plain": [
       "array([ 8.        , 15.00000001])"
      ]
     },
     "execution_count": 6,
     "metadata": {},
     "output_type": "execute_result"
    }
   ],
   "source": [
    "import numpy as np\n",
    "\n",
    "def numerical_derivative(f, x):  # 수치미분 debug version\n",
    "    delta_x = 1e-4\n",
    "    grad = np.zeros_like(x)\n",
    "    print(\"debug 1. initial input variable =\", x)\n",
    "    print(\"debug 2. initial grad =\", grad)\n",
    "    print(\"========================================\")\n",
    "    \n",
    "    it = np.nditer(x, flags=['multi_index'], op_flags=['readwrite'])\n",
    "    \n",
    "    while not it.finished:\n",
    "        idx = it.multi_index\n",
    "        \n",
    "        print(\"debug 3. idx =\", idx, \", x[idx] =\", x[idx])\n",
    "        \n",
    "        tmp_val = x[idx]\n",
    "        x[idx] = float(tmp_val) + delta_x\n",
    "        fx1 = f(x)  # f(x+delta_x)\n",
    "        \n",
    "        x[idx] = tmp_val - delta_x\n",
    "        fx2 = f(x)  # f(x-delta_x)\n",
    "        grad[idx] = (fx1 - fx2) / (2*delta_x)\n",
    "        \n",
    "        print(\"debug 4. grad[idx] =\", grad[idx])\n",
    "        print(\"debug 5. grad =\", grad)\n",
    "        print(\"========================================\")\n",
    "        \n",
    "        x[idx] = tmp_val\n",
    "        it.iternext()\n",
    "        \n",
    "    return grad\n",
    "\n",
    "# 입력변수 2개인 함수 f(x, y) = 2x + 3xy + y^3\n",
    "def func2(W):\n",
    "    x = W[0]\n",
    "    y = W[1]\n",
    "    \n",
    "    return (2*x + 3*x*y + np.power(y, 3))\n",
    "\n",
    "# lambda function 정의\n",
    "f = lambda W : func2(W)\n",
    "\n",
    "# (x, y) = (1.0, 2.0) 에서의 편미분 값\n",
    "W = np.array([1.0, 2.0])\n",
    "\n",
    "numerical_derivative(f, W)"
   ]
  },
  {
   "cell_type": "markdown",
   "metadata": {},
   "source": [
    "##### [예제 7] 다음과 같은 행렬을 입력으로 받는 4변수 함수 f(w, x, y, z) 에서 각 변수에 대해 수치미분을 이용하여 미분 값을 구하는 코드를 구현하시오\n",
    "(w x; y z;) = (1.0 2.0; 3.0 4.0;)  \n",
    "f(w, x, y, z) = wx + xyz + 3w + zy^2"
   ]
  },
  {
   "cell_type": "code",
   "execution_count": 8,
   "metadata": {},
   "outputs": [
    {
     "name": "stdout",
     "output_type": "stream",
     "text": [
      "debug 1. initial input variable = [[1. 2.]\n",
      " [3. 4.]]\n",
      "debug 2. initial grad = [[0. 0.]\n",
      " [0. 0.]]\n",
      "========================================\n",
      "debug 3. idx = (0, 0) , x[idx] = 1.0\n",
      "debug 4. grad[idx] = 5.000000000023874\n",
      "debug 5. grad = [[5. 0.]\n",
      " [0. 0.]]\n",
      "========================================\n",
      "debug 3. idx = (0, 1) , x[idx] = 2.0\n",
      "debug 4. grad[idx] = 13.00000000000523\n",
      "debug 5. grad = [[ 5. 13.]\n",
      " [ 0.  0.]]\n",
      "========================================\n",
      "debug 3. idx = (1, 0) , x[idx] = 3.0\n",
      "debug 4. grad[idx] = 32.00000000006753\n",
      "debug 5. grad = [[ 5. 13.]\n",
      " [32.  0.]]\n",
      "========================================\n",
      "debug 3. idx = (1, 1) , x[idx] = 4.0\n",
      "debug 4. grad[idx] = 15.000000000000568\n",
      "debug 5. grad = [[ 5. 13.]\n",
      " [32. 15.]]\n",
      "========================================\n"
     ]
    },
    {
     "data": {
      "text/plain": [
       "array([[ 5., 13.],\n",
       "       [32., 15.]])"
      ]
     },
     "execution_count": 8,
     "metadata": {},
     "output_type": "execute_result"
    }
   ],
   "source": [
    "import numpy as np\n",
    "\n",
    "def numerical_derivative(f, x):  # 수치미분 debug version\n",
    "    delta_x = 1e-4\n",
    "    grad = np.zeros_like(x)\n",
    "    print(\"debug 1. initial input variable =\", x)\n",
    "    print(\"debug 2. initial grad =\", grad)\n",
    "    print(\"========================================\")\n",
    "    \n",
    "    it = np.nditer(x, flags=['multi_index'], op_flags=['readwrite'])\n",
    "    \n",
    "    while not it.finished:\n",
    "        idx = it.multi_index\n",
    "        \n",
    "        print(\"debug 3. idx =\", idx, \", x[idx] =\", x[idx])\n",
    "        \n",
    "        tmp_val = x[idx]\n",
    "        x[idx] = float(tmp_val) + delta_x\n",
    "        fx1 = f(x)  # f(x+delta_x)\n",
    "        \n",
    "        x[idx] = tmp_val - delta_x\n",
    "        fx2 = f(x)  # f(x-delta_x)\n",
    "        grad[idx] = (fx1 - fx2) / (2*delta_x)\n",
    "        \n",
    "        print(\"debug 4. grad[idx] =\", grad[idx])\n",
    "        print(\"debug 5. grad =\", grad)\n",
    "        print(\"========================================\")\n",
    "        \n",
    "        x[idx] = tmp_val\n",
    "        it.iternext()\n",
    "        \n",
    "    return grad\n",
    "\n",
    "# 입력변수 4개인 함수 f(w, x, y, z) = wx + xyz + 3w + zy^2\n",
    "def func3(W):\n",
    "    w = W[0,0]\n",
    "    x = W[0,1]\n",
    "    y = W[1,0]\n",
    "    z = W[1,1]\n",
    "    \n",
    "    return (w*x + x*y*z + 3*w + z*np.power(y, 2))\n",
    "\n",
    "# lambda function 정의\n",
    "f = lambda W : func3(W)\n",
    "\n",
    "# (x, y) = (1.0, 2.0) 에서의 편미분 값\n",
    "W = np.array([[1.0, 2.0], [3.0, 4.0]])\n",
    "\n",
    "numerical_derivative(f, W)"
   ]
  },
  {
   "cell_type": "markdown",
   "metadata": {},
   "source": [
    "##### [예제 8] 1변수 함수 f(x) = x^2 에서 미분하고자 하는 입력값을 정수 3으로 주는 경우의 미분값과 실수 3.0으로 주는 경우 미분값이 다른 이유를 설명하시오\n",
    "즉, f'(3)과 f'(3.0)을 계산하는 수치미분 코드를 구현하고 각 결과값이 나온 이유를 설명하시오"
   ]
  },
  {
   "cell_type": "code",
   "execution_count": 14,
   "metadata": {},
   "outputs": [
    {
     "name": "stdout",
     "output_type": "stream",
     "text": [
      "debug 1. initial input variable = [3.]\n",
      "debug 2. initial grad = [0.]\n",
      "========================================\n",
      "debug 3. idx = (0,) , x[idx] = 3.0\n",
      "debug 4. grad[idx] = 6.000000000012662\n",
      "debug 5. grad = [6.]\n",
      "========================================\n",
      "debug 1. initial input variable = [3]\n",
      "debug 2. initial grad = [0]\n",
      "========================================\n",
      "debug 3. idx = (0,) , x[idx] = 3\n",
      "debug 4. grad[idx] = 25000\n",
      "debug 5. grad = [25000]\n",
      "========================================\n",
      "x = 3.0 -> [6.] , x = 3 -> [25000]\n"
     ]
    }
   ],
   "source": [
    "import numpy as np\n",
    "\n",
    "def numerical_derivative(f, x):  # 수치미분 debug version\n",
    "    delta_x = 1e-4\n",
    "    grad = np.zeros_like(x)\n",
    "    print(\"debug 1. initial input variable =\", x)\n",
    "    print(\"debug 2. initial grad =\", grad)\n",
    "    print(\"========================================\")\n",
    "    \n",
    "    it = np.nditer(x, flags=['multi_index'], op_flags=['readwrite'])\n",
    "    \n",
    "    while not it.finished:\n",
    "        idx = it.multi_index\n",
    "        \n",
    "        print(\"debug 3. idx =\", idx, \", x[idx] =\", x[idx])\n",
    "        \n",
    "        tmp_val = x[idx]\n",
    "        x[idx] = float(tmp_val) + delta_x\n",
    "        fx1 = f(x)  # f(x+delta_x)\n",
    "        \n",
    "        x[idx] = tmp_val - delta_x\n",
    "        fx2 = f(x)  # f(x-delta_x)\n",
    "        grad[idx] = (fx1 - fx2) / (2*delta_x)\n",
    "        \n",
    "        print(\"debug 4. grad[idx] =\", grad[idx])\n",
    "        print(\"debug 5. grad =\", grad)\n",
    "        print(\"========================================\")\n",
    "        \n",
    "        x[idx] = tmp_val\n",
    "        it.iternext()\n",
    "        \n",
    "    return grad\n",
    "\n",
    "# 입력변수 1개인 함수 f(x) = x**2\n",
    "def func1(W):\n",
    "    x = W[0]\n",
    "    \n",
    "    return x**2\n",
    "\n",
    "# lambda function 정의\n",
    "f = lambda W : func1(W)\n",
    "\n",
    "W1 = np.array([3.0])\n",
    "W2 = np.array([3])\n",
    "\n",
    "print(\"x = 3.0 ->\", numerical_derivative(f, W1), \", x = 3 ->\", numerical_derivative(f, W2))"
   ]
  },
  {
   "cell_type": "code",
   "execution_count": null,
   "metadata": {},
   "outputs": [],
   "source": []
  }
 ],
 "metadata": {
  "kernelspec": {
   "display_name": "Python 3",
   "language": "python",
   "name": "python3"
  },
  "language_info": {
   "codemirror_mode": {
    "name": "ipython",
    "version": 3
   },
   "file_extension": ".py",
   "mimetype": "text/x-python",
   "name": "python",
   "nbconvert_exporter": "python",
   "pygments_lexer": "ipython3",
   "version": "3.7.4"
  }
 },
 "nbformat": 4,
 "nbformat_minor": 2
}

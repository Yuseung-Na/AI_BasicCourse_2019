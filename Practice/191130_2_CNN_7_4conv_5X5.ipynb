{
 "cells": [
  {
   "cell_type": "code",
   "execution_count": 14,
   "metadata": {},
   "outputs": [
    {
     "name": "stdout",
     "output_type": "stream",
     "text": [
      "Extracting MNIST_data/train-images-idx3-ubyte.gz\n",
      "Extracting MNIST_data/train-labels-idx1-ubyte.gz\n",
      "Extracting MNIST_data/t10k-images-idx3-ubyte.gz\n",
      "Extracting MNIST_data/t10k-labels-idx1-ubyte.gz\n",
      "\n",
      " 55000 10000 5000\n",
      "\n",
      "train image shape =  (55000, 784)\n",
      "train label shape =  (55000, 10)\n",
      "test image shape =  (10000, 784)\n",
      "test label shape =  (10000, 10)\n"
     ]
    }
   ],
   "source": [
    "import tensorflow as tf\n",
    "from tensorflow.examples.tutorials.mnist import input_data\n",
    "import numpy as np\n",
    "from datetime import datetime      # datetime.now() 를 이용하여 학습 경과 시간 측정\n",
    "import matplotlib.pyplot as plt\n",
    "%matplotlib inline\n",
    "\n",
    "# read_data_sets() 를 통해 데이터를 객체형태로 받아오고\n",
    "# one_hot 옵션을 통해 정답(label) 을 one-hot 인코딩된 형태로 받아옴\n",
    "\n",
    "mnist = input_data.read_data_sets(\"MNIST_data/\", one_hot=True)\n",
    "\n",
    "# mnist 데이터 셋은 train, test, validation 3개의 데이터 셋으로 구성되어 있으며.\n",
    "# num_examples 값을 통해 데이터의 갯수 확인 가능함\n",
    "\n",
    "print(\"\\n\", mnist.train.num_examples, mnist.test.num_examples, mnist.validation.num_examples)\n",
    "\n",
    "# 데이터는 784(28x28)개의 픽셀을 가지는 이미지와\n",
    "# 10(0~9)개 클래스를 가지는 one-hot 인코딩된 레이블(정답)을 가지고 있음\n",
    "\n",
    "print(\"\\ntrain image shape = \", np.shape(mnist.train.images))\n",
    "print(\"train label shape = \", np.shape(mnist.train.labels))\n",
    "print(\"test image shape = \", np.shape(mnist.test.images))\n",
    "print(\"test label shape = \", np.shape(mnist.test.labels))"
   ]
  },
  {
   "cell_type": "code",
   "execution_count": 2,
   "metadata": {},
   "outputs": [],
   "source": [
    "# Hyper-Parameter\n",
    "learning_rate = 0.001  # 학습율\n",
    "epochs = 30            # 반복횟수\n",
    "batch_size = 100      # 한번에 입력으로 주어지는 MNIST 개수"
   ]
  },
  {
   "cell_type": "code",
   "execution_count": 3,
   "metadata": {},
   "outputs": [],
   "source": [
    "# 입력과 정답을 위한 플레이스홀더 정의\n",
    "X = tf.placeholder(tf.float32, [None, 784])  \n",
    "\n",
    "T = tf.placeholder(tf.float32, [None, 10])  \n",
    "\n",
    "# 입력층의 출력 값. 컨볼루션 연산을 위해 reshape 시킴\n",
    "A1 = X_img = tf.reshape(X, [-1, 28, 28, 1])   # image 28 X 28 X 1 (black/white)"
   ]
  },
  {
   "cell_type": "code",
   "execution_count": 4,
   "metadata": {},
   "outputs": [],
   "source": [
    "# 1번째 컨볼루션 층\n",
    "# 5X5크기를 가지는 32개의 필터를 적용\n",
    "\n",
    "F2 = tf.Variable(tf.random_normal([5, 5, 1, 32], stddev=0.01))  \n",
    "b2 = tf.Variable(tf.constant(0.1, shape=[32]))   \n",
    "\n",
    "# 1번째 컨볼루션 연산을 통해 28 X 28 X1  => 28 X 28 X 32 \n",
    "C2 = tf.nn.conv2d(A1, F2, strides=[1, 1, 1, 1], padding='SAME')\n",
    "\n",
    "# relu\n",
    "Z2 = tf.nn.relu(C2+b2)\n",
    "\n",
    "# 1번째 max pooling을 통해 28 X 28 X 32  => 14 X 14 X 32 \n",
    "A2 = P2 = tf.nn.max_pool(Z2, ksize=[1, 2, 2, 1], strides=[1, 2, 2, 1], padding='SAME')"
   ]
  },
  {
   "cell_type": "code",
   "execution_count": 5,
   "metadata": {},
   "outputs": [],
   "source": [
    "# 2번째 컨볼루션 층\n",
    "F3 = tf.Variable(tf.random_normal([5, 5, 32, 64], stddev=0.01))  \n",
    "b3 = tf.Variable(tf.constant(0.1, shape=[64]))   \n",
    "\n",
    "# 2번째 컨볼루션 연산을 통해 14 X 14 X 32 => 14 X 14 X 64 \n",
    "C3 = tf.nn.conv2d(A2, F3, strides=[1, 1, 1, 1], padding='SAME')\n",
    "\n",
    "# relu\n",
    "Z3 = tf.nn.relu(C3+b3)\n",
    "\n",
    "# 2번째 max pooling을 통해 14 X 14 X 64 => 7 X 7 X 64\n",
    "A3 = P3 = tf.nn.max_pool(Z3, ksize=[1, 2, 2, 1], strides=[1, 2, 2, 1], padding='SAME')"
   ]
  },
  {
   "cell_type": "code",
   "execution_count": 6,
   "metadata": {},
   "outputs": [],
   "source": [
    "# 3번째 컨볼루션 층\n",
    "F4 = tf.Variable(tf.random_normal([5, 5, 64, 128], stddev=0.01))  \n",
    "b4 = tf.Variable(tf.constant(0.1, shape=[128]))   \n",
    "\n",
    "# 3번째 컨볼루션 연산을 통해 7 X 7 X 64 => 7 X 7 X 128\n",
    "C4 = tf.nn.conv2d(A3, F4, strides=[1, 1, 1, 1], padding='SAME')\n",
    "\n",
    "# relu\n",
    "Z4 = tf.nn.relu(C4+b4)\n",
    "\n",
    "# 3번째 max pooling을 통해 7 X 7 X 128 => 4 X 4 X 128\n",
    "A4 = tf.nn.max_pool(Z4, ksize=[1, 2, 2, 1], strides=[1, 2, 2, 1], padding='SAME')"
   ]
  },
  {
   "cell_type": "code",
   "execution_count": 7,
   "metadata": {},
   "outputs": [],
   "source": [
    "# 4번째 컨볼루션 층\n",
    "F5 = tf.Variable(tf.random_normal([5, 5, 128, 256], stddev=0.01))  \n",
    "b5 = tf.Variable(tf.constant(0.1, shape=[256]))   \n",
    "\n",
    "# 3번째 컨볼루션 연산을 통해 4 X 4 X 128 => 4 X 4 X 256\n",
    "C5 = tf.nn.conv2d(A4, F5, strides=[1, 1, 1, 1], padding='SAME')\n",
    "\n",
    "# relu\n",
    "Z5 = tf.nn.relu(C5+b5)\n",
    "\n",
    "# 3번째 max pooling을 통해 4 X 4 X 256 => 2 X 2 X 256\n",
    "A5 = P5 = tf.nn.max_pool(Z5, ksize=[1, 2, 2, 1], strides=[1, 2, 2, 1], padding='SAME')"
   ]
  },
  {
   "cell_type": "code",
   "execution_count": 8,
   "metadata": {},
   "outputs": [],
   "source": [
    "# 2X2 크기를 가진 256개의 activation map을 flatten 시킴\n",
    "A5_flat = P5_flat = tf.reshape(A5, [-1, 256*2*2])"
   ]
  },
  {
   "cell_type": "code",
   "execution_count": 9,
   "metadata": {},
   "outputs": [],
   "source": [
    "# 출력층\n",
    "W6 = tf.Variable(tf.random_normal([256*2*2, 10], stddev=0.01))\n",
    "b6 = tf.Variable(tf.random_normal([10]))\n",
    "\n",
    "# 출력층 선형회귀  값 Z6, 즉 softmax 에 들어가는 입력 값\n",
    "Z6 = logits = tf.matmul(A5_flat, W6) + b6    # 선형회귀 값 Z6\n",
    "\n",
    "y = A6 = tf.nn.softmax(Z6)"
   ]
  },
  {
   "cell_type": "code",
   "execution_count": 10,
   "metadata": {},
   "outputs": [],
   "source": [
    "loss = tf.reduce_mean( tf.nn.softmax_cross_entropy_with_logits_v2(logits=Z6, labels=T) )\n",
    "\n",
    "optimizer = tf.train.AdamOptimizer(learning_rate)\n",
    "\n",
    "train = optimizer.minimize(loss)  "
   ]
  },
  {
   "cell_type": "code",
   "execution_count": 11,
   "metadata": {},
   "outputs": [],
   "source": [
    "# batch_size X 10 데이터에 대해 argmax를 통해 행단위로 비교함\n",
    "predicted_val = tf.equal( tf.argmax(A6, 1), tf.argmax(T, 1) )\n",
    "\n",
    "# batch_size X 10 의 True, False 를 1 또는 0 으로 변환\n",
    "accuracy = tf.reduce_mean(tf.cast(predicted_val, dtype=tf.float32))\n",
    "\n",
    "# index list 출력\n",
    "accuracy_index = tf.cast(predicted_val, dtype=tf.float32)\n",
    "\n",
    "# 예측값 처리\n",
    "predicted_list = tf.argmax(A6, 1)"
   ]
  },
  {
   "cell_type": "code",
   "execution_count": 22,
   "metadata": {
    "scrolled": true
   },
   "outputs": [
    {
     "name": "stdout",
     "output_type": "stream",
     "text": [
      "epochs =  0 , step =  0 , loss_val =  2.6990693\n",
      "epochs =  0 , step =  100 , loss_val =  2.3100035\n",
      "epochs =  0 , step =  200 , loss_val =  2.2941985\n",
      "epochs =  0 , step =  300 , loss_val =  2.3117077\n",
      "epochs =  0 , step =  400 , loss_val =  2.292564\n",
      "epochs =  0 , step =  500 , loss_val =  2.2963924\n",
      "epochs =  1 , step =  0 , loss_val =  2.30693\n",
      "epochs =  1 , step =  100 , loss_val =  2.3084419\n",
      "epochs =  1 , step =  200 , loss_val =  2.2083693\n",
      "epochs =  1 , step =  300 , loss_val =  0.17232317\n",
      "epochs =  1 , step =  400 , loss_val =  0.010612669\n",
      "epochs =  1 , step =  500 , loss_val =  0.050339155\n",
      "epochs =  2 , step =  0 , loss_val =  0.16406687\n",
      "epochs =  2 , step =  100 , loss_val =  0.032983996\n",
      "epochs =  2 , step =  200 , loss_val =  0.010915633\n",
      "epochs =  2 , step =  300 , loss_val =  0.04252267\n",
      "epochs =  2 , step =  400 , loss_val =  0.011296379\n",
      "epochs =  2 , step =  500 , loss_val =  0.021902518\n",
      "epochs =  3 , step =  0 , loss_val =  0.051931728\n",
      "epochs =  3 , step =  100 , loss_val =  0.029537914\n",
      "epochs =  3 , step =  200 , loss_val =  0.02834408\n",
      "epochs =  3 , step =  300 , loss_val =  0.011965816\n",
      "epochs =  3 , step =  400 , loss_val =  0.007158755\n",
      "epochs =  3 , step =  500 , loss_val =  0.007783809\n",
      "epochs =  4 , step =  0 , loss_val =  0.006682835\n",
      "epochs =  4 , step =  100 , loss_val =  0.002962303\n",
      "epochs =  4 , step =  200 , loss_val =  0.0077079083\n",
      "epochs =  4 , step =  300 , loss_val =  0.028616514\n",
      "epochs =  4 , step =  400 , loss_val =  0.13890347\n",
      "epochs =  4 , step =  500 , loss_val =  0.014513122\n",
      "epochs =  5 , step =  0 , loss_val =  0.015332208\n",
      "epochs =  5 , step =  100 , loss_val =  0.0009780033\n",
      "epochs =  5 , step =  200 , loss_val =  0.0018238282\n",
      "epochs =  5 , step =  300 , loss_val =  0.003604565\n",
      "epochs =  5 , step =  400 , loss_val =  0.029229973\n",
      "epochs =  5 , step =  500 , loss_val =  0.0071635516\n",
      "epochs =  6 , step =  0 , loss_val =  0.022308888\n",
      "epochs =  6 , step =  100 , loss_val =  0.0003236941\n",
      "epochs =  6 , step =  200 , loss_val =  0.033615727\n",
      "epochs =  6 , step =  300 , loss_val =  0.03496119\n",
      "epochs =  6 , step =  400 , loss_val =  0.007052471\n",
      "epochs =  6 , step =  500 , loss_val =  0.00096569926\n",
      "epochs =  7 , step =  0 , loss_val =  0.00019094303\n",
      "epochs =  7 , step =  100 , loss_val =  0.008919088\n",
      "epochs =  7 , step =  200 , loss_val =  0.0023350322\n",
      "epochs =  7 , step =  300 , loss_val =  0.00032683212\n",
      "epochs =  7 , step =  400 , loss_val =  0.0011889155\n",
      "epochs =  7 , step =  500 , loss_val =  0.00074314757\n",
      "epochs =  8 , step =  0 , loss_val =  0.000672339\n",
      "epochs =  8 , step =  100 , loss_val =  0.007696271\n",
      "epochs =  8 , step =  200 , loss_val =  0.0020311926\n",
      "epochs =  8 , step =  300 , loss_val =  0.055036988\n",
      "epochs =  8 , step =  400 , loss_val =  0.0046511926\n",
      "epochs =  8 , step =  500 , loss_val =  0.0036015424\n",
      "epochs =  9 , step =  0 , loss_val =  0.013237247\n",
      "epochs =  9 , step =  100 , loss_val =  2.9049324e-05\n",
      "epochs =  9 , step =  200 , loss_val =  0.028089395\n",
      "epochs =  9 , step =  300 , loss_val =  0.0022453077\n",
      "epochs =  9 , step =  400 , loss_val =  0.00024649763\n",
      "epochs =  9 , step =  500 , loss_val =  0.0010846085\n",
      "epochs =  10 , step =  0 , loss_val =  0.00010534704\n",
      "epochs =  10 , step =  100 , loss_val =  0.009148996\n",
      "epochs =  10 , step =  200 , loss_val =  0.00029632248\n",
      "epochs =  10 , step =  300 , loss_val =  0.026980147\n",
      "epochs =  10 , step =  400 , loss_val =  0.0020003149\n",
      "epochs =  10 , step =  500 , loss_val =  0.0016409197\n",
      "epochs =  11 , step =  0 , loss_val =  0.005312799\n",
      "epochs =  11 , step =  100 , loss_val =  0.002148503\n",
      "epochs =  11 , step =  200 , loss_val =  9.209359e-05\n",
      "epochs =  11 , step =  300 , loss_val =  0.0075808885\n",
      "epochs =  11 , step =  400 , loss_val =  0.0016072234\n",
      "epochs =  11 , step =  500 , loss_val =  0.01460164\n",
      "epochs =  12 , step =  0 , loss_val =  0.0011475404\n",
      "epochs =  12 , step =  100 , loss_val =  0.00019585408\n",
      "epochs =  12 , step =  200 , loss_val =  5.6379868e-05\n",
      "epochs =  12 , step =  300 , loss_val =  0.00010397524\n",
      "epochs =  12 , step =  400 , loss_val =  2.7905082e-06\n",
      "epochs =  12 , step =  500 , loss_val =  0.00038245923\n",
      "epochs =  13 , step =  0 , loss_val =  0.0031411499\n",
      "epochs =  13 , step =  100 , loss_val =  0.0014062192\n",
      "epochs =  13 , step =  200 , loss_val =  6.431178e-05\n",
      "epochs =  13 , step =  300 , loss_val =  0.0009767932\n",
      "epochs =  13 , step =  400 , loss_val =  2.6523492e-05\n",
      "epochs =  13 , step =  500 , loss_val =  0.0024374756\n",
      "epochs =  14 , step =  0 , loss_val =  0.018205747\n",
      "epochs =  14 , step =  100 , loss_val =  0.000492481\n",
      "epochs =  14 , step =  200 , loss_val =  2.5631343e-05\n",
      "epochs =  14 , step =  300 , loss_val =  0.011178813\n",
      "epochs =  14 , step =  400 , loss_val =  0.00046670495\n",
      "epochs =  14 , step =  500 , loss_val =  0.013751986\n",
      "epochs =  15 , step =  0 , loss_val =  0.00072343723\n",
      "epochs =  15 , step =  100 , loss_val =  0.00028804914\n",
      "epochs =  15 , step =  200 , loss_val =  2.164734e-06\n",
      "epochs =  15 , step =  300 , loss_val =  2.9777868e-06\n",
      "epochs =  15 , step =  400 , loss_val =  0.00049880176\n",
      "epochs =  15 , step =  500 , loss_val =  0.00018730147\n",
      "epochs =  16 , step =  0 , loss_val =  0.017636957\n",
      "epochs =  16 , step =  100 , loss_val =  0.00014343257\n",
      "epochs =  16 , step =  200 , loss_val =  3.5005727e-05\n",
      "epochs =  16 , step =  300 , loss_val =  1.9455614e-05\n",
      "epochs =  16 , step =  400 , loss_val =  0.00090939534\n",
      "epochs =  16 , step =  500 , loss_val =  0.00028623152\n",
      "epochs =  17 , step =  0 , loss_val =  6.0370676e-05\n",
      "epochs =  17 , step =  100 , loss_val =  1.9286521e-05\n",
      "epochs =  17 , step =  200 , loss_val =  0.0035298031\n",
      "epochs =  17 , step =  300 , loss_val =  4.6725922e-06\n",
      "epochs =  17 , step =  400 , loss_val =  1.1050522e-05\n",
      "epochs =  17 , step =  500 , loss_val =  0.06483832\n",
      "epochs =  18 , step =  0 , loss_val =  0.027707329\n",
      "epochs =  18 , step =  100 , loss_val =  2.8116721e-05\n",
      "epochs =  18 , step =  200 , loss_val =  4.1933586e-06\n",
      "epochs =  18 , step =  300 , loss_val =  0.0005922652\n",
      "epochs =  18 , step =  400 , loss_val =  8.314264e-05\n",
      "epochs =  18 , step =  500 , loss_val =  0.00016023405\n",
      "epochs =  19 , step =  0 , loss_val =  0.00038850761\n",
      "epochs =  19 , step =  100 , loss_val =  0.00018634173\n",
      "epochs =  19 , step =  200 , loss_val =  1.9406655e-06\n",
      "epochs =  19 , step =  300 , loss_val =  0.025342025\n",
      "epochs =  19 , step =  400 , loss_val =  2.9754525e-05\n",
      "epochs =  19 , step =  500 , loss_val =  1.8178602e-06\n",
      "epochs =  20 , step =  0 , loss_val =  0.0017384206\n",
      "epochs =  20 , step =  100 , loss_val =  2.3995608e-06\n",
      "epochs =  20 , step =  200 , loss_val =  1.9299246e-06\n",
      "epochs =  20 , step =  300 , loss_val =  0.00016403888\n",
      "epochs =  20 , step =  400 , loss_val =  7.334427e-05\n",
      "epochs =  20 , step =  500 , loss_val =  1.4941024e-05\n",
      "epochs =  21 , step =  0 , loss_val =  0.00023389819\n",
      "epochs =  21 , step =  100 , loss_val =  0.002759607\n",
      "epochs =  21 , step =  200 , loss_val =  0.056402825\n",
      "epochs =  21 , step =  300 , loss_val =  0.00047346018\n",
      "epochs =  21 , step =  400 , loss_val =  0.0030671956\n",
      "epochs =  21 , step =  500 , loss_val =  2.4440063e-05\n",
      "epochs =  22 , step =  0 , loss_val =  3.746126e-05\n",
      "epochs =  22 , step =  100 , loss_val =  4.269312e-06\n",
      "epochs =  22 , step =  200 , loss_val =  0.00089729973\n",
      "epochs =  22 , step =  300 , loss_val =  3.5985806e-06\n",
      "epochs =  22 , step =  400 , loss_val =  0.022524986\n",
      "epochs =  22 , step =  500 , loss_val =  0.0003847388\n",
      "epochs =  23 , step =  0 , loss_val =  0.02971691\n",
      "epochs =  23 , step =  100 , loss_val =  1.2182877e-06\n",
      "epochs =  23 , step =  200 , loss_val =  0.0071236687\n",
      "epochs =  23 , step =  300 , loss_val =  2.037046e-05\n",
      "epochs =  23 , step =  400 , loss_val =  1.9626315e-05\n",
      "epochs =  23 , step =  500 , loss_val =  4.5581794e-05\n",
      "epochs =  24 , step =  0 , loss_val =  1.876475e-05\n",
      "epochs =  24 , step =  100 , loss_val =  7.2810886e-05\n",
      "epochs =  24 , step =  200 , loss_val =  0.00024642225\n",
      "epochs =  24 , step =  300 , loss_val =  0.0030850524\n",
      "epochs =  24 , step =  400 , loss_val =  0.00015000366\n",
      "epochs =  24 , step =  500 , loss_val =  0.0004731301\n",
      "epochs =  25 , step =  0 , loss_val =  2.9003855e-05\n",
      "epochs =  25 , step =  100 , loss_val =  6.437294e-08\n",
      "epochs =  25 , step =  200 , loss_val =  0.036643747\n",
      "epochs =  25 , step =  300 , loss_val =  0.0016728332\n",
      "epochs =  25 , step =  400 , loss_val =  0.00021641311\n"
     ]
    },
    {
     "name": "stdout",
     "output_type": "stream",
     "text": [
      "epochs =  25 , step =  500 , loss_val =  4.434986e-05\n",
      "epochs =  26 , step =  0 , loss_val =  3.1767122e-06\n",
      "epochs =  26 , step =  100 , loss_val =  0.0011016001\n",
      "epochs =  26 , step =  200 , loss_val =  3.7853963e-05\n",
      "epochs =  26 , step =  300 , loss_val =  0.0055228127\n",
      "epochs =  26 , step =  400 , loss_val =  1.0299476e-06\n",
      "epochs =  26 , step =  500 , loss_val =  0.0012464143\n",
      "epochs =  27 , step =  0 , loss_val =  1.5818418e-06\n",
      "epochs =  27 , step =  100 , loss_val =  0.00018983193\n",
      "epochs =  27 , step =  200 , loss_val =  0.0014279091\n",
      "epochs =  27 , step =  300 , loss_val =  0.0003457438\n",
      "epochs =  27 , step =  400 , loss_val =  0.020424357\n",
      "epochs =  27 , step =  500 , loss_val =  0.001054959\n",
      "epochs =  28 , step =  0 , loss_val =  8.0748316e-05\n",
      "epochs =  28 , step =  100 , loss_val =  2.5157311e-05\n",
      "epochs =  28 , step =  200 , loss_val =  1.5973988e-07\n",
      "epochs =  28 , step =  300 , loss_val =  7.033341e-08\n",
      "epochs =  28 , step =  400 , loss_val =  7.891464e-07\n",
      "epochs =  28 , step =  500 , loss_val =  0.017995834\n",
      "epochs =  29 , step =  0 , loss_val =  0.004052861\n",
      "epochs =  29 , step =  100 , loss_val =  0.00088518026\n",
      "epochs =  29 , step =  200 , loss_val =  0.027732577\n",
      "epochs =  29 , step =  300 , loss_val =  0.00036015877\n",
      "epochs =  29 , step =  400 , loss_val =  1.0260479e-05\n",
      "epochs =  29 , step =  500 , loss_val =  0.05183544\n",
      "\n",
      "elapsed time =  0:03:00.370478\n",
      "\n",
      "Accuracy =  0.992\n",
      "type(accuracy_val) =  <class 'numpy.float32'> , type(predicted_list_val) =  <class 'numpy.ndarray'> , type(index_label) =  <class 'numpy.ndarray'>\n",
      "index_label.shape =  (10000,)\n",
      "length of index_label_list =  10000\n",
      "false label count =  80\n",
      "F2_val.shape =  (5, 5, 1, 32) , F3_val.shape =  (5, 5, 32, 64) , F4_val.shape =  (5, 5, 64, 128) , F5_val.shape =  (5, 5, 128, 256)\n",
      "C2_val.shape =  (10000, 28, 28, 32) , C3_val.shape =  (10000, 14, 14, 64) , C4_val.shape =  (10000, 7, 7, 128) , C5_val.shape =  (10000, 4, 4, 256)\n",
      "\n",
      "length of index_label_false_list 80\n"
     ]
    },
    {
     "data": {
      "image/png": "[encoded data removed]",
      "text/plain": [
       "<Figure size 432x288 with 1 Axes>"
      ]
     },
     "metadata": {
      "needs_background": "light"
     },
     "output_type": "display_data"
    }
   ],
   "source": [
    "index_label_prediction_list = []\n",
    "\n",
    "with  tf.Session()  as sess:\n",
    "    \n",
    "    sess.run(tf.global_variables_initializer())  # 변수 노드(tf.Variable) 초기화\n",
    "    \n",
    "    start_time = datetime.now()\n",
    "    \n",
    "    for i in range(epochs):    # 30 번 반복수행\n",
    "        \n",
    "        total_batch = int(mnist.train.num_examples / batch_size)  # 55,000 / 100\n",
    "\n",
    "        for step in range(total_batch):\n",
    "            \n",
    "            batch_x_data, batch_t_data = mnist.train.next_batch(batch_size)\n",
    "      \n",
    "            loss_val, _ = sess.run([loss, train], feed_dict={X: batch_x_data, T: batch_t_data})    \n",
    "        \n",
    "            if step % 100 == 0:\n",
    "                print(\"epochs = \", i, \", step = \", step, \", loss_val = \", loss_val)             \n",
    "    \n",
    "    end_time = datetime.now() \n",
    "    \n",
    "    print(\"\\nelapsed time = \", end_time - start_time) \n",
    "    \n",
    "    # Accuracy 확인\n",
    "    test_x_data = mnist.test.images    # 10000 X 784\n",
    "    test_t_data = mnist.test.labels    # 10000 X 10\n",
    "    \n",
    "    accuracy_val, predicted_list_val, index_label = sess.run([accuracy, predicted_list, accuracy_index], feed_dict={X: test_x_data, T: test_t_data})\n",
    "    F2_val, F3_val, F4_val, F5_val = sess.run([F2, F3, F4, F5], feed_dict={X: test_x_data, T: test_t_data})\n",
    "    C2_val, C3_val, C4_val, C5_val = sess.run([C2, C3, C4, C5], feed_dict={X: test_x_data, T: test_t_data})\n",
    "    \n",
    "    print(\"\\nAccuracy = \", accuracy_val)\n",
    "    print(\"type(accuracy_val) = \", type(accuracy_val), ', type(predicted_list_val) = ', type(predicted_list_val), ', type(index_label) = ', type(index_label))\n",
    "    print(\"index_label.shape = \", index_label.shape)\n",
    "    \n",
    "    index_label_list = list(index_label)\n",
    "    print(\"length of index_label_list = \", len(index_label_list))\n",
    "    print(\"false label count = \", index_label_list.count([0]))\n",
    "    \n",
    "    print('F2_val.shape = ', F2_val.shape, ', F3_val.shape = ', F3_val.shape, ', F4_val.shape = ', F4_val.shape, ', F5_val.shape = ', F5_val.shape)\n",
    "    print('C2_val.shape = ', C2_val.shape, ', C3_val.shape = ', C3_val.shape, ', C4_val.shape = ', C4_val.shape, ', C5_val.shape = ', C5_val.shape)\n",
    "        \n",
    "    plt.imshow(C2_val[0, :, :, 12]) # C2에서 0번째 index image의 12번째 filter에 의한 그림 출력 (filter는 32개 있음)\n",
    "    \n",
    "    # numpy type 으로 디버그\n",
    "    temp_list = [] \n",
    "    \n",
    "    for index in range(len(index_label)):\n",
    "        \n",
    "        if index_label[index] == 0:\n",
    "            \n",
    "            temp_list.append(index)\n",
    "            temp_list.append(np.argmax(test_t_data[index]))  # one-hot encoding 이므로 argmax 로 정답 추출\n",
    "            temp_list.append(predicted_list_val[index])\n",
    "            \n",
    "            index_label_prediction_list.append(temp_list)\n",
    "            \n",
    "            temp_list = []\n",
    "            \n",
    "    print(\"\\nlength of index_label_false_list\", len(index_label_prediction_list))"
   ]
  },
  {
   "cell_type": "code",
   "execution_count": 23,
   "metadata": {},
   "outputs": [
    {
     "data": {
      "text/plain": [
       "<matplotlib.image.AxesImage at 0x1b7907e5f88>"
      ]
     },
     "execution_count": 23,
     "metadata": {},
     "output_type": "execute_result"
    },
    {
     "data": {
      "image/png": "[encoded data removed]",
      "text/plain": [
       "<Figure size 432x288 with 1 Axes>"
      ]
     },
     "metadata": {
      "needs_background": "light"
     },
     "output_type": "display_data"
    }
   ],
   "source": [
    "plt.imshow(test_x_data[0].reshape(28, 28))"
   ]
  },
  {
   "cell_type": "code",
   "execution_count": 13,
   "metadata": {},
   "outputs": [
    {
     "name": "stdout",
     "output_type": "stream",
     "text": [
      "[[582, 8, 2], [684, 7, 2], [938, 3, 5], [947, 8, 9], [1014, 6, 5], [1039, 7, 1], [1112, 4, 6], [1226, 7, 2], [1232, 9, 4], [1247, 9, 5], [1319, 8, 0], [1520, 7, 2], [1559, 9, 5], [1878, 8, 3], [1901, 9, 4], [1903, 7, 2], [1982, 6, 8], [2035, 5, 3], [2070, 7, 9], [2129, 9, 8], [2130, 4, 9], [2135, 6, 1], [2293, 9, 4], [2369, 5, 3], [2414, 9, 4], [2597, 5, 3], [2654, 6, 1], [2896, 8, 0], [2927, 3, 2], [2953, 3, 5], [3225, 7, 9], [3289, 8, 9], [3422, 6, 0], [3475, 3, 7], [3520, 6, 4], [3558, 5, 0], [3818, 0, 6], [3853, 6, 0], [3985, 9, 4], [4078, 9, 8], [4224, 9, 7], [4284, 9, 5], [4443, 3, 2], [4497, 8, 2], [4740, 3, 5], [4761, 9, 4], [4823, 9, 4], [4860, 4, 9], [4874, 9, 0], [5654, 7, 2], [5937, 5, 3], [6065, 3, 8], [6555, 8, 9], [6571, 9, 7], [6576, 7, 1], [6597, 0, 9], [6625, 8, 7], [6883, 1, 2], [7216, 0, 6], [8094, 2, 8], [8277, 3, 5], [8316, 7, 2], [8408, 8, 5], [9505, 7, 2], [9642, 9, 7], [9679, 6, 1], [9729, 5, 6]]\n"
     ]
    }
   ],
   "source": [
    "# index_label_prediction_list\n",
    "print(index_label_prediction_list)"
   ]
  },
  {
   "cell_type": "code",
   "execution_count": 15,
   "metadata": {},
   "outputs": [
    {
     "name": "stdout",
     "output_type": "stream",
     "text": [
      "10 image is saved now\n",
      "20 image is saved now\n",
      "30 image is saved now\n",
      "40 image is saved now\n",
      "50 image is saved now\n",
      "60 image is saved now\n",
      "Elapsed save time =>  0:00:24.182000\n",
      "Total  66  data is saved\n"
     ]
    },
    {
     "data": {
      "image/png": "[encoded data removed]",
      "text/plain": [
       "<matplotlib.figure.Figure at 0x1018b6d8>"
      ]
     },
     "metadata": {},
     "output_type": "display_data"
    }
   ],
   "source": [
    "# check false data\n",
    "import os\n",
    "from datetime import datetime\n",
    "import matplotlib.pyplot as plt\n",
    "%matplotlib inline\n",
    "\n",
    "save_count = 0\n",
    "\n",
    "# 현재 디렉토리 저장\n",
    "curr_dir = os.getcwd()\n",
    "\n",
    "# image 저장할 디렉토리 생성. 현재 시간으로 생성\n",
    "now = datetime.now()\n",
    "algorithm_name = 'CNN_3Conv_4X4_Adam_'\n",
    "dir_name = algorithm_name + str(now.year) + '-' + str(now.month) + '-' + str(now.day) + '_' + str(now.hour) + str(now.minute) + str(now.second)\n",
    "\n",
    "os.mkdir(dir_name)\n",
    "\n",
    "# change dir\n",
    "os.chdir(dir_name)\n",
    "\n",
    "start_time = datetime.now()\n",
    "\n",
    "for list_data in index_label_prediction_list:\n",
    "    \n",
    "    index_int = list_data[0]\n",
    "    label_int = list_data[1]\n",
    "    prediction_int = list_data[2]\n",
    "        \n",
    "    # 저장할 이미지를 인덱스를 이용하여 가져옴\n",
    "    img = test_x_data[index_int].reshape(28,28)  \n",
    "    plt.imshow(img, cmap='gray')\n",
    "    \n",
    "    # 정답 문자열\n",
    "    label_str = str(label_int)\n",
    "    \n",
    "    # 예측값 문자열\n",
    "    prediction_str = str(prediction_int)\n",
    "    \n",
    "    # 정답과 오답을 나타내는 문자열\n",
    "    label_prediction_str = 'label = ' + label_str + '  ,  prediction = ' + prediction_str\n",
    "    \n",
    "    # 저장 파일 이름 생성, str(index_int).png\n",
    "    save_image_name = str(index_int) + '.png'\n",
    "    \n",
    "    plt.title(label_prediction_str)\n",
    "    plt.savefig(save_image_name)\n",
    "    \n",
    "    save_count += 1\n",
    "    \n",
    "    if save_count % 10 == 0:\n",
    "        \n",
    "        print(save_count, 'image is saved now')\n",
    "\n",
    "    \n",
    "end_time = datetime.now()\n",
    "\n",
    "print('Elapsed save time => ', end_time - start_time)\n",
    "print('Total ', save_count, \" data is saved\")\n",
    "\n",
    "# 원래의 dir 로 복귀\n",
    "os.chdir(curr_dir)"
   ]
  },
  {
   "cell_type": "code",
   "execution_count": null,
   "metadata": {
    "collapsed": true
   },
   "outputs": [],
   "source": []
  }
 ],
 "metadata": {
  "anaconda-cloud": {},
  "kernelspec": {
   "display_name": "Python 3",
   "language": "python",
   "name": "python3"
  },
  "language_info": {
   "codemirror_mode": {
    "name": "ipython",
    "version": 3
   },
   "file_extension": ".py",
   "mimetype": "text/x-python",
   "name": "python",
   "nbconvert_exporter": "python",
   "pygments_lexer": "ipython3",
   "version": "3.7.4"
  }
 },
 "nbformat": 4,
 "nbformat_minor": 1
}

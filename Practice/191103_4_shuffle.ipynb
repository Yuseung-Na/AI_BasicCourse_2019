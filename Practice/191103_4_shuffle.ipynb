{
 "cells": [
  {
   "cell_type": "markdown",
   "metadata": {},
   "source": [
    "## numpy random.shuffle 기능"
   ]
  },
  {
   "cell_type": "code",
   "execution_count": 1,
   "metadata": {},
   "outputs": [],
   "source": [
    "import numpy as np\n",
    "import random"
   ]
  },
  {
   "cell_type": "code",
   "execution_count": 2,
   "metadata": {},
   "outputs": [
    {
     "name": "stdout",
     "output_type": "stream",
     "text": [
      "list_data =  [15, 16, 17, 18, 19, 20, 21, 22, 23, 24] , list_data length =  10\n",
      "vector_data =  [ -1   2   5  -5   0   9  15 100  76  99] , vector_data length =  10\n"
     ]
    }
   ],
   "source": [
    "list_data = [data for data in range(15, 25)]\n",
    "print(\"list_data = \", list_data, \", list_data length = \", len(list_data)) \n",
    "\n",
    "vector_data = np.array([-1, 2, 5, -5, 0, 9, 15, 100, 76, 99])\n",
    "\n",
    "print(\"vector_data = \", vector_data, \", vector_data length = \", len(vector_data)) "
   ]
  },
  {
   "cell_type": "code",
   "execution_count": 4,
   "metadata": {},
   "outputs": [
    {
     "name": "stdout",
     "output_type": "stream",
     "text": [
      "list_data =  [18, 21, 24, 22, 16, 17, 19, 20, 15, 23] , list_data length =  10\n",
      "vector_data =  [ 76   5   9  -5  99   0  15  -1 100   2] , vector_data length =  10\n"
     ]
    }
   ],
   "source": [
    "random.shuffle(list_data)  # 리스트/벡터 에서만 사용 가능!\n",
    "print(\"list_data = \", list_data, \", list_data length = \", len(list_data)) \n",
    "\n",
    "random.shuffle(vector_data)  # 리스트/벡터 에서만 사용 가능!\n",
    "print(\"vector_data = \", vector_data, \", vector_data length = \", len(vector_data)) "
   ]
  },
  {
   "cell_type": "code",
   "execution_count": 5,
   "metadata": {},
   "outputs": [
    {
     "name": "stdout",
     "output_type": "stream",
     "text": [
      "list_data =  [18, 21, 24, 22, 16, 17, 19, 20, 15, 23] , list_data length =  10\n",
      "\n",
      "random_list_data_count =  3\n",
      "\n",
      "\n",
      "vector_data =  [ 76   5   9  -5  99   0  15  -1 100   2] , vector_data length =  10\n",
      "\n",
      "random_vector_data_count =  3\n"
     ]
    }
   ],
   "source": [
    "seperation_rate = 0.3\n",
    "\n",
    "# list\n",
    "random_list_data_count = int(len(list_data)*seperation_rate)\n",
    "\n",
    "print(\"list_data = \", list_data, \", list_data length = \", len(list_data)) \n",
    "print(\"\\nrandom_list_data_count = \", random_list_data_count)\n",
    "\n",
    "# vector \n",
    "random_vector_data_count = int(len(vector_data)*seperation_rate)\n",
    "\n",
    "print(\"\\n\\nvector_data = \", vector_data, \", vector_data length = \", len(vector_data)) \n",
    "print(\"\\nrandom_vector_data_count = \", random_vector_data_count)"
   ]
  },
  {
   "cell_type": "code",
   "execution_count": 7,
   "metadata": {},
   "outputs": [
    {
     "name": "stdout",
     "output_type": "stream",
     "text": [
      "test data list =  [18, 21, 24] , type(test_data_list) =  <class 'list'>\n",
      "\n",
      "training data list=  [22, 16, 17, 19, 20, 15, 23]\n",
      "\n",
      "list_data  =  [18, 21, 24, 22, 16, 17, 19, 20, 15, 23]\n",
      "\n",
      "\n",
      "test data vector =  [76  5  9] , type(test_data_vector) =  <class 'numpy.ndarray'>\n",
      "\n",
      "training data vector=  [ -5  99   0  15  -1 100   2]\n",
      "\n",
      "vector_data  =  [ 76   5   9  -5  99   0  15  -1 100   2]\n"
     ]
    }
   ],
   "source": [
    "# list\n",
    "# test data 분리\n",
    "test_data_list = list_data[ :random_list_data_count ]\n",
    "\n",
    "print(\"test data list = \", test_data_list, ', type(test_data_list) = ', type(test_data_list))\n",
    "\n",
    "# training data 분리\n",
    "training_data_list = list_data[ random_list_data_count: ]\n",
    "\n",
    "print(\"\\ntraining data list= \", training_data_list)\n",
    "\n",
    "print(\"\\nlist_data  = \", list_data)\n",
    "\n",
    "# vector\n",
    "# test data 분리\n",
    "test_data_vector = vector_data[ :random_vector_data_count ]\n",
    "\n",
    "print(\"\\n\\ntest data vector = \", test_data_vector, ', type(test_data_vector) = ', type(test_data_vector))\n",
    "\n",
    "# training data 분리\n",
    "training_data_vector = vector_data[ random_vector_data_count: ]\n",
    "\n",
    "print(\"\\ntraining data vector= \", training_data_vector)\n",
    "\n",
    "print(\"\\nvector_data  = \", vector_data)"
   ]
  },
  {
   "cell_type": "code",
   "execution_count": 8,
   "metadata": {},
   "outputs": [
    {
     "name": "stdout",
     "output_type": "stream",
     "text": [
      "training_data_1.shape =  (7,) , test_data_1.shape =  (3,)\n",
      "\n",
      "\n",
      "training_data_2.shape =  (7,) , test_data_2.shape =  (3,)\n"
     ]
    }
   ],
   "source": [
    "# list 타입 -> np.array 타입으로 변환\n",
    "training_data_1 = np.array(training_data_list)\n",
    "test_data_1 = np.array(test_data_list)\n",
    "\n",
    "print(\"training_data_1.shape = \", training_data_1.shape, \", test_data_1.shape = \", test_data_1.shape)\n",
    "\n",
    "\n",
    "# vector\n",
    "training_data_2 = np.array(training_data_vector)\n",
    "test_data_2 = np.array(test_data_vector)\n",
    "\n",
    "print(\"\\n\\ntraining_data_2.shape = \", training_data_2.shape, \", test_data_2.shape = \", test_data_2.shape)"
   ]
  },
  {
   "cell_type": "code",
   "execution_count": 9,
   "metadata": {},
   "outputs": [],
   "source": [
    "# save training & test data (.csv)\n",
    "np.savetxt('./shuffle_training_data_list.csv', training_data_1, delimiter=',')\n",
    "np.savetxt('./shuffle_test_data_list.csv', test_data_1, delimiter=',')\n",
    "\n",
    "# save training & test data (.csv)\n",
    "np.savetxt('./shuffle_training_data_vector.csv', training_data_2, delimiter=',')\n",
    "np.savetxt('./shuffle_test_data_vector.csv', test_data_2, delimiter=',')"
   ]
  },
  {
   "cell_type": "code",
   "execution_count": null,
   "metadata": {},
   "outputs": [],
   "source": []
  }
 ],
 "metadata": {
  "kernelspec": {
   "display_name": "Python 3",
   "language": "python",
   "name": "python3"
  },
  "language_info": {
   "codemirror_mode": {
    "name": "ipython",
    "version": 3
   },
   "file_extension": ".py",
   "mimetype": "text/x-python",
   "name": "python",
   "nbconvert_exporter": "python",
   "pygments_lexer": "ipython3",
   "version": "3.7.4"
  }
 },
 "nbformat": 4,
 "nbformat_minor": 2
}

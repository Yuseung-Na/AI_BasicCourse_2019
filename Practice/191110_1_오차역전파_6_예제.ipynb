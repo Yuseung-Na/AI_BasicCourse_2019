{
 "cells": [
  {
   "cell_type": "code",
   "execution_count": 1,
   "metadata": {},
   "outputs": [],
   "source": [
    "import numpy as np\n",
    "import matplotlib.pyplot as plt\n",
    "from datetime import datetime\n",
    "\n",
    "%matplotlib inline"
   ]
  },
  {
   "cell_type": "code",
   "execution_count": 2,
   "metadata": {},
   "outputs": [],
   "source": [
    "# sigmoid 함수\n",
    "def sigmoid(x):\n",
    "    return 1 / (1+np.exp(-x))"
   ]
  },
  {
   "cell_type": "code",
   "execution_count": 3,
   "metadata": {},
   "outputs": [],
   "source": [
    "class NeuralNetwork:\n",
    "    def __init__(self, input_nodes, hidden_nodes, output_nodes, learning_rate):\n",
    "        \n",
    "        self.input_nodes = input_nodes\n",
    "        self.hidden_nodes = hidden_nodes\n",
    "        self.output_nodes = output_nodes\n",
    "        \n",
    "        # 은닉층 가중치  W2  Xavier/He 방법으로 self.W2 가중치 초기화\n",
    "        self.W2 = np.random.randn(self.input_nodes, self.hidden_nodes) / np.sqrt(self.input_nodes/2)\n",
    "        self.b2 = np.random.rand(self.hidden_nodes)      \n",
    "        \n",
    "        # 출력층 가중치는 W3  Xavier/He 방법으로 self.W3 가중치 초기화\n",
    "        self.W3 = np.random.randn(self.hidden_nodes, self.output_nodes) / np.sqrt(self.hidden_nodes/2)\n",
    "        self.b3 = np.random.rand(self.output_nodes)\n",
    "        \n",
    "        # 출력층 선형회귀 값 Z3, 출력값 A3 정의 (모두 행렬로 표시)\n",
    "        self.Z3 = np.zeros([1,output_nodes])\n",
    "        self.A3 = np.zeros([1,output_nodes])\n",
    "        \n",
    "        # 은닉층 선형회귀 값 Z2, 출력값 A2 정의 (모두 행렬로 표시)\n",
    "        self.Z2 = np.zeros([1,hidden_nodes])\n",
    "        self.A2 = np.zeros([1,hidden_nodes])\n",
    "        \n",
    "        # 입력층 선형회귀 값 Z1, 출력값 A1 정의 (모두 행렬로 표시)\n",
    "        self.Z1 = np.zeros([1,input_nodes])    \n",
    "        self.A1 = np.zeros([1,input_nodes])  \n",
    "                        \n",
    "        # 학습률 learning rate 초기화\n",
    "        self.learning_rate = learning_rate\n",
    "        \n",
    "    # 손실함수\n",
    "    def feed_forward(self):\n",
    "        delta = 1e-7    # log 무한대 발산 방지\n",
    "    \n",
    "        # 입력층 선형회귀 값 Z1, 출력값 A1 계산\n",
    "        self.Z1 = self.input_data\n",
    "        self.A1 = self.input_data\n",
    "        \n",
    "        # 은닉층 선형회귀 값 Z2, 출력값 A2 계산    \n",
    "        self.Z2 = np.dot(self.A1, self.W2) + self.b2\n",
    "        self.A2 = sigmoid(self.Z2)\n",
    "        \n",
    "        # 출력층 선형회귀 값 Z3, 출력값 A3 계산\n",
    "        self.Z3 = np.dot(self.A2, self.W3) + self.b3\n",
    "        self.A3 = sigmoid(self.Z3)\n",
    "        \n",
    "        return  -np.sum( self.target_data*np.log(self.A3 + delta) + (1-self.target_data)*np.log((1 - self.A3)+delta ) )    \n",
    "    \n",
    "    # 손실 값 계산\n",
    "    def loss_val(self):\n",
    "        delta = 1e-7    # log 무한대 발산 방지\n",
    "    \n",
    "        # 입력층 선형회귀 값 Z1, 출력값 A1 계산\n",
    "        self.Z1 = self.input_data\n",
    "        self.A1 = self.input_data\n",
    "        \n",
    "        # 은닉층 선형회귀 값 Z2, 출력값 A2 계산    \n",
    "        self.Z2 = np.dot(self.A1, self.W2) + self.b2\n",
    "        self.A2 = sigmoid(self.Z2)\n",
    "        \n",
    "        # 출력층 선형회귀 값 Z3, 출력값 A3 계산\n",
    "        self.Z3 = np.dot(self.A2, self.W3) + self.b3\n",
    "        self.A3 = sigmoid(self.Z3)\n",
    "        \n",
    "        return  -np.sum( self.target_data*np.log(self.A3 + delta) + (1-self.target_data)*np.log((1 - self.A3)+delta ) )\n",
    "   \n",
    "    def predict(self, input_data):        # input_data 는 행렬로 입력됨 즉, (1, 784) shape 을 가짐        \n",
    "        \n",
    "        Z2 = np.dot(input_data, self.W2) + self.b2\n",
    "        A2 = sigmoid(Z2)\n",
    "        \n",
    "        Z3 = np.dot(A2, self.W3) + self.b3\n",
    "        A3 = sigmoid(Z3)\n",
    "        \n",
    "        predicted_num = np.argmax(A3)\n",
    "    \n",
    "        return predicted_num\n",
    "    \n",
    "    # 정확도 측정함수\n",
    "    def accuracy(self, input_data, target_data):\n",
    "        \n",
    "        matched_list = []\n",
    "        not_matched_list = []\n",
    "        \n",
    "        # list which contains (index, label, prediction) value\n",
    "        index_label_prediction_list = []\n",
    "        \n",
    "        # temp list which contains label and prediction in sequence\n",
    "        temp_list = []\n",
    "        \n",
    "        for index in range(len(input_data)):\n",
    "                        \n",
    "            label = int(target_data[index])\n",
    "                        \n",
    "            # one-hot encoding을 위한 데이터 정규화 (data normalize)\n",
    "            data = (input_data[index, :] / 255.0 * 0.99) + 0.01\n",
    "            \n",
    "            # predict 를 위해서 vector 을 matrix 로 변환하여 인수로 넘겨줌            \n",
    "            predicted_num = self.predict(np.array(data, ndmin=2))\n",
    "        \n",
    "            if label == predicted_num:\n",
    "                matched_list.append(index)\n",
    "                \n",
    "            else:\n",
    "                not_matched_list.append(index)\n",
    "                \n",
    "                temp_list.append(index)\n",
    "                temp_list.append(label)\n",
    "                temp_list.append(predicted_num)\n",
    "                \n",
    "                index_label_prediction_list.append(temp_list)\n",
    "                \n",
    "                temp_list = []\n",
    "                \n",
    "        print(\"Current Accuracy = \", len(matched_list)/(len(input_data)) )\n",
    "        \n",
    "        return matched_list, not_matched_list, index_label_prediction_list\n",
    "    \n",
    "        \n",
    "    # 수치미분을 이용하여 손실함수가 최소가 될때 까지 학습하는 함수\n",
    "    def train(self, input_data, target_data):\n",
    "        self.input_data = input_data\n",
    "        self.target_data = target_data\n",
    "        \n",
    "        # 먼저 feed forward 를 통해서 최종 출력값과 이를 바탕으로 현재의 에러 값 계산\n",
    "        loss_val = self.feed_forward()\n",
    "        \n",
    "        # 출력층 loss 인 loss_3 구함\n",
    "        loss_3 = (self.A3-self.target_data) * self.A3 * (1-self.A3)\n",
    "        \n",
    "        # 출력층 가중치 W3, 출력층 바이어스 b3 업데이트\n",
    "        self.W3 = self.W3 - self.learning_rate * np.dot(self.A2.T, loss_3)          \n",
    "        self.b3 = self.b3 - self.learning_rate * loss_3  \n",
    "        \n",
    "        # 은닉층 loss 인 loss_2 구함        \n",
    "        loss_2 = np.dot(loss_3, self.W3.T) * self.A2 * (1-self.A2)\n",
    "        \n",
    "        # 은닉층 가중치 W2, 은닉층 바이어스 b2 업데이트\n",
    "        self.W2 = self.W2 - self.learning_rate * np.dot(self.A1.T, loss_2)         \n",
    "        self.b2 = self.b2 - self.learning_rate * loss_2\n",
    "        \n",
    "#         f = lambda x : self.feed_forward()\n",
    "        \n",
    "#         self.W2 -= self.learning_rate * numerical_derivative(f, self.W2)\n",
    "    \n",
    "#         self.b2 -= self.learning_rate * numerical_derivative(f, self.b2)\n",
    "        \n",
    "#         self.W3 -= self.learning_rate * numerical_derivative(f, self.W3)\n",
    "    \n",
    "#         self.b3 -= self.learning_rate * numerical_derivative(f, self.b3)"
   ]
  },
  {
   "cell_type": "code",
   "execution_count": 4,
   "metadata": {},
   "outputs": [
    {
     "name": "stdout",
     "output_type": "stream",
     "text": [
      "training_data.shape =  (60000, 785)\n",
      "training_data[0,0] =  5.0 , len(training_data[0]) =  785\n"
     ]
    }
   ],
   "source": [
    "# 0~9 숫자 이미지가 784개의 숫자 (28X28) 로 구성되어 있는 training data 읽어옴\n",
    "training_data = np.loadtxt('./(191110)mnist_train.csv', delimiter=',', dtype=np.float32)\n",
    "\n",
    "print(\"training_data.shape = \", training_data.shape)\n",
    "print(\"training_data[0,0] = \", training_data[0,0], \", len(training_data[0]) = \", len(training_data[0]))"
   ]
  },
  {
   "cell_type": "markdown",
   "metadata": {},
   "source": [
    "### 예제 1 오차역전파를 이용한 NeuralNetwork class 구현 및 검증"
   ]
  },
  {
   "cell_type": "code",
   "execution_count": 5,
   "metadata": {
    "scrolled": true
   },
   "outputs": [
    {
     "name": "stdout",
     "output_type": "stream",
     "text": [
      "epochs =  0 , step =  0 , current loss_val =  8.00314311235365\n",
      "epochs =  0 , step =  1000 , current loss_val =  1.6964644031170626\n",
      "epochs =  0 , step =  2000 , current loss_val =  2.1992488979762292\n",
      "epochs =  0 , step =  3000 , current loss_val =  2.3504002425775963\n",
      "epochs =  0 , step =  4000 , current loss_val =  1.0622835493462661\n",
      "epochs =  0 , step =  5000 , current loss_val =  0.863694846802735\n",
      "epochs =  0 , step =  6000 , current loss_val =  0.6433972434056352\n",
      "epochs =  0 , step =  7000 , current loss_val =  2.1475142624363337\n",
      "epochs =  0 , step =  8000 , current loss_val =  0.6679822655063562\n",
      "epochs =  0 , step =  9000 , current loss_val =  0.9710774568769489\n",
      "epochs =  0 , step =  10000 , current loss_val =  0.6450909839282262\n",
      "epochs =  0 , step =  11000 , current loss_val =  0.6952766808990888\n",
      "epochs =  0 , step =  12000 , current loss_val =  0.7984257047915649\n",
      "epochs =  0 , step =  13000 , current loss_val =  0.8945980641925655\n",
      "epochs =  0 , step =  14000 , current loss_val =  0.7365982107478495\n",
      "epochs =  0 , step =  15000 , current loss_val =  0.7151957210585174\n",
      "epochs =  0 , step =  16000 , current loss_val =  0.6665537277971006\n",
      "epochs =  0 , step =  17000 , current loss_val =  0.9891725707114241\n",
      "epochs =  0 , step =  18000 , current loss_val =  1.0402653544537812\n",
      "epochs =  0 , step =  19000 , current loss_val =  0.8300671703159609\n",
      "epochs =  0 , step =  20000 , current loss_val =  0.6861659058648506\n",
      "epochs =  0 , step =  21000 , current loss_val =  1.0248164258101489\n",
      "epochs =  0 , step =  22000 , current loss_val =  0.9695197016418609\n",
      "epochs =  0 , step =  23000 , current loss_val =  0.7326250937416916\n",
      "epochs =  0 , step =  24000 , current loss_val =  0.7132867312865889\n",
      "epochs =  0 , step =  25000 , current loss_val =  1.2669706876316265\n",
      "epochs =  0 , step =  26000 , current loss_val =  0.6733683613248574\n",
      "epochs =  0 , step =  27000 , current loss_val =  0.9472392904387759\n",
      "epochs =  0 , step =  28000 , current loss_val =  0.7161003907622003\n",
      "epochs =  0 , step =  29000 , current loss_val =  0.7465423243683563\n",
      "epochs =  0 , step =  30000 , current loss_val =  0.7052139372735149\n",
      "epochs =  0 , step =  31000 , current loss_val =  2.164934218515706\n",
      "epochs =  0 , step =  32000 , current loss_val =  0.7173294962380676\n",
      "epochs =  0 , step =  33000 , current loss_val =  1.165578759266744\n",
      "epochs =  0 , step =  34000 , current loss_val =  0.866796176031746\n",
      "epochs =  0 , step =  35000 , current loss_val =  0.7109543770748877\n",
      "epochs =  0 , step =  36000 , current loss_val =  0.8240586130710865\n",
      "epochs =  0 , step =  37000 , current loss_val =  0.7563495029913332\n",
      "epochs =  0 , step =  38000 , current loss_val =  0.8369734448117006\n",
      "epochs =  0 , step =  39000 , current loss_val =  1.2006714496507587\n",
      "epochs =  0 , step =  40000 , current loss_val =  0.7515000297782746\n",
      "epochs =  0 , step =  41000 , current loss_val =  0.7619525113801\n",
      "epochs =  0 , step =  42000 , current loss_val =  0.7086614751613104\n",
      "epochs =  0 , step =  43000 , current loss_val =  1.002135294100027\n",
      "epochs =  0 , step =  44000 , current loss_val =  0.7920147021107027\n",
      "epochs =  0 , step =  45000 , current loss_val =  0.7735688061225487\n",
      "epochs =  0 , step =  46000 , current loss_val =  0.8321774263125894\n",
      "epochs =  0 , step =  47000 , current loss_val =  0.7847381756803853\n",
      "epochs =  0 , step =  48000 , current loss_val =  0.8559942856472648\n",
      "epochs =  0 , step =  49000 , current loss_val =  0.7310318685888304\n",
      "epochs =  0 , step =  50000 , current loss_val =  0.8056475341051524\n",
      "epochs =  0 , step =  51000 , current loss_val =  0.7728695842710243\n",
      "epochs =  0 , step =  52000 , current loss_val =  0.8282086150666665\n",
      "epochs =  0 , step =  53000 , current loss_val =  0.7669217849592018\n",
      "epochs =  0 , step =  54000 , current loss_val =  0.8376614156644492\n",
      "epochs =  0 , step =  55000 , current loss_val =  0.6911520384299376\n",
      "epochs =  0 , step =  56000 , current loss_val =  0.7170108042789728\n",
      "epochs =  0 , step =  57000 , current loss_val =  0.8688808959659156\n",
      "epochs =  0 , step =  58000 , current loss_val =  0.8983512931796465\n",
      "epochs =  0 , step =  59000 , current loss_val =  0.8571895890756744\n",
      "\n",
      "elapsed time =  0:00:16.310401\n"
     ]
    }
   ],
   "source": [
    "# hyper-parameter\n",
    "i_nodes = training_data.shape[1] - 1    # input nodes 개수\n",
    "h1_nodes = 100     # hidden 1 nodes\n",
    "o_nodes = 10       # output nodes\n",
    "lr = 0.1           # learning rate\n",
    "epochs = 1         # epochs\n",
    "\n",
    "# 손실함수 값을 저장할 list 생성\n",
    "loss_val_list = []\n",
    "\n",
    "nn = NeuralNetwork(i_nodes, h1_nodes, o_nodes, lr)\n",
    "\n",
    "start_time = datetime.now()\n",
    "\n",
    "for i in range(epochs):\n",
    "    for step in range(len(training_data)):  # train\n",
    "    \n",
    "        # input_data, target_data normalize        \n",
    "        target_data = np.zeros(o_nodes) + 0.01    \n",
    "        target_data[int(training_data[step, 0])] = 0.99\n",
    "    \n",
    "        input_data = ((training_data[step, 1:] / 255.0) * 0.99) + 0.01\n",
    "    \n",
    "        nn.train( np.array(input_data, ndmin=2), np.array(target_data, ndmin=2) )\n",
    "    \n",
    "        if step % 1000 == 0:\n",
    "            print(\"epochs = \", i, \", step = \", step,  \", current loss_val = \", nn.loss_val())\n",
    "        \n",
    "        # 손실함수 값 저장\n",
    "        loss_val_list.append(nn.loss_val())        \n",
    "        \n",
    "end_time = datetime.now() \n",
    "print(\"\\nelapsed time = \", end_time - start_time) "
   ]
  },
  {
   "cell_type": "code",
   "execution_count": 6,
   "metadata": {},
   "outputs": [
    {
     "name": "stdout",
     "output_type": "stream",
     "text": [
      "test_data.shape =  (10000, 785)\n",
      "test_data[0,0] =  7.0 , len(test_data[0]) =  785\n",
      "Current Accuracy =  0.9294\n"
     ]
    }
   ],
   "source": [
    "# 0~9 숫자 이미지가 784개의 숫자 (28X28) 로 구성되어 있는 test data 읽어옴\n",
    "test_data = np.loadtxt('./(191110)mnist_test.csv', delimiter=',', dtype=np.float32)\n",
    "\n",
    "test_input_data = test_data[ : , 1: ]\n",
    "test_target_data = test_data[ : , 0 ]\n",
    "\n",
    "print(\"test_data.shape = \", test_data.shape)\n",
    "print(\"test_data[0,0] = \", test_data[0,0], \", len(test_data[0]) = \", len(test_data[0]))\n",
    "\n",
    "# measure accuracy\n",
    "(true_list, false_list, index_label_prediction_list) = nn.accuracy(test_input_data, test_target_data)   "
   ]
  },
  {
   "cell_type": "code",
   "execution_count": 19,
   "metadata": {},
   "outputs": [
    {
     "data": {
      "image/png": "[encoded data removed]",
      "text/plain": [
       "<Figure size 432x288 with 1 Axes>"
      ]
     },
     "metadata": {
      "needs_background": "light"
     },
     "output_type": "display_data"
    }
   ],
   "source": [
    "# 손실함수 추세 확인\n",
    "Y_DATA_LIST = []\n",
    "\n",
    "for index in range(0, len(loss_val_list)):\n",
    "    Y_DATA_LIST.append(loss_val_list[index])\n",
    "    \n",
    "plt.title('MNIST Loss Value Trend')\n",
    "plt.xlabel('data index ( X 500 )')\n",
    "plt.ylabel('loss value')\n",
    "plt.grid()\n",
    "plt.plot(Y_DATA_LIST, color='b')\n",
    "plt.show()"
   ]
  },
  {
   "cell_type": "markdown",
   "metadata": {},
   "source": [
    "### 예제 2 최소/최대 손실값 구한 후 데이터 확인"
   ]
  },
  {
   "cell_type": "code",
   "execution_count": 8,
   "metadata": {},
   "outputs": [
    {
     "name": "stdout",
     "output_type": "stream",
     "text": [
      "max_loss =  17.285535901786428 , max_loss_index =  24798 , min_loss =  0.5853069672062766 , min_loss_index =  6529\n"
     ]
    }
   ],
   "source": [
    "max_loss = np.max(loss_val_list)\n",
    "min_loss = np.min(loss_val_list)\n",
    "max_loss_index = np.argmax(loss_val_list)\n",
    "min_loss_index = np.argmin(loss_val_list)\n",
    "\n",
    "print(\"max_loss = \", max_loss, \", max_loss_index = \", max_loss_index, \", min_loss = \", min_loss, \", min_loss_index = \", min_loss_index)"
   ]
  },
  {
   "cell_type": "code",
   "execution_count": 12,
   "metadata": {},
   "outputs": [
    {
     "data": {
      "image/png": "[encoded data removed]",
      "text/plain": [
       "<Figure size 432x288 with 1 Axes>"
      ]
     },
     "metadata": {
      "needs_background": "light"
     },
     "output_type": "display_data"
    },
    {
     "name": "stdout",
     "output_type": "stream",
     "text": [
      "label =  4.0\n"
     ]
    }
   ],
   "source": [
    "# check max loss data\n",
    "import matplotlib.pyplot as plt\n",
    "%matplotlib inline\n",
    "\n",
    "img = training_data[max_loss_index, 1:].reshape(28,28)\n",
    "\n",
    "plt.imshow(img, cmap='gray')\n",
    "plt.show()\n",
    "print(\"label = \", training_data[max_loss_index, 0]) ## 실제 정답 값"
   ]
  },
  {
   "cell_type": "code",
   "execution_count": 10,
   "metadata": {},
   "outputs": [
    {
     "data": {
      "image/png": "[encoded data removed]",
      "text/plain": [
       "<Figure size 432x288 with 1 Axes>"
      ]
     },
     "metadata": {
      "needs_background": "light"
     },
     "output_type": "display_data"
    },
    {
     "name": "stdout",
     "output_type": "stream",
     "text": [
      "label =  5.0\n"
     ]
    }
   ],
   "source": [
    "# check min loss data\n",
    "import matplotlib.pyplot as plt\n",
    "%matplotlib inline\n",
    "\n",
    "img = training_data[min_loss_index, 1:].reshape(28,28)\n",
    "\n",
    "plt.imshow(img, cmap='gray')\n",
    "plt.show()\n",
    "\n",
    "print(\"label = \", training_data[min_loss_index, 0])"
   ]
  },
  {
   "cell_type": "code",
   "execution_count": null,
   "metadata": {},
   "outputs": [],
   "source": []
  }
 ],
 "metadata": {
  "kernelspec": {
   "display_name": "Python 3",
   "language": "python",
   "name": "python3"
  },
  "language_info": {
   "codemirror_mode": {
    "name": "ipython",
    "version": 3
   },
   "file_extension": ".py",
   "mimetype": "text/x-python",
   "name": "python",
   "nbconvert_exporter": "python",
   "pygments_lexer": "ipython3",
   "version": "3.7.4"
  }
 },
 "nbformat": 4,
 "nbformat_minor": 2
}

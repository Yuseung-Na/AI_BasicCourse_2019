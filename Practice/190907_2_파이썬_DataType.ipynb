{
 "cells": [
  {
   "cell_type": "markdown",
   "metadata": {},
   "source": [
    "##### 데이터타입 - list"
   ]
  },
  {
   "cell_type": "code",
   "execution_count": 1,
   "metadata": {},
   "outputs": [
    {
     "name": "stdout",
     "output_type": "stream",
     "text": [
      "a[0] == 10 , a[2] == 30 , a[4] == 50\n",
      "a[-1] == 50 , a[-2] == 40 , a[-5] == 10\n"
     ]
    }
   ],
   "source": [
    "a = [10, 20, 30, 40, 50]\n",
    "\n",
    "# 0, 1, 2 ... 인덱스는 리스트 처음부터 시작\n",
    "# -1, -2, ... 인덱스는 리스트 마지막부터 시작\n",
    "\n",
    "print(\"a[0] ==\", a[0], \", a[2] ==\", a[2], \", a[4] ==\", a[4])\n",
    "print(\"a[-1] ==\", a[-1], \", a[-2] ==\", a[-2], \", a[-5] ==\", a[-5])"
   ]
  },
  {
   "cell_type": "code",
   "execution_count": 2,
   "metadata": {},
   "outputs": [
    {
     "name": "stdout",
     "output_type": "stream",
     "text": [
      "b[0] == 10 , b[2] == Hello , b[3] == [True, 3.14]\n",
      "b[-1] == [True, 3.14] , b[-2] == Hello , b[-4] == 10\n"
     ]
    }
   ],
   "source": [
    "b = [10, 20, \"Hello\", [True, 3.14]]\n",
    "\n",
    "# b[3] 또는 b[-1] 값은 [True, 3.14] 리스트 전체임\n",
    "\n",
    "print(\"b[0] ==\", b[0], \", b[2] ==\", b[2], \", b[3] ==\", b[3])\n",
    "print(\"b[-1] ==\", b[-1], \", b[-2] ==\", b[-2], \", b[-4] ==\", b[-4])"
   ]
  },
  {
   "cell_type": "code",
   "execution_count": 3,
   "metadata": {},
   "outputs": [
    {
     "name": "stdout",
     "output_type": "stream",
     "text": [
      "b[3][0] == True , b[3][1] == 3.14\n",
      "b[-1][-1] == 3.14 , b[-1][-2] == True\n"
     ]
    }
   ],
   "source": [
    "print(\"b[3][0] ==\", b[3][0], \", b[3][1] ==\", b[3][1])\n",
    "print(\"b[-1][-1] ==\", b[-1][-1], \", b[-1][-2] ==\", b[-1][-2])"
   ]
  },
  {
   "cell_type": "code",
   "execution_count": 4,
   "metadata": {},
   "outputs": [
    {
     "name": "stdout",
     "output_type": "stream",
     "text": [
      "[100, 200, 300]\n"
     ]
    }
   ],
   "source": [
    "c = []\n",
    "c.append(100), c.append(200), c.append(300)\n",
    "print(c)"
   ]
  },
  {
   "cell_type": "code",
   "execution_count": 5,
   "metadata": {},
   "outputs": [
    {
     "name": "stdout",
     "output_type": "stream",
     "text": [
      "a[0:2] == [10, 20] , a[1:] == [20, 30, 40, 50]\n",
      "a[:3] == [10, 20, 30] , a[:-2] == [10, 20, 30]\n",
      "a[:] == [10, 20, 30, 40, 50]\n"
     ]
    }
   ],
   "source": [
    "a = [10, 20, 30, 40, 50]\n",
    "\n",
    "# a[0:2] => 인덱스 0부터 2-1 까지, a[1:] => 인덱스 1부터 끝까지\n",
    "# a[:3]  => 인덱스 처음부터 3-1 까지, a[:-2] => 인덱스 처음부터 -2-1 까지\n",
    "# a[:]   => 인덱스 처음부터 끝까지\n",
    "\n",
    "print(\"a[0:2] ==\", a[0:2], \", a[1:] ==\", a[1:])\n",
    "print(\"a[:3] ==\", a[:3], \", a[:-2] ==\", a[:-2])\n",
    "print(\"a[:] ==\", a[:])"
   ]
  },
  {
   "cell_type": "markdown",
   "metadata": {},
   "source": [
    "##### 데이터타입 - tuple"
   ]
  },
  {
   "cell_type": "code",
   "execution_count": 6,
   "metadata": {},
   "outputs": [
    {
     "name": "stdout",
     "output_type": "stream",
     "text": [
      "a[0] == 10 , a[-2] == 40 ,a[:] == (10, 20, 30, 40, 50)\n",
      "a[0:2] == (10, 20) , a[1:] == (20, 30, 40, 50)\n"
     ]
    }
   ],
   "source": [
    "a = (10, 20, 30, 40, 50)\n",
    "\n",
    "print(\"a[0] ==\", a[0], \", a[-2] ==\", a[-2], \",a[:] ==\", a[:])\n",
    "print(\"a[0:2] ==\", a[0:2], \", a[1:] ==\", a[1:])"
   ]
  },
  {
   "cell_type": "code",
   "execution_count": 7,
   "metadata": {},
   "outputs": [],
   "source": [
    "# a[0] = 100 에러 발생"
   ]
  },
  {
   "cell_type": "markdown",
   "metadata": {},
   "source": [
    "##### 데이터타입 - dictionary"
   ]
  },
  {
   "cell_type": "code",
   "execution_count": 8,
   "metadata": {},
   "outputs": [
    {
     "name": "stdout",
     "output_type": "stream",
     "text": [
      "score['KIM'] == 90\n"
     ]
    }
   ],
   "source": [
    "score = { \"KIM\":90, \"LEE\":85, \"JUN\":95 }  # dictinary 생성\n",
    "print(\"score['KIM'] ==\", score['KIM'])    # 원소 접근"
   ]
  },
  {
   "cell_type": "code",
   "execution_count": 9,
   "metadata": {},
   "outputs": [
    {
     "name": "stdout",
     "output_type": "stream",
     "text": [
      "{'KIM': 90, 'LEE': 85, 'JUN': 95, 'HAN': 100}\n"
     ]
    }
   ],
   "source": [
    "score['HAN'] = 100  # 새 원소 추가\n",
    "\n",
    "# 딕셔너리는 입력한 순서대로 데이터가 들어가는 것이 아니므로 주의해야함\n",
    "\n",
    "print(score)"
   ]
  },
  {
   "cell_type": "code",
   "execution_count": 10,
   "metadata": {},
   "outputs": [
    {
     "name": "stdout",
     "output_type": "stream",
     "text": [
      "score key == dict_keys(['KIM', 'LEE', 'JUN', 'HAN'])\n",
      "score value == dict_values([90, 85, 95, 100])\n",
      "score items == dict_items([('KIM', 90), ('LEE', 85), ('JUN', 95), ('HAN', 100)])\n"
     ]
    }
   ],
   "source": [
    "# 딕셔너리 key, value, (key, value)\n",
    "\n",
    "print(\"score key ==\", score.keys())\n",
    "print(\"score value ==\", score.values())\n",
    "print(\"score items ==\", score.items())"
   ]
  },
  {
   "cell_type": "markdown",
   "metadata": {},
   "source": [
    "##### 데이터타입 - string"
   ]
  },
  {
   "cell_type": "code",
   "execution_count": 11,
   "metadata": {},
   "outputs": [
    {
     "data": {
      "text/plain": [
       "'7'"
      ]
     },
     "execution_count": 11,
     "metadata": {},
     "output_type": "execute_result"
    }
   ],
   "source": [
    "a = 'A73,CD'\n",
    "a[1]  # a[1] 은 숫자 7이 아닌 문자열 7"
   ]
  },
  {
   "cell_type": "code",
   "execution_count": 12,
   "metadata": {},
   "outputs": [
    {
     "data": {
      "text/plain": [
       "'A73,CD, EFG'"
      ]
     },
     "execution_count": 12,
     "metadata": {},
     "output_type": "execute_result"
    }
   ],
   "source": [
    "a = a + ', EFG'  # + 연산자 사용\n",
    "a"
   ]
  },
  {
   "cell_type": "code",
   "execution_count": 13,
   "metadata": {},
   "outputs": [
    {
     "name": "stdout",
     "output_type": "stream",
     "text": [
      "['A73', 'CD', ' EFG']\n"
     ]
    }
   ],
   "source": [
    "# split() 메서드는 특정 separator를 기준으로 문자열을 분리하여 list 리턴\n",
    "b = a.split(',')\n",
    "print(b)"
   ]
  },
  {
   "cell_type": "markdown",
   "metadata": {},
   "source": [
    "##### useful function - type(), len()"
   ]
  },
  {
   "cell_type": "code",
   "execution_count": 14,
   "metadata": {},
   "outputs": [
    {
     "name": "stdout",
     "output_type": "stream",
     "text": [
      "<class 'list'> <class 'tuple'> <class 'dict'> <class 'str'> <class 'list'>\n",
      "5 5 2 12 3\n"
     ]
    }
   ],
   "source": [
    "a = [10, 20, 30, 40, 50]\n",
    "b = (10, 20, 30, 40, 50)\n",
    "c = {\"KIM\":90, \"LEE\":80}\n",
    "d = 'Seoul, Korea'\n",
    "e = [[100, 200], [300, 400], [500, 600]]\n",
    "\n",
    "print(type(a), type(b), type(c), type(d), type(e))\n",
    "print(len(a), len(b), len(c), len(d), len(e))"
   ]
  },
  {
   "cell_type": "markdown",
   "metadata": {},
   "source": [
    "##### [예제 1] 화면에 John's House을 출력하라."
   ]
  },
  {
   "cell_type": "code",
   "execution_count": 15,
   "metadata": {
    "scrolled": true
   },
   "outputs": [
    {
     "name": "stdout",
     "output_type": "stream",
     "text": [
      "John's House\n"
     ]
    }
   ],
   "source": [
    "print('John\\'s House')"
   ]
  },
  {
   "cell_type": "markdown",
   "metadata": {},
   "source": [
    "##### [예제 2] 다음의 print 문을 통해 \\n, \\t 기능을 확인하시오\n",
    "print('Hello.\\nBasic\\t\\tLecture')"
   ]
  },
  {
   "cell_type": "code",
   "execution_count": 16,
   "metadata": {},
   "outputs": [
    {
     "name": "stdout",
     "output_type": "stream",
     "text": [
      "Hello.\n",
      "Basic\t\tLecture\n"
     ]
    }
   ],
   "source": [
    "print('Hello.\\nBasic\\t\\tLecture')"
   ]
  },
  {
   "cell_type": "markdown",
   "metadata": {},
   "source": [
    "##### [예제 3] license_plate 문자열이 다음과 같을때, 뒤 4자리만 출력하시오\n",
    "license_plate = \"24가 2210\""
   ]
  },
  {
   "cell_type": "code",
   "execution_count": 17,
   "metadata": {},
   "outputs": [
    {
     "name": "stdout",
     "output_type": "stream",
     "text": [
      "2210\n"
     ]
    }
   ],
   "source": [
    "lp = '24가 2210'\n",
    "print(lp[-4:])"
   ]
  },
  {
   "cell_type": "markdown",
   "metadata": {},
   "source": [
    "##### [예제 4] string = \"홀짝홀짝홀짝\" 에 대하여, '홀홀홀'만 출력하시오"
   ]
  },
  {
   "cell_type": "code",
   "execution_count": 18,
   "metadata": {},
   "outputs": [
    {
     "name": "stdout",
     "output_type": "stream",
     "text": [
      "홀 홀 홀\n",
      "홀홀홀\n"
     ]
    }
   ],
   "source": [
    "st = '홀짝홀짝홀짝'\n",
    "print(st[0],st[2],st[4])\n",
    "\n",
    "######### 답안\n",
    "print(st[::2])   # 마지막이 몇 칸씩 뛸건 지 나타냄"
   ]
  },
  {
   "cell_type": "markdown",
   "metadata": {},
   "source": [
    "##### [예제 5] 다음의 Error 원인과 해결방안을 찾으시오\n",
    "list_A = [1,2,3,4,5]<br>\n",
    "len = len(list_A)<br>\n",
    "print(len)<br>\n",
    "\n",
    "list_B = [1,2,3]<br>\n",
    "len = len(list_B)<br>\n",
    "print(len)<br>"
   ]
  },
  {
   "cell_type": "code",
   "execution_count": 19,
   "metadata": {},
   "outputs": [
    {
     "name": "stdout",
     "output_type": "stream",
     "text": [
      "5\n",
      "3\n"
     ]
    }
   ],
   "source": [
    "list_A = [1,2,3,4,5]\n",
    "len_A = len(list_A)\n",
    "print(len_A)\n",
    "\n",
    "list_B = [1,2,3]\n",
    "len_B = len(list_B)\n",
    "print(len_B)"
   ]
  },
  {
   "cell_type": "markdown",
   "metadata": {},
   "source": [
    "##### [예제 6] 아래 코드의 실행 결과를 예상하시오\n",
    "str = 'Hello'  \n",
    "str[0] = 'K'  \n",
    "print(str)"
   ]
  },
  {
   "cell_type": "code",
   "execution_count": 20,
   "metadata": {},
   "outputs": [
    {
     "name": "stdout",
     "output_type": "stream",
     "text": [
      "Hello\n",
      "Kello\n"
     ]
    }
   ],
   "source": [
    "str = 'Hello'\n",
    "# str[0] = 'K' 오류 발생\n",
    "print(str)\n",
    "###############\n",
    "str = str.replace('H', 'K')\n",
    "print(str)"
   ]
  },
  {
   "cell_type": "markdown",
   "metadata": {},
   "source": [
    "##### [예제 7] 슬래시 ('/')로 구분되어 다음의 문자열에 대해서,\n",
    "string = 'Hello/Machine/Deep/Learning'\n",
    "##### [7.1] 슬라이싱만을 이용하여 다음 리스트를 만드시오\n",
    "list_A = ['Hello', 'Machine', 'Deep', 'Learning']\n",
    "##### [7.2] 슬라이싱과 list append method를 이용하여 다음 리스트를 만드시오\n",
    "list_B = ['Hello', 'Machine', 'Deep', 'Learning']\n",
    "##### [7.3] string의 split method를 이용하여 다음 리스트를 만드시오\n",
    "list_C = ['Hello', 'Machine', 'Deep', 'Learning']"
   ]
  },
  {
   "cell_type": "code",
   "execution_count": 21,
   "metadata": {},
   "outputs": [
    {
     "name": "stdout",
     "output_type": "stream",
     "text": [
      "['Hello', 'Machine', 'Deep', 'Learning']\n",
      "['Hello', 'Machine', 'Deep', 'Learning']\n",
      "['Hello', 'Machine', 'Deep', 'Learning']\n"
     ]
    }
   ],
   "source": [
    "string = 'Hello/Machine/Deep/Learning'\n",
    "\n",
    "list_A = [string[:5], string[6:13], string[14:18], string[19:]]\n",
    "print(list_A)\n",
    "\n",
    "list_B = []\n",
    "list_B.append(string[:5])\n",
    "list_B.append(string[6:13])\n",
    "list_B.append(string[14:18])\n",
    "list_B.append(string[19:])\n",
    "print(list_B)\n",
    "\n",
    "list_C = string.split('/')\n",
    "print(list_C)"
   ]
  },
  {
   "cell_type": "markdown",
   "metadata": {},
   "source": [
    "##### [예제 8] 변수 A에 'hello world'라는 문자열이 저장되어 있을때 슬라이싱 기능과 문자열 + 연산자만을 이용하여 A 값을 'hi world'로 변경하기"
   ]
  },
  {
   "cell_type": "code",
   "execution_count": 22,
   "metadata": {},
   "outputs": [
    {
     "name": "stdout",
     "output_type": "stream",
     "text": [
      "hi world\n"
     ]
    }
   ],
   "source": [
    "A = 'hello world'\n",
    "A = 'hi ' + A[-5:]\n",
    "print(A)"
   ]
  },
  {
   "cell_type": "markdown",
   "metadata": {},
   "source": [
    "##### [예제 9] 문자열 str = \"AB,CDE:FG,WX,Y\".split(',') 에서, 다음을 구하시오\n",
    "(9.1) str<br>\n",
    "(9.2) str[-2]<br>\n",
    "(9.3) str[0][:-1]<br>\n",
    "(9.4) str[2:]<br>\n",
    "(9.5) str[:][:]<br>"
   ]
  },
  {
   "cell_type": "code",
   "execution_count": 23,
   "metadata": {},
   "outputs": [
    {
     "name": "stdout",
     "output_type": "stream",
     "text": [
      "['AB', 'CDE:FG', 'WX', 'Y']\n",
      "WX\n",
      "A\n",
      "['WX', 'Y']\n",
      "['AB', 'CDE:FG', 'WX', 'Y']\n"
     ]
    }
   ],
   "source": [
    "str = \"AB,CDE:FG,WX,Y\".split(',')\n",
    "\n",
    "print(str)\n",
    "\n",
    "print(str[-2])\n",
    "\n",
    "print(str[0][:-1])\n",
    "\n",
    "print(str[2:])\n",
    "\n",
    "print(str[:][:])"
   ]
  }
 ],
 "metadata": {
  "kernelspec": {
   "display_name": "Python 3",
   "language": "python",
   "name": "python3"
  },
  "language_info": {
   "codemirror_mode": {
    "name": "ipython",
    "version": 3
   },
   "file_extension": ".py",
   "mimetype": "text/x-python",
   "name": "python",
   "nbconvert_exporter": "python",
   "pygments_lexer": "ipython3",
   "version": "3.7.3"
  }
 },
 "nbformat": 4,
 "nbformat_minor": 2
}

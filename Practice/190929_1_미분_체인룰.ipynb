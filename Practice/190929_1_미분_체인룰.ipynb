{
 "cells": [
  {
   "cell_type": "markdown",
   "metadata": {},
   "source": [
    "##### 수치미분 1차 버전 - numerical derivative"
   ]
  },
  {
   "cell_type": "code",
   "execution_count": 1,
   "metadata": {},
   "outputs": [],
   "source": [
    "def numerical_derivative(f, x):\n",
    "    delta_x = 1e-4\n",
    "    return (f(x+delta_x) - f(x-delta_x)) / (2*delta_x)"
   ]
  },
  {
   "cell_type": "markdown",
   "metadata": {},
   "source": [
    "##### [예제 1] 함수 f(x) = x^2 에서 미분계수 f'(3.0) 을 구하기. 즉, x = 3.0 에서 값이 미세하게 변할 때, 함수 f 는 얼마나 변하는 지 계산하라는 의미"
   ]
  },
  {
   "cell_type": "code",
   "execution_count": 2,
   "metadata": {},
   "outputs": [
    {
     "name": "stdout",
     "output_type": "stream",
     "text": [
      "6.000000000012662\n",
      "6.000000000012662\n"
     ]
    }
   ],
   "source": [
    "def func1(x):\n",
    "    return x**2\n",
    "\n",
    "f = lambda x : func1(x)\n",
    "\n",
    "# 수치미분 함수 1차 버전\n",
    "def numerical_derivative(f, x):\n",
    "    delta_x = 1e-4\n",
    "    return (f(x+delta_x) - f(x-delta_x)) / (2*delta_x)\n",
    "\n",
    "ret1 = numerical_derivative(f, 3.0)\n",
    "\n",
    "print(ret1)\n",
    "\n",
    "ret2 = numerical_derivative(func1, 3.0)\n",
    "\n",
    "print(ret2)"
   ]
  },
  {
   "cell_type": "markdown",
   "metadata": {},
   "source": [
    "##### [예제 2] 함수 f(x) = 3xe^x 를 미분한 함수를 f'(x) 라고 할 경우, x = 2.0 에서의 미분 값 f'(2.0) 을 구하는 수치미분 코드를 구현하시오"
   ]
  },
  {
   "cell_type": "code",
   "execution_count": 1,
   "metadata": {},
   "outputs": [
    {
     "name": "stdout",
     "output_type": "stream",
     "text": [
      "66.50150507518049\n",
      "66.50150507518049\n",
      "3*exp(2.0)+3*2.0*exp(2.0) = 66.50150489037586\n"
     ]
    }
   ],
   "source": [
    "import numpy as np\n",
    "\n",
    "def func2(x):\n",
    "    return 3*x*np.exp(x)\n",
    "\n",
    "f = lambda x : func2(x)\n",
    "\n",
    "# 수치미분 함수 1차 버전\n",
    "def numerical_derivative(f, x):\n",
    "    delta_x = 1e-4\n",
    "    return (f(x+delta_x) - f(x-delta_x)) / (2*delta_x)\n",
    "\n",
    "ret1 = numerical_derivative(f, 2.0)\n",
    "\n",
    "print(ret1)\n",
    "\n",
    "ret2 = numerical_derivative(func2, 2.0)\n",
    "\n",
    "print(ret2)\n",
    "\n",
    "print(\"3*exp(2.0)+3*2.0*exp(2.0) =\", 3*np.exp(2.0)+3*2.0*np.exp(2.0))"
   ]
  }
 ],
 "metadata": {
  "kernelspec": {
   "display_name": "Python 3",
   "language": "python",
   "name": "python3"
  },
  "language_info": {
   "codemirror_mode": {
    "name": "ipython",
    "version": 3
   },
   "file_extension": ".py",
   "mimetype": "text/x-python",
   "name": "python",
   "nbconvert_exporter": "python",
   "pygments_lexer": "ipython3",
   "version": "3.7.4"
  }
 },
 "nbformat": 4,
 "nbformat_minor": 2
}

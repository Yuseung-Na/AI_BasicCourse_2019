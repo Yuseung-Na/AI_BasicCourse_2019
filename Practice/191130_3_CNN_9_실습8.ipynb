{
 "cells": [
  {
   "cell_type": "code",
   "execution_count": 2,
   "metadata": {},
   "outputs": [
    {
     "name": "stdout",
     "output_type": "stream",
     "text": [
      "WARNING:tensorflow:From <ipython-input-2-8b471cb9f1c7>:11: read_data_sets (from tensorflow.contrib.learn.python.learn.datasets.mnist) is deprecated and will be removed in a future version.\n",
      "Instructions for updating:\n",
      "Please use alternatives such as official/mnist/dataset.py from tensorflow/models.\n",
      "WARNING:tensorflow:From C:\\Users\\YUSEUNG\\Anaconda3\\lib\\site-packages\\tensorflow_core\\contrib\\learn\\python\\learn\\datasets\\mnist.py:260: maybe_download (from tensorflow.contrib.learn.python.learn.datasets.base) is deprecated and will be removed in a future version.\n",
      "Instructions for updating:\n",
      "Please write your own downloading logic.\n",
      "WARNING:tensorflow:From C:\\Users\\YUSEUNG\\Anaconda3\\lib\\site-packages\\tensorflow_core\\contrib\\learn\\python\\learn\\datasets\\mnist.py:262: extract_images (from tensorflow.contrib.learn.python.learn.datasets.mnist) is deprecated and will be removed in a future version.\n",
      "Instructions for updating:\n",
      "Please use tf.data to implement this functionality.\n",
      "Extracting MNIST_data/train-images-idx3-ubyte.gz\n",
      "WARNING:tensorflow:From C:\\Users\\YUSEUNG\\Anaconda3\\lib\\site-packages\\tensorflow_core\\contrib\\learn\\python\\learn\\datasets\\mnist.py:267: extract_labels (from tensorflow.contrib.learn.python.learn.datasets.mnist) is deprecated and will be removed in a future version.\n",
      "Instructions for updating:\n",
      "Please use tf.data to implement this functionality.\n",
      "Extracting MNIST_data/train-labels-idx1-ubyte.gz\n",
      "WARNING:tensorflow:From C:\\Users\\YUSEUNG\\Anaconda3\\lib\\site-packages\\tensorflow_core\\contrib\\learn\\python\\learn\\datasets\\mnist.py:110: dense_to_one_hot (from tensorflow.contrib.learn.python.learn.datasets.mnist) is deprecated and will be removed in a future version.\n",
      "Instructions for updating:\n",
      "Please use tf.one_hot on tensors.\n",
      "Extracting MNIST_data/t10k-images-idx3-ubyte.gz\n",
      "Extracting MNIST_data/t10k-labels-idx1-ubyte.gz\n",
      "WARNING:tensorflow:From C:\\Users\\YUSEUNG\\Anaconda3\\lib\\site-packages\\tensorflow_core\\contrib\\learn\\python\\learn\\datasets\\mnist.py:290: DataSet.__init__ (from tensorflow.contrib.learn.python.learn.datasets.mnist) is deprecated and will be removed in a future version.\n",
      "Instructions for updating:\n",
      "Please use alternatives such as official/mnist/dataset.py from tensorflow/models.\n",
      "\n",
      " 55000 10000 5000\n",
      "\n",
      "train image shape =  (55000, 784)\n",
      "train label shape =  (55000, 10)\n",
      "test image shape =  (10000, 784)\n",
      "test label shape =  (10000, 10)\n"
     ]
    }
   ],
   "source": [
    "import tensorflow as tf\n",
    "from tensorflow.examples.tutorials.mnist import input_data\n",
    "import numpy as np\n",
    "from datetime import datetime      # datetime.now() 를 이용하여 학습 경과 시간 측정\n",
    "import matplotlib.pyplot as plt\n",
    "%matplotlib inline\n",
    "\n",
    "# read_data_sets() 를 통해 데이터를 객체형태로 받아오고\n",
    "# one_hot 옵션을 통해 정답(label) 을 one-hot 인코딩된 형태로 받아옴\n",
    "\n",
    "mnist = input_data.read_data_sets(\"MNIST_data/\", one_hot=True)\n",
    "\n",
    "# mnist 데이터 셋은 train, test, validation 3개의 데이터 셋으로 구성되어 있으며.\n",
    "# num_examples 값을 통해 데이터의 갯수 확인 가능함\n",
    "\n",
    "print(\"\\n\", mnist.train.num_examples, mnist.test.num_examples, mnist.validation.num_examples)\n",
    "\n",
    "# 데이터는 784(28x28)개의 픽셀을 가지는 이미지와\n",
    "# 10(0~9)개 클래스를 가지는 one-hot 인코딩된 레이블(정답)을 가지고 있음\n",
    "\n",
    "print(\"\\ntrain image shape = \", np.shape(mnist.train.images))\n",
    "print(\"train label shape = \", np.shape(mnist.train.labels))\n",
    "print(\"test image shape = \", np.shape(mnist.test.images))\n",
    "print(\"test label shape = \", np.shape(mnist.test.labels))"
   ]
  },
  {
   "cell_type": "markdown",
   "metadata": {},
   "source": [
    "### hyper parameter"
   ]
  },
  {
   "cell_type": "code",
   "execution_count": 3,
   "metadata": {},
   "outputs": [],
   "source": [
    "# Hyper-Parameter\n",
    "learning_rate = 0.001  # 학습율\n",
    "epochs = 30            # 반복횟수\n",
    "batch_size = 100      # 한번에 입력으로 주어지는 MNIST 개수"
   ]
  },
  {
   "cell_type": "code",
   "execution_count": 4,
   "metadata": {},
   "outputs": [],
   "source": [
    "# 입력과 정답을 위한 플레이스홀더 정의\n",
    "X = tf.placeholder(tf.float32, [None, 784])  \n",
    "T = tf.placeholder(tf.float32, [None, 10])  \n",
    "\n",
    "# 입력층의 출력 값. 컨볼루션 연산을 위해 reshape 시킴\n",
    "A1 = X_img = tf.reshape(X, [-1, 28, 28, 1])   # image 28 X 28 X 1 (black/white)"
   ]
  },
  {
   "cell_type": "markdown",
   "metadata": {},
   "source": [
    "### 컨볼루션층 1"
   ]
  },
  {
   "cell_type": "code",
   "execution_count": 5,
   "metadata": {},
   "outputs": [],
   "source": [
    "# 1번째 컨볼루션 층, 5x5x32 필터 \n",
    "W2 = tf.Variable(tf.random_normal([5, 5, 1, 32], stddev=0.01))  # standard deviation 표준편차 0.01 이내로 뽑음 -> 더 정교한 데이터\n",
    "b2 = tf.Variable(tf.constant(0.1, shape=[32]))\n",
    "\n",
    "# 1번째 컨볼루션 연산을 통해 28 x 28 x 1 => 28 x 28 x 32  흑백인 1개 층이 -> 32개 층을 거치게 됨\n",
    "C2 = tf.nn.conv2d(A1, W2, strides=[1, 1, 1, 1], padding='SAME')\n",
    "\n",
    "# relu\n",
    "Z2 = tf.nn.relu(C2+b2)\n",
    "\n",
    "# 1번째 max pooling을 통해 28 x 28 x 32 => 14 x 14 x 32  max pooling을 통해 4개를 1개로 묶어 가로 세로 2배씩 줄어들게 됨\n",
    "A2 = P2 = tf.nn.max_pool(Z2, ksize=[1, 2, 2, 1], strides=[1, 2, 2, 1], padding='SAME')"
   ]
  },
  {
   "cell_type": "markdown",
   "metadata": {},
   "source": [
    "### 컨볼루션층 2"
   ]
  },
  {
   "cell_type": "code",
   "execution_count": 6,
   "metadata": {},
   "outputs": [],
   "source": [
    "# 2번째 컨볼루션 층\n",
    "W3 = tf.Variable(tf.random_normal([5, 5, 32, 64], stddev=0.01))  \n",
    "b3 = tf.Variable(tf.constant(0.1, shape=[64]))   \n",
    "\n",
    "# 2번째 컨볼루션 연산을 통해 14 X 14 X 32 => 14 X 14 X 64 \n",
    "C3 = tf.nn.conv2d(A2, W3, strides=[1, 1, 1, 1], padding='SAME')\n",
    "\n",
    "# relu\n",
    "Z3 = tf.nn.relu(C3+b3)\n",
    "\n",
    "# 2번째 max pooling을 통해 14 X 14 X 64 => 7 X 7 X 64\n",
    "A3 = P3 = tf.nn.max_pool(Z3, ksize=[1, 2, 2, 1], strides=[1, 2, 2, 1], padding='SAME')"
   ]
  },
  {
   "cell_type": "markdown",
   "metadata": {},
   "source": [
    "### 컨볼루션층 3, pooling 없이"
   ]
  },
  {
   "cell_type": "code",
   "execution_count": 7,
   "metadata": {},
   "outputs": [],
   "source": [
    "# 3번째 컨볼루션 층\n",
    "W4 = tf.Variable(tf.random_normal([5, 5, 64, 128], stddev=0.01))  \n",
    "b4 = tf.Variable(tf.constant(0.1, shape=[128]))   \n",
    "\n",
    "# 3번째 컨볼루션 연산을 통해 7 X 7 X 64 => 7 X 7 X 128\n",
    "C4 = tf.nn.conv2d(A3, W4, strides=[1, 1, 1, 1], padding='SAME')\n",
    "\n",
    "# relu\n",
    "A4 = Z4 = tf.nn.relu(C4+b4)"
   ]
  },
  {
   "cell_type": "markdown",
   "metadata": {},
   "source": [
    "### 완전연결층"
   ]
  },
  {
   "cell_type": "code",
   "execution_count": 7,
   "metadata": {},
   "outputs": [],
   "source": [
    "# 2X2 크기를 가진 256개의 activation map을 flatten 시킴\n",
    "A4_flat = P4_flat = tf.reshape(A4, [-1, 128*7*7])"
   ]
  },
  {
   "cell_type": "markdown",
   "metadata": {},
   "source": [
    "### 출력층"
   ]
  },
  {
   "cell_type": "code",
   "execution_count": 8,
   "metadata": {},
   "outputs": [],
   "source": [
    "# 출력층\n",
    "W5 = tf.Variable(tf.random_normal([128*7*7, 10], stddev=0.01))\n",
    "b5 = tf.Variable(tf.random_normal([10]))\n",
    "\n",
    "# 출력층 선형회귀  값 Z6, 즉 softmax 에 들어가는 입력 값\n",
    "Z5 = logits = tf.matmul(A4_flat, W5) + b5    # 선형회귀 값 Z6\n",
    "\n",
    "y = A5 = tf.nn.softmax(Z5)"
   ]
  },
  {
   "cell_type": "code",
   "execution_count": 9,
   "metadata": {},
   "outputs": [],
   "source": [
    "loss = tf.reduce_mean( tf.nn.softmax_cross_entropy_with_logits_v2(logits=Z5, labels=T) )\n",
    "\n",
    "optimizer = tf.train.AdamOptimizer(learning_rate)\n",
    "\n",
    "train = optimizer.minimize(loss)  "
   ]
  },
  {
   "cell_type": "code",
   "execution_count": 10,
   "metadata": {},
   "outputs": [],
   "source": [
    "# batch_size X 10 데이터에 대해 argmax를 통해 행단위로 비교함\n",
    "predicted_val = tf.equal( tf.argmax(A5, 1), tf.argmax(T, 1) )\n",
    "\n",
    "# batch_size X 10 의 True, False 를 1 또는 0 으로 변환\n",
    "accuracy = tf.reduce_mean(tf.cast(predicted_val, dtype=tf.float32))\n",
    "\n",
    "# index list 출력\n",
    "accuracy_index = tf.cast(predicted_val, dtype=tf.float32)\n",
    "\n",
    "# 예측값 처리\n",
    "predicted_list = tf.argmax(A5, 1)"
   ]
  },
  {
   "cell_type": "code",
   "execution_count": 12,
   "metadata": {
    "scrolled": true
   },
   "outputs": [
    {
     "name": "stdout",
     "output_type": "stream",
     "text": [
      "epochs =  0 , step =  0 , loss_val =  3.066192\n",
      "epochs =  0 , step =  100 , loss_val =  0.39727622\n",
      "epochs =  0 , step =  200 , loss_val =  0.08721465\n",
      "epochs =  0 , step =  300 , loss_val =  0.08177072\n",
      "epochs =  0 , step =  400 , loss_val =  0.09547417\n",
      "epochs =  0 , step =  500 , loss_val =  0.026863828\n",
      "epochs =  1 , step =  0 , loss_val =  0.061035022\n",
      "epochs =  1 , step =  100 , loss_val =  0.040928554\n",
      "epochs =  1 , step =  200 , loss_val =  0.035153177\n",
      "epochs =  1 , step =  300 , loss_val =  0.049228955\n",
      "epochs =  1 , step =  400 , loss_val =  0.015304351\n",
      "epochs =  1 , step =  500 , loss_val =  0.018362006\n",
      "epochs =  2 , step =  0 , loss_val =  0.008929018\n",
      "epochs =  2 , step =  100 , loss_val =  0.04169287\n",
      "epochs =  2 , step =  200 , loss_val =  0.022195345\n",
      "epochs =  2 , step =  300 , loss_val =  0.023257902\n",
      "epochs =  2 , step =  400 , loss_val =  0.013290853\n",
      "epochs =  2 , step =  500 , loss_val =  0.026021743\n",
      "epochs =  3 , step =  0 , loss_val =  0.028961213\n",
      "epochs =  3 , step =  100 , loss_val =  0.009721921\n",
      "epochs =  3 , step =  200 , loss_val =  0.013882829\n",
      "epochs =  3 , step =  300 , loss_val =  0.012522087\n",
      "epochs =  3 , step =  400 , loss_val =  0.030240001\n",
      "epochs =  3 , step =  500 , loss_val =  0.03206732\n",
      "epochs =  4 , step =  0 , loss_val =  0.02350699\n",
      "epochs =  4 , step =  100 , loss_val =  0.022969516\n",
      "epochs =  4 , step =  200 , loss_val =  0.03354677\n",
      "epochs =  4 , step =  300 , loss_val =  0.033600114\n",
      "epochs =  4 , step =  400 , loss_val =  0.015195651\n",
      "epochs =  4 , step =  500 , loss_val =  0.0049042637\n",
      "epochs =  5 , step =  0 , loss_val =  0.014241599\n",
      "epochs =  5 , step =  100 , loss_val =  0.0057891007\n",
      "epochs =  5 , step =  200 , loss_val =  0.02560865\n",
      "epochs =  5 , step =  300 , loss_val =  0.0030592268\n",
      "epochs =  5 , step =  400 , loss_val =  0.0061907787\n",
      "epochs =  5 , step =  500 , loss_val =  0.0017530018\n",
      "epochs =  6 , step =  0 , loss_val =  0.003157418\n",
      "epochs =  6 , step =  100 , loss_val =  0.00013827083\n",
      "epochs =  6 , step =  200 , loss_val =  0.005975479\n",
      "epochs =  6 , step =  300 , loss_val =  0.033850417\n",
      "epochs =  6 , step =  400 , loss_val =  0.016623981\n",
      "epochs =  6 , step =  500 , loss_val =  0.0044661905\n",
      "epochs =  7 , step =  0 , loss_val =  0.029350735\n",
      "epochs =  7 , step =  100 , loss_val =  0.0019290805\n",
      "epochs =  7 , step =  200 , loss_val =  0.016135942\n",
      "epochs =  7 , step =  300 , loss_val =  0.0053657354\n",
      "epochs =  7 , step =  400 , loss_val =  0.00070583576\n",
      "epochs =  7 , step =  500 , loss_val =  0.000794971\n",
      "epochs =  8 , step =  0 , loss_val =  0.003503327\n",
      "epochs =  8 , step =  100 , loss_val =  0.0010830051\n",
      "epochs =  8 , step =  200 , loss_val =  4.696109e-05\n",
      "epochs =  8 , step =  300 , loss_val =  0.0067185103\n",
      "epochs =  8 , step =  400 , loss_val =  0.0035962008\n",
      "epochs =  8 , step =  500 , loss_val =  0.04660212\n",
      "epochs =  9 , step =  0 , loss_val =  0.0004067222\n",
      "epochs =  9 , step =  100 , loss_val =  0.004911821\n",
      "epochs =  9 , step =  200 , loss_val =  0.016952079\n",
      "epochs =  9 , step =  300 , loss_val =  0.00035867264\n",
      "epochs =  9 , step =  400 , loss_val =  5.9888913e-05\n",
      "epochs =  9 , step =  500 , loss_val =  0.10566661\n",
      "epochs =  10 , step =  0 , loss_val =  0.0002878468\n",
      "epochs =  10 , step =  100 , loss_val =  0.012075592\n",
      "epochs =  10 , step =  200 , loss_val =  0.000100417856\n",
      "epochs =  10 , step =  300 , loss_val =  0.022735698\n",
      "epochs =  10 , step =  400 , loss_val =  0.027871989\n",
      "epochs =  10 , step =  500 , loss_val =  0.0009484458\n",
      "epochs =  11 , step =  0 , loss_val =  0.0012673053\n",
      "epochs =  11 , step =  100 , loss_val =  0.0022845857\n",
      "epochs =  11 , step =  200 , loss_val =  0.0042911093\n",
      "epochs =  11 , step =  300 , loss_val =  0.013665254\n",
      "epochs =  11 , step =  400 , loss_val =  9.849132e-05\n",
      "epochs =  11 , step =  500 , loss_val =  0.00038195387\n",
      "epochs =  12 , step =  0 , loss_val =  0.0073228306\n",
      "epochs =  12 , step =  100 , loss_val =  3.5226174e-05\n",
      "epochs =  12 , step =  200 , loss_val =  3.091955e-05\n",
      "epochs =  12 , step =  300 , loss_val =  0.00087532355\n",
      "epochs =  12 , step =  400 , loss_val =  7.588541e-05\n",
      "epochs =  12 , step =  500 , loss_val =  0.000172175\n",
      "epochs =  13 , step =  0 , loss_val =  0.0439075\n",
      "epochs =  13 , step =  100 , loss_val =  7.930974e-06\n",
      "epochs =  13 , step =  200 , loss_val =  0.00071876065\n",
      "epochs =  13 , step =  300 , loss_val =  0.00062641053\n",
      "epochs =  13 , step =  400 , loss_val =  0.00082395127\n",
      "epochs =  13 , step =  500 , loss_val =  0.0012411381\n",
      "epochs =  14 , step =  0 , loss_val =  0.00080016867\n",
      "epochs =  14 , step =  100 , loss_val =  8.066064e-05\n",
      "epochs =  14 , step =  200 , loss_val =  0.00011516295\n",
      "epochs =  14 , step =  300 , loss_val =  0.007463055\n",
      "epochs =  14 , step =  400 , loss_val =  1.4671866e-05\n",
      "epochs =  14 , step =  500 , loss_val =  0.00042057573\n",
      "epochs =  15 , step =  0 , loss_val =  0.00029336775\n",
      "epochs =  15 , step =  100 , loss_val =  0.00026410143\n",
      "epochs =  15 , step =  200 , loss_val =  4.3018983e-05\n",
      "epochs =  15 , step =  300 , loss_val =  0.00023613959\n",
      "epochs =  15 , step =  400 , loss_val =  2.0060937e-05\n",
      "epochs =  15 , step =  500 , loss_val =  0.0027979119\n",
      "epochs =  16 , step =  0 , loss_val =  0.0008524097\n",
      "epochs =  16 , step =  100 , loss_val =  0.00042158083\n",
      "epochs =  16 , step =  200 , loss_val =  0.00026192513\n",
      "epochs =  16 , step =  300 , loss_val =  0.0001946005\n",
      "epochs =  16 , step =  400 , loss_val =  0.000136943\n",
      "epochs =  16 , step =  500 , loss_val =  0.00056465034\n",
      "epochs =  17 , step =  0 , loss_val =  6.405516e-05\n",
      "epochs =  17 , step =  100 , loss_val =  2.8967716e-07\n",
      "epochs =  17 , step =  200 , loss_val =  1.8835036e-07\n",
      "epochs =  17 , step =  300 , loss_val =  0.00013922286\n",
      "epochs =  17 , step =  400 , loss_val =  0.010957352\n",
      "epochs =  17 , step =  500 , loss_val =  6.7995396e-05\n",
      "epochs =  18 , step =  0 , loss_val =  0.00031947595\n",
      "epochs =  18 , step =  100 , loss_val =  0.00018812073\n",
      "epochs =  18 , step =  200 , loss_val =  8.219787e-05\n",
      "epochs =  18 , step =  300 , loss_val =  0.00022921237\n",
      "epochs =  18 , step =  400 , loss_val =  1.8214861e-06\n",
      "epochs =  18 , step =  500 , loss_val =  0.00015838839\n",
      "epochs =  19 , step =  0 , loss_val =  8.673142e-05\n",
      "epochs =  19 , step =  100 , loss_val =  0.00063668826\n",
      "epochs =  19 , step =  200 , loss_val =  0.00035244014\n",
      "epochs =  19 , step =  300 , loss_val =  1.6581433e-06\n",
      "epochs =  19 , step =  400 , loss_val =  0.00016319378\n",
      "epochs =  19 , step =  500 , loss_val =  7.2777398e-06\n",
      "epochs =  20 , step =  0 , loss_val =  1.4775275e-05\n",
      "epochs =  20 , step =  100 , loss_val =  1.4337291e-05\n",
      "epochs =  20 , step =  200 , loss_val =  7.37399e-05\n",
      "epochs =  20 , step =  300 , loss_val =  4.462746e-05\n",
      "epochs =  20 , step =  400 , loss_val =  1.03711955e-07\n",
      "epochs =  20 , step =  500 , loss_val =  1.2921671e-06\n",
      "epochs =  21 , step =  0 , loss_val =  8.894665e-06\n",
      "epochs =  21 , step =  100 , loss_val =  0.00010824361\n",
      "epochs =  21 , step =  200 , loss_val =  2.90916e-05\n",
      "epochs =  21 , step =  300 , loss_val =  0.03382517\n",
      "epochs =  21 , step =  400 , loss_val =  7.86749e-06\n",
      "epochs =  21 , step =  500 , loss_val =  3.969291e-06\n",
      "epochs =  22 , step =  0 , loss_val =  0.005470879\n",
      "epochs =  22 , step =  100 , loss_val =  0.00016172943\n",
      "epochs =  22 , step =  200 , loss_val =  0.0005549825\n",
      "epochs =  22 , step =  300 , loss_val =  0.0046524336\n",
      "epochs =  22 , step =  400 , loss_val =  3.6675352e-05\n",
      "epochs =  22 , step =  500 , loss_val =  0.07809998\n",
      "epochs =  23 , step =  0 , loss_val =  0.00040682752\n",
      "epochs =  23 , step =  100 , loss_val =  0.0053054052\n",
      "epochs =  23 , step =  200 , loss_val =  1.6366305e-06\n",
      "epochs =  23 , step =  300 , loss_val =  0.00011964421\n",
      "epochs =  23 , step =  400 , loss_val =  0.021195065\n",
      "epochs =  23 , step =  500 , loss_val =  0.00073081313\n",
      "epochs =  24 , step =  0 , loss_val =  0.0001361612\n",
      "epochs =  24 , step =  100 , loss_val =  0.020172145\n",
      "epochs =  24 , step =  200 , loss_val =  0.00018875641\n",
      "epochs =  24 , step =  300 , loss_val =  1.2159335e-07\n",
      "epochs =  24 , step =  400 , loss_val =  0.003016147\n",
      "epochs =  24 , step =  500 , loss_val =  0.00016459869\n",
      "epochs =  25 , step =  0 , loss_val =  0.013245047\n",
      "epochs =  25 , step =  100 , loss_val =  0.0005041102\n",
      "epochs =  25 , step =  200 , loss_val =  0.00015599941\n",
      "epochs =  25 , step =  300 , loss_val =  3.3827428e-06\n",
      "epochs =  25 , step =  400 , loss_val =  8.408406e-06\n"
     ]
    },
    {
     "name": "stdout",
     "output_type": "stream",
     "text": [
      "epochs =  25 , step =  500 , loss_val =  4.167896e-05\n",
      "epochs =  26 , step =  0 , loss_val =  5.84477e-05\n",
      "epochs =  26 , step =  100 , loss_val =  0.00017858991\n",
      "epochs =  26 , step =  200 , loss_val =  8.547355e-06\n",
      "epochs =  26 , step =  300 , loss_val =  0.00018973753\n",
      "epochs =  26 , step =  400 , loss_val =  3.3110366e-05\n",
      "epochs =  26 , step =  500 , loss_val =  0.000703241\n",
      "epochs =  27 , step =  0 , loss_val =  0.0008976024\n",
      "epochs =  27 , step =  100 , loss_val =  2.305021e-05\n",
      "epochs =  27 , step =  200 , loss_val =  2.175446e-06\n",
      "epochs =  27 , step =  300 , loss_val =  5.695492e-05\n",
      "epochs =  27 , step =  400 , loss_val =  1.1777548e-06\n",
      "epochs =  27 , step =  500 , loss_val =  0.0026929942\n",
      "epochs =  28 , step =  0 , loss_val =  0.008773381\n",
      "epochs =  28 , step =  100 , loss_val =  4.768322e-07\n",
      "epochs =  28 , step =  200 , loss_val =  0.0077557415\n",
      "epochs =  28 , step =  300 , loss_val =  0.000102116326\n",
      "epochs =  28 , step =  400 , loss_val =  2.7809333e-06\n",
      "epochs =  28 , step =  500 , loss_val =  5.6028338e-08\n",
      "epochs =  29 , step =  0 , loss_val =  5.722042e-08\n",
      "epochs =  29 , step =  100 , loss_val =  7.350486e-05\n",
      "epochs =  29 , step =  200 , loss_val =  4.3260712e-05\n",
      "epochs =  29 , step =  300 , loss_val =  1.0728785e-07\n",
      "epochs =  29 , step =  400 , loss_val =  4.3612345e-06\n",
      "epochs =  29 , step =  500 , loss_val =  3.229141e-06\n",
      "\n",
      "elapsed time =  0:02:09.931322\n",
      "\n",
      "Accuracy =  0.9921\n",
      "type(accuracy_val) =  <class 'numpy.float32'> , type(predicted_list_val) =  <class 'numpy.ndarray'> , type(index_label) =  <class 'numpy.ndarray'>\n",
      "index_label.shape =  (10000,)\n",
      "length of index_label_list =  10000\n",
      "false label count =  79\n",
      "W2_val.shape =  (5, 5, 1, 32) , W3_val.shape =  (5, 5, 32, 64) , W4_val.shape =  (5, 5, 64, 128)\n",
      "C2_val.shape =  (10000, 28, 28, 32) , C3_val.shape =  (10000, 14, 14, 64) , C4_val.shape =  (10000, 7, 7, 128)\n",
      "\n",
      "length of index_label_false_list 79\n"
     ]
    },
    {
     "data": {
      "image/png": "[encoded data removed]",
      "text/plain": [
       "<Figure size 432x288 with 1 Axes>"
      ]
     },
     "metadata": {
      "needs_background": "light"
     },
     "output_type": "display_data"
    }
   ],
   "source": [
    "index_label_prediction_list = []\n",
    "\n",
    "with  tf.Session()  as sess:\n",
    "    \n",
    "    sess.run(tf.global_variables_initializer())  # 변수 노드(tf.Variable) 초기화\n",
    "    \n",
    "    start_time = datetime.now()\n",
    "    \n",
    "    for i in range(epochs):    # 30 번 반복수행\n",
    "        \n",
    "        total_batch = int(mnist.train.num_examples / batch_size)  # 55,000 / 100\n",
    "\n",
    "        for step in range(total_batch):\n",
    "            \n",
    "            batch_x_data, batch_t_data = mnist.train.next_batch(batch_size)\n",
    "      \n",
    "            loss_val, _ = sess.run([loss, train], feed_dict={X: batch_x_data, T: batch_t_data})    \n",
    "        \n",
    "            if step % 100 == 0:\n",
    "                print(\"epochs = \", i, \", step = \", step, \", loss_val = \", loss_val)             \n",
    "    \n",
    "    end_time = datetime.now() \n",
    "    \n",
    "    print(\"\\nelapsed time = \", end_time - start_time) \n",
    "    \n",
    "    # Accuracy 확인\n",
    "    test_x_data = mnist.test.images    # 10000 X 784\n",
    "    test_t_data = mnist.test.labels    # 10000 X 10\n",
    "    \n",
    "    accuracy_val, predicted_list_val, index_label = sess.run([accuracy, predicted_list, accuracy_index], feed_dict={X: test_x_data, T: test_t_data})\n",
    "    \n",
    "    W2_val, W3_val, W4_val = sess.run([W2, W3, W4], feed_dict={X: test_x_data, T: test_t_data})\n",
    "    C2_val, C3_val, C4_val = sess.run([C2, C3, C4], feed_dict={X: test_x_data, T: test_t_data})\n",
    "    \n",
    "    print(\"\\nAccuracy = \", accuracy_val)\n",
    "    print(\"type(accuracy_val) = \", type(accuracy_val), ', type(predicted_list_val) = ', type(predicted_list_val), ', type(index_label) = ', type(index_label))\n",
    "    print(\"index_label.shape = \", index_label.shape)\n",
    "    \n",
    "    index_label_list = list(index_label)\n",
    "    print(\"length of index_label_list = \", len(index_label_list))\n",
    "    print(\"false label count = \", index_label_list.count([0]))\n",
    "    \n",
    "    print('W2_val.shape = ', W2_val.shape, ', W3_val.shape = ', W3_val.shape, ', W4_val.shape = ', W4_val.shape)\n",
    "    print('C2_val.shape = ', C2_val.shape, ', C3_val.shape = ', C3_val.shape, ', C4_val.shape = ', C4_val.shape)\n",
    "        \n",
    "    plt.imshow(C2_val[0, :, :, 12]) # C2에서 0번째 index image의 12번째 filter에 의한 그림 출력 (filter는 32개 있음)\n",
    "    \n",
    "    # numpy type 으로 디버그\n",
    "    temp_list = [] \n",
    "    \n",
    "    for index in range(len(index_label)):\n",
    "        \n",
    "        if index_label[index] == 0:\n",
    "            \n",
    "            temp_list.append(index)\n",
    "            temp_list.append(np.argmax(test_t_data[index]))  # one-hot encoding 이므로 argmax 로 정답 추출\n",
    "            temp_list.append(predicted_list_val[index])\n",
    "            \n",
    "            index_label_prediction_list.append(temp_list)\n",
    "            \n",
    "            temp_list = []\n",
    "            \n",
    "    print(\"\\nlength of index_label_false_list\", len(index_label_prediction_list))"
   ]
  },
  {
   "cell_type": "code",
   "execution_count": 13,
   "metadata": {},
   "outputs": [
    {
     "data": {
      "text/plain": [
       "<matplotlib.image.AxesImage at 0x1d2b01d5088>"
      ]
     },
     "execution_count": 13,
     "metadata": {},
     "output_type": "execute_result"
    },
    {
     "data": {
      "image/png": "[encoded data removed]",
      "text/plain": [
       "<Figure size 432x288 with 1 Axes>"
      ]
     },
     "metadata": {
      "needs_background": "light"
     },
     "output_type": "display_data"
    }
   ],
   "source": [
    "plt.imshow(test_x_data[0].reshape(28, 28))"
   ]
  },
  {
   "cell_type": "code",
   "execution_count": 14,
   "metadata": {},
   "outputs": [
    {
     "name": "stdout",
     "output_type": "stream",
     "text": [
      "[[18, 3, 5], [321, 2, 7], [326, 2, 6], [359, 9, 8], [582, 8, 2], [593, 9, 8], [646, 2, 6], [659, 2, 1], [674, 5, 3], [723, 0, 4], [829, 4, 8], [882, 9, 7], [924, 2, 7], [947, 8, 9], [1014, 6, 5], [1039, 7, 1], [1112, 4, 6], [1226, 7, 2], [1232, 9, 4], [1247, 9, 5], [1260, 7, 1], [1337, 2, 6], [1549, 4, 6], [1709, 9, 5], [1878, 8, 3], [1901, 9, 4], [2098, 2, 0], [2118, 6, 1], [2129, 9, 8], [2130, 4, 9], [2135, 6, 1], [2182, 1, 3], [2293, 9, 4], [2369, 5, 3], [2387, 9, 1], [2414, 9, 4], [2454, 6, 0], [2462, 2, 0], [2597, 5, 3], [2654, 6, 1], [2720, 9, 4], [2742, 9, 0], [2939, 9, 5], [3225, 7, 9], [3422, 6, 0], [3475, 3, 7], [3520, 6, 4], [3558, 5, 0], [3559, 8, 5], [3762, 6, 8], [3780, 4, 6], [3850, 9, 4], [3941, 4, 6], [3985, 9, 4], [4007, 7, 4], [4176, 2, 7], [4284, 9, 5], [4360, 5, 3], [4477, 0, 6], [4500, 9, 1], [4571, 6, 8], [4699, 6, 1], [4740, 3, 5], [4761, 9, 4], [4808, 3, 5], [4823, 9, 4], [4860, 4, 9], [4879, 8, 6], [5654, 7, 2], [5937, 5, 3], [6576, 7, 1], [6597, 0, 7], [6625, 8, 2], [8094, 2, 8], [8246, 3, 5], [9421, 2, 0], [9634, 0, 1], [9692, 9, 7], [9729, 5, 6]]\n"
     ]
    }
   ],
   "source": [
    "# index_label_prediction_list\n",
    "print(index_label_prediction_list)"
   ]
  },
  {
   "cell_type": "markdown",
   "metadata": {},
   "source": [
    "### 파일로 이미지 저장"
   ]
  },
  {
   "cell_type": "code",
   "execution_count": 15,
   "metadata": {},
   "outputs": [
    {
     "name": "stdout",
     "output_type": "stream",
     "text": [
      "D:\\OneDrive - konkuk.ac.kr\\AI 기본과정\\실습\\17일차_1130\n"
     ]
    }
   ],
   "source": [
    "# check false data\n",
    "import os\n",
    "\n",
    "save_count = 0\n",
    "\n",
    "# 현재 디렉토리 저장\n",
    "curr_dir = os.getcwd()\n",
    "print(curr_dir)"
   ]
  },
  {
   "cell_type": "code",
   "execution_count": 18,
   "metadata": {},
   "outputs": [
    {
     "name": "stdout",
     "output_type": "stream",
     "text": [
      "10 image is saved now\n",
      "20 image is saved now\n",
      "30 image is saved now\n",
      "40 image is saved now\n",
      "50 image is saved now\n",
      "60 image is saved now\n",
      "70 image is saved now\n",
      "Elapsed save time =>  0:00:26.360042\n",
      "Total  79  data is saved\n"
     ]
    },
    {
     "data": {
      "image/png": "[encoded data removed]",
      "text/plain": [
       "<Figure size 432x288 with 1 Axes>"
      ]
     },
     "metadata": {
      "needs_background": "light"
     },
     "output_type": "display_data"
    }
   ],
   "source": [
    "# image 저장할 디렉토리 생성. 현재 시간으로 생성\n",
    "now = datetime.now()\n",
    "algorithm_name = 'false_data_실습8'\n",
    "save_dir_name = algorithm_name + '_' + str(now.year) + str(now.month) + str(now.day) + '_' + str(now.hour) + str(now.minute) + str(now.second)\n",
    "\n",
    "os.chdir(curr_dir)\n",
    "os.mkdir(save_dir_name)\n",
    "\n",
    "# change dir\n",
    "os.chdir(save_dir_name)\n",
    "\n",
    "start_time = datetime.now()\n",
    "\n",
    "for list_data in index_label_prediction_list:\n",
    "    \n",
    "    index_int = list_data[0]\n",
    "    label_int = list_data[1]\n",
    "    prediction_int = list_data[2]\n",
    "        \n",
    "    # 저장할 이미지를 인덱스를 이용하여 가져옴\n",
    "    img = test_x_data[index_int].reshape(28,28)  \n",
    "    plt.imshow(img, cmap='gray')\n",
    "    \n",
    "    # 정답 문자열\n",
    "    label_str = str(label_int)\n",
    "    \n",
    "    # 예측값 문자열\n",
    "    prediction_str = str(prediction_int)\n",
    "    \n",
    "    # 정답과 오답을 나타내는 문자열\n",
    "    label_prediction_str = 'label = ' + label_str + '  ,  prediction = ' + prediction_str\n",
    "    \n",
    "    # 저장 파일 이름 생성, str(index_int).png\n",
    "    save_image_name = str(index_int) + '.png'\n",
    "    \n",
    "    plt.title(label_prediction_str)\n",
    "    plt.savefig(save_image_name)\n",
    "    \n",
    "    save_count += 1\n",
    "    \n",
    "    if save_count % 10 == 0:\n",
    "        \n",
    "        print(save_count, 'image is saved now')\n",
    "\n",
    "    \n",
    "end_time = datetime.now()\n",
    "\n",
    "print('Elapsed save time => ', end_time - start_time)\n",
    "print('Total ', save_count, \" data is saved\")\n",
    "\n",
    "# 원래의 dir 로 복귀\n",
    "os.chdir(curr_dir)"
   ]
  },
  {
   "cell_type": "code",
   "execution_count": null,
   "metadata": {
    "collapsed": true
   },
   "outputs": [],
   "source": []
  }
 ],
 "metadata": {
  "anaconda-cloud": {},
  "kernelspec": {
   "display_name": "Python 3",
   "language": "python",
   "name": "python3"
  },
  "language_info": {
   "codemirror_mode": {
    "name": "ipython",
    "version": 3
   },
   "file_extension": ".py",
   "mimetype": "text/x-python",
   "name": "python",
   "nbconvert_exporter": "python",
   "pygments_lexer": "ipython3",
   "version": "3.7.4"
  }
 },
 "nbformat": 4,
 "nbformat_minor": 1
}

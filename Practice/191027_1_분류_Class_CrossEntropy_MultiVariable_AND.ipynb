{
 "cells": [
  {
   "cell_type": "code",
   "execution_count": 1,
   "metadata": {},
   "outputs": [],
   "source": [
    "import numpy as np"
   ]
  },
  {
   "cell_type": "code",
   "execution_count": 2,
   "metadata": {},
   "outputs": [],
   "source": [
    "def numerical_derivative(f, x):\n",
    "    delta_x = 1e-4 # 0.0001\n",
    "    grad = np.zeros_like(x)\n",
    "    \n",
    "    it = np.nditer(x, flags=['multi_index'], op_flags=['readwrite'])\n",
    "    \n",
    "    while not it.finished:\n",
    "        idx = it.multi_index        \n",
    "        tmp_val = x[idx]\n",
    "        x[idx] = float(tmp_val) + delta_x\n",
    "        fx1 = f(x) # f(x+delta_x)\n",
    "        \n",
    "        x[idx] = tmp_val - delta_x \n",
    "        fx2 = f(x) # f(x-delta_x)\n",
    "        grad[idx] = (fx1 - fx2) / (2*delta_x)\n",
    "        \n",
    "        x[idx] = tmp_val \n",
    "        it.iternext()   \n",
    "        \n",
    "    return grad\n",
    "\n",
    "def sigmoid(z):\n",
    "    return 1 / (1+np.exp(-z))"
   ]
  },
  {
   "cell_type": "code",
   "execution_count": 3,
   "metadata": {},
   "outputs": [],
   "source": [
    "class ClassificationCrossEntropy:\n",
    "    def __init__(self, xdata, tdata, learning_rate, iteration_count):\n",
    "        self.xdata = xdata\n",
    "        self.tdata = tdata\n",
    "        \n",
    "        self.learning_rate = learning_rate\n",
    "        self.iteration_count = iteration_count\n",
    "        \n",
    "        self.W = np.random.rand(self.xdata.shape[1], 1)\n",
    "        self.b = np.random.rand(1)\n",
    "        \n",
    "        print(\"ClassificationCrossEntropy Object is created\")\n",
    "        \n",
    "        \n",
    "    def getW_b(self):\n",
    "        return self.W, self.b\n",
    "    \n",
    "    def loss_func(self):\n",
    "        delta = 1e-7\n",
    "        z = np.dot(self.xdata, self.W) + self.b\n",
    "        y = sigmoid(z)\n",
    "    \n",
    "        return (-1) * (np.sum(self.tdata*np.log(y+delta) + (1 - self.tdata)*np.log(1 - y + delta)))\n",
    "\n",
    "    def loss_val(self):\n",
    "        delta = 1e-7\n",
    "        z = np.dot(self.xdata, self.W) + self.b\n",
    "        y = sigmoid(z)\n",
    "    \n",
    "        return (-1) * (np.sum(self.tdata*np.log(y+delta) + (1 - self.tdata)*np.log(1 - y + delta)))\n",
    "    \n",
    "    def predict(self, test_data):\n",
    "        z = np.dot(test_data, self.W) + self.b\n",
    "        y = sigmoid(z)\n",
    "        \n",
    "        if y >= 0.5:\n",
    "            result = 1\n",
    "        elif y < 0.5:\n",
    "            result = 0\n",
    "    \n",
    "        return y, result\n",
    "    \n",
    "    def train(self):\n",
    "        f = lambda x : self.loss_func()\n",
    "\n",
    "        print(\"Initial loss value = \", self.loss_val(), \"Initial W = \", self.W, \"\\n\", \", b = \", self.b )\n",
    "\n",
    "        for step in range(self.iteration_count):\n",
    "            self.W -= self.learning_rate * numerical_derivative(f, self.W)\n",
    "            self.b -= self.learning_rate * numerical_derivative(f, self.b)\n",
    "    \n",
    "            if (step % 10000 == 0):\n",
    "                print(\"step = \", step, \"loss value = \", self.loss_val(), \"W = \", self.W, \", b = \", self.b )"
   ]
  },
  {
   "cell_type": "code",
   "execution_count": 4,
   "metadata": {},
   "outputs": [
    {
     "name": "stdout",
     "output_type": "stream",
     "text": [
      "x_data.shape =  (4, 2) , t_data.shape =  (4, 1)\n"
     ]
    }
   ],
   "source": [
    "x_data = np.array([[0, 0], [0, 1], [1, 0], [1, 1]])\n",
    "t_data = np.array([0, 0, 0, 1]).reshape(4, 1)\n",
    "\n",
    "print(\"x_data.shape = \", x_data.shape, \", t_data.shape = \", t_data.shape)"
   ]
  },
  {
   "cell_type": "code",
   "execution_count": 5,
   "metadata": {
    "scrolled": false
   },
   "outputs": [
    {
     "name": "stdout",
     "output_type": "stream",
     "text": [
      "ClassificationCrossEntropy Object is created\n",
      "Initial loss value =  4.467755069584842 Initial W =  [[0.34864621]\n",
      " [0.60204967]] \n",
      " , b =  [0.8426869]\n",
      "step =  0 loss value =  4.414265823747219 W =  [[0.34240301]\n",
      " [0.59538439]] , b =  [0.82139887]\n",
      "step =  10000 loss value =  0.17206238807202817 W =  [[5.56987587]\n",
      " [5.56988782]] , b =  [-8.53461187]\n",
      "step =  20000 loss value =  0.08715121107026888 W =  [[6.95995229]\n",
      " [6.95995271]] , b =  [-10.61375506]\n",
      "step =  30000 loss value =  0.05806282672242667 W =  [[7.7825515 ]\n",
      " [7.78255156]] , b =  [-11.8457323]\n",
      "step =  40000 loss value =  0.043461417514955886 W =  [[8.36709083]\n",
      " [8.36709084]] , b =  [-12.72159835]\n",
      "step =  50000 loss value =  0.03470255204066278 W =  [[8.8203614 ]\n",
      " [8.82036141]] , b =  [-13.40094528]\n",
      "step =  60000 loss value =  0.028870589324994637 W =  [[9.19044137]\n",
      " [9.19044137]] , b =  [-13.9556958]\n",
      "step =  70000 loss value =  0.02471101995383406 W =  [[9.50308849]\n",
      " [9.5030885 ]] , b =  [-14.42440431]\n",
      "step =  80000 loss value =  0.021595857843512343 W =  [[9.7737066]\n",
      " [9.7737066]] , b =  [-14.83013583]\n",
      "step =  90000 loss value =  0.01917622514844143 W =  [[10.01223876]\n",
      " [10.01223876]] , b =  [-15.18778254]\n",
      "step =  100000 loss value =  0.017242908886662 W =  [[10.22547518]\n",
      " [10.22547518]] , b =  [-15.50751635]\n"
     ]
    }
   ],
   "source": [
    "obj1 = ClassificationCrossEntropy(x_data, t_data, 1e-2, 100001)\n",
    "\n",
    "obj1.train()"
   ]
  },
  {
   "cell_type": "code",
   "execution_count": 6,
   "metadata": {},
   "outputs": [
    {
     "data": {
      "text/plain": [
       "(array([[1.84149752e-07]]), 0)"
      ]
     },
     "execution_count": 6,
     "metadata": {},
     "output_type": "execute_result"
    }
   ],
   "source": [
    "obj1.predict(np.array([0, 0]).reshape(1, 2))"
   ]
  },
  {
   "cell_type": "code",
   "execution_count": 7,
   "metadata": {},
   "outputs": [
    {
     "data": {
      "text/plain": [
       "(array([0.00505635]), 0)"
      ]
     },
     "execution_count": 7,
     "metadata": {},
     "output_type": "execute_result"
    }
   ],
   "source": [
    "obj1.predict([0, 1])"
   ]
  },
  {
   "cell_type": "code",
   "execution_count": 8,
   "metadata": {},
   "outputs": [
    {
     "data": {
      "text/plain": [
       "(array([0.00505635]), 0)"
      ]
     },
     "execution_count": 8,
     "metadata": {},
     "output_type": "execute_result"
    }
   ],
   "source": [
    "obj1.predict([1, 0])"
   ]
  },
  {
   "cell_type": "code",
   "execution_count": 10,
   "metadata": {},
   "outputs": [
    {
     "data": {
      "text/plain": [
       "(array([0.99292041]), 1)"
      ]
     },
     "execution_count": 10,
     "metadata": {},
     "output_type": "execute_result"
    }
   ],
   "source": [
    "obj1.predict([1, 1])"
   ]
  },
  {
   "cell_type": "code",
   "execution_count": null,
   "metadata": {},
   "outputs": [],
   "source": []
  }
 ],
 "metadata": {
  "kernelspec": {
   "display_name": "Python 3",
   "language": "python",
   "name": "python3"
  },
  "language_info": {
   "codemirror_mode": {
    "name": "ipython",
    "version": 3
   },
   "file_extension": ".py",
   "mimetype": "text/x-python",
   "name": "python",
   "nbconvert_exporter": "python",
   "pygments_lexer": "ipython3",
   "version": "3.7.4"
  }
 },
 "nbformat": 4,
 "nbformat_minor": 2
}

{
 "cells": [
  {
   "cell_type": "code",
   "execution_count": 1,
   "metadata": {},
   "outputs": [],
   "source": [
    "import numpy as np\n",
    "from datetime import datetime"
   ]
  },
  {
   "cell_type": "code",
   "execution_count": 2,
   "metadata": {},
   "outputs": [],
   "source": [
    "def numerical_derivative(f, x):\n",
    "    delta_x = 1e-4 # 0.0001\n",
    "    grad = np.zeros_like(x)\n",
    "    \n",
    "    it = np.nditer(x, flags=['multi_index'], op_flags=['readwrite'])\n",
    "    \n",
    "    while not it.finished:\n",
    "        idx = it.multi_index        \n",
    "        tmp_val = x[idx]\n",
    "        x[idx] = float(tmp_val) + delta_x\n",
    "        fx1 = f(x) # f(x+delta_x)\n",
    "        \n",
    "        x[idx] = tmp_val - delta_x \n",
    "        fx2 = f(x) # f(x-delta_x)\n",
    "        grad[idx] = (fx1 - fx2) / (2*delta_x)\n",
    "        \n",
    "        x[idx] = tmp_val \n",
    "        it.iternext()   \n",
    "        \n",
    "    return grad\n",
    "\n",
    "def sigmoid(x):\n",
    "    return 1 / (1+np.exp(-x))"
   ]
  },
  {
   "cell_type": "code",
   "execution_count": 8,
   "metadata": {},
   "outputs": [],
   "source": [
    "class LogicGate:\n",
    "    \n",
    "    def __init__(self, gate_name, i_node, h1_node, o_node, learning_rate):  \n",
    "        self.name = gate_name\n",
    "        \n",
    "        self.W2 = np.random.rand(i_node, h1_node)             \n",
    "        self.b2 = np.random.rand(h1_node)\n",
    "        \n",
    "        self.W3 = np.random.rand(h1_node, o_node) \n",
    "        self.b3 = np.random.rand(o_node)\n",
    "                        \n",
    "        self.learning_rate = learning_rate\n",
    "        \n",
    "        print(self.name + \" object is created\")\n",
    "\n",
    "    def feed_forward(self):\n",
    "        delta = 1e-7   \n",
    "        \n",
    "        Z2 = np.dot(self.xdata, self.W2) + self.b2\n",
    "        A2 = sigmoid(Z2)\n",
    "        \n",
    "        Z3 = np.dot(A2, self.W3) + self.b3\n",
    "        y = sigmoid(Z3)\n",
    "        \n",
    "        return  -np.sum( self.tdata*np.log(y + delta) + (1-self.tdata)*np.log((1 - y)+delta ) )\n",
    "\n",
    "    def loss_val(self):\n",
    "        delta = 1e-7   \n",
    "    \n",
    "        Z2 = np.dot(self.xdata, self.W2) + self.b2    \n",
    "        A2 = sigmoid(Z2)    \n",
    "    \n",
    "        Z3 = np.dot(A2, self.W3) + self.b3    \n",
    "        y = sigmoid(Z3)    \n",
    "        \n",
    "        return  -np.sum( self.tdata*np.log(y + delta) + (1-self.tdata)*np.log((1 - y)+delta ) )\n",
    "                       \n",
    "    def train(self, xdata, tdata):\n",
    "        self.xdata = xdata\n",
    "        self.tdata = tdata\n",
    "        \n",
    "        f = lambda x : self.feed_forward()\n",
    "      \n",
    "        self.W2 -= self.learning_rate * numerical_derivative( f, self.W2 )\n",
    "        self.b2 -= self.learning_rate * numerical_derivative( f, self.b2 )\n",
    "\n",
    "        self.W3 -= self.learning_rate * numerical_derivative( f, self.W3 )\n",
    "        self.b3 -= self.learning_rate * numerical_derivative( f, self.b3 )\n",
    "                       \n",
    "    def predict(self, x):\n",
    "        z2 = np.dot(x, self.W2) + self.b2\n",
    "        a2 = sigmoid(z2)\n",
    "    \n",
    "        z3 = np.dot(a2, self.W3) + self.b3\n",
    "        y = a3 = sigmoid(z3)\n",
    "    \n",
    "        if y > 0.5:\n",
    "            result = 1  # True\n",
    "        else:\n",
    "            result = 0  # False\n",
    "    \n",
    "        return y, result\n",
    "    \n",
    "    # 정확도 예측 함수\n",
    "    def accuracy1(self, test_xdata, test_tdata):\n",
    "        matched_list = []\n",
    "        not_matched_list = []\n",
    "        \n",
    "        for index in range(len(test_xdata)):            \n",
    "            (real_val, logical_val) = self.predict(test_xdata[index])\n",
    "            \n",
    "            if logical_val == test_tdata[index]:\n",
    "                matched_list.append(True)\n",
    "            else:\n",
    "                not_matched_list.append(False)\n",
    "        \n",
    "        accuracy_result = len(matched_list) / len(test_xdata)\n",
    "        print(\"\\nAccuracy =>\", accuracy_result)\n",
    "        \n",
    "        return matched_list, not_matched_list\n",
    "    \n",
    "    def accuracy2(self, test_data):\n",
    "        matched_list = []\n",
    "        not_matched_list = []\n",
    "        \n",
    "        test_xdata = test_data[:, 0:-1]\n",
    "        test_tdata = test_data[:, -1]\n",
    "        \n",
    "        for index in range(len(test_xdata)):            \n",
    "            (real_val, logical_val) = self.predict(test_xdata[index])\n",
    "            \n",
    "            if logical_val == test_tdata[index]:\n",
    "                matched_list.append(True)\n",
    "            else:\n",
    "                not_matched_list.append(False)\n",
    "        \n",
    "        accuracy_result = len(matched_list) / len(test_xdata)\n",
    "        print(\"\\nAccuracy =>\", accuracy_result)\n",
    "        \n",
    "        return matched_list, not_matched_list"
   ]
  },
  {
   "cell_type": "markdown",
   "metadata": {},
   "source": [
    "## AND"
   ]
  },
  {
   "cell_type": "code",
   "execution_count": 12,
   "metadata": {},
   "outputs": [
    {
     "name": "stdout",
     "output_type": "stream",
     "text": [
      "AND_GATE object is created\n",
      "count = 0 loss value = 0.4050528398975581\n",
      "count = 500 loss value = 0.1517867448741649\n",
      "count = 1000 loss value = 0.04077284257082444\n",
      "count = 1500 loss value = 0.022264564948683337\n",
      "count = 2000 loss value = 0.015106195423043065\n",
      "count = 2500 loss value = 0.011367221528904303\n",
      "count = 3000 loss value = 0.009085499938761538\n",
      "count = 3500 loss value = 0.007553618619753644\n",
      "count = 4000 loss value = 0.006456540803059106\n",
      "count = 4500 loss value = 0.005633356569651226\n",
      "Elapsed Time => 0:00:04.603697\n"
     ]
    }
   ],
   "source": [
    "xdata = np.array([ [0, 0], [0, 1], [1, 0], [1, 1] ])\n",
    "tdata = np.array([0, 0, 0, 1])\n",
    "i_node = 2\n",
    "h1_node = 1\n",
    "o_node = 1\n",
    "learning_rate = 1e-1\n",
    "epochs = 5000\n",
    "\n",
    "AND_obj = LogicGate(\"AND_GATE\", i_node, h1_node, o_node, learning_rate)\n",
    "        \n",
    "start_time = datetime.now()  \n",
    "        \n",
    "for count in  range(epochs):\n",
    "    for index in range(len(xdata)):\n",
    "        AND_obj.train(xdata[index], tdata[index])\n",
    "    \n",
    "    if (count % 500 == 0):\n",
    "        print(\"count =\", count, \"loss value =\", AND_obj.loss_val())\n",
    "                \n",
    "end_time = datetime.now()\n",
    "\n",
    "print(\"Elapsed Time =>\", end_time - start_time)"
   ]
  },
  {
   "cell_type": "code",
   "execution_count": 13,
   "metadata": {},
   "outputs": [
    {
     "name": "stdout",
     "output_type": "stream",
     "text": [
      "AND_GATE \n",
      "\n",
      "real_val = [0.00108795] , logical_val = 0\n",
      "real_val = [0.0029829] , logical_val = 0\n",
      "real_val = [0.00298511] , logical_val = 0\n",
      "real_val = [0.99501768] , logical_val = 1\n",
      "\n",
      "Accuracy => 1.0\n",
      "\n",
      " ([True, True, True, True], [])\n",
      "\n",
      "Accuracy => 1.0\n",
      "\n",
      " ([True, True, True, True], [])\n"
     ]
    }
   ],
   "source": [
    "print(AND_obj.name, \"\\n\")\n",
    "\n",
    "test_xdata = np.array([ [0, 0], [0, 1], [1, 0], [1, 1] ])\n",
    "test_tdata = np.array([ 0, 0, 0, 1])\n",
    "\n",
    "test_data = np.array([ [0, 0, 0], [0, 1, 0], [1, 0, 0], [1, 1, 1] ])\n",
    "\n",
    "for data in test_xdata:\n",
    "    (real_val, logical_val) = AND_obj.predict(data)\n",
    "    print(\"real_val =\", real_val, \", logical_val =\", logical_val)\n",
    "\n",
    "accuracy_ret = AND_obj.accuracy1(test_xdata, test_tdata)\n",
    "\n",
    "print(\"\\n\", accuracy_ret)\n",
    "\n",
    "accuracy_ret = AND_obj.accuracy2(test_data)\n",
    "\n",
    "print(\"\\n\", accuracy_ret)"
   ]
  },
  {
   "cell_type": "markdown",
   "metadata": {},
   "source": [
    "## OR"
   ]
  },
  {
   "cell_type": "code",
   "execution_count": 15,
   "metadata": {},
   "outputs": [
    {
     "name": "stdout",
     "output_type": "stream",
     "text": [
      "OR_GATE object is created\n",
      "count = 0 loss value = 0.33315243197072736\n",
      "count = 500 loss value = 0.01357355314779132\n",
      "count = 1000 loss value = 0.005365666952123143\n",
      "count = 1500 loss value = 0.0033207372788836994\n",
      "count = 2000 loss value = 0.002404723704560233\n",
      "count = 2500 loss value = 0.0018861352614835665\n",
      "count = 3000 loss value = 0.001552550804173204\n",
      "count = 3500 loss value = 0.0013199348782984394\n",
      "count = 4000 loss value = 0.0011484357594043072\n",
      "count = 4500 loss value = 0.00101673361461488\n",
      "Elapsed Time => 0:00:04.299537\n"
     ]
    }
   ],
   "source": [
    "xdata = np.array([ [0, 0], [0, 1], [1, 0], [1, 1] ]).reshape(4, 2)\n",
    "tdata = np.array([0, 1, 1, 1]).reshape(4, 1)\n",
    "i_node = 2\n",
    "h1_node = 1\n",
    "o_node = 1\n",
    "learning_rate = 1e-1\n",
    "epochs = 5000\n",
    "\n",
    "OR_obj = LogicGate(\"OR_GATE\", i_node, h1_node, o_node, learning_rate)\n",
    "        \n",
    "start_time = datetime.now()  \n",
    "        \n",
    "for count in  range(epochs):\n",
    "    for index in range(len(xdata)):\n",
    "        OR_obj.train(xdata[index], tdata[index])\n",
    "    \n",
    "    if (count % 500 == 0):\n",
    "        print(\"count =\", count, \"loss value =\", OR_obj.loss_val())\n",
    "                \n",
    "end_time = datetime.now()\n",
    "\n",
    "print(\"Elapsed Time =>\", end_time - start_time)"
   ]
  },
  {
   "cell_type": "code",
   "execution_count": 16,
   "metadata": {},
   "outputs": [
    {
     "name": "stdout",
     "output_type": "stream",
     "text": [
      "OR_GATE \n",
      "\n",
      "real_val = [0.00657692] , logical_val = 0\n",
      "real_val = [0.99819086] , logical_val = 1\n",
      "real_val = [0.99818758] , logical_val = 1\n",
      "real_val = [0.99908774] , logical_val = 1\n",
      "\n",
      "Accuracy => 1.0\n",
      "\n",
      " ([True, True, True, True], [])\n",
      "\n",
      "Accuracy => 1.0\n",
      "\n",
      " ([True, True, True, True], [])\n"
     ]
    }
   ],
   "source": [
    "print(OR_obj.name, \"\\n\")\n",
    "\n",
    "test_xdata = np.array([ [0, 0], [0, 1], [1, 0], [1, 1] ])\n",
    "test_tdata = np.array([ 0, 1, 1, 1])\n",
    "\n",
    "test_data = np.array([ [0, 0, 0], [0, 1, 1], [1, 0, 1], [1, 1, 1] ])\n",
    "\n",
    "for data in test_xdata:\n",
    "    (real_val, logical_val) = OR_obj.predict(data)\n",
    "    print(\"real_val =\", real_val, \", logical_val =\", logical_val)\n",
    "\n",
    "accuracy_ret = OR_obj.accuracy1(test_xdata, test_tdata)\n",
    "\n",
    "print(\"\\n\", accuracy_ret)\n",
    "\n",
    "accuracy_ret = OR_obj.accuracy2(test_data)\n",
    "\n",
    "print(\"\\n\", accuracy_ret)"
   ]
  },
  {
   "cell_type": "markdown",
   "metadata": {},
   "source": [
    "## NAND"
   ]
  },
  {
   "cell_type": "code",
   "execution_count": 17,
   "metadata": {},
   "outputs": [
    {
     "name": "stdout",
     "output_type": "stream",
     "text": [
      "NAND_GATE object is created\n",
      "count = 0 loss value = 0.9671119520407513\n",
      "count = 500 loss value = 0.22142635339598715\n",
      "count = 1000 loss value = 0.04616132623097817\n",
      "count = 1500 loss value = 0.02388103523462765\n",
      "count = 2000 loss value = 0.01585201846629439\n",
      "count = 2500 loss value = 0.011789798651570151\n",
      "count = 3000 loss value = 0.009355371216234195\n",
      "count = 3500 loss value = 0.0077399871321911316\n",
      "count = 4000 loss value = 0.006592526617457334\n",
      "count = 4500 loss value = 0.005736713689179747\n",
      "Elapsed Time => 0:00:04.352369\n"
     ]
    }
   ],
   "source": [
    "xdata = np.array([ [0, 0], [0, 1], [1, 0], [1, 1] ]).reshape(4, 2)\n",
    "tdata = np.array([1, 1, 1, 0]).reshape(4, 1)\n",
    "i_node = 2\n",
    "h1_node = 1\n",
    "o_node = 1\n",
    "learning_rate = 1e-1\n",
    "epochs = 5000\n",
    "\n",
    "NAND_obj = LogicGate(\"NAND_GATE\", i_node, h1_node, o_node, learning_rate)\n",
    "        \n",
    "start_time = datetime.now()  \n",
    "        \n",
    "for count in  range(epochs):\n",
    "    for index in range(len(xdata)):\n",
    "        NAND_obj.train(xdata[index], tdata[index])\n",
    "    \n",
    "    if (count % 500 == 0):\n",
    "        print(\"count =\", count, \"loss value =\", NAND_obj.loss_val())\n",
    "                \n",
    "end_time = datetime.now()\n",
    "\n",
    "print(\"Elapsed Time =>\", end_time - start_time)"
   ]
  },
  {
   "cell_type": "code",
   "execution_count": 18,
   "metadata": {},
   "outputs": [
    {
     "name": "stdout",
     "output_type": "stream",
     "text": [
      "NAND_GATE \n",
      "\n",
      "real_val = [0.99889966] , logical_val = 1\n",
      "real_val = [0.99696784] , logical_val = 1\n",
      "real_val = [0.99696555] , logical_val = 1\n",
      "real_val = [0.00506302] , logical_val = 0\n",
      "\n",
      "Accuracy => 1.0\n",
      "\n",
      " ([True, True, True, True], [])\n",
      "\n",
      "Accuracy => 1.0\n",
      "\n",
      " ([True, True, True, True], [])\n"
     ]
    }
   ],
   "source": [
    "print(NAND_obj.name, \"\\n\")\n",
    "\n",
    "test_xdata = np.array([ [0, 0], [0, 1], [1, 0], [1, 1] ])\n",
    "test_tdata = np.array([ 1, 1, 1, 0])\n",
    "\n",
    "test_data = np.array([ [0, 0, 1], [0, 1, 1], [1, 0, 1], [1, 1, 0] ])\n",
    "\n",
    "for data in test_xdata:\n",
    "    (real_val, logical_val) = NAND_obj.predict(data)\n",
    "    print(\"real_val =\", real_val, \", logical_val =\", logical_val)\n",
    "\n",
    "accuracy_ret = NAND_obj.accuracy1(test_xdata, test_tdata)\n",
    "\n",
    "print(\"\\n\", accuracy_ret)\n",
    "\n",
    "accuracy_ret = NAND_obj.accuracy2(test_data)\n",
    "\n",
    "print(\"\\n\", accuracy_ret)"
   ]
  },
  {
   "cell_type": "markdown",
   "metadata": {},
   "source": [
    "## XOR"
   ]
  },
  {
   "cell_type": "code",
   "execution_count": 19,
   "metadata": {},
   "outputs": [
    {
     "name": "stdout",
     "output_type": "stream",
     "text": [
      "XOR_GATE object is created\n",
      "count = 0 loss value = 1.3023628862498764\n",
      "count = 500 loss value = 0.692955604549672\n",
      "count = 1000 loss value = 0.6985059428312256\n",
      "count = 1500 loss value = 0.7123825754945191\n",
      "count = 2000 loss value = 0.8828649176883808\n",
      "count = 2500 loss value = 0.7239519643703307\n",
      "count = 3000 loss value = 0.10285674958382642\n",
      "count = 3500 loss value = 0.0436643214726506\n",
      "count = 4000 loss value = 0.026877895389279406\n",
      "count = 4500 loss value = 0.01923047993025\n",
      "Elapsed Time => 0:00:07.594704\n"
     ]
    }
   ],
   "source": [
    "xdata = np.array([ [0, 0], [0, 1], [1, 0], [1, 1] ])\n",
    "tdata = np.array([0, 1, 1, 0])\n",
    "i_node = 2\n",
    "h1_node = 2\n",
    "o_node = 1\n",
    "learning_rate = 1e-1\n",
    "epochs = 5000\n",
    "\n",
    "XOR_obj = LogicGate(\"XOR_GATE\", i_node, h1_node, o_node, learning_rate)\n",
    "        \n",
    "start_time = datetime.now()  \n",
    "        \n",
    "for count in  range(epochs):\n",
    "    for index in range(len(xdata)):\n",
    "        XOR_obj.train(xdata[index], tdata[index])\n",
    "    \n",
    "    if (count % 500 == 0):\n",
    "        print(\"count =\", count, \"loss value =\", XOR_obj.loss_val())\n",
    "                \n",
    "end_time = datetime.now()\n",
    "\n",
    "print(\"Elapsed Time =>\", end_time - start_time)"
   ]
  },
  {
   "cell_type": "code",
   "execution_count": 20,
   "metadata": {},
   "outputs": [
    {
     "name": "stdout",
     "output_type": "stream",
     "text": [
      "XOR_GATE \n",
      "\n",
      "real_val = [0.00852048] , logical_val = 0\n",
      "real_val = [0.9904631] , logical_val = 1\n",
      "real_val = [0.99042556] , logical_val = 1\n",
      "real_val = [0.01480403] , logical_val = 0\n",
      "\n",
      "Accuracy => 1.0\n",
      "\n",
      " ([True, True, True, True], [])\n",
      "\n",
      "Accuracy => 1.0\n",
      "\n",
      " ([True, True, True, True], [])\n"
     ]
    }
   ],
   "source": [
    "print(XOR_obj.name, \"\\n\")\n",
    "\n",
    "test_xdata = np.array([ [0, 0], [0, 1], [1, 0], [1, 1] ])\n",
    "test_tdata = np.array([ 0, 1, 1, 0])\n",
    "\n",
    "test_data = np.array([ [0, 0, 0], [0, 1, 1], [1, 0, 1], [1, 1, 0] ])\n",
    "\n",
    "for data in test_xdata:\n",
    "    (real_val, logical_val) = XOR_obj.predict(data)\n",
    "    print(\"real_val =\", real_val, \", logical_val =\", logical_val)\n",
    "\n",
    "accuracy_ret = XOR_obj.accuracy1(test_xdata, test_tdata)\n",
    "\n",
    "print(\"\\n\", accuracy_ret)\n",
    "\n",
    "accuracy_ret = XOR_obj.accuracy2(test_data)\n",
    "\n",
    "print(\"\\n\", accuracy_ret)"
   ]
  }
 ],
 "metadata": {
  "kernelspec": {
   "display_name": "Python 3",
   "language": "python",
   "name": "python3"
  },
  "language_info": {
   "codemirror_mode": {
    "name": "ipython",
    "version": 3
   },
   "file_extension": ".py",
   "mimetype": "text/x-python",
   "name": "python",
   "nbconvert_exporter": "python",
   "pygments_lexer": "ipython3",
   "version": "3.7.4"
  }
 },
 "nbformat": 4,
 "nbformat_minor": 2
}

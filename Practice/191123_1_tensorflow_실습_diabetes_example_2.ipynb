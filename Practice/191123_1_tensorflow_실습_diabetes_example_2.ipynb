{
 "cells": [
  {
   "cell_type": "markdown",
   "metadata": {},
   "source": [
    "# 예제 2 은닉층 2개"
   ]
  },
  {
   "cell_type": "code",
   "execution_count": 1,
   "metadata": {},
   "outputs": [],
   "source": [
    "import tensorflow as tf\n",
    "import numpy as np\n",
    "import random\n",
    "from datetime import datetime"
   ]
  },
  {
   "cell_type": "markdown",
   "metadata": {},
   "source": [
    "### 데이터 분리"
   ]
  },
  {
   "cell_type": "code",
   "execution_count": 2,
   "metadata": {},
   "outputs": [],
   "source": [
    "class DataGeneration:\n",
    "    \n",
    "    # target_position = 0 (첫번째열이 정답데이터), target_position=-1 (마지막열이 정답데이터)\n",
    "    def __init__(self, name, file_path, seperation_rate, target_position=-1):\n",
    "        \n",
    "        self.name = name\n",
    "        \n",
    "        self.file_path = file_path\n",
    "        \n",
    "        self.seperation_rate = seperation_rate\n",
    "        \n",
    "        if (target_position == -1  or  target_position == 0):      \n",
    "            self.target_position = target_position\n",
    "        \n",
    "        else:\n",
    "            err_str = 'target_position must be -1 or 0'            \n",
    "            raise Exception(err_str)    \n",
    "            \n",
    "    \n",
    "    # print data target distribution \n",
    "    # str_of_kind : 'original data' or  'training data'  or  'test data'\n",
    "    def print_target_distribution(self, data, str_of_kind='original data'):\n",
    "        \n",
    "        print('=======================================================================================================')\n",
    "        \n",
    "        target_data = data[ :, self.target_position ]\n",
    "        \n",
    "        # numpy.unique() 사용하여 loaded data target 분포 확인\n",
    "        unique, counts = np.unique(target_data, return_counts=True)\n",
    "\n",
    "        print('[DataGeneration]  ', str_of_kind, ' target value = ', dict(zip(unique, counts)).items())\n",
    "\n",
    "        num_zeros = dict(zip(unique, counts))[0.0]  # key 0.0 에 대한 value 값 count 리턴\n",
    "        num_ones = dict(zip(unique, counts))[1.0]  # key 1.0 에 대한 value 값 count 리턴\n",
    "\n",
    "        print('[DataGeneration]  ', str_of_kind, ' zeros numbers = ', num_zeros, ', ratio = ', 100 * num_zeros / (data.shape[0]), ' %')\n",
    "        print('[DataGeneration]  ', str_of_kind, ' ones numbers = ', num_ones, ', ratio = ', 100 * num_ones / (data.shape[0]), '%') \n",
    "    \n",
    "        print('=======================================================================================================')\n",
    "        \n",
    "        \n",
    "    # shuffle 기능을 이용하여 training_data / test_data 생성\n",
    "    def generate(self):\n",
    "    \n",
    "        # 데이터 불러오기, 파일이 없는 경우 exception 발생\n",
    "\n",
    "        try:\n",
    "            loaded_data = np.loadtxt(self.file_path, delimiter=',', dtype=np.float32)\n",
    "            \n",
    "        except Exception as err:\n",
    "            print('[DataGeneration::generate()]  ', str(err))\n",
    "            raise Exception(str(err))\n",
    "\n",
    "        print(\"[DataGeneration]  loaded_data.shape = \", loaded_data.shape)\n",
    "            \n",
    "        # print the target distribution of original data \n",
    "        \n",
    "        self.print_target_distribution(loaded_data, 'original data')\n",
    "        \n",
    "        \n",
    "        # random.shuffle() 이용한 데이터 인덱스 분리 및 트레이닝/테스트 데이터 생성\n",
    "        \n",
    "        # 임시 저장 리스트\n",
    "        training_data_list = []\n",
    "        test_data_list = []\n",
    "\n",
    "        # 분리비율에 맞게 테스트데이터로 분리\n",
    "        total_data_num = len(loaded_data)\n",
    "        test_data_num = int(len(loaded_data) * self.seperation_rate)\n",
    "\n",
    "        #print(\"[DataGeneration]  total_data_num = \", total_data_num, \", test_data_num = \", test_data_num)\n",
    "\n",
    "        # 전체 데이터 인덱스를 가지고 있는 리스트 생성\n",
    "        total_data_index_list = [ index for index in range(total_data_num) ]\n",
    "\n",
    "        # random.shuffle 을 이용하여 인덱스 리스트 생성\n",
    "        random.shuffle(total_data_index_list)  # 전체 인덱스가 랜덤하게 섞여진 리스트로 변형된다\n",
    "\n",
    "        # test data 를 위한 인덱스는 total_data_index_list 로뷰터 앞에서 분리비율(seperation_rate)의 데이터 인덱스\n",
    "        test_data_index_list = total_data_index_list[ 0:test_data_num ]\n",
    "\n",
    "        #print(\"[DataGeneration]  length of test_data_index_list = \", len(test_data_index_list))\n",
    "\n",
    "        # training data 를 위한 인덱스는 total_data_index_list 에서 test data 인덱스를 제외한 나머지 부분\n",
    "        training_data_index_list = total_data_index_list[ test_data_num: ]\n",
    "\n",
    "        #print(\"[DataGeneration]  length of training_data_index_list = \", len(training_data_index_list))\n",
    "\n",
    "        # training data 구성\n",
    "        for training_data_index in training_data_index_list:\n",
    "    \n",
    "            training_data_list.append(loaded_data[training_data_index])\n",
    "\n",
    "        # test data 구성\n",
    "        for test_data_index in test_data_index_list:\n",
    "    \n",
    "            test_data_list.append(loaded_data[test_data_index])\n",
    "\n",
    "        # generate training data from training_data_list using np.arrya(...)\n",
    "        training_data = np.array(training_data_list)\n",
    "\n",
    "        # generate test data from test_data_list using np.arrya(...)\n",
    "        test_data = np.array(test_data_list)\n",
    "\n",
    "        # verification shape\n",
    "        #print(\"[DataGeneration]  training_data.shape = \", training_data.shape)\n",
    "        #print(\"[DataGeneration]  test_data.shape = \", test_data.shape)\n",
    "\n",
    "        # print target distribution of generated data \n",
    "        \n",
    "        self.print_target_distribution(training_data, 'training data')\n",
    "        \n",
    "        self.print_target_distribution(test_data, 'test data')\n",
    "        \n",
    "        \n",
    "        # save training & test data (.csv)\n",
    "        training_data_save_path = './' + self.name + '_training_data.csv'\n",
    "        test_data_save_path = './' + self.name + '_test_data.csv'\n",
    "        \n",
    "        # 저장공간이 없거나 파일 write 실패시 exception 발생\n",
    "        try:\n",
    "            np.savetxt(training_data_save_path, training_data, delimiter=',')\n",
    "            np.savetxt(test_data_save_path, test_data, delimiter=',')\n",
    "            \n",
    "        except Exception as err:\n",
    "            print('[DataGeneration::generate()]  ', str(err))\n",
    "            raise Exception(str(err))\n",
    "        \n",
    "        return training_data, test_data"
   ]
  },
  {
   "cell_type": "code",
   "execution_count": 3,
   "metadata": {},
   "outputs": [
    {
     "name": "stdout",
     "output_type": "stream",
     "text": [
      "[DataGeneration]  loaded_data.shape =  (759, 9)\n",
      "=======================================================================================================\n",
      "[DataGeneration]   original data  target value =  dict_items([(0.0, 263), (1.0, 496)])\n",
      "[DataGeneration]   original data  zeros numbers =  263 , ratio =  34.65085638998683  %\n",
      "[DataGeneration]   original data  ones numbers =  496 , ratio =  65.34914361001317 %\n",
      "=======================================================================================================\n",
      "=======================================================================================================\n",
      "[DataGeneration]   training data  target value =  dict_items([(0.0, 157), (1.0, 299)])\n",
      "[DataGeneration]   training data  zeros numbers =  157 , ratio =  34.42982456140351  %\n",
      "[DataGeneration]   training data  ones numbers =  299 , ratio =  65.5701754385965 %\n",
      "=======================================================================================================\n",
      "=======================================================================================================\n",
      "[DataGeneration]   test data  target value =  dict_items([(0.0, 106), (1.0, 197)])\n",
      "[DataGeneration]   test data  zeros numbers =  106 , ratio =  34.98349834983498  %\n",
      "[DataGeneration]   test data  ones numbers =  197 , ratio =  65.01650165016501 %\n",
      "=======================================================================================================\n"
     ]
    }
   ],
   "source": [
    "# DataGeneration 객체 생성.\n",
    "# 생성된 training data / test data 에 대한 정답(target) 분포 확인\n",
    "\n",
    "seperation_rate = 0.4 # 분리비율\n",
    "target_position = -1\n",
    "\n",
    "try:\n",
    "    data_obj = DataGeneration('Diabetes', './diabetes.csv', seperation_rate, target_position)\n",
    "    (training_data, test_data) = data_obj.generate()    \n",
    "    \n",
    "except Exception as err:\n",
    "    \n",
    "    print('Exception Occur !!')\n",
    "    print(str(err))"
   ]
  },
  {
   "cell_type": "markdown",
   "metadata": {},
   "source": [
    "### TensorFlow - 노드 / 연산 정의"
   ]
  },
  {
   "cell_type": "code",
   "execution_count": 4,
   "metadata": {},
   "outputs": [
    {
     "name": "stdout",
     "output_type": "stream",
     "text": [
      "training_x_data.shape = (456, 8) , training_t_data.shape = (456, 1)\n",
      "test_x_data.shape = (303, 8) , test_t_data.shape = (303, 1)\n"
     ]
    }
   ],
   "source": [
    "training_x_data = training_data[:, 0:-1]\n",
    "training_t_data = training_data[:, [-1]]\n",
    "\n",
    "test_x_data = test_data[:, 0:-1]\n",
    "test_t_data = test_data[:, [-1]]\n",
    "\n",
    "print(\"training_x_data.shape =\", training_x_data.shape, \", training_t_data.shape =\", training_t_data.shape)\n",
    "print(\"test_x_data.shape =\", test_x_data.shape, \", test_t_data.shape =\", test_t_data.shape)"
   ]
  },
  {
   "cell_type": "markdown",
   "metadata": {},
   "source": [
    "##### 여기부터 달라짐"
   ]
  },
  {
   "cell_type": "code",
   "execution_count": 19,
   "metadata": {},
   "outputs": [],
   "source": [
    "# Hyper-Parameter Definition\n",
    "learning_rate = 1e-1\n",
    "input_nodes = training_x_data.shape[1]  \n",
    "hidden_1_nodes = 4\n",
    "hidden_2_nodes = 4\n",
    "output_nodes = 1\n",
    "epochs = 1"
   ]
  },
  {
   "cell_type": "code",
   "execution_count": 14,
   "metadata": {},
   "outputs": [],
   "source": [
    "################## 기존 ##################\n",
    "# W = tf.Variable(tf.random_normal([8, 1]))\n",
    "# b = tf.Variable(tf.random_normal([1]))\n",
    "\n",
    "# X = tf.placeholder(tf.float32, [None, 8])\n",
    "# T = tf.placeholder(tf.float32, [None, 1])\n",
    "##########################################\n",
    "\n",
    "# 입력과 출력을 위한 플레이스홀더 정의\n",
    "X_DATA = tf.placeholder(tf.float32, [None, input_nodes])  \n",
    "T_DATA = tf.placeholder(tf.float32, [None, output_nodes])  \n",
    "\n",
    "W2 = tf.Variable(tf.random_normal([input_nodes, hidden_1_nodes]))  # 은닉층 1가중치 노드\n",
    "b2 = tf.Variable(tf.random_normal([hidden_1_nodes]))               # 은닉층 1바이어스 노드\n",
    "\n",
    "W3 = tf.Variable(tf.random_normal([hidden_1_nodes, hidden_2_nodes]))  # 은닉층 2가중치 노드\n",
    "b3 = tf.Variable(tf.random_normal([hidden_2_nodes]))               # 은닉층 2바이어스 노드\n",
    "\n",
    "W4 = tf.Variable(tf.random_normal([hidden_2_nodes, output_nodes])) # 출력층 가중치 노드\n",
    "b4 = tf.Variable(tf.random_normal([output_nodes]))               # 출력층 바이어스 노드"
   ]
  },
  {
   "cell_type": "code",
   "execution_count": 15,
   "metadata": {},
   "outputs": [],
   "source": [
    "###################### 기존 #######################\n",
    "# z = tf.matmul(X, W) + b  # 선형회귀 값 z\n",
    "\n",
    "# y = tf.sigmoid(z)  # 시그모이드로 계산 값\n",
    "\n",
    "# # 손실 함수는 Cross-Entropy\n",
    "# loss = -tf.reduce_mean(T*tf.log(y) + (1-T)*tf.log(1-y))\n",
    "###################################################\n",
    "\n",
    "# feed forward\n",
    "Z2 = tf.matmul(X_DATA, W2) + b2\n",
    "A2 = tf.sigmoid(Z2)\n",
    "\n",
    "Z3 = tf.matmul(A2, W3) + b3\n",
    "A3 = tf.sigmoid(Z3)\n",
    "\n",
    "Z4 = tf.matmul(A3, W4) + b4  \n",
    "y = A4 = tf.sigmoid(Z4)    # 최종 계산값\n",
    "\n",
    "# 손실함수는 Cross-Entropy \n",
    "loss = -tf.reduce_mean( T_DATA*tf.log(y) + (1-T_DATA)*tf.log(1-y) ) "
   ]
  },
  {
   "cell_type": "code",
   "execution_count": 16,
   "metadata": {},
   "outputs": [],
   "source": [
    "#learning_rate = 1e-2\n",
    "\n",
    "# GradientDescent \n",
    "optimizer = tf.train.GradientDescentOptimizer(learning_rate)  # 앞으로 이 부분만 바뀔 것임\n",
    "\n",
    "train = optimizer.minimize(loss)"
   ]
  },
  {
   "cell_type": "code",
   "execution_count": 17,
   "metadata": {},
   "outputs": [],
   "source": [
    "# 정확성 검사, True if y > 0.5 else False\n",
    "predicted = tf.cast(y > 0.5, dtype=tf.float32)\n",
    "\n",
    "accuracy = tf.reduce_mean(tf.cast(tf.equal(predicted, T_DATA), dtype=tf.float32))"
   ]
  },
  {
   "cell_type": "markdown",
   "metadata": {},
   "source": [
    "### TensorFlow - 노드 / 연산 실행"
   ]
  },
  {
   "cell_type": "code",
   "execution_count": 20,
   "metadata": {
    "scrolled": true
   },
   "outputs": [
    {
     "name": "stdout",
     "output_type": "stream",
     "text": [
      "epochs =  0 , step =  0 , loss_val =  0.72214365\n",
      "epochs =  0 , step =  1000 , loss_val =  0.6462125\n",
      "epochs =  0 , step =  2000 , loss_val =  0.64389163\n",
      "epochs =  0 , step =  3000 , loss_val =  0.6418403\n",
      "epochs =  0 , step =  4000 , loss_val =  0.6399084\n",
      "epochs =  0 , step =  5000 , loss_val =  0.6379881\n",
      "epochs =  0 , step =  6000 , loss_val =  0.6359804\n",
      "epochs =  0 , step =  7000 , loss_val =  0.6337837\n",
      "epochs =  0 , step =  8000 , loss_val =  0.6312836\n",
      "epochs =  0 , step =  9000 , loss_val =  0.6283421\n",
      "epochs =  0 , step =  10000 , loss_val =  0.62478507\n",
      "\n",
      "Elapsed Time =>  0:00:08.046284\n",
      "\n",
      "y_val.shape (303, 1) , predicted_val = (303, 1)\n",
      "\n",
      "Accuracy = 0.650165\n"
     ]
    }
   ],
   "source": [
    "with tf.Session() as sess:  # with를 쓰면 close 하지 않아도 됨\n",
    "    sess.run(tf.global_variables_initializer())  # 변수 노드 (tf.Variable) 초기화\n",
    "    \n",
    "    start_time = datetime.now()\n",
    "    \n",
    "    for i in range(epochs):\n",
    "        for step in range(10001):\n",
    "            loss_val, _ = sess.run([loss, train], feed_dict={X_DATA: training_x_data, T_DATA: training_t_data})    \n",
    "        \n",
    "            if step % 1000 == 0:\n",
    "                print(\"epochs = \", i, \", step = \", step, \", loss_val = \", loss_val)             \n",
    "    \n",
    "    end_time = datetime.now()\n",
    "    \n",
    "    print(\"\")\n",
    "    print(\"Elapsed Time => \", end_time-start_time)\n",
    "    \n",
    "    # Accuracy 확인\n",
    "    y_val, predicted_val, accuracy_val = sess.run([y, predicted, accuracy], feed_dict={X_DATA: test_x_data, T_DATA: test_t_data})\n",
    "    \n",
    "    print(\"\\ny_val.shape\", y_val.shape, \", predicted_val =\", predicted_val.shape)\n",
    "    print(\"\\nAccuracy =\", accuracy_val)"
   ]
  },
  {
   "cell_type": "code",
   "execution_count": null,
   "metadata": {},
   "outputs": [],
   "source": []
  }
 ],
 "metadata": {
  "kernelspec": {
   "display_name": "Python 3",
   "language": "python",
   "name": "python3"
  },
  "language_info": {
   "codemirror_mode": {
    "name": "ipython",
    "version": 3
   },
   "file_extension": ".py",
   "mimetype": "text/x-python",
   "name": "python",
   "nbconvert_exporter": "python",
   "pygments_lexer": "ipython3",
   "version": "3.7.4"
  }
 },
 "nbformat": 4,
 "nbformat_minor": 2
}

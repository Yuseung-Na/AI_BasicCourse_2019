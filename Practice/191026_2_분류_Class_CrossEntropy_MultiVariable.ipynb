{
 "cells": [
  {
   "cell_type": "code",
   "execution_count": 1,
   "metadata": {},
   "outputs": [],
   "source": [
    "import numpy as np"
   ]
  },
  {
   "cell_type": "code",
   "execution_count": 2,
   "metadata": {},
   "outputs": [],
   "source": [
    "def numerical_derivative(f, x):\n",
    "    delta_x = 1e-4 # 0.0001\n",
    "    grad = np.zeros_like(x)\n",
    "    \n",
    "    it = np.nditer(x, flags=['multi_index'], op_flags=['readwrite'])\n",
    "    \n",
    "    while not it.finished:\n",
    "        idx = it.multi_index        \n",
    "        tmp_val = x[idx]\n",
    "        x[idx] = float(tmp_val) + delta_x\n",
    "        fx1 = f(x) # f(x+delta_x)\n",
    "        \n",
    "        x[idx] = tmp_val - delta_x \n",
    "        fx2 = f(x) # f(x-delta_x)\n",
    "        grad[idx] = (fx1 - fx2) / (2*delta_x)\n",
    "        \n",
    "        x[idx] = tmp_val \n",
    "        it.iternext()   \n",
    "        \n",
    "    return grad\n",
    "\n",
    "def sigmoid(z):\n",
    "    return 1 / (1+np.exp(-z))"
   ]
  },
  {
   "cell_type": "code",
   "execution_count": 3,
   "metadata": {},
   "outputs": [],
   "source": [
    "class ClassificationCrossEntropy:\n",
    "    def __init__(self, xdata, tdata, learning_rate, iteration_count):\n",
    "        self.xdata = xdata\n",
    "        self.tdata = tdata\n",
    "        \n",
    "        self.learning_rate = learning_rate\n",
    "        self.iteration_count = iteration_count\n",
    "        \n",
    "        self.W = np.random.rand(self.xdata.shape[1], 1)\n",
    "        self.b = np.random.rand(1)\n",
    "        \n",
    "        print(\"ClassificationCrossEntropy Object is created\")\n",
    "        \n",
    "        \n",
    "    def getW_b(self):\n",
    "        return self.W, self.b\n",
    "    \n",
    "    def loss_func(self):\n",
    "        delta = 1e-7\n",
    "        z = np.dot(self.xdata, self.W) + self.b\n",
    "        y = sigmoid(z)\n",
    "    \n",
    "        return (-1) * (np.sum(self.tdata*np.log(y+delta) + (1 - self.tdata)*np.log(1 - y + delta)))\n",
    "\n",
    "    def loss_val(self):\n",
    "        delta = 1e-7\n",
    "        z = np.dot(self.xdata, self.W) + self.b\n",
    "        y = sigmoid(z)\n",
    "    \n",
    "        return (-1) * (np.sum(self.tdata*np.log(y+delta) + (1 - self.tdata)*np.log(1 - y + delta)))\n",
    "    \n",
    "    def predict(self, test_data):\n",
    "        z = np.dot(test_data, self.W) + self.b\n",
    "        y = sigmoid(z)\n",
    "        \n",
    "        if y >= 0.5:\n",
    "            result = 1\n",
    "        elif y < 0.5:\n",
    "            result = 0\n",
    "    \n",
    "        return y, result\n",
    "    \n",
    "    def train(self):\n",
    "        f = lambda x : self.loss_func()\n",
    "\n",
    "        print(\"Initial loss value = \", self.loss_val(), \"Initial W = \", self.W, \"\\n\", \", b = \", self.b )\n",
    "\n",
    "        for step in range(self.iteration_count):\n",
    "            self.W -= self.learning_rate * numerical_derivative(f, self.W)\n",
    "            self.b -= self.learning_rate * numerical_derivative(f, self.b)\n",
    "    \n",
    "            if (step % 10000 == 0):\n",
    "                print(\"step = \", step, \"loss value = \", self.loss_val(), \"W = \", self.W, \", b = \", self.b )"
   ]
  },
  {
   "cell_type": "code",
   "execution_count": 4,
   "metadata": {},
   "outputs": [
    {
     "name": "stdout",
     "output_type": "stream",
     "text": [
      "x_data.shape =  (9, 2) , t_data.shape =  (9, 1)\n"
     ]
    }
   ],
   "source": [
    "x_data = np.array([[2, 4], [4, 11], [6, 6], [8, 5], [10, 7], [12, 16], [14, 8], [16, 3],  [18, 7]])\n",
    "t_data = np.array([0, 0, 0, 0, 1, 1, 1, 1, 1]).reshape(9, 1)\n",
    "\n",
    "print(\"x_data.shape = \", x_data.shape, \", t_data.shape = \", t_data.shape)"
   ]
  },
  {
   "cell_type": "code",
   "execution_count": 5,
   "metadata": {
    "scrolled": false
   },
   "outputs": [
    {
     "name": "stdout",
     "output_type": "stream",
     "text": [
      "ClassificationCrossEntropy Object is created\n",
      "Initial loss value =  10.071867079495341 Initial W =  [[0.40073901]\n",
      " [0.0095857 ]] \n",
      " , b =  [0.32631788]\n",
      "step =  0 loss value =  4.677987168387937 W =  [[ 0.2181914 ]\n",
      " [-0.22144509]] , b =  [0.31830346]\n",
      "step =  10000 loss value =  0.40411300077811535 W =  [[1.2808907 ]\n",
      " [0.31295417]] , b =  [-13.32985414]\n",
      "step =  20000 loss value =  0.24728674344125304 W =  [[1.56567596]\n",
      " [0.53756454]] , b =  [-17.23882761]\n",
      "step =  30000 loss value =  0.17769225633852367 W =  [[1.75841341]\n",
      " [0.68517737]] , b =  [-19.85643342]\n",
      "step =  40000 loss value =  0.13841662780641623 W =  [[1.90508768]\n",
      " [0.79376952]] , b =  [-21.82617024]\n",
      "step =  50000 loss value =  0.11325321028362499 W =  [[2.02337486]\n",
      " [0.8795357 ]] , b =  [-23.4040131]\n",
      "step =  60000 loss value =  0.09578031748460536 W =  [[2.12241524]\n",
      " [0.95036432]] , b =  [-24.71935223]\n",
      "step =  70000 loss value =  0.08295126955608935 W =  [[2.20756019]\n",
      " [1.01066569]] , b =  [-25.84669424]\n",
      "step =  80000 loss value =  0.07313757766951726 W =  [[2.28220915]\n",
      " [1.06315176]] , b =  [-26.83283572]\n",
      "step =  90000 loss value =  0.06539094882699364 W =  [[2.34865403]\n",
      " [1.10960803]] , b =  [-27.70907324]\n",
      "step =  100000 loss value =  0.059122232454649364 W =  [[2.40851216]\n",
      " [1.15127201]] , b =  [-28.49735921]\n"
     ]
    }
   ],
   "source": [
    "obj1 = ClassificationCrossEntropy(x_data, t_data, 1e-2, 100001)\n",
    "\n",
    "obj1.train()"
   ]
  },
  {
   "cell_type": "code",
   "execution_count": 13,
   "metadata": {},
   "outputs": [
    {
     "data": {
      "text/plain": [
       "(array([[0.15443934]]), 0)"
      ]
     },
     "execution_count": 13,
     "metadata": {},
     "output_type": "execute_result"
    }
   ],
   "source": [
    "obj1.predict(np.array([3, 17]).reshape(1, 2))"
   ]
  },
  {
   "cell_type": "code",
   "execution_count": 7,
   "metadata": {},
   "outputs": [
    {
     "data": {
      "text/plain": [
       "(array([0.00071349]), 0)"
      ]
     },
     "execution_count": 7,
     "metadata": {},
     "output_type": "execute_result"
    }
   ],
   "source": [
    "obj1.predict([5, 8])"
   ]
  },
  {
   "cell_type": "code",
   "execution_count": 8,
   "metadata": {},
   "outputs": [
    {
     "data": {
      "text/plain": [
       "(array([0.99999642]), 1)"
      ]
     },
     "execution_count": 8,
     "metadata": {},
     "output_type": "execute_result"
    }
   ],
   "source": [
    "obj1.predict([7, 21])"
   ]
  },
  {
   "cell_type": "code",
   "execution_count": 9,
   "metadata": {},
   "outputs": [
    {
     "data": {
      "text/plain": [
       "(array([0.59983718]), 1)"
      ]
     },
     "execution_count": 9,
     "metadata": {},
     "output_type": "execute_result"
    }
   ],
   "source": [
    "obj1.predict([12, 0])"
   ]
  },
  {
   "cell_type": "code",
   "execution_count": null,
   "metadata": {},
   "outputs": [],
   "source": []
  }
 ],
 "metadata": {
  "kernelspec": {
   "display_name": "Python 3",
   "language": "python",
   "name": "python3"
  },
  "language_info": {
   "codemirror_mode": {
    "name": "ipython",
    "version": 3
   },
   "file_extension": ".py",
   "mimetype": "text/x-python",
   "name": "python",
   "nbconvert_exporter": "python",
   "pygments_lexer": "ipython3",
   "version": "3.7.4"
  }
 },
 "nbformat": 4,
 "nbformat_minor": 2
}

{
 "cells": [
  {
   "cell_type": "markdown",
   "metadata": {},
   "source": [
    "##### 라이브러리 - overview"
   ]
  },
  {
   "cell_type": "code",
   "execution_count": 1,
   "metadata": {},
   "outputs": [
    {
     "name": "stdout",
     "output_type": "stream",
     "text": [
      "A == [1 2] , type == <class 'numpy.ndarray'>\n"
     ]
    }
   ],
   "source": [
    "import numpy\n",
    "A = numpy.array([1, 2])\n",
    "print(\"A ==\", A, \", type ==\", type(A))"
   ]
  },
  {
   "cell_type": "code",
   "execution_count": 2,
   "metadata": {},
   "outputs": [
    {
     "name": "stdout",
     "output_type": "stream",
     "text": [
      "A == [1 2] , type == <class 'numpy.ndarray'>\n"
     ]
    }
   ],
   "source": [
    "import numpy as np\n",
    "A = np.array([1, 2])\n",
    "print(\"A ==\", A, \", type ==\", type(A))"
   ]
  },
  {
   "cell_type": "code",
   "execution_count": 3,
   "metadata": {},
   "outputs": [
    {
     "name": "stdout",
     "output_type": "stream",
     "text": [
      "result == 2.718281828459045 , type == <class 'numpy.float64'>\n"
     ]
    }
   ],
   "source": [
    "from numpy import exp\n",
    "result = exp(1)\n",
    "print(\"result ==\", result, \", type ==\", type(result))"
   ]
  },
  {
   "cell_type": "code",
   "execution_count": 4,
   "metadata": {},
   "outputs": [
    {
     "name": "stdout",
     "output_type": "stream",
     "text": [
      "result == 4.663123641894311 , type == <class 'numpy.float64'>\n"
     ]
    }
   ],
   "source": [
    "from numpy import *\n",
    "result = exp(1) + log(1.7) + sqrt(2)\n",
    "print(\"result ==\", result, \", type ==\", type(result))"
   ]
  },
  {
   "cell_type": "markdown",
   "metadata": {},
   "source": [
    "##### 라이브러리 - numpy"
   ]
  },
  {
   "cell_type": "code",
   "execution_count": 5,
   "metadata": {},
   "outputs": [
    {
     "data": {
      "text/plain": [
       "[[1, 0], [0, 1], [1, 1], [1, 1]]"
      ]
     },
     "execution_count": 5,
     "metadata": {},
     "output_type": "execute_result"
    }
   ],
   "source": [
    "import numpy as np\n",
    "\n",
    "# 리스트로 행렬 표현\n",
    "\n",
    "A = [[1, 0], [0, 1]]\n",
    "B = [[1, 1], [1, 1]]\n",
    "\n",
    "A + B  # 행렬 연산이 아닌 리스트 연산"
   ]
  },
  {
   "cell_type": "code",
   "execution_count": 6,
   "metadata": {},
   "outputs": [
    {
     "data": {
      "text/plain": [
       "array([[2, 1],\n",
       "       [1, 2]])"
      ]
     },
     "execution_count": 6,
     "metadata": {},
     "output_type": "execute_result"
    }
   ],
   "source": [
    "import numpy as np\n",
    "\n",
    "# numpy matrix, 직관적임\n",
    "\n",
    "A = np.array([[1, 0], [0, 1]])\n",
    "B = np.array([[1, 1], [1, 1]])\n",
    "\n",
    "A + B  # 행렬 연산"
   ]
  },
  {
   "cell_type": "markdown",
   "metadata": {},
   "source": [
    "##### 라이브러리 - numpy vector (1차원 배열)"
   ]
  },
  {
   "cell_type": "code",
   "execution_count": 7,
   "metadata": {
    "scrolled": true
   },
   "outputs": [
    {
     "name": "stdout",
     "output_type": "stream",
     "text": [
      "A == [1 2 3] , B == [4 5 6]\n",
      "A.shape == (3,) , B.shape == (3,)\n",
      "A.ndim == 1 , B.ndim == 1\n"
     ]
    }
   ],
   "source": [
    "import numpy as np\n",
    "\n",
    "A = np.array([1, 2, 3])\n",
    "B = np.array([4, 5, 6])\n",
    "\n",
    "# vector A, B 출력\n",
    "print(\"A ==\", A, \", B ==\", B)\n",
    "\n",
    "# vector A, B 형상 출력 => shape\n",
    "print(\"A.shape ==\", A.shape, \", B.shape ==\", B.shape)\n",
    "\n",
    "# vector A, B 차원 출력 => ndim\n",
    "print(\"A.ndim ==\", A.ndim, \", B.ndim ==\", B.ndim)"
   ]
  },
  {
   "cell_type": "code",
   "execution_count": 8,
   "metadata": {},
   "outputs": [
    {
     "name": "stdout",
     "output_type": "stream",
     "text": [
      "A + B == [5 7 9]\n",
      "A - B == [-3 -3 -3]\n",
      "A * B == [ 4 10 18]\n",
      "A / B == [0.25 0.4  0.5 ]\n"
     ]
    }
   ],
   "source": [
    "# vector 산술 연산\n",
    "print(\"A + B ==\", A+B)\n",
    "print(\"A - B ==\", A-B)\n",
    "print(\"A * B ==\", A*B)\n",
    "print(\"A / B ==\", A/B)"
   ]
  },
  {
   "cell_type": "code",
   "execution_count": 9,
   "metadata": {},
   "outputs": [
    {
     "name": "stdout",
     "output_type": "stream",
     "text": [
      "[[1 2 3]]\n",
      "(1, 3)\n",
      "2\n"
     ]
    }
   ],
   "source": [
    "C = A.reshape(1, 3)\n",
    "print(C)\n",
    "print(C.shape)\n",
    "print(C.ndim)"
   ]
  },
  {
   "cell_type": "markdown",
   "metadata": {},
   "source": [
    "##### 라이브러리 - numpy matrix (행렬)"
   ]
  },
  {
   "cell_type": "code",
   "execution_count": 10,
   "metadata": {},
   "outputs": [
    {
     "name": "stdout",
     "output_type": "stream",
     "text": [
      "A.shape == (2, 3) , B.shape == (2, 3)\n",
      "A.ndim == 2 , B.ndim == 2\n"
     ]
    }
   ],
   "source": [
    "import numpy as np\n",
    "\n",
    "A = np.array([[1, 2, 3], [4, 5, 6]])\n",
    "B = np.array([[-1, -2, -3], [-4, -5, -6]])\n",
    "\n",
    "# matrix A, B 형상 출력 => shape\n",
    "print(\"A.shape ==\", A.shape, \", B.shape ==\", B.shape)\n",
    "\n",
    "# matrix A, B 차원 출력 => ndim\n",
    "print(\"A.ndim ==\", A.ndim, \", B.ndim ==\", B.ndim)"
   ]
  },
  {
   "cell_type": "code",
   "execution_count": 11,
   "metadata": {},
   "outputs": [
    {
     "name": "stdout",
     "output_type": "stream",
     "text": [
      "C.shape == (3,)\n",
      "C.shape == (1, 3)\n"
     ]
    }
   ],
   "source": [
    "# vector 생성\n",
    "C = np.array([1, 2, 3])\n",
    "\n",
    "# vector C 형상 출력 => shape\n",
    "print(\"C.shape ==\", C.shape)\n",
    "\n",
    "# vector를 (1, 3) 행렬로 형 변환\n",
    "C = C.reshape(1, 3)\n",
    "\n",
    "print(\"C.shape ==\", C.shape)"
   ]
  },
  {
   "cell_type": "code",
   "execution_count": 12,
   "metadata": {},
   "outputs": [
    {
     "name": "stdout",
     "output_type": "stream",
     "text": [
      "(3, 4)\n"
     ]
    }
   ],
   "source": [
    "import numpy as np\n",
    "\n",
    "A = np.array([[1, 2, 3, 4],\n",
    "             [10, 20, 30, 40],\n",
    "             [100, 200, 300, 400]])\n",
    "\n",
    "print(A.shape)"
   ]
  },
  {
   "cell_type": "code",
   "execution_count": 13,
   "metadata": {},
   "outputs": [
    {
     "name": "stdout",
     "output_type": "stream",
     "text": [
      "(4, 3)\n",
      "[[  1   2   3]\n",
      " [  4  10  20]\n",
      " [ 30  40 100]\n",
      " [200 300 400]]\n"
     ]
    }
   ],
   "source": [
    "B = A.reshape(-1, 3)\n",
    "\n",
    "print(B.shape)\n",
    "print(B)"
   ]
  },
  {
   "cell_type": "code",
   "execution_count": 14,
   "metadata": {},
   "outputs": [
    {
     "name": "stdout",
     "output_type": "stream",
     "text": [
      "(2, 6)\n",
      "[[  1   2   3   4  10  20]\n",
      " [ 30  40 100 200 300 400]]\n"
     ]
    }
   ],
   "source": [
    "C = A.reshape(-1, 6)\n",
    "\n",
    "print(C.shape)\n",
    "print(C)"
   ]
  },
  {
   "cell_type": "code",
   "execution_count": 15,
   "metadata": {},
   "outputs": [],
   "source": [
    "# D = A.reshape(-1, 5)"
   ]
  },
  {
   "cell_type": "markdown",
   "metadata": {},
   "source": [
    "##### 라이브러리 - numpy broadcast"
   ]
  },
  {
   "cell_type": "code",
   "execution_count": 16,
   "metadata": {},
   "outputs": [
    {
     "name": "stdout",
     "output_type": "stream",
     "text": [
      "[[6 7]\n",
      " [8 9]]\n"
     ]
    }
   ],
   "source": [
    "import numpy as np\n",
    "\n",
    "A = np.array([[1, 2], [3, 4]])\n",
    "b = 5\n",
    "\n",
    "print(A+b)"
   ]
  },
  {
   "cell_type": "code",
   "execution_count": 17,
   "metadata": {},
   "outputs": [
    {
     "name": "stdout",
     "output_type": "stream",
     "text": [
      "[[5 7]\n",
      " [7 9]]\n"
     ]
    }
   ],
   "source": [
    "C = np.array([[1, 2], [3, 4]])\n",
    "D = np.array([4, 5])\n",
    "\n",
    "print(C+D)"
   ]
  },
  {
   "cell_type": "markdown",
   "metadata": {},
   "source": [
    "##### [예제 1-1] 벡터 A, B, T를 이용하여 다음을 계산하고 넘파이를 이용하여 결과를 확인하시오\n",
    "A = (1 2)  \n",
    "B = (3 4)  \n",
    "T = (5 6)  \n",
    "\n",
    "(1-A)* A  \n",
    "T* (1-A)* A"
   ]
  },
  {
   "cell_type": "code",
   "execution_count": 18,
   "metadata": {},
   "outputs": [
    {
     "name": "stdout",
     "output_type": "stream",
     "text": [
      "[ 0 -2]\n",
      "[  0 -12]\n"
     ]
    }
   ],
   "source": [
    "import numpy as np\n",
    "\n",
    "A = np.array([1, 2])\n",
    "B = np.array([3, 4])\n",
    "T = np.array([5, 6])\n",
    "\n",
    "print((1-A)*A)\n",
    "print(T*(1-A)*A)"
   ]
  },
  {
   "cell_type": "markdown",
   "metadata": {},
   "source": [
    "##### [예제 1-2] 행렬 C, D, T를 이용하여 다음을 계산하고 넘파이를 이용하여 결과를 확인하시오\n",
    "C = (2; 3)  \n",
    "D = (4; 5)  \n",
    "T = (7; 8)\n",
    "\n",
    "(1-C)* C  \n",
    "T* (1-C)* C"
   ]
  },
  {
   "cell_type": "code",
   "execution_count": 19,
   "metadata": {},
   "outputs": [
    {
     "name": "stdout",
     "output_type": "stream",
     "text": [
      "[[-2]\n",
      " [-6]]\n",
      "[[-14]\n",
      " [-48]]\n"
     ]
    }
   ],
   "source": [
    "import numpy as np\n",
    "\n",
    "C = np.array([[2], [3]])\n",
    "D = np.array([[4], [5]])\n",
    "T = np.array([[7], [8]])\n",
    "\n",
    "print((1-C)*C)\n",
    "print((T*(1-C)*C))"
   ]
  },
  {
   "cell_type": "markdown",
   "metadata": {},
   "source": [
    "##### 라이브러리 - numpy 행렬 곱(dot product)"
   ]
  },
  {
   "cell_type": "code",
   "execution_count": 20,
   "metadata": {},
   "outputs": [
    {
     "name": "stdout",
     "output_type": "stream",
     "text": [
      "A.shape == (2, 3) , B.shape == (3, 2)\n",
      "C.shape == (2, 2)\n",
      "[[-22 -28]\n",
      " [-49 -64]]\n"
     ]
    }
   ],
   "source": [
    "import numpy as np\n",
    "\n",
    "A = np.array([[1, 2, 3], [4, 5, 6]])  # 2x3 행렬\n",
    "B = np.array([[-1, -2], [-3, -4], [-5, -6]])  # 3x2 행렬\n",
    "\n",
    "# (2x3) dot product (3x2) = (2x2) 행렬\n",
    "C = np.dot(A, B)  # 행렬 곱 수행\n",
    "\n",
    "# matrix A, B 형상 출력 => shape\n",
    "print(\"A.shape ==\", A.shape, \", B.shape ==\", B.shape)\n",
    "print(\"C.shape ==\", C.shape)\n",
    "print(C)"
   ]
  },
  {
   "cell_type": "markdown",
   "metadata": {},
   "source": [
    "##### [예제 2-1] 행렬 X, W, T 그리고 scalar b에 대하여 Y, E 를 계산하고 넘파이를 이용하여 결과를 확인하시오\n",
    "(Error 가 발생하는 경우, Error 원인이 무엇인지 파악하시오)  \n",
    "X = (1 2; 3 4)  \n",
    "W = (0 1 1; 3 2 1)  \n",
    "T = (1 0; 0 2)  \n",
    "b = -1\n",
    "\n",
    "Y = XW + b  \n",
    "E = T - Y"
   ]
  },
  {
   "cell_type": "code",
   "execution_count": 21,
   "metadata": {},
   "outputs": [
    {
     "name": "stdout",
     "output_type": "stream",
     "text": [
      "[[11 10  8]\n",
      " [17 16 12]]\n"
     ]
    }
   ],
   "source": [
    "import numpy as np\n",
    "\n",
    "X = [[1, 2], [3, 4]]\n",
    "W = [[0, 1, 1], [3, 2, 1]]\n",
    "T = [[1, 0], [0, 2]]\n",
    "B = -1\n",
    "\n",
    "Y = np.dot(X, W) + b\n",
    "print(Y)\n",
    "\n",
    "#E = T - Y  # 2x3 - 2x2\n",
    "#print(E)"
   ]
  },
  {
   "cell_type": "markdown",
   "metadata": {},
   "source": [
    "##### [예제 2-2] 다음 error 원인은 무엇인지 파악하시오\n",
    "import numpy as np\n",
    "\n",
    "A = np.array([[1, 2, 3], [4, 5, 6]])  \n",
    "B = np.array([10, 20, 30])  \n",
    "C = A.T  \n",
    "D = np.dot(C, B)"
   ]
  },
  {
   "cell_type": "code",
   "execution_count": 22,
   "metadata": {},
   "outputs": [
    {
     "name": "stdout",
     "output_type": "stream",
     "text": [
      "[140 320]\n"
     ]
    }
   ],
   "source": [
    "import numpy as np\n",
    "\n",
    "A = np.array([[1, 2, 3], [4, 5, 6]])\n",
    "B = np.array([10, 20, 30])\n",
    "C = A.T\n",
    "# D = np.dot(C, B)  # 3x2 dot 1x3\n",
    "D = np.dot(B, C)  # 1x3 dot 3x2\n",
    "print(D)"
   ]
  },
  {
   "cell_type": "code",
   "execution_count": 23,
   "metadata": {},
   "outputs": [
    {
     "name": "stdout",
     "output_type": "stream",
     "text": [
      "[6 3]\n",
      "(2,)\n",
      "[4 4]\n",
      "(2, 1)\n",
      "[[6]\n",
      " [3]]\n"
     ]
    }
   ],
   "source": [
    "###### 추가 내용 ######\n",
    "\n",
    "A = np.array([[2, 2], [1, 1]])  # 2x2\n",
    "B = np.array([1, 2])  # 1x2\n",
    "\n",
    "print(np.dot(A, B))  # 2x2 dot 1x2 => 된다,,? -> 파이썬에서는 vector를 가변적으로 나타냄.. 2x2 dot 2x1로 자동으로 변경\n",
    "print(B.shape)  # (2, ) -> 행이 2, 열이 1일 수도 있고 행이 1, 열이 2일 수도 있고.. 상황에 맞게 바꿔줌\n",
    "\n",
    "print(np.dot(B, A))  # 1x2 dot 2x2\n",
    "\n",
    "# 교수님 추천: vector도 모두 행렬로 reshape 할 것!\n",
    "C = B.reshape(2, 1)  # 2x1 행렬\n",
    "print(C.shape)\n",
    "print(np.dot(A, C))  # 2x2 dot 2x1\n",
    "# print(np.dot(C, A))  # 2x1 dot 2x2 -> error"
   ]
  },
  {
   "cell_type": "markdown",
   "metadata": {},
   "source": [
    "##### 라이브러리 - numpy 전치행렬 (transpose)"
   ]
  },
  {
   "cell_type": "code",
   "execution_count": 24,
   "metadata": {},
   "outputs": [
    {
     "name": "stdout",
     "output_type": "stream",
     "text": [
      "A.shape == (3, 2) , B.shape == (2, 3)\n",
      "[[1 2]\n",
      " [3 4]\n",
      " [5 6]]\n",
      "[[1 3 5]\n",
      " [2 4 6]]\n"
     ]
    }
   ],
   "source": [
    "import numpy as np\n",
    "\n",
    "A = np.array([[1, 2], [3, 4], [5, 6]])  # 3x2 행렬\n",
    "B = A.T  # A의 전치행렬, 2x3 행렬\n",
    "\n",
    "print(\"A.shape ==\", A.shape, \", B.shape ==\", B.shape)\n",
    "print(A)\n",
    "print(B)"
   ]
  },
  {
   "cell_type": "code",
   "execution_count": 25,
   "metadata": {},
   "outputs": [
    {
     "name": "stdout",
     "output_type": "stream",
     "text": [
      "C.shape == (5,) , D.shape == (5,)\n",
      "E.shape == (1, 5) , F.shape == (5, 1)\n",
      "[[1]\n",
      " [2]\n",
      " [3]\n",
      " [4]\n",
      " [5]]\n"
     ]
    }
   ],
   "source": [
    "import numpy as np\n",
    "\n",
    "# vector 전치행렬\n",
    "C = np.array([1, 2, 3, 4, 5])  # vector, matrix 아님\n",
    "D = C.T  # C는 vector 이므로 transpose 안 됨\n",
    "\n",
    "E = C.reshape(1, 5)  # 1x5 matrix\n",
    "F = E.T  # E의 전치행렬\n",
    "\n",
    "print(\"C.shape ==\", C.shape, \", D.shape ==\", D.shape)\n",
    "print(\"E.shape ==\", E.shape, \", F.shape ==\", F.shape)\n",
    "print(F)"
   ]
  },
  {
   "cell_type": "markdown",
   "metadata": {},
   "source": [
    "##### 라이브러리 - numpy 행렬 indexing / slicing"
   ]
  },
  {
   "cell_type": "code",
   "execution_count": 26,
   "metadata": {},
   "outputs": [
    {
     "name": "stdout",
     "output_type": "stream",
     "text": [
      "A.shape == (3, 2)\n",
      "[[10 20]\n",
      " [30 40]\n",
      " [50 60]]\n"
     ]
    }
   ],
   "source": [
    "import numpy as np\n",
    "\n",
    "A = np.array([10, 20, 30, 40, 50, 60]).reshape(3, 2)\n",
    "\n",
    "print(\"A.shape ==\", A.shape)\n",
    "print(A)"
   ]
  },
  {
   "cell_type": "code",
   "execution_count": 27,
   "metadata": {},
   "outputs": [
    {
     "name": "stdout",
     "output_type": "stream",
     "text": [
      "A[0, 0] == 10\n",
      "A[2, 1] == 60\n"
     ]
    }
   ],
   "source": [
    "print(\"A[0, 0] ==\", A[0, 0])\n",
    "print(\"A[2, 1] ==\", A[2, 1])"
   ]
  },
  {
   "cell_type": "code",
   "execution_count": 28,
   "metadata": {},
   "outputs": [
    {
     "name": "stdout",
     "output_type": "stream",
     "text": [
      "A[0:-1, 1:2] == [[20]\n",
      " [40]]\n"
     ]
    }
   ],
   "source": [
    "print(\"A[0:-1, 1:2] ==\", A[0:-1, 1:2])"
   ]
  },
  {
   "cell_type": "code",
   "execution_count": 29,
   "metadata": {},
   "outputs": [
    {
     "name": "stdout",
     "output_type": "stream",
     "text": [
      "A[ :, 0] == [10 30 50]\n",
      "A[ :, :] == [[10 20]\n",
      " [30 40]\n",
      " [50 60]]\n"
     ]
    }
   ],
   "source": [
    "print(\"A[ :, 0] ==\", A[ :, 0])\n",
    "print(\"A[ :, :] ==\", A[ :, :])"
   ]
  },
  {
   "cell_type": "markdown",
   "metadata": {},
   "source": [
    "##### 라이브러리 - numpy 행렬 iterator"
   ]
  },
  {
   "cell_type": "code",
   "execution_count": 30,
   "metadata": {},
   "outputs": [
    {
     "name": "stdout",
     "output_type": "stream",
     "text": [
      "[[10 20 30 40]\n",
      " [50 60 70 80]] \n",
      "\n",
      "index = (0, 0) , type(idx) = <class 'tuple'> , value = 10\n",
      "index = (0, 1) , type(idx) = <class 'tuple'> , value = 20\n",
      "index = (0, 2) , type(idx) = <class 'tuple'> , value = 30\n",
      "index = (0, 3) , type(idx) = <class 'tuple'> , value = 40\n",
      "index = (1, 0) , type(idx) = <class 'tuple'> , value = 50\n",
      "index = (1, 1) , type(idx) = <class 'tuple'> , value = 60\n",
      "index = (1, 2) , type(idx) = <class 'tuple'> , value = 70\n",
      "index = (1, 3) , type(idx) = <class 'tuple'> , value = 80\n"
     ]
    }
   ],
   "source": [
    "import numpy as np\n",
    "\n",
    "A = np.array([[10, 20, 30, 40], [50, 60, 70, 80]])\n",
    "\n",
    "print(A, '\\n')\n",
    "\n",
    "# 행렬 A의 iterator 생성\n",
    "\n",
    "it = np.nditer(A, flags=['multi_index'], op_flags=['readwrite'])\n",
    "\n",
    "while not it.finished:\n",
    "    idx = it.multi_index\n",
    "    print(\"index =\", idx, ', type(idx) =', type(idx), ', value =', A[idx])\n",
    "    it.iternext()"
   ]
  },
  {
   "cell_type": "markdown",
   "metadata": {},
   "source": [
    "##### 라이브러리 - numpy useful function (1)"
   ]
  },
  {
   "cell_type": "code",
   "execution_count": 31,
   "metadata": {},
   "outputs": [
    {
     "name": "stdout",
     "output_type": "stream",
     "text": [
      "<class 'numpy.ndarray'>\n",
      "(25, 4)\n",
      "x_data.ndim = 2 , x_data.shape = (25, 3)\n",
      "t_data.ndim = 2 , t_data.shape = (25, 1)\n"
     ]
    }
   ],
   "source": [
    "import numpy as np\n",
    "\n",
    "loaded_data = np.loadtxt('./data-01.csv', delimiter = ',', dtype = np.float32)\n",
    "\n",
    "print(type(loaded_data))\n",
    "print(loaded_data.shape)\n",
    "\n",
    "x_data = loaded_data[ :, 0:-1]\n",
    "t_data = loaded_data[ :, [-1]]\n",
    "\n",
    "# 데이터 차원 및 shape 확인\n",
    "print(\"x_data.ndim =\", x_data.ndim, \", x_data.shape =\", x_data.shape)\n",
    "print(\"t_data.ndim =\", t_data.ndim, \", t_data.shape =\", t_data.shape)"
   ]
  },
  {
   "cell_type": "markdown",
   "metadata": {},
   "source": [
    "##### 라이브러리 - numpy useful function (2)"
   ]
  },
  {
   "cell_type": "code",
   "execution_count": 32,
   "metadata": {},
   "outputs": [
    {
     "name": "stdout",
     "output_type": "stream",
     "text": [
      "random_number1 == [0.47194435 0.95773518 0.78016728] , random_number1.shape == (3,)\n",
      "random_number2 == [[0.72427316 0.14570517 0.52029676]] , random_number2.shape == (1, 3)\n",
      "random_number3 == [[0.26894258]\n",
      " [0.41400699]\n",
      " [0.03131823]] , random_number3.shape == (3, 1)\n"
     ]
    }
   ],
   "source": [
    "import numpy as np\n",
    "\n",
    "# 0 ~ 1 사이의 random number 발생\n",
    "\n",
    "random_number1 = np.random.rand(3)\n",
    "random_number2 = np.random.rand(1, 3)\n",
    "random_number3 = np.random.rand(3, 1)\n",
    "\n",
    "print(\"random_number1 ==\", random_number1, \", random_number1.shape ==\", random_number1.shape)\n",
    "print(\"random_number2 ==\", random_number2, \", random_number2.shape ==\", random_number2.shape)\n",
    "print(\"random_number3 ==\", random_number3, \", random_number3.shape ==\", random_number3.shape)"
   ]
  },
  {
   "cell_type": "code",
   "execution_count": 33,
   "metadata": {},
   "outputs": [
    {
     "name": "stdout",
     "output_type": "stream",
     "text": [
      "np.sum(X) == 20\n",
      "np.exp(X) == [   7.3890561    54.59815003  403.42879349 2980.95798704]\n",
      "np.log(X) == [0.69314718 1.38629436 1.79175947 2.07944154]\n"
     ]
    }
   ],
   "source": [
    "X = np.array([2, 4, 6, 8])\n",
    "\n",
    "print(\"np.sum(X) ==\", np.sum(X))\n",
    "print(\"np.exp(X) ==\", np.exp(X))\n",
    "print(\"np.log(X) ==\", np.log(X))"
   ]
  },
  {
   "cell_type": "markdown",
   "metadata": {},
   "source": [
    "##### 라이브러리 - numpy useful function (3)"
   ]
  },
  {
   "cell_type": "code",
   "execution_count": 34,
   "metadata": {},
   "outputs": [
    {
     "name": "stdout",
     "output_type": "stream",
     "text": [
      "np.max(X) == 8\n",
      "np.min(X) == 2\n",
      "np.argmax(X) == 3\n",
      "np.argmin(X) == 0\n"
     ]
    }
   ],
   "source": [
    "import numpy as np\n",
    "\n",
    "X = np.array([2, 4, 6, 8])\n",
    "\n",
    "print(\"np.max(X) ==\", np.max(X))\n",
    "print(\"np.min(X) ==\", np.min(X))\n",
    "print(\"np.argmax(X) ==\", np.argmax(X))\n",
    "print(\"np.argmin(X) ==\", np.argmin(X))"
   ]
  },
  {
   "cell_type": "code",
   "execution_count": 35,
   "metadata": {},
   "outputs": [
    {
     "name": "stdout",
     "output_type": "stream",
     "text": [
      "A.shape == (3, 3) , A == [[1. 1. 1.]\n",
      " [1. 1. 1.]\n",
      " [1. 1. 1.]]\n",
      "B.shape == (3, 2) , B == [[0. 0.]\n",
      " [0. 0.]\n",
      " [0. 0.]]\n"
     ]
    }
   ],
   "source": [
    "A = np.ones([3, 3])\n",
    "print(\"A.shape ==\", A.shape, \", A ==\", A)\n",
    "\n",
    "B = np.zeros([3, 2])\n",
    "print(\"B.shape ==\", B.shape, \", B ==\", B)"
   ]
  },
  {
   "cell_type": "code",
   "execution_count": 36,
   "metadata": {},
   "outputs": [
    {
     "name": "stdout",
     "output_type": "stream",
     "text": [
      "np.max(X) == [2 5 8]\n",
      "np.min(X) == [0 2 3]\n",
      "np.max(X) == [6 3 8]\n",
      "np.min(X) == [2 1 0]\n",
      "np.argmax(X) == [0 2 2]\n",
      "np.argmin(X) == [2 1 1]\n",
      "np.argmax(X) == [2 2 2]\n",
      "np.argmin(X) == [0 0 0]\n"
     ]
    }
   ],
   "source": [
    "X = np.array([[2, 4, 6], [1, 2, 3], [0, 5, 8]])\n",
    "\n",
    "print(\"np.max(X) ==\", np.max(X, axis = 0))  # axis = 0, 열 기준\n",
    "print(\"np.min(X) ==\", np.min(X, axis = 0))  # axis = 0, 열 기준\n",
    "\n",
    "print(\"np.max(X) ==\", np.max(X, axis = 1))  # axis = 1, 행 기준\n",
    "print(\"np.min(X) ==\", np.min(X, axis = 1))  # axis = 1, 행 기준\n",
    "\n",
    "print(\"np.argmax(X) ==\", np.argmax(X, axis = 0))  # axis = 0, 열 기준\n",
    "print(\"np.argmin(X) ==\", np.argmin(X, axis = 0))  # axis = 0, 열 기준\n",
    "\n",
    "print(\"np.argmax(X) ==\", np.argmax(X, axis = 1))  # axis = 1, 행 기준\n",
    "print(\"np.argmin(X) ==\", np.argmin(X, axis = 1))  # axis = 1, 행 기준"
   ]
  },
  {
   "cell_type": "markdown",
   "metadata": {},
   "source": [
    "##### [예제 3] X는 다음과 같을 때 (1) ~ (6)을 계산하고 넘파이를 이용하여 결과를 확인하시오\n",
    "X = (7 5 3 1; 1 2 3 4; 4 0 2 8;)  \n",
    "(1) A = X.reshape(-1, 3)  \n",
    "(2) B = A[0:2, 1:2]  \n",
    "(3) C = A[1: , :-1]  \n",
    "(4) D = np.argmax(A, 1)  \n",
    "(5) E = C.reshape(-1, 6)  \n",
    "(6) F = np.sum(E)  "
   ]
  },
  {
   "cell_type": "code",
   "execution_count": 37,
   "metadata": {},
   "outputs": [
    {
     "name": "stdout",
     "output_type": "stream",
     "text": [
      "[[7 5 3]\n",
      " [1 1 2]\n",
      " [3 4 4]\n",
      " [0 2 8]]\n",
      "[[5]\n",
      " [1]]\n",
      "[[1 1]\n",
      " [3 4]\n",
      " [0 2]]\n",
      "[0 2 1 2]\n",
      "[[1 1 3 4 0 2]]\n",
      "11\n"
     ]
    }
   ],
   "source": [
    "import numpy as np\n",
    "\n",
    "X = np.array([[7, 5, 3, 1], [1, 2, 3, 4], [4, 0 , 2, 8]])\n",
    "\n",
    "# (1)\n",
    "A = X.reshape(-1, 3)\n",
    "print(A)\n",
    "\n",
    "# (2)\n",
    "B = A[0:2, 1:2]\n",
    "print(B)\n",
    "\n",
    "# (3)\n",
    "C = A[1: , :-1]\n",
    "print(C)\n",
    "\n",
    "# (4)\n",
    "D = np.argmax(A, 1)\n",
    "print(D)\n",
    "\n",
    "# (5)\n",
    "E = C.reshape(-1, 6)\n",
    "print(E)\n",
    "\n",
    "#(6)\n",
    "F = np.sum(E)\n",
    "print(F)"
   ]
  },
  {
   "cell_type": "markdown",
   "metadata": {},
   "source": [
    "##### 라이브러리 - matplotlib, scatter plot"
   ]
  },
  {
   "cell_type": "code",
   "execution_count": 59,
   "metadata": {},
   "outputs": [
    {
     "data": {
      "image/png": "[encoded data removed]",
      "text/plain": [
       "<Figure size 432x288 with 1 Axes>"
      ]
     },
     "metadata": {
      "needs_background": "light"
     },
     "output_type": "display_data"
    }
   ],
   "source": [
    "import matplotlib.pyplot as plt\n",
    "import numpy as np\n",
    "\n",
    "# 주피터 노트북을 사용하는 경우 노트북 내부에 그림 표시.. 안 쳐주면 내부가 아닌 팝업으로 뜨는 경우 있음\n",
    "%matplotlib inline\n",
    "\n",
    "# x data, y data 생성\n",
    "x_data = np.random.rand(100)\n",
    "y_data = np.random.rand(100)\n",
    "\n",
    "plt.title('scatter plot')\n",
    "plt.grid()\n",
    "plt.scatter(x_data, y_data, color='r', marker='*')  # marker -> o, x, *, ., ... # scatter: 점, plot: 선\n",
    "plt.show()"
   ]
  },
  {
   "cell_type": "code",
   "execution_count": 60,
   "metadata": {},
   "outputs": [
    {
     "data": {
      "image/png": "[encoded data removed]",
      "text/plain": [
       "<Figure size 432x288 with 1 Axes>"
      ]
     },
     "metadata": {
      "needs_background": "light"
     },
     "output_type": "display_data"
    }
   ],
   "source": [
    "import matplotlib.pyplot as plt\n",
    "import numpy as np\n",
    "\n",
    "# 주피터 노트북을 사용하는 경우 노트북 내부에 그림 표시\n",
    "%matplotlib inline\n",
    "\n",
    "x_data = [x for x in range(-5, 5)]\n",
    "y_data = [y*y for y in range(-5, 5)]\n",
    "\n",
    "plt.title('line plot')\n",
    "plt.grid()\n",
    "plt.plot(x_data, y_data, color = 'b')\n",
    "plt.show()"
   ]
  },
  {
   "cell_type": "code",
   "execution_count": 66,
   "metadata": {},
   "outputs": [
    {
     "data": {
      "image/png": "[encoded data removed]",
      "text/plain": [
       "<Figure size 432x288 with 1 Axes>"
      ]
     },
     "metadata": {
      "needs_background": "light"
     },
     "output_type": "display_data"
    }
   ],
   "source": [
    "import matplotlib.pyplot as plt\n",
    "import numpy as np\n",
    "\n",
    "# 주피터 노트북을 사용하는 경우 노트북 내부에 그림 표시\n",
    "%matplotlib inline\n",
    "\n",
    "x_data = [-3,  -2, -1, 0, 1,  2,  3,  4, 5, 6, 7,  8,  9]\n",
    "y_data = [-8, -13, -0, 3, 6, -1, -5, -7, 1, 8, 7, 12, 13]\n",
    "\n",
    "plt.title('line plot')\n",
    "plt.grid()\n",
    "plt.plot(x_data, y_data, color = 'b')\n",
    "plt.xlabel('x')\n",
    "plt.ylabel('y')\n",
    "plt.xlim([-4, 10])\n",
    "plt.ylim([-14, 14])  ## 등등 matlab 처럼 다양한 설정 가능하다\n",
    "plt.show()"
   ]
  },
  {
   "cell_type": "code",
   "execution_count": null,
   "metadata": {},
   "outputs": [],
   "source": []
  }
 ],
 "metadata": {
  "kernelspec": {
   "display_name": "Python 3",
   "language": "python",
   "name": "python3"
  },
  "language_info": {
   "codemirror_mode": {
    "name": "ipython",
    "version": 3
   },
   "file_extension": ".py",
   "mimetype": "text/x-python",
   "name": "python",
   "nbconvert_exporter": "python",
   "pygments_lexer": "ipython3",
   "version": "3.7.4"
  }
 },
 "nbformat": 4,
 "nbformat_minor": 2
}

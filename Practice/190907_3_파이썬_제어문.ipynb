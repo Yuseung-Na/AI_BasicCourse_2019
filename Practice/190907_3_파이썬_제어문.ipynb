{
 "cells": [
  {
   "cell_type": "markdown",
   "metadata": {},
   "source": [
    "##### 조건문 - if"
   ]
  },
  {
   "cell_type": "code",
   "execution_count": 1,
   "metadata": {},
   "outputs": [
    {
     "name": "stdout",
     "output_type": "stream",
     "text": [
      "a == 1\n",
      "positive number\n"
     ]
    }
   ],
   "source": [
    "a = 1\n",
    "\n",
    "if a > 0:\n",
    "    print(\"a ==\", a)\n",
    "    print(\"positive number\")\n",
    "elif a == 0:\n",
    "    print(\"a ==\", a)\n",
    "    print(\"zero\")\n",
    "else:\n",
    "    print(\"a ==\", a)\n",
    "    print(\"negative number\")"
   ]
  },
  {
   "cell_type": "code",
   "execution_count": 2,
   "metadata": {},
   "outputs": [
    {
     "name": "stdout",
     "output_type": "stream",
     "text": [
      "45 is not in list_data\n",
      "key1 is in dict_data\n"
     ]
    }
   ],
   "source": [
    "list_data = [10, 20, 30, 40, 50]\n",
    "dict_data = {'key1':1, 'key2':2}\n",
    "\n",
    "if 45 in list_data:\n",
    "    print(\"45 is in list_data\")\n",
    "else:\n",
    "    print(\"45 is not in list_data\")\n",
    "    \n",
    "if 'key1' in dict_data:\n",
    "    print(\"key1 is in dict_data\")\n",
    "else:\n",
    "    print(\"key1 is not in dict_data\")"
   ]
  },
  {
   "cell_type": "markdown",
   "metadata": {},
   "source": [
    "##### 반복문 - for"
   ]
  },
  {
   "cell_type": "code",
   "execution_count": 3,
   "metadata": {},
   "outputs": [
    {
     "name": "stdout",
     "output_type": "stream",
     "text": [
      "0  1  2  3  4  5  6  7  8  9  "
     ]
    }
   ],
   "source": [
    "for data in range(10):  # range() 함수는 시작 값 ~ 마지막 값-1\n",
    "    print(data, \" \", end = '')"
   ]
  },
  {
   "cell_type": "code",
   "execution_count": 4,
   "metadata": {},
   "outputs": [
    {
     "name": "stdout",
     "output_type": "stream",
     "text": [
      "0  1  2  3  4  5  6  7  8  9  "
     ]
    }
   ],
   "source": [
    "for data in range(0, 10):  # range() 함수는 시작 값 ~ 마지막 값-1\n",
    "    print(data, \" \", end = '')"
   ]
  },
  {
   "cell_type": "code",
   "execution_count": 5,
   "metadata": {},
   "outputs": [
    {
     "name": "stdout",
     "output_type": "stream",
     "text": [
      "0  2  4  6  8  "
     ]
    }
   ],
   "source": [
    "for data in range(0, 10, 2):  # range() 함수는 시작 값 ~ 마지막 값-1\n",
    "    print(data, \" \", end = '')"
   ]
  },
  {
   "cell_type": "code",
   "execution_count": 6,
   "metadata": {},
   "outputs": [
    {
     "name": "stdout",
     "output_type": "stream",
     "text": [
      "10  20  30  40  50  "
     ]
    }
   ],
   "source": [
    "list_data = [10, 20, 30, 40, 50]\n",
    "\n",
    "for data in list_data:\n",
    "    print(data, \" \", end = '')  # 줄 바꿈 없음"
   ]
  },
  {
   "cell_type": "code",
   "execution_count": 7,
   "metadata": {},
   "outputs": [
    {
     "name": "stdout",
     "output_type": "stream",
     "text": [
      "key1  key2  "
     ]
    }
   ],
   "source": [
    "dict_data = {'key1':1, 'key2':2}\n",
    "\n",
    "for data in dict_data:\n",
    "    print(data, \" \", end = '')  # 줄 바꿈 없음"
   ]
  },
  {
   "cell_type": "code",
   "execution_count": 8,
   "metadata": {},
   "outputs": [
    {
     "name": "stdout",
     "output_type": "stream",
     "text": [
      "key1   1\n",
      "key2   2\n"
     ]
    }
   ],
   "source": [
    "for key, value in dict_data.items():\n",
    "    print(key, \" \", value)"
   ]
  },
  {
   "cell_type": "markdown",
   "metadata": {},
   "source": [
    "##### 반복문 - list comprehension"
   ]
  },
  {
   "cell_type": "code",
   "execution_count": 9,
   "metadata": {},
   "outputs": [
    {
     "name": "stdout",
     "output_type": "stream",
     "text": [
      "[0, 1, 4, 9, 16]\n"
     ]
    }
   ],
   "source": [
    "list_data = [x**2 for x in range(5)]\n",
    "\n",
    "print(list_data)"
   ]
  },
  {
   "cell_type": "code",
   "execution_count": 10,
   "metadata": {},
   "outputs": [
    {
     "name": "stdout",
     "output_type": "stream",
     "text": [
      "all_data == [[1, 10], [2, 15], [3, 30], [4, 55]]\n",
      "x_data == [1, 2, 3, 4]\n",
      "y_data == [10, 15, 30, 55]\n"
     ]
    }
   ],
   "source": [
    "raw_data = [[1, 10], [2, 15], [3, 30], [4, 55]]\n",
    "\n",
    "all_data = [x for x in raw_data]\n",
    "x_data = [x[0] for x in raw_data]\n",
    "y_data = [x[1] for x in raw_data]\n",
    "\n",
    "print(\"all_data ==\", all_data)\n",
    "print(\"x_data ==\", x_data)\n",
    "print(\"y_data ==\", y_data)"
   ]
  },
  {
   "cell_type": "markdown",
   "metadata": {},
   "source": [
    "##### 반복문 - while, break, continue"
   ]
  },
  {
   "cell_type": "code",
   "execution_count": 11,
   "metadata": {},
   "outputs": [
    {
     "name": "stdout",
     "output_type": "stream",
     "text": [
      "data == 5\n",
      "data == 4\n",
      "data == 3\n",
      "data == 2\n",
      "data == 1\n",
      "data == 0\n"
     ]
    }
   ],
   "source": [
    "data = 5\n",
    "\n",
    "while data >= 0:\n",
    "    print(\"data ==\", data)\n",
    "    data -= 1"
   ]
  },
  {
   "cell_type": "code",
   "execution_count": 12,
   "metadata": {},
   "outputs": [
    {
     "name": "stdout",
     "output_type": "stream",
     "text": [
      "data == 5\n",
      "continue here\n",
      "data == 4\n",
      "continue here\n",
      "data == 3\n",
      "break here\n"
     ]
    }
   ],
   "source": [
    "data = 5\n",
    "\n",
    "while data >= 0:\n",
    "    print(\"data ==\", data)\n",
    "    data -= 1\n",
    "    \n",
    "    if data == 2:\n",
    "        print(\"break here\")\n",
    "        break\n",
    "    else:\n",
    "        print(\"continue here\")\n",
    "        continue"
   ]
  },
  {
   "cell_type": "markdown",
   "metadata": {},
   "source": [
    "##### [예제 1] 아래와 같은 패턴의 별(*)을 출력하는 프로그램을 end='' 을 이용하여 작성하시오\n",
    "\\*\\*\\*\\*\\*\\*"
   ]
  },
  {
   "cell_type": "code",
   "execution_count": 13,
   "metadata": {},
   "outputs": [
    {
     "name": "stdout",
     "output_type": "stream",
     "text": [
      "******"
     ]
    }
   ],
   "source": [
    "rept = 5\n",
    "while rept >= 0:\n",
    "    print('*',end='')\n",
    "    rept-=1"
   ]
  },
  {
   "cell_type": "markdown",
   "metadata": {},
   "source": [
    "###### [예제 2] 아래와 같은 패턴의 별(*)을 출력하는 프로그램을 end=''을 이용하여 작성하시오\n",
    "\\*\\*\\*\\*\\*<br>\n",
    "\\*\\*\\*\\*<br>\n",
    "\\*\\*\\*<br>\n",
    "\\*\\*<br>\n",
    "\\*<br>"
   ]
  },
  {
   "cell_type": "code",
   "execution_count": 14,
   "metadata": {},
   "outputs": [
    {
     "name": "stdout",
     "output_type": "stream",
     "text": [
      "*****\n",
      "****\n",
      "***\n",
      "**\n",
      "*\n"
     ]
    }
   ],
   "source": [
    "rept = 5\n",
    "while rept >= 1:\n",
    "    for x in range(rept):\n",
    "        print('*',end='')\n",
    "    print()\n",
    "    rept-=1"
   ]
  },
  {
   "cell_type": "markdown",
   "metadata": {},
   "source": [
    "##### [예제 3] 중첩 루프를 이용해 신문 배달을 하는 프로그램을 작성하시오. 단, 아래에서 arrears 리스트는 신문 구독료가 미납된 세대에 대한 정보를 포함하고 있는데, 해당 세대에는 신문을 배달하지 않아야 함\n",
    "apart = [[101, 102, 103, 104], [201, 202, 203, 204], [301, 302, 303, 304], [401, 402, 403, 404]]<br>\n",
    "arrears = [101, 203, 301, 404]"
   ]
  },
  {
   "cell_type": "code",
   "execution_count": 20,
   "metadata": {
    "scrolled": true
   },
   "outputs": [
    {
     "name": "stdout",
     "output_type": "stream",
     "text": [
      "102 103 104 \n",
      "201 202 204 \n",
      "302 303 304 \n",
      "401 402 403 \n"
     ]
    }
   ],
   "source": [
    "apart = [[101, 102, 103, 104], [201, 202, 203, 204], [301, 302, 303, 304], [401, 402, 403, 404]]\n",
    "arrears = [101, 203, 301, 404]\n",
    "\n",
    "for i in range(0, 4):\n",
    "    for j in range(0, 4):\n",
    "        if apart[i][j] not in arrears:\n",
    "            print(apart[i][j],end=' ')\n",
    "    print()"
   ]
  },
  {
   "cell_type": "code",
   "execution_count": 21,
   "metadata": {},
   "outputs": [
    {
     "name": "stdout",
     "output_type": "stream",
     "text": [
      "Newspaper delivery:  102\n",
      "Newspaper delivery:  103\n",
      "Newspaper delivery:  104\n",
      "Newspaper delivery:  201\n",
      "Newspaper delivery:  202\n",
      "Newspaper delivery:  204\n",
      "Newspaper delivery:  302\n",
      "Newspaper delivery:  303\n",
      "Newspaper delivery:  304\n",
      "Newspaper delivery:  401\n",
      "Newspaper delivery:  402\n",
      "Newspaper delivery:  403\n"
     ]
    }
   ],
   "source": [
    "apart = [[101, 102, 103, 104], [201, 202, 203, 204], [301, 302, 303, 304], [401, 402, 403, 404]]\n",
    "arrears = [101, 203, 301, 404]\n",
    "\n",
    "for floor in apart:\n",
    "    for house in floor:\n",
    "        if house in arrears:\n",
    "            continue\n",
    "        else:\n",
    "            print(\"Newspaper delivery: \", house)"
   ]
  },
  {
   "cell_type": "markdown",
   "metadata": {},
   "source": [
    "##### [예제 4] 짝수 출력하는 다음 코드를 List Comprehension 으로 구현하시오\n",
    "even_number = []\n",
    "\n",
    "for data in range(10):<br>\n",
    "&nbsp;&nbsp;&nbsp;&nbsp;if data % 2 == 0:<br>\n",
    "&nbsp;&nbsp;&nbsp;&nbsp;&nbsp;&nbsp;&nbsp;&nbsp;even_number.append(data)\n",
    "\n",
    "print(even_number)"
   ]
  },
  {
   "cell_type": "code",
   "execution_count": 25,
   "metadata": {},
   "outputs": [
    {
     "name": "stdout",
     "output_type": "stream",
     "text": [
      "[0, 2, 4, 6, 8]\n"
     ]
    }
   ],
   "source": [
    "even_number = [2*x for x in range(5)]\n",
    "print(even_number)"
   ]
  },
  {
   "cell_type": "code",
   "execution_count": 26,
   "metadata": {},
   "outputs": [
    {
     "name": "stdout",
     "output_type": "stream",
     "text": [
      "[0, 2, 4, 6, 8]\n"
     ]
    }
   ],
   "source": [
    "even_number = [x for x in range(10) if x%2 == 0]\n",
    "print(even_number)"
   ]
  },
  {
   "cell_type": "markdown",
   "metadata": {},
   "source": [
    "##### [예제 5] my_list = ['A', 'B', 'C', 'D'] 에서, 파이썬 for 문과 슬라이싱을 이용하여 첫 번째 데이터를 제외하고 나머지 데이터를 출력하시오"
   ]
  },
  {
   "cell_type": "code",
   "execution_count": 17,
   "metadata": {},
   "outputs": [
    {
     "name": "stdout",
     "output_type": "stream",
     "text": [
      "B C D "
     ]
    }
   ],
   "source": [
    "my_list = ['A', 'B', 'C', 'D']\n",
    "for i in range(1,4):\n",
    "    print(my_list[i], end=' ')"
   ]
  },
  {
   "cell_type": "code",
   "execution_count": 28,
   "metadata": {},
   "outputs": [
    {
     "name": "stdout",
     "output_type": "stream",
     "text": [
      "B\n",
      "C\n",
      "D\n"
     ]
    }
   ],
   "source": [
    "my_list = ['A', 'B', 'C', 'D']\n",
    "for data in my_list[1:]:\n",
    "    print(data)"
   ]
  },
  {
   "cell_type": "markdown",
   "metadata": {},
   "source": [
    "##### [예제 6] my_list = [3, 1, 7, 12, 5, 16] 에서, 3의 배수이거나 4의 배수를 화면에 출력하시오"
   ]
  },
  {
   "cell_type": "code",
   "execution_count": 18,
   "metadata": {},
   "outputs": [
    {
     "name": "stdout",
     "output_type": "stream",
     "text": [
      "3 12 16 "
     ]
    }
   ],
   "source": [
    "my_list = [3, 1, 7, 12, 5, 16]\n",
    "for i in range(6):\n",
    "    if my_list[i]%3 == 0 or my_list[i]%4 == 0:\n",
    "        print(my_list[i], end=' ')"
   ]
  },
  {
   "cell_type": "code",
   "execution_count": 29,
   "metadata": {},
   "outputs": [
    {
     "name": "stdout",
     "output_type": "stream",
     "text": [
      "3\n",
      "12\n",
      "16\n"
     ]
    }
   ],
   "source": [
    "my_list = [3, 1, 7, 12, 5, 16]\n",
    "for data in my_list:\n",
    "    if data%3 == 0 or data%4 == 0:\n",
    "        print(data)"
   ]
  },
  {
   "cell_type": "markdown",
   "metadata": {},
   "source": [
    "##### [예제 7] test_data = [[10, 20, 30], [1, 2, 3], [100, 200, 300]] 에 대하여, 다음의 xdata, tdata를 구하시오\n",
    "xdata = [x[1:-1] for x in test_data]<br>\n",
    "tdata = [x[-1] for x in test_data]"
   ]
  },
  {
   "cell_type": "code",
   "execution_count": 19,
   "metadata": {},
   "outputs": [
    {
     "name": "stdout",
     "output_type": "stream",
     "text": [
      "[[20], [2], [200]]\n",
      "[30, 3, 300]\n"
     ]
    }
   ],
   "source": [
    "test_data = [[10, 20, 30], [1, 2, 3], [100, 200, 300]]\n",
    "xdata = [x[1:-1] for x in test_data]\n",
    "tdata = [x[-1] for x in test_data]\n",
    "\n",
    "print(xdata)\n",
    "print(tdata)"
   ]
  }
 ],
 "metadata": {
  "kernelspec": {
   "display_name": "Python 3",
   "language": "python",
   "name": "python3"
  },
  "language_info": {
   "codemirror_mode": {
    "name": "ipython",
    "version": 3
   },
   "file_extension": ".py",
   "mimetype": "text/x-python",
   "name": "python",
   "nbconvert_exporter": "python",
   "pygments_lexer": "ipython3",
   "version": "3.7.3"
  }
 },
 "nbformat": 4,
 "nbformat_minor": 2
}

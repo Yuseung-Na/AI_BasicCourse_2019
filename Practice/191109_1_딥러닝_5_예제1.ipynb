{
 "cells": [
  {
   "cell_type": "markdown",
   "metadata": {},
   "source": [
    "## 예제 1"
   ]
  },
  {
   "cell_type": "markdown",
   "metadata": {},
   "source": [
    "### zip(*iterable) -> 동일한 개수로 이루어진 자료형을 묶어 주는 역할을 하는 함수"
   ]
  },
  {
   "cell_type": "code",
   "execution_count": 1,
   "metadata": {},
   "outputs": [
    {
     "data": {
      "text/plain": [
       "([(1, 4), (2, 5), (3, 6)], [(1, 4, 7), (2, 5, 8), (3, 6, 9)])"
      ]
     },
     "execution_count": 1,
     "metadata": {},
     "output_type": "execute_result"
    }
   ],
   "source": [
    "list(zip([1, 2, 3], [4, 5, 6])), list(zip([1, 2, 3], [4, 5, 6], [7, 8, 9]))"
   ]
  },
  {
   "cell_type": "code",
   "execution_count": 2,
   "metadata": {},
   "outputs": [
    {
     "data": {
      "text/plain": [
       "{0.0: 1.0, 'A': 'B'}"
      ]
     },
     "execution_count": 2,
     "metadata": {},
     "output_type": "execute_result"
    }
   ],
   "source": [
    "dict(zip([0.0, 'A'], [1.0, 'B']))"
   ]
  },
  {
   "cell_type": "markdown",
   "metadata": {},
   "source": [
    "### numpy.unique() 를 이용하여 정답(target) 분포 확인\n",
    "\n",
    "데이터 분포가 5:5 면 가장 좋지만 보통 6:4, 7:3 정도 까지는 괜찮음"
   ]
  },
  {
   "cell_type": "code",
   "execution_count": 3,
   "metadata": {},
   "outputs": [],
   "source": [
    "import numpy as np"
   ]
  },
  {
   "cell_type": "code",
   "execution_count": 6,
   "metadata": {},
   "outputs": [
    {
     "name": "stdout",
     "output_type": "stream",
     "text": [
      "input_data.shape =  (759, 8) , target_data =  (759,)\n",
      "kinds of target value =  dict_items([(0.0, 263), (1.0, 496)])\n",
      "number of zeros =  263 , ratio =  34.65085638998683  %\n",
      "number of ones =  496 , ratio =  65.34914361001317 %\n"
     ]
    }
   ],
   "source": [
    "# Diabetes target distribution\n",
    "loaded_data = np.loadtxt('./(191109)diabetes.csv', delimiter=',', dtype=np.float32)\n",
    "\n",
    "input_data = loaded_data[ :, 0:-1 ]\n",
    "target_data = loaded_data[ :, -1 ]\n",
    "\n",
    "print('input_data.shape = ', input_data.shape, ', target_data = ', target_data.shape)\n",
    "\n",
    "# numpy.unique() 사용\n",
    "unique, counts = np.unique(target_data, return_counts=True)\n",
    "\n",
    "print('kinds of target value = ', dict(zip(unique, counts)).items())  # dict에 items 붙이면 key와 value 모두 가져옴\n",
    "\n",
    "num_zeros = dict(zip(unique, counts))[0.0]  # key 0.0 에 대한 value 값 count 리턴\n",
    "num_ones = dict(zip(unique, counts))[1.0]  # key 1.0 에 대한 value 값 count 리턴\n",
    "\n",
    "print('number of zeros = ', num_zeros, ', ratio = ', 100 * num_zeros / (loaded_data.shape[0]), ' %')\n",
    "print('number of ones = ', num_ones, ', ratio = ', 100 * num_ones / (loaded_data.shape[0]), '%') "
   ]
  },
  {
   "cell_type": "code",
   "execution_count": 8,
   "metadata": {},
   "outputs": [
    {
     "name": "stdout",
     "output_type": "stream",
     "text": [
      "input_data.shape =  (470, 17) , target_data =  (470,)\n",
      "kinds of target value =  dict_items([(0.0, 400), (1.0, 70)])\n",
      "number of zeros =  400 , ratio =  85.1063829787234  %\n",
      "number of ones =  70 , ratio =  14.893617021276595 %\n"
     ]
    }
   ],
   "source": [
    "# ThoracicSurgery target distribution\n",
    "loaded_data = np.loadtxt('./(191109)ThoracicSurgery.csv', delimiter=',', dtype=np.float32)\n",
    "\n",
    "input_data = loaded_data[ :, 0:-1 ]\n",
    "target_data = loaded_data[ :, -1 ]\n",
    "\n",
    "print('input_data.shape = ', input_data.shape, ', target_data = ', target_data.shape)\n",
    "\n",
    "# numpy.unique() 사용\n",
    "unique, counts = np.unique(target_data, return_counts=True)\n",
    "\n",
    "print('kinds of target value = ', dict(zip(unique, counts)).items())\n",
    "\n",
    "num_zeros = dict(zip(unique, counts))[0.0]  # key 0.0 에 대한 value 값 count 리턴\n",
    "num_ones = dict(zip(unique, counts))[1.0]  # key 1.0 에 대한 value 값 count 리턴\n",
    "\n",
    "print('number of zeros = ', num_zeros, ', ratio = ', 100 * num_zeros / (loaded_data.shape[0]), ' %')\n",
    "print('number of ones = ', num_ones, ', ratio = ', 100 * num_ones / (loaded_data.shape[0]), '%') ## 이정도로 나오면 좋지 않음"
   ]
  },
  {
   "cell_type": "code",
   "execution_count": 10,
   "metadata": {},
   "outputs": [
    {
     "name": "stdout",
     "output_type": "stream",
     "text": [
      "input_data.shape =  (6497, 12) , target_data =  (6497,)\n",
      "kinds of target value =  dict_items([(0.0, 4898), (1.0, 1599)])\n",
      "number of zeros =  4898 , ratio =  75.38864091118978  %\n",
      "number of ones =  1599 , ratio =  24.61135908881022 %\n"
     ]
    }
   ],
   "source": [
    "# Wine target distribution\n",
    "loaded_data = np.loadtxt('./(191109)wine.csv', delimiter=',', dtype=np.float32)\n",
    "\n",
    "input_data = loaded_data[ :, 0:-1 ]\n",
    "target_data = loaded_data[ :, -1 ]\n",
    "\n",
    "print('input_data.shape = ', input_data.shape, ', target_data = ', target_data.shape)\n",
    "\n",
    "# numpy.unique() 사용\n",
    "unique, counts = np.unique(target_data, return_counts=True)\n",
    "\n",
    "print('kinds of target value = ', dict(zip(unique, counts)).items())\n",
    "\n",
    "num_zeros = dict(zip(unique, counts))[0.0]  # key 0.0 에 대한 value 값 count 리턴\n",
    "num_ones = dict(zip(unique, counts))[1.0]  # key 1.0 에 대한 value 값 count 리턴\n",
    "\n",
    "print('number of zeros = ', num_zeros, ', ratio = ', 100 * num_zeros / (loaded_data.shape[0]), ' %')\n",
    "print('number of ones = ', num_ones, ', ratio = ', 100 * num_ones / (loaded_data.shape[0]), '%') ## 얘도 좋지는 않음"
   ]
  },
  {
   "cell_type": "markdown",
   "metadata": {},
   "source": [
    "머신러닝은 일단 데이터의 분석이 먼저 필요하다!  \n",
    "위와 같이 0과 1의 분포를 먼저 파악하여 이 데이터가 좋은 데이터인 지를 파악하자"
   ]
  },
  {
   "cell_type": "code",
   "execution_count": null,
   "metadata": {},
   "outputs": [],
   "source": []
  }
 ],
 "metadata": {
  "kernelspec": {
   "display_name": "Python 3",
   "language": "python",
   "name": "python3"
  },
  "language_info": {
   "codemirror_mode": {
    "name": "ipython",
    "version": 3
   },
   "file_extension": ".py",
   "mimetype": "text/x-python",
   "name": "python",
   "nbconvert_exporter": "python",
   "pygments_lexer": "ipython3",
   "version": "3.7.4"
  }
 },
 "nbformat": 4,
 "nbformat_minor": 2
}

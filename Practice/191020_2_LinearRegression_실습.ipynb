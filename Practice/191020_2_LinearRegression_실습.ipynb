{
 "cells": [
  {
   "cell_type": "markdown",
   "metadata": {},
   "source": [
    "## [실습 1] multi variable regression"
   ]
  },
  {
   "cell_type": "code",
   "execution_count": 54,
   "metadata": {},
   "outputs": [],
   "source": [
    "import numpy as np"
   ]
  },
  {
   "cell_type": "markdown",
   "metadata": {},
   "source": [
    "##### 미분 값 계산"
   ]
  },
  {
   "cell_type": "code",
   "execution_count": 55,
   "metadata": {},
   "outputs": [],
   "source": [
    "def numerical_derivative(f, x):\n",
    "    delta_x = 1e-4 # 0.0001\n",
    "    grad = np.zeros_like(x)\n",
    "    \n",
    "    it = np.nditer(x, flags=['multi_index'], op_flags=['readwrite'])\n",
    "    \n",
    "    while not it.finished:\n",
    "        idx = it.multi_index        \n",
    "        tmp_val = x[idx]\n",
    "        x[idx] = float(tmp_val) + delta_x\n",
    "        fx1 = f(x) # f(x+delta_x)\n",
    "        \n",
    "        x[idx] = tmp_val - delta_x \n",
    "        fx2 = f(x) # f(x-delta_x)\n",
    "        grad[idx] = (fx1 - fx2) / (2*delta_x)\n",
    "        \n",
    "        x[idx] = tmp_val \n",
    "        it.iternext()   \n",
    "        \n",
    "    return grad"
   ]
  },
  {
   "cell_type": "markdown",
   "metadata": {},
   "source": [
    "##### x, t값 load"
   ]
  },
  {
   "cell_type": "code",
   "execution_count": 56,
   "metadata": {},
   "outputs": [
    {
     "name": "stdout",
     "output_type": "stream",
     "text": [
      "x_data.shape =  (25, 3) , t_data.shape =  (25, 1)\n"
     ]
    }
   ],
   "source": [
    "loaded_data = np.loadtxt('./(191020)data-01.csv', delimiter=',', dtype = np.float32)\n",
    "\n",
    "x_data = loaded_data[:, 0:-1]\n",
    "t_data = loaded_data[:, [-1]]\n",
    "\n",
    "print(\"x_data.shape = \", x_data.shape, \", t_data.shape = \", t_data.shape)"
   ]
  },
  {
   "cell_type": "markdown",
   "metadata": {},
   "source": [
    "##### W, b에 랜덤 값 대입"
   ]
  },
  {
   "cell_type": "code",
   "execution_count": 57,
   "metadata": {},
   "outputs": [
    {
     "name": "stdout",
     "output_type": "stream",
     "text": [
      "W =  [[0.0173267 ]\n",
      " [0.53406178]\n",
      " [0.99655085]] , W.shape =  (3, 1) , b =  [0.37237634] , b.shape =  (1,)\n"
     ]
    }
   ],
   "source": [
    "W = np.random.rand(3, 1)\n",
    "b = np.random.rand(1)\n",
    "\n",
    "print(\"W = \", W, \", W.shape = \", W.shape, \", b = \", b, \", b.shape = \", b.shape)"
   ]
  },
  {
   "cell_type": "markdown",
   "metadata": {},
   "source": [
    "##### 손실 함수 정의"
   ]
  },
  {
   "cell_type": "code",
   "execution_count": 58,
   "metadata": {},
   "outputs": [],
   "source": [
    "def loss_func(x, t):\n",
    "    y = np.dot(x, W) + b\n",
    "    \n",
    "    return (np.sum((t - y)**2)) / (len(x))"
   ]
  },
  {
   "cell_type": "markdown",
   "metadata": {},
   "source": [
    "##### 손실 함수 값 계산"
   ]
  },
  {
   "cell_type": "code",
   "execution_count": 59,
   "metadata": {},
   "outputs": [],
   "source": [
    "def loss_val(x, t):\n",
    "    y = np.dot(x, W) + b\n",
    "    \n",
    "    return (np.sum((t - y)**2)) / (len(x))"
   ]
  },
  {
   "cell_type": "markdown",
   "metadata": {},
   "source": [
    "##### 미래 값 예측"
   ]
  },
  {
   "cell_type": "code",
   "execution_count": 60,
   "metadata": {},
   "outputs": [],
   "source": [
    "def predict(x):\n",
    "    y = np.dot(x, W) + b\n",
    "    \n",
    "    return y"
   ]
  },
  {
   "cell_type": "markdown",
   "metadata": {},
   "source": [
    "##### learning"
   ]
  },
  {
   "cell_type": "code",
   "execution_count": 61,
   "metadata": {},
   "outputs": [
    {
     "name": "stdout",
     "output_type": "stream",
     "text": [
      "Initial loss value =  1385.0276007979244 Initial W =  [[0.0173267 ]\n",
      " [0.53406178]\n",
      " [0.99655085]] \n",
      " , b =  [0.37237634]\n",
      "step =  0 loss value =  654.0336624811683 W =  [[0.27259784]\n",
      " [0.79032282]\n",
      " [1.25902689]] , b =  [0.37020235]\n",
      "step =  10000 loss value =  6.151009811609194 W =  [[0.35598355]\n",
      " [0.52952826]\n",
      " [1.12435492]] , b =  [0.29296944]\n",
      "step =  20000 loss value =  6.137530097601521 W =  [[0.35598682]\n",
      " [0.52973977]\n",
      " [1.12506177]] , b =  [0.21683736]\n",
      "step =  30000 loss value =  6.124490126176129 W =  [[0.35598603]\n",
      " [0.52994994]\n",
      " [1.12575881]] , b =  [0.14195741]\n",
      "step =  40000 loss value =  6.111875551524533 W =  [[0.35598524]\n",
      " [0.53015666]\n",
      " [1.12644439]] , b =  [0.06830897]\n",
      "step =  50000 loss value =  6.099672496130345 W =  [[0.35598447]\n",
      " [0.53035997]\n",
      " [1.12711869]] , b =  [-0.0041282]\n",
      "step =  60000 loss value =  6.087867535196993 W =  [[0.3559837 ]\n",
      " [0.53055994]\n",
      " [1.12778191]] , b =  [-0.07537404]\n",
      "step =  70000 loss value =  6.0764476818786015 W =  [[0.35598296]\n",
      " [0.53075662]\n",
      " [1.12843422]] , b =  [-0.14544813]\n",
      "step =  80000 loss value =  6.0654003729929515 W =  [[0.35598222]\n",
      " [0.53095007]\n",
      " [1.12907579]] , b =  [-0.21436975]\n",
      "step =  90000 loss value =  6.054713455200579 W =  [[0.3559815 ]\n",
      " [0.53114033]\n",
      " [1.12970682]] , b =  [-0.28215785]\n",
      "step =  100000 loss value =  6.044375171634568 W =  [[0.35598079]\n",
      " [0.53132747]\n",
      " [1.13032747]] , b =  [-0.34883107]\n"
     ]
    }
   ],
   "source": [
    "learning_rate = 4.3e-5\n",
    "\n",
    "f = lambda x : loss_func(x_data, t_data)\n",
    "\n",
    "print(\"Initial loss value = \", loss_val(x_data, t_data), \"Initial W = \", W, \"\\n\", \", b = \", b )\n",
    "\n",
    "for step in range(100001):\n",
    "    W -= learning_rate * numerical_derivative(f, W)\n",
    "    b -= learning_rate * numerical_derivative(f, b)\n",
    "    \n",
    "    if (step % 10000 == 0):\n",
    "        print(\"step = \", step, \"loss value = \", loss_val(x_data, t_data), \"W = \", W, \", b = \",b )"
   ]
  },
  {
   "cell_type": "code",
   "execution_count": 84,
   "metadata": {},
   "outputs": [
    {
     "data": {
      "text/plain": [
       "array([152.91852375])"
      ]
     },
     "execution_count": 84,
     "metadata": {},
     "output_type": "execute_result"
    }
   ],
   "source": [
    "predict([73, 80, 75])"
   ]
  },
  {
   "cell_type": "markdown",
   "metadata": {},
   "source": [
    "## [실습 2] multi variable regression"
   ]
  },
  {
   "cell_type": "code",
   "execution_count": 46,
   "metadata": {},
   "outputs": [
    {
     "name": "stdout",
     "output_type": "stream",
     "text": [
      "x_data.shape =  (50, 4) , t_data.shape =  (50, 1)\n",
      "W =  [[0.60808273]\n",
      " [0.67973258]\n",
      " [0.04937555]\n",
      " [0.72782809]] , W.shape =  (4, 1) , b =  [0.00564399] , b.shape =  (1,)\n"
     ]
    }
   ],
   "source": [
    "import numpy as np\n",
    "################################################################################################\n",
    "def numerical_derivative(f, x):\n",
    "    delta_x = 1e-4 # 0.0001\n",
    "    grad = np.zeros_like(x)\n",
    "    \n",
    "    it = np.nditer(x, flags=['multi_index'], op_flags=['readwrite'])\n",
    "    \n",
    "    while not it.finished:\n",
    "        idx = it.multi_index        \n",
    "        tmp_val = x[idx]\n",
    "        x[idx] = float(tmp_val) + delta_x\n",
    "        fx1 = f(x) # f(x+delta_x)\n",
    "        \n",
    "        x[idx] = tmp_val - delta_x \n",
    "        fx2 = f(x) # f(x-delta_x)\n",
    "        grad[idx] = (fx1 - fx2) / (2*delta_x)\n",
    "        \n",
    "        x[idx] = tmp_val \n",
    "        it.iternext()   \n",
    "        \n",
    "    return grad\n",
    "################################################################################################\n",
    "loaded_data = np.loadtxt('./(191020)regression_testdata.csv', delimiter=',', dtype = np.float32)\n",
    "\n",
    "x_data = loaded_data[:, 0:-1]\n",
    "t_data = loaded_data[:, [-1]]\n",
    "\n",
    "print(\"x_data.shape = \", x_data.shape, \", t_data.shape = \", t_data.shape)\n",
    "################################################################################################\n",
    "W = np.random.rand(4, 1)\n",
    "b = np.random.rand(1)\n",
    "\n",
    "print(\"W = \", W, \", W.shape = \", W.shape, \", b = \", b, \", b.shape = \", b.shape)\n",
    "################################################################################################\n",
    "def loss_func(x, t):\n",
    "    y = np.dot(x, W) + b\n",
    "    \n",
    "    return (np.sum((t - y)**2)) / (len(x))\n",
    "################################################################################################\n",
    "def loss_val(x, t):\n",
    "    y = np.dot(x, W) + b\n",
    "    \n",
    "    return (np.sum((t - y)**2)) / (len(x))\n",
    "################################################################################################\n",
    "def predict(x):\n",
    "    y = np.dot(x, W) + b\n",
    "    \n",
    "    return y"
   ]
  },
  {
   "cell_type": "code",
   "execution_count": 47,
   "metadata": {
    "scrolled": false
   },
   "outputs": [
    {
     "name": "stdout",
     "output_type": "stream",
     "text": [
      "Initial loss value =  66.32487937894625 Initial W =  [[0.60808273]\n",
      " [0.67973258]\n",
      " [0.04937555]\n",
      " [0.72782809]] \n",
      " , b =  [0.00564399]\n",
      "step =  0 loss value =  17.98887299910682 W =  [[ 0.31455147]\n",
      " [-0.47685406]\n",
      " [ 0.18941898]\n",
      " [-0.67015131]] , b =  [0.09032265]\n",
      "step =  100 loss value =  3.7718993854281364e-07 W =  [[ 0.99989785]\n",
      " [-1.00008654]\n",
      " [ 0.99998894]\n",
      " [-1.00003108]] , b =  [0.00083345]\n",
      "step =  200 loss value =  2.478971343288921e-10 W =  [[ 0.99999738]\n",
      " [-1.00000222]\n",
      " [ 0.99999972]\n",
      " [-1.0000008 ]] , b =  [2.13667393e-05]\n",
      "step =  300 loss value =  1.6293009281262289e-13 W =  [[ 0.99999993]\n",
      " [-1.00000006]\n",
      " [ 0.99999999]\n",
      " [-1.00000002]] , b =  [5.47776189e-07]\n",
      "step =  400 loss value =  1.0708561247758407e-16 W =  [[ 1.]\n",
      " [-1.]\n",
      " [ 1.]\n",
      " [-1.]] , b =  [1.40432637e-08]\n",
      "step =  500 loss value =  7.038188913325218e-20 W =  [[ 1.]\n",
      " [-1.]\n",
      " [ 1.]\n",
      " [-1.]] , b =  [3.60025351e-10]\n"
     ]
    }
   ],
   "source": [
    "learning_rate = 3.3e-2\n",
    "\n",
    "f = lambda x : loss_func(x_data, t_data)\n",
    "\n",
    "print(\"Initial loss value = \", loss_val(x_data, t_data), \"Initial W = \", W, \"\\n\", \", b = \", b )\n",
    "\n",
    "for step in range(501):\n",
    "    W -= learning_rate * numerical_derivative(f, W)\n",
    "    b -= learning_rate * numerical_derivative(f, b)\n",
    "    \n",
    "    if (step % 100 == 0):\n",
    "        print(\"step = \", step, \"loss value = \", loss_val(x_data, t_data), \"W = \", W, \", b = \",b )"
   ]
  },
  {
   "cell_type": "code",
   "execution_count": 52,
   "metadata": {},
   "outputs": [
    {
     "data": {
      "text/plain": [
       "array([-1.])"
      ]
     },
     "execution_count": 52,
     "metadata": {},
     "output_type": "execute_result"
    }
   ],
   "source": [
    "predict([4, 7, 3, 1])"
   ]
  },
  {
   "cell_type": "code",
   "execution_count": null,
   "metadata": {},
   "outputs": [],
   "source": []
  }
 ],
 "metadata": {
  "kernelspec": {
   "display_name": "Python 3",
   "language": "python",
   "name": "python3"
  },
  "language_info": {
   "codemirror_mode": {
    "name": "ipython",
    "version": 3
   },
   "file_extension": ".py",
   "mimetype": "text/x-python",
   "name": "python",
   "nbconvert_exporter": "python",
   "pygments_lexer": "ipython3",
   "version": "3.7.4"
  }
 },
 "nbformat": 4,
 "nbformat_minor": 2
}

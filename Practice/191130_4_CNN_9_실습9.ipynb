{
 "cells": [
  {
   "cell_type": "code",
   "execution_count": 1,
   "metadata": {},
   "outputs": [
    {
     "name": "stdout",
     "output_type": "stream",
     "text": [
      "WARNING:tensorflow:From <ipython-input-1-8b471cb9f1c7>:11: read_data_sets (from tensorflow.contrib.learn.python.learn.datasets.mnist) is deprecated and will be removed in a future version.\n",
      "Instructions for updating:\n",
      "Please use alternatives such as official/mnist/dataset.py from tensorflow/models.\n",
      "WARNING:tensorflow:From C:\\Users\\YUSEUNG\\Anaconda3\\lib\\site-packages\\tensorflow_core\\contrib\\learn\\python\\learn\\datasets\\mnist.py:260: maybe_download (from tensorflow.contrib.learn.python.learn.datasets.base) is deprecated and will be removed in a future version.\n",
      "Instructions for updating:\n",
      "Please write your own downloading logic.\n",
      "WARNING:tensorflow:From C:\\Users\\YUSEUNG\\Anaconda3\\lib\\site-packages\\tensorflow_core\\contrib\\learn\\python\\learn\\datasets\\mnist.py:262: extract_images (from tensorflow.contrib.learn.python.learn.datasets.mnist) is deprecated and will be removed in a future version.\n",
      "Instructions for updating:\n",
      "Please use tf.data to implement this functionality.\n",
      "Extracting MNIST_data/train-images-idx3-ubyte.gz\n",
      "WARNING:tensorflow:From C:\\Users\\YUSEUNG\\Anaconda3\\lib\\site-packages\\tensorflow_core\\contrib\\learn\\python\\learn\\datasets\\mnist.py:267: extract_labels (from tensorflow.contrib.learn.python.learn.datasets.mnist) is deprecated and will be removed in a future version.\n",
      "Instructions for updating:\n",
      "Please use tf.data to implement this functionality.\n",
      "Extracting MNIST_data/train-labels-idx1-ubyte.gz\n",
      "WARNING:tensorflow:From C:\\Users\\YUSEUNG\\Anaconda3\\lib\\site-packages\\tensorflow_core\\contrib\\learn\\python\\learn\\datasets\\mnist.py:110: dense_to_one_hot (from tensorflow.contrib.learn.python.learn.datasets.mnist) is deprecated and will be removed in a future version.\n",
      "Instructions for updating:\n",
      "Please use tf.one_hot on tensors.\n",
      "Extracting MNIST_data/t10k-images-idx3-ubyte.gz\n",
      "Extracting MNIST_data/t10k-labels-idx1-ubyte.gz\n",
      "WARNING:tensorflow:From C:\\Users\\YUSEUNG\\Anaconda3\\lib\\site-packages\\tensorflow_core\\contrib\\learn\\python\\learn\\datasets\\mnist.py:290: DataSet.__init__ (from tensorflow.contrib.learn.python.learn.datasets.mnist) is deprecated and will be removed in a future version.\n",
      "Instructions for updating:\n",
      "Please use alternatives such as official/mnist/dataset.py from tensorflow/models.\n",
      "\n",
      " 55000 10000 5000\n",
      "\n",
      "train image shape =  (55000, 784)\n",
      "train label shape =  (55000, 10)\n",
      "test image shape =  (10000, 784)\n",
      "test label shape =  (10000, 10)\n"
     ]
    }
   ],
   "source": [
    "import tensorflow as tf\n",
    "from tensorflow.examples.tutorials.mnist import input_data\n",
    "import numpy as np\n",
    "from datetime import datetime      # datetime.now() 를 이용하여 학습 경과 시간 측정\n",
    "import matplotlib.pyplot as plt\n",
    "%matplotlib inline\n",
    "\n",
    "# read_data_sets() 를 통해 데이터를 객체형태로 받아오고\n",
    "# one_hot 옵션을 통해 정답(label) 을 one-hot 인코딩된 형태로 받아옴\n",
    "\n",
    "mnist = input_data.read_data_sets(\"MNIST_data/\", one_hot=True)\n",
    "\n",
    "# mnist 데이터 셋은 train, test, validation 3개의 데이터 셋으로 구성되어 있으며.\n",
    "# num_examples 값을 통해 데이터의 갯수 확인 가능함\n",
    "\n",
    "print(\"\\n\", mnist.train.num_examples, mnist.test.num_examples, mnist.validation.num_examples)\n",
    "\n",
    "# 데이터는 784(28x28)개의 픽셀을 가지는 이미지와\n",
    "# 10(0~9)개 클래스를 가지는 one-hot 인코딩된 레이블(정답)을 가지고 있음\n",
    "\n",
    "print(\"\\ntrain image shape = \", np.shape(mnist.train.images))\n",
    "print(\"train label shape = \", np.shape(mnist.train.labels))\n",
    "print(\"test image shape = \", np.shape(mnist.test.images))\n",
    "print(\"test label shape = \", np.shape(mnist.test.labels))"
   ]
  },
  {
   "cell_type": "markdown",
   "metadata": {},
   "source": [
    "### hyper parameter"
   ]
  },
  {
   "cell_type": "code",
   "execution_count": 2,
   "metadata": {},
   "outputs": [],
   "source": [
    "# Hyper-Parameter\n",
    "learning_rate = 0.001  # 학습율\n",
    "epochs = 30            # 반복횟수\n",
    "batch_size = 100      # 한번에 입력으로 주어지는 MNIST 개수"
   ]
  },
  {
   "cell_type": "code",
   "execution_count": 3,
   "metadata": {},
   "outputs": [],
   "source": [
    "# 입력과 정답을 위한 플레이스홀더 정의\n",
    "X = tf.placeholder(tf.float32, [None, 784])  \n",
    "T = tf.placeholder(tf.float32, [None, 10])  \n",
    "\n",
    "# 입력층의 출력 값. 컨볼루션 연산을 위해 reshape 시킴\n",
    "A1 = X_img = tf.reshape(X, [-1, 28, 28, 1])   # image 28 X 28 X 1 (black/white)"
   ]
  },
  {
   "cell_type": "markdown",
   "metadata": {},
   "source": [
    "### 컨볼루션층 1"
   ]
  },
  {
   "cell_type": "code",
   "execution_count": 4,
   "metadata": {},
   "outputs": [],
   "source": [
    "# 1번째 컨볼루션 층, 5x5x32 필터 \n",
    "W2 = tf.Variable(tf.random_normal([5, 5, 1, 32], stddev=0.01))  # standard deviation 표준편차 0.01 이내로 뽑음 -> 더 정교한 데이터\n",
    "b2 = tf.Variable(tf.constant(0.1, shape=[32]))\n",
    "\n",
    "# 1번째 컨볼루션 연산을 통해 28 x 28 x 1 => 28 x 28 x 32  흑백인 1개 층이 -> 32개 층을 거치게 됨\n",
    "C2 = tf.nn.conv2d(A1, W2, strides=[1, 1, 1, 1], padding='SAME')\n",
    "\n",
    "# relu\n",
    "Z2 = tf.nn.relu(C2+b2)\n",
    "\n",
    "# 1번째 max pooling을 통해 28 x 28 x 32 => 14 x 14 x 32  max pooling을 통해 4개를 1개로 묶어 가로 세로 2배씩 줄어들게 됨\n",
    "A2 = P2 = tf.nn.max_pool(Z2, ksize=[1, 2, 2, 1], strides=[1, 2, 2, 1], padding='SAME')"
   ]
  },
  {
   "cell_type": "markdown",
   "metadata": {},
   "source": [
    "### 컨볼루션층 2"
   ]
  },
  {
   "cell_type": "code",
   "execution_count": 5,
   "metadata": {},
   "outputs": [],
   "source": [
    "# 2번째 컨볼루션 층\n",
    "W3 = tf.Variable(tf.random_normal([5, 5, 32, 64], stddev=0.01))  \n",
    "b3 = tf.Variable(tf.constant(0.1, shape=[64]))   \n",
    "\n",
    "# 2번째 컨볼루션 연산을 통해 14 X 14 X 32 => 14 X 14 X 64 \n",
    "C3 = tf.nn.conv2d(A2, W3, strides=[1, 1, 1, 1], padding='SAME')\n",
    "\n",
    "# relu\n",
    "Z3 = tf.nn.relu(C3+b3)\n",
    "\n",
    "# 2번째 max pooling을 통해 14 X 14 X 64 => 7 X 7 X 64\n",
    "A3 = P3 = tf.nn.max_pool(Z3, ksize=[1, 2, 2, 1], strides=[1, 2, 2, 1], padding='SAME')"
   ]
  },
  {
   "cell_type": "markdown",
   "metadata": {},
   "source": [
    "### 컨볼루션층 3, pooling 없이"
   ]
  },
  {
   "cell_type": "code",
   "execution_count": 6,
   "metadata": {},
   "outputs": [],
   "source": [
    "# 3번째 컨볼루션 층\n",
    "W4 = tf.Variable(tf.random_normal([5, 5, 64, 128], stddev=0.01))  \n",
    "b4 = tf.Variable(tf.constant(0.1, shape=[128]))   \n",
    "\n",
    "# 3번째 컨볼루션 연산을 통해 7 X 7 X 64 => 7 X 7 X 128\n",
    "C4 = tf.nn.conv2d(A3, W4, strides=[1, 1, 1, 1], padding='SAME')\n",
    "\n",
    "# relu\n",
    "A4 = Z4 = tf.nn.relu(C4+b4)"
   ]
  },
  {
   "cell_type": "markdown",
   "metadata": {},
   "source": [
    "### 완전연결층 Flatten"
   ]
  },
  {
   "cell_type": "code",
   "execution_count": 7,
   "metadata": {},
   "outputs": [],
   "source": [
    "# 2X2 크기를 가진 256개의 activation map을 flatten 시킴\n",
    "A4_flat = P4_flat = tf.reshape(A4, [-1, 128*7*7])"
   ]
  },
  {
   "cell_type": "markdown",
   "metadata": {},
   "source": [
    "### 완전연결층2"
   ]
  },
  {
   "cell_type": "code",
   "execution_count": 8,
   "metadata": {},
   "outputs": [],
   "source": [
    "# 256 개의 노드 완전연결\n",
    "W5 = tf.Variable(tf.random_normal([128*7*7, 256], stddev=0.01))\n",
    "b5 = tf.Variable(tf.random_normal([256]))\n",
    "\n",
    "Z5 = tf.matmul(A4_flat, W5) + b5\n",
    "\n",
    "A5 = tf.nn.relu(Z5)"
   ]
  },
  {
   "cell_type": "markdown",
   "metadata": {},
   "source": [
    "### 출력층"
   ]
  },
  {
   "cell_type": "code",
   "execution_count": 9,
   "metadata": {},
   "outputs": [],
   "source": [
    "# 출력층\n",
    "W6 = tf.Variable(tf.random_normal([256, 10], stddev=0.01))\n",
    "b6 = tf.Variable(tf.random_normal([10]))\n",
    "\n",
    "# 출력층 선형회귀  값 Z6, 즉 softmax 에 들어가는 입력 값\n",
    "Z6 = logits = tf.matmul(A5, W6) + b6    # 선형회귀 값 Z6\n",
    "\n",
    "y = A6 = tf.nn.softmax(Z6)"
   ]
  },
  {
   "cell_type": "code",
   "execution_count": 10,
   "metadata": {},
   "outputs": [],
   "source": [
    "loss = tf.reduce_mean( tf.nn.softmax_cross_entropy_with_logits_v2(logits=Z6, labels=T) )\n",
    "\n",
    "optimizer = tf.train.AdamOptimizer(learning_rate)\n",
    "\n",
    "train = optimizer.minimize(loss)  "
   ]
  },
  {
   "cell_type": "code",
   "execution_count": 11,
   "metadata": {},
   "outputs": [],
   "source": [
    "# batch_size X 10 데이터에 대해 argmax를 통해 행단위로 비교함\n",
    "predicted_val = tf.equal( tf.argmax(A6, 1), tf.argmax(T, 1) )\n",
    "\n",
    "# batch_size X 10 의 True, False 를 1 또는 0 으로 변환\n",
    "accuracy = tf.reduce_mean(tf.cast(predicted_val, dtype=tf.float32))\n",
    "\n",
    "# index list 출력\n",
    "accuracy_index = tf.cast(predicted_val, dtype=tf.float32)\n",
    "\n",
    "# 예측값 처리\n",
    "predicted_list = tf.argmax(A6, 1)"
   ]
  },
  {
   "cell_type": "code",
   "execution_count": 12,
   "metadata": {
    "scrolled": true
   },
   "outputs": [
    {
     "name": "stdout",
     "output_type": "stream",
     "text": [
      "epochs =  0 , step =  0 , loss_val =  2.578572\n",
      "epochs =  0 , step =  100 , loss_val =  1.3596042\n",
      "epochs =  0 , step =  200 , loss_val =  0.3459197\n",
      "epochs =  0 , step =  300 , loss_val =  0.11688562\n",
      "epochs =  0 , step =  400 , loss_val =  0.1060114\n",
      "epochs =  0 , step =  500 , loss_val =  0.090657614\n",
      "epochs =  1 , step =  0 , loss_val =  0.050366692\n",
      "epochs =  1 , step =  100 , loss_val =  0.07055423\n",
      "epochs =  1 , step =  200 , loss_val =  0.07342895\n",
      "epochs =  1 , step =  300 , loss_val =  0.06614749\n",
      "epochs =  1 , step =  400 , loss_val =  0.033467893\n",
      "epochs =  1 , step =  500 , loss_val =  0.047052763\n",
      "epochs =  2 , step =  0 , loss_val =  0.043895945\n",
      "epochs =  2 , step =  100 , loss_val =  0.07474868\n",
      "epochs =  2 , step =  200 , loss_val =  0.0477523\n",
      "epochs =  2 , step =  300 , loss_val =  0.10548714\n",
      "epochs =  2 , step =  400 , loss_val =  0.10081036\n",
      "epochs =  2 , step =  500 , loss_val =  0.11733855\n",
      "epochs =  3 , step =  0 , loss_val =  0.007955786\n",
      "epochs =  3 , step =  100 , loss_val =  0.0045762993\n",
      "epochs =  3 , step =  200 , loss_val =  0.036875714\n",
      "epochs =  3 , step =  300 , loss_val =  0.042533204\n",
      "epochs =  3 , step =  400 , loss_val =  0.026105225\n",
      "epochs =  3 , step =  500 , loss_val =  0.029436858\n",
      "epochs =  4 , step =  0 , loss_val =  0.022089764\n",
      "epochs =  4 , step =  100 , loss_val =  0.00072965416\n",
      "epochs =  4 , step =  200 , loss_val =  0.07488923\n",
      "epochs =  4 , step =  300 , loss_val =  0.013570411\n",
      "epochs =  4 , step =  400 , loss_val =  0.0057992674\n",
      "epochs =  4 , step =  500 , loss_val =  0.00070110353\n",
      "epochs =  5 , step =  0 , loss_val =  0.0046873675\n",
      "epochs =  5 , step =  100 , loss_val =  0.030482942\n",
      "epochs =  5 , step =  200 , loss_val =  0.01515111\n",
      "epochs =  5 , step =  300 , loss_val =  0.016294323\n",
      "epochs =  5 , step =  400 , loss_val =  0.024765678\n",
      "epochs =  5 , step =  500 , loss_val =  0.09066118\n",
      "epochs =  6 , step =  0 , loss_val =  0.015858764\n",
      "epochs =  6 , step =  100 , loss_val =  0.017218001\n",
      "epochs =  6 , step =  200 , loss_val =  0.0019383262\n",
      "epochs =  6 , step =  300 , loss_val =  0.012512028\n",
      "epochs =  6 , step =  400 , loss_val =  0.004292506\n",
      "epochs =  6 , step =  500 , loss_val =  0.047850545\n",
      "epochs =  7 , step =  0 , loss_val =  0.0011241185\n",
      "epochs =  7 , step =  100 , loss_val =  0.03544216\n",
      "epochs =  7 , step =  200 , loss_val =  0.0012575942\n",
      "epochs =  7 , step =  300 , loss_val =  0.031291243\n",
      "epochs =  7 , step =  400 , loss_val =  0.03862206\n",
      "epochs =  7 , step =  500 , loss_val =  0.07568498\n",
      "epochs =  8 , step =  0 , loss_val =  0.006072187\n",
      "epochs =  8 , step =  100 , loss_val =  0.0020566233\n",
      "epochs =  8 , step =  200 , loss_val =  0.12085975\n",
      "epochs =  8 , step =  300 , loss_val =  0.0014961839\n",
      "epochs =  8 , step =  400 , loss_val =  0.008640855\n",
      "epochs =  8 , step =  500 , loss_val =  3.4795434e-05\n",
      "epochs =  9 , step =  0 , loss_val =  0.018329695\n",
      "epochs =  9 , step =  100 , loss_val =  0.0011801493\n",
      "epochs =  9 , step =  200 , loss_val =  0.03848813\n",
      "epochs =  9 , step =  300 , loss_val =  0.045190074\n",
      "epochs =  9 , step =  400 , loss_val =  0.010778788\n",
      "epochs =  9 , step =  500 , loss_val =  0.0021877333\n",
      "epochs =  10 , step =  0 , loss_val =  0.012897257\n",
      "epochs =  10 , step =  100 , loss_val =  0.000738496\n",
      "epochs =  10 , step =  200 , loss_val =  0.046356734\n",
      "epochs =  10 , step =  300 , loss_val =  0.0041453354\n",
      "epochs =  10 , step =  400 , loss_val =  0.0068928\n",
      "epochs =  10 , step =  500 , loss_val =  0.005478023\n",
      "epochs =  11 , step =  0 , loss_val =  0.010568525\n",
      "epochs =  11 , step =  100 , loss_val =  0.0053929854\n",
      "epochs =  11 , step =  200 , loss_val =  0.00029762968\n",
      "epochs =  11 , step =  300 , loss_val =  0.00022006179\n",
      "epochs =  11 , step =  400 , loss_val =  0.004990539\n",
      "epochs =  11 , step =  500 , loss_val =  0.00064664497\n",
      "epochs =  12 , step =  0 , loss_val =  0.0098057985\n",
      "epochs =  12 , step =  100 , loss_val =  0.0050306027\n",
      "epochs =  12 , step =  200 , loss_val =  0.0015695697\n",
      "epochs =  12 , step =  300 , loss_val =  0.003916182\n",
      "epochs =  12 , step =  400 , loss_val =  0.00054010475\n",
      "epochs =  12 , step =  500 , loss_val =  0.0010247387\n",
      "epochs =  13 , step =  0 , loss_val =  0.00039737063\n",
      "epochs =  13 , step =  100 , loss_val =  0.0014960988\n",
      "epochs =  13 , step =  200 , loss_val =  0.0017793732\n",
      "epochs =  13 , step =  300 , loss_val =  0.0024517681\n",
      "epochs =  13 , step =  400 , loss_val =  0.038630534\n",
      "epochs =  13 , step =  500 , loss_val =  0.0002453142\n",
      "epochs =  14 , step =  0 , loss_val =  0.00086738577\n",
      "epochs =  14 , step =  100 , loss_val =  0.0001707961\n",
      "epochs =  14 , step =  200 , loss_val =  0.00011963064\n",
      "epochs =  14 , step =  300 , loss_val =  2.5420482e-05\n",
      "epochs =  14 , step =  400 , loss_val =  0.009056438\n",
      "epochs =  14 , step =  500 , loss_val =  0.0141294645\n",
      "epochs =  15 , step =  0 , loss_val =  0.00074260356\n",
      "epochs =  15 , step =  100 , loss_val =  0.010620312\n",
      "epochs =  15 , step =  200 , loss_val =  0.009666803\n",
      "epochs =  15 , step =  300 , loss_val =  0.011684627\n",
      "epochs =  15 , step =  400 , loss_val =  5.3597138e-05\n",
      "epochs =  15 , step =  500 , loss_val =  0.00054974156\n",
      "epochs =  16 , step =  0 , loss_val =  0.0029749053\n",
      "epochs =  16 , step =  100 , loss_val =  5.2726115e-05\n",
      "epochs =  16 , step =  200 , loss_val =  0.002297037\n",
      "epochs =  16 , step =  300 , loss_val =  0.0010684639\n",
      "epochs =  16 , step =  400 , loss_val =  0.005588711\n",
      "epochs =  16 , step =  500 , loss_val =  5.283373e-05\n",
      "epochs =  17 , step =  0 , loss_val =  1.8326135e-05\n",
      "epochs =  17 , step =  100 , loss_val =  1.177272e-05\n",
      "epochs =  17 , step =  200 , loss_val =  6.9169e-05\n",
      "epochs =  17 , step =  300 , loss_val =  0.00024385098\n",
      "epochs =  17 , step =  400 , loss_val =  9.813038e-06\n",
      "epochs =  17 , step =  500 , loss_val =  0.008638928\n",
      "epochs =  18 , step =  0 , loss_val =  0.0013538484\n",
      "epochs =  18 , step =  100 , loss_val =  0.00087175623\n",
      "epochs =  18 , step =  200 , loss_val =  0.0053644995\n",
      "epochs =  18 , step =  300 , loss_val =  0.00011844667\n",
      "epochs =  18 , step =  400 , loss_val =  8.13501e-05\n",
      "epochs =  18 , step =  500 , loss_val =  0.0005343124\n",
      "epochs =  19 , step =  0 , loss_val =  0.0009782086\n",
      "epochs =  19 , step =  100 , loss_val =  8.954796e-05\n",
      "epochs =  19 , step =  200 , loss_val =  0.0001345378\n",
      "epochs =  19 , step =  300 , loss_val =  0.01994955\n",
      "epochs =  19 , step =  400 , loss_val =  0.00022174536\n",
      "epochs =  19 , step =  500 , loss_val =  0.05446383\n",
      "epochs =  20 , step =  0 , loss_val =  0.00017245312\n",
      "epochs =  20 , step =  100 , loss_val =  1.460683e-05\n",
      "epochs =  20 , step =  200 , loss_val =  8.586096e-05\n",
      "epochs =  20 , step =  300 , loss_val =  0.026251195\n",
      "epochs =  20 , step =  400 , loss_val =  2.8842194e-05\n",
      "epochs =  20 , step =  500 , loss_val =  0.00014554475\n",
      "epochs =  21 , step =  0 , loss_val =  0.0003211128\n",
      "epochs =  21 , step =  100 , loss_val =  2.86146e-05\n",
      "epochs =  21 , step =  200 , loss_val =  8.848372e-05\n",
      "epochs =  21 , step =  300 , loss_val =  0.014308495\n",
      "epochs =  21 , step =  400 , loss_val =  2.7069766e-05\n",
      "epochs =  21 , step =  500 , loss_val =  0.004471127\n",
      "epochs =  22 , step =  0 , loss_val =  3.5166585e-07\n",
      "epochs =  22 , step =  100 , loss_val =  0.001736078\n",
      "epochs =  22 , step =  200 , loss_val =  0.0024319247\n",
      "epochs =  22 , step =  300 , loss_val =  0.00017526433\n",
      "epochs =  22 , step =  400 , loss_val =  0.031015811\n",
      "epochs =  22 , step =  500 , loss_val =  4.5451572e-05\n",
      "epochs =  23 , step =  0 , loss_val =  0.0013079847\n",
      "epochs =  23 , step =  100 , loss_val =  0.0005115824\n",
      "epochs =  23 , step =  200 , loss_val =  0.00016394338\n",
      "epochs =  23 , step =  300 , loss_val =  9.016678e-05\n",
      "epochs =  23 , step =  400 , loss_val =  0.01100335\n",
      "epochs =  23 , step =  500 , loss_val =  0.0002464754\n",
      "epochs =  24 , step =  0 , loss_val =  0.0001144301\n",
      "epochs =  24 , step =  100 , loss_val =  1.9218673e-05\n",
      "epochs =  24 , step =  200 , loss_val =  3.7015518e-05\n",
      "epochs =  24 , step =  300 , loss_val =  0.00026340422\n",
      "epochs =  24 , step =  400 , loss_val =  0.00016468763\n",
      "epochs =  24 , step =  500 , loss_val =  2.1399586e-05\n",
      "epochs =  25 , step =  0 , loss_val =  0.00010980255\n",
      "epochs =  25 , step =  100 , loss_val =  1.4517299e-05\n",
      "epochs =  25 , step =  200 , loss_val =  9.104022e-06\n",
      "epochs =  25 , step =  300 , loss_val =  4.2100117e-05\n",
      "epochs =  25 , step =  400 , loss_val =  0.000563354\n",
      "epochs =  25 , step =  500 , loss_val =  5.6436867e-05\n"
     ]
    },
    {
     "name": "stdout",
     "output_type": "stream",
     "text": [
      "epochs =  26 , step =  0 , loss_val =  0.00076248107\n",
      "epochs =  26 , step =  100 , loss_val =  1.6693819e-05\n",
      "epochs =  26 , step =  200 , loss_val =  3.125891e-05\n",
      "epochs =  26 , step =  300 , loss_val =  0.0012818887\n",
      "epochs =  26 , step =  400 , loss_val =  4.16729e-06\n",
      "epochs =  26 , step =  500 , loss_val =  0.0006491989\n",
      "epochs =  27 , step =  0 , loss_val =  0.0007726215\n",
      "epochs =  27 , step =  100 , loss_val =  0.00033478302\n",
      "epochs =  27 , step =  200 , loss_val =  3.528582e-07\n",
      "epochs =  27 , step =  300 , loss_val =  1.0488522e-05\n",
      "epochs =  27 , step =  400 , loss_val =  2.1651764e-05\n",
      "epochs =  27 , step =  500 , loss_val =  6.760452e-05\n",
      "epochs =  28 , step =  0 , loss_val =  0.0022396094\n",
      "epochs =  28 , step =  100 , loss_val =  5.773193e-06\n",
      "epochs =  28 , step =  200 , loss_val =  0.0010005046\n",
      "epochs =  28 , step =  300 , loss_val =  7.249549e-05\n",
      "epochs =  28 , step =  400 , loss_val =  0.0029843256\n",
      "epochs =  28 , step =  500 , loss_val =  0.013192865\n",
      "epochs =  29 , step =  0 , loss_val =  1.4347894e-05\n",
      "epochs =  29 , step =  100 , loss_val =  0.000159612\n",
      "epochs =  29 , step =  200 , loss_val =  0.01632241\n",
      "epochs =  29 , step =  300 , loss_val =  7.246938e-05\n",
      "epochs =  29 , step =  400 , loss_val =  0.0015887847\n",
      "epochs =  29 , step =  500 , loss_val =  0.0010467658\n",
      "\n",
      "elapsed time =  0:02:09.962139\n",
      "\n",
      "Accuracy =  0.9925\n",
      "type(accuracy_val) =  <class 'numpy.float32'> , type(predicted_list_val) =  <class 'numpy.ndarray'> , type(index_label) =  <class 'numpy.ndarray'>\n",
      "index_label.shape =  (10000,)\n",
      "length of index_label_list =  10000\n",
      "false label count =  75\n",
      "W2_val.shape =  (5, 5, 1, 32) , W3_val.shape =  (5, 5, 32, 64) , W4_val.shape =  (5, 5, 64, 128)\n",
      "C2_val.shape =  (10000, 28, 28, 32) , C3_val.shape =  (10000, 14, 14, 64) , C4_val.shape =  (10000, 7, 7, 128)\n",
      "\n",
      "length of index_label_false_list 75\n"
     ]
    },
    {
     "data": {
      "image/png": "[encoded data removed]",
      "text/plain": [
       "<Figure size 432x288 with 1 Axes>"
      ]
     },
     "metadata": {
      "needs_background": "light"
     },
     "output_type": "display_data"
    }
   ],
   "source": [
    "index_label_prediction_list = []\n",
    "\n",
    "with  tf.Session()  as sess:\n",
    "    \n",
    "    sess.run(tf.global_variables_initializer())  # 변수 노드(tf.Variable) 초기화\n",
    "    \n",
    "    start_time = datetime.now()\n",
    "    \n",
    "    for i in range(epochs):    # 30 번 반복수행\n",
    "        \n",
    "        total_batch = int(mnist.train.num_examples / batch_size)  # 55,000 / 100\n",
    "\n",
    "        for step in range(total_batch):\n",
    "            \n",
    "            batch_x_data, batch_t_data = mnist.train.next_batch(batch_size)\n",
    "      \n",
    "            loss_val, _ = sess.run([loss, train], feed_dict={X: batch_x_data, T: batch_t_data})    \n",
    "        \n",
    "            if step % 100 == 0:\n",
    "                print(\"epochs = \", i, \", step = \", step, \", loss_val = \", loss_val)             \n",
    "    \n",
    "    end_time = datetime.now() \n",
    "    \n",
    "    print(\"\\nelapsed time = \", end_time - start_time) \n",
    "    \n",
    "    # Accuracy 확인\n",
    "    test_x_data = mnist.test.images    # 10000 X 784\n",
    "    test_t_data = mnist.test.labels    # 10000 X 10\n",
    "    \n",
    "    accuracy_val, predicted_list_val, index_label = sess.run([accuracy, predicted_list, accuracy_index], feed_dict={X: test_x_data, T: test_t_data})\n",
    "    \n",
    "    W2_val, W3_val, W4_val = sess.run([W2, W3, W4], feed_dict={X: test_x_data, T: test_t_data})\n",
    "    C2_val, C3_val, C4_val = sess.run([C2, C3, C4], feed_dict={X: test_x_data, T: test_t_data})\n",
    "    \n",
    "    print(\"\\nAccuracy = \", accuracy_val)\n",
    "    print(\"type(accuracy_val) = \", type(accuracy_val), ', type(predicted_list_val) = ', type(predicted_list_val), ', type(index_label) = ', type(index_label))\n",
    "    print(\"index_label.shape = \", index_label.shape)\n",
    "    \n",
    "    index_label_list = list(index_label)\n",
    "    print(\"length of index_label_list = \", len(index_label_list))\n",
    "    print(\"false label count = \", index_label_list.count([0]))\n",
    "    \n",
    "    print('W2_val.shape = ', W2_val.shape, ', W3_val.shape = ', W3_val.shape, ', W4_val.shape = ', W4_val.shape)\n",
    "    print('C2_val.shape = ', C2_val.shape, ', C3_val.shape = ', C3_val.shape, ', C4_val.shape = ', C4_val.shape)\n",
    "        \n",
    "    plt.imshow(C2_val[0, :, :, 12]) # C2에서 0번째 index image의 12번째 filter에 의한 그림 출력 (filter는 32개 있음)\n",
    "    \n",
    "    # numpy type 으로 디버그\n",
    "    temp_list = [] \n",
    "    \n",
    "    for index in range(len(index_label)):\n",
    "        \n",
    "        if index_label[index] == 0:\n",
    "            \n",
    "            temp_list.append(index)\n",
    "            temp_list.append(np.argmax(test_t_data[index]))  # one-hot encoding 이므로 argmax 로 정답 추출\n",
    "            temp_list.append(predicted_list_val[index])\n",
    "            \n",
    "            index_label_prediction_list.append(temp_list)\n",
    "            \n",
    "            temp_list = []\n",
    "            \n",
    "    print(\"\\nlength of index_label_false_list\", len(index_label_prediction_list))"
   ]
  },
  {
   "cell_type": "code",
   "execution_count": 13,
   "metadata": {},
   "outputs": [
    {
     "data": {
      "text/plain": [
       "<matplotlib.image.AxesImage at 0x282422b08c8>"
      ]
     },
     "execution_count": 13,
     "metadata": {},
     "output_type": "execute_result"
    },
    {
     "data": {
      "image/png": "[encoded data removed]",
      "text/plain": [
       "<Figure size 432x288 with 1 Axes>"
      ]
     },
     "metadata": {
      "needs_background": "light"
     },
     "output_type": "display_data"
    }
   ],
   "source": [
    "plt.imshow(test_x_data[0].reshape(28, 28))"
   ]
  },
  {
   "cell_type": "code",
   "execution_count": 14,
   "metadata": {},
   "outputs": [
    {
     "name": "stdout",
     "output_type": "stream",
     "text": [
      "[[115, 4, 9], [247, 4, 2], [340, 5, 3], [448, 9, 3], [582, 8, 2], [646, 2, 6], [659, 2, 1], [936, 8, 6], [947, 8, 9], [1014, 6, 5], [1033, 8, 1], [1112, 4, 6], [1128, 3, 7], [1232, 9, 4], [1260, 7, 1], [1393, 5, 3], [1414, 9, 7], [1554, 9, 7], [1901, 9, 8], [2035, 5, 3], [2043, 4, 8], [2109, 3, 2], [2118, 6, 0], [2130, 4, 9], [2135, 6, 1], [2293, 9, 4], [2387, 9, 1], [2414, 9, 4], [2462, 2, 0], [2582, 9, 7], [2597, 5, 3], [2654, 6, 1], [2678, 4, 9], [2720, 9, 8], [2896, 8, 0], [2939, 9, 5], [2953, 3, 5], [3225, 7, 9], [3343, 8, 2], [3422, 6, 0], [3475, 3, 7], [3520, 6, 4], [3558, 5, 0], [3808, 7, 2], [4163, 9, 7], [4176, 2, 7], [4207, 8, 2], [4497, 8, 2], [4500, 9, 1], [4504, 2, 7], [4699, 6, 1], [4731, 8, 7], [4823, 9, 4], [4860, 4, 9], [4874, 9, 0], [5654, 7, 2], [5655, 7, 2], [5937, 5, 3], [5955, 3, 8], [5997, 5, 9], [6166, 9, 5], [6173, 9, 8], [6576, 7, 1], [6597, 0, 7], [8065, 8, 0], [8520, 4, 9], [8527, 4, 9], [9505, 7, 2], [9619, 8, 2], [9642, 9, 7], [9664, 2, 7], [9669, 4, 1], [9700, 2, 8], [9729, 5, 6], [9792, 4, 9]]\n"
     ]
    }
   ],
   "source": [
    "# index_label_prediction_list\n",
    "print(index_label_prediction_list)"
   ]
  },
  {
   "cell_type": "code",
   "execution_count": null,
   "metadata": {
    "collapsed": true
   },
   "outputs": [],
   "source": []
  }
 ],
 "metadata": {
  "anaconda-cloud": {},
  "kernelspec": {
   "display_name": "Python 3",
   "language": "python",
   "name": "python3"
  },
  "language_info": {
   "codemirror_mode": {
    "name": "ipython",
    "version": 3
   },
   "file_extension": ".py",
   "mimetype": "text/x-python",
   "name": "python",
   "nbconvert_exporter": "python",
   "pygments_lexer": "ipython3",
   "version": "3.7.4"
  }
 },
 "nbformat": 4,
 "nbformat_minor": 1
}

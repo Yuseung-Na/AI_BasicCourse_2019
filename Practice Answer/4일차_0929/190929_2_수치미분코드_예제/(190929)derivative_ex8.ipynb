{
 "cells": [
  {
   "cell_type": "code",
   "execution_count": 1,
   "metadata": {},
   "outputs": [],
   "source": [
    "import numpy as np\n",
    "\n",
    "def numerical_derivative(f, x):    # 수치미분 debug version\n",
    "    delta_x = 1e-4 \n",
    "    grad = np.zeros_like(x)\n",
    "    \n",
    "    print('debug 0. type(grad) = ', type(grad))\n",
    "    print(\"debug 1. initial input variable =\", x)   \n",
    "    print(\"debug 2. initial grad =\", grad) \n",
    "    print(\"=======================================\")\n",
    "    \n",
    "    it = np.nditer(x, flags=['multi_index'], op_flags=['readwrite'])\n",
    "    \n",
    "    while not it.finished:\n",
    "        idx = it.multi_index\n",
    "        \n",
    "        print(\"debug 3. idx = \", idx, \", x[idx] = \", x[idx])   \n",
    "        \n",
    "        tmp_val = x[idx]\n",
    "        x[idx] = float(tmp_val) + delta_x\n",
    "        \n",
    "        print(\"debug 4. x[idx] = \", x[idx])\n",
    "        \n",
    "        fx1 = f(x)   # f(x+delta_x)\n",
    "        \n",
    "        print(\"debug 5. fx1 = \", fx1)\n",
    "        \n",
    "        x[idx] = tmp_val - delta_x \n",
    "        \n",
    "        print(\"debug 6. x[idx] = \", x[idx])\n",
    "        \n",
    "        fx2 = f(x)   # f(x-delta_x)\n",
    "        \n",
    "        print(\"debug 7. fx2 = \", fx2)\n",
    "        \n",
    "        grad[idx] = (fx1 - fx2) / (2*delta_x)\n",
    "        \n",
    "        print('debug 8. grad[idx] = ', grad[idx])\n",
    "        print(\"debug 9. grad = \", grad) \n",
    "        print(\"=======================================\")\n",
    "        \n",
    "        x[idx] = tmp_val\n",
    "        it.iternext()   \n",
    "        \n",
    "    return grad"
   ]
  },
  {
   "cell_type": "markdown",
   "metadata": {},
   "source": [
    "#### 입력데이터가 실수가 아닌 정수인 경우 결과 확인"
   ]
  },
  {
   "cell_type": "code",
   "execution_count": 2,
   "metadata": {},
   "outputs": [
    {
     "name": "stdout",
     "output_type": "stream",
     "text": [
      "debug 0. type(grad) =  <class 'numpy.ndarray'>\n",
      "debug 1. initial input variable = [3]\n",
      "debug 2. initial grad = [0]\n",
      "=======================================\n",
      "debug 3. idx =  (0,) , x[idx] =  3\n",
      "debug 4. x[idx] =  3\n",
      "debug 5. fx1 =  9\n",
      "debug 6. x[idx] =  2\n",
      "debug 7. fx2 =  4\n",
      "debug 8. grad[idx] =  25000\n",
      "debug 9. grad =  [25000]\n",
      "=======================================\n"
     ]
    },
    {
     "data": {
      "text/plain": [
       "array([25000])"
      ]
     },
     "execution_count": 2,
     "metadata": {},
     "output_type": "execute_result"
    }
   ],
   "source": [
    "# 입력변수 1 개인 함수 f(x) = x**2\n",
    "def func1(W):    \n",
    "    \n",
    "    x = W[0]\n",
    "    \n",
    "    return  x**2  \n",
    "\n",
    "f = lambda W : func1(W)\n",
    "\n",
    "# 실수가 아닌 정수값 3을 입력하는 경우 예제\n",
    "W = np.array([3])\n",
    "\n",
    "# x = 3 에서의 편미분 값\n",
    "numerical_derivative( f, W ) "
   ]
  },
  {
   "cell_type": "markdown",
   "metadata": {},
   "source": [
    "#### 입력데이터가 실수인 경우 결과 확인"
   ]
  },
  {
   "cell_type": "code",
   "execution_count": 3,
   "metadata": {},
   "outputs": [
    {
     "name": "stdout",
     "output_type": "stream",
     "text": [
      "debug 0. type(grad) =  <class 'numpy.ndarray'>\n",
      "debug 1. initial input variable = [3.]\n",
      "debug 2. initial grad = [0.]\n",
      "=======================================\n",
      "debug 3. idx =  (0,) , x[idx] =  3.0\n",
      "debug 4. x[idx] =  3.0001\n",
      "debug 5. fx1 =  9.000600010000001\n",
      "debug 6. x[idx] =  2.9999\n",
      "debug 7. fx2 =  8.999400009999999\n",
      "debug 8. grad[idx] =  6.000000000012662\n",
      "debug 9. grad =  [6.]\n",
      "=======================================\n"
     ]
    },
    {
     "data": {
      "text/plain": [
       "array([6.])"
      ]
     },
     "execution_count": 3,
     "metadata": {},
     "output_type": "execute_result"
    }
   ],
   "source": [
    "# 입력변수 1 개인 함수 f(x) = x**2\n",
    "def func1(W):    \n",
    "    \n",
    "    x = W[0]\n",
    "    \n",
    "    return  x**2  \n",
    "\n",
    "f = lambda W : func1(W)\n",
    "\n",
    "# 실수값 3.0을 입력하는 경우 예제\n",
    "W = np.array([3.0])\n",
    "\n",
    "# x = 3.0 에서의 편미분 값\n",
    "numerical_derivative( f, W ) "
   ]
  },
  {
   "cell_type": "code",
   "execution_count": null,
   "metadata": {},
   "outputs": [],
   "source": []
  }
 ],
 "metadata": {
  "anaconda-cloud": {},
  "kernelspec": {
   "display_name": "Python 3",
   "language": "python",
   "name": "python3"
  },
  "language_info": {
   "codemirror_mode": {
    "name": "ipython",
    "version": 3
   },
   "file_extension": ".py",
   "mimetype": "text/x-python",
   "name": "python",
   "nbconvert_exporter": "python",
   "pygments_lexer": "ipython3",
   "version": "3.7.4"
  }
 },
 "nbformat": 4,
 "nbformat_minor": 1
}

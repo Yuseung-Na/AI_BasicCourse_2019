{
 "cells": [
  {
   "cell_type": "markdown",
   "metadata": {},
   "source": [
    "### 4개의 입력데이터 연산 (A1-A2+A3-A4) 예측하는 Linear Regression 예제"
   ]
  },
  {
   "cell_type": "code",
   "execution_count": 1,
   "metadata": {},
   "outputs": [],
   "source": [
    "import numpy as np\n",
    "from datetime import datetime\n",
    "\n",
    "def numerical_derivative(f, x):\n",
    "    delta_x = 1e-4 # 0.0001\n",
    "    grad = np.zeros_like(x)\n",
    "    \n",
    "    it = np.nditer(x, flags=['multi_index'], op_flags=['readwrite'])\n",
    "    \n",
    "    while not it.finished:\n",
    "        idx = it.multi_index        \n",
    "        tmp_val = x[idx]\n",
    "        x[idx] = float(tmp_val) + delta_x\n",
    "        fx1 = f(x) # f(x+delta_x)\n",
    "        \n",
    "        x[idx] = tmp_val - delta_x \n",
    "        fx2 = f(x) # f(x-delta_x)\n",
    "        grad[idx] = (fx1 - fx2) / (2*delta_x)\n",
    "        \n",
    "        x[idx] = tmp_val \n",
    "        it.iternext()   \n",
    "        \n",
    "    return grad"
   ]
  },
  {
   "cell_type": "code",
   "execution_count": 2,
   "metadata": {},
   "outputs": [
    {
     "name": "stdout",
     "output_type": "stream",
     "text": [
      "loaded_data.ndim =  2 , loaded_data.shape =  (50, 5)\n",
      "x_data.ndim =  2 , x_data.shape =  (50, 4)\n",
      "t_data.ndim =  2 , t_data.shape =  (50, 1)\n"
     ]
    }
   ],
   "source": [
    "loaded_data = np.loadtxt('./(191020)regression_testdata.csv', delimiter=',', dtype=np.float32)\n",
    "\n",
    "x_data = loaded_data[ :, 1: ]\n",
    "t_data = loaded_data[ :, [0] ]\n",
    "\n",
    "# 데이터 차원 및 shape 확인\n",
    "print(\"loaded_data.ndim = \", loaded_data.ndim, \", loaded_data.shape = \", loaded_data.shape)\n",
    "print(\"x_data.ndim = \", x_data.ndim, \", x_data.shape = \", x_data.shape)\n",
    "print(\"t_data.ndim = \", t_data.ndim, \", t_data.shape = \", t_data.shape) "
   ]
  },
  {
   "cell_type": "code",
   "execution_count": 3,
   "metadata": {},
   "outputs": [
    {
     "name": "stdout",
     "output_type": "stream",
     "text": [
      "W =  [[0.42928712]\n",
      " [0.04117823]\n",
      " [0.69328761]\n",
      " [0.73218197]] , W.shape =  (4, 1) , b =  [0.35380793] , b.shape =  (1,)\n"
     ]
    }
   ],
   "source": [
    "W = np.random.rand(4,1)  # 4X1 행렬\n",
    "b = np.random.rand(1)  \n",
    "print(\"W = \", W, \", W.shape = \", W.shape, \", b = \", b, \", b.shape = \", b.shape)"
   ]
  },
  {
   "cell_type": "code",
   "execution_count": 4,
   "metadata": {},
   "outputs": [],
   "source": [
    "def loss_func(x, t):\n",
    "    y = np.dot(x,W) + b\n",
    "    \n",
    "    return ( np.sum( (t - y)**2 ) ) / ( len(x) )"
   ]
  },
  {
   "cell_type": "code",
   "execution_count": 5,
   "metadata": {},
   "outputs": [],
   "source": [
    "# 손실함수 값 계산 함수\n",
    "# 입력변수 x, t : numpy type\n",
    "def loss_val(x, t):\n",
    "    y = np.dot(x,W) + b\n",
    "    \n",
    "    return ( np.sum( (t - y)**2 ) ) / ( len(x) )\n",
    "\n",
    "# 학습을 마친 후, 임의의 데이터에 대해 미래 값 예측 함수\n",
    "# 입력변수 x : numpy type\n",
    "def predict(x):\n",
    "    y = np.dot(x,W) + b\n",
    "    \n",
    "    return y"
   ]
  },
  {
   "cell_type": "code",
   "execution_count": 6,
   "metadata": {},
   "outputs": [
    {
     "name": "stdout",
     "output_type": "stream",
     "text": [
      "Initial loss value =  50.25088009744207 Initial W =  [[0.42928712]\n",
      " [0.04117823]\n",
      " [0.69328761]\n",
      " [0.73218197]] \n",
      " , b =  [0.35380793]\n",
      "step =  0 loss value =  50.219180200106976\n",
      "step =  5000 loss value =  6.36275682284012\n",
      "step =  10000 loss value =  1.3088856413973486\n",
      "step =  15000 loss value =  0.2929025840762926\n",
      "step =  20000 loss value =  0.07936464253111465\n",
      "step =  25000 loss value =  0.03222600282579771\n",
      "step =  30000 loss value =  0.020517842587399283\n",
      "step =  35000 loss value =  0.016602859278447343\n",
      "step =  40000 loss value =  0.01452682916336381\n",
      "step =  45000 loss value =  0.012978214814831973\n",
      "step =  50000 loss value =  0.011655888080270842\n",
      "step =  55000 loss value =  0.010482057386522338\n",
      "step =  60000 loss value =  0.009429531471377688\n",
      "step =  65000 loss value =  0.008483387144577678\n",
      "step =  70000 loss value =  0.007632334005985837\n",
      "step =  75000 loss value =  0.006866693794222234\n",
      "step =  80000 loss value =  0.006177867013026825\n",
      "step =  85000 loss value =  0.0055581411291982605\n",
      "step =  90000 loss value =  0.005000582768523662\n",
      "step =  95000 loss value =  0.004498955308676326\n",
      "step =  100000 loss value =  0.004047648026666751\n",
      "step =  105000 loss value =  0.0036416130958518366\n",
      "step =  110000 loss value =  0.0032763090706402127\n",
      "step =  115000 loss value =  0.0029476500783699607\n",
      "step =  120000 loss value =  0.0026519601165268174\n",
      "step =  125000 loss value =  0.0023859319365341332\n",
      "step =  130000 loss value =  0.0021465900525104355\n",
      "step =  135000 loss value =  0.0019312574608627547\n",
      "step =  140000 loss value =  0.0017375256983876014\n",
      "step =  145000 loss value =  0.0015632279039633568\n",
      "step =  150000 loss value =  0.0014064145825282586\n",
      "step =  155000 loss value =  0.0012653318002661565\n",
      "step =  160000 loss value =  0.0011384015671159267\n",
      "step =  165000 loss value =  0.001024204187185922\n",
      "step =  170000 loss value =  0.0009214623796650757\n",
      "step =  175000 loss value =  0.0008290269926263314\n",
      "step =  180000 loss value =  0.0007458641499318707\n",
      "step =  185000 loss value =  0.0006710436874813846\n",
      "step =  190000 loss value =  0.0006037287494642877\n",
      "step =  195000 loss value =  0.0005431664282510848\n",
      "step =  200000 loss value =  0.0004886793432329118\n",
      "step =  205000 loss value =  0.0004396580644195498\n",
      "step =  210000 loss value =  0.0003955542960550454\n",
      "step =  215000 loss value =  0.0003558747440108743\n",
      "step =  220000 loss value =  0.00032017559836381376\n",
      "step =  225000 loss value =  0.0002880575694477915\n",
      "step =  230000 loss value =  0.00025916142185789713\n",
      "step =  235000 loss value =  0.0002331639564554845\n",
      "step =  240000 loss value =  0.00020977439543372938\n",
      "step =  245000 loss value =  0.0001887311300105905\n",
      "step =  250000 loss value =  0.00016979879437347794\n",
      "step =  255000 loss value =  0.00015276563314737558\n",
      "step =  260000 loss value =  0.00013744113294223936\n",
      "step =  265000 loss value =  0.0001236538914889671\n",
      "step =  270000 loss value =  0.00011124970053026222\n",
      "step =  275000 loss value =  0.00010008982102416807\n",
      "step =  280000 loss value =  9.004943136835596e-05\n",
      "step =  285000 loss value =  8.101623128897456e-05\n",
      "step =  290000 loss value =  7.288918577861053e-05\n",
      "step =  295000 loss value =  6.557739503482165e-05\n",
      "step =  300000 loss value =  5.899907775915042e-05\n",
      "step =  305000 loss value =  5.308065644543561e-05\n",
      "step =  310000 loss value =  4.7755934426301526e-05\n",
      "step =  315000 loss value =  4.2965355473208845e-05\n",
      "step =  320000 loss value =  3.8655337668835955e-05\n",
      "step =  325000 loss value =  3.477767410124659e-05\n",
      "step =  330000 loss value =  3.1288993676741106e-05\n",
      "step =  335000 loss value =  2.8150276020556712e-05\n",
      "step =  340000 loss value =  2.5326415039761312e-05\n",
      "step =  345000 loss value =  2.278582626677896e-05\n",
      "step =  350000 loss value =  2.0500093591795996e-05\n",
      "step =  355000 loss value =  1.844365143277916e-05\n",
      "step =  360000 loss value =  1.659349878822287e-05\n",
      "step =  365000 loss value =  1.4928941974323428e-05\n",
      "step =  370000 loss value =  1.343136316923218e-05\n",
      "step =  375000 loss value =  1.2084012175412927e-05\n",
      "step =  380000 loss value =  1.0871819071211312e-05\n",
      "step =  385000 loss value =  9.781225655962969e-06\n",
      "step =  390000 loss value =  8.800033803562853e-06\n",
      "step =  395000 loss value =  7.917269028201015e-06\n",
      "step =  400000 loss value =  7.123057736385457e-06\n",
      "step =  405000 loss value =  6.408516792236348e-06\n",
      "step =  410000 loss value =  5.765654160937526e-06\n",
      "step =  415000 loss value =  5.187279518996269e-06\n",
      "step =  420000 loss value =  4.666923831558387e-06\n",
      "step =  425000 loss value =  4.198766997193242e-06\n",
      "step =  430000 loss value =  3.777572750919626e-06\n",
      "step =  435000 loss value =  3.3986300973701684e-06\n",
      "step =  440000 loss value =  3.0577006189835576e-06\n",
      "step =  445000 loss value =  2.7509710699508622e-06\n",
      "step =  450000 loss value =  2.4750107256168715e-06\n",
      "step =  455000 loss value =  2.2267330103291997e-06\n",
      "step =  460000 loss value =  2.003360974548859e-06\n",
      "step =  465000 loss value =  1.802396235079203e-06\n",
      "step =  470000 loss value =  1.6215910310226423e-06\n",
      "step =  475000 loss value =  1.4589230829021947e-06\n",
      "step =  480000 loss value =  1.3125729737668308e-06\n",
      "step =  485000 loss value =  1.1809037992849441e-06\n",
      "step =  490000 loss value =  1.062442859206418e-06\n",
      "step =  495000 loss value =  9.5586518543007e-07\n",
      "step =  500000 loss value =  8.59978722432597e-07\n",
      "\n",
      "Elapsed Time =>  0:00:55.425532\n"
     ]
    }
   ],
   "source": [
    "learning_rate = 1e-5  # 1e-2, 1e-3 은 손실함수 값 발산\n",
    "\n",
    "f = lambda x : loss_func(x_data,t_data)\n",
    "\n",
    "print(\"Initial loss value = \", loss_val(x_data, t_data), \"Initial W = \", W, \"\\n\", \", b = \", b )\n",
    "\n",
    "start_time = datetime.now()\n",
    "\n",
    "for step in  range(500001):    # 50만번 반복수행\n",
    "    \n",
    "    W -= learning_rate * numerical_derivative(f, W)\n",
    "    \n",
    "    b -= learning_rate * numerical_derivative(f, b)\n",
    "    \n",
    "    if (step % 5000 == 0):\n",
    "        print(\"step = \", step, \"loss value = \", loss_val(x_data, t_data) )\n",
    "        \n",
    "end_time = datetime.now()\n",
    "        \n",
    "print(\"\")\n",
    "print(\"Elapsed Time => \", end_time - start_time)"
   ]
  },
  {
   "cell_type": "code",
   "execution_count": 7,
   "metadata": {},
   "outputs": [
    {
     "name": "stdout",
     "output_type": "stream",
     "text": [
      "predicted value =  [-0.00013351]\n"
     ]
    }
   ],
   "source": [
    "ex_data_01 = np.array([4, 4, 4, 4])    #  4 - 4 + 4 - 4 = 0\n",
    "\n",
    "print(\"predicted value = \", predict(ex_data_01) ) "
   ]
  },
  {
   "cell_type": "code",
   "execution_count": 8,
   "metadata": {},
   "outputs": [
    {
     "name": "stdout",
     "output_type": "stream",
     "text": [
      "predicted value =  [7.00161707]\n"
     ]
    }
   ],
   "source": [
    "ex_data_02 = np.array([-3, 0, 9, -1])    #  -3 -0 +9 -(-1) = 7\n",
    "\n",
    "print(\"predicted value = \", predict(ex_data_02) ) "
   ]
  },
  {
   "cell_type": "code",
   "execution_count": 9,
   "metadata": {},
   "outputs": [
    {
     "name": "stdout",
     "output_type": "stream",
     "text": [
      "predicted value =  [-7.99683174]\n"
     ]
    }
   ],
   "source": [
    "ex_data_03 = np.array([-7, -9, -2, 8])   # -7 -(-9) + (-2) -8 = -8\n",
    "\n",
    "print(\"predicted value = \", predict(ex_data_03) ) "
   ]
  },
  {
   "cell_type": "code",
   "execution_count": 10,
   "metadata": {},
   "outputs": [
    {
     "name": "stdout",
     "output_type": "stream",
     "text": [
      "predicted value =  [8.00140918]\n"
     ]
    }
   ],
   "source": [
    "ex_data_04 = np.array([1, -2, 3, -2])   # 1 -(-2) + 3 -(-2) = 8\n",
    "\n",
    "print(\"predicted value = \", predict(ex_data_04) ) "
   ]
  },
  {
   "cell_type": "code",
   "execution_count": 11,
   "metadata": {},
   "outputs": [
    {
     "name": "stdout",
     "output_type": "stream",
     "text": [
      "predicted value =  [107.00346406]\n"
     ]
    }
   ],
   "source": [
    "ex_data_05 = np.array([19, -12, 0, -76])   # 19 -(-12) + 0 -(-76) = 107\n",
    "\n",
    "print(\"predicted value = \", predict(ex_data_05) ) "
   ]
  },
  {
   "cell_type": "code",
   "execution_count": 12,
   "metadata": {},
   "outputs": [
    {
     "name": "stdout",
     "output_type": "stream",
     "text": [
      "predicted value =  [2079.69003515]\n"
     ]
    }
   ],
   "source": [
    "ex_data_06 = np.array([2001, -1, 109, 31])   # 2001 -(-1) + 109 -(31) = 2080\n",
    "\n",
    "print(\"predicted value = \", predict(ex_data_06) ) "
   ]
  },
  {
   "cell_type": "code",
   "execution_count": 13,
   "metadata": {},
   "outputs": [
    {
     "name": "stdout",
     "output_type": "stream",
     "text": [
      "predicted value =  [11038.31853207]\n"
     ]
    }
   ],
   "source": [
    "ex_data_07 = np.array([11000, -100, -10, 50])   # 11000 -(-100) - 10 -(50) = 11040\n",
    "\n",
    "print(\"predicted value = \", predict(ex_data_07) ) "
   ]
  },
  {
   "cell_type": "code",
   "execution_count": 14,
   "metadata": {},
   "outputs": [
    {
     "name": "stdout",
     "output_type": "stream",
     "text": [
      "predicted value =  [89971.24426192]\n"
     ]
    }
   ],
   "source": [
    "ex_data_08 = np.array([200000, -10000, -100000, 20000])   \n",
    "\n",
    "print(\"predicted value = \", predict(ex_data_08) ) "
   ]
  },
  {
   "cell_type": "code",
   "execution_count": 15,
   "metadata": {},
   "outputs": [
    {
     "name": "stdout",
     "output_type": "stream",
     "text": [
      "predicted value =  [0.00125853]\n"
     ]
    }
   ],
   "source": [
    "ex_data_09 = np.array([0, 0, 0, 0])   \n",
    "\n",
    "print(\"predicted value = \", predict(ex_data_09) ) "
   ]
  },
  {
   "cell_type": "code",
   "execution_count": null,
   "metadata": {},
   "outputs": [],
   "source": []
  }
 ],
 "metadata": {
  "anaconda-cloud": {},
  "kernelspec": {
   "display_name": "Python 3",
   "language": "python",
   "name": "python3"
  },
  "language_info": {
   "codemirror_mode": {
    "name": "ipython",
    "version": 3
   },
   "file_extension": ".py",
   "mimetype": "text/x-python",
   "name": "python",
   "nbconvert_exporter": "python",
   "pygments_lexer": "ipython3",
   "version": "3.7.4"
  }
 },
 "nbformat": 4,
 "nbformat_minor": 1
}

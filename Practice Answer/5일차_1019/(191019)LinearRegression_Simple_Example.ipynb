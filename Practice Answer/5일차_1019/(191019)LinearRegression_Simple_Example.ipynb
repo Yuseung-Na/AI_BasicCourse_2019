{
 "cells": [
  {
   "cell_type": "code",
   "execution_count": 14,
   "metadata": {},
   "outputs": [],
   "source": [
    "import numpy as np\n",
    "\n",
    "def numerical_derivative(f, x):\n",
    "    delta_x = 1e-4 # 0.0001\n",
    "    grad = np.zeros_like(x)\n",
    "    \n",
    "    it = np.nditer(x, flags=['multi_index'], op_flags=['readwrite'])\n",
    "    \n",
    "    while not it.finished:\n",
    "        idx = it.multi_index        \n",
    "        tmp_val = x[idx]\n",
    "        x[idx] = float(tmp_val) + delta_x\n",
    "        fx1 = f(x) # f(x+delta_x)\n",
    "        \n",
    "        x[idx] = tmp_val - delta_x \n",
    "        fx2 = f(x) # f(x-delta_x)\n",
    "        grad[idx] = (fx1 - fx2) / (2*delta_x)\n",
    "        \n",
    "        x[idx] = tmp_val \n",
    "        it.iternext()   \n",
    "        \n",
    "    return grad"
   ]
  },
  {
   "cell_type": "code",
   "execution_count": 15,
   "metadata": {},
   "outputs": [
    {
     "name": "stdout",
     "output_type": "stream",
     "text": [
      "x_data.shape =  (5, 1) , t_data.shape =  (5, 1)\n"
     ]
    }
   ],
   "source": [
    "x_data = np.array([1, 2, 3, 4, 5]).reshape(5,1)\n",
    "t_data = np.array([2, 3, 4, 5, 6]).reshape(5,1) \n",
    "\n",
    "print(\"x_data.shape = \", x_data.shape, \", t_data.shape = \", t_data.shape)"
   ]
  },
  {
   "cell_type": "code",
   "execution_count": 16,
   "metadata": {},
   "outputs": [
    {
     "name": "stdout",
     "output_type": "stream",
     "text": [
      "W =  [[0.37257747]] , W.shape =  (1, 1) , b =  [0.72924952] , b.shape =  (1,)\n"
     ]
    }
   ],
   "source": [
    "W = np.random.rand(1,1)  \n",
    "b = np.random.rand(1)  \n",
    "print(\"W = \", W, \", W.shape = \", W.shape, \", b = \", b, \", b.shape = \", b.shape)"
   ]
  },
  {
   "cell_type": "code",
   "execution_count": 17,
   "metadata": {},
   "outputs": [],
   "source": [
    "def loss_func(x, t):\n",
    "    y = np.dot(x,W) + b\n",
    "    \n",
    "    return ( np.sum( (t - y)**2 ) ) / ( len(x) )"
   ]
  },
  {
   "cell_type": "code",
   "execution_count": 18,
   "metadata": {},
   "outputs": [],
   "source": [
    "# 손실함수 값 계산 함수\n",
    "# 입력변수 x, t : numpy type\n",
    "def loss_val(x, t):\n",
    "    y = np.dot(x,W) + b\n",
    "    \n",
    "    return ( np.sum( (t - y)**2 ) ) / ( len(x) )\n",
    "\n",
    "\n",
    "# 학습을 마친 후, 임의의 데이터에 대해 미래 값 예측 함수\n",
    "# 입력변수 x : numpy type\n",
    "\n",
    "def predict(x):\n",
    "    y = np.dot(x,W) + b\n",
    "    \n",
    "    return y"
   ]
  },
  {
   "cell_type": "code",
   "execution_count": 19,
   "metadata": {},
   "outputs": [
    {
     "name": "stdout",
     "output_type": "stream",
     "text": [
      "Initial loss value =  5.422804815967058 Initial W =  [[0.37257747]] \n",
      " , b =  [0.72924952]\n",
      "step =  0 loss value =  3.191327621165588 W =  [[0.52685546]] , b =  [0.7630532]\n",
      "step =  400 loss value =  0.00018759404713705204 W =  [[1.00889419]] , b =  [0.96789702]\n",
      "step =  800 loss value =  1.1969609258254904e-05 W =  [[1.00224666]] , b =  [0.99189084]\n",
      "step =  1200 loss value =  7.637318346819109e-07 W =  [[1.0005675]] , b =  [0.99795164]\n",
      "step =  1600 loss value =  4.8730606214678464e-08 W =  [[1.00014335]] , b =  [0.99948259]\n",
      "step =  2000 loss value =  3.109300770522005e-09 W =  [[1.00003621]] , b =  [0.9998693]\n",
      "step =  2400 loss value =  1.9839177126214457e-10 W =  [[1.00000915]] , b =  [0.99996699]\n",
      "step =  2800 loss value =  1.2658567891418019e-11 W =  [[1.00000231]] , b =  [0.99999166]\n",
      "step =  3200 loss value =  8.076914690368212e-13 W =  [[1.00000058]] , b =  [0.99999789]\n",
      "step =  3600 loss value =  5.1535490799579195e-14 W =  [[1.00000015]] , b =  [0.99999947]\n",
      "step =  4000 loss value =  3.2882689742663675e-15 W =  [[1.00000004]] , b =  [0.99999987]\n",
      "step =  4400 loss value =  2.098110093640529e-16 W =  [[1.00000001]] , b =  [0.99999997]\n",
      "step =  4800 loss value =  1.3387183941754021e-17 W =  [[1.]] , b =  [0.99999999]\n",
      "step =  5200 loss value =  8.541819076790959e-19 W =  [[1.]] , b =  [1.]\n",
      "step =  5600 loss value =  5.450191190116667e-20 W =  [[1.]] , b =  [1.]\n",
      "step =  6000 loss value =  3.477540712800769e-21 W =  [[1.]] , b =  [1.]\n",
      "step =  6400 loss value =  2.218828742808624e-22 W =  [[1.]] , b =  [1.]\n",
      "step =  6800 loss value =  1.4158488907959824e-23 W =  [[1.]] , b =  [1.]\n",
      "step =  7200 loss value =  9.050226555278301e-25 W =  [[1.]] , b =  [1.]\n",
      "step =  7600 loss value =  5.793939788043845e-26 W =  [[1.]] , b =  [1.]\n",
      "step =  8000 loss value =  3.6928551125658615e-27 W =  [[1.]] , b =  [1.]\n"
     ]
    }
   ],
   "source": [
    "learning_rate = 1e-2\n",
    "\n",
    "f = lambda x : loss_func(x_data,t_data)\n",
    "\n",
    "print(\"Initial loss value = \", loss_val(x_data, t_data), \"Initial W = \", W, \"\\n\", \", b = \", b )\n",
    "\n",
    "for step in  range(8001):  \n",
    "    \n",
    "    W -= learning_rate * numerical_derivative(f, W)\n",
    "    \n",
    "    b -= learning_rate * numerical_derivative(f, b)\n",
    "    \n",
    "    if (step % 400 == 0):\n",
    "        print(\"step = \", step, \"loss value = \", loss_val(x_data, t_data), \"W = \", W, \", b = \",b )"
   ]
  },
  {
   "cell_type": "code",
   "execution_count": 8,
   "metadata": {},
   "outputs": [
    {
     "data": {
      "text/plain": [
       "array([44.])"
      ]
     },
     "execution_count": 8,
     "metadata": {},
     "output_type": "execute_result"
    }
   ],
   "source": [
    "predict(np.array([43]))  "
   ]
  },
  {
   "cell_type": "code",
   "execution_count": null,
   "metadata": {},
   "outputs": [],
   "source": []
  }
 ],
 "metadata": {
  "anaconda-cloud": {},
  "kernelspec": {
   "display_name": "Python 3",
   "language": "python",
   "name": "python3"
  },
  "language_info": {
   "codemirror_mode": {
    "name": "ipython",
    "version": 3
   },
   "file_extension": ".py",
   "mimetype": "text/x-python",
   "name": "python",
   "nbconvert_exporter": "python",
   "pygments_lexer": "ipython3",
   "version": "3.7.4"
  }
 },
 "nbformat": 4,
 "nbformat_minor": 1
}

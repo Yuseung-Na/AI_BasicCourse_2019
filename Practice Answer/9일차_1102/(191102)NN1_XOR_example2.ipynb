{
 "cells": [
  {
   "cell_type": "code",
   "execution_count": 1,
   "metadata": {},
   "outputs": [],
   "source": [
    "import numpy as np\n",
    "from datetime import datetime\n",
    "\n",
    "# 수치미분 함수\n",
    "\n",
    "def numerical_derivative(f, x):\n",
    "    delta_x = 1e-4 # 0.0001\n",
    "    grad = np.zeros_like(x)\n",
    "    \n",
    "    it = np.nditer(x, flags=['multi_index'], op_flags=['readwrite'])\n",
    "    \n",
    "    while not it.finished:\n",
    "        idx = it.multi_index        \n",
    "        tmp_val = x[idx]\n",
    "        x[idx] = float(tmp_val) + delta_x\n",
    "        fx1 = f(x) # f(x+delta_x)\n",
    "        \n",
    "        x[idx] = tmp_val - delta_x \n",
    "        fx2 = f(x) # f(x-delta_x)\n",
    "        grad[idx] = (fx1 - fx2) / (2*delta_x)\n",
    "        \n",
    "        x[idx] = tmp_val \n",
    "        it.iternext()   \n",
    "        \n",
    "    return grad\n",
    "\n",
    "# sigmoid 함수\n",
    "\n",
    "def sigmoid(x):\n",
    "    return 1 / (1+np.exp(-x))"
   ]
  },
  {
   "cell_type": "code",
   "execution_count": 2,
   "metadata": {},
   "outputs": [],
   "source": [
    "# feed forward\n",
    "def feed_forward(xdata, tdata):        # feed forward 를 통하여 손실함수(cross-entropy) 값 계산\n",
    "        \n",
    "    delta = 1e-7    # log 무한대 발산 방지\n",
    "    \n",
    "    z2 = np.dot(xdata, W2) + b2  # 은닉층의 선형회귀 값\n",
    "    a2 = sigmoid(z2)                                  # 은닉층의 출력\n",
    "        \n",
    "    z3 = np.dot(a2, W3) + b3            # 출력층의 선형회귀 값\n",
    "    y = a3 = sigmoid(z3)                              # 출력층의 출력\n",
    "    \n",
    "    # cross-entropy \n",
    "    return  -np.sum( tdata*np.log(y + delta) + (1-tdata)*np.log((1 - y)+delta ) )    \n",
    "\n",
    "\n",
    "\n",
    "# loss val\n",
    "def loss_val(xdata, tdata):        # feed forward 를 통하여 손실함수(cross-entropy) 값 계산\n",
    "        \n",
    "    delta = 1e-7    # log 무한대 발산 방지\n",
    "    \n",
    "    z2 = np.dot(xdata, W2) + b2  # 은닉층의 선형회귀 값\n",
    "    a2 = sigmoid(z2)                                  # 은닉층의 출력\n",
    "        \n",
    "    z3 = np.dot(a2, W3) + b3            # 출력층의 선형회귀 값\n",
    "    y = a3 = sigmoid(z3)                              # 출력층의 출력\n",
    "    \n",
    "    # cross-entropy \n",
    "    return  -np.sum( tdata*np.log(y + delta) + (1-tdata)*np.log((1 - y)+delta ) )    "
   ]
  },
  {
   "cell_type": "code",
   "execution_count": 3,
   "metadata": {},
   "outputs": [],
   "source": [
    "# query, 즉 미래 값 예측 함수\n",
    "def predict(xdata):\n",
    "        \n",
    "    z2 = np.dot(xdata, W2) + b2         # 은닉층의 선형회귀 값\n",
    "    a2 = sigmoid(z2)                                  # 은닉층의 출력\n",
    "        \n",
    "    z3 = np.dot(a2, W3) + b3            # 출력층의 선형회귀 값\n",
    "    y = a3 = sigmoid(z3)                              # 출력층의 출력\n",
    "    \n",
    "    if y >= 0.5:\n",
    "        result = 1  # True\n",
    "    else:\n",
    "        result = 0  # False\n",
    "    \n",
    "    return y, result"
   ]
  },
  {
   "cell_type": "markdown",
   "metadata": {},
   "source": [
    "#### 입력데이터, 정답데이터 정의 "
   ]
  },
  {
   "cell_type": "code",
   "execution_count": 4,
   "metadata": {},
   "outputs": [],
   "source": [
    "# and, or, nand, xor data\n",
    "xdata = np.array([ [0,0], [0,1], [1,0], [1,1] ])   \n",
    "\n",
    "and_tdata = np.array([0, 0, 0, 1]).reshape(4,1)\n",
    "or_tdata = np.array([0, 1, 1, 1]).reshape(4,1)\n",
    "nand_tdata = np.array([1, 1, 1, 0]).reshape(4,1)\n",
    "xor_tdata = np.array([0, 1, 1, 0]).reshape(4,1)\n",
    "\n",
    "# test data\n",
    "test_data = np.array([ [0,0], [0,1], [1,0], [1,1] ])"
   ]
  },
  {
   "cell_type": "markdown",
   "metadata": {},
   "source": [
    "#### AND 학습 (은닉노드 10개)"
   ]
  },
  {
   "cell_type": "code",
   "execution_count": 5,
   "metadata": {},
   "outputs": [
    {
     "name": "stdout",
     "output_type": "stream",
     "text": [
      "Initial loss value =  12.577719762037855\n",
      "step =  0   , loss value =  7.899044042455688\n",
      "step =  500   , loss value =  0.14284987094677698\n",
      "step =  1000   , loss value =  0.04118744976478889\n",
      "step =  1500   , loss value =  0.022072907750259302\n",
      "step =  2000   , loss value =  0.014631451823896389\n",
      "step =  2500   , loss value =  0.01078239773752752\n",
      "step =  3000   , loss value =  0.008463508272111647\n",
      "step =  3500   , loss value =  0.0069267217460489035\n",
      "step =  4000   , loss value =  0.005839549341808388\n",
      "step =  4500   , loss value =  0.005033034337984179\n",
      "step =  5000   , loss value =  0.004412725742353219\n",
      "step =  5500   , loss value =  0.003921904029775064\n",
      "step =  6000   , loss value =  0.0035245536562402086\n",
      "step =  6500   , loss value =  0.003196759223114159\n",
      "step =  7000   , loss value =  0.0029220466690806687\n",
      "step =  7500   , loss value =  0.0026887147083223166\n",
      "step =  8000   , loss value =  0.0024882332707842304\n",
      "step =  8500   , loss value =  0.0023142437170694855\n",
      "step =  9000   , loss value =  0.002161913335842966\n",
      "step =  9500   , loss value =  0.0020275062513038056\n",
      "step =  10000   , loss value =  0.0019080908233233308\n",
      "\n",
      "Elapsed Time =>  0:00:19.977551\n"
     ]
    }
   ],
   "source": [
    "# define neural network architecture\n",
    "input_nodes = 2   # 입력노드 2개\n",
    "hidden_nodes = 10  # 은닉노드 10개\n",
    "output_nodes= 1   # 출력노드 1개\n",
    "\n",
    "W2 = np.random.rand(input_nodes,hidden_nodes)  # 입력층-은닉층 가중치\n",
    "b2 = np.random.rand(hidden_nodes)    # 은닉층 바이어스\n",
    "\n",
    "W3 = np.random.rand(hidden_nodes,output_nodes)  # 은닉층-출력층 가중치\n",
    "b3 = np.random.rand(output_nodes)    # 출력층 바이어스\n",
    "\n",
    "learning_rate = 1e-1\n",
    "\n",
    "# and verification\n",
    "f = lambda x : feed_forward(xdata, and_tdata)\n",
    "        \n",
    "print(\"Initial loss value = \", loss_val(xdata, and_tdata))\n",
    "     \n",
    "start_time = datetime.now()\n",
    "\n",
    "for step in  range(10001):\n",
    "            \n",
    "    W2 -= learning_rate * numerical_derivative(f, W2)\n",
    "    \n",
    "    b2 -= learning_rate * numerical_derivative(f, b2)\n",
    "        \n",
    "    W3 -= learning_rate * numerical_derivative(f, W3)\n",
    "    \n",
    "    b3 -= learning_rate * numerical_derivative(f, b3)\n",
    "    \n",
    "    if (step % 500 == 0):\n",
    "        print(\"step = \", step, \"  , loss value = \", loss_val(xdata, and_tdata))\n",
    "        \n",
    "end_time = datetime.now()\n",
    "\n",
    "print(\"\")\n",
    "print(\"Elapsed Time => \", end_time - start_time)"
   ]
  },
  {
   "cell_type": "code",
   "execution_count": 6,
   "metadata": {},
   "outputs": [
    {
     "name": "stdout",
     "output_type": "stream",
     "text": [
      "real_val [3.32632542e-07] , logical_val =  0\n",
      "real_val [0.00049705] , logical_val =  0\n",
      "real_val [0.00048697] , logical_val =  0\n",
      "real_val [0.99907653] , logical_val =  1\n"
     ]
    }
   ],
   "source": [
    "# and prediction\n",
    "\n",
    "for data in test_data:\n",
    "    (real_val, logical_val) = predict(data)\n",
    "    print(\"real_val\", real_val, \", logical_val = \", logical_val)"
   ]
  },
  {
   "cell_type": "markdown",
   "metadata": {},
   "source": [
    "#### AND 학습 (은닉노드 1개)"
   ]
  },
  {
   "cell_type": "code",
   "execution_count": 7,
   "metadata": {},
   "outputs": [
    {
     "name": "stdout",
     "output_type": "stream",
     "text": [
      "Initial loss value =  2.98232154077495\n",
      "step =  0   , loss value =  2.784312170808808\n",
      "step =  500   , loss value =  1.6235042975040053\n",
      "step =  1000   , loss value =  0.16597055202862454\n",
      "step =  1500   , loss value =  0.07055178879263149\n",
      "step =  2000   , loss value =  0.04372717373436524\n",
      "step =  2500   , loss value =  0.03143983393338809\n",
      "step =  3000   , loss value =  0.02445776867002747\n",
      "step =  3500   , loss value =  0.01997507031336701\n",
      "step =  4000   , loss value =  0.01686124870464301\n",
      "step =  4500   , loss value =  0.014575933735953246\n",
      "step =  5000   , loss value =  0.012829135803858402\n",
      "step =  5500   , loss value =  0.011451608678252932\n",
      "step =  6000   , loss value =  0.010338071064857839\n",
      "step =  6500   , loss value =  0.009419662620357892\n",
      "step =  7000   , loss value =  0.008649482005401485\n",
      "step =  7500   , loss value =  0.007994498349322438\n",
      "step =  8000   , loss value =  0.0074307872521148215\n",
      "step =  8500   , loss value =  0.006940601169262827\n",
      "step =  9000   , loss value =  0.006510500750794556\n",
      "step =  9500   , loss value =  0.006130124888731633\n",
      "step =  10000   , loss value =  0.005791358782183908\n",
      "\n",
      "Elapsed Time =>  0:00:02.817031\n"
     ]
    }
   ],
   "source": [
    "# define neural network architecture\n",
    "input_nodes = 2   # 입력노드 2개\n",
    "hidden_nodes = 1  # 은닉노드 1개\n",
    "output_nodes= 1   # 출력노드 1개\n",
    "\n",
    "W2 = np.random.rand(input_nodes,hidden_nodes)  # 입력층-은닉층 가중치\n",
    "b2 = np.random.rand(hidden_nodes)    # 은닉층 바이어스\n",
    "\n",
    "W3 = np.random.rand(hidden_nodes,output_nodes)  # 은닉층-출력층 가중치\n",
    "b3 = np.random.rand(output_nodes)    # 출력층 바이어스\n",
    "\n",
    "learning_rate = 1e-1\n",
    "\n",
    "# and verification\n",
    "f = lambda x : feed_forward(xdata, and_tdata)\n",
    "        \n",
    "print(\"Initial loss value = \", loss_val(xdata, and_tdata))\n",
    "     \n",
    "start_time = datetime.now()\n",
    "\n",
    "for step in  range(10001):\n",
    "            \n",
    "    W2 -= learning_rate * numerical_derivative(f, W2)\n",
    "    \n",
    "    b2 -= learning_rate * numerical_derivative(f, b2)\n",
    "        \n",
    "    W3 -= learning_rate * numerical_derivative(f, W3)\n",
    "    \n",
    "    b3 -= learning_rate * numerical_derivative(f, b3)\n",
    "    \n",
    "    if (step % 500 == 0):\n",
    "        print(\"step = \", step, \"  , loss value = \", loss_val(xdata, and_tdata))\n",
    "        \n",
    "end_time = datetime.now()\n",
    "\n",
    "print(\"\")\n",
    "print(\"Elapsed Time => \", end_time - start_time)"
   ]
  },
  {
   "cell_type": "code",
   "execution_count": 8,
   "metadata": {},
   "outputs": [
    {
     "name": "stdout",
     "output_type": "stream",
     "text": [
      "real_val [0.00054745] , logical_val =  0\n",
      "real_val [0.00142787] , logical_val =  0\n",
      "real_val [0.00142787] , logical_val =  0\n",
      "real_val [0.99761647] , logical_val =  1\n"
     ]
    }
   ],
   "source": [
    "# and prediction\n",
    "\n",
    "for data in test_data:\n",
    "    (real_val, logical_val) = predict(data)\n",
    "    print(\"real_val\", real_val, \", logical_val = \", logical_val)"
   ]
  },
  {
   "cell_type": "markdown",
   "metadata": {},
   "source": [
    "#### OR 검증 (은닉노드 1개)"
   ]
  },
  {
   "cell_type": "code",
   "execution_count": 9,
   "metadata": {},
   "outputs": [
    {
     "name": "stdout",
     "output_type": "stream",
     "text": [
      "Initial loss value =  2.208734981258847\n",
      "step =  0   , loss value =  2.201269706718813\n",
      "step =  400   , loss value =  0.2773716809259913\n",
      "step =  800   , loss value =  0.09762005581049799\n",
      "step =  1200   , loss value =  0.057308126941807744\n",
      "step =  1600   , loss value =  0.04022744757235701\n",
      "step =  2000   , loss value =  0.030888016097815673\n",
      "step =  2400   , loss value =  0.025025854908522924\n",
      "step =  2800   , loss value =  0.021013264502166742\n",
      "step =  3200   , loss value =  0.018098296962974967\n",
      "step =  3600   , loss value =  0.015886790572545523\n",
      "step =  4000   , loss value =  0.014152610024920804\n",
      "step =  4400   , loss value =  0.012756905035894701\n",
      "step =  4800   , loss value =  0.011609780502553834\n",
      "step =  5200   , loss value =  0.010650507065168168\n",
      "step =  5600   , loss value =  0.0098366005976263\n",
      "step =  6000   , loss value =  0.009137460378972073\n",
      "step =  6400   , loss value =  0.008530492381580367\n",
      "step =  6800   , loss value =  0.007998655427764236\n",
      "step =  7200   , loss value =  0.007528856626636977\n",
      "step =  7600   , loss value =  0.007110872175301056\n",
      "step =  8000   , loss value =  0.006736603401778168\n",
      "step =  8400   , loss value =  0.00639955263843444\n",
      "step =  8800   , loss value =  0.006094446762398016\n",
      "step =  9200   , loss value =  0.005816962082110126\n",
      "step =  9600   , loss value =  0.005563520131495073\n",
      "step =  10000   , loss value =  0.005331133944918001\n",
      "\n",
      "Elapsed Time =>  0:00:02.739035\n"
     ]
    }
   ],
   "source": [
    "# define neural network architecture\n",
    "input_nodes = 2   # 입력노드 2개\n",
    "hidden_nodes = 1  # 은닉노드 1개\n",
    "output_nodes= 1   # 출력노드 1개\n",
    "\n",
    "W2 = np.random.rand(input_nodes,hidden_nodes)  # 입력층-은닉층 가중치\n",
    "b2 = np.random.rand(hidden_nodes)    # 은닉층 바이어스\n",
    "\n",
    "W3 = np.random.rand(hidden_nodes,output_nodes)  # 은닉층-출력층 가중치\n",
    "b3 = np.random.rand(output_nodes)    # 출력층 바이어스\n",
    "\n",
    "learning_rate = 1e-1\n",
    "\n",
    "# or verification\n",
    "f = lambda x : feed_forward(xdata, or_tdata)\n",
    "        \n",
    "print(\"Initial loss value = \", loss_val(xdata, or_tdata))\n",
    "     \n",
    "start_time = datetime.now()\n",
    "\n",
    "for step in  range(10001):\n",
    "            \n",
    "    W2 -= learning_rate * numerical_derivative(f, W2)\n",
    "    \n",
    "    b2 -= learning_rate * numerical_derivative(f, b2)\n",
    "        \n",
    "    W3 -= learning_rate * numerical_derivative(f, W3)\n",
    "    \n",
    "    b3 -= learning_rate * numerical_derivative(f, b3)\n",
    "    \n",
    "    if (step % 400 == 0):\n",
    "        print(\"step = \", step, \"  , loss value = \", loss_val(xdata, or_tdata))\n",
    "        \n",
    "end_time = datetime.now()\n",
    "\n",
    "print(\"\")\n",
    "print(\"Elapsed Time => \", end_time - start_time)"
   ]
  },
  {
   "cell_type": "code",
   "execution_count": 10,
   "metadata": {},
   "outputs": [
    {
     "name": "stdout",
     "output_type": "stream",
     "text": [
      "real_val [0.00315881] , logical_val =  0\n",
      "real_val [0.99914251] , logical_val =  1\n",
      "real_val [0.99914229] , logical_val =  1\n",
      "real_val [0.99954832] , logical_val =  1\n"
     ]
    }
   ],
   "source": [
    "# or prediction\n",
    "\n",
    "for data in test_data:\n",
    "    (real_val, logical_val) = predict(data)\n",
    "    print(\"real_val\", real_val, \", logical_val = \", logical_val)"
   ]
  },
  {
   "cell_type": "markdown",
   "metadata": {},
   "source": [
    "#### NAND 검증 (은닉층 노드 1개)"
   ]
  },
  {
   "cell_type": "code",
   "execution_count": 11,
   "metadata": {},
   "outputs": [
    {
     "name": "stdout",
     "output_type": "stream",
     "text": [
      "Initial loss value =  2.279742418390616\n",
      "step =  0   , loss value =  2.2763508276400275\n",
      "step =  500   , loss value =  0.3958394607888712\n",
      "step =  1000   , loss value =  0.10066601881618137\n",
      "step =  1500   , loss value =  0.054351867327712106\n",
      "step =  2000   , loss value =  0.03674594526537822\n",
      "step =  2500   , loss value =  0.02761403315465367\n",
      "step =  3000   , loss value =  0.0220604711361652\n",
      "step =  3500   , loss value =  0.018339012446125447\n",
      "step =  4000   , loss value =  0.015676737652889877\n",
      "step =  4500   , loss value =  0.013680390213568826\n",
      "step =  5000   , loss value =  0.012129288511508263\n",
      "step =  5500   , loss value =  0.010890234041108244\n",
      "step =  6000   , loss value =  0.009878166706967435\n",
      "step =  6500   , loss value =  0.009036267773286134\n",
      "step =  7000   , loss value =  0.00832516260289261\n",
      "step =  7500   , loss value =  0.00771671747531569\n",
      "step =  8000   , loss value =  0.007190303664954802\n",
      "step =  8500   , loss value =  0.006730456390347343\n",
      "step =  9000   , loss value =  0.006325357319804499\n",
      "step =  9500   , loss value =  0.005965821726134891\n",
      "step =  10000   , loss value =  0.005644604993877584\n",
      "\n",
      "Elapsed Time =>  0:00:02.810066\n"
     ]
    }
   ],
   "source": [
    "# define neural network architecture\n",
    "input_nodes = 2   # 입력노드 2개\n",
    "hidden_nodes = 1  # 은닉노드 1개\n",
    "output_nodes= 1   # 출력노드 1개\n",
    "\n",
    "W2 = np.random.rand(input_nodes,hidden_nodes)  # 입력층-은닉층 가중치\n",
    "b2 = np.random.rand(hidden_nodes)    # 은닉층 바이어스\n",
    "\n",
    "W3 = np.random.rand(hidden_nodes,output_nodes)  # 은닉층-출력층 가중치\n",
    "b3 = np.random.rand(output_nodes)    # 출력층 바이어스\n",
    "\n",
    "learning_rate = 1e-1\n",
    "\n",
    "# nand verification\n",
    "f = lambda x : feed_forward(xdata, nand_tdata)\n",
    "        \n",
    "print(\"Initial loss value = \", loss_val(xdata, nand_tdata))\n",
    "     \n",
    "start_time = datetime.now()\n",
    "\n",
    "for step in  range(10001):\n",
    "            \n",
    "    W2 -= learning_rate * numerical_derivative(f, W2)\n",
    "    \n",
    "    b2 -= learning_rate * numerical_derivative(f, b2)\n",
    "        \n",
    "    W3 -= learning_rate * numerical_derivative(f, W3)\n",
    "    \n",
    "    b3 -= learning_rate * numerical_derivative(f, b3)\n",
    "    \n",
    "    if (step % 500 == 0):\n",
    "        print(\"step = \", step, \"  , loss value = \", loss_val(xdata, nand_tdata))\n",
    "        \n",
    "end_time = datetime.now()\n",
    "\n",
    "print(\"\")\n",
    "print(\"Elapsed Time => \", end_time - start_time)"
   ]
  },
  {
   "cell_type": "code",
   "execution_count": 12,
   "metadata": {},
   "outputs": [
    {
     "name": "stdout",
     "output_type": "stream",
     "text": [
      "real_val [0.99946303] , logical_val =  1\n",
      "real_val [0.99860956] , logical_val =  1\n",
      "real_val [0.99860956] , logical_val =  1\n",
      "real_val [0.00232237] , logical_val =  0\n"
     ]
    }
   ],
   "source": [
    "# nand prediction\n",
    "\n",
    "for data in test_data:\n",
    "    (real_val, logical_val) = predict(data)\n",
    "    print(\"real_val\", real_val, \", logical_val = \", logical_val)"
   ]
  },
  {
   "cell_type": "markdown",
   "metadata": {
    "collapsed": true
   },
   "source": [
    "#### XOR 검증 (은닉층 노드 1개)"
   ]
  },
  {
   "cell_type": "code",
   "execution_count": 14,
   "metadata": {},
   "outputs": [
    {
     "name": "stdout",
     "output_type": "stream",
     "text": [
      "Initial loss value =  2.835733420936105\n",
      "step =  0   , loss value =  2.8188063449289507\n",
      "step =  500   , loss value =  2.725574465193435\n",
      "step =  1000   , loss value =  2.1848192643147843\n",
      "step =  1500   , loss value =  2.0062935770750983\n",
      "step =  2000   , loss value =  1.9645047041602615\n",
      "step =  2500   , loss value =  1.9472705172302447\n",
      "step =  3000   , loss value =  1.9380522172202803\n",
      "step =  3500   , loss value =  1.9323626612663456\n",
      "step =  4000   , loss value =  1.9285195289651567\n",
      "step =  4500   , loss value =  1.9257576251476167\n",
      "step =  5000   , loss value =  1.9236810405291338\n",
      "step =  5500   , loss value =  1.9220651292554467\n",
      "step =  6000   , loss value =  1.9207732550364327\n",
      "step =  6500   , loss value =  1.9197176815368808\n",
      "step =  7000   , loss value =  1.918839565971022\n",
      "step =  7500   , loss value =  1.9180980087926631\n",
      "step =  8000   , loss value =  1.9174637209176288\n",
      "step =  8500   , loss value =  1.9169151899866335\n",
      "step =  9000   , loss value =  1.9164362681290417\n",
      "step =  9500   , loss value =  1.9160146031488468\n",
      "step =  10000   , loss value =  1.9156405886135939\n",
      "step =  10500   , loss value =  1.9153066434042212\n",
      "step =  11000   , loss value =  1.9150067063046312\n",
      "step =  11500   , loss value =  1.9147358744197847\n",
      "step =  12000   , loss value =  1.9144901399094614\n",
      "step =  12500   , loss value =  1.9142661952519107\n",
      "step =  13000   , loss value =  1.9140612871240692\n",
      "step =  13500   , loss value =  1.9138731053256077\n",
      "step =  14000   , loss value =  1.9136996973342149\n",
      "step =  14500   , loss value =  1.9135394018571015\n",
      "step =  15000   , loss value =  1.913390796636349\n",
      "step =  15500   , loss value =  1.913252657068251\n",
      "step =  16000   , loss value =  1.913123923114794\n",
      "step =  16500   , loss value =  1.9130036726335922\n",
      "step =  17000   , loss value =  1.9128910997218815\n",
      "step =  17500   , loss value =  1.9127854970092266\n",
      "step =  18000   , loss value =  1.9126862410856957\n",
      "step =  18500   , loss value =  1.9125927804364864\n",
      "step =  19000   , loss value =  1.9125046253954046\n",
      "step =  19500   , loss value =  1.9124213397338252\n",
      "step =  20000   , loss value =  1.9123425335835318\n",
      "step =  20500   , loss value =  1.9122678574530576\n",
      "step =  21000   , loss value =  1.912196997146063\n",
      "step =  21500   , loss value =  1.9121296694265788\n",
      "step =  22000   , loss value =  1.9120656183068625\n",
      "step =  22500   , loss value =  1.9120046118557765\n",
      "step =  23000   , loss value =  1.911946439444804\n",
      "step =  23500   , loss value =  1.9118909093631486\n",
      "step =  24000   , loss value =  1.9118378467457875\n",
      "step =  24500   , loss value =  1.9117870917672988\n",
      "step =  25000   , loss value =  1.9117384980631038\n",
      "step =  25500   , loss value =  1.9116919313448393\n",
      "step =  26000   , loss value =  1.911647268183089\n",
      "step =  26500   , loss value =  1.9116043949341586\n",
      "step =  27000   , loss value =  1.9115632067914146\n",
      "step =  27500   , loss value =  1.9115236069447552\n",
      "step =  28000   , loss value =  1.9114855058339635\n",
      "step =  28500   , loss value =  1.9114488204841682\n",
      "step =  29000   , loss value =  1.9114134739129125\n",
      "step =  29500   , loss value =  1.9113793945999442\n",
      "step =  30000   , loss value =  1.9113465160124399\n",
      "\n",
      "Elapsed Time =>  0:00:08.488119\n"
     ]
    }
   ],
   "source": [
    "# define neural network architecture\n",
    "input_nodes = 2   # 입력노드 2개\n",
    "hidden_nodes = 1  # 은닉노드 1개\n",
    "output_nodes= 1   # 출력노드 1개\n",
    "\n",
    "W2 = np.random.rand(input_nodes,hidden_nodes)  # 입력층-은닉층 가중치\n",
    "b2 = np.random.rand(hidden_nodes)    # 은닉층 바이어스\n",
    "\n",
    "W3 = np.random.rand(hidden_nodes,output_nodes)  # 은닉층-출력층 가중치\n",
    "b3 = np.random.rand(output_nodes)    # 출력층 바이어스\n",
    "\n",
    "learning_rate = 1e-1\n",
    "\n",
    "# xor verification\n",
    "f = lambda x : feed_forward(xdata, xor_tdata)\n",
    "        \n",
    "print(\"Initial loss value = \", loss_val(xdata, xor_tdata))\n",
    "     \n",
    "start_time = datetime.now()\n",
    "\n",
    "for step in  range(30001):\n",
    "            \n",
    "    W2 -= learning_rate * numerical_derivative(f, W2)\n",
    "    \n",
    "    b2 -= learning_rate * numerical_derivative(f, b2)\n",
    "        \n",
    "    W3 -= learning_rate * numerical_derivative(f, W3)\n",
    "    \n",
    "    b3 -= learning_rate * numerical_derivative(f, b3)\n",
    "    \n",
    "    if (step % 500 == 0):\n",
    "        print(\"step = \", step, \"  , loss value = \", loss_val(xdata, xor_tdata))\n",
    "        \n",
    "end_time = datetime.now()\n",
    "\n",
    "print(\"\")\n",
    "print(\"Elapsed Time => \", end_time - start_time)"
   ]
  },
  {
   "cell_type": "code",
   "execution_count": 15,
   "metadata": {},
   "outputs": [
    {
     "name": "stdout",
     "output_type": "stream",
     "text": [
      "real_val [0.00092036] , logical_val =  0\n",
      "real_val [0.66637422] , logical_val =  1\n",
      "real_val [0.66637422] , logical_val =  1\n",
      "real_val [0.6666688] , logical_val =  1\n"
     ]
    }
   ],
   "source": [
    "# xor prediction\n",
    "\n",
    "for data in test_data:\n",
    "    (real_val, logical_val) = predict(data)\n",
    "    print(\"real_val\", real_val, \", logical_val = \", logical_val)"
   ]
  },
  {
   "cell_type": "markdown",
   "metadata": {},
   "source": [
    "#### XOR 검증 (은닉층 노드 2개)"
   ]
  },
  {
   "cell_type": "code",
   "execution_count": 16,
   "metadata": {},
   "outputs": [
    {
     "name": "stdout",
     "output_type": "stream",
     "text": [
      "Initial loss value =  3.5536030171687636\n",
      "step =  0   , loss value =  3.3344157573990723\n",
      "step =  500   , loss value =  2.751215729593068\n",
      "step =  1000   , loss value =  2.0967077148999516\n",
      "step =  1500   , loss value =  0.4327819697230456\n",
      "step =  2000   , loss value =  0.147582707776788\n",
      "step =  2500   , loss value =  0.0858810044034436\n",
      "step =  3000   , loss value =  0.06002625519384423\n",
      "step =  3500   , loss value =  0.04596393218922846\n",
      "step =  4000   , loss value =  0.037166301061899276\n",
      "step =  4500   , loss value =  0.031158552247606084\n",
      "step =  5000   , loss value =  0.02680212970634037\n",
      "step =  5500   , loss value =  0.023501925599433402\n",
      "step =  6000   , loss value =  0.020917255976767423\n",
      "step =  6500   , loss value =  0.018839295902115402\n",
      "step =  7000   , loss value =  0.017133039884148094\n",
      "step =  7500   , loss value =  0.01570739497402172\n",
      "step =  8000   , loss value =  0.014498703433170815\n",
      "step =  8500   , loss value =  0.013461156650448535\n",
      "step =  9000   , loss value =  0.012560960445649519\n",
      "step =  9500   , loss value =  0.011772645647478465\n",
      "step =  10000   , loss value =  0.01107665778180786\n",
      "step =  10500   , loss value =  0.010457737271657015\n",
      "step =  11000   , loss value =  0.009903803645327152\n",
      "step =  11500   , loss value =  0.009405169986991311\n",
      "step =  12000   , loss value =  0.008953979065244509\n",
      "step =  12500   , loss value =  0.00854379150331402\n",
      "step =  13000   , loss value =  0.008169280262611624\n",
      "step =  13500   , loss value =  0.007826000770356159\n",
      "step =  14000   , loss value =  0.007510215725954693\n",
      "step =  14500   , loss value =  0.0072187600041983095\n",
      "step =  15000   , loss value =  0.006948935351158448\n",
      "step =  15500   , loss value =  0.00669842748597852\n",
      "step =  16000   , loss value =  0.006465240241637263\n",
      "step =  16500   , loss value =  0.006247642797482725\n",
      "step =  17000   , loss value =  0.006044127067193468\n",
      "step =  17500   , loss value =  0.005853373034586109\n",
      "step =  18000   , loss value =  0.005674220361355498\n",
      "step =  18500   , loss value =  0.0055056449825229515\n",
      "step =  19000   , loss value =  0.00534673969726274\n",
      "step =  19500   , loss value =  0.005196697981975206\n",
      "step =  20000   , loss value =  0.005054800418805759\n",
      "step =  20500   , loss value =  0.004920403259800242\n",
      "step =  21000   , loss value =  0.004792928744998399\n",
      "step =  21500   , loss value =  0.004671856868626849\n",
      "step =  22000   , loss value =  0.004556718347028997\n",
      "step =  22500   , loss value =  0.004447088588734161\n",
      "step =  23000   , loss value =  0.004342582504030347\n",
      "step =  23500   , loss value =  0.004242850020813725\n",
      "step =  24000   , loss value =  0.004147572197218218\n",
      "step =  24500   , loss value =  0.004056457840406409\n",
      "step =  25000   , loss value =  0.0039692405563298205\n",
      "step =  25500   , loss value =  0.003885676167728975\n",
      "step =  26000   , loss value =  0.003805540447895584\n",
      "step =  26500   , loss value =  0.0037286271260471\n",
      "step =  27000   , loss value =  0.0036547461271481422\n",
      "step =  27500   , loss value =  0.003583722014640618\n",
      "step =  28000   , loss value =  0.0035153926092918943\n",
      "step =  28500   , loss value =  0.003449607761446227\n",
      "step =  29000   , loss value =  0.0033862282570890617\n",
      "step =  29500   , loss value =  0.0033251248410983087\n",
      "step =  30000   , loss value =  0.0032661773432315906\n",
      "\n",
      "Elapsed Time =>  0:00:14.299434\n"
     ]
    }
   ],
   "source": [
    "# define neural network architecture\n",
    "input_nodes = 2   # 입력노드 2개\n",
    "hidden_nodes = 2  # 은닉노드 1개\n",
    "output_nodes= 1   # 출력노드 1개\n",
    "\n",
    "W2 = np.random.rand(input_nodes,hidden_nodes)  # 입력층-은닉층 가중치\n",
    "b2 = np.random.rand(hidden_nodes)    # 은닉층 바이어스\n",
    "\n",
    "W3 = np.random.rand(hidden_nodes,output_nodes)  # 은닉층-출력층 가중치\n",
    "b3 = np.random.rand(output_nodes)    # 출력층 바이어스\n",
    "\n",
    "learning_rate = 1e-1\n",
    "\n",
    "# xor verification\n",
    "f = lambda x : feed_forward(xdata, xor_tdata)\n",
    "        \n",
    "print(\"Initial loss value = \", loss_val(xdata, xor_tdata))\n",
    "     \n",
    "start_time = datetime.now()\n",
    "\n",
    "for step in  range(30001):\n",
    "            \n",
    "    W2 -= learning_rate * numerical_derivative(f, W2)\n",
    "    \n",
    "    b2 -= learning_rate * numerical_derivative(f, b2)\n",
    "        \n",
    "    W3 -= learning_rate * numerical_derivative(f, W3)\n",
    "    \n",
    "    b3 -= learning_rate * numerical_derivative(f, b3)\n",
    "    \n",
    "    if (step % 500 == 0):\n",
    "        print(\"step = \", step, \"  , loss value = \", loss_val(xdata, xor_tdata))\n",
    "        \n",
    "end_time = datetime.now()\n",
    "\n",
    "print(\"\")\n",
    "print(\"Elapsed Time => \", end_time - start_time)"
   ]
  },
  {
   "cell_type": "code",
   "execution_count": 17,
   "metadata": {},
   "outputs": [
    {
     "name": "stdout",
     "output_type": "stream",
     "text": [
      "real_val [0.00105254] , logical_val =  0\n",
      "real_val [0.99926808] , logical_val =  1\n",
      "real_val [0.99926888] , logical_val =  1\n",
      "real_val [0.00074962] , logical_val =  0\n"
     ]
    }
   ],
   "source": [
    "# xor prediction\n",
    "\n",
    "for data in test_data:\n",
    "    (real_val, logical_val) = predict(data)\n",
    "    print(\"real_val\", real_val, \", logical_val = \", logical_val)"
   ]
  },
  {
   "cell_type": "code",
   "execution_count": null,
   "metadata": {},
   "outputs": [],
   "source": []
  }
 ],
 "metadata": {
  "anaconda-cloud": {},
  "kernelspec": {
   "display_name": "Python 3",
   "language": "python",
   "name": "python3"
  },
  "language_info": {
   "codemirror_mode": {
    "name": "ipython",
    "version": 3
   },
   "file_extension": ".py",
   "mimetype": "text/x-python",
   "name": "python",
   "nbconvert_exporter": "python",
   "pygments_lexer": "ipython3",
   "version": "3.7.4"
  }
 },
 "nbformat": 4,
 "nbformat_minor": 1
}

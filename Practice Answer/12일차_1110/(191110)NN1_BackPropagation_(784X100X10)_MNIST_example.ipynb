{
 "cells": [
  {
   "cell_type": "code",
   "execution_count": 1,
   "metadata": {},
   "outputs": [],
   "source": [
    "import numpy as np\n",
    "import matplotlib.pyplot as plt\n",
    "\n",
    "%matplotlib inline\n",
    "\n",
    "def sigmoid(x):\n",
    "    return 1 / (1+np.exp(-x))"
   ]
  },
  {
   "cell_type": "code",
   "execution_count": 2,
   "metadata": {},
   "outputs": [],
   "source": [
    "from datetime import datetime      # datetime.now() 를 이용하여 학습 경과 시간 측정\n",
    "\n",
    "class NeuralNetwork:\n",
    "    \n",
    "    def __init__(self, input_nodes, hidden_nodes, output_nodes, learning_rate):\n",
    "        \n",
    "        self.input_nodes = input_nodes\n",
    "        self.hidden_nodes = hidden_nodes\n",
    "        self.output_nodes = output_nodes\n",
    "        \n",
    "        # 은닉층 가중치  W2 = (784 X 100) Xavier/He 방법으로 self.W2 가중치 초기화\n",
    "        self.W2 = np.random.randn(self.input_nodes, self.hidden_nodes) / np.sqrt(self.input_nodes/2)\n",
    "        self.b2 = np.random.rand(self.hidden_nodes)      \n",
    "        \n",
    "        # 출력층 가중치는 W3 = (100X10)  Xavier/He 방법으로 self.W3 가중치 초기화\n",
    "        self.W3 = np.random.randn(self.hidden_nodes, self.output_nodes) / np.sqrt(self.hidden_nodes/2)\n",
    "        self.b3 = np.random.rand(self.output_nodes)      \n",
    "                        \n",
    "        # 출력층 선형회귀 값 Z3, 출력값 A3 정의 (모두 행렬로 표시)\n",
    "        self.Z3 = np.zeros([1,output_nodes])\n",
    "        self.A3 = np.zeros([1,output_nodes])\n",
    "        \n",
    "        # 은닉층 선형회귀 값 Z2, 출력값 A2 정의 (모두 행렬로 표시)\n",
    "        self.Z2 = np.zeros([1,hidden_nodes])\n",
    "        self.A2 = np.zeros([1,hidden_nodes])\n",
    "        \n",
    "        # 입력층 선형회귀 값 Z1, 출력값 A1 정의 (모두 행렬로 표시)\n",
    "        self.Z1 = np.zeros([1,input_nodes])    \n",
    "        self.A1 = np.zeros([1,input_nodes])       \n",
    "        \n",
    "        # 학습률 learning rate 초기화\n",
    "        self.learning_rate = learning_rate\n",
    "        \n",
    "    def feed_forward(self):  \n",
    "        \n",
    "        delta = 1e-7    # log 무한대 발산 방지\n",
    "        \n",
    "        # 입력층 선형회귀 값 Z1, 출력값 A1 계산\n",
    "        self.Z1 = self.input_data\n",
    "        self.A1 = self.input_data\n",
    "        \n",
    "        # 은닉층 선형회귀 값 Z2, 출력값 A2 계산    \n",
    "        self.Z2 = np.dot(self.A1, self.W2) + self.b2\n",
    "        self.A2 = sigmoid(self.Z2)\n",
    "        \n",
    "        # 출력층 선형회귀 값 Z3, 출력값 A3 계산\n",
    "        self.Z3 = np.dot(self.A2, self.W3) + self.b3\n",
    "        self.A3 = sigmoid(self.Z3)\n",
    "        \n",
    "        return  -np.sum( self.target_data*np.log(self.A3 + delta) + (1-self.target_data)*np.log((1 - self.A3)+delta ) )    \n",
    "    \n",
    "    def loss_val(self):\n",
    "        \n",
    "        delta = 1e-7    # log 무한대 발산 방지\n",
    "        \n",
    "        # 입력층 선형회귀 값 Z1, 출력값 A1 계산\n",
    "        self.Z1 = self.input_data\n",
    "        self.A1 = self.input_data\n",
    "        \n",
    "        # 은닉층 선형회귀 값 Z2, 출력값 A2 계산    \n",
    "        self.Z2 = np.dot(self.A1, self.W2) + self.b2\n",
    "        self.A2 = sigmoid(self.Z2)\n",
    "        \n",
    "        # 출력층 선형회귀 값 Z3, 출력값 A3 계산\n",
    "        self.Z3 = np.dot(self.A2, self.W3) + self.b3\n",
    "        self.A3 = sigmoid(self.Z3)\n",
    "        \n",
    "        return  -np.sum( self.target_data*np.log(self.A3 + delta) + (1-self.target_data)*np.log((1 - self.A3)+delta ) )\n",
    "   \n",
    "    \n",
    "    # 정확도 측정함수 \n",
    "    def accuracy(self, test_input_data, test_target_data):\n",
    "        \n",
    "        matched_list = []\n",
    "        not_matched_list = []\n",
    "        \n",
    "        # list which contains (index, label, prediction) value\n",
    "        index_label_prediction_list = []\n",
    "        \n",
    "        # temp list which contains label and prediction in sequence\n",
    "        temp_list = []\n",
    "        \n",
    "        for index in range(len(test_input_data)):\n",
    "                        \n",
    "            label = int(test_target_data[index])\n",
    "                        \n",
    "            # one-hot encoding을 위한 데이터 정규화 (data normalize)\n",
    "            data = (test_input_data[index] / 255.0 * 0.99) + 0.01\n",
    "                  \n",
    "            # predict 를 위해서 vector 을 matrix 로 변환하여 인수로 넘겨줌\n",
    "            predicted_num = self.predict(np.array(data, ndmin=2)) \n",
    "        \n",
    "            if label == predicted_num:\n",
    "                matched_list.append(index)\n",
    "                \n",
    "            else:\n",
    "                \n",
    "                not_matched_list.append(index)\n",
    "                \n",
    "                # label_prediction_list\n",
    "                temp_list.append(index)\n",
    "                temp_list.append(label)\n",
    "                temp_list.append(predicted_num)\n",
    "                \n",
    "                index_label_prediction_list.append(temp_list)\n",
    "                \n",
    "                temp_list = []\n",
    "                \n",
    "                \n",
    "        print(\"Current Accuracy = \", (len(matched_list)/(len(test_input_data))) )\n",
    "        \n",
    "        return matched_list, not_matched_list, index_label_prediction_list\n",
    "    \n",
    "    \n",
    "    def train(self, input_data, target_data):   # input_data : 784 개, target_data : 10개\n",
    "        \n",
    "        self.target_data = target_data    \n",
    "        self.input_data = input_data\n",
    "        \n",
    "        # 먼저 feed forward 를 통해서 최종 출력값과 이를 바탕으로 현재의 에러 값 계산\n",
    "        loss_val = self.feed_forward()\n",
    "        \n",
    "        # 출력층 loss 인 loss_3 구함\n",
    "        loss_3 = (self.A3-self.target_data) * self.A3 * (1-self.A3)\n",
    "        \n",
    "        # 출력층 가중치 W3, 출력층 바이어스 b3 업데이트\n",
    "        self.W3 = self.W3 - self.learning_rate * np.dot(self.A2.T, loss_3)   \n",
    "        \n",
    "        self.b3 = self.b3 - self.learning_rate * loss_3  \n",
    "        \n",
    "        # 은닉층 loss 인 loss_2 구함        \n",
    "        loss_2 = np.dot(loss_3, self.W3.T) * self.A2 * (1-self.A2)\n",
    "        \n",
    "        # 은닉층 가중치 W2, 은닉층 바이어스 b2 업데이트\n",
    "        self.W2 = self.W2 - self.learning_rate * np.dot(self.A1.T, loss_2)   \n",
    "        \n",
    "        self.b2 = self.b2 - self.learning_rate * loss_2\n",
    "        \n",
    "    def predict(self, input_data):        # input_data 는 행렬로 입력됨 즉, (1, 784) shape 을 가짐        \n",
    "        \n",
    "        Z2 = np.dot(input_data, self.W2) + self.b2\n",
    "        A2 = sigmoid(Z2)\n",
    "        \n",
    "        Z3 = np.dot(A2, self.W3) + self.b3\n",
    "        A3 = sigmoid(Z3)\n",
    "        \n",
    "        predicted_num = np.argmax(A3)\n",
    "    \n",
    "        return predicted_num"
   ]
  },
  {
   "cell_type": "code",
   "execution_count": 4,
   "metadata": {},
   "outputs": [
    {
     "name": "stdout",
     "output_type": "stream",
     "text": [
      "training_data.shape =  (60000, 785)\n",
      "training_data[0,0] =  5.0 , len(training_data[0]) =  785\n"
     ]
    }
   ],
   "source": [
    "# 0~9 숫자 이미지가 784개의 숫자 (28X28) 로 구성되어 있는 training data 읽어옴\n",
    "training_data = np.loadtxt('./(191110)mnist_train.csv', delimiter=',', dtype=np.float32)\n",
    "\n",
    "print(\"training_data.shape = \", training_data.shape)\n",
    "print(\"training_data[0,0] = \", training_data[0,0], \", len(training_data[0]) = \", len(training_data[0]))"
   ]
  },
  {
   "cell_type": "markdown",
   "metadata": {},
   "source": [
    "#### 은닉층 노드 100 개 인 경우의 MNIST 오차역전파 (예제 1)"
   ]
  },
  {
   "cell_type": "code",
   "execution_count": 5,
   "metadata": {},
   "outputs": [
    {
     "name": "stdout",
     "output_type": "stream",
     "text": [
      "epochs =  0 , step =  0 , current loss_val =  6.034190682690956\n",
      "epochs =  0 , step =  1000 , current loss_val =  1.6122840185048568\n",
      "epochs =  0 , step =  2000 , current loss_val =  1.8369766716138305\n",
      "epochs =  0 , step =  3000 , current loss_val =  2.5712000565725788\n",
      "epochs =  0 , step =  4000 , current loss_val =  1.1195322862493213\n",
      "epochs =  0 , step =  5000 , current loss_val =  0.8568665439772024\n",
      "epochs =  0 , step =  6000 , current loss_val =  0.6437860319511591\n",
      "epochs =  0 , step =  7000 , current loss_val =  2.0451890794427374\n",
      "epochs =  0 , step =  8000 , current loss_val =  0.6691779740621624\n",
      "epochs =  0 , step =  9000 , current loss_val =  0.9443341579071138\n",
      "epochs =  0 , step =  10000 , current loss_val =  0.6497603675675286\n",
      "epochs =  0 , step =  11000 , current loss_val =  0.7259766486351718\n",
      "epochs =  0 , step =  12000 , current loss_val =  0.8181997753245803\n",
      "epochs =  0 , step =  13000 , current loss_val =  0.9520138659975792\n",
      "epochs =  0 , step =  14000 , current loss_val =  0.7539309231068727\n",
      "epochs =  0 , step =  15000 , current loss_val =  0.7534937741594253\n",
      "epochs =  0 , step =  16000 , current loss_val =  0.6559510210679241\n",
      "epochs =  0 , step =  17000 , current loss_val =  0.9637176224207155\n",
      "epochs =  0 , step =  18000 , current loss_val =  0.940245623749524\n",
      "epochs =  0 , step =  19000 , current loss_val =  0.8326105380562491\n",
      "epochs =  0 , step =  20000 , current loss_val =  0.6979500606072584\n",
      "epochs =  0 , step =  21000 , current loss_val =  1.0242074063950333\n",
      "epochs =  0 , step =  22000 , current loss_val =  0.9655998143963833\n",
      "epochs =  0 , step =  23000 , current loss_val =  0.7347543158516364\n",
      "epochs =  0 , step =  24000 , current loss_val =  0.7368320549259079\n",
      "epochs =  0 , step =  25000 , current loss_val =  1.2237586898973833\n",
      "epochs =  0 , step =  26000 , current loss_val =  0.669979846782681\n",
      "epochs =  0 , step =  27000 , current loss_val =  0.9594838113509738\n",
      "epochs =  0 , step =  28000 , current loss_val =  0.7543826832999933\n",
      "epochs =  0 , step =  29000 , current loss_val =  0.7509574430133633\n",
      "epochs =  0 , step =  30000 , current loss_val =  0.731785653573557\n",
      "epochs =  0 , step =  31000 , current loss_val =  2.2453828059070586\n",
      "epochs =  0 , step =  32000 , current loss_val =  0.6875311754972022\n",
      "epochs =  0 , step =  33000 , current loss_val =  1.1224510833702555\n",
      "epochs =  0 , step =  34000 , current loss_val =  0.9084523131901981\n",
      "epochs =  0 , step =  35000 , current loss_val =  0.7227275304098846\n",
      "epochs =  0 , step =  36000 , current loss_val =  0.9217485729480894\n",
      "epochs =  0 , step =  37000 , current loss_val =  0.7148641623438533\n",
      "epochs =  0 , step =  38000 , current loss_val =  0.8062633085329306\n",
      "epochs =  0 , step =  39000 , current loss_val =  1.1130159418390027\n",
      "epochs =  0 , step =  40000 , current loss_val =  0.7597794282662563\n",
      "epochs =  0 , step =  41000 , current loss_val =  0.7880973437567803\n",
      "epochs =  0 , step =  42000 , current loss_val =  0.706689332873265\n",
      "epochs =  0 , step =  43000 , current loss_val =  1.0703958274062626\n",
      "epochs =  0 , step =  44000 , current loss_val =  0.8048977318842269\n",
      "epochs =  0 , step =  45000 , current loss_val =  0.7987075836134738\n",
      "epochs =  0 , step =  46000 , current loss_val =  0.8538685922593432\n",
      "epochs =  0 , step =  47000 , current loss_val =  0.797259649439976\n",
      "epochs =  0 , step =  48000 , current loss_val =  0.8775704550752655\n",
      "epochs =  0 , step =  49000 , current loss_val =  0.7344063741036284\n",
      "epochs =  0 , step =  50000 , current loss_val =  0.8609835666779195\n",
      "epochs =  0 , step =  51000 , current loss_val =  0.7873502793720407\n",
      "epochs =  0 , step =  52000 , current loss_val =  0.7680884637574503\n",
      "epochs =  0 , step =  53000 , current loss_val =  0.8047030026741846\n",
      "epochs =  0 , step =  54000 , current loss_val =  0.8366314534225425\n",
      "epochs =  0 , step =  55000 , current loss_val =  0.689066177364427\n",
      "epochs =  0 , step =  56000 , current loss_val =  0.7127298462027531\n",
      "epochs =  0 , step =  57000 , current loss_val =  0.8890178898348639\n",
      "epochs =  0 , step =  58000 , current loss_val =  0.8963285800576939\n",
      "epochs =  0 , step =  59000 , current loss_val =  0.8636492688804154\n",
      "\n",
      "elapsed time =  0:00:45.375094\n"
     ]
    }
   ],
   "source": [
    "# hyper-parameter\n",
    "i_nodes = training_data.shape[1] - 1    # input nodes 개수\n",
    "h1_nodes = 100     # hidden 1 nodes\n",
    "o_nodes = 10       # output nodes\n",
    "lr = 0.1           # learning rate\n",
    "epochs = 1         # epochs\n",
    "\n",
    "# 손실함수 값을 저장할 list 생성\n",
    "loss_val_list = []\n",
    "\n",
    "nn = NeuralNetwork(i_nodes, h1_nodes, o_nodes, lr)\n",
    "\n",
    "start_time = datetime.now()\n",
    "\n",
    "for i in range(epochs):\n",
    "    \n",
    "    for step in range(len(training_data)):  # train\n",
    "    \n",
    "        # input_data, target_data normalize        \n",
    "        target_data = np.zeros(o_nodes) + 0.01    \n",
    "        target_data[int(training_data[step, 0])] = 0.99\n",
    "    \n",
    "        input_data = ((training_data[step, 1:] / 255.0) * 0.99) + 0.01\n",
    "    \n",
    "        nn.train( np.array(input_data, ndmin=2), np.array(target_data, ndmin=2) )\n",
    "    \n",
    "        if step % 1000 == 0:\n",
    "            print(\"epochs = \", i, \", step = \", step,  \", current loss_val = \", nn.loss_val())\n",
    "        \n",
    "        # 손실함수 값 저장\n",
    "        loss_val_list.append(nn.loss_val())        \n",
    "        \n",
    "end_time = datetime.now() \n",
    "print(\"\\nelapsed time = \", end_time - start_time) "
   ]
  },
  {
   "cell_type": "code",
   "execution_count": 8,
   "metadata": {},
   "outputs": [
    {
     "name": "stdout",
     "output_type": "stream",
     "text": [
      "test_data.shape =  (10000, 785)\n",
      "test_data[0,0] =  7.0 , len(test_data[0]) =  785\n",
      "Current Accuracy =  0.9339\n"
     ]
    }
   ],
   "source": [
    "# 0~9 숫자 이미지가 784개의 숫자 (28X28) 로 구성되어 있는 test data 읽어옴\n",
    "test_data = np.loadtxt('./(191110)mnist_test.csv', delimiter=',', dtype=np.float32)\n",
    "\n",
    "test_input_data = test_data[ : , 1: ]\n",
    "test_target_data = test_data[ : , 0 ]\n",
    "\n",
    "print(\"test_data.shape = \", test_data.shape)\n",
    "print(\"test_data[0,0] = \", test_data[0,0], \", len(test_data[0]) = \", len(test_data[0]))\n",
    "\n",
    "# measure accuracy\n",
    "(true_list, false_list, index_label_prediction_list) = nn.accuracy(test_input_data, test_target_data)   "
   ]
  },
  {
   "cell_type": "code",
   "execution_count": 9,
   "metadata": {},
   "outputs": [
    {
     "name": "stdout",
     "output_type": "stream",
     "text": [
      "[8, 33, 111, 124, 139, 149, 193, 241, 247, 259, 290, 300, 313, 320, 321, 325, 340, 352, 358, 362, 381, 403, 444, 445, 448, 449, 468, 479, 495, 502, 511, 532, 543, 550, 551, 565, 571, 578, 582, 591, 610, 613, 624, 628, 629, 659, 667, 684, 689, 691, 707, 717, 720, 740, 741, 760, 781, 787, 791, 810, 839, 844, 881, 898, 900, 924, 939, 947, 950, 951, 956, 959, 960, 965, 975, 990, 1003, 1012, 1014, 1032, 1039, 1055, 1062, 1068, 1073, 1082, 1096, 1101, 1107, 1112, 1114, 1119, 1125, 1173, 1181, 1191, 1192, 1194, 1198, 1200, 1202, 1204, 1206, 1208, 1224, 1226, 1232, 1242, 1243, 1247, 1252, 1256, 1260, 1270, 1272, 1283, 1289, 1299, 1319, 1325, 1326, 1328, 1337, 1357, 1378, 1391, 1393, 1409, 1410, 1413, 1422, 1433, 1440, 1453, 1466, 1467, 1469, 1494, 1500, 1522, 1525, 1527, 1530, 1549, 1553, 1571, 1581, 1609, 1621, 1634, 1678, 1681, 1696, 1702, 1709, 1716, 1717, 1718, 1721, 1722, 1737, 1751, 1754, 1759, 1772, 1790, 1813, 1828, 1839, 1850, 1855, 1865, 1878, 1883, 1899, 1901, 1911, 1917, 1930, 1938, 1940, 1941, 1952, 1956, 1963, 1970, 1984, 2016, 2024, 2035, 2040, 2043, 2044, 2053, 2070, 2093, 2098, 2099, 2109, 2118, 2125, 2129, 2130, 2135, 2138, 2148, 2177, 2182, 2185, 2186, 2189, 2208, 2224, 2266, 2272, 2293, 2299, 2325, 2369, 2371, 2387, 2393, 2394, 2395, 2404, 2406, 2422, 2423, 2425, 2433, 2447, 2488, 2514, 2526, 2539, 2545, 2559, 2573, 2574, 2598, 2604, 2607, 2610, 2631, 2635, 2648, 2654, 2683, 2713, 2730, 2771, 2780, 2818, 2832, 2877, 2896, 2905, 2907, 2919, 2921, 2925, 2927, 2953, 2986, 3005, 3060, 3062, 3073, 3100, 3110, 3114, 3117, 3130, 3132, 3133, 3136, 3145, 3151, 3166, 3167, 3183, 3189, 3206, 3216, 3225, 3240, 3262, 3269, 3288, 3316, 3329, 3330, 3333, 3376, 3405, 3410, 3436, 3450, 3490, 3503, 3520, 3533, 3549, 3558, 3559, 3567, 3573, 3580, 3597, 3604, 3626, 3629, 3674, 3702, 3716, 3718, 3726, 3730, 3751, 3757, 3758, 3767, 3769, 3776, 3780, 3794, 3796, 3801, 3806, 3808, 3811, 3817, 3818, 3836, 3838, 3846, 3848, 3853, 3855, 3862, 3876, 3893, 3902, 3906, 3926, 3941, 3943, 3946, 3951, 3954, 3968, 3976, 4000, 4007, 4013, 4017, 4027, 4063, 4065, 4068, 4072, 4075, 4076, 4078, 4093, 4131, 4140, 4152, 4159, 4176, 4177, 4199, 4201, 4205, 4211, 4212, 4224, 4238, 4248, 4256, 4265, 4271, 4289, 4297, 4300, 4306, 4313, 4315, 4341, 4355, 4356, 4359, 4369, 4374, 4382, 4400, 4423, 4427, 4433, 4435, 4449, 4451, 4477, 4497, 4498, 4500, 4523, 4540, 4567, 4575, 4578, 4601, 4615, 4639, 4671, 4690, 4695, 4731, 4751, 4761, 4763, 4785, 4807, 4814, 4820, 4823, 4827, 4829, 4837, 4852, 4860, 4863, 4876, 4879, 4880, 4886, 4890, 4896, 4915, 4939, 4950, 4956, 4966, 4981, 4990, 4995, 5054, 5065, 5067, 5068, 5078, 5140, 5159, 5177, 5201, 5210, 5246, 5278, 5331, 5457, 5495, 5569, 5600, 5611, 5617, 5620, 5634, 5642, 5649, 5688, 5709, 5714, 5718, 5734, 5735, 5749, 5835, 5842, 5845, 5854, 5858, 5866, 5887, 5888, 5891, 5906, 5913, 5914, 5922, 5926, 5936, 5937, 5955, 5957, 5972, 5973, 5975, 5982, 5985, 5997, 6004, 6024, 6035, 6042, 6043, 6056, 6059, 6065, 6071, 6081, 6091, 6109, 6157, 6166, 6172, 6347, 6390, 6391, 6392, 6400, 6425, 6505, 6555, 6568, 6569, 6577, 6578, 6597, 6598, 6603, 6625, 6632, 6645, 6651, 6706, 6721, 6744, 6746, 6765, 6769, 6775, 6785, 6796, 6872, 6906, 6926, 6981, 7049, 7121, 7130, 7153, 7216, 7220, 7338, 7432, 7434, 7451, 7498, 7539, 7691, 7779, 7797, 7800, 7821, 7842, 7849, 7850, 7858, 7859, 7876, 7886, 7888, 7899, 7902, 7915, 7917, 7918, 7921, 7945, 7990, 8020, 8062, 8072, 8081, 8091, 8094, 8095, 8165, 8279, 8339, 8353, 8406, 8408, 8410, 8453, 8520, 8522, 8863, 9009, 9010, 9013, 9015, 9016, 9019, 9024, 9031, 9036, 9045, 9110, 9139, 9168, 9209, 9211, 9280, 9316, 9433, 9446, 9456, 9482, 9513, 9534, 9538, 9587, 9595, 9614, 9634, 9655, 9679, 9698, 9700, 9716, 9719, 9729, 9744, 9745, 9749, 9752, 9764, 9768, 9770, 9777, 9779, 9780, 9808, 9811, 9839, 9856, 9858, 9867, 9879, 9883, 9892, 9893, 9905, 9925, 9941, 9944, 9970, 9975, 9980, 9982]\n"
     ]
    }
   ],
   "source": [
    "print(false_list)"
   ]
  },
  {
   "cell_type": "code",
   "execution_count": 10,
   "metadata": {},
   "outputs": [
    {
     "name": "stdout",
     "output_type": "stream",
     "text": [
      "[[8, 5, 6], [33, 4, 6], [111, 7, 1], [124, 7, 4], [139, 4, 9], [149, 2, 9], [193, 9, 3], [241, 9, 5], [247, 4, 6], [259, 6, 0], [290, 8, 4], [300, 4, 6], [313, 3, 5], [320, 9, 1], [321, 2, 7], [325, 4, 9], [340, 5, 3], [352, 5, 0], [358, 7, 9], [362, 2, 7], [381, 3, 7], [403, 8, 9], [444, 2, 8], [445, 6, 0], [448, 9, 8], [449, 3, 5], [468, 7, 2], [479, 9, 3], [495, 8, 2], [502, 5, 3], [511, 4, 1], [532, 4, 9], [543, 8, 3], [550, 7, 9], [551, 7, 1], [565, 4, 9], [571, 4, 9], [578, 3, 2], [582, 8, 3], [591, 8, 3], [610, 4, 6], [613, 2, 8], [624, 2, 1], [628, 3, 9], [629, 2, 6], [659, 2, 9], [667, 7, 1], [684, 7, 1], [689, 7, 9], [691, 8, 4], [707, 4, 9], [717, 0, 6], [720, 5, 8], [740, 4, 9], [741, 2, 8], [760, 4, 9], [781, 8, 3], [787, 8, 3], [791, 5, 9], [810, 7, 2], [839, 8, 3], [844, 8, 7], [881, 4, 9], [898, 7, 2], [900, 1, 3], [924, 2, 7], [939, 2, 0], [947, 8, 9], [950, 7, 2], [951, 5, 4], [956, 1, 6], [959, 4, 9], [960, 7, 1], [965, 6, 0], [975, 2, 3], [990, 2, 3], [1003, 5, 3], [1012, 7, 9], [1014, 6, 5], [1032, 5, 8], [1039, 7, 9], [1055, 7, 9], [1062, 3, 9], [1068, 8, 4], [1073, 5, 8], [1082, 5, 3], [1096, 7, 9], [1101, 8, 3], [1107, 9, 3], [1112, 4, 6], [1114, 3, 8], [1119, 7, 2], [1125, 8, 9], [1173, 7, 9], [1181, 6, 1], [1191, 0, 6], [1192, 9, 4], [1194, 7, 9], [1198, 8, 4], [1200, 8, 3], [1202, 8, 5], [1204, 3, 8], [1206, 7, 2], [1208, 3, 9], [1224, 2, 6], [1226, 7, 2], [1232, 9, 6], [1242, 4, 9], [1243, 5, 6], [1247, 9, 0], [1252, 5, 3], [1256, 2, 0], [1260, 7, 1], [1270, 4, 9], [1272, 5, 4], [1283, 7, 2], [1289, 5, 9], [1299, 5, 7], [1319, 8, 3], [1325, 8, 6], [1326, 7, 2], [1328, 7, 9], [1337, 2, 6], [1357, 4, 9], [1378, 5, 6], [1391, 4, 9], [1393, 5, 3], [1409, 2, 1], [1410, 2, 6], [1413, 4, 9], [1422, 4, 9], [1433, 8, 1], [1440, 4, 9], [1453, 4, 9], [1466, 5, 3], [1467, 5, 9], [1469, 3, 5], [1494, 7, 9], [1500, 7, 1], [1522, 7, 9], [1525, 5, 0], [1527, 1, 6], [1530, 8, 7], [1549, 4, 6], [1553, 9, 8], [1571, 4, 9], [1581, 7, 9], [1609, 2, 6], [1621, 0, 6], [1634, 4, 7], [1678, 2, 0], [1681, 3, 7], [1696, 2, 9], [1702, 8, 3], [1709, 9, 3], [1716, 7, 1], [1717, 8, 0], [1718, 7, 9], [1721, 7, 9], [1722, 2, 4], [1737, 5, 3], [1751, 4, 3], [1754, 7, 2], [1759, 8, 6], [1772, 7, 9], [1790, 2, 9], [1813, 8, 5], [1828, 3, 7], [1839, 2, 3], [1850, 8, 7], [1855, 8, 3], [1865, 4, 9], [1878, 8, 3], [1883, 7, 9], [1899, 8, 3], [1901, 9, 4], [1911, 5, 0], [1917, 5, 8], [1930, 2, 4], [1938, 4, 6], [1940, 5, 0], [1941, 7, 4], [1952, 9, 3], [1956, 4, 9], [1963, 4, 9], [1970, 5, 3], [1984, 2, 0], [2016, 7, 2], [2024, 7, 9], [2035, 5, 3], [2040, 5, 4], [2043, 4, 8], [2044, 2, 7], [2053, 4, 9], [2070, 7, 9], [2093, 8, 1], [2098, 2, 0], [2099, 8, 9], [2109, 3, 7], [2118, 6, 0], [2125, 5, 9], [2129, 9, 2], [2130, 4, 9], [2135, 6, 1], [2138, 2, 3], [2148, 4, 9], [2177, 8, 3], [2182, 1, 2], [2185, 0, 5], [2186, 2, 3], [2189, 9, 1], [2208, 8, 3], [2224, 5, 6], [2266, 1, 6], [2272, 8, 0], [2293, 9, 6], [2299, 2, 7], [2325, 7, 2], [2369, 5, 9], [2371, 4, 9], [2387, 9, 1], [2393, 8, 3], [2394, 4, 9], [2395, 8, 3], [2404, 4, 2], [2406, 9, 1], [2422, 6, 4], [2423, 8, 9], [2425, 8, 3], [2433, 2, 1], [2447, 4, 9], [2488, 2, 6], [2514, 4, 9], [2526, 5, 3], [2539, 7, 9], [2545, 5, 3], [2559, 5, 3], [2573, 5, 8], [2574, 5, 7], [2598, 8, 2], [2604, 5, 3], [2607, 7, 1], [2610, 2, 8], [2631, 0, 6], [2635, 2, 7], [2648, 9, 0], [2654, 6, 1], [2683, 4, 9], [2713, 0, 8], [2730, 7, 4], [2771, 4, 9], [2780, 2, 3], [2818, 4, 9], [2832, 5, 3], [2877, 4, 9], [2896, 8, 0], [2905, 8, 3], [2907, 4, 9], [2919, 5, 9], [2921, 3, 2], [2925, 5, 0], [2927, 3, 2], [2953, 3, 5], [2986, 5, 6], [3005, 9, 1], [3060, 9, 7], [3062, 8, 3], [3073, 1, 2], [3100, 5, 3], [3110, 3, 5], [3114, 4, 6], [3117, 5, 9], [3130, 6, 0], [3132, 1, 2], [3133, 4, 9], [3136, 7, 9], [3145, 5, 9], [3151, 2, 1], [3166, 7, 9], [3167, 3, 1], [3183, 5, 9], [3189, 7, 4], [3206, 8, 3], [3216, 8, 3], [3225, 7, 1], [3240, 9, 3], [3262, 7, 1], [3269, 6, 3], [3288, 4, 9], [3316, 7, 4], [3329, 7, 3], [3330, 2, 3], [3333, 7, 9], [3376, 7, 9], [3405, 4, 9], [3410, 4, 9], [3436, 2, 1], [3450, 0, 8], [3490, 4, 3], [3503, 9, 1], [3520, 6, 4], [3533, 4, 9], [3549, 3, 2], [3558, 5, 0], [3559, 8, 5], [3567, 8, 5], [3573, 7, 4], [3580, 7, 1], [3597, 9, 3], [3604, 7, 0], [3626, 8, 3], [3629, 8, 3], [3674, 8, 3], [3702, 5, 3], [3716, 9, 3], [3718, 4, 9], [3726, 4, 9], [3730, 7, 9], [3751, 7, 1], [3757, 8, 1], [3758, 4, 9], [3767, 7, 2], [3769, 3, 9], [3776, 5, 8], [3780, 4, 6], [3794, 8, 3], [3796, 2, 1], [3801, 6, 0], [3806, 5, 8], [3808, 7, 3], [3811, 2, 4], [3817, 2, 8], [3818, 0, 6], [3836, 7, 9], [3838, 7, 1], [3846, 6, 2], [3848, 7, 3], [3853, 6, 5], [3855, 5, 0], [3862, 2, 3], [3876, 2, 3], [3893, 5, 6], [3902, 5, 3], [3906, 1, 3], [3926, 9, 3], [3941, 4, 6], [3943, 3, 5], [3946, 2, 1], [3951, 8, 2], [3954, 8, 9], [3968, 5, 3], [3976, 7, 1], [4000, 9, 4], [4007, 7, 9], [4013, 1, 3], [4017, 4, 9], [4027, 7, 9], [4063, 6, 5], [4065, 0, 6], [4068, 8, 3], [4072, 5, 3], [4075, 8, 0], [4076, 5, 9], [4078, 9, 3], [4093, 9, 4], [4131, 5, 3], [4140, 8, 2], [4152, 5, 1], [4159, 8, 3], [4176, 2, 6], [4177, 5, 4], [4199, 7, 9], [4201, 1, 7], [4205, 2, 1], [4211, 6, 5], [4212, 1, 3], [4224, 9, 7], [4238, 7, 9], [4248, 2, 4], [4256, 3, 2], [4265, 4, 1], [4271, 5, 3], [4289, 2, 7], [4297, 7, 3], [4300, 5, 9], [4306, 3, 7], [4313, 4, 9], [4315, 5, 9], [4341, 2, 3], [4355, 5, 9], [4356, 5, 8], [4359, 5, 7], [4369, 9, 4], [4374, 5, 6], [4382, 4, 9], [4400, 7, 9], [4423, 7, 9], [4427, 2, 3], [4433, 7, 3], [4435, 3, 7], [4449, 6, 0], [4451, 2, 8], [4477, 0, 6], [4497, 8, 7], [4498, 7, 3], [4500, 9, 1], [4523, 8, 3], [4540, 7, 3], [4567, 4, 9], [4575, 4, 2], [4578, 7, 9], [4601, 8, 4], [4615, 2, 4], [4639, 8, 9], [4671, 8, 3], [4690, 7, 2], [4695, 4, 9], [4731, 8, 7], [4751, 4, 6], [4761, 9, 1], [4763, 5, 6], [4785, 3, 8], [4807, 8, 3], [4814, 6, 0], [4820, 8, 3], [4823, 9, 6], [4827, 4, 9], [4829, 8, 3], [4837, 7, 1], [4852, 8, 6], [4860, 4, 9], [4863, 8, 9], [4876, 2, 4], [4879, 8, 6], [4880, 0, 8], [4886, 7, 1], [4890, 8, 6], [4896, 4, 9], [4915, 5, 8], [4939, 2, 3], [4950, 2, 3], [4956, 8, 4], [4966, 7, 1], [4981, 2, 3], [4990, 3, 1], [4995, 2, 3], [5054, 3, 8], [5065, 8, 1], [5067, 3, 2], [5068, 4, 1], [5078, 3, 2], [5140, 3, 2], [5159, 4, 9], [5177, 7, 9], [5201, 4, 9], [5210, 9, 7], [5246, 7, 2], [5278, 8, 9], [5331, 1, 6], [5457, 1, 8], [5495, 8, 3], [5569, 8, 0], [5600, 7, 9], [5611, 8, 1], [5617, 4, 9], [5620, 7, 9], [5634, 2, 3], [5642, 1, 8], [5649, 7, 9], [5688, 7, 9], [5709, 7, 9], [5714, 7, 9], [5718, 0, 8], [5734, 3, 7], [5735, 5, 6], [5749, 8, 6], [5835, 7, 9], [5842, 4, 7], [5845, 7, 9], [5854, 7, 9], [5858, 7, 9], [5866, 7, 9], [5887, 7, 0], [5888, 4, 0], [5891, 5, 3], [5906, 7, 9], [5913, 5, 3], [5914, 7, 9], [5922, 5, 3], [5926, 4, 9], [5936, 4, 9], [5937, 5, 3], [5955, 3, 8], [5957, 5, 3], [5972, 5, 3], [5973, 3, 8], [5975, 4, 9], [5982, 5, 3], [5985, 5, 3], [5997, 5, 3], [6004, 8, 9], [6024, 8, 9], [6035, 2, 0], [6042, 5, 3], [6043, 5, 3], [6056, 8, 3], [6059, 3, 9], [6065, 3, 8], [6071, 9, 3], [6081, 9, 8], [6091, 9, 0], [6109, 2, 6], [6157, 9, 0], [6166, 9, 3], [6172, 9, 0], [6347, 8, 6], [6390, 5, 8], [6391, 2, 6], [6392, 5, 2], [6400, 0, 6], [6425, 6, 2], [6505, 9, 0], [6555, 8, 9], [6568, 9, 4], [6569, 3, 9], [6577, 7, 2], [6578, 8, 1], [6597, 0, 7], [6598, 5, 2], [6603, 8, 9], [6625, 8, 7], [6632, 9, 5], [6645, 2, 8], [6651, 0, 5], [6706, 5, 9], [6721, 2, 4], [6744, 2, 8], [6746, 5, 4], [6765, 8, 6], [6769, 4, 9], [6775, 5, 1], [6785, 2, 4], [6796, 2, 7], [6872, 4, 6], [6906, 2, 6], [6926, 6, 4], [6981, 5, 6], [7049, 0, 6], [7121, 8, 9], [7130, 3, 8], [7153, 4, 9], [7216, 0, 6], [7220, 8, 3], [7338, 4, 9], [7432, 7, 1], [7434, 4, 8], [7451, 5, 6], [7498, 5, 3], [7539, 2, 8], [7691, 8, 3], [7779, 5, 8], [7797, 5, 6], [7800, 3, 2], [7821, 3, 2], [7842, 5, 8], [7849, 3, 9], [7850, 5, 6], [7858, 3, 2], [7859, 5, 6], [7876, 2, 9], [7886, 2, 4], [7888, 5, 4], [7899, 1, 8], [7902, 7, 8], [7915, 7, 8], [7917, 2, 4], [7918, 5, 6], [7921, 8, 6], [7945, 2, 6], [7990, 1, 8], [8020, 1, 8], [8062, 5, 8], [8072, 5, 3], [8081, 4, 6], [8091, 2, 8], [8094, 2, 8], [8095, 4, 6], [8165, 2, 4], [8279, 8, 6], [8339, 8, 6], [8353, 2, 4], [8406, 4, 9], [8408, 8, 6], [8410, 8, 6], [8453, 5, 3], [8520, 4, 9], [8522, 8, 6], [8863, 5, 6], [9009, 7, 2], [9010, 2, 8], [9013, 5, 6], [9015, 7, 2], [9016, 0, 5], [9019, 7, 2], [9024, 7, 2], [9031, 7, 2], [9036, 7, 2], [9045, 7, 2], [9110, 8, 3], [9139, 8, 3], [9168, 2, 1], [9209, 2, 8], [9211, 4, 9], [9280, 8, 5], [9316, 8, 3], [9433, 8, 6], [9446, 2, 6], [9456, 2, 7], [9482, 5, 3], [9513, 5, 4], [9534, 7, 9], [9538, 4, 9], [9587, 9, 4], [9595, 2, 8], [9614, 3, 5], [9634, 0, 3], [9655, 3, 2], [9679, 6, 3], [9698, 6, 5], [9700, 2, 6], [9716, 2, 0], [9719, 5, 0], [9729, 5, 6], [9744, 8, 1], [9745, 4, 2], [9749, 5, 6], [9752, 2, 0], [9764, 4, 9], [9768, 2, 0], [9770, 5, 0], [9777, 5, 0], [9779, 2, 0], [9780, 8, 1], [9808, 9, 4], [9811, 2, 8], [9839, 2, 7], [9856, 9, 4], [9858, 6, 3], [9867, 2, 8], [9879, 0, 2], [9883, 5, 1], [9892, 8, 6], [9893, 2, 8], [9905, 3, 9], [9925, 3, 8], [9941, 5, 6], [9944, 3, 9], [9970, 5, 3], [9975, 3, 2], [9980, 2, 3], [9982, 5, 6]]\n"
     ]
    }
   ],
   "source": [
    "print(index_label_prediction_list)"
   ]
  },
  {
   "cell_type": "markdown",
   "metadata": {},
   "source": [
    "#### 오답 확인"
   ]
  },
  {
   "cell_type": "code",
   "execution_count": 11,
   "metadata": {},
   "outputs": [
    {
     "data": {
      "image/png": "[encoded data removed]",
      "text/plain": [
       "<Figure size 432x288 with 1 Axes>"
      ]
     },
     "metadata": {
      "needs_background": "light"
     },
     "output_type": "display_data"
    }
   ],
   "source": [
    "# check false data\n",
    "import matplotlib.pyplot as plt\n",
    "%matplotlib inline\n",
    "\n",
    "img = test_data[1901, 1:].reshape(28,28)\n",
    "\n",
    "plt.imshow(img, cmap='gray')\n",
    "plt.show()"
   ]
  },
  {
   "cell_type": "code",
   "execution_count": 12,
   "metadata": {},
   "outputs": [
    {
     "data": {
      "image/png": "[encoded data removed]",
      "text/plain": [
       "<Figure size 432x288 with 1 Axes>"
      ]
     },
     "metadata": {
      "needs_background": "light"
     },
     "output_type": "display_data"
    }
   ],
   "source": [
    "img = test_data[9982, 1:].reshape(28,28)\n",
    "\n",
    "plt.imshow(img, cmap='gray')\n",
    "plt.show()"
   ]
  },
  {
   "cell_type": "code",
   "execution_count": 13,
   "metadata": {},
   "outputs": [
    {
     "data": {
      "image/png": "[encoded data removed]",
      "text/plain": [
       "<Figure size 432x288 with 1 Axes>"
      ]
     },
     "metadata": {
      "needs_background": "light"
     },
     "output_type": "display_data"
    }
   ],
   "source": [
    "img = test_data[717, 1:].reshape(28,28)\n",
    "\n",
    "plt.imshow(img, cmap='gray')\n",
    "plt.show()"
   ]
  },
  {
   "cell_type": "code",
   "execution_count": 14,
   "metadata": {},
   "outputs": [
    {
     "data": {
      "image/png": "[encoded data removed]",
      "text/plain": [
       "<Figure size 432x288 with 1 Axes>"
      ]
     },
     "metadata": {
      "needs_background": "light"
     },
     "output_type": "display_data"
    }
   ],
   "source": [
    "# 손실함수 추세 확인\n",
    "Y_DATA_LIST = []\n",
    "\n",
    "for index in range(0, len(loss_val_list), 500):\n",
    "    Y_DATA_LIST.append(loss_val_list[index])\n",
    "    \n",
    "plt.title('MNIST Loss Value Trend')\n",
    "plt.xlabel('data index ( X 500)')\n",
    "plt.ylabel('loss value')\n",
    "plt.grid()\n",
    "plt.plot(Y_DATA_LIST, color='b')\n",
    "plt.show()"
   ]
  },
  {
   "cell_type": "markdown",
   "metadata": {},
   "source": [
    "#### 최대손실값 / 최소손실값 확인 (예제 2)"
   ]
  },
  {
   "cell_type": "code",
   "execution_count": 15,
   "metadata": {},
   "outputs": [
    {
     "name": "stdout",
     "output_type": "stream",
     "text": [
      "max_loss =  17.776644815190693 , max_loss_index =  59915 , min_loss =  0.5742615279839673 , min_loss_index =  6529\n"
     ]
    }
   ],
   "source": [
    "max_loss = np.max(loss_val_list)\n",
    "min_loss = np.min(loss_val_list)\n",
    "max_loss_index = np.argmax(loss_val_list)\n",
    "min_loss_index = np.argmin(loss_val_list)\n",
    "\n",
    "print(\"max_loss = \", max_loss, \", max_loss_index = \", max_loss_index, \", min_loss = \", min_loss, \", min_loss_index = \", min_loss_index)"
   ]
  },
  {
   "cell_type": "code",
   "execution_count": 16,
   "metadata": {},
   "outputs": [
    {
     "data": {
      "image/png": "[encoded data removed]",
      "text/plain": [
       "<Figure size 432x288 with 1 Axes>"
      ]
     },
     "metadata": {
      "needs_background": "light"
     },
     "output_type": "display_data"
    },
    {
     "name": "stdout",
     "output_type": "stream",
     "text": [
      "label =  4.0\n"
     ]
    }
   ],
   "source": [
    "# check max loss data\n",
    "import matplotlib.pyplot as plt\n",
    "%matplotlib inline\n",
    "\n",
    "img = training_data[max_loss_index, 1:].reshape(28,28)\n",
    "\n",
    "plt.imshow(img, cmap='gray')\n",
    "plt.show()\n",
    "\n",
    "print(\"label = \", training_data[max_loss_index, 0])"
   ]
  },
  {
   "cell_type": "code",
   "execution_count": 17,
   "metadata": {},
   "outputs": [
    {
     "data": {
      "image/png": "[encoded data removed]",
      "text/plain": [
       "<Figure size 432x288 with 1 Axes>"
      ]
     },
     "metadata": {
      "needs_background": "light"
     },
     "output_type": "display_data"
    },
    {
     "name": "stdout",
     "output_type": "stream",
     "text": [
      "label =  5.0\n"
     ]
    }
   ],
   "source": [
    "# check min loss data\n",
    "import matplotlib.pyplot as plt\n",
    "%matplotlib inline\n",
    "\n",
    "img = training_data[min_loss_index, 1:].reshape(28,28)\n",
    "\n",
    "plt.imshow(img, cmap='gray')\n",
    "plt.show()\n",
    "\n",
    "print(\"label = \", training_data[min_loss_index, 0])"
   ]
  },
  {
   "cell_type": "code",
   "execution_count": null,
   "metadata": {
    "collapsed": true
   },
   "outputs": [],
   "source": []
  }
 ],
 "metadata": {
  "anaconda-cloud": {},
  "kernelspec": {
   "display_name": "Python 3",
   "language": "python",
   "name": "python3"
  },
  "language_info": {
   "codemirror_mode": {
    "name": "ipython",
    "version": 3
   },
   "file_extension": ".py",
   "mimetype": "text/x-python",
   "name": "python",
   "nbconvert_exporter": "python",
   "pygments_lexer": "ipython3",
   "version": "3.7.4"
  }
 },
 "nbformat": 4,
 "nbformat_minor": 1
}

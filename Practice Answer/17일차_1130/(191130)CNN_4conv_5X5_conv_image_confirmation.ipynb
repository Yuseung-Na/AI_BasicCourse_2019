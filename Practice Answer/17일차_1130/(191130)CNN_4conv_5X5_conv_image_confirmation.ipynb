{
 "cells": [
  {
   "cell_type": "code",
   "execution_count": 1,
   "metadata": {},
   "outputs": [
    {
     "name": "stdout",
     "output_type": "stream",
     "text": [
      "WARNING:tensorflow:From <ipython-input-1-490d31805250>:10: read_data_sets (from tensorflow.contrib.learn.python.learn.datasets.mnist) is deprecated and will be removed in a future version.\n",
      "Instructions for updating:\n",
      "Please use alternatives such as official/mnist/dataset.py from tensorflow/models.\n",
      "WARNING:tensorflow:From /home/ai0/anaconda3/lib/python3.7/site-packages/tensorflow_core/contrib/learn/python/learn/datasets/mnist.py:260: maybe_download (from tensorflow.contrib.learn.python.learn.datasets.base) is deprecated and will be removed in a future version.\n",
      "Instructions for updating:\n",
      "Please write your own downloading logic.\n",
      "WARNING:tensorflow:From /home/ai0/anaconda3/lib/python3.7/site-packages/tensorflow_core/contrib/learn/python/learn/datasets/mnist.py:262: extract_images (from tensorflow.contrib.learn.python.learn.datasets.mnist) is deprecated and will be removed in a future version.\n",
      "Instructions for updating:\n",
      "Please use tf.data to implement this functionality.\n",
      "Extracting MNIST_data/train-images-idx3-ubyte.gz\n",
      "WARNING:tensorflow:From /home/ai0/anaconda3/lib/python3.7/site-packages/tensorflow_core/contrib/learn/python/learn/datasets/mnist.py:267: extract_labels (from tensorflow.contrib.learn.python.learn.datasets.mnist) is deprecated and will be removed in a future version.\n",
      "Instructions for updating:\n",
      "Please use tf.data to implement this functionality.\n",
      "Extracting MNIST_data/train-labels-idx1-ubyte.gz\n",
      "WARNING:tensorflow:From /home/ai0/anaconda3/lib/python3.7/site-packages/tensorflow_core/contrib/learn/python/learn/datasets/mnist.py:110: dense_to_one_hot (from tensorflow.contrib.learn.python.learn.datasets.mnist) is deprecated and will be removed in a future version.\n",
      "Instructions for updating:\n",
      "Please use tf.one_hot on tensors.\n",
      "Extracting MNIST_data/t10k-images-idx3-ubyte.gz\n",
      "Extracting MNIST_data/t10k-labels-idx1-ubyte.gz\n",
      "WARNING:tensorflow:From /home/ai0/anaconda3/lib/python3.7/site-packages/tensorflow_core/contrib/learn/python/learn/datasets/mnist.py:290: DataSet.__init__ (from tensorflow.contrib.learn.python.learn.datasets.mnist) is deprecated and will be removed in a future version.\n",
      "Instructions for updating:\n",
      "Please use alternatives such as official/mnist/dataset.py from tensorflow/models.\n",
      "\n",
      " 55000 10000 5000\n",
      "\n",
      "train image shape =  (55000, 784)\n",
      "train label shape =  (55000, 10)\n",
      "test image shape =  (10000, 784)\n",
      "test label shape =  (10000, 10)\n"
     ]
    }
   ],
   "source": [
    "import tensorflow as tf\n",
    "from tensorflow.examples.tutorials.mnist import input_data\n",
    "import numpy as np\n",
    "from datetime import datetime      # datetime.now() 를 이용하여 학습 경과 시간 측정\n",
    "import matplotlib.pyplot as plt\n",
    "\n",
    "# read_data_sets() 를 통해 데이터를 객체형태로 받아오고\n",
    "# one_hot 옵션을 통해 정답(label) 을 one-hot 인코딩된 형태로 받아옴\n",
    "\n",
    "mnist = input_data.read_data_sets(\"MNIST_data/\", one_hot=True)\n",
    "\n",
    "# mnist 데이터 셋은 train, test, validation 3개의 데이터 셋으로 구성되어 있으며.\n",
    "# num_examples 값을 통해 데이터의 갯수 확인 가능함\n",
    "\n",
    "print(\"\\n\", mnist.train.num_examples, mnist.test.num_examples, mnist.validation.num_examples)\n",
    "\n",
    "# 데이터는 784(28x28)개의 픽셀을 가지는 이미지와\n",
    "# 10(0~9)개 클래스를 가지는 one-hot 인코딩된 레이블(정답)을 가지고 있음\n",
    "\n",
    "print(\"\\ntrain image shape = \", np.shape(mnist.train.images))\n",
    "print(\"train label shape = \", np.shape(mnist.train.labels))\n",
    "print(\"test image shape = \", np.shape(mnist.test.images))\n",
    "print(\"test label shape = \", np.shape(mnist.test.labels))"
   ]
  },
  {
   "cell_type": "code",
   "execution_count": 2,
   "metadata": {},
   "outputs": [],
   "source": [
    "# Hyper-Parameter\n",
    "learning_rate = 0.001  # 학습율\n",
    "epochs = 20            # 반복횟수\n",
    "batch_size = 100      # 한번에 입력으로 주어지는 MNIST 개수"
   ]
  },
  {
   "cell_type": "code",
   "execution_count": 3,
   "metadata": {},
   "outputs": [],
   "source": [
    "# 입력과 정답을 위한 플레이스홀더 정의\n",
    "X = tf.placeholder(tf.float32, [None, 784])  \n",
    "\n",
    "T = tf.placeholder(tf.float32, [None, 10])  \n",
    "\n",
    "# 입력층의 출력 값. 컨볼루션 연산을 위해 reshape 시킴\n",
    "A1 = X_img = tf.reshape(X, [-1, 28, 28, 1])   # image 28 X 28 X 1 (black/white)"
   ]
  },
  {
   "cell_type": "code",
   "execution_count": 4,
   "metadata": {},
   "outputs": [],
   "source": [
    "# 1번째 컨볼루션 층\n",
    "# 5X5크기를 가지는 32개의 필터를 적용\n",
    "\n",
    "F2 = tf.Variable(tf.random_normal([5, 5, 1, 32], stddev=0.01))  \n",
    "b2 = tf.Variable(tf.constant(0.1, shape=[32]))   \n",
    "\n",
    "# 1번째 컨볼루션 연산을 통해 28 X 28 X1  => 28 X 28 X 32 \n",
    "C2 = tf.nn.conv2d(A1, F2, strides=[1, 1, 1, 1], padding='SAME')\n",
    "\n",
    "# relu\n",
    "Z2 = tf.nn.relu(C2+b2)\n",
    "\n",
    "# 1번째 max pooling을 통해 28 X 28 X 32  => 14 X 14 X 32 \n",
    "A2 = P2 = tf.nn.max_pool(Z2, ksize=[1, 2, 2, 1], strides=[1, 2, 2, 1], padding='SAME')"
   ]
  },
  {
   "cell_type": "code",
   "execution_count": 5,
   "metadata": {},
   "outputs": [],
   "source": [
    "# 2번째 컨볼루션 층\n",
    "F3 = tf.Variable(tf.random_normal([5, 5, 32, 64], stddev=0.01))  \n",
    "b3 = tf.Variable(tf.constant(0.1, shape=[64]))   \n",
    "\n",
    "# 2번째 컨볼루션 연산을 통해 14 X 14 X 32 => 14 X 14 X 64 \n",
    "C3 = tf.nn.conv2d(A2, F3, strides=[1, 1, 1, 1], padding='SAME')\n",
    "\n",
    "# relu\n",
    "Z3 = tf.nn.relu(C3+b3)\n",
    "\n",
    "# 2번째 max pooling을 통해 14 X 14 X 64 => 7 X 7 X 64\n",
    "A3 = P3 = tf.nn.max_pool(Z3, ksize=[1, 2, 2, 1], strides=[1, 2, 2, 1], padding='SAME')"
   ]
  },
  {
   "cell_type": "code",
   "execution_count": 6,
   "metadata": {},
   "outputs": [],
   "source": [
    "# 3번째 컨볼루션 층\n",
    "F4 = tf.Variable(tf.random_normal([5, 5, 64, 128], stddev=0.01))  \n",
    "b4 = tf.Variable(tf.constant(0.1, shape=[128]))   \n",
    "\n",
    "# 3번째 컨볼루션 연산을 통해 7 X 7 X 64 => 7 X 7 X 128\n",
    "C4 = tf.nn.conv2d(A3, F4, strides=[1, 1, 1, 1], padding='SAME')\n",
    "\n",
    "# relu\n",
    "Z4 = tf.nn.relu(C4+b4)\n",
    "\n",
    "# 3번째 max pooling을 통해 7 X 7 X 128 => 4 X 4 X 128\n",
    "A4 = tf.nn.max_pool(Z4, ksize=[1, 2, 2, 1], strides=[1, 2, 2, 1], padding='SAME')"
   ]
  },
  {
   "cell_type": "code",
   "execution_count": 7,
   "metadata": {},
   "outputs": [],
   "source": [
    "# 4번째 컨볼루션 층\n",
    "F5 = tf.Variable(tf.random_normal([5, 5, 128, 256], stddev=0.01))  \n",
    "b5 = tf.Variable(tf.constant(0.1, shape=[256]))   \n",
    "\n",
    "# 3번째 컨볼루션 연산을 통해 4 X 4 X 128 => 4 X 4 X 256\n",
    "C5 = tf.nn.conv2d(A4, F5, strides=[1, 1, 1, 1], padding='SAME')\n",
    "\n",
    "# relu\n",
    "Z5 = tf.nn.relu(C5+b5)\n",
    "\n",
    "# 3번째 max pooling을 통해 4 X 4 X 256 => 2 X 2 X 256\n",
    "A5 = P5 = tf.nn.max_pool(Z5, ksize=[1, 2, 2, 1], strides=[1, 2, 2, 1], padding='SAME')"
   ]
  },
  {
   "cell_type": "code",
   "execution_count": 8,
   "metadata": {},
   "outputs": [],
   "source": [
    "# 2X2 크기를 가진 256개의 activation map을 flatten 시킴\n",
    "A5_flat = P5_flat = tf.reshape(A5, [-1, 256*2*2])"
   ]
  },
  {
   "cell_type": "code",
   "execution_count": 9,
   "metadata": {},
   "outputs": [],
   "source": [
    "# 출력층\n",
    "W6 = tf.Variable(tf.random_normal([256*2*2, 10], stddev=0.01))\n",
    "b6 = tf.Variable(tf.random_normal([10]))\n",
    "\n",
    "# 출력층 선형회귀  값 Z6, 즉 softmax 에 들어가는 입력 값\n",
    "Z6 = logits = tf.matmul(A5_flat, W6) + b6    # 선형회귀 값 Z6\n",
    "\n",
    "y = A6 = tf.nn.softmax(Z6)"
   ]
  },
  {
   "cell_type": "code",
   "execution_count": 10,
   "metadata": {},
   "outputs": [],
   "source": [
    "loss = tf.reduce_mean( tf.nn.softmax_cross_entropy_with_logits_v2(logits=Z6, labels=T) )\n",
    "\n",
    "optimizer = tf.train.AdamOptimizer(learning_rate)\n",
    "\n",
    "train = optimizer.minimize(loss)  "
   ]
  },
  {
   "cell_type": "code",
   "execution_count": 11,
   "metadata": {},
   "outputs": [],
   "source": [
    "# batch_size X 10 데이터에 대해 argmax를 통해 행단위로 비교함\n",
    "predicted_val = tf.equal( tf.argmax(A6, 1), tf.argmax(T, 1) )\n",
    "\n",
    "# batch_size X 10 의 True, False 를 1 또는 0 으로 변환\n",
    "accuracy = tf.reduce_mean(tf.cast(predicted_val, dtype=tf.float32))\n",
    "\n",
    "# index list 출력\n",
    "accuracy_index = tf.cast(predicted_val, dtype=tf.float32)\n",
    "\n",
    "# 예측값 처리\n",
    "predicted_list = tf.argmax(A6, 1)"
   ]
  },
  {
   "cell_type": "code",
   "execution_count": 16,
   "metadata": {},
   "outputs": [
    {
     "name": "stdout",
     "output_type": "stream",
     "text": [
      "epochs =  0 , step =  0 , loss_val =  2.5487924\n",
      "epochs =  0 , step =  100 , loss_val =  0.8736417\n",
      "epochs =  0 , step =  200 , loss_val =  0.1686576\n",
      "epochs =  0 , step =  300 , loss_val =  0.11180592\n",
      "epochs =  0 , step =  400 , loss_val =  0.15173315\n",
      "epochs =  0 , step =  500 , loss_val =  0.035385713\n",
      "epochs =  1 , step =  0 , loss_val =  0.05585437\n",
      "epochs =  1 , step =  100 , loss_val =  0.04565309\n",
      "epochs =  1 , step =  200 , loss_val =  0.021381846\n",
      "epochs =  1 , step =  300 , loss_val =  0.13742588\n",
      "epochs =  1 , step =  400 , loss_val =  0.056340456\n",
      "epochs =  1 , step =  500 , loss_val =  0.0039828774\n",
      "epochs =  2 , step =  0 , loss_val =  0.07677552\n",
      "epochs =  2 , step =  100 , loss_val =  0.0075911107\n",
      "epochs =  2 , step =  200 , loss_val =  0.009237464\n",
      "epochs =  2 , step =  300 , loss_val =  0.02572795\n",
      "epochs =  2 , step =  400 , loss_val =  0.012710011\n",
      "epochs =  2 , step =  500 , loss_val =  0.04557061\n",
      "epochs =  3 , step =  0 , loss_val =  0.019790532\n",
      "epochs =  3 , step =  100 , loss_val =  0.030216474\n",
      "epochs =  3 , step =  200 , loss_val =  0.016154129\n",
      "epochs =  3 , step =  300 , loss_val =  0.03422898\n",
      "epochs =  3 , step =  400 , loss_val =  0.0018091989\n",
      "epochs =  3 , step =  500 , loss_val =  0.08149757\n",
      "epochs =  4 , step =  0 , loss_val =  0.0097444495\n",
      "epochs =  4 , step =  100 , loss_val =  0.026419101\n",
      "epochs =  4 , step =  200 , loss_val =  0.04179187\n",
      "epochs =  4 , step =  300 , loss_val =  0.0006450156\n",
      "epochs =  4 , step =  400 , loss_val =  0.0064475606\n",
      "epochs =  4 , step =  500 , loss_val =  0.0097152935\n",
      "epochs =  5 , step =  0 , loss_val =  0.025878439\n",
      "epochs =  5 , step =  100 , loss_val =  0.0012653724\n",
      "epochs =  5 , step =  200 , loss_val =  0.0272247\n",
      "epochs =  5 , step =  300 , loss_val =  0.001039772\n",
      "epochs =  5 , step =  400 , loss_val =  0.030829515\n",
      "epochs =  5 , step =  500 , loss_val =  0.024045024\n",
      "epochs =  6 , step =  0 , loss_val =  0.0049051996\n",
      "epochs =  6 , step =  100 , loss_val =  0.020461883\n",
      "epochs =  6 , step =  200 , loss_val =  0.0008022997\n",
      "epochs =  6 , step =  300 , loss_val =  0.014798845\n",
      "epochs =  6 , step =  400 , loss_val =  0.06392941\n",
      "epochs =  6 , step =  500 , loss_val =  0.003320612\n",
      "epochs =  7 , step =  0 , loss_val =  0.015823055\n",
      "epochs =  7 , step =  100 , loss_val =  0.009565601\n",
      "epochs =  7 , step =  200 , loss_val =  0.0115805995\n",
      "epochs =  7 , step =  300 , loss_val =  0.0029036445\n",
      "epochs =  7 , step =  400 , loss_val =  0.0016981207\n",
      "epochs =  7 , step =  500 , loss_val =  0.0012808639\n",
      "epochs =  8 , step =  0 , loss_val =  0.0011337381\n",
      "epochs =  8 , step =  100 , loss_val =  0.01355345\n",
      "epochs =  8 , step =  200 , loss_val =  0.038245704\n",
      "epochs =  8 , step =  300 , loss_val =  0.0014824368\n",
      "epochs =  8 , step =  400 , loss_val =  0.0009049099\n",
      "epochs =  8 , step =  500 , loss_val =  0.0047714054\n",
      "epochs =  9 , step =  0 , loss_val =  0.00066702795\n",
      "epochs =  9 , step =  100 , loss_val =  0.004130882\n",
      "epochs =  9 , step =  200 , loss_val =  0.021825092\n",
      "epochs =  9 , step =  300 , loss_val =  0.0013557732\n",
      "epochs =  9 , step =  400 , loss_val =  0.005675722\n",
      "epochs =  9 , step =  500 , loss_val =  0.0010285157\n",
      "epochs =  10 , step =  0 , loss_val =  0.0027342765\n",
      "epochs =  10 , step =  100 , loss_val =  0.00054414355\n",
      "epochs =  10 , step =  200 , loss_val =  0.0006559525\n",
      "epochs =  10 , step =  300 , loss_val =  5.9742662e-05\n",
      "epochs =  10 , step =  400 , loss_val =  0.00047246076\n",
      "epochs =  10 , step =  500 , loss_val =  0.00034958418\n",
      "epochs =  11 , step =  0 , loss_val =  8.923614e-05\n",
      "epochs =  11 , step =  100 , loss_val =  5.6121393e-05\n",
      "epochs =  11 , step =  200 , loss_val =  0.009016887\n",
      "epochs =  11 , step =  300 , loss_val =  0.024642933\n",
      "epochs =  11 , step =  400 , loss_val =  0.00029912897\n",
      "epochs =  11 , step =  500 , loss_val =  0.020255063\n",
      "epochs =  12 , step =  0 , loss_val =  0.0057457276\n",
      "epochs =  12 , step =  100 , loss_val =  0.00030060692\n",
      "epochs =  12 , step =  200 , loss_val =  0.00053509197\n",
      "epochs =  12 , step =  300 , loss_val =  0.0006728718\n",
      "epochs =  12 , step =  400 , loss_val =  0.0019394255\n",
      "epochs =  12 , step =  500 , loss_val =  0.008931959\n",
      "epochs =  13 , step =  0 , loss_val =  0.0057398095\n",
      "epochs =  13 , step =  100 , loss_val =  0.0063636694\n",
      "epochs =  13 , step =  200 , loss_val =  1.7124405e-05\n",
      "epochs =  13 , step =  300 , loss_val =  0.00012873138\n",
      "epochs =  13 , step =  400 , loss_val =  0.0013069957\n",
      "epochs =  13 , step =  500 , loss_val =  2.0530524e-05\n",
      "epochs =  14 , step =  0 , loss_val =  0.00010912287\n",
      "epochs =  14 , step =  100 , loss_val =  0.0006194998\n",
      "epochs =  14 , step =  200 , loss_val =  1.7232085e-05\n",
      "epochs =  14 , step =  300 , loss_val =  0.0016489682\n",
      "epochs =  14 , step =  400 , loss_val =  0.05486369\n",
      "epochs =  14 , step =  500 , loss_val =  0.0001820765\n",
      "epochs =  15 , step =  0 , loss_val =  0.00017415246\n",
      "epochs =  15 , step =  100 , loss_val =  0.009876046\n",
      "epochs =  15 , step =  200 , loss_val =  0.00040838492\n",
      "epochs =  15 , step =  300 , loss_val =  0.00222319\n",
      "epochs =  15 , step =  400 , loss_val =  0.005655126\n",
      "epochs =  15 , step =  500 , loss_val =  1.9951742e-05\n",
      "epochs =  16 , step =  0 , loss_val =  0.00011156144\n",
      "epochs =  16 , step =  100 , loss_val =  0.0094644185\n",
      "epochs =  16 , step =  200 , loss_val =  0.00018579148\n",
      "epochs =  16 , step =  300 , loss_val =  0.000312837\n",
      "epochs =  16 , step =  400 , loss_val =  0.0016298522\n",
      "epochs =  16 , step =  500 , loss_val =  0.032889813\n",
      "epochs =  17 , step =  0 , loss_val =  0.021297483\n",
      "epochs =  17 , step =  100 , loss_val =  0.000113815004\n",
      "epochs =  17 , step =  200 , loss_val =  5.8774975e-05\n",
      "epochs =  17 , step =  300 , loss_val =  0.004073245\n",
      "epochs =  17 , step =  400 , loss_val =  0.0030552475\n",
      "epochs =  17 , step =  500 , loss_val =  0.06457422\n",
      "epochs =  18 , step =  0 , loss_val =  0.00053470494\n",
      "epochs =  18 , step =  100 , loss_val =  4.102523e-05\n",
      "epochs =  18 , step =  200 , loss_val =  4.1375256e-06\n",
      "epochs =  18 , step =  300 , loss_val =  5.3031075e-05\n",
      "epochs =  18 , step =  400 , loss_val =  1.8151171e-05\n",
      "epochs =  18 , step =  500 , loss_val =  3.8238727e-06\n",
      "epochs =  19 , step =  0 , loss_val =  0.0009554885\n",
      "epochs =  19 , step =  100 , loss_val =  0.0071061132\n",
      "epochs =  19 , step =  200 , loss_val =  5.414447e-05\n",
      "epochs =  19 , step =  300 , loss_val =  7.740876e-05\n",
      "epochs =  19 , step =  400 , loss_val =  0.00018207112\n",
      "epochs =  19 , step =  500 , loss_val =  1.3186028e-05\n",
      "\n",
      "elapsed time =  0:02:31.380206\n",
      "\n",
      "Accuracy =  0.9921\n",
      "type(accuracy_val) =  <class 'numpy.float32'> , type(predicted_list_val) =  <class 'numpy.ndarray'> , type(index_label) =  <class 'numpy.ndarray'>\n",
      "index_label.shape =  (10000,)\n",
      "length of index_label_list =  10000\n",
      "false label count =  79\n",
      "F2_val.shape =  (5, 5, 1, 32) , F3_val.shape =  (5, 5, 32, 64) , F4_val.shape =  (5, 5, 64, 128) , F5_val.shape =  (5, 5, 128, 256)\n",
      "C2_val.shape =  (10000, 28, 28, 32) , C3_val.shape =  (10000, 14, 14, 64) , C4_val.shape =  (10000, 7, 7, 128) , C5_val.shape =  (10000, 4, 4, 256)\n",
      "\n",
      "length of index_label_false_list 79\n"
     ]
    },
    {
     "data": {
      "image/png": "[encoded data removed]",
      "text/plain": [
       "<Figure size 432x288 with 1 Axes>"
      ]
     },
     "metadata": {
      "needs_background": "light"
     },
     "output_type": "display_data"
    }
   ],
   "source": [
    "index_label_prediction_list = []\n",
    "\n",
    "\n",
    "with  tf.Session()  as sess:\n",
    "    \n",
    "    sess.run(tf.global_variables_initializer())  # 변수 노드(tf.Variable) 초기화\n",
    "    \n",
    "    start_time = datetime.now()\n",
    "    \n",
    "    for i in range(epochs):    # 30 번 반복수행\n",
    "        \n",
    "        total_batch = int(mnist.train.num_examples / batch_size)  # 55,000 / 100\n",
    "\n",
    "        for step in range(total_batch):\n",
    "            \n",
    "            batch_x_data, batch_t_data = mnist.train.next_batch(batch_size)\n",
    "      \n",
    "            loss_val, _ = sess.run([loss, train], feed_dict={X: batch_x_data, T: batch_t_data})    \n",
    "        \n",
    "            if step % 100 == 0:\n",
    "                print(\"epochs = \", i, \", step = \", step, \", loss_val = \", loss_val)             \n",
    "    \n",
    "    end_time = datetime.now() \n",
    "    \n",
    "    print(\"\\nelapsed time = \", end_time - start_time) \n",
    "    \n",
    "    # Accuracy 확인\n",
    "    test_x_data = mnist.test.images    # 10000 X 784\n",
    "    test_t_data = mnist.test.labels    # 10000 X 10\n",
    "    \n",
    "    accuracy_val, predicted_list_val, index_label = sess.run([accuracy, predicted_list, accuracy_index], feed_dict={X: test_x_data, T: test_t_data})\n",
    "    F2_val, F3_val, F4_val, F5_val = sess.run([F2, F3, F4, F5], feed_dict={X: test_x_data, T: test_t_data})\n",
    "    C2_val, C3_val, C4_val, C5_val = sess.run([C2, C3, C4, C5], feed_dict={X: test_x_data, T: test_t_data})\n",
    "    \n",
    "    print(\"\\nAccuracy = \", accuracy_val)\n",
    "    print(\"type(accuracy_val) = \", type(accuracy_val), ', type(predicted_list_val) = ', type(predicted_list_val), ', type(index_label) = ', type(index_label))\n",
    "    print(\"index_label.shape = \", index_label.shape)\n",
    "    \n",
    "    index_label_list = list(index_label)\n",
    "    print(\"length of index_label_list = \", len(index_label_list))\n",
    "    print(\"false label count = \", index_label_list.count([0]))\n",
    "    \n",
    "    print('F2_val.shape = ', F2_val.shape, ', F3_val.shape = ', F3_val.shape, ', F4_val.shape = ', F4_val.shape, ', F5_val.shape = ', F5_val.shape)\n",
    "    print('C2_val.shape = ', C2_val.shape, ', C3_val.shape = ', C3_val.shape, ', C4_val.shape = ', C4_val.shape, ', C5_val.shape = ', C5_val.shape)\n",
    "        \n",
    "    # subplot / step 을 이용한 컨볼루션 이미지 확인으 직접 !!!!! \n",
    "    plt.imshow(C2_val[0, :, :, 12])  # 1st image affected by 13th filter\n",
    "    \n",
    "    \n",
    "    # numpy type 으로 디버그\n",
    "    temp_list = [] \n",
    "    \n",
    "    for index in range(len(index_label)):\n",
    "        \n",
    "        if index_label[index] == 0:\n",
    "            \n",
    "            temp_list.append(index)\n",
    "            temp_list.append(np.argmax(test_t_data[index]))  # one-hot encoding 이므로 argmax 로 정답 추출\n",
    "            temp_list.append(predicted_list_val[index])\n",
    "            \n",
    "            index_label_prediction_list.append(temp_list)\n",
    "            \n",
    "            temp_list = []\n",
    "            \n",
    "    print(\"\\nlength of index_label_false_list\", len(index_label_prediction_list))"
   ]
  },
  {
   "cell_type": "code",
   "execution_count": 15,
   "metadata": {},
   "outputs": [
    {
     "data": {
      "text/plain": [
       "<matplotlib.image.AxesImage at 0x7f563e0b95d0>"
      ]
     },
     "execution_count": 15,
     "metadata": {},
     "output_type": "execute_result"
    },
    {
     "data": {
      "image/png": "[encoded data removed]",
      "text/plain": [
       "<Figure size 432x288 with 1 Axes>"
      ]
     },
     "metadata": {
      "needs_background": "light"
     },
     "output_type": "display_data"
    }
   ],
   "source": [
    "plt.imshow(test_x_data[0].reshape(28,28))"
   ]
  },
  {
   "cell_type": "code",
   "execution_count": 13,
   "metadata": {},
   "outputs": [
    {
     "name": "stdout",
     "output_type": "stream",
     "text": [
      "[[235, 9, 7], [247, 4, 2], [321, 2, 7], [336, 9, 4], [359, 9, 8], [445, 6, 0], [449, 3, 5], [495, 8, 2], [582, 8, 2], [625, 6, 4], [813, 9, 8], [883, 3, 1], [900, 1, 3], [916, 4, 2], [947, 8, 9], [962, 9, 7], [999, 9, 7], [1014, 6, 5], [1226, 7, 2], [1232, 9, 4], [1282, 9, 2], [1429, 9, 4], [1530, 8, 7], [1549, 4, 2], [1559, 9, 5], [1640, 9, 7], [1709, 9, 3], [1880, 6, 4], [1901, 9, 4], [1903, 7, 2], [2018, 1, 2], [2035, 5, 3], [2129, 9, 8], [2130, 4, 9], [2135, 6, 1], [2182, 1, 3], [2293, 9, 4], [2298, 8, 0], [2414, 9, 4], [2582, 9, 7], [2597, 5, 3], [2654, 6, 1], [2720, 9, 4], [2927, 3, 2], [2953, 3, 5], [3073, 1, 2], [3343, 8, 2], [3422, 6, 0], [3475, 3, 7], [3503, 9, 8], [3520, 6, 2], [3558, 5, 0], [3850, 9, 4], [3859, 9, 4], [3869, 9, 4], [3881, 9, 7], [4078, 9, 8], [4201, 1, 7], [4284, 9, 5], [4369, 9, 4], [4505, 9, 7], [4620, 6, 2], [4740, 3, 5], [4761, 9, 8], [4823, 9, 4], [4860, 4, 9], [4874, 9, 6], [4956, 8, 4], [5450, 0, 5], [5654, 7, 2], [5937, 5, 3], [5955, 3, 8], [5973, 3, 8], [6555, 8, 7], [6571, 9, 7], [6576, 7, 1], [6597, 0, 7], [6625, 8, 2], [7580, 9, 4], [8287, 6, 2], [8326, 6, 2], [8408, 8, 5], [9015, 7, 2], [9024, 7, 2], [9587, 9, 4], [9638, 9, 7], [9679, 6, 2], [9729, 5, 6], [9839, 2, 7], [9888, 6, 0]]\n"
     ]
    }
   ],
   "source": [
    "# index_label_prediction_list\n",
    "print(index_label_prediction_list)"
   ]
  },
  {
   "cell_type": "code",
   "execution_count": 15,
   "metadata": {},
   "outputs": [
    {
     "name": "stdout",
     "output_type": "stream",
     "text": [
      "10 image is saved now\n",
      "20 image is saved now\n",
      "30 image is saved now\n",
      "40 image is saved now\n",
      "50 image is saved now\n",
      "60 image is saved now\n",
      "Elapsed save time =>  0:00:24.182000\n",
      "Total  66  data is saved\n"
     ]
    },
    {
     "data": {
      "image/png": "[encoded data removed]",
      "text/plain": [
       "<matplotlib.figure.Figure at 0x1018b6d8>"
      ]
     },
     "metadata": {},
     "output_type": "display_data"
    }
   ],
   "source": [
    "# check false data\n",
    "import os\n",
    "from datetime import datetime\n",
    "import matplotlib.pyplot as plt\n",
    "%matplotlib inline\n",
    "\n",
    "save_count = 0\n",
    "\n",
    "# 현재 디렉토리 저장\n",
    "curr_dir = os.getcwd()\n",
    "\n",
    "# image 저장할 디렉토리 생성. 현재 시간으로 생성\n",
    "now = datetime.now()\n",
    "algorithm_name = 'CNN_3Conv_4X4_Adam_'\n",
    "dir_name = algorithm_name + str(now.year) + '-' + str(now.month) + '-' + str(now.day) + '_' + str(now.hour) + str(now.minute) + str(now.second)\n",
    "\n",
    "os.mkdir(dir_name)\n",
    "\n",
    "# change dir\n",
    "os.chdir(dir_name)\n",
    "\n",
    "start_time = datetime.now()\n",
    "\n",
    "for list_data in index_label_prediction_list:\n",
    "    \n",
    "    index_int = list_data[0]\n",
    "    label_int = list_data[1]\n",
    "    prediction_int = list_data[2]\n",
    "        \n",
    "    # 저장할 이미지를 인덱스를 이용하여 가져옴\n",
    "    img = test_x_data[index_int].reshape(28,28)  \n",
    "    plt.imshow(img, cmap='gray')\n",
    "    \n",
    "    # 정답 문자열\n",
    "    label_str = str(label_int)\n",
    "    \n",
    "    # 예측값 문자열\n",
    "    prediction_str = str(prediction_int)\n",
    "    \n",
    "    # 정답과 오답을 나타내는 문자열\n",
    "    label_prediction_str = 'label = ' + label_str + '  ,  prediction = ' + prediction_str\n",
    "    \n",
    "    # 저장 파일 이름 생성, str(index_int).png\n",
    "    save_image_name = str(index_int) + '.png'\n",
    "    \n",
    "    plt.title(label_prediction_str)\n",
    "    plt.savefig(save_image_name)\n",
    "    \n",
    "    save_count += 1\n",
    "    \n",
    "    if save_count % 10 == 0:\n",
    "        \n",
    "        print(save_count, 'image is saved now')\n",
    "\n",
    "    \n",
    "end_time = datetime.now()\n",
    "\n",
    "print('Elapsed save time => ', end_time - start_time)\n",
    "print('Total ', save_count, \" data is saved\")\n",
    "\n",
    "# 원래의 dir 로 복귀\n",
    "os.chdir(curr_dir)"
   ]
  },
  {
   "cell_type": "code",
   "execution_count": null,
   "metadata": {
    "collapsed": true
   },
   "outputs": [],
   "source": []
  }
 ],
 "metadata": {
  "anaconda-cloud": {},
  "kernelspec": {
   "display_name": "Python 3",
   "language": "python",
   "name": "python3"
  },
  "language_info": {
   "codemirror_mode": {
    "name": "ipython",
    "version": 3
   },
   "file_extension": ".py",
   "mimetype": "text/x-python",
   "name": "python",
   "nbconvert_exporter": "python",
   "pygments_lexer": "ipython3",
   "version": "3.7.4"
  }
 },
 "nbformat": 4,
 "nbformat_minor": 1
}

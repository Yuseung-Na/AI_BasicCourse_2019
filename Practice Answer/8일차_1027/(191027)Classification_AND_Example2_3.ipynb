{
 "cells": [
  {
   "cell_type": "code",
   "execution_count": 1,
   "metadata": {},
   "outputs": [],
   "source": [
    "import numpy as np\n",
    "\n",
    "def numerical_derivative(f, x):\n",
    "    delta_x = 1e-4 # 0.0001\n",
    "    grad = np.zeros_like(x)\n",
    "    \n",
    "    it = np.nditer(x, flags=['multi_index'], op_flags=['readwrite'])\n",
    "    \n",
    "    while not it.finished:\n",
    "        idx = it.multi_index        \n",
    "        tmp_val = x[idx]\n",
    "        x[idx] = float(tmp_val) + delta_x\n",
    "        fx1 = f(x) # f(x+delta_x)\n",
    "        \n",
    "        x[idx] = tmp_val - delta_x \n",
    "        fx2 = f(x) # f(x-delta_x)\n",
    "        grad[idx] = (fx1 - fx2) / (2*delta_x)\n",
    "        \n",
    "        x[idx] = tmp_val \n",
    "        it.iternext()   \n",
    "        \n",
    "    return grad\n",
    "\n",
    "\n",
    "# 최종출력은 y = sigmoid(Wx+b) 이며, 손실함수는 cross-entropy 로 나타냄\n",
    "\n",
    "def sigmoid(x):\n",
    "    return 1 / (1+np.exp(-x))"
   ]
  },
  {
   "cell_type": "code",
   "execution_count": 2,
   "metadata": {},
   "outputs": [],
   "source": [
    "# and\n",
    "xdata = np.array([ [0,0], [0,1], [1,0], [1,1] ])   \n",
    "tdata = np.array([0, 0, 0, 1]).reshape(4,1)\n",
    "\n",
    "# test data\n",
    "test_data = np.array([ [0,0], [0,1], [1,0], [1,1] ])"
   ]
  },
  {
   "cell_type": "code",
   "execution_count": 3,
   "metadata": {},
   "outputs": [
    {
     "name": "stdout",
     "output_type": "stream",
     "text": [
      "W =  [[0.79397664]\n",
      " [0.74723214]] , W.shape =  (2, 1) , b =  [0.71783495] , b.shape =  (1,)\n"
     ]
    }
   ],
   "source": [
    "W = np.random.rand(2,1)  \n",
    "b = np.random.rand(1)  \n",
    "\n",
    "print(\"W = \", W, \", W.shape = \", W.shape, \", b = \", b, \", b.shape = \", b.shape)"
   ]
  },
  {
   "cell_type": "code",
   "execution_count": 4,
   "metadata": {},
   "outputs": [],
   "source": [
    "def loss_func(x, t):\n",
    "    \n",
    "    delta = 1e-7\n",
    "    \n",
    "    z = np.dot(x,W) + b\n",
    "    y = sigmoid(z)\n",
    "    \n",
    "    # cross-entropy \n",
    "    return  -np.sum( t*np.log(y + delta) + (1-t)*np.log((1 - y)+delta ) ) \n",
    "\n",
    "\n",
    "# 손실함수 값 계산 함수\n",
    "# 입력변수 x, t : numpy type\n",
    "def error_val(x, t):\n",
    "    delta = 1e-7    \n",
    "    \n",
    "    z = np.dot(x,W) + b\n",
    "    y = sigmoid(z)\n",
    "    \n",
    "    # cross-entropy \n",
    "    return  -np.sum( t*np.log(y + delta) + (1-t)*np.log((1 - y)+delta ) ) \n",
    "\n",
    "# 학습을 마친 후, 임의의 데이터에 대해 미래 값 예측 함수\n",
    "# 입력변수 x : numpy type\n",
    "def predict(x):\n",
    "    \n",
    "    z = np.dot(x,W) + b\n",
    "    y = sigmoid(z)\n",
    "    \n",
    "    if y >= 0.5:\n",
    "        result = 1  # True\n",
    "    else:\n",
    "        result = 0  # False\n",
    "    \n",
    "    return y, result"
   ]
  },
  {
   "cell_type": "code",
   "execution_count": 5,
   "metadata": {},
   "outputs": [
    {
     "name": "stdout",
     "output_type": "stream",
     "text": [
      "Initial error value =  4.598509801608635\n",
      "step =  0 error value =  4.53961657270786\n",
      "step =  400 error value =  1.5014503010602684\n",
      "step =  800 error value =  1.1243162786595982\n",
      "step =  1200 error value =  0.9072758135818535\n",
      "step =  1600 error value =  0.7629441632190033\n",
      "step =  2000 error value =  0.658755059460964\n",
      "step =  2400 error value =  0.5795360165627534\n",
      "step =  2800 error value =  0.517099716931011\n",
      "step =  3200 error value =  0.4665656067352446\n",
      "step =  3600 error value =  0.42481173595978056\n",
      "step =  4000 error value =  0.3897342067621985\n",
      "step =  4400 error value =  0.35985727530506234\n",
      "step =  4800 error value =  0.3341123946369027\n",
      "step =  5200 error value =  0.3117055531340349\n",
      "step =  5600 error value =  0.2920338511424651\n",
      "step =  6000 error value =  0.2746310166399799\n",
      "step =  6400 error value =  0.259130681442451\n",
      "step =  6800 error value =  0.24524095901308643\n",
      "step =  7200 error value =  0.2327264378932519\n",
      "step =  7600 error value =  0.2213951708920211\n",
      "step =  8000 error value =  0.2110891078115007\n",
      "step =  8400 error value =  0.20167695002051092\n",
      "step =  8800 error value =  0.1930487389804451\n",
      "step =  9200 error value =  0.18511170617272532\n",
      "step =  9600 error value =  0.1777870539326611\n",
      "step =  10000 error value =  0.17100743228589235\n"
     ]
    }
   ],
   "source": [
    "# and gate 검증\n",
    "learning_rate = 1e-2  \n",
    "\n",
    "f = lambda x : loss_func(xdata, tdata)  \n",
    "\n",
    "print(\"Initial error value = \", error_val(xdata, tdata))\n",
    "\n",
    "for step in  range(10001):  \n",
    "    \n",
    "    W -= learning_rate * numerical_derivative(f, W)\n",
    "    \n",
    "    b -= learning_rate * numerical_derivative(f, b)\n",
    "    \n",
    "    if (step % 400 == 0):\n",
    "        print(\"step = \", step, \"error value = \", error_val(xdata, tdata))"
   ]
  },
  {
   "cell_type": "code",
   "execution_count": 6,
   "metadata": {},
   "outputs": [
    {
     "name": "stdout",
     "output_type": "stream",
     "text": [
      "AND Gate verification\n",
      "real_val [0.00019283] , logical_val =  0\n",
      "real_val [0.04875402] , logical_val =  0\n",
      "real_val [0.04875414] , logical_val =  0\n",
      "real_val [0.93160191] , logical_val =  1\n"
     ]
    }
   ],
   "source": [
    "# and 검증\n",
    "print(\"AND Gate verification\")\n",
    "\n",
    "for input_data in test_data:\n",
    "    (real_val, logical_val) = predict(input_data)\n",
    "    print(\"real_val\", real_val, \", logical_val = \", logical_val)"
   ]
  },
  {
   "cell_type": "code",
   "execution_count": null,
   "metadata": {
    "collapsed": true
   },
   "outputs": [],
   "source": []
  }
 ],
 "metadata": {
  "anaconda-cloud": {},
  "kernelspec": {
   "display_name": "Python 3",
   "language": "python",
   "name": "python3"
  },
  "language_info": {
   "codemirror_mode": {
    "name": "ipython",
    "version": 3
   },
   "file_extension": ".py",
   "mimetype": "text/x-python",
   "name": "python",
   "nbconvert_exporter": "python",
   "pygments_lexer": "ipython3",
   "version": "3.7.4"
  }
 },
 "nbformat": 4,
 "nbformat_minor": 1
}

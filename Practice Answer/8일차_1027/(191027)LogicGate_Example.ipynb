{
 "cells": [
  {
   "cell_type": "code",
   "execution_count": 1,
   "metadata": {},
   "outputs": [],
   "source": [
    "import numpy as np\n",
    "\n",
    "# sigmoid 함수\n",
    "def sigmoid(x):\n",
    "    return 1 / (1+np.exp(-x))\n",
    "\n",
    "# 수치미분 함수\n",
    "def numerical_derivative(f, x):\n",
    "    delta_x = 1e-4 # 0.0001\n",
    "    grad = np.zeros_like(x)\n",
    "    \n",
    "    it = np.nditer(x, flags=['multi_index'], op_flags=['readwrite'])\n",
    "    \n",
    "    while not it.finished:\n",
    "        idx = it.multi_index        \n",
    "        tmp_val = x[idx]\n",
    "        x[idx] = float(tmp_val) + delta_x\n",
    "        fx1 = f(x) # f(x+delta_x)\n",
    "        \n",
    "        x[idx] = tmp_val - delta_x \n",
    "        fx2 = f(x) # f(x-delta_x)\n",
    "        grad[idx] = (fx1 - fx2) / (2*delta_x)\n",
    "        \n",
    "        x[idx] = tmp_val \n",
    "        it.iternext()   \n",
    "        \n",
    "    return grad"
   ]
  },
  {
   "cell_type": "code",
   "execution_count": 2,
   "metadata": {
    "collapsed": true
   },
   "outputs": [],
   "source": [
    "# LogicGate Class\n",
    "\n",
    "class LogicGate:\n",
    "    \n",
    "    def __init__(self, gate_name, xdata, tdata):  # xdata, tdata => numpy.array(...)\n",
    "        \n",
    "        self.name = gate_name\n",
    "        \n",
    "        # 입력 데이터, 정답 데이터 초기화 - 일반적인 방법으로 변경 필요\n",
    "        self.xdata = xdata.reshape(4, 2)\n",
    "        self.tdata = tdata.reshape(4, 1)\n",
    "        \n",
    "        # 가중치 W, 바이어스 b 초기화 - 일반적인 방법으로 변경 필요\n",
    "        self.W = np.random.rand(2,1)  # weight, 2 X 1 matrix\n",
    "        self.b = np.random.rand(1)\n",
    "                        \n",
    "        # 학습률 learning rate 초기화\n",
    "        self.learning_rate = 1e-2\n",
    "        \n",
    "    # 손실함수\n",
    "    def loss_func(self):\n",
    "        \n",
    "        delta = 1e-7    # log 무한대 발산 방지\n",
    "    \n",
    "        z = np.dot(self.xdata, self.W) + self.b\n",
    "        y = sigmoid(z)\n",
    "    \n",
    "        # cross-entropy \n",
    "        return  -np.sum( self.tdata*np.log(y + delta) + (1-self.tdata)*np.log((1 - y)+delta ) )      \n",
    "    \n",
    "    # 손실 값 계산\n",
    "    def error_val(self):\n",
    "        \n",
    "        delta = 1e-7    # log 무한대 발산 방지\n",
    "    \n",
    "        z = np.dot(self.xdata, self.W) + self.b\n",
    "        y = sigmoid(z)\n",
    "    \n",
    "        # cross-entropy \n",
    "        return  -np.sum( self.tdata*np.log(y + delta) + (1-self.tdata)*np.log((1 - y)+delta ) )\n",
    "\n",
    "    # 수치미분을 이용하여 손실함수가 최소가 될때 까지 학습하는 함수\n",
    "    def train(self):\n",
    "        \n",
    "        f = lambda x : self.loss_func()\n",
    "        \n",
    "        print(\"Initial error value = \", self.error_val())\n",
    "        \n",
    "        for step in  range(8001):\n",
    "            \n",
    "            self.W -= self.learning_rate * numerical_derivative(f, self.W)\n",
    "    \n",
    "            self.b -= self.learning_rate * numerical_derivative(f, self.b)\n",
    "    \n",
    "            if (step % 400 == 0):\n",
    "                print(\"step = \", step, \"error value = \", self.error_val())\n",
    "                \n",
    "                \n",
    "    # 미래 값 예측 함수\n",
    "    def predict(self, input_data):\n",
    "        \n",
    "        z = np.dot(input_data, self.W) + self.b\n",
    "        y = sigmoid(z)\n",
    "    \n",
    "        if y > 0.5:\n",
    "            result = 1  # True\n",
    "        else:\n",
    "            result = 0  # False\n",
    "    \n",
    "        return y, result\n",
    "    \n",
    "    # 정확도 예측 함수\n",
    "    def accuracy(self, test_xdata, test_tdata):\n",
    "        \n",
    "        matched_list = []\n",
    "        \n",
    "        for index in range(len(xdata)):\n",
    "            \n",
    "            (real_val, logical_val) = self.predict(test_xdata[index])\n",
    "            \n",
    "            if logical_val == test_tdata[index]:\n",
    "                matched_list.append(True)\n",
    "                \n",
    "        return ( len(matched_list) / len(test_xdata))"
   ]
  },
  {
   "cell_type": "code",
   "execution_count": 3,
   "metadata": {},
   "outputs": [
    {
     "name": "stdout",
     "output_type": "stream",
     "text": [
      "Initial error value =  3.572162189075136\n",
      "step =  0 error value =  3.539293254558214\n",
      "step =  400 error value =  1.5943675701481625\n",
      "step =  800 error value =  1.1719155152902125\n",
      "step =  1200 error value =  0.9369619825102804\n",
      "step =  1600 error value =  0.7835627590993132\n",
      "step =  2000 error value =  0.6740369689533936\n",
      "step =  2400 error value =  0.5913626538790613\n",
      "step =  2800 error value =  0.5265405594005618\n",
      "step =  3200 error value =  0.4742814758077361\n",
      "step =  3600 error value =  0.4312364432778858\n",
      "step =  4000 error value =  0.3951658661202627\n",
      "step =  4400 error value =  0.36450820672630824\n",
      "step =  4800 error value =  0.33813823120951114\n",
      "step =  5200 error value =  0.31522311835632644\n",
      "step =  5600 error value =  0.2951326090631109\n",
      "step =  6000 error value =  0.2773806637670826\n",
      "step =  6400 error value =  0.26158632901278855\n",
      "step =  6800 error value =  0.2474467592662602\n",
      "step =  7200 error value =  0.23471817653576393\n",
      "step =  7600 error value =  0.22320215556209927\n",
      "step =  8000 error value =  0.21273556670352672\n"
     ]
    }
   ],
   "source": [
    "xdata = np.array([ [0, 0], [0, 1], [1, 0], [1, 1] ])\n",
    "tdata = np.array([0, 0, 0, 1])\n",
    "\n",
    "AND_obj = LogicGate(\"AND_GATE\", xdata, tdata)\n",
    "\n",
    "AND_obj.train()"
   ]
  },
  {
   "cell_type": "code",
   "execution_count": 4,
   "metadata": {},
   "outputs": [
    {
     "name": "stdout",
     "output_type": "stream",
     "text": [
      "AND_GATE \n",
      "\n",
      "Accuracy =>  1.0\n"
     ]
    }
   ],
   "source": [
    "# AND Gate prediction\n",
    "print(AND_obj.name, \"\\n\")\n",
    "\n",
    "test_xdata = np.array([ [0, 0], [0, 1], [1, 0], [1, 1] ])\n",
    "test_tdata = np.array([ 0, 0, 0, 1])\n",
    "\n",
    "accuracy_ret = AND_obj.accuracy(test_xdata, test_tdata)\n",
    "\n",
    "print(\"Accuracy => \", accuracy_ret)"
   ]
  },
  {
   "cell_type": "code",
   "execution_count": 5,
   "metadata": {},
   "outputs": [
    {
     "name": "stdout",
     "output_type": "stream",
     "text": [
      "Initial error value =  1.9726463795171987\n",
      "step =  0 error value =  1.9693067603235315\n",
      "step =  400 error value =  1.2151068714935158\n",
      "step =  800 error value =  0.8611063268743884\n",
      "step =  1200 error value =  0.6597291732418125\n",
      "step =  1600 error value =  0.5312039253250307\n",
      "step =  2000 error value =  0.44264086348606807\n",
      "step =  2400 error value =  0.3782364943209256\n",
      "step =  2800 error value =  0.3294816700645106\n",
      "step =  3200 error value =  0.2914032155967822\n",
      "step =  3600 error value =  0.2609095915100872\n",
      "step =  4000 error value =  0.2359836682776433\n",
      "step =  4400 error value =  0.21525672440672744\n",
      "step =  4800 error value =  0.19776932511587708\n",
      "step =  5200 error value =  0.18283020846494585\n",
      "step =  5600 error value =  0.16992946698671185\n",
      "step =  6000 error value =  0.15868321314833156\n",
      "step =  6400 error value =  0.14879722204934784\n",
      "step =  6800 error value =  0.14004240122655967\n",
      "step =  7200 error value =  0.1322378493674621\n",
      "step =  7600 error value =  0.12523891120448596\n",
      "step =  8000 error value =  0.11892859767165731\n"
     ]
    }
   ],
   "source": [
    "xdata = np.array([ [0, 0], [0, 1], [1, 0], [1, 1] ])\n",
    "tdata = np.array([0, 1, 1, 1])\n",
    "\n",
    "OR_obj = LogicGate(\"OR_GATE\", xdata, tdata)\n",
    "\n",
    "OR_obj.train() "
   ]
  },
  {
   "cell_type": "code",
   "execution_count": 6,
   "metadata": {},
   "outputs": [
    {
     "name": "stdout",
     "output_type": "stream",
     "text": [
      "OR_GATE \n",
      "\n",
      "Accuracy =>  1.0\n"
     ]
    }
   ],
   "source": [
    "# OR Gate prediction\n",
    "print(OR_obj.name, \"\\n\")\n",
    "\n",
    "test_xdata = np.array([ [0, 0], [0, 1], [1, 0], [1, 1] ])\n",
    "test_tdata = np.array([ 0, 1, 1, 1])\n",
    "\n",
    "accuracy_ret = OR_obj.accuracy(test_xdata, test_tdata)\n",
    "\n",
    "print(\"Accuracy => \", accuracy_ret)"
   ]
  },
  {
   "cell_type": "code",
   "execution_count": 7,
   "metadata": {},
   "outputs": [
    {
     "name": "stdout",
     "output_type": "stream",
     "text": [
      "Initial error value =  2.4999933312593026\n",
      "step =  0 error value =  2.4960333291663845\n",
      "step =  400 error value =  1.5508156492409546\n",
      "step =  800 error value =  1.149856821617624\n",
      "step =  1200 error value =  0.9232919372589627\n",
      "step =  1600 error value =  0.7741029328141724\n",
      "step =  2000 error value =  0.6670419989379313\n",
      "step =  2400 error value =  0.5859580576348762\n",
      "step =  2800 error value =  0.5222314363387697\n",
      "step =  3200 error value =  0.47076299296420143\n",
      "step =  3600 error value =  0.4283089535101552\n",
      "step =  4000 error value =  0.39269241958178863\n",
      "step =  4400 error value =  0.36239140580066176\n",
      "step =  4800 error value =  0.336306765767036\n",
      "step =  5200 error value =  0.3136235128561222\n",
      "step =  5600 error value =  0.2937239456751861\n",
      "step =  6000 error value =  0.2761310885383905\n",
      "step =  6400 error value =  0.26047066982203354\n",
      "step =  6800 error value =  0.24644486071548108\n",
      "step =  7200 error value =  0.23381371061445155\n",
      "step =  7600 error value =  0.2223817559671052\n",
      "step =  8000 error value =  0.21198818815391543\n"
     ]
    }
   ],
   "source": [
    "xdata = np.array([ [0, 0], [0, 1], [1, 0], [1, 1] ])\n",
    "tdata = np.array([1, 1, 1, 0])\n",
    "\n",
    "NAND_obj = LogicGate(\"NAND_GATE\", xdata, tdata)\n",
    "\n",
    "NAND_obj.train()"
   ]
  },
  {
   "cell_type": "code",
   "execution_count": 8,
   "metadata": {},
   "outputs": [
    {
     "name": "stdout",
     "output_type": "stream",
     "text": [
      "NAND_GATE \n",
      "\n",
      "Accuracy =>  1.0\n"
     ]
    }
   ],
   "source": [
    "# NAND Gate prediction\n",
    "print(NAND_obj.name, \"\\n\")\n",
    "\n",
    "test_xdata = np.array([ [0, 0], [0, 1], [1, 0], [1, 1] ])\n",
    "test_tdata = np.array([ 1, 1, 1, 0])\n",
    "\n",
    "accuracy_ret = NAND_obj.accuracy(test_xdata, test_tdata)\n",
    "\n",
    "print(\"Accuracy => \", accuracy_ret)"
   ]
  },
  {
   "cell_type": "code",
   "execution_count": 9,
   "metadata": {},
   "outputs": [
    {
     "name": "stdout",
     "output_type": "stream",
     "text": [
      "Initial error value =  3.646481065102872\n",
      "step =  0 error value =  3.6256445430445994\n",
      "step =  400 error value =  2.7755947313236775\n",
      "step =  800 error value =  2.7732258267782557\n",
      "step =  1200 error value =  2.7727398763246467\n",
      "step =  1600 error value =  2.7726270938394326\n",
      "step =  2000 error value =  2.772598498339568\n",
      "step =  2400 error value =  2.77259084872467\n",
      "step =  2800 error value =  2.772588742082952\n",
      "step =  3200 error value =  2.7725881533072307\n",
      "step =  3600 error value =  2.772587987554742\n",
      "step =  4000 error value =  2.772587940727958\n",
      "step =  4400 error value =  2.772587927476614\n",
      "step =  4800 error value =  2.7725879237236435\n",
      "step =  5200 error value =  2.77258792266034\n",
      "step =  5600 error value =  2.772587922359026\n",
      "step =  6000 error value =  2.7725879222736345\n",
      "step =  6400 error value =  2.7725879222494334\n",
      "step =  6800 error value =  2.7725879222425744\n",
      "step =  7200 error value =  2.77258792224063\n",
      "step =  7600 error value =  2.772587922240079\n",
      "step =  8000 error value =  2.7725879222399232\n"
     ]
    }
   ],
   "source": [
    "xdata = np.array([ [0, 0], [0, 1], [1, 0], [1, 1] ])\n",
    "tdata = np.array([0, 1, 1, 0])\n",
    "\n",
    "\n",
    "XOR_obj = LogicGate(\"XOR_GATE\", xdata, tdata)\n",
    "\n",
    "XOR_obj.train()"
   ]
  },
  {
   "cell_type": "code",
   "execution_count": 10,
   "metadata": {},
   "outputs": [
    {
     "name": "stdout",
     "output_type": "stream",
     "text": [
      "XOR_GATE \n",
      "\n",
      "Accuracy =>  0.25\n"
     ]
    }
   ],
   "source": [
    "# XOR Gate prediction\n",
    "print(XOR_obj.name, \"\\n\")\n",
    "\n",
    "test_xdata = np.array([ [0, 0], [0, 1], [1, 0], [1, 1] ])\n",
    "test_tdata = np.array([ 0, 1, 1, 0])\n",
    "\n",
    "accuracy_ret = XOR_obj.accuracy(test_xdata, test_tdata)\n",
    "\n",
    "print(\"Accuracy => \", accuracy_ret)"
   ]
  },
  {
   "cell_type": "code",
   "execution_count": null,
   "metadata": {
    "collapsed": true
   },
   "outputs": [],
   "source": []
  }
 ],
 "metadata": {
  "anaconda-cloud": {},
  "kernelspec": {
   "display_name": "Python 3",
   "language": "python",
   "name": "python3"
  },
  "language_info": {
   "codemirror_mode": {
    "name": "ipython",
    "version": 3
   },
   "file_extension": ".py",
   "mimetype": "text/x-python",
   "name": "python",
   "nbconvert_exporter": "python",
   "pygments_lexer": "ipython3",
   "version": "3.7.4"
  }
 },
 "nbformat": 4,
 "nbformat_minor": 1
}

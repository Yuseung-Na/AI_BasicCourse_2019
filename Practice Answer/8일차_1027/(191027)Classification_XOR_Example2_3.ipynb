{
 "cells": [
  {
   "cell_type": "code",
   "execution_count": 1,
   "metadata": {},
   "outputs": [],
   "source": [
    "import numpy as np\n",
    "\n",
    "def numerical_derivative(f, x):\n",
    "    delta_x = 1e-4 # 0.0001\n",
    "    grad = np.zeros_like(x)\n",
    "    \n",
    "    it = np.nditer(x, flags=['multi_index'], op_flags=['readwrite'])\n",
    "    \n",
    "    while not it.finished:\n",
    "        idx = it.multi_index        \n",
    "        tmp_val = x[idx]\n",
    "        x[idx] = float(tmp_val) + delta_x\n",
    "        fx1 = f(x) # f(x+delta_x)\n",
    "        \n",
    "        x[idx] = tmp_val - delta_x \n",
    "        fx2 = f(x) # f(x-delta_x)\n",
    "        grad[idx] = (fx1 - fx2) / (2*delta_x)\n",
    "        \n",
    "        x[idx] = tmp_val \n",
    "        it.iternext()   \n",
    "        \n",
    "    return grad\n",
    "\n",
    "\n",
    "# 최종출력은 y = sigmoid(Wx+b) 이며, 손실함수는 cross-entropy 로 나타냄\n",
    "\n",
    "def sigmoid(x):\n",
    "    return 1 / (1+np.exp(-x))"
   ]
  },
  {
   "cell_type": "code",
   "execution_count": 2,
   "metadata": {},
   "outputs": [],
   "source": [
    "xdata = np.array([ [0,0], [0,1], [1,0], [1,1] ])   \n",
    "\n",
    "tdata = np.array([0, 1, 1, 0]).reshape(4,1)\n",
    "\n",
    "# test data\n",
    "test_data = np.array([ [0,0], [0,1], [1,0], [1,1] ])"
   ]
  },
  {
   "cell_type": "code",
   "execution_count": 3,
   "metadata": {},
   "outputs": [
    {
     "name": "stdout",
     "output_type": "stream",
     "text": [
      "W =  [[0.73657622]\n",
      " [0.438352  ]] , W.shape =  (2, 1) , b =  [0.33801134] , b.shape =  (1,)\n"
     ]
    }
   ],
   "source": [
    "W = np.random.rand(2,1)  \n",
    "b = np.random.rand(1)  \n",
    "\n",
    "print(\"W = \", W, \", W.shape = \", W.shape, \", b = \", b, \", b.shape = \", b.shape)"
   ]
  },
  {
   "cell_type": "code",
   "execution_count": 4,
   "metadata": {},
   "outputs": [],
   "source": [
    "def loss_func(x, t):\n",
    "    \n",
    "    delta = 1e-7\n",
    "    \n",
    "    z = np.dot(x,W) + b\n",
    "    y = sigmoid(z)\n",
    "    \n",
    "    # cross-entropy \n",
    "    return  -np.sum( t*np.log(y + delta) + (1-t)*np.log((1 - y)+delta ) ) \n",
    "\n",
    "# 손실함수 값 계산 함수\n",
    "# 입력변수 x, t : numpy type\n",
    "def error_val(x, t):\n",
    "    delta = 1e-7    \n",
    "    \n",
    "    z = np.dot(x,W) + b\n",
    "    y = sigmoid(z)\n",
    "    \n",
    "    # cross-entropy \n",
    "    return  -np.sum( t*np.log(y + delta) + (1-t)*np.log((1 - y)+delta ) ) \n",
    "\n",
    "# 학습을 마친 후, 임의의 데이터에 대해 미래 값 예측 함수\n",
    "# 입력변수 x : numpy type\n",
    "def predict(x):\n",
    "    \n",
    "    z = np.dot(x,W) + b\n",
    "    y = sigmoid(z)\n",
    "    \n",
    "    if y >= 0.5:\n",
    "        result = 1  # True\n",
    "    else:\n",
    "        result = 0  # False\n",
    "    \n",
    "    return y, result"
   ]
  },
  {
   "cell_type": "code",
   "execution_count": 5,
   "metadata": {},
   "outputs": [
    {
     "name": "stdout",
     "output_type": "stream",
     "text": [
      "Initial error value =  3.2606016919249816\n",
      "step =  0 error value =  3.2593343041160634\n",
      "step =  400 error value =  2.938560162447528\n",
      "step =  800 error value =  2.831351193576436\n",
      "step =  1200 error value =  2.798044383128007\n",
      "step =  1600 error value =  2.7873250456858982\n",
      "step =  2000 error value =  2.783293069092736\n",
      "step =  2400 error value =  2.781297465563989\n",
      "step =  2800 error value =  2.7799934680244127\n",
      "step =  3200 error value =  2.778984396098998\n",
      "step =  3600 error value =  2.7781444094721444\n",
      "step =  4000 error value =  2.7774260913824453\n",
      "step =  4400 error value =  2.776805841058068\n",
      "step =  4800 error value =  2.7762682368852407\n",
      "step =  5200 error value =  2.7758014167455176\n",
      "step =  5600 error value =  2.775395591363493\n",
      "step =  6000 error value =  2.7750424672284835\n",
      "step =  6400 error value =  2.774734949608994\n",
      "step =  6800 error value =  2.774466944955148\n",
      "step =  7200 error value =  2.7742332086618084\n",
      "step =  7600 error value =  2.7740292202620185\n",
      "step =  8000 error value =  2.773851078700752\n",
      "step =  8400 error value =  2.773695413684453\n",
      "step =  8800 error value =  2.773559310354988\n",
      "step =  9200 error value =  2.77344024515066\n",
      "step =  9600 error value =  2.7733360311081983\n",
      "step =  10000 error value =  2.7732447711523527\n",
      "step =  10400 error value =  2.773164818154717\n",
      "step =  10800 error value =  2.773094740737246\n",
      "step =  11200 error value =  2.7730332939573685\n",
      "step =  11600 error value =  2.772979394146653\n",
      "step =  12000 error value =  2.77293209728811\n",
      "step =  12400 error value =  2.772890580412131\n",
      "step =  12800 error value =  2.7728541255708308\n",
      "step =  13200 error value =  2.7728221060175473\n",
      "step =  13600 error value =  2.7727939742747303\n",
      "step =  14000 error value =  2.772769251820977\n",
      "step =  14400 error value =  2.7727475201680973\n",
      "step =  14800 error value =  2.7727284131329633\n",
      "step =  15200 error value =  2.772711610137585\n",
      "step =  15600 error value =  2.7726968303950956\n",
      "step =  16000 error value =  2.7726838278598955\n",
      "step =  16400 error value =  2.7726723868377143\n",
      "step =  16800 error value =  2.772662318166132\n",
      "step =  17200 error value =  2.772653455888798\n",
      "step =  17600 error value =  2.772645654357312\n",
      "step =  18000 error value =  2.7726387857039554\n",
      "step =  18400 error value =  2.772632737636286\n",
      "step =  18800 error value =  2.7726274115113556\n",
      "step =  19200 error value =  2.772622720653039\n",
      "step =  19600 error value =  2.7726185888809405\n",
      "step =  20000 error value =  2.772614949223539\n",
      "step =  20400 error value =  2.7726117427919204\n",
      "step =  20800 error value =  2.772608917793563\n",
      "step =  21200 error value =  2.7726064286683614\n",
      "step =  21600 error value =  2.772604235331398\n",
      "step =  22000 error value =  2.7726023025090156\n",
      "step =  22400 error value =  2.772600599156438\n",
      "step =  22800 error value =  2.772599097946773\n",
      "step =  23200 error value =  2.7725977748224673\n",
      "step =  23600 error value =  2.7725966086014666\n",
      "step =  24000 error value =  2.7725955806312994\n",
      "step =  24400 error value =  2.7725946744851777\n",
      "step =  24800 error value =  2.77259387569492\n",
      "step =  25200 error value =  2.7725931715162075\n",
      "step =  25600 error value =  2.772592550722177\n",
      "step =  26000 error value =  2.772592003421921\n",
      "step =  26400 error value =  2.772591520900835\n",
      "step =  26800 error value =  2.772591095480176\n",
      "step =  27200 error value =  2.772590720393473\n",
      "step =  27600 error value =  2.7725903896777804\n",
      "step =  28000 error value =  2.7725900980779503\n",
      "step =  28400 error value =  2.772589840962368\n",
      "step =  28800 error value =  2.772589614248767\n",
      "step =  29200 error value =  2.7725894143389\n",
      "step =  29600 error value =  2.7725892380610158\n",
      "step =  30000 error value =  2.7725890826191937\n"
     ]
    }
   ],
   "source": [
    "# xor gate 검증\n",
    "learning_rate = 1e-3  \n",
    "\n",
    "f = lambda x : loss_func(xdata, tdata)  \n",
    "\n",
    "print(\"Initial error value = \", error_val(xdata, tdata))\n",
    "\n",
    "for step in  range(30001):  \n",
    "    \n",
    "    W -= learning_rate * numerical_derivative(f, W)\n",
    "    \n",
    "    b -= learning_rate * numerical_derivative(f, b)\n",
    "    \n",
    "    if (step % 400 == 0):\n",
    "        print(\"step = \", step, \"error value = \", error_val(xdata, tdata))"
   ]
  },
  {
   "cell_type": "code",
   "execution_count": 6,
   "metadata": {},
   "outputs": [
    {
     "name": "stdout",
     "output_type": "stream",
     "text": [
      "XOR Gate verification\n",
      "real_val [0.49938269] , logical_val =  0\n",
      "real_val [0.49988223] , logical_val =  0\n",
      "real_val [0.49992411] , logical_val =  0\n",
      "real_val [0.50042366] , logical_val =  1\n"
     ]
    }
   ],
   "source": [
    "# xor 검증\n",
    "print(\"XOR Gate verification\")\n",
    "\n",
    "for input_data in test_data:\n",
    "    (real_val, logical_val) = predict(input_data)\n",
    "    print(\"real_val\", real_val, \", logical_val = \", logical_val)"
   ]
  },
  {
   "cell_type": "code",
   "execution_count": null,
   "metadata": {
    "collapsed": true
   },
   "outputs": [],
   "source": []
  }
 ],
 "metadata": {
  "anaconda-cloud": {},
  "kernelspec": {
   "display_name": "Python 3",
   "language": "python",
   "name": "python3"
  },
  "language_info": {
   "codemirror_mode": {
    "name": "ipython",
    "version": 3
   },
   "file_extension": ".py",
   "mimetype": "text/x-python",
   "name": "python",
   "nbconvert_exporter": "python",
   "pygments_lexer": "ipython3",
   "version": "3.7.4"
  }
 },
 "nbformat": 4,
 "nbformat_minor": 1
}

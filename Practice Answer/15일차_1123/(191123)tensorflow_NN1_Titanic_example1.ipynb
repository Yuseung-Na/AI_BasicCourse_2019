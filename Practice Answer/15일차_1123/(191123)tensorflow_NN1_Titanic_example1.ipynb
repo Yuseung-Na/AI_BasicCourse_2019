{
 "cells": [
  {
   "cell_type": "code",
   "execution_count": 1,
   "metadata": {
    "colab": {
     "base_uri": "https://localhost:8080/",
     "height": 171
    },
    "colab_type": "code",
    "id": "COzGVzy2yelZ",
    "outputId": "ed387ba3-9a68-4719-c42b-f62ba95f9685"
   },
   "outputs": [
    {
     "data": {
      "text/html": [
       "<p style=\"color: red;\">\n",
       "The default version of TensorFlow in Colab will soon switch to TensorFlow 2.x.<br>\n",
       "We recommend you <a href=\"https://www.tensorflow.org/guide/migrate\" target=\"_blank\">upgrade</a> now \n",
       "or ensure your notebook will continue to use TensorFlow 1.x via the <code>%tensorflow_version 1.x</code> magic:\n",
       "<a href=\"https://colab.research.google.com/notebooks/tensorflow_version.ipynb\" target=\"_blank\">more info</a>.</p>\n"
      ],
      "text/plain": [
       "<IPython.core.display.HTML object>"
      ]
     },
     "metadata": {
      "tags": []
     },
     "output_type": "display_data"
    },
    {
     "name": "stdout",
     "output_type": "stream",
     "text": [
      "Go to this URL in a browser: https://accounts.google.com/o/oauth2/auth?client_id=947318989803-6bn6qk8qdgf4n4g3pfee6491hc0brc4i.apps.googleusercontent.com&redirect_uri=urn%3aietf%3awg%3aoauth%3a2.0%3aoob&response_type=code&scope=email%20https%3a%2f%2fwww.googleapis.com%2fauth%2fdocs.test%20https%3a%2f%2fwww.googleapis.com%2fauth%2fdrive%20https%3a%2f%2fwww.googleapis.com%2fauth%2fdrive.photos.readonly%20https%3a%2f%2fwww.googleapis.com%2fauth%2fpeopleapi.readonly\n",
      "\n",
      "Enter your authorization code:\n",
      "··········\n",
      "Mounted at /content/gdrive/\n"
     ]
    }
   ],
   "source": [
    "import numpy as np\n",
    "import pandas as pd\n",
    "import tensorflow as tf\n",
    "\n",
    "from google.colab import drive   # colab 사용시 mount 하기 위한 용도. local 에서는 불필요\n",
    "drive.mount('/content/gdrive/')  # colab 사용시 mount 하기 위한 용도. local 에서는 불필요"
   ]
  },
  {
   "cell_type": "markdown",
   "metadata": {
    "colab_type": "text",
    "id": "qcRXCRLsyel_"
   },
   "source": [
    "### Load Kaggle Data as matrix"
   ]
  },
  {
   "cell_type": "code",
   "execution_count": 2,
   "metadata": {
    "colab": {
     "base_uri": "https://localhost:8080/",
     "height": 70
    },
    "colab_type": "code",
    "id": "J0n0MvklyemA",
    "outputId": "f97306f8-f15a-41fb-dcd7-adbb060cb671"
   },
   "outputs": [
    {
     "name": "stdout",
     "output_type": "stream",
     "text": [
      "train_csv_data.shape =  (891, 12)\n",
      "test_csv_data.shape =  (418, 11)\n",
      "test_csv_sub.shape =  (418, 2)\n"
     ]
    }
   ],
   "source": [
    "# Load Kaggle Data as matrix\n",
    "\n",
    "# local version\n",
    "#train_csv_data = pd.read_csv('./(191117)titanic_train.csv').values\n",
    "#test_csv_data = pd.read_csv('./(191117)titanic_test.csv').values\n",
    "#test_csv_sub = pd.read_csv('./(191117)titanic_gender_submission.csv').values\n",
    "\n",
    "# colab version\n",
    "################################################################\n",
    "data_dir = '/content/gdrive/My Drive/Colab Notebooks/dataset/'\n",
    "\n",
    "train_data_path = data_dir + 'titanic_train.csv'\n",
    "test_data_path = data_dir + 'titanic_test.csv'\n",
    "test_sub_path = data_dir + 'titanic_gender_submission.csv'\n",
    "\n",
    "train_csv_data = pd.read_csv(train_data_path).values\n",
    "test_csv_data = pd.read_csv(test_data_path).values\n",
    "test_csv_sub = pd.read_csv(test_sub_path).values\n",
    "################################################################\n",
    "\n",
    "# Check loaded data\n",
    "print(\"train_csv_data.shape = \", train_csv_data.shape)\n",
    "print(\"test_csv_data.shape = \", test_csv_data.shape)\n",
    "print(\"test_csv_sub.shape = \", test_csv_sub.shape)"
   ]
  },
  {
   "cell_type": "markdown",
   "metadata": {
    "colab_type": "text",
    "id": "qbbfmNX7yemG"
   },
   "source": [
    "#### Data Conversion, string => float"
   ]
  },
  {
   "cell_type": "code",
   "execution_count": 0,
   "metadata": {
    "colab": {},
    "colab_type": "code",
    "id": "gEX-efr4yemH"
   },
   "outputs": [],
   "source": [
    "# train data 에서 male -> 1, female -> 0\n",
    "for i in range(len(train_csv_data)):\n",
    "    \n",
    "    if train_csv_data[i, 4] == 'male':\n",
    "        \n",
    "        train_csv_data[i, 4] = 1.0\n",
    "    \n",
    "    else:\n",
    "        \n",
    "        train_csv_data[i, 4] = 0.0\n",
    "        \n",
    "# test data 에서 male -> 1, female -> 0\n",
    "for i in range(len(test_csv_data)):\n",
    "    \n",
    "    if test_csv_data[i, 3] == 'male':\n",
    "        \n",
    "        test_csv_data[i, 3] = 1.0\n",
    "    \n",
    "    else:\n",
    "        \n",
    "        test_csv_data[i, 3] = 0.0"
   ]
  },
  {
   "cell_type": "code",
   "execution_count": 0,
   "metadata": {
    "colab": {},
    "colab_type": "code",
    "id": "DWVhHCvEyemL"
   },
   "outputs": [],
   "source": [
    "# train data 에서 Embarked, Empty -> 0, S -> 1, C -> 2, Q -> 3\n",
    "for i in range(len(train_csv_data)):\n",
    "    \n",
    "    if train_csv_data[i, 11] == 'S':\n",
    "        \n",
    "        train_csv_data[i, 11] = 1.0\n",
    "        \n",
    "    elif train_csv_data[i, 11] == 'C':\n",
    "        \n",
    "        train_csv_data[i, 11] = 2.0\n",
    "        \n",
    "    elif train_csv_data[i, 11] == 'Q':\n",
    "        \n",
    "        train_csv_data[i, 11] = 3.0\n",
    "        \n",
    "        \n",
    "    if np.isnan(train_csv_data[i, 11]):\n",
    "        \n",
    "        train_csv_data[i, 11] = 0.0\n",
    "        \n",
    "\n",
    "# test data 에서 Embarked, Empty -> 0, S -> 1, C -> 2, Q -> 3\n",
    "for i in range(len(test_csv_data)):\n",
    "    \n",
    "    if test_csv_data[i, 10] == 'S':\n",
    "        \n",
    "        test_csv_data[i, 10] = 1.0\n",
    "        \n",
    "    elif test_csv_data[i, 10] == 'C':\n",
    "        \n",
    "        test_csv_data[i, 10] = 2.0\n",
    "        \n",
    "    elif test_csv_data[i, 10] == 'Q':\n",
    "        \n",
    "        test_csv_data[i, 10] = 3.0\n",
    "        \n",
    "    if np.isnan(test_csv_data[i, 10]):\n",
    "        \n",
    "        test_csv_data[i, 10] = 0.0"
   ]
  },
  {
   "cell_type": "markdown",
   "metadata": {
    "colab_type": "text",
    "id": "Mp7Qx2tayemO"
   },
   "source": [
    "### training data / test data 분리 및 확인"
   ]
  },
  {
   "cell_type": "code",
   "execution_count": 0,
   "metadata": {
    "colab": {},
    "colab_type": "code",
    "id": "Jzs2No_AyemQ"
   },
   "outputs": [],
   "source": [
    "training_x_data = train_csv_data[ : , [ 2, 4, 6, 7, 11 ] ]  # Pclass, Sex, SibSp, Parch, Embarked\n",
    "\n",
    "training_t_data = train_csv_data[ :, 1:2]\n",
    "\n",
    "test_x_data = test_csv_data[ : , [ 1, 3, 5, 6, 10 ] ]  # Pclass, Sex, SibSp, Parch, Embarked\n",
    "\n",
    "test_t_data = test_csv_sub[ :, 1:2]  # test_csv_sub 에서 데이터 가져옴. 주의 요함"
   ]
  },
  {
   "cell_type": "code",
   "execution_count": 6,
   "metadata": {
    "colab": {
     "base_uri": "https://localhost:8080/",
     "height": 52
    },
    "colab_type": "code",
    "id": "z9kdQbEZyemT",
    "outputId": "0cde5ea5-9e97-4259-b0c0-b46b04dc700c"
   },
   "outputs": [
    {
     "name": "stdout",
     "output_type": "stream",
     "text": [
      "training_x_data.shape =  (891, 5) , test_x_data.shape =  (418, 5)\n",
      "training_t_data.shape =  (891, 1) , test_t_data.shape =  (418, 1)\n"
     ]
    }
   ],
   "source": [
    "print(\"training_x_data.shape = \", training_x_data.shape, \", test_x_data.shape = \", test_x_data.shape)\n",
    "print(\"training_t_data.shape = \", training_t_data.shape, \", test_t_data.shape = \", test_t_data.shape)"
   ]
  },
  {
   "cell_type": "code",
   "execution_count": 0,
   "metadata": {
    "colab": {},
    "colab_type": "code",
    "id": "yGWiWPImyemX"
   },
   "outputs": [],
   "source": [
    "print(train_csv_data[0])\n",
    "\n",
    "print(train_csv_data[0, 3])"
   ]
  },
  {
   "cell_type": "markdown",
   "metadata": {
    "colab_type": "text",
    "id": "L0JufAMryema"
   },
   "source": [
    "### 텐서플로우 구현 및 학습"
   ]
  },
  {
   "cell_type": "code",
   "execution_count": 0,
   "metadata": {
    "colab": {},
    "colab_type": "code",
    "id": "3DnSK2Ol0lVL"
   },
   "outputs": [],
   "source": [
    "input_nodes = training_x_data.shape[1]\n",
    "hidden_nodes = 50\n",
    "output_nodes = 1"
   ]
  },
  {
   "cell_type": "code",
   "execution_count": 0,
   "metadata": {
    "colab": {},
    "colab_type": "code",
    "id": "zVSDBQTtyemc"
   },
   "outputs": [],
   "source": [
    "# Placeholder\n",
    "X = tf.placeholder(tf.float32, shape=[None, input_nodes])\n",
    "T = tf.placeholder(tf.float32, shape=[None, output_nodes])\n",
    "\n",
    "W2 = tf.Variable(tf.random_normal([input_nodes, hidden_nodes]))\n",
    "b2 = tf.Variable(tf.random_normal([hidden_nodes]))\n",
    "\n",
    "W3 = tf.Variable(tf.random_normal([hidden_nodes, output_nodes]))\n",
    "b3 = tf.Variable(tf.random_normal([output_nodes]))"
   ]
  },
  {
   "cell_type": "code",
   "execution_count": 0,
   "metadata": {
    "colab": {},
    "colab_type": "code",
    "id": "Qu38dLQOyemh"
   },
   "outputs": [],
   "source": [
    "Z2 = tf.matmul(X,W2) + b2\n",
    "A2 = tf.sigmoid(Z2)\n",
    "\n",
    "Z3 = tf.matmul(A2,W3) + b3\n",
    "y = A3 = tf.sigmoid(Z3)\n",
    "\n",
    "# loss\n",
    "loss = -tf.reduce_mean(T * tf.log(y) + (1-T) * tf.log(1-y))"
   ]
  },
  {
   "cell_type": "code",
   "execution_count": 0,
   "metadata": {
    "colab": {},
    "colab_type": "code",
    "id": "euj4LR28yemn"
   },
   "outputs": [],
   "source": [
    "learning_rate = 0.1\n",
    "\n",
    "#Optimizer\n",
    "optimizer = tf.train.GradientDescentOptimizer(learning_rate)\n",
    "\n",
    "train = optimizer.minimize(loss)\n",
    "\n",
    "# Accuracy computation\n",
    "# True if y > 0.5 else False\n",
    "predicted = tf.cast(y > 0.5, dtype=tf.float32)\n",
    "\n",
    "accuracy = tf.reduce_mean(tf.cast(tf.equal(predicted, T), dtype=tf.float32))"
   ]
  },
  {
   "cell_type": "code",
   "execution_count": 37,
   "metadata": {
    "colab": {
     "base_uri": "https://localhost:8080/",
     "height": 422
    },
    "colab_type": "code",
    "id": "ZbaSCnrZyemr",
    "outputId": "71f502e8-3ca9-4652-a33f-cc01ad9728d1"
   },
   "outputs": [
    {
     "name": "stdout",
     "output_type": "stream",
     "text": [
      "Step = 0 , loss:  0.76921296\n",
      "Step = 500 , loss:  0.44427288\n",
      "Step = 1000 , loss:  0.43566406\n",
      "Step = 1500 , loss:  0.4310864\n",
      "Step = 2000 , loss:  0.42809227\n",
      "Step = 2500 , loss:  0.42589757\n",
      "Step = 3000 , loss:  0.42417616\n",
      "Step = 3500 , loss:  0.42276692\n",
      "Step = 4000 , loss:  0.42157272\n",
      "Step = 4500 , loss:  0.42052984\n",
      "Step = 5000 , loss:  0.41959277\n",
      "Step = 5500 , loss:  0.41873187\n",
      "Step = 6000 , loss:  0.41792685\n",
      "Step = 6500 , loss:  0.41716662\n",
      "Step = 7000 , loss:  0.41644496\n",
      "Step = 7500 , loss:  0.41576073\n",
      "Step = 8000 , loss:  0.41511267\n",
      "Step = 8500 , loss:  0.41449946\n",
      "Step = 9000 , loss:  0.41391924\n",
      "Step = 9500 , loss:  0.41336858\n",
      "Step = 10000 , loss:  0.41284442\n",
      "\n",
      "Accuracy:  0.9449761\n"
     ]
    }
   ],
   "source": [
    "with tf.Session() as sess:\n",
    "    \n",
    "    sess.run(tf.global_variables_initializer())\n",
    "    \n",
    "    for step in range(10001):\n",
    "        \n",
    "        loss_val, y_val, _ = sess.run([loss, y, train], feed_dict = {X:training_x_data, T:training_t_data})\n",
    "    \n",
    "        if step % 500 == 0:\n",
    "            print(\"Step =\", step, \", loss: \", loss_val)\n",
    "           \n",
    "    y_val, predicted_val, accuracy_val = sess.run([y, predicted, accuracy], feed_dict = {X:test_x_data, T:test_t_data})\n",
    "    \n",
    "    print(\"\")\n",
    "    print(\"Accuracy: \" , accuracy_val)"
   ]
  },
  {
   "cell_type": "code",
   "execution_count": 0,
   "metadata": {
    "colab": {},
    "colab_type": "code",
    "id": "pE4YyZY_1e6E"
   },
   "outputs": [],
   "source": []
  }
 ],
 "metadata": {
  "anaconda-cloud": {},
  "colab": {
   "collapsed_sections": [],
   "name": "(191123)tensorflow_NN1_Titanic_example1.ipynb",
   "provenance": []
  },
  "kernelspec": {
   "display_name": "Python 3",
   "language": "python",
   "name": "python3"
  },
  "language_info": {
   "codemirror_mode": {
    "name": "ipython",
    "version": 3
   },
   "file_extension": ".py",
   "mimetype": "text/x-python",
   "name": "python",
   "nbconvert_exporter": "python",
   "pygments_lexer": "ipython3",
   "version": "3.7.4"
  }
 },
 "nbformat": 4,
 "nbformat_minor": 1
}

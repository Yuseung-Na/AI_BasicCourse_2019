{
 "cells": [
  {
   "cell_type": "code",
   "execution_count": 1,
   "metadata": {
    "colab": {
     "base_uri": "https://localhost:8080/",
     "height": 629
    },
    "colab_type": "code",
    "id": "hii0aBNc3dBu",
    "outputId": "de6958e6-58dd-44cc-aab0-8f631490baef"
   },
   "outputs": [
    {
     "data": {
      "text/html": [
       "<p style=\"color: red;\">\n",
       "The default version of TensorFlow in Colab will soon switch to TensorFlow 2.x.<br>\n",
       "We recommend you <a href=\"https://www.tensorflow.org/guide/migrate\" target=\"_blank\">upgrade</a> now \n",
       "or ensure your notebook will continue to use TensorFlow 1.x via the <code>%tensorflow_version 1.x</code> magic:\n",
       "<a href=\"https://colab.research.google.com/notebooks/tensorflow_version.ipynb\" target=\"_blank\">more info</a>.</p>\n"
      ],
      "text/plain": [
       "<IPython.core.display.HTML object>"
      ]
     },
     "metadata": {
      "tags": []
     },
     "output_type": "display_data"
    },
    {
     "name": "stdout",
     "output_type": "stream",
     "text": [
      "WARNING:tensorflow:From <ipython-input-1-90b8c2e86d09>:7: read_data_sets (from tensorflow.contrib.learn.python.learn.datasets.mnist) is deprecated and will be removed in a future version.\n",
      "Instructions for updating:\n",
      "Please use alternatives such as official/mnist/dataset.py from tensorflow/models.\n",
      "WARNING:tensorflow:From /usr/local/lib/python3.6/dist-packages/tensorflow_core/contrib/learn/python/learn/datasets/mnist.py:260: maybe_download (from tensorflow.contrib.learn.python.learn.datasets.base) is deprecated and will be removed in a future version.\n",
      "Instructions for updating:\n",
      "Please write your own downloading logic.\n",
      "WARNING:tensorflow:From /usr/local/lib/python3.6/dist-packages/tensorflow_core/contrib/learn/python/learn/datasets/base.py:252: _internal_retry.<locals>.wrap.<locals>.wrapped_fn (from tensorflow.contrib.learn.python.learn.datasets.base) is deprecated and will be removed in a future version.\n",
      "Instructions for updating:\n",
      "Please use urllib or similar directly.\n",
      "Successfully downloaded train-images-idx3-ubyte.gz 9912422 bytes.\n",
      "WARNING:tensorflow:From /usr/local/lib/python3.6/dist-packages/tensorflow_core/contrib/learn/python/learn/datasets/mnist.py:262: extract_images (from tensorflow.contrib.learn.python.learn.datasets.mnist) is deprecated and will be removed in a future version.\n",
      "Instructions for updating:\n",
      "Please use tf.data to implement this functionality.\n",
      "Extracting MNIST_data/train-images-idx3-ubyte.gz\n",
      "Successfully downloaded train-labels-idx1-ubyte.gz 28881 bytes.\n",
      "WARNING:tensorflow:From /usr/local/lib/python3.6/dist-packages/tensorflow_core/contrib/learn/python/learn/datasets/mnist.py:267: extract_labels (from tensorflow.contrib.learn.python.learn.datasets.mnist) is deprecated and will be removed in a future version.\n",
      "Instructions for updating:\n",
      "Please use tf.data to implement this functionality.\n",
      "Extracting MNIST_data/train-labels-idx1-ubyte.gz\n",
      "WARNING:tensorflow:From /usr/local/lib/python3.6/dist-packages/tensorflow_core/contrib/learn/python/learn/datasets/mnist.py:110: dense_to_one_hot (from tensorflow.contrib.learn.python.learn.datasets.mnist) is deprecated and will be removed in a future version.\n",
      "Instructions for updating:\n",
      "Please use tf.one_hot on tensors.\n",
      "Successfully downloaded t10k-images-idx3-ubyte.gz 1648877 bytes.\n",
      "Extracting MNIST_data/t10k-images-idx3-ubyte.gz\n",
      "Successfully downloaded t10k-labels-idx1-ubyte.gz 4542 bytes.\n",
      "Extracting MNIST_data/t10k-labels-idx1-ubyte.gz\n",
      "WARNING:tensorflow:From /usr/local/lib/python3.6/dist-packages/tensorflow_core/contrib/learn/python/learn/datasets/mnist.py:290: DataSet.__init__ (from tensorflow.contrib.learn.python.learn.datasets.mnist) is deprecated and will be removed in a future version.\n",
      "Instructions for updating:\n",
      "Please use alternatives such as official/mnist/dataset.py from tensorflow/models.\n",
      "\n",
      "train.num =  55000 , test.num =  10000 , validation.num =  5000\n"
     ]
    }
   ],
   "source": [
    "import tensorflow as tf\n",
    "from tensorflow.examples.tutorials.mnist import input_data\n",
    "import numpy as np\n",
    "from datetime import datetime\n",
    "\n",
    "\n",
    "mnist = input_data.read_data_sets(\"MNIST_data/\", one_hot=True)\n",
    "\n",
    "print(\"\")\n",
    "print(\"train.num = \", mnist.train.num_examples, \n",
    "      \", test.num = \", mnist.test.num_examples, \n",
    "      \", validation.num = \", mnist.validation.num_examples) "
   ]
  },
  {
   "cell_type": "markdown",
   "metadata": {
    "colab_type": "text",
    "id": "8bAVGMSD3dB9"
   },
   "source": [
    "#### shape 및 type(mnist) 확인"
   ]
  },
  {
   "cell_type": "code",
   "execution_count": 2,
   "metadata": {
    "colab": {
     "base_uri": "https://localhost:8080/",
     "height": 213
    },
    "colab_type": "code",
    "id": "GV7tnrcl3dB-",
    "outputId": "6c0d8236-5b34-4ebe-f06e-ac8802318de4"
   },
   "outputs": [
    {
     "name": "stdout",
     "output_type": "stream",
     "text": [
      "type(mnist) =  <class 'tensorflow.contrib.learn.python.learn.datasets.base.Datasets'> , type(mnist.train.images) =  <class 'numpy.ndarray'> , type(mnist.train.labels) =  <class 'numpy.ndarray'>\n",
      "\n",
      "train image shape =  (55000, 784)\n",
      "train label shape =  (55000, 10)\n",
      "test image shape =  (10000, 784)\n",
      "test label shape =  (10000, 10)\n",
      "\n",
      "train image shape =  (55000, 784)\n",
      "test image shape =  (10000, 784)\n",
      "validation image shape =  (5000, 784)\n"
     ]
    }
   ],
   "source": [
    "print(\"type(mnist) = \", type(mnist), \n",
    "      \", type(mnist.train.images) = \", type(mnist.train.images), \n",
    "      \", type(mnist.train.labels) = \", type(mnist.train.labels))\n",
    "\n",
    "print(\"\\ntrain image shape = \", np.shape(mnist.train.images))\n",
    "print(\"train label shape = \", np.shape(mnist.train.labels))\n",
    "print(\"test image shape = \", np.shape(mnist.test.images))\n",
    "print(\"test label shape = \", np.shape(mnist.test.labels))\n",
    "\n",
    "print(\"\\ntrain image shape = \", mnist.train.images.shape)\n",
    "print(\"test image shape = \", mnist.test.images.shape)\n",
    "print(\"validation image shape = \", mnist.validation.images.shape)"
   ]
  },
  {
   "cell_type": "markdown",
   "metadata": {
    "colab_type": "text",
    "id": "3ohhMTGX3dCC"
   },
   "source": [
    "#### train data 정규화 및 label 의 one-hot encoding 확인"
   ]
  },
  {
   "cell_type": "code",
   "execution_count": 3,
   "metadata": {
    "colab": {
     "base_uri": "https://localhost:8080/",
     "height": 1000
    },
    "colab_type": "code",
    "id": "Q9U5KMpD3dCE",
    "outputId": "73f2cb1e-f9b0-4636-b7e6-a795b8a13edd"
   },
   "outputs": [
    {
     "name": "stdout",
     "output_type": "stream",
     "text": [
      "length of mnist.train.images =  55000\n",
      "\n",
      "[0.         0.         0.         0.         0.         0.\n",
      " 0.         0.         0.         0.         0.         0.\n",
      " 0.         0.         0.         0.         0.         0.\n",
      " 0.         0.         0.         0.         0.         0.\n",
      " 0.         0.         0.         0.         0.         0.\n",
      " 0.         0.         0.         0.         0.         0.\n",
      " 0.         0.         0.         0.         0.         0.\n",
      " 0.         0.         0.         0.         0.         0.\n",
      " 0.         0.         0.         0.         0.         0.\n",
      " 0.         0.         0.         0.         0.         0.\n",
      " 0.         0.         0.         0.         0.         0.\n",
      " 0.         0.         0.         0.         0.         0.\n",
      " 0.         0.         0.         0.         0.         0.\n",
      " 0.         0.         0.         0.         0.         0.\n",
      " 0.         0.         0.         0.         0.         0.\n",
      " 0.         0.         0.         0.         0.         0.\n",
      " 0.         0.         0.         0.         0.         0.\n",
      " 0.         0.         0.         0.         0.         0.\n",
      " 0.         0.         0.         0.         0.         0.\n",
      " 0.         0.         0.         0.         0.         0.\n",
      " 0.         0.         0.         0.         0.         0.\n",
      " 0.         0.         0.         0.         0.         0.\n",
      " 0.         0.         0.         0.         0.         0.\n",
      " 0.         0.         0.         0.         0.         0.\n",
      " 0.         0.         0.         0.         0.         0.\n",
      " 0.         0.         0.         0.         0.         0.\n",
      " 0.         0.         0.         0.         0.         0.\n",
      " 0.         0.         0.         0.         0.         0.\n",
      " 0.         0.         0.         0.         0.         0.\n",
      " 0.         0.         0.         0.         0.         0.\n",
      " 0.         0.         0.         0.         0.         0.\n",
      " 0.         0.         0.         0.         0.         0.\n",
      " 0.         0.         0.         0.         0.         0.\n",
      " 0.         0.         0.         0.         0.         0.\n",
      " 0.         0.         0.         0.3803922  0.37647063 0.3019608\n",
      " 0.46274513 0.2392157  0.         0.         0.         0.\n",
      " 0.         0.         0.         0.         0.         0.\n",
      " 0.         0.         0.         0.         0.         0.3529412\n",
      " 0.5411765  0.9215687  0.9215687  0.9215687  0.9215687  0.9215687\n",
      " 0.9215687  0.9843138  0.9843138  0.9725491  0.9960785  0.9607844\n",
      " 0.9215687  0.74509805 0.08235294 0.         0.         0.\n",
      " 0.         0.         0.         0.         0.         0.\n",
      " 0.         0.         0.54901963 0.9843138  0.9960785  0.9960785\n",
      " 0.9960785  0.9960785  0.9960785  0.9960785  0.9960785  0.9960785\n",
      " 0.9960785  0.9960785  0.9960785  0.9960785  0.9960785  0.9960785\n",
      " 0.7411765  0.09019608 0.         0.         0.         0.\n",
      " 0.         0.         0.         0.         0.         0.\n",
      " 0.8862746  0.9960785  0.81568635 0.7803922  0.7803922  0.7803922\n",
      " 0.7803922  0.54509807 0.2392157  0.2392157  0.2392157  0.2392157\n",
      " 0.2392157  0.5019608  0.8705883  0.9960785  0.9960785  0.7411765\n",
      " 0.08235294 0.         0.         0.         0.         0.\n",
      " 0.         0.         0.         0.         0.14901961 0.32156864\n",
      " 0.0509804  0.         0.         0.         0.         0.\n",
      " 0.         0.         0.         0.         0.         0.\n",
      " 0.13333334 0.8352942  0.9960785  0.9960785  0.45098042 0.\n",
      " 0.         0.         0.         0.         0.         0.\n",
      " 0.         0.         0.         0.         0.         0.\n",
      " 0.         0.         0.         0.         0.         0.\n",
      " 0.         0.         0.         0.         0.         0.32941177\n",
      " 0.9960785  0.9960785  0.9176471  0.         0.         0.\n",
      " 0.         0.         0.         0.         0.         0.\n",
      " 0.         0.         0.         0.         0.         0.\n",
      " 0.         0.         0.         0.         0.         0.\n",
      " 0.         0.         0.         0.32941177 0.9960785  0.9960785\n",
      " 0.9176471  0.         0.         0.         0.         0.\n",
      " 0.         0.         0.         0.         0.         0.\n",
      " 0.         0.         0.         0.         0.         0.\n",
      " 0.         0.         0.         0.         0.         0.\n",
      " 0.4156863  0.6156863  0.9960785  0.9960785  0.95294124 0.20000002\n",
      " 0.         0.         0.         0.         0.         0.\n",
      " 0.         0.         0.         0.         0.         0.\n",
      " 0.         0.         0.         0.         0.         0.09803922\n",
      " 0.45882356 0.8941177  0.8941177  0.8941177  0.9921569  0.9960785\n",
      " 0.9960785  0.9960785  0.9960785  0.94117653 0.         0.\n",
      " 0.         0.         0.         0.         0.         0.\n",
      " 0.         0.         0.         0.         0.         0.\n",
      " 0.         0.26666668 0.4666667  0.86274517 0.9960785  0.9960785\n",
      " 0.9960785  0.9960785  0.9960785  0.9960785  0.9960785  0.9960785\n",
      " 0.9960785  0.5568628  0.         0.         0.         0.\n",
      " 0.         0.         0.         0.         0.         0.\n",
      " 0.         0.         0.         0.14509805 0.73333335 0.9921569\n",
      " 0.9960785  0.9960785  0.9960785  0.8745099  0.8078432  0.8078432\n",
      " 0.29411766 0.26666668 0.8431373  0.9960785  0.9960785  0.45882356\n",
      " 0.         0.         0.         0.         0.         0.\n",
      " 0.         0.         0.         0.         0.         0.\n",
      " 0.4431373  0.8588236  0.9960785  0.9490197  0.89019614 0.45098042\n",
      " 0.34901962 0.12156864 0.         0.         0.         0.\n",
      " 0.7843138  0.9960785  0.9450981  0.16078432 0.         0.\n",
      " 0.         0.         0.         0.         0.         0.\n",
      " 0.         0.         0.         0.         0.6627451  0.9960785\n",
      " 0.6901961  0.24313727 0.         0.         0.         0.\n",
      " 0.         0.         0.         0.18823531 0.9058824  0.9960785\n",
      " 0.9176471  0.         0.         0.         0.         0.\n",
      " 0.         0.         0.         0.         0.         0.\n",
      " 0.         0.         0.07058824 0.48627454 0.         0.\n",
      " 0.         0.         0.         0.         0.         0.\n",
      " 0.         0.32941177 0.9960785  0.9960785  0.6509804  0.\n",
      " 0.         0.         0.         0.         0.         0.\n",
      " 0.         0.         0.         0.         0.         0.\n",
      " 0.         0.         0.         0.         0.         0.\n",
      " 0.         0.         0.         0.         0.         0.54509807\n",
      " 0.9960785  0.9333334  0.22352943 0.         0.         0.\n",
      " 0.         0.         0.         0.         0.         0.\n",
      " 0.         0.         0.         0.         0.         0.\n",
      " 0.         0.         0.         0.         0.         0.\n",
      " 0.         0.         0.8235295  0.9803922  0.9960785  0.65882355\n",
      " 0.         0.         0.         0.         0.         0.\n",
      " 0.         0.         0.         0.         0.         0.\n",
      " 0.         0.         0.         0.         0.         0.\n",
      " 0.         0.         0.         0.         0.         0.\n",
      " 0.9490197  0.9960785  0.93725497 0.22352943 0.         0.\n",
      " 0.         0.         0.         0.         0.         0.\n",
      " 0.         0.         0.         0.         0.         0.\n",
      " 0.         0.         0.         0.         0.         0.\n",
      " 0.         0.         0.         0.34901962 0.9843138  0.9450981\n",
      " 0.3372549  0.         0.         0.         0.         0.\n",
      " 0.         0.         0.         0.         0.         0.\n",
      " 0.         0.         0.         0.         0.         0.\n",
      " 0.         0.         0.         0.         0.         0.\n",
      " 0.01960784 0.8078432  0.96470594 0.6156863  0.         0.\n",
      " 0.         0.         0.         0.         0.         0.\n",
      " 0.         0.         0.         0.         0.         0.\n",
      " 0.         0.         0.         0.         0.         0.\n",
      " 0.         0.         0.         0.         0.01568628 0.45882356\n",
      " 0.27058825 0.         0.         0.         0.         0.\n",
      " 0.         0.         0.         0.         0.         0.\n",
      " 0.         0.         0.         0.         0.         0.\n",
      " 0.         0.         0.         0.         0.         0.\n",
      " 0.         0.         0.         0.         0.         0.\n",
      " 0.         0.         0.         0.         0.         0.\n",
      " 0.         0.         0.         0.        ]\n"
     ]
    }
   ],
   "source": [
    "# 정규화 확인\n",
    "print(\"length of mnist.train.images = \", len(mnist.train.images))\n",
    "\n",
    "for index in range(len(mnist.train.images)):\n",
    "    \n",
    "    min_val = np.min(mnist.train.images[index])\n",
    "    max_val = np.max(mnist.train.images[index])\n",
    "    \n",
    "    if min_val < 0.0:\n",
    "        print(\"min value is \", min_val, \", index = \", index)\n",
    "        break\n",
    "    \n",
    "    if max_val > 1.0:\n",
    "        print(\"max value is \", max_val, \", index = \", index)\n",
    "        break\n",
    "    \n",
    "print(\"\")\n",
    "print(mnist.train.images[0])  # 정규화 확인을 위한 테스트 출력"
   ]
  },
  {
   "cell_type": "code",
   "execution_count": 4,
   "metadata": {
    "colab": {
     "base_uri": "https://localhost:8080/",
     "height": 70
    },
    "colab_type": "code",
    "id": "_CJZqaWY3dCJ",
    "outputId": "f7622ded-8c54-486e-c1d5-5d11a634372c"
   },
   "outputs": [
    {
     "name": "stdout",
     "output_type": "stream",
     "text": [
      "length of mnist.train.images =  55000\n",
      "\n",
      "[0. 0. 0. 0. 0. 0. 0. 1. 0. 0.]\n"
     ]
    }
   ],
   "source": [
    "# one-hot encoding 확인\n",
    "print(\"length of mnist.train.images = \", len(mnist.train.labels))\n",
    "\n",
    "for index in range(len(mnist.train.labels)):\n",
    "    \n",
    "    min_val = np.min(mnist.train.labels[index])\n",
    "    max_val = np.max(mnist.train.labels[index])\n",
    "    \n",
    "    if min_val < 0.0:\n",
    "        print(\"min value is \", min_val, \", index = \", index)\n",
    "        break\n",
    "    \n",
    "    if max_val > 1.0:\n",
    "        print(\"max value is \", max_val, \", index = \", index)\n",
    "        break\n",
    "    \n",
    "print(\"\")\n",
    "print(mnist.train.labels[0])  # one-hot encoding 확인을 위한 테스트 출력"
   ]
  },
  {
   "cell_type": "markdown",
   "metadata": {
    "colab_type": "text",
    "id": "modsPHJk3dCN"
   },
   "source": [
    "#### Hyper-Parameter 설정"
   ]
  },
  {
   "cell_type": "code",
   "execution_count": 0,
   "metadata": {
    "colab": {},
    "colab_type": "code",
    "id": "-A1Zg62n3dCO"
   },
   "outputs": [],
   "source": [
    "# 입력노드, 은닉노드, 출력노드, 학습율, 반복횟수, 배치 개수 등 설정\n",
    "learning_rate = 0.1  # 학습율\n",
    "epochs = 50            # 반복횟수\n",
    "batch_size = 100      # 한번에 입력으로 주어지는 MNIST 개수\n",
    "\n",
    "input_nodes = 784     # 입력노드 개수\n",
    "hidden_nodes = 100    # 은닉노드 개수\n",
    "output_nodes = 10     # 출력노드 개수"
   ]
  },
  {
   "cell_type": "markdown",
   "metadata": {
    "colab_type": "text",
    "id": "AiUHKuBe3dCW"
   },
   "source": [
    "#### 입력과 출력을 위한 플레이스홀더 정의"
   ]
  },
  {
   "cell_type": "code",
   "execution_count": 0,
   "metadata": {
    "colab": {},
    "colab_type": "code",
    "id": "lWEwL-823dCX"
   },
   "outputs": [],
   "source": [
    "# 입력과 출력을 위한 플레이스홀더 정의\n",
    "X = tf.placeholder(tf.float32, [None, input_nodes])  \n",
    "T = tf.placeholder(tf.float32, [None, output_nodes])  "
   ]
  },
  {
   "cell_type": "markdown",
   "metadata": {
    "colab_type": "text",
    "id": "_4h7965P3dCc"
   },
   "source": [
    "#### 가중치, 바이어스 정의"
   ]
  },
  {
   "cell_type": "code",
   "execution_count": 0,
   "metadata": {
    "colab": {},
    "colab_type": "code",
    "id": "3h1WGBDF3dCd"
   },
   "outputs": [],
   "source": [
    "W2 = tf.Variable(tf.random_normal([input_nodes, hidden_nodes]))  # 은닉층 가중치 노드\n",
    "b2 = tf.Variable(tf.random_normal([hidden_nodes]))               # 은닉층 바이어스 노드\n",
    "\n",
    "W3 = tf.Variable(tf.random_normal([hidden_nodes, output_nodes])) # 출력층 가중치 노드\n",
    "b3 = tf.Variable(tf.random_normal([output_nodes]))               # 출력층 바이어스 노드"
   ]
  },
  {
   "cell_type": "code",
   "execution_count": 0,
   "metadata": {
    "colab": {},
    "colab_type": "code",
    "id": "C85SQmbt3dCh"
   },
   "outputs": [],
   "source": [
    "Z2 = tf.matmul(X, W2) + b2    # 선형회귀 선형회귀 값 Z2\n",
    "A2 = tf.nn.relu(Z2)           # 은닉층 출력 값 A2, sigmoid 대신 relu 사용\n",
    "\n",
    "# 출력층 선형회귀  값 Z3, 즉 softmax 에 들어가는 입력 값\n",
    "Z3 = logits = tf.matmul(A2, W3) + b3   \n",
    "\n",
    "y = A3 = tf.nn.softmax(Z3)"
   ]
  },
  {
   "cell_type": "code",
   "execution_count": 0,
   "metadata": {
    "colab": {},
    "colab_type": "code",
    "id": "SA4oMwL73dCl"
   },
   "outputs": [],
   "source": [
    "loss = tf.reduce_mean( tf.nn.softmax_cross_entropy_with_logits_v2(logits=Z3, labels=T) )\n",
    "\n",
    "optimizer = tf.train.GradientDescentOptimizer(learning_rate)\n",
    "\n",
    "train = optimizer.minimize(loss)  "
   ]
  },
  {
   "cell_type": "code",
   "execution_count": 0,
   "metadata": {
    "colab": {},
    "colab_type": "code",
    "id": "AAtYhqFg3dCp"
   },
   "outputs": [],
   "source": [
    "# batch_size X 10 데이터에 대해 argmax를 통해 행단위로 비교함\n",
    "predicted_val = tf.equal( tf.argmax(A3, 1), tf.argmax(T, 1) )\n",
    "\n",
    "# batch_size X 10 의 True, False 를 1 또는 0 으로 변환\n",
    "accuracy = tf.reduce_mean(tf.cast(predicted_val, dtype=tf.float32))\n",
    "\n",
    "# index list 출력\n",
    "accuracy_index = tf.cast(predicted_val, dtype=tf.float32)\n",
    "\n",
    "# 예측값 처리\n",
    "predicted_list = tf.argmax(A3, 1)"
   ]
  },
  {
   "cell_type": "code",
   "execution_count": 19,
   "metadata": {
    "colab": {
     "base_uri": "https://localhost:8080/",
     "height": 52
    },
    "colab_type": "code",
    "id": "yTd24gV23dCt",
    "outputId": "c7b65d94-7ce8-44e0-9e39-714ca71abfa1"
   },
   "outputs": [
    {
     "name": "stdout",
     "output_type": "stream",
     "text": [
      "type(predicted_val) =  <class 'tensorflow.python.framework.ops.Tensor'> , type(accuracy) =  <class 'tensorflow.python.framework.ops.Tensor'>\n",
      "type(accuracy_index) = <class 'tensorflow.python.framework.ops.Tensor'> , type(predicted_list) =  <class 'tensorflow.python.framework.ops.Tensor'>\n"
     ]
    }
   ],
   "source": [
    "# Type Check\n",
    "print('type(predicted_val) = ', type(predicted_val),  ', type(accuracy) = ', type(accuracy))\n",
    "print('type(accuracy_index) =', type(accuracy_index), ', type(predicted_list) = ', type(predicted_list))"
   ]
  },
  {
   "cell_type": "code",
   "execution_count": 20,
   "metadata": {
    "colab": {
     "base_uri": "https://localhost:8080/",
     "height": 1000
    },
    "colab_type": "code",
    "id": "0msF9q3x3dCx",
    "outputId": "b226b632-dad1-4bbe-e463-c95748efbfc0"
   },
   "outputs": [
    {
     "name": "stdout",
     "output_type": "stream",
     "text": [
      "epochs =  0 , step =  0 , loss_val =  104.42905\n",
      "epochs =  0 , step =  100 , loss_val =  5.4493346\n",
      "epochs =  0 , step =  200 , loss_val =  2.5294538\n",
      "epochs =  0 , step =  300 , loss_val =  1.6645944\n",
      "epochs =  0 , step =  400 , loss_val =  2.466918\n",
      "epochs =  0 , step =  500 , loss_val =  0.79886657\n",
      "epochs =  1 , step =  0 , loss_val =  1.1780095\n",
      "epochs =  1 , step =  100 , loss_val =  0.49604622\n",
      "epochs =  1 , step =  200 , loss_val =  0.8166074\n",
      "epochs =  1 , step =  300 , loss_val =  1.3740922\n",
      "epochs =  1 , step =  400 , loss_val =  1.1018409\n",
      "epochs =  1 , step =  500 , loss_val =  0.88690645\n",
      "epochs =  2 , step =  0 , loss_val =  0.81971145\n",
      "epochs =  2 , step =  100 , loss_val =  0.74649274\n",
      "epochs =  2 , step =  200 , loss_val =  0.7310297\n",
      "epochs =  2 , step =  300 , loss_val =  0.320104\n",
      "epochs =  2 , step =  400 , loss_val =  0.44611374\n",
      "epochs =  2 , step =  500 , loss_val =  0.6496271\n",
      "epochs =  3 , step =  0 , loss_val =  0.46580973\n",
      "epochs =  3 , step =  100 , loss_val =  0.3792227\n",
      "epochs =  3 , step =  200 , loss_val =  1.1741802\n",
      "epochs =  3 , step =  300 , loss_val =  0.35309848\n",
      "epochs =  3 , step =  400 , loss_val =  0.4411272\n",
      "epochs =  3 , step =  500 , loss_val =  0.46183214\n",
      "epochs =  4 , step =  0 , loss_val =  0.3636661\n",
      "epochs =  4 , step =  100 , loss_val =  0.36950874\n",
      "epochs =  4 , step =  200 , loss_val =  0.6582124\n",
      "epochs =  4 , step =  300 , loss_val =  0.41675386\n",
      "epochs =  4 , step =  400 , loss_val =  0.2316559\n",
      "epochs =  4 , step =  500 , loss_val =  0.38319886\n",
      "epochs =  5 , step =  0 , loss_val =  0.47938633\n",
      "epochs =  5 , step =  100 , loss_val =  0.49155602\n",
      "epochs =  5 , step =  200 , loss_val =  0.38632584\n",
      "epochs =  5 , step =  300 , loss_val =  0.46011943\n",
      "epochs =  5 , step =  400 , loss_val =  0.2618798\n",
      "epochs =  5 , step =  500 , loss_val =  0.4250506\n",
      "epochs =  6 , step =  0 , loss_val =  0.25157142\n",
      "epochs =  6 , step =  100 , loss_val =  0.33226314\n",
      "epochs =  6 , step =  200 , loss_val =  0.28466716\n",
      "epochs =  6 , step =  300 , loss_val =  0.48274338\n",
      "epochs =  6 , step =  400 , loss_val =  0.48611596\n",
      "epochs =  6 , step =  500 , loss_val =  0.18138267\n",
      "epochs =  7 , step =  0 , loss_val =  0.526078\n",
      "epochs =  7 , step =  100 , loss_val =  0.3713571\n",
      "epochs =  7 , step =  200 , loss_val =  0.35872144\n",
      "epochs =  7 , step =  300 , loss_val =  0.32018167\n",
      "epochs =  7 , step =  400 , loss_val =  0.4526458\n",
      "epochs =  7 , step =  500 , loss_val =  0.686716\n",
      "epochs =  8 , step =  0 , loss_val =  0.26006103\n",
      "epochs =  8 , step =  100 , loss_val =  0.20266815\n",
      "epochs =  8 , step =  200 , loss_val =  0.67326605\n",
      "epochs =  8 , step =  300 , loss_val =  0.18188845\n",
      "epochs =  8 , step =  400 , loss_val =  0.37038872\n",
      "epochs =  8 , step =  500 , loss_val =  0.5648355\n",
      "epochs =  9 , step =  0 , loss_val =  0.1372307\n",
      "epochs =  9 , step =  100 , loss_val =  0.35309193\n",
      "epochs =  9 , step =  200 , loss_val =  0.34860635\n",
      "epochs =  9 , step =  300 , loss_val =  0.22743708\n",
      "epochs =  9 , step =  400 , loss_val =  0.22372258\n",
      "epochs =  9 , step =  500 , loss_val =  0.47685504\n",
      "epochs =  10 , step =  0 , loss_val =  0.20115575\n",
      "epochs =  10 , step =  100 , loss_val =  0.2074912\n",
      "epochs =  10 , step =  200 , loss_val =  0.11634885\n",
      "epochs =  10 , step =  300 , loss_val =  0.5992077\n",
      "epochs =  10 , step =  400 , loss_val =  0.63934034\n",
      "epochs =  10 , step =  500 , loss_val =  0.23805296\n",
      "epochs =  11 , step =  0 , loss_val =  0.2458618\n",
      "epochs =  11 , step =  100 , loss_val =  0.30709544\n",
      "epochs =  11 , step =  200 , loss_val =  0.2890628\n",
      "epochs =  11 , step =  300 , loss_val =  0.15991288\n",
      "epochs =  11 , step =  400 , loss_val =  0.29249662\n",
      "epochs =  11 , step =  500 , loss_val =  0.58454967\n",
      "epochs =  12 , step =  0 , loss_val =  0.19302227\n",
      "epochs =  12 , step =  100 , loss_val =  0.2034776\n",
      "epochs =  12 , step =  200 , loss_val =  0.24672538\n",
      "epochs =  12 , step =  300 , loss_val =  0.24486698\n",
      "epochs =  12 , step =  400 , loss_val =  0.5149044\n",
      "epochs =  12 , step =  500 , loss_val =  0.28407586\n",
      "epochs =  13 , step =  0 , loss_val =  0.170885\n",
      "epochs =  13 , step =  100 , loss_val =  0.1439799\n",
      "epochs =  13 , step =  200 , loss_val =  0.09746667\n",
      "epochs =  13 , step =  300 , loss_val =  0.20851058\n",
      "epochs =  13 , step =  400 , loss_val =  0.16358963\n",
      "epochs =  13 , step =  500 , loss_val =  0.22899653\n",
      "epochs =  14 , step =  0 , loss_val =  0.31414378\n",
      "epochs =  14 , step =  100 , loss_val =  0.284528\n",
      "epochs =  14 , step =  200 , loss_val =  0.24643308\n",
      "epochs =  14 , step =  300 , loss_val =  0.26206994\n",
      "epochs =  14 , step =  400 , loss_val =  0.10502388\n",
      "epochs =  14 , step =  500 , loss_val =  0.29109955\n",
      "epochs =  15 , step =  0 , loss_val =  0.36169383\n",
      "epochs =  15 , step =  100 , loss_val =  0.30940998\n",
      "epochs =  15 , step =  200 , loss_val =  0.22810185\n",
      "epochs =  15 , step =  300 , loss_val =  0.1478838\n",
      "epochs =  15 , step =  400 , loss_val =  0.20127127\n",
      "epochs =  15 , step =  500 , loss_val =  0.14416665\n",
      "epochs =  16 , step =  0 , loss_val =  0.32535666\n",
      "epochs =  16 , step =  100 , loss_val =  0.14661223\n",
      "epochs =  16 , step =  200 , loss_val =  0.36652726\n",
      "epochs =  16 , step =  300 , loss_val =  0.22242603\n",
      "epochs =  16 , step =  400 , loss_val =  0.22629379\n",
      "epochs =  16 , step =  500 , loss_val =  0.2013308\n",
      "epochs =  17 , step =  0 , loss_val =  0.3046385\n",
      "epochs =  17 , step =  100 , loss_val =  0.18630882\n",
      "epochs =  17 , step =  200 , loss_val =  0.2141131\n",
      "epochs =  17 , step =  300 , loss_val =  0.2902231\n",
      "epochs =  17 , step =  400 , loss_val =  0.1862703\n",
      "epochs =  17 , step =  500 , loss_val =  0.28574947\n",
      "epochs =  18 , step =  0 , loss_val =  0.14749846\n",
      "epochs =  18 , step =  100 , loss_val =  0.34645662\n",
      "epochs =  18 , step =  200 , loss_val =  0.25065976\n",
      "epochs =  18 , step =  300 , loss_val =  0.20510596\n",
      "epochs =  18 , step =  400 , loss_val =  0.19640602\n",
      "epochs =  18 , step =  500 , loss_val =  0.15251574\n",
      "epochs =  19 , step =  0 , loss_val =  0.1579248\n",
      "epochs =  19 , step =  100 , loss_val =  0.15085524\n",
      "epochs =  19 , step =  200 , loss_val =  0.25259432\n",
      "epochs =  19 , step =  300 , loss_val =  0.09215686\n",
      "epochs =  19 , step =  400 , loss_val =  0.12689619\n",
      "epochs =  19 , step =  500 , loss_val =  0.3139897\n",
      "epochs =  20 , step =  0 , loss_val =  0.22975266\n",
      "epochs =  20 , step =  100 , loss_val =  0.11219906\n",
      "epochs =  20 , step =  200 , loss_val =  0.34473282\n",
      "epochs =  20 , step =  300 , loss_val =  0.15930812\n",
      "epochs =  20 , step =  400 , loss_val =  0.1914899\n",
      "epochs =  20 , step =  500 , loss_val =  0.2334904\n",
      "epochs =  21 , step =  0 , loss_val =  0.17707495\n",
      "epochs =  21 , step =  100 , loss_val =  0.4049808\n",
      "epochs =  21 , step =  200 , loss_val =  0.11868062\n",
      "epochs =  21 , step =  300 , loss_val =  0.15292545\n",
      "epochs =  21 , step =  400 , loss_val =  0.27874187\n",
      "epochs =  21 , step =  500 , loss_val =  0.27076253\n",
      "epochs =  22 , step =  0 , loss_val =  0.18171972\n",
      "epochs =  22 , step =  100 , loss_val =  0.21114136\n",
      "epochs =  22 , step =  200 , loss_val =  0.2017948\n",
      "epochs =  22 , step =  300 , loss_val =  0.33574414\n",
      "epochs =  22 , step =  400 , loss_val =  0.07250394\n",
      "epochs =  22 , step =  500 , loss_val =  0.16778903\n",
      "epochs =  23 , step =  0 , loss_val =  0.39924073\n",
      "epochs =  23 , step =  100 , loss_val =  0.3167764\n",
      "epochs =  23 , step =  200 , loss_val =  0.1659866\n",
      "epochs =  23 , step =  300 , loss_val =  0.12626706\n",
      "epochs =  23 , step =  400 , loss_val =  0.14985943\n",
      "epochs =  23 , step =  500 , loss_val =  0.09724113\n",
      "epochs =  24 , step =  0 , loss_val =  0.32417116\n",
      "epochs =  24 , step =  100 , loss_val =  0.34179732\n",
      "epochs =  24 , step =  200 , loss_val =  0.13710481\n",
      "epochs =  24 , step =  300 , loss_val =  0.1353775\n",
      "epochs =  24 , step =  400 , loss_val =  0.09638262\n",
      "epochs =  24 , step =  500 , loss_val =  0.16988562\n",
      "epochs =  25 , step =  0 , loss_val =  0.21292526\n",
      "epochs =  25 , step =  100 , loss_val =  0.0858668\n",
      "epochs =  25 , step =  200 , loss_val =  0.13695803\n",
      "epochs =  25 , step =  300 , loss_val =  0.28488803\n",
      "epochs =  25 , step =  400 , loss_val =  0.15750603\n",
      "epochs =  25 , step =  500 , loss_val =  0.18702106\n",
      "epochs =  26 , step =  0 , loss_val =  0.21705109\n",
      "epochs =  26 , step =  100 , loss_val =  0.2112122\n",
      "epochs =  26 , step =  200 , loss_val =  0.13655934\n",
      "epochs =  26 , step =  300 , loss_val =  0.11361588\n",
      "epochs =  26 , step =  400 , loss_val =  0.43413404\n",
      "epochs =  26 , step =  500 , loss_val =  0.11884757\n",
      "epochs =  27 , step =  0 , loss_val =  0.06376566\n",
      "epochs =  27 , step =  100 , loss_val =  0.21006687\n",
      "epochs =  27 , step =  200 , loss_val =  0.23448937\n",
      "epochs =  27 , step =  300 , loss_val =  0.23835105\n",
      "epochs =  27 , step =  400 , loss_val =  0.13490134\n",
      "epochs =  27 , step =  500 , loss_val =  0.16512494\n",
      "epochs =  28 , step =  0 , loss_val =  0.10955452\n",
      "epochs =  28 , step =  100 , loss_val =  0.15471771\n",
      "epochs =  28 , step =  200 , loss_val =  0.09126162\n",
      "epochs =  28 , step =  300 , loss_val =  0.14169174\n",
      "epochs =  28 , step =  400 , loss_val =  0.08577472\n",
      "epochs =  28 , step =  500 , loss_val =  0.1324717\n",
      "epochs =  29 , step =  0 , loss_val =  0.07949381\n",
      "epochs =  29 , step =  100 , loss_val =  0.2319286\n",
      "epochs =  29 , step =  200 , loss_val =  0.22400503\n",
      "epochs =  29 , step =  300 , loss_val =  0.07116709\n",
      "epochs =  29 , step =  400 , loss_val =  0.12627693\n",
      "epochs =  29 , step =  500 , loss_val =  0.22171864\n",
      "epochs =  30 , step =  0 , loss_val =  0.3912721\n",
      "epochs =  30 , step =  100 , loss_val =  0.19282906\n",
      "epochs =  30 , step =  200 , loss_val =  0.2921432\n",
      "epochs =  30 , step =  300 , loss_val =  0.149327\n",
      "epochs =  30 , step =  400 , loss_val =  0.12707551\n",
      "epochs =  30 , step =  500 , loss_val =  0.13438039\n",
      "epochs =  31 , step =  0 , loss_val =  0.13608082\n",
      "epochs =  31 , step =  100 , loss_val =  0.18853822\n",
      "epochs =  31 , step =  200 , loss_val =  0.11039569\n",
      "epochs =  31 , step =  300 , loss_val =  0.28281093\n",
      "epochs =  31 , step =  400 , loss_val =  0.21149752\n",
      "epochs =  31 , step =  500 , loss_val =  0.56280077\n",
      "epochs =  32 , step =  0 , loss_val =  0.056884438\n",
      "epochs =  32 , step =  100 , loss_val =  0.39818943\n",
      "epochs =  32 , step =  200 , loss_val =  0.1974486\n",
      "epochs =  32 , step =  300 , loss_val =  0.19502264\n",
      "epochs =  32 , step =  400 , loss_val =  0.119238585\n",
      "epochs =  32 , step =  500 , loss_val =  0.38181704\n",
      "epochs =  33 , step =  0 , loss_val =  0.031215113\n",
      "epochs =  33 , step =  100 , loss_val =  0.1092208\n",
      "epochs =  33 , step =  200 , loss_val =  0.045157276\n",
      "epochs =  33 , step =  300 , loss_val =  0.22849728\n",
      "epochs =  33 , step =  400 , loss_val =  0.17400719\n",
      "epochs =  33 , step =  500 , loss_val =  0.29733354\n",
      "epochs =  34 , step =  0 , loss_val =  0.13242763\n",
      "epochs =  34 , step =  100 , loss_val =  0.13721636\n",
      "epochs =  34 , step =  200 , loss_val =  0.26793155\n",
      "epochs =  34 , step =  300 , loss_val =  0.097516134\n",
      "epochs =  34 , step =  400 , loss_val =  0.16989487\n",
      "epochs =  34 , step =  500 , loss_val =  0.27335566\n",
      "epochs =  35 , step =  0 , loss_val =  0.15388018\n",
      "epochs =  35 , step =  100 , loss_val =  0.19479279\n",
      "epochs =  35 , step =  200 , loss_val =  0.17859471\n",
      "epochs =  35 , step =  300 , loss_val =  0.08532248\n",
      "epochs =  35 , step =  400 , loss_val =  0.21887743\n",
      "epochs =  35 , step =  500 , loss_val =  0.19368744\n",
      "epochs =  36 , step =  0 , loss_val =  0.10398023\n",
      "epochs =  36 , step =  100 , loss_val =  0.13505666\n",
      "epochs =  36 , step =  200 , loss_val =  0.18164964\n",
      "epochs =  36 , step =  300 , loss_val =  0.12219609\n",
      "epochs =  36 , step =  400 , loss_val =  0.1873159\n",
      "epochs =  36 , step =  500 , loss_val =  0.08194347\n",
      "epochs =  37 , step =  0 , loss_val =  0.3374581\n",
      "epochs =  37 , step =  100 , loss_val =  0.19939305\n",
      "epochs =  37 , step =  200 , loss_val =  0.33569086\n",
      "epochs =  37 , step =  300 , loss_val =  0.21137682\n",
      "epochs =  37 , step =  400 , loss_val =  0.21569988\n",
      "epochs =  37 , step =  500 , loss_val =  0.34546357\n",
      "epochs =  38 , step =  0 , loss_val =  0.21451807\n",
      "epochs =  38 , step =  100 , loss_val =  0.04845902\n",
      "epochs =  38 , step =  200 , loss_val =  0.093056366\n",
      "epochs =  38 , step =  300 , loss_val =  0.08562323\n",
      "epochs =  38 , step =  400 , loss_val =  0.08249653\n",
      "epochs =  38 , step =  500 , loss_val =  0.15578309\n",
      "epochs =  39 , step =  0 , loss_val =  0.15750133\n",
      "epochs =  39 , step =  100 , loss_val =  0.13886335\n",
      "epochs =  39 , step =  200 , loss_val =  0.2718256\n",
      "epochs =  39 , step =  300 , loss_val =  0.17512514\n",
      "epochs =  39 , step =  400 , loss_val =  0.107107684\n",
      "epochs =  39 , step =  500 , loss_val =  0.20112383\n",
      "epochs =  40 , step =  0 , loss_val =  0.08372709\n",
      "epochs =  40 , step =  100 , loss_val =  0.13643116\n",
      "epochs =  40 , step =  200 , loss_val =  0.12799042\n",
      "epochs =  40 , step =  300 , loss_val =  0.08118883\n",
      "epochs =  40 , step =  400 , loss_val =  0.112751156\n",
      "epochs =  40 , step =  500 , loss_val =  0.10905853\n",
      "epochs =  41 , step =  0 , loss_val =  0.24672875\n",
      "epochs =  41 , step =  100 , loss_val =  0.14066166\n",
      "epochs =  41 , step =  200 , loss_val =  0.11304092\n",
      "epochs =  41 , step =  300 , loss_val =  0.107108496\n",
      "epochs =  41 , step =  400 , loss_val =  0.16483717\n",
      "epochs =  41 , step =  500 , loss_val =  0.16180414\n",
      "epochs =  42 , step =  0 , loss_val =  0.18938214\n",
      "epochs =  42 , step =  100 , loss_val =  0.24631876\n",
      "epochs =  42 , step =  200 , loss_val =  0.1636376\n",
      "epochs =  42 , step =  300 , loss_val =  0.2570445\n",
      "epochs =  42 , step =  400 , loss_val =  0.18653114\n",
      "epochs =  42 , step =  500 , loss_val =  0.1859051\n",
      "epochs =  43 , step =  0 , loss_val =  0.19842127\n",
      "epochs =  43 , step =  100 , loss_val =  0.09114408\n",
      "epochs =  43 , step =  200 , loss_val =  0.19608353\n",
      "epochs =  43 , step =  300 , loss_val =  0.1708568\n",
      "epochs =  43 , step =  400 , loss_val =  0.23365779\n",
      "epochs =  43 , step =  500 , loss_val =  0.23550206\n",
      "epochs =  44 , step =  0 , loss_val =  0.16539648\n",
      "epochs =  44 , step =  100 , loss_val =  0.16513054\n",
      "epochs =  44 , step =  200 , loss_val =  0.15186945\n",
      "epochs =  44 , step =  300 , loss_val =  0.056545258\n",
      "epochs =  44 , step =  400 , loss_val =  0.12051821\n",
      "epochs =  44 , step =  500 , loss_val =  0.109227054\n",
      "epochs =  45 , step =  0 , loss_val =  0.06499504\n",
      "epochs =  45 , step =  100 , loss_val =  0.18812627\n",
      "epochs =  45 , step =  200 , loss_val =  0.25552243\n",
      "epochs =  45 , step =  300 , loss_val =  0.12762235\n",
      "epochs =  45 , step =  400 , loss_val =  0.122306526\n",
      "epochs =  45 , step =  500 , loss_val =  0.050054155\n",
      "epochs =  46 , step =  0 , loss_val =  0.21407291\n",
      "epochs =  46 , step =  100 , loss_val =  0.046617337\n",
      "epochs =  46 , step =  200 , loss_val =  0.09888888\n",
      "epochs =  46 , step =  300 , loss_val =  0.12767495\n",
      "epochs =  46 , step =  400 , loss_val =  0.07844331\n",
      "epochs =  46 , step =  500 , loss_val =  0.24908346\n",
      "epochs =  47 , step =  0 , loss_val =  0.120506436\n",
      "epochs =  47 , step =  100 , loss_val =  0.09445784\n",
      "epochs =  47 , step =  200 , loss_val =  0.17402415\n",
      "epochs =  47 , step =  300 , loss_val =  0.17585364\n",
      "epochs =  47 , step =  400 , loss_val =  0.17102447\n",
      "epochs =  47 , step =  500 , loss_val =  0.05370297\n",
      "epochs =  48 , step =  0 , loss_val =  0.29109073\n",
      "epochs =  48 , step =  100 , loss_val =  0.11489698\n",
      "epochs =  48 , step =  200 , loss_val =  0.19244386\n",
      "epochs =  48 , step =  300 , loss_val =  0.13159782\n",
      "epochs =  48 , step =  400 , loss_val =  0.112340935\n",
      "epochs =  48 , step =  500 , loss_val =  0.11239334\n",
      "epochs =  49 , step =  0 , loss_val =  0.2632698\n",
      "epochs =  49 , step =  100 , loss_val =  0.1472531\n",
      "epochs =  49 , step =  200 , loss_val =  0.2150182\n",
      "epochs =  49 , step =  300 , loss_val =  0.18804307\n",
      "epochs =  49 , step =  400 , loss_val =  0.17493248\n",
      "epochs =  49 , step =  500 , loss_val =  0.13689601\n",
      "\n",
      "Elapsed Time =>  0:01:05.165578\n",
      "\n",
      "\n",
      "Accuracy =  0.9458\n",
      "type(accuracy_val) =  <class 'numpy.float32'> , type(predicted_list_val) =  <class 'numpy.ndarray'> , type(index_label) =  <class 'numpy.ndarray'>\n",
      "index_label.shape =  (10000,)\n",
      "length of index_label_list =  10000\n",
      "false label count =  542\n",
      "\n",
      "length of index_label_false_list_1 542\n",
      "\n",
      "length of index_label_false_list_2 542\n"
     ]
    }
   ],
   "source": [
    "index_label_false_list_1 = []\n",
    "index_label_false_list_2 = []\n",
    "\n",
    "with  tf.Session()  as sess:\n",
    "    \n",
    "    sess.run(tf.global_variables_initializer())  # 변수 노드(tf.Variable) 초기화\n",
    "        \n",
    "    start_time = datetime.now()\n",
    "    \n",
    "    for i in range(epochs):    # 50 번 반복수행\n",
    "        \n",
    "        total_batch = int(mnist.train.num_examples / batch_size)  # 55,000 / 100\n",
    "\n",
    "        for step in range(total_batch):\n",
    "            \n",
    "            batch_x_data, batch_t_data = mnist.train.next_batch(batch_size)\n",
    "      \n",
    "            loss_val, _ = sess.run([loss, train], feed_dict={X: batch_x_data, T: batch_t_data})    \n",
    "        \n",
    "            if step % 100 == 0:\n",
    "                print(\"epochs = \", i, \", step = \", step, \", loss_val = \", loss_val)             \n",
    "    \n",
    "    end_time = datetime.now()\n",
    "    \n",
    "    print(\"\")\n",
    "    print(\"Elapsed Time => \", end_time-start_time)\n",
    "    print(\"\")\n",
    "    \n",
    "    # Accuracy 확인\n",
    "    test_x_data = mnist.test.images    # 10000 X 784\n",
    "    test_t_data = mnist.test.labels    # 10000 X 10\n",
    "    \n",
    "    accuracy_val, predicted_list_val, index_label = sess.run([accuracy, predicted_list, accuracy_index], feed_dict={X: test_x_data, T: test_t_data})\n",
    "    \n",
    "    print(\"\\nAccuracy = \", accuracy_val)\n",
    "    print(\"type(accuracy_val) = \", type(accuracy_val), ', type(predicted_list_val) = ', type(predicted_list_val), ', type(index_label) = ', type(index_label))\n",
    "    print(\"index_label.shape = \", index_label.shape)\n",
    "    \n",
    "    index_label_list = list(index_label)\n",
    "    print(\"length of index_label_list = \", len(index_label_list))\n",
    "    print(\"false label count = \", index_label_list.count([0]))\n",
    "    \n",
    "    \n",
    "    # list type 으로 디버그\n",
    "    temp_list = [] \n",
    "    \n",
    "    for index in range(len(index_label_list)):\n",
    "        \n",
    "        if index_label_list[index] == 0:\n",
    "            \n",
    "            temp_list.append(index)\n",
    "            temp_list.append(np.argmax(test_t_data[index]))  # one-hot encoding 이므로 argmax 로 정답 추출\n",
    "            temp_list.append(predicted_list_val[index])\n",
    "            \n",
    "            index_label_false_list_1.append(temp_list)\n",
    "            \n",
    "            temp_list = []\n",
    "            \n",
    "    print(\"\\nlength of index_label_false_list_1\", len(index_label_false_list_1))\n",
    "    \n",
    "    # numpy type 으로 디버그\n",
    "    temp_list = [] \n",
    "    \n",
    "    for index in range(len(index_label)):\n",
    "        \n",
    "        if index_label[index] == 0:\n",
    "            \n",
    "            temp_list.append(index)\n",
    "            temp_list.append(np.argmax(test_t_data[index]))  # one-hot encoding 이므로 argmax 로 정답 추출\n",
    "            temp_list.append(predicted_list_val[index])\n",
    "            \n",
    "            index_label_false_list_2.append(temp_list)\n",
    "            \n",
    "            temp_list = []\n",
    "            \n",
    "    print(\"\\nlength of index_label_false_list_2\", len(index_label_false_list_2))"
   ]
  },
  {
   "cell_type": "code",
   "execution_count": 21,
   "metadata": {
    "colab": {
     "base_uri": "https://localhost:8080/",
     "height": 54
    },
    "colab_type": "code",
    "id": "dHSloPGA3dC1",
    "outputId": "10829e5e-d384-4d79-ed26-96d7eeaca127"
   },
   "outputs": [
    {
     "name": "stdout",
     "output_type": "stream",
     "text": [
      "[[33, 4, 6], [38, 2, 3], [109, 4, 9], [115, 4, 9], [121, 4, 6], [126, 0, 9], [149, 2, 6], [151, 9, 3], [158, 3, 2], [187, 5, 3], [193, 9, 8], [241, 9, 8], [244, 2, 7], [247, 4, 2], [259, 6, 5], [264, 9, 8], [274, 9, 3], [290, 8, 4], [300, 4, 6], [320, 9, 7], [321, 2, 7], [325, 4, 8], [340, 5, 3], [341, 6, 4], [358, 7, 3], [445, 6, 0], [448, 9, 8], [449, 3, 5], [464, 3, 7], [478, 5, 8], [479, 9, 8], [495, 8, 0], [502, 5, 3], [507, 3, 5], [543, 8, 2], [565, 4, 9], [582, 8, 2], [591, 8, 3], [610, 4, 2], [613, 2, 8], [629, 2, 6], [646, 2, 6], [659, 2, 8], [667, 7, 2], [689, 7, 9], [691, 8, 4], [717, 0, 2], [720, 5, 8], [726, 7, 9], [740, 4, 9], [791, 5, 9], [810, 7, 2], [866, 5, 4], [877, 8, 6], [881, 4, 9], [890, 3, 5], [900, 1, 3], [924, 2, 7], [926, 2, 6], [938, 3, 5], [950, 7, 2], [951, 5, 4], [965, 6, 0], [966, 9, 8], [969, 4, 9], [1012, 7, 9], [1014, 6, 0], [1017, 6, 4], [1032, 5, 6], [1039, 7, 1], [1045, 9, 8], [1092, 3, 5], [1096, 7, 9], [1107, 9, 8], [1112, 4, 0], [1119, 7, 2], [1124, 8, 7], [1156, 7, 3], [1178, 4, 0], [1191, 0, 4], [1194, 7, 9], [1200, 8, 0], [1204, 3, 2], [1226, 7, 2], [1232, 9, 4], [1247, 9, 0], [1248, 8, 5], [1256, 2, 3], [1260, 7, 1], [1272, 5, 7], [1274, 4, 2], [1289, 5, 9], [1315, 3, 5], [1319, 8, 3], [1326, 7, 2], [1328, 7, 8], [1331, 5, 3], [1364, 8, 2], [1391, 4, 9], [1394, 8, 5], [1414, 9, 7], [1422, 4, 9], [1429, 9, 4], [1440, 4, 9], [1444, 6, 4], [1465, 4, 2], [1468, 0, 6], [1469, 3, 0], [1500, 7, 1], [1530, 8, 7], [1543, 7, 3], [1545, 9, 7], [1549, 4, 2], [1553, 9, 8], [1559, 9, 3], [1569, 6, 2], [1570, 0, 2], [1609, 2, 6], [1620, 2, 3], [1626, 6, 5], [1678, 2, 0], [1681, 3, 7], [1686, 8, 5], [1709, 9, 5], [1737, 5, 3], [1754, 7, 1], [1759, 8, 2], [1790, 2, 7], [1800, 6, 2], [1813, 8, 5], [1822, 6, 5], [1850, 8, 3], [1865, 4, 9], [1871, 2, 3], [1901, 9, 4], [1938, 4, 6], [1941, 7, 2], [1952, 9, 8], [1954, 5, 4], [1955, 8, 3], [1969, 6, 8], [1982, 6, 2], [1987, 0, 9], [2016, 7, 2], [2023, 0, 5], [2024, 7, 9], [2040, 5, 4], [2043, 4, 8], [2044, 2, 7], [2063, 7, 1], [2070, 7, 9], [2109, 3, 7], [2118, 6, 5], [2125, 5, 9], [2130, 4, 9], [2135, 6, 1], [2182, 1, 2], [2183, 4, 6], [2185, 0, 5], [2186, 2, 0], [2189, 9, 1], [2201, 4, 9], [2215, 6, 5], [2224, 5, 6], [2237, 5, 8], [2258, 1, 7], [2266, 1, 6], [2291, 5, 8], [2293, 9, 6], [2299, 2, 7], [2325, 7, 1], [2333, 0, 5], [2369, 5, 9], [2371, 4, 9], [2387, 9, 1], [2395, 8, 0], [2406, 9, 8], [2414, 9, 4], [2422, 6, 4], [2425, 8, 3], [2433, 2, 1], [2449, 0, 5], [2454, 6, 5], [2479, 0, 2], [2488, 2, 4], [2508, 6, 1], [2514, 4, 9], [2526, 5, 3], [2532, 6, 1], [2539, 7, 9], [2582, 9, 5], [2589, 9, 8], [2597, 5, 3], [2598, 8, 7], [2607, 7, 2], [2610, 2, 8], [2648, 9, 0], [2654, 6, 1], [2658, 4, 8], [2659, 4, 2], [2681, 3, 5], [2689, 5, 8], [2698, 5, 3], [2720, 9, 4], [2730, 7, 2], [2743, 5, 8], [2751, 6, 5], [2754, 6, 0], [2770, 3, 4], [2810, 5, 0], [2834, 8, 5], [2905, 8, 1], [2915, 7, 3], [2921, 3, 2], [2927, 3, 2], [2930, 5, 1], [2939, 9, 5], [2953, 3, 5], [2970, 5, 3], [2979, 9, 7], [2989, 3, 8], [3001, 9, 8], [3005, 9, 1], [3012, 8, 9], [3030, 6, 1], [3060, 9, 7], [3073, 1, 2], [3089, 2, 8], [3095, 5, 8], [3108, 3, 5], [3114, 4, 6], [3117, 5, 9], [3147, 9, 4], [3189, 7, 4], [3206, 8, 3], [3239, 2, 1], [3240, 9, 8], [3254, 6, 5], [3289, 8, 3], [3301, 2, 1], [3322, 0, 5], [3329, 7, 2], [3330, 2, 3], [3333, 7, 9], [3337, 2, 7], [3385, 9, 7], [3422, 6, 0], [3474, 2, 3], [3475, 3, 7], [3490, 4, 8], [3503, 9, 1], [3520, 6, 4], [3549, 3, 2], [3552, 5, 4], [3558, 5, 0], [3559, 8, 5], [3567, 8, 5], [3574, 0, 7], [3597, 9, 3], [3634, 0, 2], [3656, 7, 3], [3681, 2, 3], [3703, 2, 1], [3716, 9, 3], [3718, 4, 9], [3730, 7, 9], [3742, 3, 8], [3751, 7, 2], [3757, 8, 0], [3767, 7, 2], [3772, 2, 3], [3776, 5, 8], [3780, 4, 6], [3796, 2, 8], [3801, 6, 0], [3808, 7, 8], [3818, 0, 4], [3846, 6, 1], [3853, 6, 5], [3864, 0, 5], [3869, 9, 4], [3906, 1, 2], [3924, 9, 4], [3926, 9, 3], [3941, 4, 2], [3943, 3, 5], [3946, 2, 8], [3951, 8, 0], [3962, 3, 4], [3970, 9, 4], [3976, 7, 2], [3985, 9, 4], [3986, 2, 3], [4007, 7, 4], [4063, 6, 5], [4075, 8, 0], [4078, 9, 7], [4093, 9, 4], [4140, 8, 9], [4152, 5, 1], [4163, 9, 5], [4176, 2, 7], [4199, 7, 9], [4205, 2, 1], [4224, 9, 7], [4236, 5, 6], [4238, 7, 9], [4248, 2, 8], [4256, 3, 2], [4259, 9, 4], [4271, 5, 3], [4284, 9, 3], [4289, 2, 7], [4294, 9, 7], [4306, 3, 7], [4344, 9, 3], [4355, 5, 3], [4369, 9, 4], [4374, 5, 6], [4382, 4, 9], [4400, 7, 3], [4425, 9, 4], [4439, 6, 4], [4449, 6, 5], [4451, 2, 8], [4454, 9, 4], [4477, 0, 6], [4497, 8, 7], [4498, 7, 4], [4511, 9, 7], [4548, 5, 2], [4575, 4, 2], [4578, 7, 9], [4601, 8, 4], [4605, 3, 8], [4633, 9, 4], [4635, 3, 5], [4657, 3, 8], [4668, 2, 3], [4731, 8, 7], [4735, 9, 4], [4738, 4, 6], [4761, 9, 8], [4798, 6, 5], [4807, 8, 5], [4814, 6, 5], [4823, 9, 4], [4826, 4, 9], [4833, 3, 7], [4838, 6, 5], [4852, 8, 5], [4860, 4, 9], [4874, 9, 2], [4878, 2, 0], [4879, 8, 6], [4880, 0, 8], [4886, 7, 1], [4890, 8, 3], [4918, 9, 4], [4929, 4, 7], [4951, 1, 7], [4952, 6, 5], [4956, 8, 4], [4966, 7, 3], [4974, 4, 9], [4990, 3, 2], [5001, 9, 4], [5046, 3, 2], [5065, 8, 1], [5067, 3, 2], [5068, 4, 7], [5138, 8, 5], [5140, 3, 5], [5237, 3, 2], [5265, 6, 4], [5331, 1, 6], [5457, 1, 8], [5556, 4, 9], [5600, 7, 9], [5608, 5, 8], [5634, 2, 3], [5642, 1, 5], [5654, 7, 9], [5677, 4, 6], [5734, 3, 7], [5736, 6, 2], [5749, 8, 2], [5801, 6, 8], [5833, 5, 3], [5835, 7, 9], [5842, 4, 9], [5845, 7, 9], [5887, 7, 5], [5913, 5, 2], [5914, 7, 9], [5936, 4, 9], [5937, 5, 3], [5955, 3, 8], [5973, 3, 8], [5985, 5, 3], [5997, 5, 8], [6019, 4, 9], [6023, 3, 8], [6035, 2, 0], [6042, 5, 8], [6043, 5, 3], [6045, 3, 9], [6059, 3, 8], [6093, 2, 3], [6101, 1, 8], [6168, 9, 3], [6173, 9, 2], [6347, 8, 5], [6386, 5, 3], [6392, 5, 2], [6480, 2, 8], [6505, 9, 0], [6511, 3, 5], [6555, 8, 7], [6557, 0, 5], [6558, 6, 2], [6560, 9, 5], [6568, 9, 4], [6571, 9, 7], [6597, 0, 9], [6598, 5, 3], [6603, 8, 9], [6624, 3, 5], [6625, 8, 4], [6632, 9, 8], [6651, 0, 5], [6725, 8, 2], [6739, 3, 7], [6744, 2, 1], [6746, 5, 4], [6785, 2, 4], [6817, 9, 4], [6847, 6, 4], [6872, 4, 0], [6914, 9, 3], [6926, 6, 4], [7054, 2, 7], [7178, 5, 2], [7216, 0, 3], [7235, 2, 9], [7249, 2, 0], [7338, 4, 8], [7432, 7, 2], [7434, 4, 8], [7451, 5, 6], [7492, 2, 7], [7545, 8, 9], [7595, 3, 8], [7619, 2, 3], [7668, 6, 2], [7736, 9, 7], [7779, 5, 3], [7797, 5, 6], [7800, 3, 2], [7811, 1, 8], [7821, 3, 2], [7842, 5, 0], [7860, 6, 2], [7899, 1, 8], [7902, 7, 8], [7991, 9, 8], [8020, 1, 8], [8081, 4, 6], [8091, 2, 8], [8094, 2, 8], [8196, 6, 0], [8198, 2, 4], [8246, 3, 8], [8263, 3, 9], [8277, 3, 8], [8287, 6, 4], [8293, 3, 9], [8294, 8, 5], [8311, 6, 2], [8325, 0, 6], [8339, 8, 6], [8408, 8, 5], [8416, 4, 5], [8453, 5, 8], [8502, 5, 8], [8508, 3, 2], [8520, 4, 9], [8523, 9, 4], [8527, 4, 9], [8607, 3, 8], [9008, 4, 0], [9009, 7, 2], [9010, 2, 8], [9015, 7, 2], [9016, 0, 5], [9022, 3, 2], [9024, 7, 2], [9045, 7, 2], [9103, 4, 6], [9209, 2, 8], [9211, 4, 9], [9217, 3, 2], [9427, 5, 3], [9450, 8, 5], [9482, 5, 8], [9503, 5, 4], [9534, 7, 9], [9540, 1, 8], [9587, 9, 4], [9607, 6, 0], [9624, 3, 8], [9634, 0, 8], [9642, 9, 7], [9655, 3, 7], [9662, 3, 2], [9679, 6, 3], [9692, 9, 7], [9698, 6, 5], [9700, 2, 7], [9716, 2, 5], [9719, 5, 0], [9726, 2, 3], [9729, 5, 6], [9745, 4, 2], [9751, 2, 8], [9758, 3, 5], [9762, 3, 8], [9768, 2, 0], [9779, 2, 8], [9783, 4, 2], [9808, 9, 4], [9811, 2, 8], [9828, 3, 5], [9839, 2, 3], [9840, 3, 2], [9867, 2, 7], [9888, 6, 0], [9905, 3, 9], [9926, 8, 5], [9944, 3, 9], [9975, 3, 2], [9982, 5, 6]]\n"
     ]
    }
   ],
   "source": [
    "print(index_label_false_list_1)"
   ]
  },
  {
   "cell_type": "code",
   "execution_count": 22,
   "metadata": {
    "colab": {
     "base_uri": "https://localhost:8080/",
     "height": 54
    },
    "colab_type": "code",
    "id": "TDXsPhrE3dC9",
    "outputId": "d5311b2c-e392-4e64-bc28-48e5c6fa36a4"
   },
   "outputs": [
    {
     "name": "stdout",
     "output_type": "stream",
     "text": [
      "[[33, 4, 6], [38, 2, 3], [109, 4, 9], [115, 4, 9], [121, 4, 6], [126, 0, 9], [149, 2, 6], [151, 9, 3], [158, 3, 2], [187, 5, 3], [193, 9, 8], [241, 9, 8], [244, 2, 7], [247, 4, 2], [259, 6, 5], [264, 9, 8], [274, 9, 3], [290, 8, 4], [300, 4, 6], [320, 9, 7], [321, 2, 7], [325, 4, 8], [340, 5, 3], [341, 6, 4], [358, 7, 3], [445, 6, 0], [448, 9, 8], [449, 3, 5], [464, 3, 7], [478, 5, 8], [479, 9, 8], [495, 8, 0], [502, 5, 3], [507, 3, 5], [543, 8, 2], [565, 4, 9], [582, 8, 2], [591, 8, 3], [610, 4, 2], [613, 2, 8], [629, 2, 6], [646, 2, 6], [659, 2, 8], [667, 7, 2], [689, 7, 9], [691, 8, 4], [717, 0, 2], [720, 5, 8], [726, 7, 9], [740, 4, 9], [791, 5, 9], [810, 7, 2], [866, 5, 4], [877, 8, 6], [881, 4, 9], [890, 3, 5], [900, 1, 3], [924, 2, 7], [926, 2, 6], [938, 3, 5], [950, 7, 2], [951, 5, 4], [965, 6, 0], [966, 9, 8], [969, 4, 9], [1012, 7, 9], [1014, 6, 0], [1017, 6, 4], [1032, 5, 6], [1039, 7, 1], [1045, 9, 8], [1092, 3, 5], [1096, 7, 9], [1107, 9, 8], [1112, 4, 0], [1119, 7, 2], [1124, 8, 7], [1156, 7, 3], [1178, 4, 0], [1191, 0, 4], [1194, 7, 9], [1200, 8, 0], [1204, 3, 2], [1226, 7, 2], [1232, 9, 4], [1247, 9, 0], [1248, 8, 5], [1256, 2, 3], [1260, 7, 1], [1272, 5, 7], [1274, 4, 2], [1289, 5, 9], [1315, 3, 5], [1319, 8, 3], [1326, 7, 2], [1328, 7, 8], [1331, 5, 3], [1364, 8, 2], [1391, 4, 9], [1394, 8, 5], [1414, 9, 7], [1422, 4, 9], [1429, 9, 4], [1440, 4, 9], [1444, 6, 4], [1465, 4, 2], [1468, 0, 6], [1469, 3, 0], [1500, 7, 1], [1530, 8, 7], [1543, 7, 3], [1545, 9, 7], [1549, 4, 2], [1553, 9, 8], [1559, 9, 3], [1569, 6, 2], [1570, 0, 2], [1609, 2, 6], [1620, 2, 3], [1626, 6, 5], [1678, 2, 0], [1681, 3, 7], [1686, 8, 5], [1709, 9, 5], [1737, 5, 3], [1754, 7, 1], [1759, 8, 2], [1790, 2, 7], [1800, 6, 2], [1813, 8, 5], [1822, 6, 5], [1850, 8, 3], [1865, 4, 9], [1871, 2, 3], [1901, 9, 4], [1938, 4, 6], [1941, 7, 2], [1952, 9, 8], [1954, 5, 4], [1955, 8, 3], [1969, 6, 8], [1982, 6, 2], [1987, 0, 9], [2016, 7, 2], [2023, 0, 5], [2024, 7, 9], [2040, 5, 4], [2043, 4, 8], [2044, 2, 7], [2063, 7, 1], [2070, 7, 9], [2109, 3, 7], [2118, 6, 5], [2125, 5, 9], [2130, 4, 9], [2135, 6, 1], [2182, 1, 2], [2183, 4, 6], [2185, 0, 5], [2186, 2, 0], [2189, 9, 1], [2201, 4, 9], [2215, 6, 5], [2224, 5, 6], [2237, 5, 8], [2258, 1, 7], [2266, 1, 6], [2291, 5, 8], [2293, 9, 6], [2299, 2, 7], [2325, 7, 1], [2333, 0, 5], [2369, 5, 9], [2371, 4, 9], [2387, 9, 1], [2395, 8, 0], [2406, 9, 8], [2414, 9, 4], [2422, 6, 4], [2425, 8, 3], [2433, 2, 1], [2449, 0, 5], [2454, 6, 5], [2479, 0, 2], [2488, 2, 4], [2508, 6, 1], [2514, 4, 9], [2526, 5, 3], [2532, 6, 1], [2539, 7, 9], [2582, 9, 5], [2589, 9, 8], [2597, 5, 3], [2598, 8, 7], [2607, 7, 2], [2610, 2, 8], [2648, 9, 0], [2654, 6, 1], [2658, 4, 8], [2659, 4, 2], [2681, 3, 5], [2689, 5, 8], [2698, 5, 3], [2720, 9, 4], [2730, 7, 2], [2743, 5, 8], [2751, 6, 5], [2754, 6, 0], [2770, 3, 4], [2810, 5, 0], [2834, 8, 5], [2905, 8, 1], [2915, 7, 3], [2921, 3, 2], [2927, 3, 2], [2930, 5, 1], [2939, 9, 5], [2953, 3, 5], [2970, 5, 3], [2979, 9, 7], [2989, 3, 8], [3001, 9, 8], [3005, 9, 1], [3012, 8, 9], [3030, 6, 1], [3060, 9, 7], [3073, 1, 2], [3089, 2, 8], [3095, 5, 8], [3108, 3, 5], [3114, 4, 6], [3117, 5, 9], [3147, 9, 4], [3189, 7, 4], [3206, 8, 3], [3239, 2, 1], [3240, 9, 8], [3254, 6, 5], [3289, 8, 3], [3301, 2, 1], [3322, 0, 5], [3329, 7, 2], [3330, 2, 3], [3333, 7, 9], [3337, 2, 7], [3385, 9, 7], [3422, 6, 0], [3474, 2, 3], [3475, 3, 7], [3490, 4, 8], [3503, 9, 1], [3520, 6, 4], [3549, 3, 2], [3552, 5, 4], [3558, 5, 0], [3559, 8, 5], [3567, 8, 5], [3574, 0, 7], [3597, 9, 3], [3634, 0, 2], [3656, 7, 3], [3681, 2, 3], [3703, 2, 1], [3716, 9, 3], [3718, 4, 9], [3730, 7, 9], [3742, 3, 8], [3751, 7, 2], [3757, 8, 0], [3767, 7, 2], [3772, 2, 3], [3776, 5, 8], [3780, 4, 6], [3796, 2, 8], [3801, 6, 0], [3808, 7, 8], [3818, 0, 4], [3846, 6, 1], [3853, 6, 5], [3864, 0, 5], [3869, 9, 4], [3906, 1, 2], [3924, 9, 4], [3926, 9, 3], [3941, 4, 2], [3943, 3, 5], [3946, 2, 8], [3951, 8, 0], [3962, 3, 4], [3970, 9, 4], [3976, 7, 2], [3985, 9, 4], [3986, 2, 3], [4007, 7, 4], [4063, 6, 5], [4075, 8, 0], [4078, 9, 7], [4093, 9, 4], [4140, 8, 9], [4152, 5, 1], [4163, 9, 5], [4176, 2, 7], [4199, 7, 9], [4205, 2, 1], [4224, 9, 7], [4236, 5, 6], [4238, 7, 9], [4248, 2, 8], [4256, 3, 2], [4259, 9, 4], [4271, 5, 3], [4284, 9, 3], [4289, 2, 7], [4294, 9, 7], [4306, 3, 7], [4344, 9, 3], [4355, 5, 3], [4369, 9, 4], [4374, 5, 6], [4382, 4, 9], [4400, 7, 3], [4425, 9, 4], [4439, 6, 4], [4449, 6, 5], [4451, 2, 8], [4454, 9, 4], [4477, 0, 6], [4497, 8, 7], [4498, 7, 4], [4511, 9, 7], [4548, 5, 2], [4575, 4, 2], [4578, 7, 9], [4601, 8, 4], [4605, 3, 8], [4633, 9, 4], [4635, 3, 5], [4657, 3, 8], [4668, 2, 3], [4731, 8, 7], [4735, 9, 4], [4738, 4, 6], [4761, 9, 8], [4798, 6, 5], [4807, 8, 5], [4814, 6, 5], [4823, 9, 4], [4826, 4, 9], [4833, 3, 7], [4838, 6, 5], [4852, 8, 5], [4860, 4, 9], [4874, 9, 2], [4878, 2, 0], [4879, 8, 6], [4880, 0, 8], [4886, 7, 1], [4890, 8, 3], [4918, 9, 4], [4929, 4, 7], [4951, 1, 7], [4952, 6, 5], [4956, 8, 4], [4966, 7, 3], [4974, 4, 9], [4990, 3, 2], [5001, 9, 4], [5046, 3, 2], [5065, 8, 1], [5067, 3, 2], [5068, 4, 7], [5138, 8, 5], [5140, 3, 5], [5237, 3, 2], [5265, 6, 4], [5331, 1, 6], [5457, 1, 8], [5556, 4, 9], [5600, 7, 9], [5608, 5, 8], [5634, 2, 3], [5642, 1, 5], [5654, 7, 9], [5677, 4, 6], [5734, 3, 7], [5736, 6, 2], [5749, 8, 2], [5801, 6, 8], [5833, 5, 3], [5835, 7, 9], [5842, 4, 9], [5845, 7, 9], [5887, 7, 5], [5913, 5, 2], [5914, 7, 9], [5936, 4, 9], [5937, 5, 3], [5955, 3, 8], [5973, 3, 8], [5985, 5, 3], [5997, 5, 8], [6019, 4, 9], [6023, 3, 8], [6035, 2, 0], [6042, 5, 8], [6043, 5, 3], [6045, 3, 9], [6059, 3, 8], [6093, 2, 3], [6101, 1, 8], [6168, 9, 3], [6173, 9, 2], [6347, 8, 5], [6386, 5, 3], [6392, 5, 2], [6480, 2, 8], [6505, 9, 0], [6511, 3, 5], [6555, 8, 7], [6557, 0, 5], [6558, 6, 2], [6560, 9, 5], [6568, 9, 4], [6571, 9, 7], [6597, 0, 9], [6598, 5, 3], [6603, 8, 9], [6624, 3, 5], [6625, 8, 4], [6632, 9, 8], [6651, 0, 5], [6725, 8, 2], [6739, 3, 7], [6744, 2, 1], [6746, 5, 4], [6785, 2, 4], [6817, 9, 4], [6847, 6, 4], [6872, 4, 0], [6914, 9, 3], [6926, 6, 4], [7054, 2, 7], [7178, 5, 2], [7216, 0, 3], [7235, 2, 9], [7249, 2, 0], [7338, 4, 8], [7432, 7, 2], [7434, 4, 8], [7451, 5, 6], [7492, 2, 7], [7545, 8, 9], [7595, 3, 8], [7619, 2, 3], [7668, 6, 2], [7736, 9, 7], [7779, 5, 3], [7797, 5, 6], [7800, 3, 2], [7811, 1, 8], [7821, 3, 2], [7842, 5, 0], [7860, 6, 2], [7899, 1, 8], [7902, 7, 8], [7991, 9, 8], [8020, 1, 8], [8081, 4, 6], [8091, 2, 8], [8094, 2, 8], [8196, 6, 0], [8198, 2, 4], [8246, 3, 8], [8263, 3, 9], [8277, 3, 8], [8287, 6, 4], [8293, 3, 9], [8294, 8, 5], [8311, 6, 2], [8325, 0, 6], [8339, 8, 6], [8408, 8, 5], [8416, 4, 5], [8453, 5, 8], [8502, 5, 8], [8508, 3, 2], [8520, 4, 9], [8523, 9, 4], [8527, 4, 9], [8607, 3, 8], [9008, 4, 0], [9009, 7, 2], [9010, 2, 8], [9015, 7, 2], [9016, 0, 5], [9022, 3, 2], [9024, 7, 2], [9045, 7, 2], [9103, 4, 6], [9209, 2, 8], [9211, 4, 9], [9217, 3, 2], [9427, 5, 3], [9450, 8, 5], [9482, 5, 8], [9503, 5, 4], [9534, 7, 9], [9540, 1, 8], [9587, 9, 4], [9607, 6, 0], [9624, 3, 8], [9634, 0, 8], [9642, 9, 7], [9655, 3, 7], [9662, 3, 2], [9679, 6, 3], [9692, 9, 7], [9698, 6, 5], [9700, 2, 7], [9716, 2, 5], [9719, 5, 0], [9726, 2, 3], [9729, 5, 6], [9745, 4, 2], [9751, 2, 8], [9758, 3, 5], [9762, 3, 8], [9768, 2, 0], [9779, 2, 8], [9783, 4, 2], [9808, 9, 4], [9811, 2, 8], [9828, 3, 5], [9839, 2, 3], [9840, 3, 2], [9867, 2, 7], [9888, 6, 0], [9905, 3, 9], [9926, 8, 5], [9944, 3, 9], [9975, 3, 2], [9982, 5, 6]]\n"
     ]
    }
   ],
   "source": [
    "print(index_label_false_list_2)"
   ]
  },
  {
   "cell_type": "code",
   "execution_count": 23,
   "metadata": {
    "colab": {
     "base_uri": "https://localhost:8080/",
     "height": 282
    },
    "colab_type": "code",
    "id": "Z4oFsr6r3dDB",
    "outputId": "c12d3a38-f2a7-4bef-a33c-1e8704ffb2e4"
   },
   "outputs": [
    {
     "data": {
      "image/png": "[encoded data removed]",
      "text/plain": [
       "<Figure size 432x288 with 1 Axes>"
      ]
     },
     "metadata": {
      "tags": []
     },
     "output_type": "display_data"
    },
    {
     "name": "stdout",
     "output_type": "stream",
     "text": [
      "label =  3\n"
     ]
    }
   ],
   "source": [
    "# check false data\n",
    "import matplotlib.pyplot as plt\n",
    "%matplotlib inline\n",
    "\n",
    "img = test_x_data[9944].reshape(28,28)  \n",
    "\n",
    "plt.imshow(img, cmap='gray')\n",
    "plt.show()\n",
    "\n",
    "print(\"label = \", np.argmax(test_t_data[9944]))"
   ]
  },
  {
   "cell_type": "code",
   "execution_count": 24,
   "metadata": {
    "colab": {
     "base_uri": "https://localhost:8080/",
     "height": 282
    },
    "colab_type": "code",
    "id": "Psd-5T1P3dDF",
    "outputId": "a102992d-bddc-4f6c-dd89-db2bd1012baf"
   },
   "outputs": [
    {
     "data": {
      "image/png": "[encoded data removed]",
      "text/plain": [
       "<Figure size 432x288 with 1 Axes>"
      ]
     },
     "metadata": {
      "tags": []
     },
     "output_type": "display_data"
    },
    {
     "name": "stdout",
     "output_type": "stream",
     "text": [
      "label =  9\n"
     ]
    }
   ],
   "source": [
    "# check false data\n",
    "import matplotlib.pyplot as plt\n",
    "%matplotlib inline\n",
    "\n",
    "img = test_x_data[9926].reshape(28,28)  \n",
    "\n",
    "plt.imshow(img, cmap='gray')\n",
    "plt.show()\n",
    "\n",
    "print(\"label = \", np.argmax(test_t_data[9918]))"
   ]
  },
  {
   "cell_type": "code",
   "execution_count": 25,
   "metadata": {
    "colab": {
     "base_uri": "https://localhost:8080/",
     "height": 282
    },
    "colab_type": "code",
    "id": "w18K2SHS3dDK",
    "outputId": "08560819-a2c8-44dc-806d-baf28215b7d9"
   },
   "outputs": [
    {
     "data": {
      "image/png": "[encoded data removed]",
      "text/plain": [
       "<Figure size 432x288 with 1 Axes>"
      ]
     },
     "metadata": {
      "tags": []
     },
     "output_type": "display_data"
    },
    {
     "name": "stdout",
     "output_type": "stream",
     "text": [
      "label =  5\n"
     ]
    }
   ],
   "source": [
    "# check false data\n",
    "import matplotlib.pyplot as plt\n",
    "%matplotlib inline\n",
    "\n",
    "img = test_x_data[8].reshape(28,28)  \n",
    "\n",
    "plt.imshow(img, cmap='gray')\n",
    "plt.show()\n",
    "\n",
    "print(\"label = \", np.argmax(test_t_data[8]))"
   ]
  },
  {
   "cell_type": "markdown",
   "metadata": {
    "colab_type": "text",
    "id": "tDVnJiRwixFO"
   },
   "source": [
    "colab 에서 drive mount"
   ]
  },
  {
   "cell_type": "code",
   "execution_count": 26,
   "metadata": {
    "colab": {
     "base_uri": "https://localhost:8080/",
     "height": 125
    },
    "colab_type": "code",
    "id": "wO8oD6VUit4P",
    "outputId": "2d44ec0d-3c7f-4234-af8a-ebe1be26ecd9"
   },
   "outputs": [
    {
     "name": "stdout",
     "output_type": "stream",
     "text": [
      "Go to this URL in a browser: https://accounts.google.com/o/oauth2/auth?client_id=947318989803-6bn6qk8qdgf4n4g3pfee6491hc0brc4i.apps.googleusercontent.com&redirect_uri=urn%3aietf%3awg%3aoauth%3a2.0%3aoob&response_type=code&scope=email%20https%3a%2f%2fwww.googleapis.com%2fauth%2fdocs.test%20https%3a%2f%2fwww.googleapis.com%2fauth%2fdrive%20https%3a%2f%2fwww.googleapis.com%2fauth%2fdrive.photos.readonly%20https%3a%2f%2fwww.googleapis.com%2fauth%2fpeopleapi.readonly\n",
      "\n",
      "Enter your authorization code:\n",
      "··········\n",
      "Mounted at /content/gdrive/\n"
     ]
    }
   ],
   "source": [
    "from google.colab import drive   # colab 사용시 mount 하기 위한 용도. local 에서는 불필요\n",
    "drive.mount('/content/gdrive/')  # colab 사용시 mount 하기 위한 용도. local 에서는 불필요"
   ]
  },
  {
   "cell_type": "markdown",
   "metadata": {
    "colab_type": "text",
    "id": "tTFqmkhM3dDR"
   },
   "source": [
    "#### 파일로 이미지 저장"
   ]
  },
  {
   "cell_type": "code",
   "execution_count": 27,
   "metadata": {
    "colab": {
     "base_uri": "https://localhost:8080/",
     "height": 1000
    },
    "colab_type": "code",
    "id": "MjFyDwAt3dDS",
    "outputId": "09654bec-e21d-4370-bbb9-9b0aba6f3573"
   },
   "outputs": [
    {
     "name": "stdout",
     "output_type": "stream",
     "text": [
      "10 image is saved now\n",
      "20 image is saved now\n",
      "30 image is saved now\n",
      "40 image is saved now\n",
      "50 image is saved now\n",
      "60 image is saved now\n",
      "70 image is saved now\n",
      "80 image is saved now\n",
      "90 image is saved now\n",
      "100 image is saved now\n",
      "110 image is saved now\n",
      "120 image is saved now\n",
      "130 image is saved now\n",
      "140 image is saved now\n",
      "150 image is saved now\n",
      "160 image is saved now\n",
      "170 image is saved now\n",
      "180 image is saved now\n",
      "190 image is saved now\n",
      "200 image is saved now\n",
      "210 image is saved now\n",
      "220 image is saved now\n",
      "230 image is saved now\n",
      "240 image is saved now\n",
      "250 image is saved now\n",
      "260 image is saved now\n",
      "270 image is saved now\n",
      "280 image is saved now\n",
      "290 image is saved now\n",
      "300 image is saved now\n",
      "310 image is saved now\n",
      "320 image is saved now\n",
      "330 image is saved now\n",
      "340 image is saved now\n",
      "350 image is saved now\n",
      "360 image is saved now\n",
      "370 image is saved now\n",
      "380 image is saved now\n",
      "390 image is saved now\n",
      "400 image is saved now\n",
      "410 image is saved now\n",
      "420 image is saved now\n",
      "430 image is saved now\n",
      "440 image is saved now\n",
      "450 image is saved now\n",
      "460 image is saved now\n",
      "470 image is saved now\n",
      "480 image is saved now\n",
      "490 image is saved now\n",
      "500 image is saved now\n",
      "510 image is saved now\n",
      "520 image is saved now\n",
      "530 image is saved now\n",
      "540 image is saved now\n",
      "Elapsed save time =>  0:18:40.006539\n",
      "Total  542  data is saved\n"
     ]
    },
    {
     "data": {
      "image/png": "[encoded data removed]",
      "text/plain": [
       "<Figure size 432x288 with 1 Axes>"
      ]
     },
     "metadata": {
      "tags": []
     },
     "output_type": "display_data"
    }
   ],
   "source": [
    "# check false data\n",
    "import os\n",
    "from datetime import datetime\n",
    "import matplotlib.pyplot as plt\n",
    "%matplotlib inline\n",
    "\n",
    "save_count = 0\n",
    "\n",
    "# 현재 디렉토리 저장\n",
    "curr_dir = os.getcwd()\n",
    "\n",
    "# image 저장할 디렉토리 생성. 현재 시간으로 생성\n",
    "now = datetime.now()\n",
    "algorithm_name = 'NN1_100Hidden_GD_'\n",
    "save_dir_name = algorithm_name + str(now.year) + '-' + str(now.month) + '-' + str(now.day) + '_' + str(now.hour) + str(now.minute) + str(now.second)\n",
    "\n",
    "colab_default_dir = '/content/gdrive/My Drive/Colab Notebooks/'\n",
    "\n",
    "os.chdir(colab_default_dir)\n",
    "os.mkdir(save_dir_name)\n",
    "\n",
    "# change dir\n",
    "os.chdir(save_dir_name)\n",
    "\n",
    "start_time = datetime.now()\n",
    "\n",
    "for list_data in index_label_false_list_2:\n",
    "    \n",
    "    index_int = list_data[0]\n",
    "    label_int = list_data[1]\n",
    "    prediction_int = list_data[2]\n",
    "        \n",
    "    # 저장할 이미지를 인덱스를 이용하여 가져옴\n",
    "    img = test_x_data[index_int].reshape(28,28)  \n",
    "    plt.imshow(img, cmap='gray')\n",
    "    \n",
    "    # 정답 문자열\n",
    "    label_str = str(label_int)\n",
    "    \n",
    "    # 예측값 문자열\n",
    "    prediction_str = str(prediction_int)\n",
    "    \n",
    "    # 정답과 오답을 나타내는 문자열\n",
    "    label_prediction_str = 'label = ' + label_str + '  ,  prediction = ' + prediction_str\n",
    "    \n",
    "    # 저장 파일 이름 생성, str(index_int).png\n",
    "    save_image_name = str(index_int) + '.png'\n",
    "    \n",
    "    plt.title(label_prediction_str)\n",
    "    plt.savefig(save_image_name)\n",
    "    \n",
    "    save_count += 1\n",
    "    \n",
    "    if save_count % 10 == 0:\n",
    "        \n",
    "        print(save_count, 'image is saved now')\n",
    "\n",
    "    \n",
    "end_time = datetime.now()\n",
    "\n",
    "print('Elapsed save time => ', end_time - start_time)\n",
    "print('Total ', save_count, \" data is saved\")\n",
    "\n",
    "# 원래의 dir 로 복귀\n",
    "os.chdir(curr_dir)"
   ]
  },
  {
   "cell_type": "code",
   "execution_count": 28,
   "metadata": {
    "colab": {
     "base_uri": "https://localhost:8080/",
     "height": 34
    },
    "colab_type": "code",
    "id": "q8DXozIy3dDa",
    "outputId": "c40bc8ff-7d5f-40a8-ab5b-a4aea2ea948d"
   },
   "outputs": [
    {
     "name": "stdout",
     "output_type": "stream",
     "text": [
      "/content\n"
     ]
    }
   ],
   "source": [
    "print(curr_dir)"
   ]
  },
  {
   "cell_type": "code",
   "execution_count": 0,
   "metadata": {
    "colab": {},
    "colab_type": "code",
    "id": "K3Yz46CcplnA"
   },
   "outputs": [],
   "source": []
  }
 ],
 "metadata": {
  "accelerator": "GPU",
  "anaconda-cloud": {},
  "colab": {
   "collapsed_sections": [],
   "name": "(191123)tensorflow_MNIST_debug_for_class.ipynb",
   "provenance": []
  },
  "kernelspec": {
   "display_name": "Python 3",
   "language": "python",
   "name": "python3"
  },
  "language_info": {
   "codemirror_mode": {
    "name": "ipython",
    "version": 3
   },
   "file_extension": ".py",
   "mimetype": "text/x-python",
   "name": "python",
   "nbconvert_exporter": "python",
   "pygments_lexer": "ipython3",
   "version": "3.7.4"
  }
 },
 "nbformat": 4,
 "nbformat_minor": 1
}

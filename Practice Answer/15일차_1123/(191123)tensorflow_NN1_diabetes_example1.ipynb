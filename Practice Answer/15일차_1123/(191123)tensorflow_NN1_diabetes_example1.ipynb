{
 "cells": [
  {
   "cell_type": "markdown",
   "metadata": {
    "colab_type": "text",
    "id": "_k7jMqvO6hdI"
   },
   "source": [
    " \n",
    "## training data 와 test data 분리 하는 DataGeneration class 이용"
   ]
  },
  {
   "cell_type": "code",
   "execution_count": 2,
   "metadata": {
    "colab": {
     "base_uri": "https://localhost:8080/",
     "height": 34
    },
    "colab_type": "code",
    "id": "rs2BOsrs6hdM",
    "outputId": "355a37f7-4178-406b-d947-2711bc72c98b"
   },
   "outputs": [
    {
     "name": "stdout",
     "output_type": "stream",
     "text": [
      "Drive already mounted at /content/gdrive/; to attempt to forcibly remount, call drive.mount(\"/content/gdrive/\", force_remount=True).\n"
     ]
    }
   ],
   "source": [
    "import tensorflow as tf\n",
    "import numpy as np\n",
    "\n",
    "from google.colab import drive   # colab 사용시 mount 하기 위한 용도. local 에서는 불필요\n",
    "drive.mount('/content/gdrive/')  # colab 사용시 mount 하기 위한 용도. local 에서는 불필요"
   ]
  },
  {
   "cell_type": "code",
   "execution_count": 0,
   "metadata": {
    "colab": {},
    "colab_type": "code",
    "id": "-ZpMUJB16hdR"
   },
   "outputs": [],
   "source": [
    "class DataGeneration:\n",
    "    \n",
    "    # target_position = 0 (첫번째열이 정답데이터), target_position=-1 (마지막열이 정답데이터)\n",
    "    def __init__(self, name, file_path, seperation_rate, target_position=-1):\n",
    "        \n",
    "        self.name = name\n",
    "        \n",
    "        self.file_path = file_path\n",
    "        \n",
    "        self.seperation_rate = seperation_rate\n",
    "        \n",
    "        if (target_position == -1  or  target_position == 0):      \n",
    "            self.target_position = target_position\n",
    "        \n",
    "        else:\n",
    "            err_str = 'target_position must be -1 or 0'            \n",
    "            raise Exception(err_str)    \n",
    "            \n",
    "    \n",
    "    # print data target distribution \n",
    "    # str_of_kind : 'original data' or  'training data'  or  'test data'\n",
    "    def print_target_distribution(self, data, str_of_kind='original data'):\n",
    "        \n",
    "        print('=======================================================================================================')\n",
    "        \n",
    "        target_data = data[ :, self.target_position ]\n",
    "        \n",
    "        # numpy.unique() 사용하여 loaded data target 분포 확인\n",
    "        unique, counts = np.unique(target_data, return_counts=True)\n",
    "\n",
    "        print('[DataGeneration]  ', str_of_kind, ' target value = ', dict(zip(unique, counts)).items())\n",
    "\n",
    "        num_zeros = dict(zip(unique, counts))[0.0]  # key 0.0 에 대한 value 값 count 리턴\n",
    "        num_ones = dict(zip(unique, counts))[1.0]  # key 1.0 에 대한 value 값 count 리턴\n",
    "\n",
    "        print('[DataGeneration]  ', str_of_kind, ' zeros numbers = ', num_zeros, ', ratio = ', 100 * num_zeros / (data.shape[0]), ' %')\n",
    "        print('[DataGeneration]  ', str_of_kind, ' ones numbers = ', num_ones, ', ratio = ', 100 * num_ones / (data.shape[0]), '%') \n",
    "    \n",
    "        print('=======================================================================================================')\n",
    "        \n",
    "        \n",
    "    # numpy.random.shuffle()  이용하여 training_data / test_data 생성\n",
    "    def generate(self):\n",
    "    \n",
    "        # 데이터 불러오기, 파일이 없는 경우 exception 발생\n",
    "\n",
    "        try:\n",
    "            loaded_data = np.loadtxt(self.file_path, delimiter=',', dtype=np.float32)\n",
    "            \n",
    "        except Exception as err:\n",
    "            print('[DataGeneration::generate()]  ', str(err))\n",
    "            raise Exception(str(err))\n",
    "\n",
    "        print(\"[DataGeneration]  loaded_data.shape = \", loaded_data.shape)\n",
    "            \n",
    "        # print the target distribution of original data \n",
    "        \n",
    "        self.print_target_distribution(loaded_data, 'original data')\n",
    "        \n",
    "        \n",
    "        # 분리비율에 맞게 테스트데이터로 분리\n",
    "        total_data_num = len(loaded_data)\n",
    "        test_data_num = int(len(loaded_data) * self.seperation_rate)\n",
    "\n",
    "        # numpy.random.shuffle 을 이용하여 랜덤하게 데이터 섞기\n",
    "        np.random.shuffle(loaded_data)\n",
    "        \n",
    "        # test_data 는 0 : test_data_num\n",
    "        \n",
    "        \n",
    "        test_data = loaded_data[ 0:test_data_num ]\n",
    "\n",
    "        # training_data 는 test_data_num 부터 끝까지 \n",
    "        training_data = loaded_data[ test_data_num: ]\n",
    "\n",
    "        # print target distribution of generated data \n",
    "        \n",
    "        self.print_target_distribution(training_data, 'training data')\n",
    "        \n",
    "        self.print_target_distribution(test_data, 'test data')\n",
    "        \n",
    "        # 임의의 디렉토리에 저장하기 위한 dir_name_list 생성 (ver 4 기능)\n",
    "        dir_name_list = self.file_path.split('/')\n",
    "        \n",
    "        dir_names = dir_name_list[ 0:-1 ]    # 디렉토리 이름만 분리\n",
    "        \n",
    "        dir_path = ''\n",
    "        \n",
    "        for index in range(len(dir_names)):\n",
    "    \n",
    "            dir_path += dir_names[index]\n",
    "    \n",
    "            dir_path += '/' \n",
    "        \n",
    "        # save training & test data (.csv)\n",
    "        training_data_save_path = dir_path + self.name + '_training_data.csv'\n",
    "        test_data_save_path = dir_path + self.name + '_test_data.csv'\n",
    "        \n",
    "        # 저장공간이 없거나 파일 write 실패시 exception 발생\n",
    "        try:\n",
    "            np.savetxt(training_data_save_path, training_data, delimiter=',')\n",
    "            np.savetxt(test_data_save_path, test_data, delimiter=',')\n",
    "            \n",
    "        except Exception as err:\n",
    "            print('[DataGeneration::generate()]  ', str(err))\n",
    "            raise Exception(str(err))\n",
    "        \n",
    "        return training_data, test_data"
   ]
  },
  {
   "cell_type": "code",
   "execution_count": 4,
   "metadata": {
    "colab": {
     "base_uri": "https://localhost:8080/",
     "height": 334
    },
    "colab_type": "code",
    "id": "_TATiG8n6hdX",
    "outputId": "4ae414d2-91ce-4945-daa8-b4b235c9c30c"
   },
   "outputs": [
    {
     "name": "stdout",
     "output_type": "stream",
     "text": [
      "[DataGeneration]  loaded_data.shape =  (759, 9)\n",
      "=======================================================================================================\n",
      "[DataGeneration]   original data  target value =  dict_items([(0.0, 263), (1.0, 496)])\n",
      "[DataGeneration]   original data  zeros numbers =  263 , ratio =  34.65085638998683  %\n",
      "[DataGeneration]   original data  ones numbers =  496 , ratio =  65.34914361001317 %\n",
      "=======================================================================================================\n",
      "=======================================================================================================\n",
      "[DataGeneration]   training data  target value =  dict_items([(0.0, 151), (1.0, 305)])\n",
      "[DataGeneration]   training data  zeros numbers =  151 , ratio =  33.1140350877193  %\n",
      "[DataGeneration]   training data  ones numbers =  305 , ratio =  66.8859649122807 %\n",
      "=======================================================================================================\n",
      "=======================================================================================================\n",
      "[DataGeneration]   test data  target value =  dict_items([(0.0, 112), (1.0, 191)])\n",
      "[DataGeneration]   test data  zeros numbers =  112 , ratio =  36.96369636963696  %\n",
      "[DataGeneration]   test data  ones numbers =  191 , ratio =  63.03630363036304 %\n",
      "=======================================================================================================\n",
      "training_data.shape =  (456, 9)\n",
      "test_data.shape =  (303, 9)\n"
     ]
    }
   ],
   "source": [
    "# DataGeneration 객체 생성\n",
    "seperation_rate = 0.4\n",
    "\n",
    "# local version\n",
    "# data_obj = DataGeneration('Diabetes', './diabetes.csv', seperation_rate) \n",
    "\n",
    "# colab version\n",
    "data_obj = DataGeneration('Diabetes', '/content/gdrive/My Drive/Colab Notebooks/dataset/diabetes.csv', seperation_rate)  \n",
    "\n",
    "# training_data, test_data 생성\n",
    "(training_data, test_data) = data_obj.generate()\n",
    "\n",
    "print(\"training_data.shape = \", training_data.shape)\n",
    "print(\"test_data.shape = \", test_data.shape)"
   ]
  },
  {
   "cell_type": "code",
   "execution_count": 13,
   "metadata": {
    "colab": {
     "base_uri": "https://localhost:8080/",
     "height": 87
    },
    "colab_type": "code",
    "id": "qppddGCf6hdx",
    "outputId": "7f4c13b3-d14e-41ac-e054-d7303a4dd98c"
   },
   "outputs": [
    {
     "name": "stdout",
     "output_type": "stream",
     "text": [
      "training_x_data.shape =  (456, 8)\n",
      "training_t_data.shape =  (456, 1)\n",
      "test_x_data.shape =  (303, 8)\n",
      "test_x_data.shape =  (303, 8)\n"
     ]
    }
   ],
   "source": [
    "training_x_data = training_data[ :, 0:-1]\n",
    "training_t_data = training_data[ :, [-1]]\n",
    "\n",
    "print(\"training_x_data.shape = \", training_x_data.shape)\n",
    "print(\"training_t_data.shape = \", training_t_data.shape)\n",
    "\n",
    "test_x_data = test_data[ :, 0:-1]\n",
    "test_t_data = test_data[ :, [-1]]\n",
    "\n",
    "print(\"test_x_data.shape = \", test_x_data.shape)\n",
    "print(\"test_x_data.shape = \", test_x_data.shape)"
   ]
  },
  {
   "cell_type": "code",
   "execution_count": 0,
   "metadata": {
    "colab": {},
    "colab_type": "code",
    "id": "ykKD7Ra0rS7Y"
   },
   "outputs": [],
   "source": [
    "input_nodes = training_x_data.shape[1]  \n",
    "hidden_nodes = 10\n",
    "output_nodes = 1"
   ]
  },
  {
   "cell_type": "code",
   "execution_count": 0,
   "metadata": {
    "colab": {},
    "colab_type": "code",
    "id": "0_16mfYN6hd7"
   },
   "outputs": [],
   "source": [
    "X = tf.placeholder(tf.float32, [None, 8])  # 8개 입력노드\n",
    "T = tf.placeholder(tf.float32, [None, 1])  # 1개 정답노드\n",
    "\n",
    "W2 = tf.Variable(tf.random_normal([input_nodes, hidden_nodes]))  # 8X10 은닉층 노드\n",
    "b2 = tf.Variable(tf.random_normal([hidden_nodes]))     # 10개 은닉층 바이어스 노드\n",
    "\n",
    "W3 = tf.Variable(tf.random_normal([hidden_nodes, output_nodes]))  # 10X1 출력층 노드\n",
    "b3 = tf.Variable(tf.random_normal([output_nodes]))     # 10개 출력층 바이어스 노드"
   ]
  },
  {
   "cell_type": "code",
   "execution_count": 0,
   "metadata": {
    "colab": {},
    "colab_type": "code",
    "id": "A7ss0HZy6heJ"
   },
   "outputs": [],
   "source": [
    "Z2 = tf.matmul(X, W2) + b2  # 은닉층 선형회귀 값 Z2\n",
    "A2 = tf.sigmoid(Z2)         # 은닉층 sigmoid\n",
    "\n",
    "Z3 = tf.matmul(A2, W3) + b3 # 출력층 선형회귀 값 Z3\n",
    "y = A3 = tf.sigmoid(Z3)     # 은닉층 sigmoid\n",
    "\n",
    "# 손실함수는 Cross-Entropy \n",
    "loss = -tf.reduce_mean( T*tf.log(y) + (1-T)*tf.log(1-y) ) "
   ]
  },
  {
   "cell_type": "code",
   "execution_count": 0,
   "metadata": {
    "colab": {},
    "colab_type": "code",
    "id": "KgySsgPm6heq"
   },
   "outputs": [],
   "source": [
    "learning_rate = 0.01    # 학습율\n",
    "\n",
    "optimizer = tf.train.GradientDescentOptimizer(learning_rate)\n",
    "\n",
    "train = optimizer.minimize(loss)  "
   ]
  },
  {
   "cell_type": "code",
   "execution_count": 0,
   "metadata": {
    "colab": {},
    "colab_type": "code",
    "id": "0Iz_lQ4i6he1"
   },
   "outputs": [],
   "source": [
    "# 정확성 검사, True if y > 0.5 else False\n",
    "\n",
    "predicted = tf.cast(y > 0.5, dtype=tf.float32)  \n",
    "\n",
    "# predicted 와 T 같으면 True 를 리턴하므로 cast 에 의해서 1로 강제 변환, \n",
    "accuracy = tf.reduce_mean(tf.cast(tf.equal(predicted, T), dtype=tf.float32))"
   ]
  },
  {
   "cell_type": "code",
   "execution_count": 19,
   "metadata": {
    "colab": {
     "base_uri": "https://localhost:8080/",
     "height": 809
    },
    "colab_type": "code",
    "id": "3DzQ54KB6he7",
    "outputId": "7fac5c41-8839-4469-dca4-be20641bdc12"
   },
   "outputs": [
    {
     "name": "stdout",
     "output_type": "stream",
     "text": [
      "step =  0 , loss_val =  0.6696934\n",
      "step =  500 , loss_val =  0.6231013\n",
      "step =  1000 , loss_val =  0.59548897\n",
      "step =  1500 , loss_val =  0.57466847\n",
      "step =  2000 , loss_val =  0.55850714\n",
      "step =  2500 , loss_val =  0.5455898\n",
      "step =  3000 , loss_val =  0.5349998\n",
      "step =  3500 , loss_val =  0.52614075\n",
      "step =  4000 , loss_val =  0.51861525\n",
      "step =  4500 , loss_val =  0.5121496\n",
      "step =  5000 , loss_val =  0.50654763\n",
      "step =  5500 , loss_val =  0.50166357\n",
      "step =  6000 , loss_val =  0.4973845\n",
      "step =  6500 , loss_val =  0.4936204\n",
      "step =  7000 , loss_val =  0.49029756\n",
      "step =  7500 , loss_val =  0.48735455\n",
      "step =  8000 , loss_val =  0.48473933\n",
      "step =  8500 , loss_val =  0.4824076\n",
      "step =  9000 , loss_val =  0.48032138\n",
      "step =  9500 , loss_val =  0.478448\n",
      "step =  10000 , loss_val =  0.47675952\n",
      "step =  10500 , loss_val =  0.47523165\n",
      "step =  11000 , loss_val =  0.4738438\n",
      "step =  11500 , loss_val =  0.47257802\n",
      "step =  12000 , loss_val =  0.47141916\n",
      "step =  12500 , loss_val =  0.470354\n",
      "step =  13000 , loss_val =  0.46937126\n",
      "step =  13500 , loss_val =  0.46846128\n",
      "step =  14000 , loss_val =  0.4676157\n",
      "step =  14500 , loss_val =  0.46682745\n",
      "step =  15000 , loss_val =  0.46609023\n",
      "step =  15500 , loss_val =  0.4653986\n",
      "step =  16000 , loss_val =  0.46474826\n",
      "step =  16500 , loss_val =  0.46413475\n",
      "step =  17000 , loss_val =  0.4635549\n",
      "step =  17500 , loss_val =  0.46300542\n",
      "step =  18000 , loss_val =  0.4624837\n",
      "step =  18500 , loss_val =  0.46198735\n",
      "step =  19000 , loss_val =  0.46151438\n",
      "step =  19500 , loss_val =  0.4610628\n",
      "step =  20000 , loss_val =  0.46063104\n",
      "\n",
      "y_val.shape =  (303, 1) , predicted_val =  (303, 1)\n",
      "\n",
      "Accuracy =  0.77227724\n"
     ]
    }
   ],
   "source": [
    "with  tf.Session()  as sess:\n",
    "    \n",
    "    sess.run(tf.global_variables_initializer())  # 변수 노드(tf.Variable) 초기화\n",
    "\n",
    "    for step in range(20001):\n",
    "      \n",
    "        loss_val, _ = sess.run([loss, train], feed_dict={X: training_x_data, T: training_t_data})    \n",
    "        \n",
    "        if step % 500 == 0:\n",
    "            print(\"step = \", step, \", loss_val = \", loss_val)             \n",
    "    \n",
    "    # Accuracy 확인\n",
    "    y_val, predicted_val, accuracy_val = sess.run([y, predicted, accuracy], feed_dict={X: test_x_data, T: test_t_data})\n",
    "    \n",
    "    \n",
    "    print(\"\\ny_val.shape = \", y_val.shape, \", predicted_val = \", predicted_val.shape)    \n",
    "    print(\"\\nAccuracy = \", accuracy_val)"
   ]
  },
  {
   "cell_type": "code",
   "execution_count": 0,
   "metadata": {
    "colab": {},
    "colab_type": "code",
    "id": "MmuvLDKg6hfJ"
   },
   "outputs": [],
   "source": []
  },
  {
   "cell_type": "code",
   "execution_count": 0,
   "metadata": {
    "colab": {},
    "colab_type": "code",
    "id": "qTy_14XQrvN2"
   },
   "outputs": [],
   "source": []
  }
 ],
 "metadata": {
  "anaconda-cloud": {},
  "colab": {
   "collapsed_sections": [],
   "name": "(191117)tensorflow_NN1_diabetes_example1.ipynb",
   "provenance": []
  },
  "kernelspec": {
   "display_name": "Python 3",
   "language": "python",
   "name": "python3"
  },
  "language_info": {
   "codemirror_mode": {
    "name": "ipython",
    "version": 3
   },
   "file_extension": ".py",
   "mimetype": "text/x-python",
   "name": "python",
   "nbconvert_exporter": "python",
   "pygments_lexer": "ipython3",
   "version": "3.7.4"
  }
 },
 "nbformat": 4,
 "nbformat_minor": 1
}

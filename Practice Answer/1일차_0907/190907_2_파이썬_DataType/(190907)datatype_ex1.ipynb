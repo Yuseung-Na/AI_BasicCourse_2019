{
 "cells": [
  {
   "cell_type": "markdown",
   "metadata": {},
   "source": [
    "#### 작은 따옴표 안에서는 작은 따옴표를 표현 할 수 없음. \n",
    "#### 큰 따옴표로 문자열을 구성하면, 문자열 안에서 작은 따옴표를 표현할 수 있음. 즉  문자열을 표현하는데 작은 따옴표와 큰 따옴표 두 가지 방법이 있는 이유이기도 함"
   ]
  },
  {
   "cell_type": "code",
   "execution_count": 1,
   "metadata": {},
   "outputs": [
    {
     "name": "stdout",
     "output_type": "stream",
     "text": [
      "John's house\n"
     ]
    }
   ],
   "source": [
    "print(\"John's house\")"
   ]
  },
  {
   "cell_type": "markdown",
   "metadata": {},
   "source": [
    "#### \\ (역 슬래쉬) 는 파이썬에서 특수 문자로 취급. 역 슬래쉬와 따옴표가 함께 사용되면, 역슬래쉬 다음의 따옴표는 문자열의 시작과 끝을 가리는 것이아니라 문자열 그 자체로 인식됨"
   ]
  },
  {
   "cell_type": "code",
   "execution_count": 3,
   "metadata": {},
   "outputs": [
    {
     "name": "stdout",
     "output_type": "stream",
     "text": [
      "John's house\n"
     ]
    }
   ],
   "source": [
    "print('John\\'s house')"
   ]
  },
  {
   "cell_type": "code",
   "execution_count": null,
   "metadata": {},
   "outputs": [],
   "source": []
  }
 ],
 "metadata": {
  "kernelspec": {
   "display_name": "Python 3",
   "language": "python",
   "name": "python3"
  },
  "language_info": {
   "codemirror_mode": {
    "name": "ipython",
    "version": 3
   },
   "file_extension": ".py",
   "mimetype": "text/x-python",
   "name": "python",
   "nbconvert_exporter": "python",
   "pygments_lexer": "ipython3",
   "version": "3.7.3"
  }
 },
 "nbformat": 4,
 "nbformat_minor": 2
}

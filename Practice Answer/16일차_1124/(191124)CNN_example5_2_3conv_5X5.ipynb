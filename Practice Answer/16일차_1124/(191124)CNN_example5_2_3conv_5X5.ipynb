{
  "nbformat": 4,
  "nbformat_minor": 0,
  "metadata": {
    "anaconda-cloud": {},
    "kernelspec": {
      "name": "python3",
      "display_name": "Python 3"
    },
    "language_info": {
      "codemirror_mode": {
        "name": "ipython",
        "version": 3
      },
      "file_extension": ".py",
      "mimetype": "text/x-python",
      "name": "python",
      "nbconvert_exporter": "python",
      "pygments_lexer": "ipython3",
      "version": "3.5.2"
    },
    "colab": {
      "name": "(191124)CNN_example5_1_3conv_5X5.ipynb",
      "provenance": [],
      "collapsed_sections": []
    },
    "accelerator": "GPU"
  },
  "cells": [
    {
      "cell_type": "code",
      "metadata": {
        "id": "DxyY35sUlTlI",
        "colab_type": "code",
        "colab": {
          "base_uri": "https://localhost:8080/",
          "height": 717
        },
        "outputId": "99cc220c-b429-4a0b-ae37-d9c0bff7c096"
      },
      "source": [
        "import tensorflow as tf\n",
        "from tensorflow.examples.tutorials.mnist import input_data\n",
        "import numpy as np\n",
        "from datetime import datetime      # datetime.now() 를 이용하여 학습 경과 시간 측정\n",
        "\n",
        "# read_data_sets() 를 통해 데이터를 객체형태로 받아오고\n",
        "# one_hot 옵션을 통해 정답(label) 을 one-hot 인코딩된 형태로 받아옴\n",
        "\n",
        "mnist = input_data.read_data_sets(\"MNIST_data/\", one_hot=True)\n",
        "\n",
        "# mnist 데이터 셋은 train, test, validation 3개의 데이터 셋으로 구성되어 있으며.\n",
        "# num_examples 값을 통해 데이터의 갯수 확인 가능함\n",
        "\n",
        "print(\"\\n\", mnist.train.num_examples, mnist.test.num_examples, mnist.validation.num_examples)\n",
        "\n",
        "# 데이터는 784(28x28)개의 픽셀을 가지는 이미지와\n",
        "# 10(0~9)개 클래스를 가지는 one-hot 인코딩된 레이블(정답)을 가지고 있음\n",
        "\n",
        "print(\"\\ntrain image shape = \", np.shape(mnist.train.images))\n",
        "print(\"train label shape = \", np.shape(mnist.train.labels))\n",
        "print(\"test image shape = \", np.shape(mnist.test.images))\n",
        "print(\"test label shape = \", np.shape(mnist.test.labels))"
      ],
      "execution_count": 1,
      "outputs": [
        {
          "output_type": "display_data",
          "data": {
            "text/html": [
              "<p style=\"color: red;\">\n",
              "The default version of TensorFlow in Colab will soon switch to TensorFlow 2.x.<br>\n",
              "We recommend you <a href=\"https://www.tensorflow.org/guide/migrate\" target=\"_blank\">upgrade</a> now \n",
              "or ensure your notebook will continue to use TensorFlow 1.x via the <code>%tensorflow_version 1.x</code> magic:\n",
              "<a href=\"https://colab.research.google.com/notebooks/tensorflow_version.ipynb\" target=\"_blank\">more info</a>.</p>\n"
            ],
            "text/plain": [
              "<IPython.core.display.HTML object>"
            ]
          },
          "metadata": {
            "tags": []
          }
        },
        {
          "output_type": "stream",
          "text": [
            "WARNING:tensorflow:From <ipython-input-1-37edfc5623ff>:9: read_data_sets (from tensorflow.contrib.learn.python.learn.datasets.mnist) is deprecated and will be removed in a future version.\n",
            "Instructions for updating:\n",
            "Please use alternatives such as official/mnist/dataset.py from tensorflow/models.\n",
            "WARNING:tensorflow:From /usr/local/lib/python3.6/dist-packages/tensorflow_core/contrib/learn/python/learn/datasets/mnist.py:260: maybe_download (from tensorflow.contrib.learn.python.learn.datasets.base) is deprecated and will be removed in a future version.\n",
            "Instructions for updating:\n",
            "Please write your own downloading logic.\n",
            "WARNING:tensorflow:From /usr/local/lib/python3.6/dist-packages/tensorflow_core/contrib/learn/python/learn/datasets/base.py:252: _internal_retry.<locals>.wrap.<locals>.wrapped_fn (from tensorflow.contrib.learn.python.learn.datasets.base) is deprecated and will be removed in a future version.\n",
            "Instructions for updating:\n",
            "Please use urllib or similar directly.\n",
            "Successfully downloaded train-images-idx3-ubyte.gz 9912422 bytes.\n",
            "WARNING:tensorflow:From /usr/local/lib/python3.6/dist-packages/tensorflow_core/contrib/learn/python/learn/datasets/mnist.py:262: extract_images (from tensorflow.contrib.learn.python.learn.datasets.mnist) is deprecated and will be removed in a future version.\n",
            "Instructions for updating:\n",
            "Please use tf.data to implement this functionality.\n",
            "Extracting MNIST_data/train-images-idx3-ubyte.gz\n",
            "Successfully downloaded train-labels-idx1-ubyte.gz 28881 bytes.\n",
            "WARNING:tensorflow:From /usr/local/lib/python3.6/dist-packages/tensorflow_core/contrib/learn/python/learn/datasets/mnist.py:267: extract_labels (from tensorflow.contrib.learn.python.learn.datasets.mnist) is deprecated and will be removed in a future version.\n",
            "Instructions for updating:\n",
            "Please use tf.data to implement this functionality.\n",
            "Extracting MNIST_data/train-labels-idx1-ubyte.gz\n",
            "WARNING:tensorflow:From /usr/local/lib/python3.6/dist-packages/tensorflow_core/contrib/learn/python/learn/datasets/mnist.py:110: dense_to_one_hot (from tensorflow.contrib.learn.python.learn.datasets.mnist) is deprecated and will be removed in a future version.\n",
            "Instructions for updating:\n",
            "Please use tf.one_hot on tensors.\n",
            "Successfully downloaded t10k-images-idx3-ubyte.gz 1648877 bytes.\n",
            "Extracting MNIST_data/t10k-images-idx3-ubyte.gz\n",
            "Successfully downloaded t10k-labels-idx1-ubyte.gz 4542 bytes.\n",
            "Extracting MNIST_data/t10k-labels-idx1-ubyte.gz\n",
            "WARNING:tensorflow:From /usr/local/lib/python3.6/dist-packages/tensorflow_core/contrib/learn/python/learn/datasets/mnist.py:290: DataSet.__init__ (from tensorflow.contrib.learn.python.learn.datasets.mnist) is deprecated and will be removed in a future version.\n",
            "Instructions for updating:\n",
            "Please use alternatives such as official/mnist/dataset.py from tensorflow/models.\n",
            "\n",
            " 55000 10000 5000\n",
            "\n",
            "train image shape =  (55000, 784)\n",
            "train label shape =  (55000, 10)\n",
            "test image shape =  (10000, 784)\n",
            "test label shape =  (10000, 10)\n"
          ],
          "name": "stdout"
        }
      ]
    },
    {
      "cell_type": "code",
      "metadata": {
        "id": "ArAMbE_UlTlS",
        "colab_type": "code",
        "colab": {}
      },
      "source": [
        "# Hyper-Parameter\n",
        "learning_rate = 0.001  # 학습율\n",
        "epochs = 30            # 반복횟수\n",
        "batch_size = 100      # 한번에 입력으로 주어지는 MNIST 개수"
      ],
      "execution_count": 0,
      "outputs": []
    },
    {
      "cell_type": "code",
      "metadata": {
        "id": "DQjhjGCblTlY",
        "colab_type": "code",
        "colab": {}
      },
      "source": [
        "# 입력과 정답을 위한 플레이스홀더 정의\n",
        "X = tf.placeholder(tf.float32, [None, 784])  \n",
        "\n",
        "T = tf.placeholder(tf.float32, [None, 10])  \n",
        "\n",
        "# 입력층의 출력 값. 컨볼루션 연산을 위해 reshape 시킴\n",
        "A1 = X_img = tf.reshape(X, [-1, 28, 28, 1])   # image 28 X 28 X 1 (black/white)"
      ],
      "execution_count": 0,
      "outputs": []
    },
    {
      "cell_type": "code",
      "metadata": {
        "id": "cqg6eUiplTlc",
        "colab_type": "code",
        "colab": {}
      },
      "source": [
        "# 1번째 컨볼루션 층\n",
        "# 5X5 크기를 가지는 32개의 필터를 적용\n",
        "\n",
        "F2 = tf.Variable(tf.random_normal([5, 5, 1, 32], stddev=0.01))  \n",
        "b2 = tf.Variable(tf.constant(0.1, shape=[32]))   \n",
        "\n",
        "# 1번째 컨볼루션 연산을 통해 28 X 28 X1  => 28 X 28 X 32 \n",
        "C2 = tf.nn.conv2d(A1, F2, strides=[1, 1, 1, 1], padding='SAME')\n",
        "\n",
        "# relu\n",
        "Z2 = tf.nn.relu(C2+b2)\n",
        "\n",
        "# 1번째 max pooling을 통해 28 X 28 X 32  => 14 X 14 X 32 \n",
        "A2 = P2 = tf.nn.max_pool(Z2, ksize=[1, 2, 2, 1], strides=[1, 2, 2, 1], padding='SAME')"
      ],
      "execution_count": 0,
      "outputs": []
    },
    {
      "cell_type": "code",
      "metadata": {
        "id": "d7CorptulTlg",
        "colab_type": "code",
        "colab": {}
      },
      "source": [
        "# 2번째 컨볼루션 층\n",
        "F3 = tf.Variable(tf.random_normal([5, 5, 32, 64], stddev=0.01))  \n",
        "b3 = tf.Variable(tf.constant(0.1, shape=[64]))   \n",
        "\n",
        "# 2번째 컨볼루션 연산을 통해 14 X 14 X 32 => 14 X 14 X 64 \n",
        "C3 = tf.nn.conv2d(A2, F3, strides=[1, 1, 1, 1], padding='SAME')\n",
        "\n",
        "# relu\n",
        "Z3 = tf.nn.relu(C3+b3)\n",
        "\n",
        "# 2번째 max pooling을 통해 14 X 14 X 64 => 7 X 7 X 64\n",
        "A3 = P3 = tf.nn.max_pool(Z3, ksize=[1, 2, 2, 1], strides=[1, 2, 2, 1], padding='SAME')"
      ],
      "execution_count": 0,
      "outputs": []
    },
    {
      "cell_type": "code",
      "metadata": {
        "id": "_xM-e-H3lTlj",
        "colab_type": "code",
        "colab": {}
      },
      "source": [
        "# 3번째 컨볼루션 층\n",
        "F4 = tf.Variable(tf.random_normal([5, 5, 64, 128], stddev=0.01))  \n",
        "b4 = tf.Variable(tf.constant(0.1, shape=[128]))   \n",
        "\n",
        "# 3번째 컨볼루션 연산을 통해 7 X 7 X 64 => 7 X 7 X 128\n",
        "C4 = tf.nn.conv2d(A3, F4, strides=[1, 1, 1, 1], padding='SAME')\n",
        "\n",
        "# relu\n",
        "Z4 = tf.nn.relu(C4+b4)\n",
        "\n",
        "# 3번째 max pooling을 통해 7 X 7 X 128 => 4 X 4 X 128\n",
        "A4 = P4 = tf.nn.max_pool(Z4, ksize=[1, 2, 2, 1], strides=[1, 2, 2, 1], padding='SAME')"
      ],
      "execution_count": 0,
      "outputs": []
    },
    {
      "cell_type": "code",
      "metadata": {
        "id": "198C9Wg2lTlp",
        "colab_type": "code",
        "colab": {}
      },
      "source": [
        "# 4X4 크기를 가진 128개의 activation map을 flatten 시킴\n",
        "A4_flat = P4_flat = tf.reshape(A4, [-1, 128*4*4])"
      ],
      "execution_count": 0,
      "outputs": []
    },
    {
      "cell_type": "code",
      "metadata": {
        "id": "aM3LdP1tlTlt",
        "colab_type": "code",
        "colab": {}
      },
      "source": [
        "# 출력층\n",
        "W5 = tf.Variable(tf.random_normal([128*4*4, 10], stddev=0.01))\n",
        "b5 = tf.Variable(tf.random_normal([10]))\n",
        "\n",
        "# 출력층 선형회귀  값 Z5, 즉 softmax 에 들어가는 입력 값\n",
        "Z5 = logits = tf.matmul(A4_flat, W5) + b5    # 선형회귀 값 Z5\n",
        "\n",
        "y = A5 = tf.nn.softmax(Z5)"
      ],
      "execution_count": 0,
      "outputs": []
    },
    {
      "cell_type": "code",
      "metadata": {
        "id": "WWIH4OeblTlw",
        "colab_type": "code",
        "colab": {}
      },
      "source": [
        "loss = tf.reduce_mean( tf.nn.softmax_cross_entropy_with_logits_v2(logits=Z5, labels=T) )\n",
        "\n",
        "optimizer = tf.train.AdamOptimizer(learning_rate)\n",
        "\n",
        "train = optimizer.minimize(loss)  "
      ],
      "execution_count": 0,
      "outputs": []
    },
    {
      "cell_type": "code",
      "metadata": {
        "id": "_4MVu4dalTl0",
        "colab_type": "code",
        "colab": {}
      },
      "source": [
        "# batch_size X 10 데이터에 대해 argmax를 통해 행단위로 비교함\n",
        "predicted_val = tf.equal( tf.argmax(A5, 1), tf.argmax(T, 1) )\n",
        "\n",
        "# batch_size X 10 의 True, False 를 1 또는 0 으로 변환\n",
        "accuracy = tf.reduce_mean(tf.cast(predicted_val, dtype=tf.float32))\n",
        "\n",
        "# index list 출력\n",
        "accuracy_index = tf.cast(predicted_val, dtype=tf.float32)\n",
        "\n",
        "# 예측값 처리\n",
        "predicted_list = tf.argmax(A5, 1)"
      ],
      "execution_count": 0,
      "outputs": []
    },
    {
      "cell_type": "code",
      "metadata": {
        "id": "L0SK8y2blTl6",
        "colab_type": "code",
        "colab": {
          "base_uri": "https://localhost:8080/",
          "height": 1000
        },
        "outputId": "c41a5de6-d21d-4f6f-e2b0-48edd28aaef6"
      },
      "source": [
        "index_label_prediction_list = []\n",
        "\n",
        "with  tf.Session()  as sess:\n",
        "    \n",
        "    sess.run(tf.global_variables_initializer())  # 변수 노드(tf.Variable) 초기화\n",
        "    \n",
        "    start_time = datetime.now()\n",
        "    \n",
        "    for i in range(epochs):    # 30 번 반복수행\n",
        "        \n",
        "        total_batch = int(mnist.train.num_examples / batch_size)  # 55,000 / 100\n",
        "\n",
        "        for step in range(total_batch):\n",
        "            \n",
        "            batch_x_data, batch_t_data = mnist.train.next_batch(batch_size)\n",
        "      \n",
        "            loss_val, _ = sess.run([loss, train], feed_dict={X: batch_x_data, T: batch_t_data})    \n",
        "        \n",
        "            if step % 100 == 0:\n",
        "                print(\"epochs = \", i, \", step = \", step, \", loss_val = \", loss_val)             \n",
        "    \n",
        "    end_time = datetime.now() \n",
        "    \n",
        "    print(\"\\nelapsed time = \", end_time - start_time) \n",
        "    \n",
        "    # Accuracy 확인\n",
        "    test_x_data = mnist.test.images    # 10000 X 784\n",
        "    test_t_data = mnist.test.labels    # 10000 X 10\n",
        "    \n",
        "    accuracy_val, predicted_list_val, index_label = sess.run([accuracy, predicted_list, accuracy_index], feed_dict={X: test_x_data, T: test_t_data})\n",
        "    \n",
        "    print(\"\\nAccuracy = \", accuracy_val)\n",
        "    print(\"type(accuracy_val) = \", type(accuracy_val), ', type(predicted_list_val) = ', type(predicted_list_val), ', type(index_label) = ', type(index_label))\n",
        "    print(\"index_label.shape = \", index_label.shape)\n",
        "    \n",
        "    index_label_list = list(index_label)\n",
        "    print(\"length of index_label_list = \", len(index_label_list))\n",
        "    print(\"false label count = \", index_label_list.count([0]))\n",
        "        \n",
        "    # numpy type 으로 디버그\n",
        "    temp_list = [] \n",
        "    \n",
        "    for index in range(len(index_label)):\n",
        "        \n",
        "        if index_label[index] == 0:\n",
        "            \n",
        "            temp_list.append(index)\n",
        "            temp_list.append(np.argmax(test_t_data[index]))  # one-hot encoding 이므로 argmax 로 정답 추출\n",
        "            temp_list.append(predicted_list_val[index])\n",
        "            \n",
        "            index_label_prediction_list.append(temp_list)\n",
        "            \n",
        "            temp_list = []\n",
        "            \n",
        "    print(\"\\nlength of index_label_false_list\", len(index_label_prediction_list))"
      ],
      "execution_count": 11,
      "outputs": [
        {
          "output_type": "stream",
          "text": [
            "epochs =  0 , step =  0 , loss_val =  2.864359\n",
            "epochs =  0 , step =  100 , loss_val =  0.699826\n",
            "epochs =  0 , step =  200 , loss_val =  0.18353052\n",
            "epochs =  0 , step =  300 , loss_val =  0.09103847\n",
            "epochs =  0 , step =  400 , loss_val =  0.04958818\n",
            "epochs =  0 , step =  500 , loss_val =  0.026655398\n",
            "epochs =  1 , step =  0 , loss_val =  0.091137685\n",
            "epochs =  1 , step =  100 , loss_val =  0.08011062\n",
            "epochs =  1 , step =  200 , loss_val =  0.04075272\n",
            "epochs =  1 , step =  300 , loss_val =  0.1173156\n",
            "epochs =  1 , step =  400 , loss_val =  0.030328872\n",
            "epochs =  1 , step =  500 , loss_val =  0.01373184\n",
            "epochs =  2 , step =  0 , loss_val =  0.012515987\n",
            "epochs =  2 , step =  100 , loss_val =  0.014977204\n",
            "epochs =  2 , step =  200 , loss_val =  0.0058481516\n",
            "epochs =  2 , step =  300 , loss_val =  0.008775111\n",
            "epochs =  2 , step =  400 , loss_val =  0.022670664\n",
            "epochs =  2 , step =  500 , loss_val =  0.0131099615\n",
            "epochs =  3 , step =  0 , loss_val =  0.015626164\n",
            "epochs =  3 , step =  100 , loss_val =  0.0021346346\n",
            "epochs =  3 , step =  200 , loss_val =  0.030352099\n",
            "epochs =  3 , step =  300 , loss_val =  0.018459212\n",
            "epochs =  3 , step =  400 , loss_val =  0.00390692\n",
            "epochs =  3 , step =  500 , loss_val =  0.007958548\n",
            "epochs =  4 , step =  0 , loss_val =  0.002919001\n",
            "epochs =  4 , step =  100 , loss_val =  0.018648988\n",
            "epochs =  4 , step =  200 , loss_val =  0.01835714\n",
            "epochs =  4 , step =  300 , loss_val =  0.009482648\n",
            "epochs =  4 , step =  400 , loss_val =  0.0046698586\n",
            "epochs =  4 , step =  500 , loss_val =  0.003497259\n",
            "epochs =  5 , step =  0 , loss_val =  0.00719354\n",
            "epochs =  5 , step =  100 , loss_val =  0.0014124298\n",
            "epochs =  5 , step =  200 , loss_val =  0.0006787545\n",
            "epochs =  5 , step =  300 , loss_val =  0.0006186288\n",
            "epochs =  5 , step =  400 , loss_val =  0.004403254\n",
            "epochs =  5 , step =  500 , loss_val =  0.009127054\n",
            "epochs =  6 , step =  0 , loss_val =  0.0023840126\n",
            "epochs =  6 , step =  100 , loss_val =  0.0024408689\n",
            "epochs =  6 , step =  200 , loss_val =  0.00022520598\n",
            "epochs =  6 , step =  300 , loss_val =  0.003179465\n",
            "epochs =  6 , step =  400 , loss_val =  0.005567528\n",
            "epochs =  6 , step =  500 , loss_val =  0.004449558\n",
            "epochs =  7 , step =  0 , loss_val =  0.0033996683\n",
            "epochs =  7 , step =  100 , loss_val =  0.00016614069\n",
            "epochs =  7 , step =  200 , loss_val =  0.00047881325\n",
            "epochs =  7 , step =  300 , loss_val =  0.0028520047\n",
            "epochs =  7 , step =  400 , loss_val =  0.030752752\n",
            "epochs =  7 , step =  500 , loss_val =  0.0007302144\n",
            "epochs =  8 , step =  0 , loss_val =  0.0012849034\n",
            "epochs =  8 , step =  100 , loss_val =  0.012605172\n",
            "epochs =  8 , step =  200 , loss_val =  0.0005075159\n",
            "epochs =  8 , step =  300 , loss_val =  0.048262917\n",
            "epochs =  8 , step =  400 , loss_val =  0.003057877\n",
            "epochs =  8 , step =  500 , loss_val =  0.031663936\n",
            "epochs =  9 , step =  0 , loss_val =  0.00070165115\n",
            "epochs =  9 , step =  100 , loss_val =  0.00069689215\n",
            "epochs =  9 , step =  200 , loss_val =  0.0035992889\n",
            "epochs =  9 , step =  300 , loss_val =  0.0004211949\n",
            "epochs =  9 , step =  400 , loss_val =  0.0025205251\n",
            "epochs =  9 , step =  500 , loss_val =  6.2616484e-05\n",
            "epochs =  10 , step =  0 , loss_val =  0.0029361153\n",
            "epochs =  10 , step =  100 , loss_val =  0.035611402\n",
            "epochs =  10 , step =  200 , loss_val =  0.0026720867\n",
            "epochs =  10 , step =  300 , loss_val =  4.974348e-06\n",
            "epochs =  10 , step =  400 , loss_val =  0.0054846783\n",
            "epochs =  10 , step =  500 , loss_val =  0.006310295\n",
            "epochs =  11 , step =  0 , loss_val =  0.0035948053\n",
            "epochs =  11 , step =  100 , loss_val =  0.0052208817\n",
            "epochs =  11 , step =  200 , loss_val =  0.0030855262\n",
            "epochs =  11 , step =  300 , loss_val =  0.0005225813\n",
            "epochs =  11 , step =  400 , loss_val =  0.019205354\n",
            "epochs =  11 , step =  500 , loss_val =  0.00014137136\n",
            "epochs =  12 , step =  0 , loss_val =  0.0030223378\n",
            "epochs =  12 , step =  100 , loss_val =  0.00038931874\n",
            "epochs =  12 , step =  200 , loss_val =  0.0003354529\n",
            "epochs =  12 , step =  300 , loss_val =  0.0005441231\n",
            "epochs =  12 , step =  400 , loss_val =  5.271013e-05\n",
            "epochs =  12 , step =  500 , loss_val =  0.00020344196\n",
            "epochs =  13 , step =  0 , loss_val =  0.00089595886\n",
            "epochs =  13 , step =  100 , loss_val =  0.00068217324\n",
            "epochs =  13 , step =  200 , loss_val =  0.025863921\n",
            "epochs =  13 , step =  300 , loss_val =  0.09208587\n",
            "epochs =  13 , step =  400 , loss_val =  0.00010014013\n",
            "epochs =  13 , step =  500 , loss_val =  0.00075664825\n",
            "epochs =  14 , step =  0 , loss_val =  0.012992179\n",
            "epochs =  14 , step =  100 , loss_val =  0.055609018\n",
            "epochs =  14 , step =  200 , loss_val =  2.3260205e-05\n",
            "epochs =  14 , step =  300 , loss_val =  0.00019859956\n",
            "epochs =  14 , step =  400 , loss_val =  0.00023157027\n",
            "epochs =  14 , step =  500 , loss_val =  0.0022743354\n",
            "epochs =  15 , step =  0 , loss_val =  2.1337692e-05\n",
            "epochs =  15 , step =  100 , loss_val =  0.0027650278\n",
            "epochs =  15 , step =  200 , loss_val =  0.0022609276\n",
            "epochs =  15 , step =  300 , loss_val =  0.0015845203\n",
            "epochs =  15 , step =  400 , loss_val =  0.02821542\n",
            "epochs =  15 , step =  500 , loss_val =  7.308941e-05\n",
            "epochs =  16 , step =  0 , loss_val =  0.00023258645\n",
            "epochs =  16 , step =  100 , loss_val =  0.0003767523\n",
            "epochs =  16 , step =  200 , loss_val =  0.00020948584\n",
            "epochs =  16 , step =  300 , loss_val =  7.157632e-05\n",
            "epochs =  16 , step =  400 , loss_val =  3.4843502e-05\n",
            "epochs =  16 , step =  500 , loss_val =  7.77217e-06\n",
            "epochs =  17 , step =  0 , loss_val =  3.877595e-06\n",
            "epochs =  17 , step =  100 , loss_val =  0.00036011502\n",
            "epochs =  17 , step =  200 , loss_val =  2.9598581e-05\n",
            "epochs =  17 , step =  300 , loss_val =  0.014891084\n",
            "epochs =  17 , step =  400 , loss_val =  0.0004084442\n",
            "epochs =  17 , step =  500 , loss_val =  0.00068500533\n",
            "epochs =  18 , step =  0 , loss_val =  5.096909e-05\n",
            "epochs =  18 , step =  100 , loss_val =  4.070382e-05\n",
            "epochs =  18 , step =  200 , loss_val =  1.3294466e-05\n",
            "epochs =  18 , step =  300 , loss_val =  2.5759395e-05\n",
            "epochs =  18 , step =  400 , loss_val =  0.0001561539\n",
            "epochs =  18 , step =  500 , loss_val =  0.00082688\n",
            "epochs =  19 , step =  0 , loss_val =  0.009008524\n",
            "epochs =  19 , step =  100 , loss_val =  0.00019938227\n",
            "epochs =  19 , step =  200 , loss_val =  5.3527867e-05\n",
            "epochs =  19 , step =  300 , loss_val =  0.00012847217\n",
            "epochs =  19 , step =  400 , loss_val =  0.006397331\n",
            "epochs =  19 , step =  500 , loss_val =  0.00014836078\n",
            "epochs =  20 , step =  0 , loss_val =  1.1513036e-05\n",
            "epochs =  20 , step =  100 , loss_val =  7.7746095e-05\n",
            "epochs =  20 , step =  200 , loss_val =  0.00011445606\n",
            "epochs =  20 , step =  300 , loss_val =  0.000564134\n",
            "epochs =  20 , step =  400 , loss_val =  0.04941121\n",
            "epochs =  20 , step =  500 , loss_val =  0.0020291521\n",
            "epochs =  21 , step =  0 , loss_val =  1.1551263e-06\n",
            "epochs =  21 , step =  100 , loss_val =  3.3423177e-05\n",
            "epochs =  21 , step =  200 , loss_val =  8.571062e-07\n",
            "epochs =  21 , step =  300 , loss_val =  1.1682491e-07\n",
            "epochs =  21 , step =  400 , loss_val =  0.000114151466\n",
            "epochs =  21 , step =  500 , loss_val =  0.018205991\n",
            "epochs =  22 , step =  0 , loss_val =  0.003824885\n",
            "epochs =  22 , step =  100 , loss_val =  3.6787013e-05\n",
            "epochs =  22 , step =  200 , loss_val =  0.00058308645\n",
            "epochs =  22 , step =  300 , loss_val =  7.2121275e-06\n",
            "epochs =  22 , step =  400 , loss_val =  0.0025764508\n",
            "epochs =  22 , step =  500 , loss_val =  0.005793171\n",
            "epochs =  23 , step =  0 , loss_val =  8.3563157e-07\n",
            "epochs =  23 , step =  100 , loss_val =  0.00018680573\n",
            "epochs =  23 , step =  200 , loss_val =  5.107527e-06\n",
            "epochs =  23 , step =  300 , loss_val =  3.873001e-05\n",
            "epochs =  23 , step =  400 , loss_val =  2.9181133e-06\n",
            "epochs =  23 , step =  500 , loss_val =  0.01233066\n",
            "epochs =  24 , step =  0 , loss_val =  7.237129e-05\n",
            "epochs =  24 , step =  100 , loss_val =  0.00010670133\n",
            "epochs =  24 , step =  200 , loss_val =  4.0173276e-07\n",
            "epochs =  24 , step =  300 , loss_val =  0.009605009\n",
            "epochs =  24 , step =  400 , loss_val =  2.96431e-05\n",
            "epochs =  24 , step =  500 , loss_val =  0.0017001801\n",
            "epochs =  25 , step =  0 , loss_val =  4.3087325e-06\n",
            "epochs =  25 , step =  100 , loss_val =  0.00038786582\n",
            "epochs =  25 , step =  200 , loss_val =  1.5306896e-05\n",
            "epochs =  25 , step =  300 , loss_val =  1.2203564e-05\n",
            "epochs =  25 , step =  400 , loss_val =  0.0005684666\n",
            "epochs =  25 , step =  500 , loss_val =  6.682544e-05\n",
            "epochs =  26 , step =  0 , loss_val =  0.096168175\n",
            "epochs =  26 , step =  100 , loss_val =  6.699406e-07\n",
            "epochs =  26 , step =  200 , loss_val =  0.0013959232\n",
            "epochs =  26 , step =  300 , loss_val =  2.1491298e-06\n",
            "epochs =  26 , step =  400 , loss_val =  0.00053621654\n",
            "epochs =  26 , step =  500 , loss_val =  0.057758547\n",
            "epochs =  27 , step =  0 , loss_val =  1.0952826e-05\n",
            "epochs =  27 , step =  100 , loss_val =  4.1126893e-07\n",
            "epochs =  27 , step =  200 , loss_val =  2.5032243e-06\n",
            "epochs =  27 , step =  300 , loss_val =  0.00061187736\n",
            "epochs =  27 , step =  400 , loss_val =  8.927645e-05\n",
            "epochs =  27 , step =  500 , loss_val =  2.9451336e-05\n",
            "epochs =  28 , step =  0 , loss_val =  2.5126528e-05\n",
            "epochs =  28 , step =  100 , loss_val =  4.3399255e-06\n",
            "epochs =  28 , step =  200 , loss_val =  9.616841e-05\n",
            "epochs =  28 , step =  300 , loss_val =  8.106218e-08\n",
            "epochs =  28 , step =  400 , loss_val =  3.9338715e-07\n",
            "epochs =  28 , step =  500 , loss_val =  3.3827488e-05\n",
            "epochs =  29 , step =  0 , loss_val =  0.0028722114\n",
            "epochs =  29 , step =  100 , loss_val =  2.0761594e-05\n",
            "epochs =  29 , step =  200 , loss_val =  5.0782074e-07\n",
            "epochs =  29 , step =  300 , loss_val =  2.496019e-06\n",
            "epochs =  29 , step =  400 , loss_val =  3.0144516e-05\n",
            "epochs =  29 , step =  500 , loss_val =  1.0859732e-06\n",
            "\n",
            "elapsed time =  0:01:21.450053\n",
            "\n",
            "Accuracy =  0.9934\n",
            "type(accuracy_val) =  <class 'numpy.float32'> , type(predicted_list_val) =  <class 'numpy.ndarray'> , type(index_label) =  <class 'numpy.ndarray'>\n",
            "index_label.shape =  (10000,)\n",
            "length of index_label_list =  10000\n",
            "false label count =  66\n",
            "\n",
            "length of index_label_false_list 66\n"
          ],
          "name": "stdout"
        }
      ]
    },
    {
      "cell_type": "code",
      "metadata": {
        "id": "UQcMI8C7lTl-",
        "colab_type": "code",
        "colab": {
          "base_uri": "https://localhost:8080/",
          "height": 54
        },
        "outputId": "a5fd7196-ea57-4274-c688-9fe4f730b41f"
      },
      "source": [
        "# index_label_prediction_list\n",
        "print(index_label_prediction_list)"
      ],
      "execution_count": 12,
      "outputs": [
        {
          "output_type": "stream",
          "text": [
            "[[62, 9, 5], [321, 2, 7], [340, 5, 3], [445, 6, 0], [582, 8, 2], [659, 2, 7], [674, 5, 3], [947, 8, 9], [1014, 6, 5], [1112, 4, 6], [1226, 7, 2], [1232, 9, 4], [1242, 4, 9], [1260, 7, 1], [1393, 5, 3], [1553, 9, 8], [1737, 5, 1], [1878, 8, 3], [1901, 9, 4], [2018, 1, 2], [2035, 5, 3], [2053, 4, 9], [2118, 6, 0], [2129, 9, 8], [2130, 4, 9], [2135, 6, 1], [2182, 1, 7], [2293, 9, 4], [2382, 8, 2], [2454, 6, 5], [2582, 9, 7], [2597, 5, 3], [2654, 6, 1], [2720, 9, 4], [2836, 4, 2], [2927, 3, 2], [2939, 9, 5], [2953, 3, 5], [3023, 8, 5], [3225, 7, 9], [3422, 6, 0], [3534, 4, 8], [3558, 5, 0], [3808, 7, 2], [3853, 6, 0], [4176, 2, 7], [4575, 4, 2], [4740, 3, 5], [4761, 9, 4], [4814, 6, 0], [4823, 9, 4], [4860, 4, 9], [5654, 7, 2], [5887, 7, 2], [5937, 5, 3], [6560, 9, 5], [6576, 7, 1], [6597, 0, 7], [6625, 8, 2], [7849, 3, 9], [7928, 1, 0], [8406, 4, 9], [9729, 5, 6], [9770, 5, 0], [9792, 4, 9], [9839, 2, 7]]\n"
          ],
          "name": "stdout"
        }
      ]
    },
    {
      "cell_type": "code",
      "metadata": {
        "id": "-A9efR-rla2M",
        "colab_type": "code",
        "colab": {
          "base_uri": "https://localhost:8080/",
          "height": 125
        },
        "outputId": "44c6487a-a2aa-4fef-b839-ed4b613dee28"
      },
      "source": [
        "from google.colab import drive   # colab 사용시 mount 하기 위한 용도. local 에서는 불필요\n",
        "drive.mount('/content/gdrive/')  # colab 사용시 mount 하기 위한 용도. local 에서는 불필요"
      ],
      "execution_count": 13,
      "outputs": [
        {
          "output_type": "stream",
          "text": [
            "Go to this URL in a browser: https://accounts.google.com/o/oauth2/auth?client_id=947318989803-6bn6qk8qdgf4n4g3pfee6491hc0brc4i.apps.googleusercontent.com&redirect_uri=urn%3aietf%3awg%3aoauth%3a2.0%3aoob&response_type=code&scope=email%20https%3a%2f%2fwww.googleapis.com%2fauth%2fdocs.test%20https%3a%2f%2fwww.googleapis.com%2fauth%2fdrive%20https%3a%2f%2fwww.googleapis.com%2fauth%2fdrive.photos.readonly%20https%3a%2f%2fwww.googleapis.com%2fauth%2fpeopleapi.readonly\n",
            "\n",
            "Enter your authorization code:\n",
            "··········\n",
            "Mounted at /content/gdrive/\n"
          ],
          "name": "stdout"
        }
      ]
    },
    {
      "cell_type": "code",
      "metadata": {
        "id": "tOXaWUcAlTmC",
        "colab_type": "code",
        "colab": {
          "base_uri": "https://localhost:8080/",
          "height": 422
        },
        "outputId": "dee8b792-8c11-4bc8-d9c0-3f9776413198"
      },
      "source": [
        "# check false data\n",
        "import os\n",
        "from datetime import datetime\n",
        "import matplotlib.pyplot as plt\n",
        "%matplotlib inline\n",
        "\n",
        "save_count = 0\n",
        "\n",
        "# 현재 디렉토리 저장\n",
        "curr_dir = os.getcwd()\n",
        "\n",
        "# image 저장할 디렉토리 생성. 현재 시간으로 생성\n",
        "now = datetime.now()\n",
        "algorithm_name = 'CNN_example5_1_'\n",
        "save_dir_name = algorithm_name + str(now.year) + '-' + str(now.month) + '-' + str(now.day) + '_' + str(now.hour) + str(now.minute) + str(now.second)\n",
        "\n",
        "colab_default_dir = '/content/gdrive/My Drive/Colab Notebooks/'\n",
        "\n",
        "os.chdir(colab_default_dir)\n",
        "os.mkdir(save_dir_name)\n",
        "\n",
        "# change dir\n",
        "os.chdir(save_dir_name)\n",
        "\n",
        "start_time = datetime.now()\n",
        "\n",
        "for list_data in index_label_prediction_list:\n",
        "    \n",
        "    index_int = list_data[0]\n",
        "    label_int = list_data[1]\n",
        "    prediction_int = list_data[2]\n",
        "        \n",
        "    # 저장할 이미지를 인덱스를 이용하여 가져옴\n",
        "    img = test_x_data[index_int].reshape(28,28)  \n",
        "    plt.imshow(img, cmap='gray')\n",
        "    \n",
        "    # 정답 문자열\n",
        "    label_str = str(label_int)\n",
        "    \n",
        "    # 예측값 문자열\n",
        "    prediction_str = str(prediction_int)\n",
        "    \n",
        "    # 정답과 오답을 나타내는 문자열\n",
        "    label_prediction_str = 'label = ' + label_str + '  ,  prediction = ' + prediction_str\n",
        "    \n",
        "    # 저장 파일 이름 생성, str(index_int).png\n",
        "    save_image_name = str(index_int) + '.png'\n",
        "    \n",
        "    plt.title(label_prediction_str)\n",
        "    plt.savefig(save_image_name)\n",
        "    \n",
        "    save_count += 1\n",
        "    \n",
        "    if save_count % 10 == 0:\n",
        "        \n",
        "        print(save_count, 'image is saved now')\n",
        "\n",
        "    \n",
        "end_time = datetime.now()\n",
        "\n",
        "print('Elapsed save time => ', end_time - start_time)\n",
        "print('Total ', save_count, \" data is saved\")\n",
        "\n",
        "# 원래의 dir 로 복귀\n",
        "os.chdir(curr_dir)"
      ],
      "execution_count": 14,
      "outputs": [
        {
          "output_type": "stream",
          "text": [
            "10 image is saved now\n",
            "20 image is saved now\n",
            "30 image is saved now\n",
            "40 image is saved now\n",
            "50 image is saved now\n",
            "60 image is saved now\n",
            "Elapsed save time =>  0:00:15.880658\n",
            "Total  66  data is saved\n"
          ],
          "name": "stdout"
        },
        {
          "output_type": "display_data",
          "data": {
            "image/png": "[encoded data removed]",
            "text/plain": [
              "<Figure size 432x288 with 1 Axes>"
            ]
          },
          "metadata": {
            "tags": []
          }
        }
      ]
    },
    {
      "cell_type": "code",
      "metadata": {
        "id": "fhNjDO4GlTmI",
        "colab_type": "code",
        "colab": {}
      },
      "source": [
        ""
      ],
      "execution_count": 0,
      "outputs": []
    }
  ]
}
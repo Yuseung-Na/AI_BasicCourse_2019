{
 "cells": [
  {
   "cell_type": "code",
   "execution_count": 1,
   "metadata": {
    "colab": {
     "base_uri": "https://localhost:8080/",
     "height": 717
    },
    "colab_type": "code",
    "id": "KmyaPxTugexW",
    "outputId": "9741f959-fe21-4132-d236-66731b7dfead"
   },
   "outputs": [
    {
     "name": "stdout",
     "output_type": "stream",
     "text": [
      "WARNING:tensorflow:From <ipython-input-1-37edfc5623ff>:9: read_data_sets (from tensorflow.contrib.learn.python.learn.datasets.mnist) is deprecated and will be removed in a future version.\n",
      "Instructions for updating:\n",
      "Please use alternatives such as official/mnist/dataset.py from tensorflow/models.\n",
      "WARNING:tensorflow:From /home/ai0/anaconda3/lib/python3.7/site-packages/tensorflow_core/contrib/learn/python/learn/datasets/mnist.py:260: maybe_download (from tensorflow.contrib.learn.python.learn.datasets.base) is deprecated and will be removed in a future version.\n",
      "Instructions for updating:\n",
      "Please write your own downloading logic.\n",
      "WARNING:tensorflow:From /home/ai0/anaconda3/lib/python3.7/site-packages/tensorflow_core/contrib/learn/python/learn/datasets/mnist.py:262: extract_images (from tensorflow.contrib.learn.python.learn.datasets.mnist) is deprecated and will be removed in a future version.\n",
      "Instructions for updating:\n",
      "Please use tf.data to implement this functionality.\n",
      "Extracting MNIST_data/train-images-idx3-ubyte.gz\n",
      "WARNING:tensorflow:From /home/ai0/anaconda3/lib/python3.7/site-packages/tensorflow_core/contrib/learn/python/learn/datasets/mnist.py:267: extract_labels (from tensorflow.contrib.learn.python.learn.datasets.mnist) is deprecated and will be removed in a future version.\n",
      "Instructions for updating:\n",
      "Please use tf.data to implement this functionality.\n",
      "Extracting MNIST_data/train-labels-idx1-ubyte.gz\n",
      "WARNING:tensorflow:From /home/ai0/anaconda3/lib/python3.7/site-packages/tensorflow_core/contrib/learn/python/learn/datasets/mnist.py:110: dense_to_one_hot (from tensorflow.contrib.learn.python.learn.datasets.mnist) is deprecated and will be removed in a future version.\n",
      "Instructions for updating:\n",
      "Please use tf.one_hot on tensors.\n",
      "Extracting MNIST_data/t10k-images-idx3-ubyte.gz\n",
      "Extracting MNIST_data/t10k-labels-idx1-ubyte.gz\n",
      "WARNING:tensorflow:From /home/ai0/anaconda3/lib/python3.7/site-packages/tensorflow_core/contrib/learn/python/learn/datasets/mnist.py:290: DataSet.__init__ (from tensorflow.contrib.learn.python.learn.datasets.mnist) is deprecated and will be removed in a future version.\n",
      "Instructions for updating:\n",
      "Please use alternatives such as official/mnist/dataset.py from tensorflow/models.\n",
      "\n",
      " 55000 10000 5000\n",
      "\n",
      "train image shape =  (55000, 784)\n",
      "train label shape =  (55000, 10)\n",
      "test image shape =  (10000, 784)\n",
      "test label shape =  (10000, 10)\n"
     ]
    }
   ],
   "source": [
    "import tensorflow as tf\n",
    "from tensorflow.examples.tutorials.mnist import input_data\n",
    "import numpy as np\n",
    "from datetime import datetime      # datetime.now() 를 이용하여 학습 경과 시간 측정\n",
    "\n",
    "# read_data_sets() 를 통해 데이터를 객체형태로 받아오고\n",
    "# one_hot 옵션을 통해 정답(label) 을 one-hot 인코딩된 형태로 받아옴\n",
    "\n",
    "mnist = input_data.read_data_sets(\"MNIST_data/\", one_hot=True)\n",
    "\n",
    "# mnist 데이터 셋은 train, test, validation 3개의 데이터 셋으로 구성되어 있으며.\n",
    "# num_examples 값을 통해 데이터의 갯수 확인 가능함\n",
    "\n",
    "print(\"\\n\", mnist.train.num_examples, mnist.test.num_examples, mnist.validation.num_examples)\n",
    "\n",
    "# 데이터는 784(28x28)개의 픽셀을 가지는 이미지와\n",
    "# 10(0~9)개 클래스를 가지는 one-hot 인코딩된 레이블(정답)을 가지고 있음\n",
    "\n",
    "print(\"\\ntrain image shape = \", np.shape(mnist.train.images))\n",
    "print(\"train label shape = \", np.shape(mnist.train.labels))\n",
    "print(\"test image shape = \", np.shape(mnist.test.images))\n",
    "print(\"test label shape = \", np.shape(mnist.test.labels))"
   ]
  },
  {
   "cell_type": "code",
   "execution_count": 2,
   "metadata": {
    "colab": {},
    "colab_type": "code",
    "id": "ccC0iSsJgexi"
   },
   "outputs": [],
   "source": [
    "# Hyper-Parameter\n",
    "learning_rate = 0.001  # 학습율\n",
    "epochs = 30            # 반복횟수\n",
    "batch_size = 100      # 한번에 입력으로 주어지는 MNIST 개수"
   ]
  },
  {
   "cell_type": "code",
   "execution_count": 3,
   "metadata": {
    "colab": {},
    "colab_type": "code",
    "id": "c66QH3izgexm"
   },
   "outputs": [],
   "source": [
    "# 입력과 정답을 위한 플레이스홀더 정의\n",
    "X = tf.placeholder(tf.float32, [None, 784])  \n",
    "\n",
    "A1 = X_img = tf.reshape(X, [-1, 28, 28, 1])   # image 28X28X1 (black/white)\n",
    "\n",
    "\n",
    "T = tf.placeholder(tf.float32, [None, 10])  "
   ]
  },
  {
   "cell_type": "code",
   "execution_count": 4,
   "metadata": {
    "colab": {},
    "colab_type": "code",
    "id": "xhpSPbmFgexq"
   },
   "outputs": [],
   "source": [
    "# 1번째 컨볼루션 층, 3X3X32  =>  5X5X32 로 변경\n",
    "W2 = tf.Variable(tf.random_normal([5, 5, 1, 32], stddev=0.01))  \n",
    "b2 = tf.Variable(tf.constant(0.1, shape=[32]))   \n",
    "\n",
    "# 1번째 컨볼루션 연산을 통해 28 X 28 X1  => 28 X 28 X 32 \n",
    "C2 = tf.nn.conv2d(A1, W2, strides=[1, 1, 1, 1], padding='SAME')\n",
    "\n",
    "# relu\n",
    "Z2 = tf.nn.relu(C2+b2)\n",
    "\n",
    "# 1번째 max pooling을 통해 28 X 28 X 32  => 14 X 14 X 32 \n",
    "A2 = P2 = tf.nn.max_pool(Z2, ksize=[1, 2, 2, 1], strides=[1, 2, 2, 1], padding='SAME')"
   ]
  },
  {
   "cell_type": "code",
   "execution_count": 5,
   "metadata": {
    "colab": {},
    "colab_type": "code",
    "id": "qlS7bimbgexu"
   },
   "outputs": [],
   "source": [
    "# 2번째 컨볼루션 층,  5X5X64\n",
    "W3 = tf.Variable(tf.random_normal([5, 5, 32, 64], stddev=0.01))  \n",
    "b3 = tf.Variable(tf.constant(0.1, shape=[64]))   \n",
    "\n",
    "# 2번째 컨볼루션 연산을 통해 14 X 14 X 32 => 14 X 14 X 64 \n",
    "C3 = tf.nn.conv2d(A2, W3, strides=[1, 1, 1, 1], padding='SAME')\n",
    "\n",
    "# relu\n",
    "Z3 = tf.nn.relu(C3+b3)\n",
    "\n",
    "# 2번째 max pooling을 통해 14 X 14 X 64 => 7 X 7 X 64\n",
    "A3 = P3 = tf.nn.max_pool(Z3, ksize=[1, 2, 2, 1], strides=[1, 2, 2, 1], padding='SAME')"
   ]
  },
  {
   "cell_type": "code",
   "execution_count": 6,
   "metadata": {
    "colab": {},
    "colab_type": "code",
    "id": "CJDOCPqigexz"
   },
   "outputs": [],
   "source": [
    "# 7X7 크기를 가진 64개의 activation map을 flatten 시킴\n",
    "A3_flat = P3_flat = tf.reshape(A3, [-1, 7*7*64])"
   ]
  },
  {
   "cell_type": "code",
   "execution_count": 7,
   "metadata": {
    "colab": {},
    "colab_type": "code",
    "id": "ztjsmWDagex3"
   },
   "outputs": [],
   "source": [
    "# 출력층\n",
    "W4 = tf.Variable(tf.random_normal([7*7*64, 10], stddev=0.01))\n",
    "b4 = tf.Variable(tf.random_normal([10]))\n",
    "\n",
    "# 출력층 선형회귀  값 Z4, 즉 softmax 에 들어가는 입력 값\n",
    "Z4 = logits = tf.matmul(A3_flat, W4) + b4    # 선형회귀 값 Z4\n",
    "\n",
    "y = A4 = tf.nn.softmax(Z4)"
   ]
  },
  {
   "cell_type": "code",
   "execution_count": 8,
   "metadata": {
    "colab": {},
    "colab_type": "code",
    "id": "s95jUDilgex7"
   },
   "outputs": [],
   "source": [
    "loss = tf.reduce_mean( tf.nn.softmax_cross_entropy_with_logits_v2(logits=Z4, labels=T) )\n",
    "\n",
    "optimizer = tf.train.AdamOptimizer(learning_rate)\n",
    "\n",
    "train = optimizer.minimize(loss)  "
   ]
  },
  {
   "cell_type": "code",
   "execution_count": 9,
   "metadata": {
    "colab": {},
    "colab_type": "code",
    "id": "tDoP7bMRgex_"
   },
   "outputs": [],
   "source": [
    "# batch_size X 10 데이터에 대해 argmax를 통해 행단위로 비교함\n",
    "predicted_val = tf.equal( tf.argmax(A4, 1), tf.argmax(T, 1) )\n",
    "\n",
    "# batch_size X 10 의 True, False 를 1 또는 0 으로 변환\n",
    "accuracy = tf.reduce_mean(tf.cast(predicted_val, dtype=tf.float32))\n",
    "\n",
    "# index list 출력\n",
    "accuracy_index = tf.cast(predicted_val, dtype=tf.float32)\n",
    "\n",
    "# 예측값 처리\n",
    "predicted_list = tf.argmax(A4, 1)"
   ]
  },
  {
   "cell_type": "code",
   "execution_count": 10,
   "metadata": {
    "colab": {
     "base_uri": "https://localhost:8080/",
     "height": 1000
    },
    "colab_type": "code",
    "id": "1IasWCrpgeyD",
    "outputId": "206a5951-d557-4438-a9cc-0dabc45411d3"
   },
   "outputs": [
    {
     "name": "stdout",
     "output_type": "stream",
     "text": [
      "epochs =  0 , step =  0 , loss_val =  2.7815642\n",
      "epochs =  0 , step =  100 , loss_val =  0.7071933\n",
      "epochs =  0 , step =  200 , loss_val =  0.18519689\n",
      "epochs =  0 , step =  300 , loss_val =  0.058699504\n",
      "epochs =  0 , step =  400 , loss_val =  0.17238387\n",
      "epochs =  0 , step =  500 , loss_val =  0.095644236\n",
      "epochs =  1 , step =  0 , loss_val =  0.032673866\n",
      "epochs =  1 , step =  100 , loss_val =  0.1594504\n",
      "epochs =  1 , step =  200 , loss_val =  0.036906734\n",
      "epochs =  1 , step =  300 , loss_val =  0.036790747\n",
      "epochs =  1 , step =  400 , loss_val =  0.04940846\n",
      "epochs =  1 , step =  500 , loss_val =  0.063671626\n",
      "epochs =  2 , step =  0 , loss_val =  0.0504267\n",
      "epochs =  2 , step =  100 , loss_val =  0.06688403\n",
      "epochs =  2 , step =  200 , loss_val =  0.07473331\n",
      "epochs =  2 , step =  300 , loss_val =  0.030162487\n",
      "epochs =  2 , step =  400 , loss_val =  0.03230769\n",
      "epochs =  2 , step =  500 , loss_val =  0.05331441\n",
      "epochs =  3 , step =  0 , loss_val =  0.025301464\n",
      "epochs =  3 , step =  100 , loss_val =  0.032532\n",
      "epochs =  3 , step =  200 , loss_val =  0.007138337\n",
      "epochs =  3 , step =  300 , loss_val =  0.025840271\n",
      "epochs =  3 , step =  400 , loss_val =  0.011021163\n",
      "epochs =  3 , step =  500 , loss_val =  0.036089126\n",
      "epochs =  4 , step =  0 , loss_val =  0.09460738\n",
      "epochs =  4 , step =  100 , loss_val =  0.03348815\n",
      "epochs =  4 , step =  200 , loss_val =  0.009062285\n",
      "epochs =  4 , step =  300 , loss_val =  0.03213502\n",
      "epochs =  4 , step =  400 , loss_val =  0.0013972601\n",
      "epochs =  4 , step =  500 , loss_val =  0.013668702\n",
      "epochs =  5 , step =  0 , loss_val =  0.012983612\n",
      "epochs =  5 , step =  100 , loss_val =  0.017564727\n",
      "epochs =  5 , step =  200 , loss_val =  0.019612482\n",
      "epochs =  5 , step =  300 , loss_val =  0.012807705\n",
      "epochs =  5 , step =  400 , loss_val =  0.009273472\n",
      "epochs =  5 , step =  500 , loss_val =  0.05028483\n",
      "epochs =  6 , step =  0 , loss_val =  0.0021746259\n",
      "epochs =  6 , step =  100 , loss_val =  0.04811423\n",
      "epochs =  6 , step =  200 , loss_val =  0.020544851\n",
      "epochs =  6 , step =  300 , loss_val =  0.013040679\n",
      "epochs =  6 , step =  400 , loss_val =  0.065067\n",
      "epochs =  6 , step =  500 , loss_val =  0.0125057995\n",
      "epochs =  7 , step =  0 , loss_val =  0.017094605\n",
      "epochs =  7 , step =  100 , loss_val =  0.0061131283\n",
      "epochs =  7 , step =  200 , loss_val =  0.003356192\n",
      "epochs =  7 , step =  300 , loss_val =  0.03814202\n",
      "epochs =  7 , step =  400 , loss_val =  0.024366012\n",
      "epochs =  7 , step =  500 , loss_val =  0.026827743\n",
      "epochs =  8 , step =  0 , loss_val =  0.0026991558\n",
      "epochs =  8 , step =  100 , loss_val =  0.0056332266\n",
      "epochs =  8 , step =  200 , loss_val =  0.018048532\n",
      "epochs =  8 , step =  300 , loss_val =  0.007739512\n",
      "epochs =  8 , step =  400 , loss_val =  0.0026660142\n",
      "epochs =  8 , step =  500 , loss_val =  0.008519625\n",
      "epochs =  9 , step =  0 , loss_val =  0.05197363\n",
      "epochs =  9 , step =  100 , loss_val =  0.018295975\n",
      "epochs =  9 , step =  200 , loss_val =  0.0004309509\n",
      "epochs =  9 , step =  300 , loss_val =  0.00958819\n",
      "epochs =  9 , step =  400 , loss_val =  0.000846799\n",
      "epochs =  9 , step =  500 , loss_val =  0.0018654529\n",
      "epochs =  10 , step =  0 , loss_val =  0.020159796\n",
      "epochs =  10 , step =  100 , loss_val =  0.00046807146\n",
      "epochs =  10 , step =  200 , loss_val =  0.008275254\n",
      "epochs =  10 , step =  300 , loss_val =  0.007558294\n",
      "epochs =  10 , step =  400 , loss_val =  0.0027998285\n",
      "epochs =  10 , step =  500 , loss_val =  0.043222796\n",
      "epochs =  11 , step =  0 , loss_val =  0.0006692973\n",
      "epochs =  11 , step =  100 , loss_val =  0.0012160054\n",
      "epochs =  11 , step =  200 , loss_val =  0.005885081\n",
      "epochs =  11 , step =  300 , loss_val =  0.01092384\n",
      "epochs =  11 , step =  400 , loss_val =  0.0007565643\n",
      "epochs =  11 , step =  500 , loss_val =  0.0017146738\n",
      "epochs =  12 , step =  0 , loss_val =  0.013368902\n",
      "epochs =  12 , step =  100 , loss_val =  0.004636729\n",
      "epochs =  12 , step =  200 , loss_val =  0.0023502414\n",
      "epochs =  12 , step =  300 , loss_val =  0.0031104495\n",
      "epochs =  12 , step =  400 , loss_val =  0.005263503\n",
      "epochs =  12 , step =  500 , loss_val =  0.05352865\n",
      "epochs =  13 , step =  0 , loss_val =  0.00034913796\n",
      "epochs =  13 , step =  100 , loss_val =  0.0015513848\n",
      "epochs =  13 , step =  200 , loss_val =  0.010811075\n",
      "epochs =  13 , step =  300 , loss_val =  0.056261178\n",
      "epochs =  13 , step =  400 , loss_val =  0.006522068\n",
      "epochs =  13 , step =  500 , loss_val =  0.025701024\n",
      "epochs =  14 , step =  0 , loss_val =  0.0024229118\n",
      "epochs =  14 , step =  100 , loss_val =  0.0009407229\n",
      "epochs =  14 , step =  200 , loss_val =  0.017914133\n",
      "epochs =  14 , step =  300 , loss_val =  0.0022888028\n",
      "epochs =  14 , step =  400 , loss_val =  0.005936787\n",
      "epochs =  14 , step =  500 , loss_val =  0.015446647\n",
      "epochs =  15 , step =  0 , loss_val =  0.036249164\n",
      "epochs =  15 , step =  100 , loss_val =  0.00053410296\n",
      "epochs =  15 , step =  200 , loss_val =  0.0011869974\n",
      "epochs =  15 , step =  300 , loss_val =  0.00045183132\n",
      "epochs =  15 , step =  400 , loss_val =  0.0025031092\n",
      "epochs =  15 , step =  500 , loss_val =  0.0007235701\n",
      "epochs =  16 , step =  0 , loss_val =  0.0050041415\n",
      "epochs =  16 , step =  100 , loss_val =  0.00018588353\n",
      "epochs =  16 , step =  200 , loss_val =  0.03663054\n",
      "epochs =  16 , step =  300 , loss_val =  8.094363e-05\n",
      "epochs =  16 , step =  400 , loss_val =  0.033053573\n",
      "epochs =  16 , step =  500 , loss_val =  0.00011101211\n",
      "epochs =  17 , step =  0 , loss_val =  0.00021700076\n",
      "epochs =  17 , step =  100 , loss_val =  0.0031211826\n",
      "epochs =  17 , step =  200 , loss_val =  0.007462293\n",
      "epochs =  17 , step =  300 , loss_val =  0.017886871\n",
      "epochs =  17 , step =  400 , loss_val =  1.5119601e-05\n",
      "epochs =  17 , step =  500 , loss_val =  0.0054540127\n",
      "epochs =  18 , step =  0 , loss_val =  0.0011529298\n",
      "epochs =  18 , step =  100 , loss_val =  0.014812866\n",
      "epochs =  18 , step =  200 , loss_val =  0.00046217165\n",
      "epochs =  18 , step =  300 , loss_val =  0.0027293693\n",
      "epochs =  18 , step =  400 , loss_val =  0.0006808026\n",
      "epochs =  18 , step =  500 , loss_val =  6.720084e-05\n",
      "epochs =  19 , step =  0 , loss_val =  0.00096114405\n",
      "epochs =  19 , step =  100 , loss_val =  0.00014507426\n",
      "epochs =  19 , step =  200 , loss_val =  0.00015112228\n",
      "epochs =  19 , step =  300 , loss_val =  0.00022946672\n",
      "epochs =  19 , step =  400 , loss_val =  0.0072648018\n",
      "epochs =  19 , step =  500 , loss_val =  0.00016378346\n",
      "epochs =  20 , step =  0 , loss_val =  0.00026401502\n",
      "epochs =  20 , step =  100 , loss_val =  0.00013662444\n",
      "epochs =  20 , step =  200 , loss_val =  0.00019499195\n",
      "epochs =  20 , step =  300 , loss_val =  0.003003025\n",
      "epochs =  20 , step =  400 , loss_val =  0.00034056566\n",
      "epochs =  20 , step =  500 , loss_val =  0.01266958\n",
      "epochs =  21 , step =  0 , loss_val =  2.668466e-05\n",
      "epochs =  21 , step =  100 , loss_val =  3.3686672e-05\n",
      "epochs =  21 , step =  200 , loss_val =  0.0005620157\n",
      "epochs =  21 , step =  300 , loss_val =  0.0083925\n",
      "epochs =  21 , step =  400 , loss_val =  0.012026609\n",
      "epochs =  21 , step =  500 , loss_val =  0.00038807874\n",
      "epochs =  22 , step =  0 , loss_val =  0.00028736272\n",
      "epochs =  22 , step =  100 , loss_val =  0.0015703524\n",
      "epochs =  22 , step =  200 , loss_val =  0.00097461906\n",
      "epochs =  22 , step =  300 , loss_val =  0.00017263579\n",
      "epochs =  22 , step =  400 , loss_val =  0.000539664\n",
      "epochs =  22 , step =  500 , loss_val =  0.021773057\n",
      "epochs =  23 , step =  0 , loss_val =  0.00021858484\n",
      "epochs =  23 , step =  100 , loss_val =  9.482833e-05\n",
      "epochs =  23 , step =  200 , loss_val =  0.0034213238\n",
      "epochs =  23 , step =  300 , loss_val =  0.0003643442\n",
      "epochs =  23 , step =  400 , loss_val =  0.0004260745\n",
      "epochs =  23 , step =  500 , loss_val =  1.5210957e-06\n",
      "epochs =  24 , step =  0 , loss_val =  2.0500367e-05\n",
      "epochs =  24 , step =  100 , loss_val =  3.753427e-05\n",
      "epochs =  24 , step =  200 , loss_val =  0.00016284928\n",
      "epochs =  24 , step =  300 , loss_val =  0.00066049653\n",
      "epochs =  24 , step =  400 , loss_val =  4.6644138e-05\n",
      "epochs =  24 , step =  500 , loss_val =  2.4103654e-05\n",
      "epochs =  25 , step =  0 , loss_val =  0.0074994783\n",
      "epochs =  25 , step =  100 , loss_val =  0.00043892072\n",
      "epochs =  25 , step =  200 , loss_val =  0.00012765573\n",
      "epochs =  25 , step =  300 , loss_val =  3.156113e-05\n",
      "epochs =  25 , step =  400 , loss_val =  6.342392e-06\n",
      "epochs =  25 , step =  500 , loss_val =  1.1719763e-05\n"
     ]
    },
    {
     "name": "stdout",
     "output_type": "stream",
     "text": [
      "epochs =  26 , step =  0 , loss_val =  5.418169e-05\n",
      "epochs =  26 , step =  100 , loss_val =  4.562634e-05\n",
      "epochs =  26 , step =  200 , loss_val =  1.935059e-05\n",
      "epochs =  26 , step =  300 , loss_val =  0.0002426471\n",
      "epochs =  26 , step =  400 , loss_val =  8.3571595e-06\n",
      "epochs =  26 , step =  500 , loss_val =  2.0791762e-05\n",
      "epochs =  27 , step =  0 , loss_val =  8.004932e-06\n",
      "epochs =  27 , step =  100 , loss_val =  6.8215435e-05\n",
      "epochs =  27 , step =  200 , loss_val =  0.00013149792\n",
      "epochs =  27 , step =  300 , loss_val =  4.6356795e-06\n",
      "epochs =  27 , step =  400 , loss_val =  4.628469e-05\n",
      "epochs =  27 , step =  500 , loss_val =  0.00028098433\n",
      "epochs =  28 , step =  0 , loss_val =  1.499929e-05\n",
      "epochs =  28 , step =  100 , loss_val =  0.00030501673\n",
      "epochs =  28 , step =  200 , loss_val =  0.0011614822\n",
      "epochs =  28 , step =  300 , loss_val =  5.8670867e-05\n",
      "epochs =  28 , step =  400 , loss_val =  0.001646419\n",
      "epochs =  28 , step =  500 , loss_val =  0.000117254385\n",
      "epochs =  29 , step =  0 , loss_val =  0.008818248\n",
      "epochs =  29 , step =  100 , loss_val =  0.033753976\n",
      "epochs =  29 , step =  200 , loss_val =  1.2304817e-05\n",
      "epochs =  29 , step =  300 , loss_val =  7.4664706e-05\n",
      "epochs =  29 , step =  400 , loss_val =  0.00011545061\n",
      "epochs =  29 , step =  500 , loss_val =  0.0001146297\n",
      "\n",
      "elapsed time =  0:01:47.105835\n",
      "\n",
      "Accuracy =  0.9919\n",
      "type(accuracy_val) =  <class 'numpy.float32'> , type(predicted_list_val) =  <class 'numpy.ndarray'> , type(index_label) =  <class 'numpy.ndarray'>\n",
      "index_label.shape =  (10000,)\n",
      "length of index_label_list =  10000\n",
      "false label count =  81\n",
      "\n",
      "length of index_label_false_list 81\n"
     ]
    }
   ],
   "source": [
    "index_label_prediction_list = []\n",
    "\n",
    "with  tf.Session()  as sess:\n",
    "    \n",
    "    sess.run(tf.global_variables_initializer())  # 변수 노드(tf.Variable) 초기화\n",
    "    \n",
    "    start_time = datetime.now()\n",
    "    \n",
    "    for i in range(epochs):    # 100 번 반복수행\n",
    "        \n",
    "        total_batch = int(mnist.train.num_examples / batch_size)  # 55,000 / 100\n",
    "\n",
    "        for step in range(total_batch):\n",
    "            \n",
    "            batch_x_data, batch_t_data = mnist.train.next_batch(batch_size)\n",
    "      \n",
    "            loss_val, _ = sess.run([loss, train], feed_dict={X: batch_x_data, T: batch_t_data})    \n",
    "        \n",
    "            if step % 100 == 0:\n",
    "                print(\"epochs = \", i, \", step = \", step, \", loss_val = \", loss_val)             \n",
    "    \n",
    "    end_time = datetime.now() \n",
    "    \n",
    "    print(\"\\nelapsed time = \", end_time - start_time) \n",
    "    \n",
    "    # Accuracy 확인\n",
    "    test_x_data = mnist.test.images    # 10000 X 784\n",
    "    test_t_data = mnist.test.labels    # 10000 X 10\n",
    "    \n",
    "    accuracy_val, predicted_list_val, index_label = sess.run([accuracy, predicted_list, accuracy_index], feed_dict={X: test_x_data, T: test_t_data})\n",
    "    \n",
    "    print(\"\\nAccuracy = \", accuracy_val)\n",
    "    print(\"type(accuracy_val) = \", type(accuracy_val), ', type(predicted_list_val) = ', type(predicted_list_val), ', type(index_label) = ', type(index_label))\n",
    "    print(\"index_label.shape = \", index_label.shape)\n",
    "    \n",
    "    index_label_list = list(index_label)\n",
    "    print(\"length of index_label_list = \", len(index_label_list))\n",
    "    print(\"false label count = \", index_label_list.count([0]))\n",
    "        \n",
    "    # numpy type 으로 디버그\n",
    "    temp_list = [] \n",
    "    \n",
    "    for index in range(len(index_label)):\n",
    "        \n",
    "        if index_label[index] == 0:\n",
    "            \n",
    "            temp_list.append(index)\n",
    "            temp_list.append(np.argmax(test_t_data[index]))  # one-hot encoding 이므로 argmax 로 정답 추출\n",
    "            temp_list.append(predicted_list_val[index])\n",
    "            \n",
    "            index_label_prediction_list.append(temp_list)\n",
    "            \n",
    "            temp_list = []\n",
    "            \n",
    "    print(\"\\nlength of index_label_false_list\", len(index_label_prediction_list))"
   ]
  },
  {
   "cell_type": "code",
   "execution_count": 11,
   "metadata": {
    "colab": {
     "base_uri": "https://localhost:8080/",
     "height": 54
    },
    "colab_type": "code",
    "id": "KxBKhO7pgeyI",
    "outputId": "b73e46e4-1966-4bcf-c147-a102ccde92fa"
   },
   "outputs": [
    {
     "name": "stdout",
     "output_type": "stream",
     "text": [
      "[[247, 4, 2], [259, 6, 0], [321, 2, 7], [340, 5, 3], [582, 8, 2], [684, 7, 2], [947, 8, 9], [1014, 6, 5], [1033, 8, 2], [1039, 7, 3], [1112, 4, 6], [1226, 7, 2], [1232, 9, 4], [1247, 9, 5], [1260, 7, 1], [1319, 8, 0], [1326, 7, 2], [1393, 5, 3], [1522, 7, 9], [1878, 8, 3], [1901, 9, 4], [2035, 5, 3], [2070, 7, 9], [2093, 8, 2], [2109, 3, 7], [2130, 4, 9], [2135, 6, 1], [2293, 9, 4], [2406, 9, 4], [2414, 9, 4], [2447, 4, 9], [2597, 5, 3], [2654, 6, 1], [2678, 4, 9], [2760, 9, 4], [2896, 8, 0], [2927, 3, 2], [2939, 9, 5], [2953, 3, 5], [3225, 7, 9], [3422, 6, 0], [3520, 6, 4], [3534, 4, 8], [3558, 5, 0], [3727, 8, 9], [3778, 5, 2], [3808, 7, 2], [4176, 2, 7], [4199, 7, 9], [4238, 7, 3], [4256, 3, 0], [4284, 9, 5], [4359, 5, 9], [4487, 7, 2], [4507, 1, 2], [4536, 6, 5], [4571, 6, 8], [4740, 3, 5], [4761, 9, 8], [4807, 8, 0], [5246, 7, 2], [5457, 1, 4], [5654, 7, 2], [5749, 8, 5], [5936, 4, 9], [5937, 5, 3], [5955, 3, 8], [6011, 3, 0], [6571, 9, 3], [6576, 7, 1], [6597, 0, 7], [6783, 1, 6], [6847, 6, 4], [7434, 4, 8], [8408, 8, 5], [9015, 7, 2], [9540, 1, 8], [9669, 4, 7], [9692, 9, 7], [9729, 5, 6], [9850, 0, 6]]\n"
     ]
    }
   ],
   "source": [
    "# index_label_prediction_list\n",
    "print(index_label_prediction_list)"
   ]
  },
  {
   "cell_type": "code",
   "execution_count": 12,
   "metadata": {
    "colab": {
     "base_uri": "https://localhost:8080/",
     "height": 125
    },
    "colab_type": "code",
    "id": "XbEDxo8thFya",
    "outputId": "cc67529c-5fde-4d82-9e55-0c20ea60d7e7"
   },
   "outputs": [
    {
     "name": "stdout",
     "output_type": "stream",
     "text": [
      "Go to this URL in a browser: https://accounts.google.com/o/oauth2/auth?client_id=947318989803-6bn6qk8qdgf4n4g3pfee6491hc0brc4i.apps.googleusercontent.com&redirect_uri=urn%3aietf%3awg%3aoauth%3a2.0%3aoob&response_type=code&scope=email%20https%3a%2f%2fwww.googleapis.com%2fauth%2fdocs.test%20https%3a%2f%2fwww.googleapis.com%2fauth%2fdrive%20https%3a%2f%2fwww.googleapis.com%2fauth%2fdrive.photos.readonly%20https%3a%2f%2fwww.googleapis.com%2fauth%2fpeopleapi.readonly\n",
      "\n",
      "Enter your authorization code:\n",
      "··········\n",
      "Mounted at /content/gdrive/\n"
     ]
    }
   ],
   "source": [
    "from google.colab import drive   # colab 사용시 mount 하기 위한 용도. local 에서는 불필요\n",
    "drive.mount('/content/gdrive/')  # colab 사용시 mount 하기 위한 용도. local 에서는 불필요"
   ]
  },
  {
   "cell_type": "code",
   "execution_count": 12,
   "metadata": {
    "colab": {
     "base_uri": "https://localhost:8080/",
     "height": 439
    },
    "colab_type": "code",
    "id": "a5nieERrgeyL",
    "outputId": "30987eb6-b05c-45fa-a4ac-7174c38a47f9"
   },
   "outputs": [
    {
     "name": "stdout",
     "output_type": "stream",
     "text": [
      "10 image is saved now\n",
      "20 image is saved now\n",
      "30 image is saved now\n",
      "40 image is saved now\n",
      "50 image is saved now\n",
      "60 image is saved now\n",
      "70 image is saved now\n",
      "80 image is saved now\n",
      "Elapsed save time =>  0:00:15.797839\n",
      "Total  81  data is saved\n"
     ]
    },
    {
     "data": {
      "image/png": "[encoded data removed]",
      "text/plain": [
       "<Figure size 432x288 with 1 Axes>"
      ]
     },
     "metadata": {
      "needs_background": "light"
     },
     "output_type": "display_data"
    }
   ],
   "source": [
    "# check false data\n",
    "import os\n",
    "from datetime import datetime\n",
    "import matplotlib.pyplot as plt\n",
    "%matplotlib inline\n",
    "\n",
    "save_count = 0\n",
    "\n",
    "# 현재 디렉토리 저장\n",
    "curr_dir = os.getcwd()\n",
    "\n",
    "# image 저장할 디렉토리 생성. 현재 시간으로 생성\n",
    "now = datetime.now()\n",
    "algorithm_name = 'CNN_example4_'\n",
    "save_dir_name = algorithm_name + str(now.year) + '-' + str(now.month) + '-' + str(now.day) + '_' + str(now.hour) + str(now.minute) + str(now.second)\n",
    "\n",
    "#colab_default_dir = '/content/gdrive/My Drive/Colab Notebooks/'\n",
    "\n",
    "#os.chdir(colab_default_dir)\n",
    "os.mkdir(save_dir_name)\n",
    "\n",
    "# change dir\n",
    "os.chdir(save_dir_name)\n",
    "\n",
    "start_time = datetime.now()\n",
    "\n",
    "for list_data in index_label_prediction_list:\n",
    "    \n",
    "    index_int = list_data[0]\n",
    "    label_int = list_data[1]\n",
    "    prediction_int = list_data[2]\n",
    "        \n",
    "    # 저장할 이미지를 인덱스를 이용하여 가져옴\n",
    "    img = test_x_data[index_int].reshape(28,28)  \n",
    "    plt.imshow(img, cmap='gray')\n",
    "    \n",
    "    # 정답 문자열\n",
    "    label_str = str(label_int)\n",
    "    \n",
    "    # 예측값 문자열\n",
    "    prediction_str = str(prediction_int)\n",
    "    \n",
    "    # 정답과 오답을 나타내는 문자열\n",
    "    label_prediction_str = 'label = ' + label_str + '  ,  prediction = ' + prediction_str\n",
    "    \n",
    "    # 저장 파일 이름 생성, str(index_int).png\n",
    "    save_image_name = str(index_int) + '.png'\n",
    "    \n",
    "    plt.title(label_prediction_str)\n",
    "    plt.savefig(save_image_name)\n",
    "    \n",
    "    save_count += 1\n",
    "    \n",
    "    if save_count % 10 == 0:\n",
    "        \n",
    "        print(save_count, 'image is saved now')\n",
    "\n",
    "    \n",
    "end_time = datetime.now()\n",
    "\n",
    "print('Elapsed save time => ', end_time - start_time)\n",
    "print('Total ', save_count, \" data is saved\")\n",
    "\n",
    "# 원래의 dir 로 복귀\n",
    "os.chdir(curr_dir)"
   ]
  },
  {
   "cell_type": "code",
   "execution_count": 0,
   "metadata": {
    "colab": {},
    "colab_type": "code",
    "id": "mbvxDdr3geyQ"
   },
   "outputs": [],
   "source": []
  }
 ],
 "metadata": {
  "accelerator": "GPU",
  "anaconda-cloud": {},
  "colab": {
   "collapsed_sections": [],
   "name": "(191124)CNN_example4_2conv_5X5.ipynb",
   "provenance": []
  },
  "kernelspec": {
   "display_name": "Python 3",
   "language": "python",
   "name": "python3"
  },
  "language_info": {
   "codemirror_mode": {
    "name": "ipython",
    "version": 3
   },
   "file_extension": ".py",
   "mimetype": "text/x-python",
   "name": "python",
   "nbconvert_exporter": "python",
   "pygments_lexer": "ipython3",
   "version": "3.7.4"
  }
 },
 "nbformat": 4,
 "nbformat_minor": 1
}

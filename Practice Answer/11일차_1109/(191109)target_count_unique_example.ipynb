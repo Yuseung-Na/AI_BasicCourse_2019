{
 "cells": [
  {
   "cell_type": "markdown",
   "metadata": {},
   "source": [
    "### How to count the occurrence of certain item in an ndarray in Python\n",
    "#### https://stackoverflow.com/questions/28663856/how-to-count-the-occurrence-of-certain-item-in-an-ndarray-in-python"
   ]
  },
  {
   "cell_type": "code",
   "execution_count": 1,
   "metadata": {},
   "outputs": [],
   "source": [
    "import numpy as np"
   ]
  },
  {
   "cell_type": "markdown",
   "metadata": {},
   "source": [
    "#### numpy 를 list 변환 후 count 함수 실행"
   ]
  },
  {
   "cell_type": "code",
   "execution_count": 14,
   "metadata": {},
   "outputs": [
    {
     "name": "stdout",
     "output_type": "stream",
     "text": [
      "input_data.shape =  (759, 8) , target_data =  (759,)\n",
      "number of zeros =  263 , ratio =  34.65085638998683  %\n",
      "number of ones =  496 , ratio =  65.34914361001317 %\n"
     ]
    }
   ],
   "source": [
    "# Diabetes target distribution\n",
    "loaded_data = np.loadtxt('./(191103)diabetes.csv', delimiter=',', dtype=np.float32)\n",
    "\n",
    "input_data = loaded_data[ :, 0:-1 ]\n",
    "target_data = loaded_data[ :, -1 ]\n",
    "\n",
    "print('input_data.shape = ', input_data.shape, ', target_data = ', target_data.shape)\n",
    "\n",
    "# matrix => list\n",
    "target_data_list = list(target_data)\n",
    "\n",
    "# count 0.0 , count 1.0\n",
    "num_zeros = target_data_list.count(0.0)\n",
    "num_ones = target_data_list.count(1.0)\n",
    "\n",
    "print('number of zeros = ', num_zeros, ', ratio = ', 100 * num_zeros / (loaded_data.shape[0]), ' %')\n",
    "print('number of ones = ', num_ones, ', ratio = ', 100 * num_ones / (loaded_data.shape[0]), '%') "
   ]
  },
  {
   "cell_type": "code",
   "execution_count": 16,
   "metadata": {},
   "outputs": [
    {
     "name": "stdout",
     "output_type": "stream",
     "text": [
      "input_data.shape =  (470, 17) , target_data =  (470,)\n",
      "number of zeros =  400 , ratio =  85.1063829787234  %\n",
      "number of ones =  70 , ratio =  14.893617021276595 %\n"
     ]
    }
   ],
   "source": [
    "# ThoracicSurgery target distribution\n",
    "loaded_data = np.loadtxt('./(191109)ThoracicSurgery.csv', delimiter=',', dtype=np.float32)\n",
    "\n",
    "input_data = loaded_data[ :, 0:-1 ]\n",
    "target_data = loaded_data[ :, -1 ]\n",
    "\n",
    "print('input_data.shape = ', input_data.shape, ', target_data = ', target_data.shape)\n",
    "\n",
    "# matrix => list\n",
    "target_data_list = list(target_data)\n",
    "\n",
    "# count 0.0 , count 1.0\n",
    "num_zeros = target_data_list.count(0.0)\n",
    "num_ones = target_data_list.count(1.0)\n",
    "\n",
    "print('number of zeros = ', num_zeros, ', ratio = ', 100 * num_zeros / (loaded_data.shape[0]), ' %')\n",
    "print('number of ones = ', num_ones, ', ratio = ', 100 * num_ones / (loaded_data.shape[0]), '%') "
   ]
  },
  {
   "cell_type": "code",
   "execution_count": 15,
   "metadata": {},
   "outputs": [
    {
     "name": "stdout",
     "output_type": "stream",
     "text": [
      "input_data.shape =  (6497, 12) , target_data =  (6497,)\n",
      "number of zeros =  4898 , ratio =  75.38864091118978  %\n",
      "number of ones =  1599 , ratio =  24.61135908881022 %\n"
     ]
    }
   ],
   "source": [
    "# Wine target distribution\n",
    "loaded_data = np.loadtxt('./(191109)wine.csv', delimiter=',', dtype=np.float32)\n",
    "\n",
    "input_data = loaded_data[ :, 0:-1 ]\n",
    "target_data = loaded_data[ :, -1 ]\n",
    "\n",
    "print('input_data.shape = ', input_data.shape, ', target_data = ', target_data.shape)\n",
    "\n",
    "# matrix => list\n",
    "target_data_list = list(target_data)\n",
    "\n",
    "# count 0.0 , count 1.0\n",
    "num_zeros = target_data_list.count(0.0)\n",
    "num_ones = target_data_list.count(1.0)\n",
    "\n",
    "print('number of zeros = ', num_zeros, ', ratio = ', 100 * num_zeros / (loaded_data.shape[0]), ' %')\n",
    "print('number of ones = ', num_ones, ', ratio = ', 100 * num_ones / (loaded_data.shape[0]), '%') "
   ]
  },
  {
   "cell_type": "markdown",
   "metadata": {},
   "source": [
    "#### numpy.unique() 이용"
   ]
  },
  {
   "cell_type": "code",
   "execution_count": 27,
   "metadata": {},
   "outputs": [
    {
     "name": "stdout",
     "output_type": "stream",
     "text": [
      "input_data.shape =  (759, 8) , target_data =  (759,)\n",
      "kinds of target value =  dict_items([(0.0, 263), (1.0, 496)])\n",
      "number of zeros =  263 , ratio =  34.65085638998683  %\n",
      "number of ones =  496 , ratio =  65.34914361001317 %\n"
     ]
    }
   ],
   "source": [
    "# Diabetes target distribution\n",
    "loaded_data = np.loadtxt('./(191103)diabetes.csv', delimiter=',', dtype=np.float32)\n",
    "\n",
    "input_data = loaded_data[ :, 0:-1 ]\n",
    "target_data = loaded_data[ :, -1 ]\n",
    "\n",
    "print('input_data.shape = ', input_data.shape, ', target_data = ', target_data.shape)\n",
    "\n",
    "# numpy.unique() 사용\n",
    "unique, counts = np.unique(target_data, return_counts=True)\n",
    "\n",
    "print('kinds of target value = ', dict(zip(unique, counts)).items())\n",
    "\n",
    "num_zeros = dict(zip(unique, counts))[0.0]  # key 0.0 에 대한 value 값 count 리턴\n",
    "num_ones = dict(zip(unique, counts))[1.0]  # key 1.0 에 대한 value 값 count 리턴\n",
    "\n",
    "print('number of zeros = ', num_zeros, ', ratio = ', 100 * num_zeros / (loaded_data.shape[0]), ' %')\n",
    "print('number of ones = ', num_ones, ', ratio = ', 100 * num_ones / (loaded_data.shape[0]), '%') "
   ]
  },
  {
   "cell_type": "code",
   "execution_count": 28,
   "metadata": {},
   "outputs": [
    {
     "name": "stdout",
     "output_type": "stream",
     "text": [
      "input_data.shape =  (470, 17) , target_data =  (470,)\n",
      "kinds of target value =  dict_items([(0.0, 400), (1.0, 70)])\n",
      "number of zeros =  400 , ratio =  85.1063829787234  %\n",
      "number of ones =  70 , ratio =  14.893617021276595 %\n"
     ]
    }
   ],
   "source": [
    "# ThoracicSurgery target distribution\n",
    "loaded_data = np.loadtxt('./(191109)ThoracicSurgery.csv', delimiter=',', dtype=np.float32)\n",
    "\n",
    "input_data = loaded_data[ :, 0:-1 ]\n",
    "target_data = loaded_data[ :, -1 ]\n",
    "\n",
    "print('input_data.shape = ', input_data.shape, ', target_data = ', target_data.shape)\n",
    "\n",
    "# numpy.unique() 사용\n",
    "unique, counts = np.unique(target_data, return_counts=True)\n",
    "\n",
    "print('kinds of target value = ', dict(zip(unique, counts)).items())\n",
    "\n",
    "num_zeros = dict(zip(unique, counts))[0.0]  # key 0.0 에 대한 value 값 count 리턴\n",
    "num_ones = dict(zip(unique, counts))[1.0]  # key 1.0 에 대한 value 값 count 리턴\n",
    "\n",
    "print('number of zeros = ', num_zeros, ', ratio = ', 100 * num_zeros / (loaded_data.shape[0]), ' %')\n",
    "print('number of ones = ', num_ones, ', ratio = ', 100 * num_ones / (loaded_data.shape[0]), '%') "
   ]
  },
  {
   "cell_type": "code",
   "execution_count": 29,
   "metadata": {},
   "outputs": [
    {
     "name": "stdout",
     "output_type": "stream",
     "text": [
      "input_data.shape =  (6497, 12) , target_data =  (6497,)\n",
      "kinds of target value =  dict_items([(0.0, 4898), (1.0, 1599)])\n",
      "number of zeros =  4898 , ratio =  75.38864091118978  %\n",
      "number of ones =  1599 , ratio =  24.61135908881022 %\n"
     ]
    }
   ],
   "source": [
    "# Wine target distribution\n",
    "loaded_data = np.loadtxt('./(191109)wine.csv', delimiter=',', dtype=np.float32)\n",
    "\n",
    "input_data = loaded_data[ :, 0:-1 ]\n",
    "target_data = loaded_data[ :, -1 ]\n",
    "\n",
    "print('input_data.shape = ', input_data.shape, ', target_data = ', target_data.shape)\n",
    "\n",
    "# numpy.unique() 사용\n",
    "unique, counts = np.unique(target_data, return_counts=True)\n",
    "\n",
    "print('kinds of target value = ', dict(zip(unique, counts)).items())\n",
    "\n",
    "num_zeros = dict(zip(unique, counts))[0.0]  # key 0.0 에 대한 value 값 count 리턴\n",
    "num_ones = dict(zip(unique, counts))[1.0]  # key 1.0 에 대한 value 값 count 리턴\n",
    "\n",
    "print('number of zeros = ', num_zeros, ', ratio = ', 100 * num_zeros / (loaded_data.shape[0]), ' %')\n",
    "print('number of ones = ', num_ones, ', ratio = ', 100 * num_ones / (loaded_data.shape[0]), '%') "
   ]
  },
  {
   "cell_type": "code",
   "execution_count": null,
   "metadata": {},
   "outputs": [],
   "source": []
  }
 ],
 "metadata": {
  "kernelspec": {
   "display_name": "Python 3",
   "language": "python",
   "name": "python3"
  },
  "language_info": {
   "codemirror_mode": {
    "name": "ipython",
    "version": 3
   },
   "file_extension": ".py",
   "mimetype": "text/x-python",
   "name": "python",
   "nbconvert_exporter": "python",
   "pygments_lexer": "ipython3",
   "version": "3.7.4"
  }
 },
 "nbformat": 4,
 "nbformat_minor": 2
}

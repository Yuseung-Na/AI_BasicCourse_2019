{
 "cells": [
  {
   "cell_type": "code",
   "execution_count": 1,
   "metadata": {},
   "outputs": [],
   "source": [
    "import numpy as np"
   ]
  },
  {
   "cell_type": "code",
   "execution_count": 5,
   "metadata": {},
   "outputs": [
    {
     "name": "stdout",
     "output_type": "stream",
     "text": [
      "(2,)\n",
      "(2,)\n",
      "[ 0 -2]\n",
      "[  0 -12]\n"
     ]
    }
   ],
   "source": [
    "A = np.array([1, 2])\n",
    "B = np.array([3, 4])\n",
    "T = np.array([5, 6])\n",
    "\n",
    "print(A.shape)\n",
    "print(B.shape)\n",
    "\n",
    "print((1-A)*A)\n",
    "print(T*(1-A)*A)"
   ]
  },
  {
   "cell_type": "code",
   "execution_count": 7,
   "metadata": {},
   "outputs": [
    {
     "name": "stdout",
     "output_type": "stream",
     "text": [
      "(2, 1)\n",
      "(2, 1)\n",
      "[[-2]\n",
      " [-6]]\n",
      "[[-14]\n",
      " [-48]]\n"
     ]
    }
   ],
   "source": [
    "C = np.array([ [2], [3] ])\n",
    "D = np.array([ [4], [5] ])\n",
    "T = np.array([ [7], [8] ])\n",
    "\n",
    "print(C.shape)\n",
    "print(D.shape)\n",
    "\n",
    "print((1-C)*C)\n",
    "print(T*(1-C)*C)"
   ]
  },
  {
   "cell_type": "code",
   "execution_count": null,
   "metadata": {},
   "outputs": [],
   "source": []
  }
 ],
 "metadata": {
  "kernelspec": {
   "display_name": "Python 3",
   "language": "python",
   "name": "python3"
  },
  "language_info": {
   "codemirror_mode": {
    "name": "ipython",
    "version": 3
   },
   "file_extension": ".py",
   "mimetype": "text/x-python",
   "name": "python",
   "nbconvert_exporter": "python",
   "pygments_lexer": "ipython3",
   "version": "3.7.4"
  }
 },
 "nbformat": 4,
 "nbformat_minor": 2
}

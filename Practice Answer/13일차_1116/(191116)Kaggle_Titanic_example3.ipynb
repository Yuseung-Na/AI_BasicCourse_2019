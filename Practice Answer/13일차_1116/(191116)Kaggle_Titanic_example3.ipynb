{
 "cells": [
  {
   "cell_type": "markdown",
   "metadata": {},
   "source": [
    "### Kaggle Titanic Data 와 오차역전파를 이용한 예제 2"
   ]
  },
  {
   "cell_type": "code",
   "execution_count": 1,
   "metadata": {},
   "outputs": [],
   "source": [
    "import numpy as np\n",
    "import pandas as pd\n",
    "\n",
    "# sigmoid 함수 정의\n",
    "def sigmoid(x):\n",
    "    return 1 / (1+np.exp(-x))"
   ]
  },
  {
   "cell_type": "markdown",
   "metadata": {},
   "source": [
    "### pd.read_csv(),values 실행하면 제목과 함께 matrix 리턴됨"
   ]
  },
  {
   "cell_type": "code",
   "execution_count": 2,
   "metadata": {},
   "outputs": [
    {
     "name": "stdout",
     "output_type": "stream",
     "text": [
      "train_csv_data.shape =  (891, 12) , type(train_csv_data) =  <class 'numpy.ndarray'>\n",
      "test_csv_data.shape =  (418, 11) , type(test_csv_data) =  <class 'numpy.ndarray'>\n",
      "test_csv_sub.shape =  (418, 2) , type(test_csv_sub) =  <class 'numpy.ndarray'>\n"
     ]
    }
   ],
   "source": [
    "# Load Kaggle Data as matrix\n",
    "train_csv_data = pd.read_csv('./(191116)titanic_train.csv').values\n",
    "test_csv_data = pd.read_csv('./(191116)titanic_test.csv').values\n",
    "test_csv_sub = pd.read_csv('./(191116)titanic_gender_submission.csv').values\n",
    "\n",
    "print('train_csv_data.shape = ', train_csv_data.shape, ', type(train_csv_data) = ', type(train_csv_data))\n",
    "print('test_csv_data.shape = ', test_csv_data.shape, ', type(test_csv_data) = ', type(test_csv_data))\n",
    "print('test_csv_sub.shape = ', test_csv_sub.shape, ', type(test_csv_sub) = ', type(test_csv_sub))\n",
    "\n",
    "#print('\\n', train_csv_data[0], '\\n')\n",
    "\n",
    "# 각 column 내용 확인\n",
    "#for column_index in range(len(train_csv_data[0])):\n",
    "    \n",
    "    #print('value = ', train_csv_data[0, column_index], ', type(column) = ', type(train_csv_data[0, column_index]))"
   ]
  },
  {
   "cell_type": "markdown",
   "metadata": {},
   "source": [
    "### Data Conversion (문자 => 숫자)"
   ]
  },
  {
   "cell_type": "code",
   "execution_count": 3,
   "metadata": {},
   "outputs": [],
   "source": [
    "# train data 에서 male -> 1.0, female -> 0.0\n",
    "for i in range(len(train_csv_data)):\n",
    "    \n",
    "    if train_csv_data[i, 4] == 'male':\n",
    "        \n",
    "        train_csv_data[i, 4] = 1.0\n",
    "    \n",
    "    else:\n",
    "        \n",
    "        train_csv_data[i, 4] = 0.0\n",
    "        \n",
    "# test data 에서 male -> 1.0, female -> 0.0\n",
    "for i in range(len(test_csv_data)):\n",
    "    \n",
    "    if test_csv_data[i, 3] == 'male':\n",
    "        \n",
    "        test_csv_data[i, 3] = 1.0\n",
    "    \n",
    "    else:\n",
    "        \n",
    "        test_csv_data[i, 3] = 0.0"
   ]
  },
  {
   "cell_type": "code",
   "execution_count": 4,
   "metadata": {},
   "outputs": [],
   "source": [
    "# train data 에서 Embarked, Empty -> 0.0, S -> 1.0, C -> 2.0, Q -> 3.0\n",
    "for i in range(len(train_csv_data)):\n",
    "    \n",
    "    if train_csv_data[i, 11] == 'S':\n",
    "        \n",
    "        train_csv_data[i, 11] = 1.0\n",
    "        \n",
    "    elif train_csv_data[i, 11] == 'C':\n",
    "        \n",
    "        train_csv_data[i, 11] = 2.0\n",
    "        \n",
    "    elif train_csv_data[i, 11] == 'Q':\n",
    "        \n",
    "        train_csv_data[i, 11] = 3.0\n",
    "        \n",
    "        \n",
    "    if np.isnan(train_csv_data[i, 11]):\n",
    "        \n",
    "        train_csv_data[i, 11] = 0.0\n",
    "        \n",
    "\n",
    "# test data 에서 Embarked, Empty -> 0.0, S -> 1.0, C -> 2.0, Q -> 3.0\n",
    "for i in range(len(test_csv_data)):\n",
    "    \n",
    "    if test_csv_data[i, 10] == 'S':\n",
    "        \n",
    "        test_csv_data[i, 10] = 1.0\n",
    "        \n",
    "    elif test_csv_data[i, 10] == 'C':\n",
    "        \n",
    "        test_csv_data[i, 10] = 2.0\n",
    "        \n",
    "    elif test_csv_data[i, 10] == 'Q':\n",
    "        \n",
    "        test_csv_data[i, 10] = 3.0\n",
    "        \n",
    "    if np.isnan(test_csv_data[i, 10]):\n",
    "        \n",
    "        test_csv_data[i, 10] = 0.0"
   ]
  },
  {
   "cell_type": "markdown",
   "metadata": {},
   "source": [
    "### training data / test data 생성"
   ]
  },
  {
   "cell_type": "code",
   "execution_count": 5,
   "metadata": {},
   "outputs": [
    {
     "name": "stdout",
     "output_type": "stream",
     "text": [
      "training_x_data.shape =  (891, 5) , test_x_data.shape =  (418, 5)\n",
      "training_t_data.shape =  (891, 1) , test_t_data.shape =  (418, 1)\n"
     ]
    }
   ],
   "source": [
    "training_x_data = train_csv_data[ : , [ 2, 4, 6, 7, 11 ] ]  # Pclass, Sex, SibSp, Parch, Embarked\n",
    "\n",
    "training_t_data = train_csv_data[ :, 1:2]\n",
    "\n",
    "test_x_data = test_csv_data[ : , [ 1, 3, 5, 6, 10 ] ]  # Pclass, Sex, SibSp, Parch, Embarked\n",
    "\n",
    "test_t_data = test_csv_sub[ :, 1:2]  # test_csv_sub 에서 데이터 가져옴. 주의 요함\n",
    "\n",
    "\n",
    "print(\"training_x_data.shape = \", training_x_data.shape, \", test_x_data.shape = \", test_x_data.shape)\n",
    "print(\"training_t_data.shape = \", training_t_data.shape, \", test_t_data.shape = \", test_t_data.shape)"
   ]
  },
  {
   "cell_type": "code",
   "execution_count": 6,
   "metadata": {},
   "outputs": [
    {
     "name": "stdout",
     "output_type": "stream",
     "text": [
      "training_x_data[0] =  [3 1.0 1 0 1.0] , type(training_x_data[0]) =  <class 'numpy.ndarray'>\n",
      "data =  3 , type(data) =  <class 'int'>\n",
      "data =  1.0 , type(data) =  <class 'float'>\n",
      "data =  1 , type(data) =  <class 'int'>\n",
      "data =  0 , type(data) =  <class 'int'>\n",
      "data =  1.0 , type(data) =  <class 'float'>\n"
     ]
    }
   ],
   "source": [
    "print('training_x_data[0] = ', training_x_data[0], ', type(training_x_data[0]) = ', type(training_x_data[0]))\n",
    "\n",
    "for column_index in range(len(training_x_data[0])):\n",
    "    \n",
    "    print('data = ', training_x_data[0, column_index], ', type(data) = ', type(training_x_data[0, column_index]))"
   ]
  },
  {
   "cell_type": "markdown",
   "metadata": {},
   "source": [
    "### 오차역전파로 구현되는 Kaggle_Titanic class 구현"
   ]
  },
  {
   "cell_type": "code",
   "execution_count": 7,
   "metadata": {},
   "outputs": [],
   "source": [
    "from datetime import datetime      # datetime.now() 를 이용하여 학습 경과 시간 측정\n",
    "\n",
    "class Kaggle_Titanic:\n",
    "    \n",
    "    def __init__(self, name, input_nodes, hidden_nodes, output_nodes, learning_rate):\n",
    "        \n",
    "        self.input_nodes = input_nodes\n",
    "        self.hidden_nodes = hidden_nodes\n",
    "        self.output_nodes = output_nodes\n",
    "        \n",
    "        # 은닉층 가중치  W2 = Xavier/He 방법으로 self.W2 가중치 초기화\n",
    "        self.W2 = np.random.randn(self.input_nodes, self.hidden_nodes) / np.sqrt(self.input_nodes/2)\n",
    "        self.b2 = np.random.rand(self.hidden_nodes)      \n",
    "        \n",
    "        # 출력층 가중치는 W3 =  Xavier/He 방법으로 self.W3 가중치 초기화\n",
    "        self.W3 = np.random.randn(self.hidden_nodes, self.output_nodes) / np.sqrt(self.hidden_nodes/2)\n",
    "        self.b3 = np.random.rand(self.output_nodes)      \n",
    "                        \n",
    "        # 출력층 선형회귀 값 Z3, 출력값 A3 정의 (모두 행렬로 표시)\n",
    "        self.Z3 = np.zeros([1,output_nodes])\n",
    "        self.A3 = np.zeros([1,output_nodes])\n",
    "        \n",
    "        # 은닉층 선형회귀 값 Z2, 출력값 A2 정의 (모두 행렬로 표시)\n",
    "        self.Z2 = np.zeros([1,hidden_nodes])\n",
    "        self.A2 = np.zeros([1,hidden_nodes])\n",
    "        \n",
    "        # 입력층 선형회귀 값 Z1, 출력값 A1 정의 (모두 행렬로 표시)\n",
    "        self.Z1 = np.zeros([1,input_nodes])    \n",
    "        self.A1 = np.zeros([1,input_nodes])       \n",
    "        \n",
    "        # 학습률 learning rate 초기화\n",
    "        self.learning_rate = learning_rate\n",
    "        \n",
    "        # name 초기화\n",
    "        self.name = name\n",
    "        \n",
    "        print(self.name, \" object is created !!!\")\n",
    "        \n",
    "    def feed_forward(self):  \n",
    "        \n",
    "        delta = 1e-7    # log 무한대 발산 방지\n",
    "        \n",
    "        # 입력층 선형회귀 값 Z1, 출력값 A1 계산\n",
    "        self.Z1 = self.input_data\n",
    "        self.A1 = self.input_data\n",
    "        \n",
    "        # 은닉층 선형회귀 값 Z2, 출력값 A2 계산    \n",
    "        self.Z2 = np.dot(self.A1, self.W2) + self.b2\n",
    "        self.A2 = sigmoid(self.Z2)\n",
    "        \n",
    "        # 출력층 선형회귀 값 Z3, 출력값 A3 계산\n",
    "        self.Z3 = np.dot(self.A2, self.W3) + self.b3\n",
    "        y = self.A3 = sigmoid(self.Z3)\n",
    "        \n",
    "        return  -np.sum( self.target_data*np.log(y + delta) + (1-self.target_data)*np.log((1 - y)+delta ) )    \n",
    "    \n",
    "    def loss_val(self):\n",
    "        \n",
    "        delta = 1e-7    # log 무한대 발산 방지\n",
    "        \n",
    "        # 입력층 선형회귀 값 Z1, 출력값 A1 계산\n",
    "        self.Z1 = self.input_data\n",
    "        self.A1 = self.input_data\n",
    "        \n",
    "        # 은닉층 선형회귀 값 Z2, 출력값 A2 계산    \n",
    "        self.Z2 = np.dot(self.A1, self.W2) + self.b2\n",
    "        self.A2 = sigmoid(self.Z2)\n",
    "        \n",
    "        # 출력층 선형회귀 값 Z3, 출력값 A3 계산\n",
    "        self.Z3 = np.dot(self.A2, self.W3) + self.b3\n",
    "        y = self.A3 = sigmoid(self.Z3)\n",
    "        \n",
    "        return  -np.sum( self.target_data*np.log(y + delta) + (1-self.target_data)*np.log((1 - y)+delta ) )    \n",
    "    \n",
    "    # accuracy method\n",
    "    def accuracy(self, input_data, target_data):\n",
    "        \n",
    "        matched_list = []\n",
    "        not_matched_list = []\n",
    "        \n",
    "        # list which contains (index, label, prediction) value\n",
    "        index_label_prediction_list = []\n",
    "        \n",
    "        temp_list = []\n",
    "        \n",
    "        for index in range(len(input_data)):\n",
    "            \n",
    "            # predict 를 위해서 vector 을 matrix 로 변환하여 인수로 넘겨줌\n",
    "            # dtype=np.float32 해주지 않으면 sigmoid 에서 Numpy AttributeError: 'float' object has no attribute 'exp' 발생함\n",
    "            # 해결방법 소스\n",
    "            # https://stackoverflow.com/questions/18557337/numpy-attributeerror-float-object-has-no-attribute-exp/18568056\n",
    "            (real_val, predicted_num) = self.predict(np.array(input_data[index], dtype=np.float32, ndmin=2)) \n",
    "            \n",
    "            if predicted_num == target_data[index]:\n",
    "                matched_list.append(index)\n",
    "                \n",
    "            else:\n",
    "                not_matched_list.append(index)\n",
    "                \n",
    "                temp_list.append(index)\n",
    "                temp_list.append(target_data[index])\n",
    "                temp_list.append(predicted_num)\n",
    "                \n",
    "                index_label_prediction_list.append(temp_list)\n",
    "                \n",
    "                temp_list = []\n",
    "                \n",
    "        accuracy_result = len(matched_list) / len(input_data)\n",
    "            \n",
    "        print(\"Accuracy => \", accuracy_result)\n",
    "            \n",
    "        return matched_list, not_matched_list, index_label_prediction_list\n",
    "    \n",
    "    # train method\n",
    "    def train(self, input_data, target_data):   \n",
    "        \n",
    "        self.target_data = target_data    \n",
    "        self.input_data = input_data\n",
    "        \n",
    "        # 먼저 feed forward 를 통해서 최종 출력값과 이를 바탕으로 현재의 에러 값 계산\n",
    "        loss_val = self.feed_forward()\n",
    "        \n",
    "        # 출력층 loss 인 loss_3 구함\n",
    "        loss_3 = (self.A3-self.target_data) * self.A3 * (1-self.A3)\n",
    "                        \n",
    "        # 출력층 가중치 W3, 출력층 바이어스 b3 업데이트\n",
    "        self.W3 = self.W3 - self.learning_rate * np.dot(self.A2.T, loss_3)   \n",
    "        \n",
    "        self.b3 = self.b3 - self.learning_rate * loss_3\n",
    "        \n",
    "        # 은닉층 loss 인 loss_2 구함        \n",
    "        loss_2 = np.dot(loss_3, self.W3.T) * self.A2 * (1-self.A2)\n",
    "        \n",
    "        # 은닉층 가중치 W2, 은닉층 바이어스 b2 업데이트\n",
    "        self.W2 = self.W2 - self.learning_rate * np.dot(self.A1.T, loss_2)   \n",
    "        \n",
    "        self.b2 = self.b2 - self.learning_rate * loss_2\n",
    "        \n",
    "        \n",
    "    def predict(self, input_data):        # input_data 는 행렬로 입력됨     \n",
    "        \n",
    "        Z2 = np.dot(input_data, self.W2) + self.b2\n",
    "        A2 = sigmoid(Z2)\n",
    "        \n",
    "        Z3 = np.dot(A2, self.W3) + self.b3\n",
    "        y = A3 = sigmoid(Z3)\n",
    "        \n",
    "        if y >= 0.5:\n",
    "            predicted_num = 1\n",
    "        else:\n",
    "            predicted_num = 0\n",
    "    \n",
    "        return y, predicted_num"
   ]
  },
  {
   "cell_type": "markdown",
   "metadata": {},
   "source": [
    "#### 은닉층 1개를 가지는 객체 생성 및 학습"
   ]
  },
  {
   "cell_type": "code",
   "execution_count": 10,
   "metadata": {},
   "outputs": [
    {
     "name": "stdout",
     "output_type": "stream",
     "text": [
      "Titanic  object is created !!!\n",
      "Neural Network Learning using BackPropagation...\n",
      "epochs =  0 loss value =  0.5184396860251979\n",
      "epochs =  10 loss value =  0.38499496260769694\n",
      "epochs =  20 loss value =  0.2858542444171589\n",
      "epochs =  30 loss value =  0.2335678862860938\n",
      "epochs =  40 loss value =  0.20409239993441738\n",
      "epochs =  50 loss value =  0.18631503932687063\n",
      "epochs =  60 loss value =  0.17512482010064004\n",
      "epochs =  70 loss value =  0.16790342986541312\n",
      "epochs =  80 loss value =  0.16318632592552576\n",
      "epochs =  90 loss value =  0.16009541383609185\n",
      "epochs =  100 loss value =  0.1580744130519293\n",
      "epochs =  110 loss value =  0.1567561254000787\n",
      "epochs =  120 loss value =  0.1558913927287531\n",
      "epochs =  130 loss value =  0.15530850272893487\n",
      "epochs =  140 loss value =  0.15488841524597058\n",
      "epochs =  150 loss value =  0.1545486930751627\n",
      "epochs =  160 loss value =  0.15423254521641105\n",
      "epochs =  170 loss value =  0.1539010854201413\n",
      "epochs =  180 loss value =  0.15352774325775498\n",
      "epochs =  190 loss value =  0.1530941904616592\n",
      "\n",
      "Elapsed Time =>  0:00:22.171728\n"
     ]
    }
   ],
   "source": [
    "#hyper-parameter\n",
    "i_nodes = training_x_data.shape[1]    # input nodes 개수\n",
    "h1_nodes = 100  # hidden nodes 개수, \n",
    "o_nodes = 1    # output nodes 개수\n",
    "\n",
    "lr = 1e-2      # learning rate\n",
    "\n",
    "epochs = 200   # 반복횟수\n",
    "\n",
    "# 손실함수 값을 저장할 list 생성\n",
    "loss_val_list = []\n",
    "\n",
    "# Kaggle_Titanic 객체 생성\n",
    "titanic_obj = Kaggle_Titanic('Titanic', i_nodes, h1_nodes, o_nodes, lr)\n",
    "\n",
    "print(\"Neural Network Learning using BackPropagation...\")\n",
    "\n",
    "start_time = datetime.now()\n",
    "\n",
    "for step in range(epochs):\n",
    "    \n",
    "    for index in range(len(training_x_data)):\n",
    "        \n",
    "        input_data = training_x_data[index]\n",
    "        target_data = training_t_data[index]\n",
    "        \n",
    "        # dtype=np.float32 해주지 않으면 sigmoid 에서 Numpy AttributeError: 'float' object has no attribute 'exp' 발생함\n",
    "        # 해결방법 소스\n",
    "        # https://stackoverflow.com/questions/18557337/numpy-attributeerror-float-object-has-no-attribute-exp/18568056\n",
    "        titanic_obj.train( np.array(input_data, dtype=np.float32, ndmin=2), np.array([target_data], dtype=np.float32, ndmin=2) )  # 행렬로 입력\n",
    "        \n",
    "    if step % 10 == 0:\n",
    "        print(\"epochs = \", step, \"loss value = \", titanic_obj.loss_val())\n",
    "        \n",
    "    # 손실함수 값 저장\n",
    "    loss_val_list.append(titanic_obj.loss_val()) \n",
    "    \n",
    "\n",
    "end_time = datetime.now()\n",
    "        \n",
    "print(\"\")\n",
    "print(\"Elapsed Time => \", end_time - start_time)"
   ]
  },
  {
   "cell_type": "markdown",
   "metadata": {},
   "source": [
    "#### 정확도 계산"
   ]
  },
  {
   "cell_type": "code",
   "execution_count": 11,
   "metadata": {},
   "outputs": [
    {
     "name": "stdout",
     "output_type": "stream",
     "text": [
      "Accuracy =>  0.9617224880382775\n"
     ]
    }
   ],
   "source": [
    "(true_list, false_list, index_label_prediction_list) = titanic_obj.accuracy(test_x_data, test_t_data) "
   ]
  },
  {
   "cell_type": "markdown",
   "metadata": {},
   "source": [
    "#### 손실함수 트렌드 확인"
   ]
  },
  {
   "cell_type": "code",
   "execution_count": 12,
   "metadata": {},
   "outputs": [
    {
     "name": "stdout",
     "output_type": "stream",
     "text": [
      "200\n"
     ]
    },
    {
     "data": {
      "image/png": "[encoded data removed]",
      "text/plain": [
       "<Figure size 432x288 with 1 Axes>"
      ]
     },
     "metadata": {
      "needs_background": "light"
     },
     "output_type": "display_data"
    }
   ],
   "source": [
    "import matplotlib.pyplot as plt\n",
    "%matplotlib inline\n",
    "\n",
    "print(len(loss_val_list))\n",
    "\n",
    "# 손실함수 추세 확인\n",
    "Y_DATA_LIST = []\n",
    "\n",
    "for index in range(0, len(loss_val_list)):\n",
    "    Y_DATA_LIST.append(loss_val_list[index])\n",
    "    \n",
    "plt.title('Kaggle titanic Loss Value Trend')\n",
    "plt.xlabel('epochs')\n",
    "plt.ylabel('loss value')\n",
    "plt.grid()\n",
    "plt.plot(Y_DATA_LIST, color='b')\n",
    "plt.show()"
   ]
  },
  {
   "cell_type": "code",
   "execution_count": null,
   "metadata": {},
   "outputs": [],
   "source": []
  }
 ],
 "metadata": {
  "anaconda-cloud": {},
  "kernelspec": {
   "display_name": "Python 3",
   "language": "python",
   "name": "python3"
  },
  "language_info": {
   "codemirror_mode": {
    "name": "ipython",
    "version": 3
   },
   "file_extension": ".py",
   "mimetype": "text/x-python",
   "name": "python",
   "nbconvert_exporter": "python",
   "pygments_lexer": "ipython3",
   "version": "3.7.4"
  }
 },
 "nbformat": 4,
 "nbformat_minor": 1
}

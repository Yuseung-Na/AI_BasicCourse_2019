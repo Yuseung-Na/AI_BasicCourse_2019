{
 "cells": [
  {
   "cell_type": "markdown",
   "metadata": {},
   "source": [
    "### Kaggle Titanic Data 로 부터 training data / test dat 생성 예제 2"
   ]
  },
  {
   "cell_type": "code",
   "execution_count": 1,
   "metadata": {},
   "outputs": [],
   "source": [
    "import numpy as np\n",
    "import pandas as pd"
   ]
  },
  {
   "cell_type": "markdown",
   "metadata": {},
   "source": [
    "### pd.read_csv(),values 실행하면 matrx 리턴됨"
   ]
  },
  {
   "cell_type": "code",
   "execution_count": 2,
   "metadata": {},
   "outputs": [
    {
     "name": "stdout",
     "output_type": "stream",
     "text": [
      "train_csv_data.shape =  (891, 12) , type(train_csv_data) =  <class 'numpy.ndarray'>\n",
      "test_csv_data.shape =  (418, 11) , type(test_csv_data) =  <class 'numpy.ndarray'>\n",
      "test_csv_sub.shape =  (418, 2) , type(test_csv_sub) =  <class 'numpy.ndarray'>\n"
     ]
    }
   ],
   "source": [
    "# Load Kaggle Data as matrix\n",
    "train_csv_data = pd.read_csv('./(191116)titanic_train.csv').values\n",
    "test_csv_data = pd.read_csv('./(191116)titanic_test.csv').values\n",
    "test_csv_sub = pd.read_csv('./(191116)titanic_gender_submission.csv').values\n",
    "\n",
    "print('train_csv_data.shape = ', train_csv_data.shape, ', type(train_csv_data) = ', type(train_csv_data))\n",
    "print('test_csv_data.shape = ', test_csv_data.shape, ', type(test_csv_data) = ', type(test_csv_data))\n",
    "print('test_csv_sub.shape = ', test_csv_sub.shape, ', type(test_csv_sub) = ', type(test_csv_sub))\n",
    "\n",
    "#print('\\n', train_csv_data[0], '\\n')\n",
    "\n",
    "# 각 column 내용 확인\n",
    "#for column_index in range(len(train_csv_data[0])):\n",
    "    \n",
    "    #print('value = ', train_csv_data[0, column_index], ', type(column) = ', type(train_csv_data[0, column_index]))"
   ]
  },
  {
   "cell_type": "markdown",
   "metadata": {},
   "source": [
    "### Data Conversion (문자 => 숫자)"
   ]
  },
  {
   "cell_type": "code",
   "execution_count": 3,
   "metadata": {},
   "outputs": [],
   "source": [
    "# train data 에서 male -> 1, female -> 0\n",
    "for i in range(len(train_csv_data)):\n",
    "    \n",
    "    if train_csv_data[i, 4] == 'male':\n",
    "        \n",
    "        train_csv_data[i, 4] = 1\n",
    "    \n",
    "    else:\n",
    "        \n",
    "        train_csv_data[i, 4] = 0\n",
    "        \n",
    "# test data 에서 male -> 1, female -> 0\n",
    "for i in range(len(test_csv_data)):\n",
    "    \n",
    "    if test_csv_data[i, 3] == 'male':\n",
    "        \n",
    "        test_csv_data[i, 3] = 1\n",
    "    \n",
    "    else:\n",
    "        \n",
    "        test_csv_data[i, 3] = 0"
   ]
  },
  {
   "cell_type": "code",
   "execution_count": 4,
   "metadata": {},
   "outputs": [],
   "source": [
    "# train data 에서 Embarked, Empty -> 0, S -> 1, C -> 2, Q -> 3\n",
    "for i in range(len(train_csv_data)):\n",
    "    \n",
    "    if train_csv_data[i, 11] == 'S':\n",
    "        \n",
    "        train_csv_data[i, 11] = 1\n",
    "        \n",
    "    elif train_csv_data[i, 11] == 'C':\n",
    "        \n",
    "        train_csv_data[i, 11] = 2\n",
    "        \n",
    "    elif train_csv_data[i, 11] == 'Q':\n",
    "        \n",
    "        train_csv_data[i, 11] = 3\n",
    "        \n",
    "        \n",
    "    if np.isnan(train_csv_data[i, 11]):\n",
    "        \n",
    "        train_csv_data[i, 11] = 0\n",
    "        \n",
    "\n",
    "# test data 에서 Embarked, Empty -> 0, S -> 1, C -> 2, Q -> 3\n",
    "for i in range(len(test_csv_data)):\n",
    "    \n",
    "    if test_csv_data[i, 10] == 'S':\n",
    "        \n",
    "        test_csv_data[i, 10] = 1\n",
    "        \n",
    "    elif test_csv_data[i, 10] == 'C':\n",
    "        \n",
    "        test_csv_data[i, 10] = 2\n",
    "        \n",
    "    elif test_csv_data[i, 10] == 'Q':\n",
    "        \n",
    "        test_csv_data[i, 10] = 3\n",
    "        \n",
    "    if np.isnan(test_csv_data[i, 10]):\n",
    "        \n",
    "        test_csv_data[i, 10] = 0"
   ]
  },
  {
   "cell_type": "markdown",
   "metadata": {},
   "source": [
    "### training data / test data 생성"
   ]
  },
  {
   "cell_type": "code",
   "execution_count": 5,
   "metadata": {},
   "outputs": [
    {
     "name": "stdout",
     "output_type": "stream",
     "text": [
      "training_x_data.shape =  (891, 5) , test_x_data.shape =  (418, 5)\n",
      "training_t_data.shape =  (891, 1) , test_t_data.shape =  (418, 1)\n"
     ]
    }
   ],
   "source": [
    "training_x_data = train_csv_data[ : , [ 2, 4, 6, 7, 11 ] ]  # Pclass, Sex, SibSp, Parch, Embarked\n",
    "\n",
    "training_t_data = train_csv_data[ :, 1:2]\n",
    "\n",
    "test_x_data = test_csv_data[ : , [ 1, 3, 5, 6, 10 ] ]  # Pclass, Sex, SibSp, Parch, Embarked\n",
    "\n",
    "test_t_data = test_csv_sub[ :, 1:2]  # test_csv_sub 에서 데이터 가져옴. 주의 요함\n",
    "\n",
    "\n",
    "print(\"training_x_data.shape = \", training_x_data.shape, \", test_x_data.shape = \", test_x_data.shape)\n",
    "print(\"training_t_data.shape = \", training_t_data.shape, \", test_t_data.shape = \", test_t_data.shape)"
   ]
  }
 ],
 "metadata": {
  "anaconda-cloud": {},
  "kernelspec": {
   "display_name": "Python 3",
   "language": "python",
   "name": "python3"
  },
  "language_info": {
   "codemirror_mode": {
    "name": "ipython",
    "version": 3
   },
   "file_extension": ".py",
   "mimetype": "text/x-python",
   "name": "python",
   "nbconvert_exporter": "python",
   "pygments_lexer": "ipython3",
   "version": "3.7.4"
  }
 },
 "nbformat": 4,
 "nbformat_minor": 1
}

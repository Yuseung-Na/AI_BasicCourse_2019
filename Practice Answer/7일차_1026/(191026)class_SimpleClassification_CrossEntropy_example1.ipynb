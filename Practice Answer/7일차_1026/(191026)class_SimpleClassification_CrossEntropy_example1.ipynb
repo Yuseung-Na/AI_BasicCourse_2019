{
 "cells": [
  {
   "cell_type": "code",
   "execution_count": 1,
   "metadata": {},
   "outputs": [],
   "source": [
    "import numpy as np\n",
    "from datetime import datetime\n",
    "\n",
    "\n",
    "def numerical_derivative(f, x):\n",
    "    delta_x = 1e-4 # 0.0001\n",
    "    grad = np.zeros_like(x)\n",
    "    \n",
    "    it = np.nditer(x, flags=['multi_index'], op_flags=['readwrite'])\n",
    "    \n",
    "    while not it.finished:\n",
    "        idx = it.multi_index        \n",
    "        tmp_val = x[idx]\n",
    "        x[idx] = float(tmp_val) + delta_x\n",
    "        fx1 = f(x) # f(x+delta_x)\n",
    "        \n",
    "        x[idx] = tmp_val - delta_x \n",
    "        fx2 = f(x) # f(x-delta_x)\n",
    "        grad[idx] = (fx1 - fx2) / (2*delta_x)\n",
    "        \n",
    "        x[idx] = tmp_val \n",
    "        it.iternext()   \n",
    "        \n",
    "    return grad\n",
    "\n",
    "\n",
    "def sigmoid(z):\n",
    "    \n",
    "    return 1 / (1+np.exp(-z))"
   ]
  },
  {
   "cell_type": "code",
   "execution_count": 2,
   "metadata": {},
   "outputs": [],
   "source": [
    "class SimpleClassificationTest:\n",
    "    \n",
    "    # constructor\n",
    "    def __init__(self, xdata, tdata, learning_rate, iteration_count):\n",
    "            \n",
    "        # 가중치 W 형상을 자동으로 구하기 위해 입력데이터가 vector 인지,\n",
    "        # 아니면 matrix 인지 체크 후, \n",
    "        # self.xdata 는 무조건 matrix 로 만들어 주면 코드 일관성이 있음\n",
    "        \n",
    "        if xdata.ndim == 1:    # vector\n",
    "            self.xdata = xdata.reshape(len(xdata), 1)\n",
    "            self.tdata = xdata.reshape(len(tdata), 1)\n",
    "            \n",
    "        elif xdata.ndim == 2:  # matrix\n",
    "            self.xdata = xdata\n",
    "            self.tdata = tdata\n",
    "        \n",
    "        self.learning_rate = learning_rate\n",
    "        self.iteration_count = iteration_count\n",
    "        \n",
    "        self.W = np.random.rand(self.xdata.shape[1], 1) \n",
    "        self.b = np.random.rand(1)\n",
    "        \n",
    "        print(\"SimpleClassificationTest Object is created\")\n",
    "        \n",
    "        \n",
    "    # obtain current W and current b\n",
    "    def getW_b(self):\n",
    "        \n",
    "        return self.W, self.b\n",
    "    \n",
    "    \n",
    "    # loss function\n",
    "    def loss_func(self):\n",
    "        \n",
    "        delta = 1e-7    # log 무한대 발산 방지\n",
    "    \n",
    "        z = np.dot(self.xdata, self.W) + self.b\n",
    "        \n",
    "        y = sigmoid(z)\n",
    "    \n",
    "        # cross-entropy \n",
    "        return  -np.sum( self.tdata*np.log(y + delta) + (1-self.tdata)*np.log((1 - y)+delta ) ) \n",
    "        \n",
    "    \n",
    "    # display current error value\n",
    "    def error_val(self):\n",
    "        \n",
    "        delta = 1e-7    # log 무한대 발산 방지\n",
    "    \n",
    "        z = np.dot(self.xdata, self.W) + self.b\n",
    "        \n",
    "        y = sigmoid(z)\n",
    "    \n",
    "        # cross-entropy \n",
    "        return  -np.sum( self.tdata*np.log(y + delta) + (1-self.tdata)*np.log((1 - y)+delta ) ) \n",
    "    \n",
    "    \n",
    "    # predict method\n",
    "    # 학습을 마친 후, 임의의 데이터에 대해 미래 값 예측 함수\n",
    "    # 입력변수 x : numpy type\n",
    "    def predict(self, test_data):\n",
    "    \n",
    "        z = np.dot(test_data, self.W) + self.b\n",
    "        y = sigmoid(z)\n",
    "    \n",
    "        if y >= 0.5:\n",
    "            result = 1  # True\n",
    "        else:\n",
    "            result = 0  # False\n",
    "    \n",
    "        return y, result\n",
    "    \n",
    "    \n",
    "    # train method\n",
    "    def train(self):\n",
    "    \n",
    "        f = lambda x : self.loss_func()\n",
    "\n",
    "        print(\"Initial error value = \", self.error_val() )\n",
    "\n",
    "        start_time = datetime.now()\n",
    "        \n",
    "        for step in  range(self.iteration_count):  \n",
    "    \n",
    "            self.W -= self.learning_rate * numerical_derivative(f, self.W)\n",
    "    \n",
    "            self.b -= self.learning_rate * numerical_derivative(f, self.b)\n",
    "    \n",
    "            if (step % 2000 == 0):\n",
    "                print(\"step = \", step, \"error value = \", self.error_val() )\n",
    "                \n",
    "        end_time = datetime.now()\n",
    "        \n",
    "        print(\"\")\n",
    "        print(\"Elapsed Time => \", end_time - start_time)"
   ]
  },
  {
   "cell_type": "code",
   "execution_count": 3,
   "metadata": {},
   "outputs": [
    {
     "name": "stdout",
     "output_type": "stream",
     "text": [
      "x_data.shape =  (10, 1) , t_data.shape =  (10, 1)\n"
     ]
    }
   ],
   "source": [
    "# 입력데이터 / 정답데이터 세팅\n",
    "\n",
    "x_data = np.array([2, 4, 6, 8, 10, 12, 14, 16, 18, 20]).reshape(10,1)   \n",
    "t_data = np.array([0, 0, 0, 0,  0,  0,  1,  1,  1,  1]).reshape(10,1)\n",
    "\n",
    "print(\"x_data.shape = \", x_data.shape, \", t_data.shape = \", t_data.shape)"
   ]
  },
  {
   "cell_type": "markdown",
   "metadata": {},
   "source": [
    "### learning_rate = 1e-2,  반복횟수 100,000번 수행하는 obj1"
   ]
  },
  {
   "cell_type": "code",
   "execution_count": 4,
   "metadata": {},
   "outputs": [
    {
     "name": "stdout",
     "output_type": "stream",
     "text": [
      "SimpleClassificationTest Object is created\n",
      "Initial error value =  17.76318343849415\n",
      "step =  0 error value =  8.335790549755924\n",
      "step =  2000 error value =  1.2331329012892043\n",
      "step =  4000 error value =  0.9287804993318488\n",
      "step =  6000 error value =  0.781666042769222\n",
      "step =  8000 error value =  0.6882020647578967\n",
      "step =  10000 error value =  0.6210608418729111\n",
      "step =  12000 error value =  0.5693277774481802\n",
      "step =  14000 error value =  0.5276249816031385\n",
      "step =  16000 error value =  0.4929340184783088\n",
      "step =  18000 error value =  0.46340207335727374\n",
      "step =  20000 error value =  0.43781473145318306\n",
      "step =  22000 error value =  0.4153350247484534\n",
      "step =  24000 error value =  0.3953627592431277\n",
      "step =  26000 error value =  0.37745346101612015\n",
      "step =  28000 error value =  0.36126910652333516\n",
      "step =  30000 error value =  0.34654682535466563\n",
      "step =  32000 error value =  0.3330782722402807\n",
      "step =  34000 error value =  0.32069559750374454\n",
      "step =  36000 error value =  0.30926164357119756\n",
      "step =  38000 error value =  0.29866293118922604\n",
      "step =  40000 error value =  0.2888045364819823\n",
      "step =  42000 error value =  0.2796062797998534\n",
      "step =  44000 error value =  0.2709998436672297\n",
      "step =  46000 error value =  0.2629265610773896\n",
      "step =  48000 error value =  0.2553356955711007\n",
      "step =  50000 error value =  0.24818308758140317\n",
      "step =  52000 error value =  0.24143007732826713\n",
      "step =  54000 error value =  0.23504263915304408\n",
      "step =  56000 error value =  0.22899067937711615\n",
      "step =  58000 error value =  0.22324746197016107\n",
      "step =  60000 error value =  0.21778913509048445\n",
      "step =  62000 error value =  0.21259433795882243\n",
      "step =  64000 error value =  0.20764387224578443\n",
      "step =  66000 error value =  0.20292042567314528\n",
      "step =  68000 error value =  0.19840833818202164\n",
      "step =  70000 error value =  0.19409340303891112\n",
      "step =  72000 error value =  0.18996269680075667\n",
      "step =  74000 error value =  0.18600443325990504\n",
      "step =  76000 error value =  0.18220783742640434\n",
      "step =  78000 error value =  0.17856303634180792\n",
      "step =  80000 error value =  0.17506096410137695\n",
      "step =  82000 error value =  0.17169327892736191\n",
      "step =  84000 error value =  0.16845229050819496\n",
      "step =  86000 error value =  0.1653308961199541\n",
      "step =  88000 error value =  0.16232252429070707\n",
      "step =  90000 error value =  0.15942108496783972\n",
      "step =  92000 error value =  0.1566209253113134\n",
      "step =  94000 error value =  0.15391679037154377\n",
      "step =  96000 error value =  0.15130378802140887\n",
      "step =  98000 error value =  0.14877735760510694\n",
      "step =  100000 error value =  0.1463332418436879\n",
      "\n",
      "Elapsed Time =>  0:00:23.883867\n"
     ]
    }
   ],
   "source": [
    "obj1 = SimpleClassificationTest(x_data, t_data, 1e-2, 100001)\n",
    "\n",
    "obj1.train()"
   ]
  },
  {
   "cell_type": "code",
   "execution_count": 5,
   "metadata": {},
   "outputs": [
    {
     "name": "stdout",
     "output_type": "stream",
     "text": [
      "[0.52082833] 1\n"
     ]
    }
   ],
   "source": [
    "test_data = np.array([13.0])\n",
    "\n",
    "(real_val, logical_val) = obj1.predict(test_data)\n",
    "\n",
    "print(real_val, logical_val)"
   ]
  },
  {
   "cell_type": "code",
   "execution_count": 6,
   "metadata": {},
   "outputs": [
    {
     "name": "stdout",
     "output_type": "stream",
     "text": [
      "[0.00611] 0\n"
     ]
    }
   ],
   "source": [
    "test_data = np.array([11.0])\n",
    "\n",
    "(real_val, logical_val) = obj1.predict(test_data)\n",
    "\n",
    "print(real_val, logical_val)"
   ]
  },
  {
   "cell_type": "code",
   "execution_count": 7,
   "metadata": {},
   "outputs": [
    {
     "name": "stdout",
     "output_type": "stream",
     "text": [
      "[1.] 1\n"
     ]
    }
   ],
   "source": [
    "test_data = np.array([31.0])\n",
    "\n",
    "(real_val, logical_val) = obj1.predict(test_data)\n",
    "\n",
    "print(real_val, logical_val)"
   ]
  },
  {
   "cell_type": "code",
   "execution_count": 8,
   "metadata": {},
   "outputs": [
    {
     "name": "stdout",
     "output_type": "stream",
     "text": [
      "[6.29074654e-12] 0\n"
     ]
    }
   ],
   "source": [
    "test_data = np.array([3.0])\n",
    "\n",
    "(real_val, logical_val) = obj1.predict(test_data)\n",
    "\n",
    "print(real_val, logical_val)"
   ]
  },
  {
   "cell_type": "code",
   "execution_count": 9,
   "metadata": {},
   "outputs": [
    {
     "name": "stdout",
     "output_type": "stream",
     "text": [
      "[2.29391463e-11] 0\n"
     ]
    }
   ],
   "source": [
    "test_data = np.array([3.5])\n",
    "\n",
    "(real_val, logical_val) = obj1.predict(test_data)\n",
    "\n",
    "print(real_val, logical_val)"
   ]
  },
  {
   "cell_type": "code",
   "execution_count": null,
   "metadata": {},
   "outputs": [],
   "source": []
  }
 ],
 "metadata": {
  "anaconda-cloud": {},
  "kernelspec": {
   "display_name": "Python 3",
   "language": "python",
   "name": "python3"
  },
  "language_info": {
   "codemirror_mode": {
    "name": "ipython",
    "version": 3
   },
   "file_extension": ".py",
   "mimetype": "text/x-python",
   "name": "python",
   "nbconvert_exporter": "python",
   "pygments_lexer": "ipython3",
   "version": "3.7.4"
  }
 },
 "nbformat": 4,
 "nbformat_minor": 1
}

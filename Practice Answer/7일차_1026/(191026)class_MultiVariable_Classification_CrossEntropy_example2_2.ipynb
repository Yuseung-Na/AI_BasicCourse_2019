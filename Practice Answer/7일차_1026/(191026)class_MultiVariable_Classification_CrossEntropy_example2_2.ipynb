{
 "cells": [
  {
   "cell_type": "code",
   "execution_count": 1,
   "metadata": {},
   "outputs": [],
   "source": [
    "import numpy as np\n",
    "from datetime import datetime\n",
    "\n",
    "\n",
    "def numerical_derivative(f, x):\n",
    "    delta_x = 1e-4 # 0.0001\n",
    "    grad = np.zeros_like(x)\n",
    "    \n",
    "    it = np.nditer(x, flags=['multi_index'], op_flags=['readwrite'])\n",
    "    \n",
    "    while not it.finished:\n",
    "        idx = it.multi_index        \n",
    "        tmp_val = x[idx]\n",
    "        x[idx] = float(tmp_val) + delta_x\n",
    "        fx1 = f(x) # f(x+delta_x)\n",
    "        \n",
    "        x[idx] = tmp_val - delta_x \n",
    "        fx2 = f(x) # f(x-delta_x)\n",
    "        grad[idx] = (fx1 - fx2) / (2*delta_x)\n",
    "        \n",
    "        x[idx] = tmp_val \n",
    "        it.iternext()   \n",
    "        \n",
    "    return grad\n",
    "\n",
    "\n",
    "def sigmoid(z):\n",
    "    \n",
    "    return 1 / (1+np.exp(-z))"
   ]
  },
  {
   "cell_type": "code",
   "execution_count": 2,
   "metadata": {},
   "outputs": [],
   "source": [
    "class SimpleClassificationTest:\n",
    "    \n",
    "    # constructor\n",
    "    def __init__(self, xdata, tdata, learning_rate, iteration_count):\n",
    "            \n",
    "        # 가중치 W 형상을 자동으로 구하기 위해 입력데이터가 vector 인지,\n",
    "        # 아니면 matrix 인지 체크 후, \n",
    "        # self.xdata 는 무조건 matrix 로 만들어 주면 코드 일관성이 있음\n",
    "        \n",
    "        if xdata.ndim == 1:    # vector\n",
    "            self.xdata = xdata.reshape(len(xdata), 1)\n",
    "            self.tdata = xdata.reshape(len(tdata), 1)\n",
    "            \n",
    "        elif xdata.ndim == 2:  # matrix\n",
    "            self.xdata = xdata\n",
    "            self.tdata = tdata\n",
    "        \n",
    "        self.learning_rate = learning_rate\n",
    "        self.iteration_count = iteration_count\n",
    "        \n",
    "        self.W = np.random.rand(self.xdata.shape[1], 1) \n",
    "        self.b = np.random.rand(1)\n",
    "        \n",
    "        print(\"SimpleClassificationTest Object is created\")\n",
    "        \n",
    "        \n",
    "    # obtain current W and current b\n",
    "    def getW_b(self):\n",
    "        \n",
    "        return self.W, self.b\n",
    "    \n",
    "    \n",
    "    # loss function\n",
    "    def loss_func(self):\n",
    "        \n",
    "        delta = 1e-7    # log 무한대 발산 방지\n",
    "    \n",
    "        z = np.dot(self.xdata, self.W) + self.b\n",
    "        \n",
    "        y = sigmoid(z)\n",
    "    \n",
    "        # cross-entropy \n",
    "        return  -np.sum( self.tdata*np.log(y + delta) + (1-self.tdata)*np.log((1 - y)+delta ) ) \n",
    "        \n",
    "    \n",
    "    # display current error value\n",
    "    def error_val(self):\n",
    "        \n",
    "        delta = 1e-7    # log 무한대 발산 방지\n",
    "    \n",
    "        z = np.dot(self.xdata, self.W) + self.b\n",
    "        \n",
    "        y = sigmoid(z)\n",
    "    \n",
    "        # cross-entropy \n",
    "        return  -np.sum( self.tdata*np.log(y + delta) + (1-self.tdata)*np.log((1 - y)+delta ) ) \n",
    "    \n",
    "    \n",
    "    # predict method\n",
    "    # 학습을 마친 후, 임의의 데이터에 대해 미래 값 예측 함수\n",
    "    # 입력변수 x : numpy type\n",
    "    def predict(self, test_data):\n",
    "    \n",
    "        z = np.dot(test_data, self.W) + self.b\n",
    "        y = sigmoid(z)\n",
    "    \n",
    "        if y >= 0.5:\n",
    "            result = 1  # True\n",
    "        else:\n",
    "            result = 0  # False\n",
    "    \n",
    "        return y, result\n",
    "    \n",
    "    \n",
    "    # train method\n",
    "    def train(self):\n",
    "    \n",
    "        f = lambda x : self.loss_func()\n",
    "\n",
    "        print(\"Initial error value = \", self.error_val() )\n",
    "\n",
    "        start_time = datetime.now()\n",
    "        \n",
    "        for step in  range(self.iteration_count):  \n",
    "    \n",
    "            self.W -= self.learning_rate * numerical_derivative(f, self.W)\n",
    "    \n",
    "            self.b -= self.learning_rate * numerical_derivative(f, self.b)\n",
    "    \n",
    "            if (step % 2000 == 0):\n",
    "                print(\"step = \", step, \"error value = \", self.error_val() )\n",
    "                \n",
    "        end_time = datetime.now()\n",
    "        \n",
    "        print(\"\")\n",
    "        print(\"Elapsed Time => \", end_time - start_time)"
   ]
  },
  {
   "cell_type": "code",
   "execution_count": 3,
   "metadata": {},
   "outputs": [
    {
     "name": "stdout",
     "output_type": "stream",
     "text": [
      "x_data.shape =  (9, 2) , t_data.shape =  (9, 1)\n"
     ]
    }
   ],
   "source": [
    "# 입력데이터 / 정답데이터 세팅\n",
    "\n",
    "x_data = np.array( [ [2, 4], [4, 11], [6, 6], [8, 5], [10, 7], [12, 16], [14, 8], [16, 3], [18, 7] ] )\n",
    "t_data = np.array( [0, 0, 0, 0, 1, 1, 1, 1, 1] ).reshape(9, 1)\n",
    "\n",
    "print(\"x_data.shape = \", x_data.shape, \", t_data.shape = \", t_data.shape)"
   ]
  },
  {
   "cell_type": "markdown",
   "metadata": {},
   "source": [
    "### learning_rate = 1e-2,  반복횟수 100,000번 수행하는 obj1"
   ]
  },
  {
   "cell_type": "code",
   "execution_count": 4,
   "metadata": {},
   "outputs": [
    {
     "name": "stdout",
     "output_type": "stream",
     "text": [
      "SimpleClassificationTest Object is created\n",
      "Initial error value =  34.82967770445934\n",
      "step =  0 error value =  23.981894506205695\n",
      "step =  2000 error value =  0.985355348316244\n",
      "step =  4000 error value =  0.6843878687449099\n",
      "step =  6000 error value =  0.5495576482818462\n",
      "step =  8000 error value =  0.4654402246179459\n",
      "step =  10000 error value =  0.4054385220615895\n",
      "step =  12000 error value =  0.35962862715071825\n",
      "step =  14000 error value =  0.32322120840392393\n",
      "step =  16000 error value =  0.29349503502834956\n",
      "step =  18000 error value =  0.26873433780533956\n",
      "step =  20000 error value =  0.24778200529882008\n",
      "step =  22000 error value =  0.22982101983912873\n",
      "step =  24000 error value =  0.2142548429570493\n",
      "step =  26000 error value =  0.20063646736938504\n",
      "step =  28000 error value =  0.18862381400216224\n",
      "step =  30000 error value =  0.1779504458457872\n",
      "step =  32000 error value =  0.16840567790921387\n",
      "step =  34000 error value =  0.1598206950928773\n",
      "step =  36000 error value =  0.15205864057246504\n",
      "step =  38000 error value =  0.14500740040737775\n",
      "step =  40000 error value =  0.13857426144920632\n",
      "step =  42000 error value =  0.13268189671997055\n",
      "step =  44000 error value =  0.12726530787323628\n",
      "step =  46000 error value =  0.1222694683742542\n",
      "step =  48000 error value =  0.1176474868289437\n",
      "step =  50000 error value =  0.11335916127614683\n",
      "step =  52000 error value =  0.10936983071022811\n",
      "step =  54000 error value =  0.10564945494827027\n",
      "step =  56000 error value =  0.10217187162047633\n",
      "step =  58000 error value =  0.09891419178429453\n",
      "step =  60000 error value =  0.0958563049344844\n",
      "step =  62000 error value =  0.09298047101480615\n",
      "step =  64000 error value =  0.0902709821230508\n",
      "step =  66000 error value =  0.0877138804247438\n",
      "step =  68000 error value =  0.08529672168934929\n",
      "step =  70000 error value =  0.0830083760796894\n",
      "step =  72000 error value =  0.0808388595330103\n",
      "step =  74000 error value =  0.07877919039826253\n",
      "step =  76000 error value =  0.07682126703039523\n",
      "step =  78000 error value =  0.07495776285820623\n",
      "step =  80000 error value =  0.07318203608773388\n",
      "step =  82000 error value =  0.07148805171738823\n",
      "step =  84000 error value =  0.06987031395300639\n",
      "step =  86000 error value =  0.06832380744223063\n",
      "step =  88000 error value =  0.06684394601634144\n",
      "step =  90000 error value =  0.06542652784543963\n",
      "step =  92000 error value =  0.06406769609138332\n",
      "step =  94000 error value =  0.06276390428905655\n",
      "step =  96000 error value =  0.06151188580698722\n",
      "step =  98000 error value =  0.06030862683819855\n",
      "step =  100000 error value =  0.05915134245470784\n",
      "\n",
      "Elapsed Time =>  0:00:35.047611\n"
     ]
    }
   ],
   "source": [
    "obj1 = SimpleClassificationTest(x_data, t_data, 1e-2, 100001)\n",
    "\n",
    "obj1.train()"
   ]
  },
  {
   "cell_type": "code",
   "execution_count": 5,
   "metadata": {},
   "outputs": [
    {
     "name": "stdout",
     "output_type": "stream",
     "text": [
      "[0.1543764] 0\n"
     ]
    }
   ],
   "source": [
    "test_data = np.array([3, 17])\n",
    "\n",
    "(real_val, logical_val) = obj1.predict(test_data)\n",
    "\n",
    "print(real_val, logical_val)"
   ]
  },
  {
   "cell_type": "code",
   "execution_count": 6,
   "metadata": {},
   "outputs": [
    {
     "name": "stdout",
     "output_type": "stream",
     "text": [
      "[0.00071404] 0\n"
     ]
    }
   ],
   "source": [
    "test_data = np.array([5, 8])\n",
    "\n",
    "(real_val, logical_val) = obj1.predict(test_data)\n",
    "\n",
    "print(real_val, logical_val)"
   ]
  },
  {
   "cell_type": "code",
   "execution_count": 7,
   "metadata": {},
   "outputs": [
    {
     "name": "stdout",
     "output_type": "stream",
     "text": [
      "[0.99999641] 1\n"
     ]
    }
   ],
   "source": [
    "test_data = np.array([7, 21])\n",
    "\n",
    "(real_val, logical_val) = obj1.predict(test_data)\n",
    "\n",
    "print(real_val, logical_val)"
   ]
  },
  {
   "cell_type": "code",
   "execution_count": 8,
   "metadata": {},
   "outputs": [
    {
     "name": "stdout",
     "output_type": "stream",
     "text": [
      "[0.59991871] 1\n"
     ]
    }
   ],
   "source": [
    "test_data = np.array([12, 0])\n",
    "\n",
    "(real_val, logical_val) = obj1.predict(test_data)\n",
    "\n",
    "print(real_val, logical_val)"
   ]
  },
  {
   "cell_type": "code",
   "execution_count": 9,
   "metadata": {},
   "outputs": [
    {
     "name": "stdout",
     "output_type": "stream",
     "text": [
      "W =  [[2.40821968]\n",
      " [1.15106883]] , b =  [-28.49350972]\n"
     ]
    }
   ],
   "source": [
    "(W, b) = obj1.getW_b()\n",
    "\n",
    "print('W = ', W, ', b = ', b)"
   ]
  },
  {
   "cell_type": "code",
   "execution_count": null,
   "metadata": {},
   "outputs": [],
   "source": []
  }
 ],
 "metadata": {
  "anaconda-cloud": {},
  "kernelspec": {
   "display_name": "Python 3",
   "language": "python",
   "name": "python3"
  },
  "language_info": {
   "codemirror_mode": {
    "name": "ipython",
    "version": 3
   },
   "file_extension": ".py",
   "mimetype": "text/x-python",
   "name": "python",
   "nbconvert_exporter": "python",
   "pygments_lexer": "ipython3",
   "version": "3.7.3"
  }
 },
 "nbformat": 4,
 "nbformat_minor": 1
}

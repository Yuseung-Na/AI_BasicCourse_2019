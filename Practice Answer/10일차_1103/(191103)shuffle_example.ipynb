{
 "cells": [
  {
   "cell_type": "markdown",
   "metadata": {},
   "source": [
    "### 넘파이 random.shuffle 기능 테스트"
   ]
  },
  {
   "cell_type": "markdown",
   "metadata": {},
   "source": [
    "#### list data 또는 vector data 는 shuffle 인자로 주면 random 하게 섞는다 "
   ]
  },
  {
   "cell_type": "code",
   "execution_count": 1,
   "metadata": {},
   "outputs": [
    {
     "name": "stdout",
     "output_type": "stream",
     "text": [
      "list_data =  [15, 16, 17, 18, 19, 20, 21, 22, 23, 24] , list_data length =  10\n",
      "vector_data =  [ -1   2   5  -5   0   9  15 100  76  99] , vector_data length =  10\n"
     ]
    }
   ],
   "source": [
    "import numpy as np\n",
    "import random\n",
    "\n",
    "\n",
    "# 10개의 list 데이터 생성\n",
    "list_data = [ data for data in range(15, 25) ]\n",
    "\n",
    "print(\"list_data = \", list_data, \", list_data length = \", len(list_data)) \n",
    "\n",
    "\n",
    "# 10개의 vector 데이터 생성\n",
    "vector_data = np.array([-1, 2, 5, -5, 0, 9, 15, 100, 76, 99])\n",
    "\n",
    "print(\"vector_data = \", vector_data, \", vector_data length = \", len(vector_data)) "
   ]
  },
  {
   "cell_type": "code",
   "execution_count": 2,
   "metadata": {},
   "outputs": [
    {
     "name": "stdout",
     "output_type": "stream",
     "text": [
      "list_data =  [23, 16, 15, 24, 17, 18, 20, 22, 21, 19] , list_data length =  10\n",
      "vector_data =  [  5   2  76  99  -5 100   9   0  15  -1] , vector_data length =  10\n"
     ]
    }
   ],
   "source": [
    "# 10개 list 데이터를 임의로 shuffle \n",
    "random.shuffle(list_data)\n",
    "\n",
    "print(\"list_data = \", list_data, \", list_data length = \", len(list_data)) \n",
    "\n",
    "# 10개 vector 데이터를 임의로 shuffle \n",
    "random.shuffle(vector_data)\n",
    "\n",
    "print(\"vector_data = \", vector_data, \", vector_data length = \", len(vector_data)) "
   ]
  },
  {
   "cell_type": "code",
   "execution_count": 4,
   "metadata": {},
   "outputs": [
    {
     "name": "stdout",
     "output_type": "stream",
     "text": [
      "list_data =  [23, 16, 15, 24, 17, 18, 20, 22, 21, 19] , list_data length =  10\n",
      "\n",
      "random_list_data_count =  3\n",
      "\n",
      "\n",
      "vector_data =  [  5   2  76  99  -5 100   9   0  15  -1] , vector_data length =  10\n",
      "\n",
      "random_vector_data_count =  3\n"
     ]
    }
   ],
   "source": [
    "# 분리 비율 30 %\n",
    "seperation_rate = 0.3\n",
    "\n",
    "# list\n",
    "random_list_data_count = int(len(list_data)*seperation_rate)\n",
    "\n",
    "print(\"list_data = \", list_data, \", list_data length = \", len(list_data)) \n",
    "\n",
    "print(\"\\nrandom_list_data_count = \", random_list_data_count)\n",
    "\n",
    "# vector \n",
    "random_vector_data_count = int(len(vector_data)*seperation_rate)\n",
    "\n",
    "print(\"\\n\\nvector_data = \", vector_data, \", vector_data length = \", len(vector_data)) \n",
    "\n",
    "print(\"\\nrandom_vector_data_count = \", random_vector_data_count)"
   ]
  },
  {
   "cell_type": "code",
   "execution_count": 6,
   "metadata": {},
   "outputs": [
    {
     "name": "stdout",
     "output_type": "stream",
     "text": [
      "test data list =  [23, 16, 15] , type(test_data_list) =  <class 'list'>\n",
      "\n",
      "training data list=  [24, 17, 18, 20, 22, 21, 19]\n",
      "\n",
      "list_data  =  [23, 16, 15, 24, 17, 18, 20, 22, 21, 19]\n",
      "\n",
      "\n",
      "test data vector =  [ 5  2 76] , type(test_data_vector) =  <class 'numpy.ndarray'>\n",
      "\n",
      "training data vector=  [ 99  -5 100   9   0  15  -1]\n",
      "\n",
      "vector_data  =  [  5   2  76  99  -5 100   9   0  15  -1]\n"
     ]
    }
   ],
   "source": [
    "# slicing 을 이용하여 list_data 로 부터 training data 와 test data 분리\n",
    "\n",
    "# test data 분리\n",
    "test_data_list = list_data[ :random_list_data_count ]\n",
    "\n",
    "print(\"test data list = \", test_data_list, ', type(test_data_list) = ', type(test_data_list))\n",
    "\n",
    "# training data 분리\n",
    "training_data_list = list_data[ random_list_data_count: ]\n",
    "\n",
    "print(\"\\ntraining data list= \", training_data_list)\n",
    "\n",
    "# list_data 출력\n",
    "\n",
    "print(\"\\nlist_data  = \", list_data)\n",
    "\n",
    "\n",
    "# slicing 을 이용하여 vector 로 부터 training data 와 test data 분리\n",
    "\n",
    "# test data 분리\n",
    "test_data_vector = vector_data[ :random_vector_data_count ]\n",
    "\n",
    "print(\"\\n\\ntest data vector = \", test_data_vector, ', type(test_data_vector) = ', type(test_data_vector))\n",
    "\n",
    "# training data 분리\n",
    "training_data_vector = vector_data[ random_vector_data_count: ]\n",
    "\n",
    "print(\"\\ntraining data vector= \", training_data_vector)\n",
    "\n",
    "# list_data 출력\n",
    "\n",
    "print(\"\\nvector_data  = \", vector_data)"
   ]
  },
  {
   "cell_type": "code",
   "execution_count": 8,
   "metadata": {},
   "outputs": [
    {
     "name": "stdout",
     "output_type": "stream",
     "text": [
      "training_data_1.shape =  (7,) , test_data_1.shape =  (3,)\n",
      "\n",
      "\n",
      "training_data_2.shape =  (7,) , test_data_2.shape =  (3,)\n"
     ]
    }
   ],
   "source": [
    "# 행렬계산을 위해 list 타입인 training data 와 test data 를 numpy 로 변환\n",
    "\n",
    "training_data_1 = np.array(training_data_list)\n",
    "\n",
    "test_data_1 = np.array(test_data_list)\n",
    "\n",
    "print(\"training_data_1.shape = \", training_data_1.shape, \", test_data_1.shape = \", test_data_1.shape)\n",
    "\n",
    "\n",
    "# vector 에 대해서 training data 와 test data 를 numpy 로 변환하여도 문제없음.\n",
    "# 코드의 일관성을 위해 list / vector 모두에 대해서 np.array(...) 수행함\n",
    "\n",
    "training_data_2 = np.array(training_data_vector)\n",
    "\n",
    "test_data_2 = np.array(test_data_vector)\n",
    "\n",
    "print(\"\\n\\ntraining_data_2.shape = \", training_data_2.shape, \", test_data_2.shape = \", test_data_2.shape)"
   ]
  },
  {
   "cell_type": "code",
   "execution_count": 9,
   "metadata": {},
   "outputs": [],
   "source": [
    "# save training & test data (.csv)\n",
    "np.savetxt('./shuffle_training_data_list.csv', training_data_1, delimiter=',')\n",
    "np.savetxt('./shuffle_test_data_list.csv', test_data_1, delimiter=',')\n",
    "\n",
    "# save training & test data (.csv)\n",
    "np.savetxt('./shuffle_training_data_vector.csv', training_data_2, delimiter=',')\n",
    "np.savetxt('./shuffle_test_data_vector.csv', test_data_2, delimiter=',')"
   ]
  }
 ],
 "metadata": {
  "anaconda-cloud": {},
  "kernelspec": {
   "display_name": "Python 3",
   "language": "python",
   "name": "python3"
  },
  "language_info": {
   "codemirror_mode": {
    "name": "ipython",
    "version": 3
   },
   "file_extension": ".py",
   "mimetype": "text/x-python",
   "name": "python",
   "nbconvert_exporter": "python",
   "pygments_lexer": "ipython3",
   "version": "3.7.4"
  }
 },
 "nbformat": 4,
 "nbformat_minor": 1
}

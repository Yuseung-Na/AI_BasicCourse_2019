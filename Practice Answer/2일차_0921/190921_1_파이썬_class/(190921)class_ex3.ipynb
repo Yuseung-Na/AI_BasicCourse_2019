{
 "cells": [
  {
   "cell_type": "markdown",
   "metadata": {},
   "source": [
    "#### 4칙연산 클래스 설계. 반드시 exception 처리 해주어야 함"
   ]
  },
  {
   "cell_type": "code",
   "execution_count": 1,
   "metadata": {},
   "outputs": [],
   "source": [
    "class MyCalc:\n",
    "    \n",
    "    def __init__(self, x, y):\n",
    "        \n",
    "        self.x = x\n",
    "        self.y = y\n",
    "        \n",
    "        print('MyCalc object is constructed !!')\n",
    "        \n",
    "    def summation(self):\n",
    "        \n",
    "        return self.x + self.y\n",
    "    \n",
    "    def subtract(self):\n",
    "        \n",
    "        return self.x - self.y\n",
    "    \n",
    "    def multiply(self):\n",
    "        \n",
    "        return self.x * self.y\n",
    "    \n",
    "    def divide(self):\n",
    "        \n",
    "        if self.x == 0:\n",
    "            \n",
    "            raise Exception('Divide By Zero')\n",
    "            \n",
    "        else:\n",
    "            \n",
    "            return self.x / self.y"
   ]
  },
  {
   "cell_type": "markdown",
   "metadata": {},
   "source": [
    "#### 정상적인 연산"
   ]
  },
  {
   "cell_type": "code",
   "execution_count": 2,
   "metadata": {},
   "outputs": [
    {
     "name": "stdout",
     "output_type": "stream",
     "text": [
      "MyCalc object is constructed !!\n",
      "30\n",
      "-10\n",
      "200\n",
      "0.5\n",
      "Done !!\n"
     ]
    }
   ],
   "source": [
    "# Mycalc Object 생성\n",
    "obj1 = MyCalc(10, 20)\n",
    "\n",
    "try:\n",
    "    print(obj1.summation())\n",
    "    \n",
    "    print(obj1.subtract())\n",
    "    \n",
    "    print(obj1.multiply())\n",
    "    \n",
    "    print(obj1.divide())\n",
    "    \n",
    "except Exception as err:\n",
    "    \n",
    "    print(str(err))\n",
    "    \n",
    "finally:\n",
    "    \n",
    "    print('Done !!')"
   ]
  },
  {
   "cell_type": "markdown",
   "metadata": {},
   "source": [
    "#### 0 으로 나누는 경우 Exception 처리"
   ]
  },
  {
   "cell_type": "code",
   "execution_count": 3,
   "metadata": {},
   "outputs": [
    {
     "name": "stdout",
     "output_type": "stream",
     "text": [
      "MyCalc object is constructed !!\n",
      "20\n",
      "-20\n",
      "0\n",
      "Divide By Zero\n",
      "Done !!\n"
     ]
    }
   ],
   "source": [
    "# Mycalc Object 생성\n",
    "obj2 = MyCalc(0, 20)\n",
    "\n",
    "try:\n",
    "    print(obj2.summation())\n",
    "    \n",
    "    print(obj2.subtract())\n",
    "    \n",
    "    print(obj2.multiply())\n",
    "    \n",
    "    print(obj2.divide())\n",
    "    \n",
    "except Exception as err:\n",
    "    \n",
    "    print(str(err))\n",
    "    \n",
    "finally:\n",
    "    \n",
    "    print('Done !!')"
   ]
  },
  {
   "cell_type": "markdown",
   "metadata": {},
   "source": [
    "#### 0 으로 나누는 경우 Exception 처리 해주지 않는 경우"
   ]
  },
  {
   "cell_type": "code",
   "execution_count": 4,
   "metadata": {},
   "outputs": [
    {
     "name": "stdout",
     "output_type": "stream",
     "text": [
      "MyCalc object is constructed !!\n",
      "20\n",
      "-20\n",
      "0\n"
     ]
    },
    {
     "ename": "Exception",
     "evalue": "Divide By Zero",
     "output_type": "error",
     "traceback": [
      "\u001b[1;31m---------------------------------------------------------------------------\u001b[0m",
      "\u001b[1;31mException\u001b[0m                                 Traceback (most recent call last)",
      "\u001b[1;32m<ipython-input-4-e9df904422f1>\u001b[0m in \u001b[0;36m<module>\u001b[1;34m\u001b[0m\n\u001b[0;32m      8\u001b[0m \u001b[0mprint\u001b[0m\u001b[1;33m(\u001b[0m\u001b[0mobj3\u001b[0m\u001b[1;33m.\u001b[0m\u001b[0mmultiply\u001b[0m\u001b[1;33m(\u001b[0m\u001b[1;33m)\u001b[0m\u001b[1;33m)\u001b[0m\u001b[1;33m\u001b[0m\u001b[1;33m\u001b[0m\u001b[0m\n\u001b[0;32m      9\u001b[0m \u001b[1;33m\u001b[0m\u001b[0m\n\u001b[1;32m---> 10\u001b[1;33m \u001b[0mprint\u001b[0m\u001b[1;33m(\u001b[0m\u001b[0mobj3\u001b[0m\u001b[1;33m.\u001b[0m\u001b[0mdivide\u001b[0m\u001b[1;33m(\u001b[0m\u001b[1;33m)\u001b[0m\u001b[1;33m)\u001b[0m\u001b[1;33m\u001b[0m\u001b[1;33m\u001b[0m\u001b[0m\n\u001b[0m",
      "\u001b[1;32m<ipython-input-1-31007f345a12>\u001b[0m in \u001b[0;36mdivide\u001b[1;34m(self)\u001b[0m\n\u001b[0;32m     24\u001b[0m         \u001b[1;32mif\u001b[0m \u001b[0mself\u001b[0m\u001b[1;33m.\u001b[0m\u001b[0mx\u001b[0m \u001b[1;33m==\u001b[0m \u001b[1;36m0\u001b[0m\u001b[1;33m:\u001b[0m\u001b[1;33m\u001b[0m\u001b[1;33m\u001b[0m\u001b[0m\n\u001b[0;32m     25\u001b[0m \u001b[1;33m\u001b[0m\u001b[0m\n\u001b[1;32m---> 26\u001b[1;33m             \u001b[1;32mraise\u001b[0m \u001b[0mException\u001b[0m\u001b[1;33m(\u001b[0m\u001b[1;34m'Divide By Zero'\u001b[0m\u001b[1;33m)\u001b[0m\u001b[1;33m\u001b[0m\u001b[1;33m\u001b[0m\u001b[0m\n\u001b[0m\u001b[0;32m     27\u001b[0m \u001b[1;33m\u001b[0m\u001b[0m\n\u001b[0;32m     28\u001b[0m         \u001b[1;32melse\u001b[0m\u001b[1;33m:\u001b[0m\u001b[1;33m\u001b[0m\u001b[1;33m\u001b[0m\u001b[0m\n",
      "\u001b[1;31mException\u001b[0m: Divide By Zero"
     ]
    }
   ],
   "source": [
    "# Mycalc Object 생성\n",
    "obj3 = MyCalc(0, 20)\n",
    "\n",
    "print(obj3.summation())\n",
    "\n",
    "print(obj3.subtract())\n",
    "\n",
    "print(obj3.multiply())\n",
    "\n",
    "print(obj3.divide())"
   ]
  },
  {
   "cell_type": "code",
   "execution_count": null,
   "metadata": {},
   "outputs": [],
   "source": []
  }
 ],
 "metadata": {
  "kernelspec": {
   "display_name": "Python 3",
   "language": "python",
   "name": "python3"
  },
  "language_info": {
   "codemirror_mode": {
    "name": "ipython",
    "version": 3
   },
   "file_extension": ".py",
   "mimetype": "text/x-python",
   "name": "python",
   "nbconvert_exporter": "python",
   "pygments_lexer": "ipython3",
   "version": "3.7.4"
  }
 },
 "nbformat": 4,
 "nbformat_minor": 2
}

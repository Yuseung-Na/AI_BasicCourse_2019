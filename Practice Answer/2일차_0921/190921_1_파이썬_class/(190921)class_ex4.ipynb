{
 "cells": [
  {
   "cell_type": "code",
   "execution_count": 1,
   "metadata": {},
   "outputs": [],
   "source": [
    "class MyFile:\n",
    "    \n",
    "    def __init__(self):\n",
    "        \n",
    "        print(\"MyFile object is constructed\")\n",
    "        \n",
    "    def save_file(self, str):\n",
    "        \n",
    "        try:            \n",
    "            with open('./text_file.txt', 'a') as f:\n",
    "            \n",
    "                f.write(str)                \n",
    "                print('write success\\n')\n",
    "                \n",
    "        except Exception as err:   \n",
    "            \n",
    "            print(str(err))            \n",
    "            raise Exception('File Write Error')\n",
    "            \n",
    "    # 현재 디렉토리에서 text_file.txt 읽음        \n",
    "    def read_file(self):\n",
    "        \n",
    "        try:            \n",
    "            with open('./text_file.txt', 'r') as f1:\n",
    "                            \n",
    "                data1 = f1.read()\n",
    "                print('using read()')\n",
    "                print(data1)\n",
    "                \n",
    "            with open('./text_file.txt', 'r') as f2:\n",
    "                \n",
    "                # readlines 함수는 파일의 모든 줄을 읽어서 각각의 줄을 요소로 갖는 리스트로 돌려줌\n",
    "                lines = f2.readlines()  \n",
    "                print('using readlines()')\n",
    "                print('type(lines) = ', type(lines))\n",
    "                print('lines = ', lines)\n",
    "                \n",
    "                for line in lines:\n",
    "                    print(line)  \n",
    "                \n",
    "        except Exception as err:   \n",
    "            \n",
    "            print(str(err))            \n",
    "            raise Exception('File Read Error')"
   ]
  },
  {
   "cell_type": "code",
   "execution_count": 2,
   "metadata": {},
   "outputs": [
    {
     "name": "stdout",
     "output_type": "stream",
     "text": [
      "MyFile object is constructed\n"
     ]
    }
   ],
   "source": [
    "# MyFile object 생성\n",
    "\n",
    "obj1 = MyFile()"
   ]
  },
  {
   "cell_type": "markdown",
   "metadata": {},
   "source": [
    "#### 파일이 없을때 Exception 처리 하지 않는 경우"
   ]
  },
  {
   "cell_type": "code",
   "execution_count": 3,
   "metadata": {},
   "outputs": [
    {
     "name": "stdout",
     "output_type": "stream",
     "text": [
      "[Errno 2] No such file or directory: './text_file.txt'\n"
     ]
    },
    {
     "ename": "Exception",
     "evalue": "File Read Error",
     "output_type": "error",
     "traceback": [
      "\u001b[1;31m---------------------------------------------------------------------------\u001b[0m",
      "\u001b[1;31mFileNotFoundError\u001b[0m                         Traceback (most recent call last)",
      "\u001b[1;32m<ipython-input-1-ad40a28c2fe1>\u001b[0m in \u001b[0;36mread_file\u001b[1;34m(self)\u001b[0m\n\u001b[0;32m     23\u001b[0m         \u001b[1;32mtry\u001b[0m\u001b[1;33m:\u001b[0m\u001b[1;33m\u001b[0m\u001b[1;33m\u001b[0m\u001b[0m\n\u001b[1;32m---> 24\u001b[1;33m             \u001b[1;32mwith\u001b[0m \u001b[0mopen\u001b[0m\u001b[1;33m(\u001b[0m\u001b[1;34m'./text_file.txt'\u001b[0m\u001b[1;33m,\u001b[0m \u001b[1;34m'r'\u001b[0m\u001b[1;33m)\u001b[0m \u001b[1;32mas\u001b[0m \u001b[0mf1\u001b[0m\u001b[1;33m:\u001b[0m\u001b[1;33m\u001b[0m\u001b[1;33m\u001b[0m\u001b[0m\n\u001b[0m\u001b[0;32m     25\u001b[0m \u001b[1;33m\u001b[0m\u001b[0m\n",
      "\u001b[1;31mFileNotFoundError\u001b[0m: [Errno 2] No such file or directory: './text_file.txt'",
      "\nDuring handling of the above exception, another exception occurred:\n",
      "\u001b[1;31mException\u001b[0m                                 Traceback (most recent call last)",
      "\u001b[1;32m<ipython-input-3-735f5e8d8db3>\u001b[0m in \u001b[0;36m<module>\u001b[1;34m\u001b[0m\n\u001b[1;32m----> 1\u001b[1;33m \u001b[0mobj1\u001b[0m\u001b[1;33m.\u001b[0m\u001b[0mread_file\u001b[0m\u001b[1;33m(\u001b[0m\u001b[1;33m)\u001b[0m\u001b[1;33m\u001b[0m\u001b[1;33m\u001b[0m\u001b[0m\n\u001b[0m",
      "\u001b[1;32m<ipython-input-1-ad40a28c2fe1>\u001b[0m in \u001b[0;36mread_file\u001b[1;34m(self)\u001b[0m\n\u001b[0;32m     42\u001b[0m \u001b[1;33m\u001b[0m\u001b[0m\n\u001b[0;32m     43\u001b[0m             \u001b[0mprint\u001b[0m\u001b[1;33m(\u001b[0m\u001b[0mstr\u001b[0m\u001b[1;33m(\u001b[0m\u001b[0merr\u001b[0m\u001b[1;33m)\u001b[0m\u001b[1;33m)\u001b[0m\u001b[1;33m\u001b[0m\u001b[1;33m\u001b[0m\u001b[0m\n\u001b[1;32m---> 44\u001b[1;33m             \u001b[1;32mraise\u001b[0m \u001b[0mException\u001b[0m\u001b[1;33m(\u001b[0m\u001b[1;34m'File Read Error'\u001b[0m\u001b[1;33m)\u001b[0m\u001b[1;33m\u001b[0m\u001b[1;33m\u001b[0m\u001b[0m\n\u001b[0m",
      "\u001b[1;31mException\u001b[0m: File Read Error"
     ]
    }
   ],
   "source": [
    "obj1.read_file()"
   ]
  },
  {
   "cell_type": "markdown",
   "metadata": {},
   "source": [
    "#### 파일이 없을때 Exception 처리"
   ]
  },
  {
   "cell_type": "code",
   "execution_count": 4,
   "metadata": {},
   "outputs": [
    {
     "name": "stdout",
     "output_type": "stream",
     "text": [
      "[Errno 2] No such file or directory: './text_file.txt'\n",
      "File Read Error\n"
     ]
    }
   ],
   "source": [
    "try:\n",
    "    obj1.read_file()\n",
    "    \n",
    "except Exception as err:\n",
    "    \n",
    "    print(str(err))"
   ]
  },
  {
   "cell_type": "markdown",
   "metadata": {},
   "source": [
    "#### text_file.txt 생성 및 저장"
   ]
  },
  {
   "cell_type": "code",
   "execution_count": 5,
   "metadata": {},
   "outputs": [
    {
     "name": "stdout",
     "output_type": "stream",
     "text": [
      "write success\n",
      "\n",
      "write success\n",
      "\n",
      "write success\n",
      "\n"
     ]
    }
   ],
   "source": [
    "try:\n",
    "    obj1.save_file('1st string\\n')\n",
    "    obj1.save_file('2nd string\\n')\n",
    "    obj1.save_file('3rd string\\n')\n",
    "    \n",
    "except Exception as err:\n",
    "    \n",
    "    print(str(err))"
   ]
  },
  {
   "cell_type": "markdown",
   "metadata": {},
   "source": [
    "#### 파일 읽어서 화면에 표시"
   ]
  },
  {
   "cell_type": "code",
   "execution_count": 6,
   "metadata": {},
   "outputs": [
    {
     "name": "stdout",
     "output_type": "stream",
     "text": [
      "using read()\n",
      "1st string\n",
      "2nd string\n",
      "3rd string\n",
      "\n",
      "using readlines()\n",
      "type(lines) =  <class 'list'>\n",
      "lines =  ['1st string\\n', '2nd string\\n', '3rd string\\n']\n",
      "1st string\n",
      "\n",
      "2nd string\n",
      "\n",
      "3rd string\n",
      "\n"
     ]
    }
   ],
   "source": [
    "try:\n",
    "    obj1.read_file()\n",
    "    \n",
    "except Exception as err:\n",
    "    \n",
    "    print(str(err))"
   ]
  },
  {
   "cell_type": "code",
   "execution_count": null,
   "metadata": {},
   "outputs": [],
   "source": []
  }
 ],
 "metadata": {
  "kernelspec": {
   "display_name": "Python 3",
   "language": "python",
   "name": "python3"
  },
  "language_info": {
   "codemirror_mode": {
    "name": "ipython",
    "version": 3
   },
   "file_extension": ".py",
   "mimetype": "text/x-python",
   "name": "python",
   "nbconvert_exporter": "python",
   "pygments_lexer": "ipython3",
   "version": "3.7.4"
  }
 },
 "nbformat": 4,
 "nbformat_minor": 2
}
